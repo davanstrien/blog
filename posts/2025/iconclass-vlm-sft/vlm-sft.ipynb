{
 "cells": [
  {
   "cell_type": "markdown",
   "id": "407f6521",
   "metadata": {},
   "source": [
    "---\n",
    "title: \"Fine tuning a VLM using TRL and Hugging Face Jobs\"\n",
    "description: \"This tutorial covers the process of fine-tuning a Vision-Language Model (VLM) using the TRL library and Hugging Face Jobs for creating a specialized model.\"\n",
    "author: \"Daniel van Strien\"\n",
    "categories: [\"huggingface\", \"uv-scripts\", \"vlm\", \"hf Jobs\"]\n",
    "image: https://github.com/davanstrien/blog/blob/main/posts/2025/iconclass-vlm-sft/assets/iconclass-post-visual.png?raw=true\n",
    "twitter-card:\n",
    "  title: \"Fine-tuning a VLM for art history with TRL and HF Jobs\"\n",
    "  description: \"Learn how to fine-tune vision-language models for specialized tasks like Iconclass metadata generation using TRL's VLM support and Hugging Face Jobs - no local GPU required!\"\n",
    "  image: https://github.com/davanstrien/blog/blob/main/posts/2025/iconclass-vlm-sft/assets/iconclass-post-visual.png?raw=true\n",
    "  card-style: summary_large_image\n",
    "open-graph:\n",
    "  title: \"Fine-tuning a VLM for art history with TRL and HF Jobs\"\n",
    "  description: \"Learn how to fine-tune vision-language models for specialized tasks like Iconclass metadata generation using TRL's VLM support and Hugging Face Jobs - no local GPU required!\"\n",
    "  image: https://github.com/davanstrien/blog/blob/main/posts/2025/iconclass-vlm-sft/assets/iconclass-post-visual.png?raw=true\n",
    "toc-depth: 3\n",
    "toc: true\n",
    "---"
   ]
  },
  {
   "cell_type": "markdown",
   "id": "757ab285",
   "metadata": {},
   "source": [
    "## Fine tuning a Qwen model to assign art history metadata \n",
    "\n",
    "Open VLMs have become increasingly competitive with proprietary models but all models (including proprietary) can face challenges in adapting to specific domains like art history. Using supervised fine tuning can help improve a model's performance on specialized tasks like this.\n",
    "\n",
    "Recently, [TRL](https://github.com/huggingface/trl) a very popular library for training transformers models using a variety of training approaches added support for supervised fine tuning of VLMs! Combined with the recently released HF Jobs service we can use TRL to do SFT on a VLM with no local GPU setup required!"
   ]
  },
  {
   "cell_type": "markdown",
   "id": "b89b8353",
   "metadata": {},
   "source": [
    "### Iconclass metadata\n",
    "\n",
    "In this post, I'll use the example of using SFT to train a model to generate Iconclass metadata for artworks.\n",
    "\n",
    "> The Iconclass system has a history reaching back into the 1940’s when Henri van de Waal began to develop ideas for a universal classification for the subject matter of works of art. [^1]\n",
    "\n",
    "The Iconclass metadata system consists of a hierarchical structure of categories and subcategories, allowing for a detailed description of the content of artworks. The top level categories are:\n",
    "\n",
    "```\n",
    "0 · Abstract, Non-representational Art\n",
    "1 · Religion and Magic\n",
    "2 · Nature\n",
    "3 · Human Being, Man in General\n",
    "4 · Society, Civilization, Culture\n",
    "5 · Abstract Ideas and Concepts\n",
    "6 · History\n",
    "7 · Bible\n",
    "8 · Literature\n",
    "9 · Classical Mythology and Ancient History\n",
    "```\n",
    "\n",
    "Within these are more specific subcategories that allow for even greater detail in the classification of artworks (you can find more detailed info on the system below)\n",
    "\n",
    "::: {.callout-note collapse=\"true\"}\n",
    "\n",
    "## More detail on how the Iconclass system works\n",
    "\n",
    "Underneath each main category, there are numerous subcategories that further refine the classification. \n",
    "\n",
    "For example under 3 (Human Being, Man in General), we find subcategories such as:\n",
    "\n",
    "![](https://github.com/davanstrien/blog/blob/69a4371424e1ec7d1c446373ab75825b4baaf334/posts/2025/iconclass-vlm-sft/assets/iconclass-level-1.png?raw=true)\n",
    "\n",
    "We then move down the hierarchy levels we see more specific subcategories:\n",
    "\n",
    "![](https://github.com/davanstrien/blog/blob/69a4371424e1ec7d1c446373ab75825b4baaf334/posts/2025/iconclass-vlm-sft/assets/iconclass-level-2.png?raw=true)\n",
    "\n",
    "As we move further \"down\" the hierarchy levels we see even more specific subcategories such as 31F12 (bones (symbol of Death) 🤘)\n",
    "![](https://github.com/davanstrien/blog/blob/69a4371424e1ec7d1c446373ab75825b4baaf334/posts/2025/iconclass-vlm-sft/assets/iconclass-level-3.png?raw=true)\n",
    ":::"
   ]
  },
  {
   "cell_type": "markdown",
   "id": "e5961cb5",
   "metadata": {},
   "source": [
    "## Training the model\n",
    "\n",
    "Now we have a better sense of the task we'll go through the process of fine-tuning a VLM using TRL to generate Iconclass metadata for artworks."
   ]
  },
  {
   "cell_type": "markdown",
   "id": "b06be4d0",
   "metadata": {},
   "source": [
    "### Preparing a dataset\n",
    "\n",
    "The steps to train a VLM using SFT are very minimal when using TRL. The main thing we need to take care of is finding or preparing a dataset in the [right format](https://huggingface.co/docs/trl/en/dataset_formats#vision-datasets).\n",
    "\n",
    "Fortunately, there is already a dataset available on Hugging Face that contains images of artworks along with their corresponding Iconclass metadata. \n",
    "\n",
    "The [biglam/brill_iconclass](https://huggingface.co/datasets/biglam/brill_iconclass) dataset, which is part of the [BigLAM](https://huggingface.co/biglam) organization on the Hub, consists of artworks from the Brill collection, each annotated with Iconclass codes. We can see a preview of this here:\n",
    "\n",
    "<iframe\n",
    "  src=\"https://huggingface.co/datasets/biglam/brill_iconclass/embed/viewer/default/train\"\n",
    "  frameborder=\"0\"\n",
    "  width=\"100%\"\n",
    "  height=\"560px\"\n",
    "></iframe>\n",
    "\n",
    "We'll need to do some work to get this dataset into the right format for training but this is fairly minimal. \n"
   ]
  },
  {
   "cell_type": "markdown",
   "id": "918ea34f",
   "metadata": {},
   "source": [
    "We'll start with loading the dataset and inspecting its current features."
   ]
  },
  {
   "cell_type": "code",
   "execution_count": 2,
   "id": "8e64d96f",
   "metadata": {},
   "outputs": [
    {
     "data": {
      "application/vnd.jupyter.widget-view+json": {
       "model_id": "3a82ce32db514441b787ed56d517d959",
       "version_major": 2,
       "version_minor": 0
      },
      "text/plain": [
       "README.md: 0.00B [00:00, ?B/s]"
      ]
     },
     "metadata": {},
     "output_type": "display_data"
    },
    {
     "data": {
      "application/vnd.jupyter.widget-view+json": {
       "model_id": "dc6f227d23eb4b33b72100253b87b6b2",
       "version_major": 2,
       "version_minor": 0
      },
      "text/plain": [
       "Generating train split:   0%|          | 0/87744 [00:00<?, ? examples/s]"
      ]
     },
     "metadata": {},
     "output_type": "display_data"
    },
    {
     "data": {
      "text/plain": [
       "{'image': Image(mode=None, decode=True), 'label': List(Value('string'))}"
      ]
     },
     "execution_count": 2,
     "metadata": {},
     "output_type": "execute_result"
    }
   ],
   "source": [
    "from datasets import load_dataset\n",
    "\n",
    "ds = load_dataset(\"biglam/brill_iconclass\", split=\"train\")\n",
    "ds.features"
   ]
  },
  {
   "cell_type": "markdown",
   "id": "a6f09511",
   "metadata": {},
   "source": [
    "We can see we currently have two columns (image column and text column) in our dataset. We can also take a quick look at the first row"
   ]
  },
  {
   "cell_type": "code",
   "execution_count": 3,
   "id": "3b86ef55",
   "metadata": {},
   "outputs": [
    {
     "data": {
      "text/plain": [
       "{'image': <PIL.JpegImagePlugin.JpegImageFile image mode=RGB size=390x500>,\n",
       " 'label': ['31A235', '31A24(+1)', '61B(+54)', '61B:31A2212(+1)', '61B:31D14']}"
      ]
     },
     "execution_count": 3,
     "metadata": {},
     "output_type": "execute_result"
    }
   ],
   "source": [
    "ds[0]"
   ]
  },
  {
   "cell_type": "markdown",
   "id": "070571d1",
   "metadata": {},
   "source": [
    "We see that `label` consists of a list of iconclass codes. Let's look at an example image:\n"
   ]
  },
  {
   "cell_type": "code",
   "execution_count": 4,
   "id": "cc3de707",
   "metadata": {},
   "outputs": [
    {
     "data": {
      "image/jpeg": "[encoded data removed]",
      "image/png": "[encoded data removed]",
      "text/plain": [
       "<PIL.JpegImagePlugin.JpegImageFile image mode=RGB size=390x500>"
      ]
     },
     "execution_count": 4,
     "metadata": {},
     "output_type": "execute_result"
    }
   ],
   "source": [
    "ds[0]['image']"
   ]
  },
  {
   "cell_type": "markdown",
   "id": "35d1ed54",
   "metadata": {},
   "source": [
    "### Formatting the Dataset for TRL\n",
    "\n",
    "As we can see in the [TRL docs](https://huggingface.co/docs/trl/en/dataset_formats#vision-datasets) for using TRL with VLMs we need a dataset with a column of images (formated as a list of images) and a column containing messages, i.e. something like this\n",
    "\n",
    "```\n",
    "image column: List[Image]\n",
    "text scolumn: [\n",
    "  {\n",
    "    \"content\": [\n",
    "      {\n",
    "        \"text\": null,\n",
    "        \"type\": \"image\"\n",
    "      },\n",
    "      {\n",
    "        \"text\": \"Please describe this artwork thoroughly.\",\n",
    "        \"type\": \"text\"\n",
    "      }\n",
    "    ],\n",
    "    \"role\": \"user\"\n",
    "  }\n",
    "]\n",
    "```\n",
    "\n",
    "We'll see how to format our dataset accordingly in the next section so this should become clearer!"
   ]
  },
  {
   "cell_type": "markdown",
   "id": "6e4ef046",
   "metadata": {},
   "source": [
    "::: {.callout-tip}\n",
    "For this particular dataset I double check that the images are RGB and not too big. This isn't always required but since GLAM (Galleries, Libraries, Archives, and Museums) datasets can contain very large images/ a lot of black and white images, I do it here as an extra precaution!\n",
    ":::"
   ]
  },
  {
   "cell_type": "code",
   "execution_count": 7,
   "id": "3b4f8589",
   "metadata": {},
   "outputs": [
    {
     "data": {
      "application/vnd.jupyter.widget-view+json": {
       "model_id": "f035f8258aa04a4ab8b83ab13ba7f898",
       "version_major": 2,
       "version_minor": 0
      },
      "text/plain": [
       "Map (num_proc=4):   0%|          | 0/87744 [00:00<?, ? examples/s]"
      ]
     },
     "metadata": {},
     "output_type": "display_data"
    }
   ],
   "source": [
    "#| code-fold: true\n",
    "#| code-summary: \"Show pre processing code\"\n",
    "def ensure_rgb(example):\n",
    "    \"\"\"Ensure image is RGB\"\"\"\n",
    "    if example['image'].mode != 'RGB':\n",
    "        example['image'] = example['image'].convert('RGB')\n",
    "    return example\n",
    "\n",
    "def ensure_size(example, max_size):\n",
    "    \"\"\"Resize to max_size on one edge keeping aspect ratio correct\"\"\"\n",
    "    image = example['image']\n",
    "    w, h = image.size\n",
    "    if max(w, h) > max_size:\n",
    "        scale = max_size / float(max(w, h))\n",
    "        new_size = (int(w * scale), int(h * scale))\n",
    "        image = image.resize(new_size, Image.LANCZOS)\n",
    "    example['image'] = image\n",
    "    return example\n",
    "\n",
    "ds = ds.map(ensure_rgb, num_proc=4)"
   ]
  },
  {
   "cell_type": "markdown",
   "id": "3b5da4f6",
   "metadata": {},
   "source": [
    "We need to convert our dataset to the messages format. We can do this using the `datasets` library's `map` function to transform each example in the dataset. We'll create a `format_as_messages` function to handle the conversion for each example.\n",
    "\n",
    "In this particular example I want the VLM to output JSON containing a key `iconclass-codes` with a list/array of iconclass codes so we use `json.dumps` to format a dictionary into a JSON string we can include in the messages as the assistant's response."
   ]
  },
  {
   "cell_type": "code",
   "execution_count": 8,
   "id": "3f69f084",
   "metadata": {},
   "outputs": [],
   "source": [
    "from typing import Dict, Any\n",
    "import json\n",
    "\n",
    "\n",
    "def format_as_messages(\n",
    "    example: Dict[str, Any], prompt: str | None = None\n",
    ") -> Dict[str, Any]:\n",
    "    \"\"\"Format single example into messages format for TRL.\"\"\"\n",
    "    if not prompt:\n",
    "        prompt = \"What is in this image?\"\n",
    "    labels = example[\"label\"]\n",
    "    response = {\"iconclass-codes\": labels}\n",
    "    messages = [\n",
    "        {\n",
    "            \"role\": \"user\",\n",
    "            \"content\": [\n",
    "                {\"type\": \"image\"},\n",
    "                {\"type\": \"text\", \"text\": prompt},\n",
    "            ],\n",
    "        },\n",
    "        {\n",
    "            \"role\": \"assistant\",\n",
    "            \"content\": [{\"type\": \"text\", \"text\": json.dumps(response)}],\n",
    "        },\n",
    "    ]\n",
    "\n",
    "    return {\n",
    "        \"images\": [example[\"image\"]],  # List with single image\n",
    "        \"messages\": messages,\n",
    "    }"
   ]
  },
  {
   "cell_type": "markdown",
   "id": "993cac96",
   "metadata": {},
   "source": [
    "::: {.callout-tip}\n",
    "It might seem a bit weird that we pass images to a list in this case but this is done so we can also support datasets where multiple images are included in a message(s).\n",
    ":::"
   ]
  },
  {
   "cell_type": "markdown",
   "id": "1ab198f2",
   "metadata": {},
   "source": [
    "We can now apply the `format_as_messages` function to our dataset using the `map` function. We'll use a simple prompt for the VLM to follow."
   ]
  },
  {
   "cell_type": "code",
   "execution_count": 9,
   "id": "742ab7c2",
   "metadata": {},
   "outputs": [
    {
     "data": {
      "application/vnd.jupyter.widget-view+json": {
       "model_id": "e1b095f8e5974e68b23572659892bb21",
       "version_major": 2,
       "version_minor": 0
      },
      "text/plain": [
       "Map (num_proc=6):   0%|          | 0/87744 [00:00<?, ? examples/s]"
      ]
     },
     "metadata": {},
     "output_type": "display_data"
    }
   ],
   "source": [
    "ds = ds.map(\n",
    "    format_as_messages,\n",
    "    remove_columns=[\"image\", \"label\"],\n",
    "    num_proc=6,\n",
    "    fn_kwargs={\"prompt\": \"Extract ICONCLASS labels for this image.\"},\n",
    ")"
   ]
  },
  {
   "cell_type": "markdown",
   "id": "43231701",
   "metadata": {},
   "source": [
    "Let's take a look at the dataset after formatting:\n"
   ]
  },
  {
   "cell_type": "code",
   "execution_count": 12,
   "id": "47263dc7",
   "metadata": {},
   "outputs": [
    {
     "data": {
      "text/plain": [
       "{'images': [<PIL.JpegImagePlugin.JpegImageFile image mode=RGB size=390x500>],\n",
       " 'messages': [{'content': [{'text': None, 'type': 'image'},\n",
       "    {'text': 'Extract ICONCLASS labels for this image.', 'type': 'text'}],\n",
       "   'role': 'user'},\n",
       "  {'content': [{'text': '{\"iconclass-codes\": [\"31A235\", \"31A24(+1)\", \"61B(+54)\", \"61B:31A2212(+1)\", \"61B:31D14\"]}',\n",
       "     'type': 'text'}],\n",
       "   'role': 'assistant'}]}"
      ]
     },
     "execution_count": 12,
     "metadata": {},
     "output_type": "execute_result"
    }
   ],
   "source": [
    "ds[0]"
   ]
  },
  {
   "cell_type": "markdown",
   "id": "f9b626ed",
   "metadata": {},
   "source": [
    "We now split the dataset into train, validation, and test sets. For reasons that will become clearer in a future blog post we actually want to keep quite a bit of data back for later work so we'll define these splits a bit more manually than usual!"
   ]
  },
  {
   "cell_type": "code",
   "execution_count": 14,
   "id": "ac94b6ec",
   "metadata": {},
   "outputs": [],
   "source": [
    "from datasets import DatasetDict\n",
    "\n",
    "# Step 1: Split off 5% for test\n",
    "split = ds.train_test_split(test_size=0.05, seed=42)\n",
    "train_valid = split[\"train\"]\n",
    "test_ds = split[\"test\"]\n",
    "\n",
    "# Step 2: Split the remaining 95% into train and valid\n",
    "train_valid_split = train_valid.train_test_split(test_size=0.4737, seed=42)\n",
    "train_ds = train_valid_split[\"train\"]\n",
    "valid_ds = train_valid_split[\"test\"]\n",
    "\n",
    "# Combine into a DatasetDict\n",
    "\n",
    "ds = DatasetDict({\"train\": train_ds, \"valid\": valid_ds, \"test\": test_ds})"
   ]
  },
  {
   "cell_type": "code",
   "execution_count": 15,
   "id": "69831e8b",
   "metadata": {},
   "outputs": [
    {
     "data": {
      "text/plain": [
       "DatasetDict({\n",
       "    train: Dataset({\n",
       "        features: ['images', 'messages'],\n",
       "        num_rows: 43870\n",
       "    })\n",
       "    valid: Dataset({\n",
       "        features: ['images', 'messages'],\n",
       "        num_rows: 39486\n",
       "    })\n",
       "    test: Dataset({\n",
       "        features: ['images', 'messages'],\n",
       "        num_rows: 4388\n",
       "    })\n",
       "})"
      ]
     },
     "execution_count": 15,
     "metadata": {},
     "output_type": "execute_result"
    }
   ],
   "source": [
    "ds"
   ]
  },
  {
   "cell_type": "markdown",
   "id": "04d7bd53",
   "metadata": {},
   "source": [
    "### Push to Hub\n",
    "We'll now push the dataset to the Hugging Face Hub so that it's easily accessible for others (and for us in the future!). We'll first use `flatten_indices` since we did quite a few transformations on the dataset.\n"
   ]
  },
  {
   "cell_type": "code",
   "execution_count": 16,
   "id": "31f1ed84",
   "metadata": {},
   "outputs": [
    {
     "data": {
      "application/vnd.jupyter.widget-view+json": {
       "model_id": "386cdaaa88e541889dbc3bf042fcd451",
       "version_major": 2,
       "version_minor": 0
      },
      "text/plain": [
       "Flattening the indices:   0%|          | 0/43870 [00:00<?, ? examples/s]"
      ]
     },
     "metadata": {},
     "output_type": "display_data"
    },
    {
     "data": {
      "application/vnd.jupyter.widget-view+json": {
       "model_id": "48e59de66a424a95a823443d71b770b2",
       "version_major": 2,
       "version_minor": 0
      },
      "text/plain": [
       "Flattening the indices:   0%|          | 0/39486 [00:00<?, ? examples/s]"
      ]
     },
     "metadata": {},
     "output_type": "display_data"
    },
    {
     "data": {
      "application/vnd.jupyter.widget-view+json": {
       "model_id": "b4c0b7b059d94009baf3be453fd44b75",
       "version_major": 2,
       "version_minor": 0
      },
      "text/plain": [
       "Flattening the indices:   0%|          | 0/4388 [00:00<?, ? examples/s]"
      ]
     },
     "metadata": {},
     "output_type": "display_data"
    },
    {
     "data": {
      "application/vnd.jupyter.widget-view+json": {
       "model_id": "6ab36a2be68e4fcfbad6bc9515cf2573",
       "version_major": 2,
       "version_minor": 0
      },
      "text/plain": [
       "Uploading the dataset shards:   0%|          | 0/4 [00:00<?, ? shards/s]"
      ]
     },
     "metadata": {},
     "output_type": "display_data"
    },
    {
     "data": {
      "application/vnd.jupyter.widget-view+json": {
       "model_id": "b94bae76521348ec8430e2f033a4306a",
       "version_major": 2,
       "version_minor": 0
      },
      "text/plain": [
       "Map:   0%|          | 0/10968 [00:00<?, ? examples/s]"
      ]
     },
     "metadata": {},
     "output_type": "display_data"
    },
    {
     "data": {
      "application/vnd.jupyter.widget-view+json": {
       "model_id": "a930910d38a94bd2959e08ea5ca76f1e",
       "version_major": 2,
       "version_minor": 0
      },
      "text/plain": [
       "Creating parquet from Arrow format:   0%|          | 0/110 [00:00<?, ?ba/s]"
      ]
     },
     "metadata": {},
     "output_type": "display_data"
    },
    {
     "data": {
      "application/vnd.jupyter.widget-view+json": {
       "model_id": "adecd0618a604204b480d17dfdec874e",
       "version_major": 2,
       "version_minor": 0
      },
      "text/plain": [
       "Processing Files (0 / 0)                : |          |  0.00B /  0.00B            "
      ]
     },
     "metadata": {},
     "output_type": "display_data"
    },
    {
     "data": {
      "application/vnd.jupyter.widget-view+json": {
       "model_id": "e86988bde7574e1c9ef99c39190bfc87",
       "version_major": 2,
       "version_minor": 0
      },
      "text/plain": [
       "New Data Upload                         : |          |  0.00B /  0.00B            "
      ]
     },
     "metadata": {},
     "output_type": "display_data"
    },
    {
     "data": {
      "application/vnd.jupyter.widget-view+json": {
       "model_id": "19f5b535d0de41938a414d281010e385",
       "version_major": 2,
       "version_minor": 0
      },
      "text/plain": [
       "                                        :  16%|#6        | 79.7MB /  489MB            "
      ]
     },
     "metadata": {},
     "output_type": "display_data"
    },
    {
     "data": {
      "application/vnd.jupyter.widget-view+json": {
       "model_id": "af2f2fe3fe634335a07b4a21b78d6b7d",
       "version_major": 2,
       "version_minor": 0
      },
      "text/plain": [
       "Map:   0%|          | 0/10968 [00:00<?, ? examples/s]"
      ]
     },
     "metadata": {},
     "output_type": "display_data"
    },
    {
     "data": {
      "application/vnd.jupyter.widget-view+json": {
       "model_id": "e285fe438ecd46d18303544d40ccdf3d",
       "version_major": 2,
       "version_minor": 0
      },
      "text/plain": [
       "Creating parquet from Arrow format:   0%|          | 0/110 [00:00<?, ?ba/s]"
      ]
     },
     "metadata": {},
     "output_type": "display_data"
    },
    {
     "data": {
      "application/vnd.jupyter.widget-view+json": {
       "model_id": "a604ef4a8c5241d1901f45d5c1673718",
       "version_major": 2,
       "version_minor": 0
      },
      "text/plain": [
       "Processing Files (0 / 0)                : |          |  0.00B /  0.00B            "
      ]
     },
     "metadata": {},
     "output_type": "display_data"
    },
    {
     "data": {
      "application/vnd.jupyter.widget-view+json": {
       "model_id": "8a9980398a5443ba8d47ef807fbe4d82",
       "version_major": 2,
       "version_minor": 0
      },
      "text/plain": [
       "New Data Upload                         : |          |  0.00B /  0.00B            "
      ]
     },
     "metadata": {},
     "output_type": "display_data"
    },
    {
     "data": {
      "application/vnd.jupyter.widget-view+json": {
       "model_id": "dbacb8890e0346cfb8b3a6707396843e",
       "version_major": 2,
       "version_minor": 0
      },
      "text/plain": [
       "                                        :  23%|##2       |  110MB /  483MB            "
      ]
     },
     "metadata": {},
     "output_type": "display_data"
    },
    {
     "data": {
      "application/vnd.jupyter.widget-view+json": {
       "model_id": "051546508d39458dbc645b0ffcaa1ebc",
       "version_major": 2,
       "version_minor": 0
      },
      "text/plain": [
       "Map:   0%|          | 0/10967 [00:00<?, ? examples/s]"
      ]
     },
     "metadata": {},
     "output_type": "display_data"
    },
    {
     "data": {
      "application/vnd.jupyter.widget-view+json": {
       "model_id": "52a1fbe11ec540ff83ebc8da9c8e6364",
       "version_major": 2,
       "version_minor": 0
      },
      "text/plain": [
       "Creating parquet from Arrow format:   0%|          | 0/110 [00:00<?, ?ba/s]"
      ]
     },
     "metadata": {},
     "output_type": "display_data"
    },
    {
     "data": {
      "application/vnd.jupyter.widget-view+json": {
       "model_id": "8c4136fa24ce431f884f1a0957154403",
       "version_major": 2,
       "version_minor": 0
      },
      "text/plain": [
       "Processing Files (0 / 0)                : |          |  0.00B /  0.00B            "
      ]
     },
     "metadata": {},
     "output_type": "display_data"
    },
    {
     "data": {
      "application/vnd.jupyter.widget-view+json": {
       "model_id": "ffa97285081c402d8f6213df7164f85f",
       "version_major": 2,
       "version_minor": 0
      },
      "text/plain": [
       "New Data Upload                         : |          |  0.00B /  0.00B            "
      ]
     },
     "metadata": {},
     "output_type": "display_data"
    },
    {
     "data": {
      "application/vnd.jupyter.widget-view+json": {
       "model_id": "16da8e23a71a4201a60e7301b36ab64a",
       "version_major": 2,
       "version_minor": 0
      },
      "text/plain": [
       "                                        :  11%|#         | 52.5MB /  488MB            "
      ]
     },
     "metadata": {},
     "output_type": "display_data"
    },
    {
     "data": {
      "application/vnd.jupyter.widget-view+json": {
       "model_id": "dffd2a053f4e4f21ae25757618a694cc",
       "version_major": 2,
       "version_minor": 0
      },
      "text/plain": [
       "Map:   0%|          | 0/10967 [00:00<?, ? examples/s]"
      ]
     },
     "metadata": {},
     "output_type": "display_data"
    },
    {
     "data": {
      "application/vnd.jupyter.widget-view+json": {
       "model_id": "0a9b78611aaa4edabbcd6e418b726b97",
       "version_major": 2,
       "version_minor": 0
      },
      "text/plain": [
       "Creating parquet from Arrow format:   0%|          | 0/110 [00:00<?, ?ba/s]"
      ]
     },
     "metadata": {},
     "output_type": "display_data"
    },
    {
     "data": {
      "application/vnd.jupyter.widget-view+json": {
       "model_id": "7a4349fcb9ac4307bc06d0c872e40b8d",
       "version_major": 2,
       "version_minor": 0
      },
      "text/plain": [
       "Processing Files (0 / 0)                : |          |  0.00B /  0.00B            "
      ]
     },
     "metadata": {},
     "output_type": "display_data"
    },
    {
     "data": {
      "application/vnd.jupyter.widget-view+json": {
       "model_id": "41710b1748654ae89a294b9a61a038d6",
       "version_major": 2,
       "version_minor": 0
      },
      "text/plain": [
       "New Data Upload                         : |          |  0.00B /  0.00B            "
      ]
     },
     "metadata": {},
     "output_type": "display_data"
    },
    {
     "data": {
      "application/vnd.jupyter.widget-view+json": {
       "model_id": "471c31e6edd048c491f596031d65e885",
       "version_major": 2,
       "version_minor": 0
      },
      "text/plain": [
       "                                        :  27%|##6       |  130MB /  488MB            "
      ]
     },
     "metadata": {},
     "output_type": "display_data"
    },
    {
     "data": {
      "application/vnd.jupyter.widget-view+json": {
       "model_id": "4400aefd6b4a4ed7934617845e56739d",
       "version_major": 2,
       "version_minor": 0
      },
      "text/plain": [
       "Uploading the dataset shards:   0%|          | 0/4 [00:00<?, ? shards/s]"
      ]
     },
     "metadata": {},
     "output_type": "display_data"
    },
    {
     "data": {
      "application/vnd.jupyter.widget-view+json": {
       "model_id": "25006e3dbc0e4b43be70fa9e0c13b347",
       "version_major": 2,
       "version_minor": 0
      },
      "text/plain": [
       "Map:   0%|          | 0/9872 [00:00<?, ? examples/s]"
      ]
     },
     "metadata": {},
     "output_type": "display_data"
    },
    {
     "data": {
      "application/vnd.jupyter.widget-view+json": {
       "model_id": "92aa737eb3b24320ad076aef0647c703",
       "version_major": 2,
       "version_minor": 0
      },
      "text/plain": [
       "Creating parquet from Arrow format:   0%|          | 0/99 [00:00<?, ?ba/s]"
      ]
     },
     "metadata": {},
     "output_type": "display_data"
    },
    {
     "data": {
      "application/vnd.jupyter.widget-view+json": {
       "model_id": "96bf858d4cce46ddac0ff7cc56eb814f",
       "version_major": 2,
       "version_minor": 0
      },
      "text/plain": [
       "Processing Files (0 / 0)                : |          |  0.00B /  0.00B            "
      ]
     },
     "metadata": {},
     "output_type": "display_data"
    },
    {
     "data": {
      "application/vnd.jupyter.widget-view+json": {
       "model_id": "1014b8531d8a4a54a9631da4e9477465",
       "version_major": 2,
       "version_minor": 0
      },
      "text/plain": [
       "New Data Upload                         : |          |  0.00B /  0.00B            "
      ]
     },
     "metadata": {},
     "output_type": "display_data"
    },
    {
     "data": {
      "application/vnd.jupyter.widget-view+json": {
       "model_id": "b4c7e37a1c47424981aa20cc3d4c7552",
       "version_major": 2,
       "version_minor": 0
      },
      "text/plain": [
       "                                        :  27%|##7       |  119MB /  439MB            "
      ]
     },
     "metadata": {},
     "output_type": "display_data"
    },
    {
     "data": {
      "application/vnd.jupyter.widget-view+json": {
       "model_id": "b791cb5c241049b6a30e0f62979f4839",
       "version_major": 2,
       "version_minor": 0
      },
      "text/plain": [
       "Map:   0%|          | 0/9872 [00:00<?, ? examples/s]"
      ]
     },
     "metadata": {},
     "output_type": "display_data"
    },
    {
     "data": {
      "application/vnd.jupyter.widget-view+json": {
       "model_id": "bbdcb47f1e93411a860085c85fdd3750",
       "version_major": 2,
       "version_minor": 0
      },
      "text/plain": [
       "Creating parquet from Arrow format:   0%|          | 0/99 [00:00<?, ?ba/s]"
      ]
     },
     "metadata": {},
     "output_type": "display_data"
    },
    {
     "data": {
      "application/vnd.jupyter.widget-view+json": {
       "model_id": "a170b8d4efe34476ab18680325d4aef7",
       "version_major": 2,
       "version_minor": 0
      },
      "text/plain": [
       "Processing Files (0 / 0)                : |          |  0.00B /  0.00B            "
      ]
     },
     "metadata": {},
     "output_type": "display_data"
    },
    {
     "data": {
      "application/vnd.jupyter.widget-view+json": {
       "model_id": "59e6f7576c704b36927b273475fcf6b6",
       "version_major": 2,
       "version_minor": 0
      },
      "text/plain": [
       "New Data Upload                         : |          |  0.00B /  0.00B            "
      ]
     },
     "metadata": {},
     "output_type": "display_data"
    },
    {
     "data": {
      "application/vnd.jupyter.widget-view+json": {
       "model_id": "e5ec7899e38f485e98642bd427d6034f",
       "version_major": 2,
       "version_minor": 0
      },
      "text/plain": [
       "                                        :  17%|#7        | 77.3MB /  442MB            "
      ]
     },
     "metadata": {},
     "output_type": "display_data"
    },
    {
     "data": {
      "application/vnd.jupyter.widget-view+json": {
       "model_id": "5ae3dc7d09d7450095e895a1065603b1",
       "version_major": 2,
       "version_minor": 0
      },
      "text/plain": [
       "Map:   0%|          | 0/9871 [00:00<?, ? examples/s]"
      ]
     },
     "metadata": {},
     "output_type": "display_data"
    },
    {
     "data": {
      "application/vnd.jupyter.widget-view+json": {
       "model_id": "24dc117f195a42ad8e4c282d7a9419c4",
       "version_major": 2,
       "version_minor": 0
      },
      "text/plain": [
       "Creating parquet from Arrow format:   0%|          | 0/99 [00:00<?, ?ba/s]"
      ]
     },
     "metadata": {},
     "output_type": "display_data"
    },
    {
     "data": {
      "application/vnd.jupyter.widget-view+json": {
       "model_id": "1f0c7cd1f0814fc08cd23358978d2b7d",
       "version_major": 2,
       "version_minor": 0
      },
      "text/plain": [
       "Processing Files (0 / 0)                : |          |  0.00B /  0.00B            "
      ]
     },
     "metadata": {},
     "output_type": "display_data"
    },
    {
     "data": {
      "application/vnd.jupyter.widget-view+json": {
       "model_id": "0f45786107b1446f80ede7e247a31a73",
       "version_major": 2,
       "version_minor": 0
      },
      "text/plain": [
       "New Data Upload                         : |          |  0.00B /  0.00B            "
      ]
     },
     "metadata": {},
     "output_type": "display_data"
    },
    {
     "data": {
      "application/vnd.jupyter.widget-view+json": {
       "model_id": "2173251b52944a1aa03a31223af587ae",
       "version_major": 2,
       "version_minor": 0
      },
      "text/plain": [
       "                                        :  20%|##        | 87.5MB /  437MB            "
      ]
     },
     "metadata": {},
     "output_type": "display_data"
    },
    {
     "data": {
      "application/vnd.jupyter.widget-view+json": {
       "model_id": "4615cc154bae4064a9637f8308f25959",
       "version_major": 2,
       "version_minor": 0
      },
      "text/plain": [
       "Map:   0%|          | 0/9871 [00:00<?, ? examples/s]"
      ]
     },
     "metadata": {},
     "output_type": "display_data"
    },
    {
     "data": {
      "application/vnd.jupyter.widget-view+json": {
       "model_id": "e60170eb5cc54999882f39a5d11d7cbd",
       "version_major": 2,
       "version_minor": 0
      },
      "text/plain": [
       "Creating parquet from Arrow format:   0%|          | 0/99 [00:00<?, ?ba/s]"
      ]
     },
     "metadata": {},
     "output_type": "display_data"
    },
    {
     "data": {
      "application/vnd.jupyter.widget-view+json": {
       "model_id": "d8f839716802458e98f42748ff2d5199",
       "version_major": 2,
       "version_minor": 0
      },
      "text/plain": [
       "Processing Files (0 / 0)                : |          |  0.00B /  0.00B            "
      ]
     },
     "metadata": {},
     "output_type": "display_data"
    },
    {
     "data": {
      "application/vnd.jupyter.widget-view+json": {
       "model_id": "0966a32995bf447392bc2cfa0b72cd25",
       "version_major": 2,
       "version_minor": 0
      },
      "text/plain": [
       "New Data Upload                         : |          |  0.00B /  0.00B            "
      ]
     },
     "metadata": {},
     "output_type": "display_data"
    },
    {
     "data": {
      "application/vnd.jupyter.widget-view+json": {
       "model_id": "21c7bfeae42a4012b631dcecbc2c3f94",
       "version_major": 2,
       "version_minor": 0
      },
      "text/plain": [
       "                                        :   9%|8         | 38.9MB /  433MB            "
      ]
     },
     "metadata": {},
     "output_type": "display_data"
    },
    {
     "data": {
      "application/vnd.jupyter.widget-view+json": {
       "model_id": "039f51f4c49a43838eb8073bd0dd7bef",
       "version_major": 2,
       "version_minor": 0
      },
      "text/plain": [
       "Uploading the dataset shards:   0%|          | 0/1 [00:00<?, ? shards/s]"
      ]
     },
     "metadata": {},
     "output_type": "display_data"
    },
    {
     "data": {
      "application/vnd.jupyter.widget-view+json": {
       "model_id": "533c11d3ece141db8d7e2382ca8be27a",
       "version_major": 2,
       "version_minor": 0
      },
      "text/plain": [
       "Map:   0%|          | 0/4388 [00:00<?, ? examples/s]"
      ]
     },
     "metadata": {},
     "output_type": "display_data"
    },
    {
     "data": {
      "application/vnd.jupyter.widget-view+json": {
       "model_id": "fe6aa13793ea49bab7861440ce16a668",
       "version_major": 2,
       "version_minor": 0
      },
      "text/plain": [
       "Creating parquet from Arrow format:   0%|          | 0/44 [00:00<?, ?ba/s]"
      ]
     },
     "metadata": {},
     "output_type": "display_data"
    },
    {
     "data": {
      "application/vnd.jupyter.widget-view+json": {
       "model_id": "5d6add5843b046398900c96700000cfa",
       "version_major": 2,
       "version_minor": 0
      },
      "text/plain": [
       "Processing Files (0 / 0)                : |          |  0.00B /  0.00B            "
      ]
     },
     "metadata": {},
     "output_type": "display_data"
    },
    {
     "data": {
      "application/vnd.jupyter.widget-view+json": {
       "model_id": "4053334e08e84286abbeb502d2368717",
       "version_major": 2,
       "version_minor": 0
      },
      "text/plain": [
       "New Data Upload                         : |          |  0.00B /  0.00B            "
      ]
     },
     "metadata": {},
     "output_type": "display_data"
    },
    {
     "data": {
      "application/vnd.jupyter.widget-view+json": {
       "model_id": "a48ab86c1f5d45e49e1d0f1db6b9b840",
       "version_major": 2,
       "version_minor": 0
      },
      "text/plain": [
       "                                        :  69%|######8   |  131MB /  191MB            "
      ]
     },
     "metadata": {},
     "output_type": "display_data"
    },
    {
     "data": {
      "application/vnd.jupyter.widget-view+json": {
       "model_id": "f2148333e97c47f4ba17d6001c315107",
       "version_major": 2,
       "version_minor": 0
      },
      "text/plain": [
       "README.md:   0%|          | 0.00/724 [00:00<?, ?B/s]"
      ]
     },
     "metadata": {},
     "output_type": "display_data"
    },
    {
     "data": {
      "text/plain": [
       "CommitInfo(commit_url='https://huggingface.co/datasets/davanstrien/iconclass-vlm-sft/commit/d8d2cfe679ba89346920a894c8f7d134965a43a5', commit_message='Upload dataset', commit_description='', oid='d8d2cfe679ba89346920a894c8f7d134965a43a5', pr_url=None, repo_url=RepoUrl('https://huggingface.co/datasets/davanstrien/iconclass-vlm-sft', endpoint='https://huggingface.co', repo_type='dataset', repo_id='davanstrien/iconclass-vlm-sft'), pr_revision=None, pr_num=None)"
      ]
     },
     "execution_count": 16,
     "metadata": {},
     "output_type": "execute_result"
    }
   ],
   "source": [
    "ds = ds.flatten_indices()\n",
    "ds.push_to_hub(\"davanstrien/iconclass-vlm-sft\")"
   ]
  },
  {
   "cell_type": "markdown",
   "id": "fe8baa2c",
   "metadata": {},
   "source": [
    "## HF Jobs x UV x TRL!\n",
    "\n",
    "Hugging Face Jobs allows you to run code on Hugging Face Infrastructure including GPUs. Jobs can be run using either the `huggingface_hub` libraries CLI interface or via the Python API. A hello world example looks like this"
   ]
  },
  {
   "cell_type": "code",
   "execution_count": 33,
   "id": "49337a9c",
   "metadata": {},
   "outputs": [
    {
     "name": "stdout",
     "output_type": "stream",
     "text": [
      "Job started with ID: 68b86a53e824c700d00ad361\n",
      "View at: https://huggingface.co/jobs/davanstrien/68b86a53e824c700d00ad361\n",
      "Hello world!\n"
     ]
    }
   ],
   "source": [
    "!hf jobs run python:3.12 python -c \"print('Hello world!')\""
   ]
  },
  {
   "cell_type": "markdown",
   "id": "0eabf590",
   "metadata": {},
   "source": [
    "Jobs have an experimental `uv run` api that allow you to run uv scripts using Jobs. UV scripts are Python scripts that include their dependencies directly in the file using a special comment syntax. This makes them perfect for self-contained tasks that don’t require complex project setups. This works super well for use cases like a TRL training script! \n",
    "\n",
    "Let's take a look at the script we'll be running."
   ]
  },
  {
   "cell_type": "markdown",
   "id": "171865e1",
   "metadata": {},
   "source": [
    "### The TRL SFT training script\n",
    "\n",
    "You can find the full version of the script we're running in [main.py](https://raw.githubusercontent.com/davanstrien/blog/6da3910870f14a502626fd9c627da622e3122a3b/posts/2025/iconclass-vlm-sft/assets/main.py) but we can also see the most important parts below."
   ]
  },
  {
   "cell_type": "code",
   "execution_count": null,
   "id": "971786b7",
   "metadata": {},
   "outputs": [],
   "source": [
    "#| code-fold: true\n",
    "#| code-summary: \"Show main.py training script\"\n",
    "import torch\n",
    "from datasets import load_dataset\n",
    "from transformers import AutoModelForImageTextToText\n",
    "\n",
    "from trl import (\n",
    "    ModelConfig,\n",
    "    ScriptArguments,\n",
    "    SFTConfig,\n",
    "    SFTTrainer,\n",
    "    TrlParser,\n",
    "    get_kbit_device_map,\n",
    "    get_peft_config,\n",
    "    get_quantization_config,\n",
    ")\n",
    "\n",
    "\n",
    "if __name__ == \"__main__\":\n",
    "    parser = TrlParser((ScriptArguments, SFTConfig, ModelConfig))\n",
    "    script_args, training_args, model_args = parser.parse_args_and_config()\n",
    "    training_args.gradient_checkpointing_kwargs = dict(use_reentrant=False)\n",
    "    training_args.max_length = None\n",
    "\n",
    "    ################\n",
    "    # Model, Tokenizer & Processor\n",
    "    ################\n",
    "    torch_dtype = (\n",
    "        model_args.torch_dtype if model_args.torch_dtype in [\"auto\", None] else getattr(torch, model_args.torch_dtype)\n",
    "    )\n",
    "    quantization_config = get_quantization_config(model_args)\n",
    "    model_kwargs = dict(\n",
    "        revision=model_args.model_revision,\n",
    "        attn_implementation=model_args.attn_implementation,\n",
    "        torch_dtype=torch_dtype,\n",
    "        device_map=get_kbit_device_map() if quantization_config is not None else None,\n",
    "        quantization_config=quantization_config,\n",
    "    )\n",
    "\n",
    "    model = AutoModelForImageTextToText.from_pretrained(\n",
    "        model_args.model_name_or_path, trust_remote_code=model_args.trust_remote_code, **model_kwargs\n",
    "    )\n",
    "\n",
    "    ################\n",
    "    # Dataset\n",
    "    ################\n",
    "    dataset = load_dataset(script_args.dataset_name, name=script_args.dataset_config)\n",
    "\n",
    "    ################\n",
    "    # Training\n",
    "    ################\n",
    "    trainer = SFTTrainer(\n",
    "        model=model,\n",
    "        args=training_args,\n",
    "        train_dataset=dataset[script_args.dataset_train_split],\n",
    "        eval_dataset=dataset[script_args.dataset_test_split] if training_args.eval_strategy != \"no\" else None,\n",
    "        peft_config=get_peft_config(model_args),\n",
    "    )\n",
    "\n",
    "    trainer.train()\n",
    "\n",
    "    # Save and push to hub\n",
    "    trainer.save_model(training_args.output_dir)\n",
    "    if training_args.push_to_hub:\n",
    "        trainer.push_to_hub(dataset_name=script_args.dataset_name)"
   ]
  },
  {
   "cell_type": "markdown",
   "id": "18945c09",
   "metadata": {},
   "source": [
    "The training script looks as you'd expect a TRL script to look. One addition in the full script is inline script metadata for the dependencies. This let's `uv` know which libraries to install (we'll see another way we can specify dependencies later).\n",
    "\n",
    "```\n",
    "# /// script\n",
    "# dependencies = [\n",
    "#     \"trl\",\n",
    "#     \"Pillow>=9.4.0\",\n",
    "# ]\n",
    "# ///\n",
    "```"
   ]
  },
  {
   "cell_type": "markdown",
   "id": "02204f2d",
   "metadata": {},
   "source": [
    "### Running uv Jobs using huggingface_hub\n",
    "\n",
    "We can use the `huggingface_hub` library to easily manage and run our jobs on the Hugging Face platform. We'll grab our Hugging Face token from an `.env` file using `python-dotenv`. If you are running this notebook somewhere else you could also set the `HF_TOKEN` environment variable manually. "
   ]
  },
  {
   "cell_type": "code",
   "execution_count": 19,
   "id": "50c81e21",
   "metadata": {},
   "outputs": [],
   "source": [
    "from dotenv import load_dotenv\n",
    "import os\n",
    "\n",
    "load_dotenv()\n",
    "\n",
    "HF_TOKEN = os.getenv(\"HF_TOKEN\")\n",
    "assert HF_TOKEN"
   ]
  },
  {
   "cell_type": "markdown",
   "id": "e591fb39",
   "metadata": {},
   "source": [
    "We then create a new `HfApi` instance."
   ]
  },
  {
   "cell_type": "code",
   "execution_count": 20,
   "id": "09ce2c6d",
   "metadata": {},
   "outputs": [],
   "source": [
    "from huggingface_hub import HfApi\n",
    "\n",
    "api = HfApi(token=HF_TOKEN)"
   ]
  },
  {
   "cell_type": "markdown",
   "id": "54eb6714",
   "metadata": {},
   "source": [
    "#### Model and dataset configuration\n",
    "\n",
    "The easiest way to know the options our script supports would be to check the script but if we wanted we could also use hf jobs to print out the `--help` for the script. We can do this using the `uv run` subcommand:"
   ]
  },
  {
   "cell_type": "code",
   "execution_count": null,
   "id": "bccbe318",
   "metadata": {},
   "outputs": [
    {
     "name": "stdout",
     "output_type": "stream",
     "text": [
      "/Users/davanstrien/Library/Application Support/uv/tools/huggingface-hub/lib/python3.13/site-packages/huggingface_hub/utils/_experimental.py:60: UserWarning: 'HfApi.run_uv_job' is experimental and might be subject to breaking changes in the future without prior notice. You can disable this warning by setting `HF_HUB_DISABLE_EXPERIMENTAL_WARNING=1` as environment variable.\n",
      "  warnings.warn(\n",
      "Job started with ID: 68b86a90e824c700d00ad362\n",
      "View at: https://huggingface.co/jobs/davanstrien/68b86a90e824c700d00ad362\n",
      "Downloading aiohttp (1.6MiB)\n",
      "Downloading sympy (6.0MiB)\n",
      "Downloading nvidia-nvjitlink-cu12 (37.4MiB)\n",
      "Downloading nvidia-cusparselt-cu12 (273.9MiB)\n",
      "Downloading hf-xet (3.0MiB)\n",
      "Downloading tokenizers (3.2MiB)\n",
      "Downloading nvidia-cusolver-cu12 (255.1MiB)\n",
      "Downloading nvidia-nccl-cu12 (307.4MiB)\n",
      "Downloading networkx (1.9MiB)\n",
      "Downloading nvidia-cublas-cu12 (566.8MiB)\n",
      "Downloading transformers (11.1MiB)\n",
      "Downloading numpy (15.9MiB)\n",
      "Downloading setuptools (1.1MiB)\n",
      "Downloading nvidia-curand-cu12 (60.7MiB)\n",
      "Downloading pillow (6.3MiB)\n",
      "Downloading nvidia-cudnn-cu12 (674.0MiB)\n",
      "Downloading nvidia-cusparse-cu12 (274.9MiB)\n",
      "Downloading nvidia-cuda-nvrtc-cu12 (84.0MiB)\n",
      "Downloading torch (846.8MiB)\n",
      "Downloading nvidia-cuda-cupti-cu12 (9.8MiB)\n",
      "Downloading nvidia-cufile-cu12 (1.1MiB)\n",
      "Downloading pandas (11.4MiB)\n",
      "Downloading pyarrow (40.8MiB)\n",
      "Downloading nvidia-cufft-cu12 (184.2MiB)\n",
      "Downloading triton (148.4MiB)\n",
      " Downloading nvidia-cufile-cu12\n",
      " Downloading aiohttp\n",
      " Downloading hf-xet\n",
      " Downloading tokenizers\n",
      " Downloading setuptools\n",
      " Downloading networkx\n",
      " Downloading pillow\n",
      " Downloading nvidia-cuda-cupti-cu12\n",
      " Downloading sympy\n",
      " Downloading numpy\n",
      " Downloading transformers\n",
      " Downloading nvidia-nvjitlink-cu12\n",
      " Downloading pandas\n",
      " Downloading nvidia-curand-cu12\n",
      " Downloading nvidia-cuda-nvrtc-cu12\n",
      " Downloading pyarrow\n",
      " Downloading triton\n",
      " Downloading nvidia-cufft-cu12\n",
      " Downloading nvidia-cusolver-cu12\n",
      " Downloading nvidia-cusparselt-cu12\n",
      " Downloading nvidia-cusparse-cu12\n",
      " Downloading nvidia-nccl-cu12\n",
      " Downloading nvidia-cublas-cu12\n",
      " Downloading nvidia-cudnn-cu12\n",
      " Downloading torch\n",
      "Installed 62 packages in 268ms\n",
      "usage: mainJNdAgg.py [-h] [--dataset_name DATASET_NAME]\n",
      "                     [--dataset_config DATASET_CONFIG]\n",
      "                     [--dataset_train_split DATASET_TRAIN_SPLIT]\n",
      "                     [--dataset_test_split DATASET_TEST_SPLIT]\n",
      "                     [--dataset_streaming [DATASET_STREAMING]]\n",
      "                     [--gradient_checkpointing_use_reentrant [GRADIENT_CHECKPOINTING_USE_REENTRANT]]\n",
      "                     [--ignore_bias_buffers [IGNORE_BIAS_BUFFERS]]\n",
      "                     [--output_dir OUTPUT_DIR]\n",
      "                     [--overwrite_output_dir [OVERWRITE_OUTPUT_DIR]]\n",
      "                     [--do_train [DO_TRAIN]] [--do_eval [DO_EVAL]]\n",
      "                     [--do_predict [DO_PREDICT]]\n",
      "                     [--eval_strategy {no,steps,epoch}]\n",
      "                     [--prediction_loss_only [PREDICTION_LOSS_ONLY]]\n",
      "                     [--per_device_train_batch_size PER_DEVICE_TRAIN_BATCH_SIZE]\n",
      "                     [--per_device_eval_batch_size PER_DEVICE_EVAL_BATCH_SIZE]\n",
      "                     [--per_gpu_train_batch_size PER_GPU_TRAIN_BATCH_SIZE]\n",
      "                     [--per_gpu_eval_batch_size PER_GPU_EVAL_BATCH_SIZE]\n",
      "                     [--gradient_accumulation_steps GRADIENT_ACCUMULATION_STEPS]\n",
      "                     [--eval_accumulation_steps EVAL_ACCUMULATION_STEPS]\n",
      "                     [--eval_delay EVAL_DELAY]\n",
      "                     [--torch_empty_cache_steps TORCH_EMPTY_CACHE_STEPS]\n",
      "                     [--learning_rate LEARNING_RATE]\n",
      "                     [--weight_decay WEIGHT_DECAY] [--adam_beta1 ADAM_BETA1]\n",
      "                     [--adam_beta2 ADAM_BETA2] [--adam_epsilon ADAM_EPSILON]\n",
      "                     [--max_grad_norm MAX_GRAD_NORM]\n",
      "                     [--num_train_epochs NUM_TRAIN_EPOCHS]\n",
      "                     [--max_steps MAX_STEPS]\n",
      "                     [--lr_scheduler_type {linear,cosine,cosine_with_restarts,polynomial,constant,constant_with_warmup,inverse_sqrt,reduce_lr_on_plateau,cosine_with_min_lr,cosine_warmup_with_min_lr,warmup_stable_decay}]\n",
      "                     [--lr_scheduler_kwargs LR_SCHEDULER_KWARGS]\n",
      "                     [--warmup_ratio WARMUP_RATIO]\n",
      "                     [--warmup_steps WARMUP_STEPS]\n",
      "                     [--log_level {detail,debug,info,warning,error,critical,passive}]\n",
      "                     [--log_level_replica {detail,debug,info,warning,error,critical,passive}]\n",
      "                     [--log_on_each_node [LOG_ON_EACH_NODE]]\n",
      "                     [--no_log_on_each_node] [--logging_dir LOGGING_DIR]\n",
      "                     [--logging_strategy {no,steps,epoch}]\n",
      "                     [--logging_first_step [LOGGING_FIRST_STEP]]\n",
      "                     [--logging_steps LOGGING_STEPS]\n",
      "                     [--logging_nan_inf_filter [LOGGING_NAN_INF_FILTER]]\n",
      "                     [--no_logging_nan_inf_filter]\n",
      "                     [--save_strategy {no,steps,epoch,best}]\n",
      "                     [--save_steps SAVE_STEPS]\n",
      "                     [--save_total_limit SAVE_TOTAL_LIMIT]\n",
      "                     [--save_safetensors [SAVE_SAFETENSORS]]\n",
      "                     [--no_save_safetensors]\n",
      "                     [--save_on_each_node [SAVE_ON_EACH_NODE]]\n",
      "                     [--save_only_model [SAVE_ONLY_MODEL]]\n",
      "                     [--restore_callback_states_from_checkpoint [RESTORE_CALLBACK_STATES_FROM_CHECKPOINT]]\n",
      "                     [--no_cuda [NO_CUDA]] [--use_cpu [USE_CPU]]\n",
      "                     [--use_mps_device [USE_MPS_DEVICE]] [--seed SEED]\n",
      "                     [--data_seed DATA_SEED] [--jit_mode_eval [JIT_MODE_EVAL]]\n",
      "                     [--use_ipex [USE_IPEX]] [--bf16 BF16] [--fp16 [FP16]]\n",
      "                     [--fp16_opt_level FP16_OPT_LEVEL]\n",
      "                     [--half_precision_backend {auto,apex,cpu_amp}]\n",
      "                     [--bf16_full_eval [BF16_FULL_EVAL]]\n",
      "                     [--fp16_full_eval [FP16_FULL_EVAL]] [--tf32 TF32]\n",
      "                     [--local_rank LOCAL_RANK]\n",
      "                     [--ddp_backend {nccl,gloo,mpi,ccl,hccl,cncl,mccl}]\n",
      "                     [--tpu_num_cores TPU_NUM_CORES]\n",
      "                     [--tpu_metrics_debug [TPU_METRICS_DEBUG]]\n",
      "                     [--debug DEBUG [DEBUG ...]]\n",
      "                     [--dataloader_drop_last [DATALOADER_DROP_LAST]]\n",
      "                     [--eval_steps EVAL_STEPS]\n",
      "                     [--dataloader_num_workers DATALOADER_NUM_WORKERS]\n",
      "                     [--dataloader_prefetch_factor DATALOADER_PREFETCH_FACTOR]\n",
      "                     [--past_index PAST_INDEX] [--run_name RUN_NAME]\n",
      "                     [--disable_tqdm DISABLE_TQDM]\n",
      "                     [--remove_unused_columns [REMOVE_UNUSED_COLUMNS]]\n",
      "                     [--no_remove_unused_columns]\n",
      "                     [--label_names LABEL_NAMES [LABEL_NAMES ...]]\n",
      "                     [--load_best_model_at_end [LOAD_BEST_MODEL_AT_END]]\n",
      "                     [--metric_for_best_model METRIC_FOR_BEST_MODEL]\n",
      "                     [--greater_is_better GREATER_IS_BETTER]\n",
      "                     [--ignore_data_skip [IGNORE_DATA_SKIP]] [--fsdp FSDP]\n",
      "                     [--fsdp_min_num_params FSDP_MIN_NUM_PARAMS]\n",
      "                     [--fsdp_config FSDP_CONFIG]\n",
      "                     [--fsdp_transformer_layer_cls_to_wrap FSDP_TRANSFORMER_LAYER_CLS_TO_WRAP]\n",
      "                     [--accelerator_config ACCELERATOR_CONFIG]\n",
      "                     [--parallelism_config PARALLELISM_CONFIG]\n",
      "                     [--deepspeed DEEPSPEED]\n",
      "                     [--label_smoothing_factor LABEL_SMOOTHING_FACTOR]\n",
      "                     [--optim {adamw_torch,adamw_torch_fused,adamw_torch_xla,adamw_torch_npu_fused,adamw_apex_fused,adafactor,adamw_anyprecision,adamw_torch_4bit,adamw_torch_8bit,ademamix,sgd,adagrad,adamw_bnb_8bit,adamw_8bit,ademamix_8bit,lion_8bit,lion_32bit,paged_adamw_32bit,paged_adamw_8bit,paged_ademamix_32bit,paged_ademamix_8bit,paged_lion_32bit,paged_lion_8bit,rmsprop,rmsprop_bnb,rmsprop_bnb_8bit,rmsprop_bnb_32bit,galore_adamw,galore_adamw_8bit,galore_adafactor,galore_adamw_layerwise,galore_adamw_8bit_layerwise,galore_adafactor_layerwise,lomo,adalomo,grokadamw,schedule_free_radam,schedule_free_adamw,schedule_free_sgd,apollo_adamw,apollo_adamw_layerwise,stable_adamw}]\n",
      "                     [--optim_args OPTIM_ARGS] [--adafactor [ADAFACTOR]]\n",
      "                     [--group_by_length [GROUP_BY_LENGTH]]\n",
      "                     [--length_column_name LENGTH_COLUMN_NAME]\n",
      "                     [--report_to REPORT_TO]\n",
      "                     [--ddp_find_unused_parameters DDP_FIND_UNUSED_PARAMETERS]\n",
      "                     [--ddp_bucket_cap_mb DDP_BUCKET_CAP_MB]\n",
      "                     [--ddp_broadcast_buffers DDP_BROADCAST_BUFFERS]\n",
      "                     [--dataloader_pin_memory [DATALOADER_PIN_MEMORY]]\n",
      "                     [--no_dataloader_pin_memory]\n",
      "                     [--dataloader_persistent_workers [DATALOADER_PERSISTENT_WORKERS]]\n",
      "                     [--skip_memory_metrics [SKIP_MEMORY_METRICS]]\n",
      "                     [--no_skip_memory_metrics]\n",
      "                     [--use_legacy_prediction_loop [USE_LEGACY_PREDICTION_LOOP]]\n",
      "                     [--push_to_hub [PUSH_TO_HUB]]\n",
      "                     [--resume_from_checkpoint RESUME_FROM_CHECKPOINT]\n",
      "                     [--hub_model_id HUB_MODEL_ID]\n",
      "                     [--hub_strategy {end,every_save,checkpoint,all_checkpoints}]\n",
      "                     [--hub_token HUB_TOKEN]\n",
      "                     [--hub_private_repo HUB_PRIVATE_REPO]\n",
      "                     [--hub_always_push [HUB_ALWAYS_PUSH]]\n",
      "                     [--hub_revision HUB_REVISION]\n",
      "                     [--gradient_checkpointing [GRADIENT_CHECKPOINTING]]\n",
      "                     [--no_gradient_checkpointing]\n",
      "                     [--gradient_checkpointing_kwargs GRADIENT_CHECKPOINTING_KWARGS]\n",
      "                     [--include_inputs_for_metrics [INCLUDE_INPUTS_FOR_METRICS]]\n",
      "                     [--include_for_metrics INCLUDE_FOR_METRICS [INCLUDE_FOR_METRICS ...]]\n",
      "                     [--eval_do_concat_batches [EVAL_DO_CONCAT_BATCHES]]\n",
      "                     [--no_eval_do_concat_batches]\n",
      "                     [--fp16_backend {auto,apex,cpu_amp}]\n",
      "                     [--push_to_hub_model_id PUSH_TO_HUB_MODEL_ID]\n",
      "                     [--push_to_hub_organization PUSH_TO_HUB_ORGANIZATION]\n",
      "                     [--push_to_hub_token PUSH_TO_HUB_TOKEN]\n",
      "                     [--mp_parameters MP_PARAMETERS]\n",
      "                     [--auto_find_batch_size [AUTO_FIND_BATCH_SIZE]]\n",
      "                     [--full_determinism [FULL_DETERMINISM]]\n",
      "                     [--torchdynamo TORCHDYNAMO] [--ray_scope RAY_SCOPE]\n",
      "                     [--ddp_timeout DDP_TIMEOUT]\n",
      "                     [--torch_compile [TORCH_COMPILE]]\n",
      "                     [--torch_compile_backend TORCH_COMPILE_BACKEND]\n",
      "                     [--torch_compile_mode TORCH_COMPILE_MODE]\n",
      "                     [--include_tokens_per_second [INCLUDE_TOKENS_PER_SECOND]]\n",
      "                     [--include_num_input_tokens_seen [INCLUDE_NUM_INPUT_TOKENS_SEEN]]\n",
      "                     [--neftune_noise_alpha NEFTUNE_NOISE_ALPHA]\n",
      "                     [--optim_target_modules OPTIM_TARGET_MODULES]\n",
      "                     [--batch_eval_metrics [BATCH_EVAL_METRICS]]\n",
      "                     [--eval_on_start [EVAL_ON_START]]\n",
      "                     [--use_liger_kernel [USE_LIGER_KERNEL]]\n",
      "                     [--liger_kernel_config LIGER_KERNEL_CONFIG]\n",
      "                     [--eval_use_gather_object [EVAL_USE_GATHER_OBJECT]]\n",
      "                     [--average_tokens_across_devices [AVERAGE_TOKENS_ACROSS_DEVICES]]\n",
      "                     [--no_average_tokens_across_devices]\n",
      "                     [--model_init_kwargs MODEL_INIT_KWARGS]\n",
      "                     [--chat_template_path CHAT_TEMPLATE_PATH]\n",
      "                     [--dataset_text_field DATASET_TEXT_FIELD]\n",
      "                     [--dataset_kwargs DATASET_KWARGS]\n",
      "                     [--dataset_num_proc DATASET_NUM_PROC]\n",
      "                     [--eos_token EOS_TOKEN] [--pad_token PAD_TOKEN]\n",
      "                     [--max_length MAX_LENGTH] [--packing [PACKING]]\n",
      "                     [--packing_strategy PACKING_STRATEGY]\n",
      "                     [--padding_free [PADDING_FREE]]\n",
      "                     [--pad_to_multiple_of PAD_TO_MULTIPLE_OF]\n",
      "                     [--eval_packing EVAL_PACKING]\n",
      "                     [--completion_only_loss COMPLETION_ONLY_LOSS]\n",
      "                     [--assistant_only_loss [ASSISTANT_ONLY_LOSS]]\n",
      "                     [--activation_offloading [ACTIVATION_OFFLOADING]]\n",
      "                     [--model_name_or_path MODEL_NAME_OR_PATH]\n",
      "                     [--model_revision MODEL_REVISION]\n",
      "                     [--torch_dtype {auto,bfloat16,float16,float32}]\n",
      "                     [--trust_remote_code [TRUST_REMOTE_CODE]]\n",
      "                     [--attn_implementation ATTN_IMPLEMENTATION]\n",
      "                     [--use_peft [USE_PEFT]] [--lora_r LORA_R]\n",
      "                     [--lora_alpha LORA_ALPHA] [--lora_dropout LORA_DROPOUT]\n",
      "                     [--lora_target_modules LORA_TARGET_MODULES [LORA_TARGET_MODULES ...]]\n",
      "                     [--lora_target_parameters LORA_TARGET_PARAMETERS [LORA_TARGET_PARAMETERS ...]]\n",
      "                     [--lora_modules_to_save LORA_MODULES_TO_SAVE [LORA_MODULES_TO_SAVE ...]]\n",
      "                     [--lora_task_type LORA_TASK_TYPE]\n",
      "                     [--use_rslora [USE_RSLORA]] [--use_dora [USE_DORA]]\n",
      "                     [--load_in_8bit [LOAD_IN_8BIT]]\n",
      "                     [--load_in_4bit [LOAD_IN_4BIT]]\n",
      "                     [--bnb_4bit_quant_type {fp4,nf4}]\n",
      "                     [--use_bnb_nested_quant [USE_BNB_NESTED_QUANT]]\n",
      "\n",
      "options:\n",
      "  -h, --help            show this help message and exit\n",
      "  --dataset_name DATASET_NAME, --dataset-name DATASET_NAME\n",
      "                        Path or name of the dataset to load. If `datasets` is\n",
      "                        provided, this will be ignored. (default: None)\n",
      "  --dataset_config DATASET_CONFIG, --dataset-config DATASET_CONFIG\n",
      "                        Dataset configuration name. Corresponds to the `name`\n",
      "                        argument of the `datasets.load_dataset` function. If\n",
      "                        `datasets` is provided, this will be ignored.\n",
      "                        (default: None)\n",
      "  --dataset_train_split DATASET_TRAIN_SPLIT, --dataset-train-split DATASET_TRAIN_SPLIT\n",
      "                        Dataset split to use for training. If `datasets` is\n",
      "                        provided, this will be ignored. (default: train)\n",
      "  --dataset_test_split DATASET_TEST_SPLIT, --dataset-test-split DATASET_TEST_SPLIT\n",
      "                        Dataset split to use for evaluation. If `datasets` is\n",
      "                        provided, this will be ignored. (default: test)\n",
      "  --dataset_streaming [DATASET_STREAMING], --dataset-streaming [DATASET_STREAMING]\n",
      "                        Whether to stream the dataset. If True, the dataset\n",
      "                        will be loaded in streaming mode. If `datasets` is\n",
      "                        provided, this will be ignored. (default: False)\n",
      "  --gradient_checkpointing_use_reentrant [GRADIENT_CHECKPOINTING_USE_REENTRANT], --gradient-checkpointing-use-reentrant [GRADIENT_CHECKPOINTING_USE_REENTRANT]\n",
      "                        Whether to apply `use_reentrant` for gradient\n",
      "                        checkpointing. (default: False)\n",
      "  --ignore_bias_buffers [IGNORE_BIAS_BUFFERS], --ignore-bias-buffers [IGNORE_BIAS_BUFFERS]\n",
      "                        Debug argument for distributed training. Fix for DDP\n",
      "                        issues with LM bias/mask buffers - invalid scalar\n",
      "                        type, inplace operation. See https://github.com/huggin\n",
      "                        gface/transformers/issues/22482#issuecomment-\n",
      "                        1595790992. (default: False)\n",
      "  --output_dir OUTPUT_DIR, --output-dir OUTPUT_DIR\n",
      "                        The output directory where the model predictions and\n",
      "                        checkpoints will be written. Defaults to\n",
      "                        'trainer_output' if not provided. (default: None)\n",
      "  --overwrite_output_dir [OVERWRITE_OUTPUT_DIR], --overwrite-output-dir [OVERWRITE_OUTPUT_DIR]\n",
      "                        Overwrite the content of the output directory. Use\n",
      "                        this to continue training if output_dir points to a\n",
      "                        checkpoint directory. (default: False)\n",
      "  --do_train [DO_TRAIN], --do-train [DO_TRAIN]\n",
      "                        Whether to run training. (default: False)\n",
      "  --do_eval [DO_EVAL], --do-eval [DO_EVAL]\n",
      "                        Whether to run eval on the dev set. (default: False)\n",
      "  --do_predict [DO_PREDICT], --do-predict [DO_PREDICT]\n",
      "                        Whether to run predictions on the test set. (default:\n",
      "                        False)\n",
      "  --eval_strategy {no,steps,epoch}, --eval-strategy {no,steps,epoch}\n",
      "                        The evaluation strategy to use. (default: no)\n",
      "  --prediction_loss_only [PREDICTION_LOSS_ONLY], --prediction-loss-only [PREDICTION_LOSS_ONLY]\n",
      "                        When performing evaluation and predictions, only\n",
      "                        returns the loss. (default: False)\n",
      "  --per_device_train_batch_size PER_DEVICE_TRAIN_BATCH_SIZE, --per-device-train-batch-size PER_DEVICE_TRAIN_BATCH_SIZE\n",
      "                        Batch size per device accelerator core/CPU for\n",
      "                        training. (default: 8)\n",
      "  --per_device_eval_batch_size PER_DEVICE_EVAL_BATCH_SIZE, --per-device-eval-batch-size PER_DEVICE_EVAL_BATCH_SIZE\n",
      "                        Batch size per device accelerator core/CPU for\n",
      "                        evaluation. (default: 8)\n",
      "  --per_gpu_train_batch_size PER_GPU_TRAIN_BATCH_SIZE, --per-gpu-train-batch-size PER_GPU_TRAIN_BATCH_SIZE\n",
      "                        Deprecated, the use of `--per_device_train_batch_size`\n",
      "                        is preferred. Batch size per GPU/TPU core/CPU for\n",
      "                        training. (default: None)\n",
      "  --per_gpu_eval_batch_size PER_GPU_EVAL_BATCH_SIZE, --per-gpu-eval-batch-size PER_GPU_EVAL_BATCH_SIZE\n",
      "                        Deprecated, the use of `--per_device_eval_batch_size`\n",
      "                        is preferred. Batch size per GPU/TPU core/CPU for\n",
      "                        evaluation. (default: None)\n",
      "  --gradient_accumulation_steps GRADIENT_ACCUMULATION_STEPS, --gradient-accumulation-steps GRADIENT_ACCUMULATION_STEPS\n",
      "                        Number of updates steps to accumulate before\n",
      "                        performing a backward/update pass. (default: 1)\n",
      "  --eval_accumulation_steps EVAL_ACCUMULATION_STEPS, --eval-accumulation-steps EVAL_ACCUMULATION_STEPS\n",
      "                        Number of predictions steps to accumulate before\n",
      "                        moving the tensors to the CPU. (default: None)\n",
      "  --eval_delay EVAL_DELAY, --eval-delay EVAL_DELAY\n",
      "                        Number of epochs or steps to wait for before the first\n",
      "                        evaluation can be performed, depending on the\n",
      "                        eval_strategy. (default: 0)\n",
      "  --torch_empty_cache_steps TORCH_EMPTY_CACHE_STEPS, --torch-empty-cache-steps TORCH_EMPTY_CACHE_STEPS\n",
      "                        Number of steps to wait before calling\n",
      "                        `torch.<device>.empty_cache()`.This can help avoid\n",
      "                        CUDA out-of-memory errors by lowering peak VRAM usage\n",
      "                        at a cost of about [10{'option_strings': ['--\n",
      "                        torch_empty_cache_steps', '--torch-empty-cache-\n",
      "                        steps'], 'dest': 'torch_empty_cache_steps', 'nargs':\n",
      "                        None, 'const': None, 'default': None, 'type': 'int',\n",
      "                        'choices': None, 'required': False, 'help': 'Number of\n",
      "                        steps to wait before calling\n",
      "                        `torch.<device>.empty_cache()`.This can help avoid\n",
      "                        CUDA out-of-memory errors by lowering peak VRAM usage\n",
      "                        at a cost of about [10% slower performance](https://gi\n",
      "                        thub.com/huggingface/transformers/issues/31372).If\n",
      "                        left unset or set to None, cache will not be\n",
      "                        emptied.', 'metavar': None, 'container':\n",
      "                        <argparse._ArgumentGroup object at 0x7fd794bbc680>,\n",
      "                        'prog': 'mainJNdAgg.py'}lower performance](https://git\n",
      "                        hub.com/huggingface/transformers/issues/31372).If left\n",
      "                        unset or set to None, cache will not be emptied.\n",
      "                        (default: None)\n",
      "  --learning_rate LEARNING_RATE, --learning-rate LEARNING_RATE\n",
      "                        The initial learning rate for AdamW. (default: 2e-05)\n",
      "  --weight_decay WEIGHT_DECAY, --weight-decay WEIGHT_DECAY\n",
      "                        Weight decay for AdamW if we apply some. (default:\n",
      "                        0.0)\n",
      "  --adam_beta1 ADAM_BETA1, --adam-beta1 ADAM_BETA1\n",
      "                        Beta1 for AdamW optimizer (default: 0.9)\n",
      "  --adam_beta2 ADAM_BETA2, --adam-beta2 ADAM_BETA2\n",
      "                        Beta2 for AdamW optimizer (default: 0.999)\n",
      "  --adam_epsilon ADAM_EPSILON, --adam-epsilon ADAM_EPSILON\n",
      "                        Epsilon for AdamW optimizer. (default: 1e-08)\n",
      "  --max_grad_norm MAX_GRAD_NORM, --max-grad-norm MAX_GRAD_NORM\n",
      "                        Max gradient norm. (default: 1.0)\n",
      "  --num_train_epochs NUM_TRAIN_EPOCHS, --num-train-epochs NUM_TRAIN_EPOCHS\n",
      "                        Total number of training epochs to perform. (default:\n",
      "                        3.0)\n",
      "  --max_steps MAX_STEPS, --max-steps MAX_STEPS\n",
      "                        If > 0: set total number of training steps to perform.\n",
      "                        Override num_train_epochs. (default: -1)\n",
      "  --lr_scheduler_type {linear,cosine,cosine_with_restarts,polynomial,constant,constant_with_warmup,inverse_sqrt,reduce_lr_on_plateau,cosine_with_min_lr,cosine_warmup_with_min_lr,warmup_stable_decay}, --lr-scheduler-type {linear,cosine,cosine_with_restarts,polynomial,constant,constant_with_warmup,inverse_sqrt,reduce_lr_on_plateau,cosine_with_min_lr,cosine_warmup_with_min_lr,warmup_stable_decay}\n",
      "                        The scheduler type to use. (default: linear)\n",
      "  --lr_scheduler_kwargs LR_SCHEDULER_KWARGS, --lr-scheduler-kwargs LR_SCHEDULER_KWARGS\n",
      "                        Extra parameters for the lr_scheduler such as\n",
      "                        {'num_cycles': 1} for the cosine with hard restarts.\n",
      "                        (default: {})\n",
      "  --warmup_ratio WARMUP_RATIO, --warmup-ratio WARMUP_RATIO\n",
      "                        Linear warmup over warmup_ratio fraction of total\n",
      "                        steps. (default: 0.0)\n",
      "  --warmup_steps WARMUP_STEPS, --warmup-steps WARMUP_STEPS\n",
      "                        Linear warmup over warmup_steps. (default: 0)\n",
      "  --log_level {detail,debug,info,warning,error,critical,passive}, --log-level {detail,debug,info,warning,error,critical,passive}\n",
      "                        Logger log level to use on the main node. Possible\n",
      "                        choices are the log levels as strings: 'debug',\n",
      "                        'info', 'warning', 'error' and 'critical', plus a\n",
      "                        'passive' level which doesn't set anything and lets\n",
      "                        the application set the level. Defaults to 'passive'.\n",
      "                        (default: passive)\n",
      "  --log_level_replica {detail,debug,info,warning,error,critical,passive}, --log-level-replica {detail,debug,info,warning,error,critical,passive}\n",
      "                        Logger log level to use on replica nodes. Same choices\n",
      "                        and defaults as ``log_level`` (default: warning)\n",
      "  --log_on_each_node [LOG_ON_EACH_NODE], --log-on-each-node [LOG_ON_EACH_NODE]\n",
      "                        When doing a multinode distributed training, whether\n",
      "                        to log once per node or just once on the main node.\n",
      "                        (default: True)\n",
      "  --no_log_on_each_node, --no-log-on-each-node\n",
      "                        When doing a multinode distributed training, whether\n",
      "                        to log once per node or just once on the main node.\n",
      "                        (default: False)\n",
      "  --logging_dir LOGGING_DIR, --logging-dir LOGGING_DIR\n",
      "                        Tensorboard log dir. (default: None)\n",
      "  --logging_strategy {no,steps,epoch}, --logging-strategy {no,steps,epoch}\n",
      "                        The logging strategy to use. (default: steps)\n",
      "  --logging_first_step [LOGGING_FIRST_STEP], --logging-first-step [LOGGING_FIRST_STEP]\n",
      "                        Log the first global_step (default: False)\n",
      "  --logging_steps LOGGING_STEPS, --logging-steps LOGGING_STEPS\n",
      "                        Log every X updates steps. Should be an integer or a\n",
      "                        float in range `[0,1)`. If smaller than 1, will be\n",
      "                        interpreted as ratio of total training steps.\n",
      "                        (default: 10)\n",
      "  --logging_nan_inf_filter [LOGGING_NAN_INF_FILTER], --logging-nan-inf-filter [LOGGING_NAN_INF_FILTER]\n",
      "                        Filter nan and inf losses for logging. (default: True)\n",
      "  --no_logging_nan_inf_filter, --no-logging-nan-inf-filter\n",
      "                        Filter nan and inf losses for logging. (default:\n",
      "                        False)\n",
      "  --save_strategy {no,steps,epoch,best}, --save-strategy {no,steps,epoch,best}\n",
      "                        The checkpoint save strategy to use. (default: steps)\n",
      "  --save_steps SAVE_STEPS, --save-steps SAVE_STEPS\n",
      "                        Save checkpoint every X updates steps. Should be an\n",
      "                        integer or a float in range `[0,1)`. If smaller than\n",
      "                        1, will be interpreted as ratio of total training\n",
      "                        steps. (default: 500)\n",
      "  --save_total_limit SAVE_TOTAL_LIMIT, --save-total-limit SAVE_TOTAL_LIMIT\n",
      "                        If a value is passed, will limit the total amount of\n",
      "                        checkpoints. Deletes the older checkpoints in\n",
      "                        `output_dir`. When `load_best_model_at_end` is\n",
      "                        enabled, the 'best' checkpoint according to\n",
      "                        `metric_for_best_model` will always be retained in\n",
      "                        addition to the most recent ones. For example, for\n",
      "                        `save_total_limit=5` and\n",
      "                        `load_best_model_at_end=True`, the four last\n",
      "                        checkpoints will always be retained alongside the best\n",
      "                        model. When `save_total_limit=1` and\n",
      "                        `load_best_model_at_end=True`, it is possible that two\n",
      "                        checkpoints are saved: the last one and the best one\n",
      "                        (if they are different). Default is unlimited\n",
      "                        checkpoints (default: None)\n",
      "  --save_safetensors [SAVE_SAFETENSORS], --save-safetensors [SAVE_SAFETENSORS]\n",
      "                        Use safetensors saving and loading for state dicts\n",
      "                        instead of default torch.load and torch.save.\n",
      "                        (default: True)\n",
      "  --no_save_safetensors, --no-save-safetensors\n",
      "                        Use safetensors saving and loading for state dicts\n",
      "                        instead of default torch.load and torch.save.\n",
      "                        (default: False)\n",
      "  --save_on_each_node [SAVE_ON_EACH_NODE], --save-on-each-node [SAVE_ON_EACH_NODE]\n",
      "                        When doing multi-node distributed training, whether to\n",
      "                        save models and checkpoints on each node, or only on\n",
      "                        the main one (default: False)\n",
      "  --save_only_model [SAVE_ONLY_MODEL], --save-only-model [SAVE_ONLY_MODEL]\n",
      "                        When checkpointing, whether to only save the model, or\n",
      "                        also the optimizer, scheduler & rng state.Note that\n",
      "                        when this is true, you won't be able to resume\n",
      "                        training from checkpoint.This enables you to save\n",
      "                        storage by not storing the optimizer, scheduler & rng\n",
      "                        state.You can only load the model using\n",
      "                        from_pretrained with this option set to True.\n",
      "                        (default: False)\n",
      "  --restore_callback_states_from_checkpoint [RESTORE_CALLBACK_STATES_FROM_CHECKPOINT], --restore-callback-states-from-checkpoint [RESTORE_CALLBACK_STATES_FROM_CHECKPOINT]\n",
      "                        Whether to restore the callback states from the\n",
      "                        checkpoint. If `True`, will override callbacks passed\n",
      "                        to the `Trainer` if they exist in the checkpoint.\n",
      "                        (default: False)\n",
      "  --no_cuda [NO_CUDA], --no-cuda [NO_CUDA]\n",
      "                        This argument is deprecated. It will be removed in\n",
      "                        version 5.0 of 🤗 Transformers. (default: False)\n",
      "  --use_cpu [USE_CPU], --use-cpu [USE_CPU]\n",
      "                        Whether or not to use cpu. If left to False, we will\n",
      "                        use the available torch device/backend\n",
      "                        (cuda/mps/xpu/hpu etc.) (default: False)\n",
      "  --use_mps_device [USE_MPS_DEVICE], --use-mps-device [USE_MPS_DEVICE]\n",
      "                        This argument is deprecated. `mps` device will be used\n",
      "                        if available similar to `cuda` device. It will be\n",
      "                        removed in version 5.0 of 🤗 Transformers (default:\n",
      "                        False)\n",
      "  --seed SEED           Random seed that will be set at the beginning of\n",
      "                        training. (default: 42)\n",
      "  --data_seed DATA_SEED, --data-seed DATA_SEED\n",
      "                        Random seed to be used with data samplers. (default:\n",
      "                        None)\n",
      "  --jit_mode_eval [JIT_MODE_EVAL], --jit-mode-eval [JIT_MODE_EVAL]\n",
      "                        Whether or not to use PyTorch jit trace for inference\n",
      "                        (default: False)\n",
      "  --use_ipex [USE_IPEX], --use-ipex [USE_IPEX]\n",
      "                        Use Intel extension for PyTorch when it is available,\n",
      "                        installation: 'https://github.com/intel/intel-\n",
      "                        extension-for-pytorch' (default: False)\n",
      "  --bf16 BF16           Whether to use bf16 (mixed) precision instead of\n",
      "                        32-bit. Requires Ampere or higher NVIDIA architecture\n",
      "                        or Intel XPU or using CPU (use_cpu) or Ascend NPU. If\n",
      "                        not set, it defaults to `True` if `fp16` is not set.\n",
      "                        (default: None)\n",
      "  --fp16 [FP16]         Whether to use fp16 (mixed) precision instead of\n",
      "                        32-bit (default: False)\n",
      "  --fp16_opt_level FP16_OPT_LEVEL, --fp16-opt-level FP16_OPT_LEVEL\n",
      "                        For fp16: Apex AMP optimization level selected in\n",
      "                        ['O0', 'O1', 'O2', and 'O3']. See details at\n",
      "                        https://nvidia.github.io/apex/amp.html (default: O1)\n",
      "  --half_precision_backend {auto,apex,cpu_amp}, --half-precision-backend {auto,apex,cpu_amp}\n",
      "                        The backend to be used for half precision. (default:\n",
      "                        auto)\n",
      "  --bf16_full_eval [BF16_FULL_EVAL], --bf16-full-eval [BF16_FULL_EVAL]\n",
      "                        Whether to use full bfloat16 evaluation instead of\n",
      "                        32-bit. This is an experimental API and it may change.\n",
      "                        (default: False)\n",
      "  --fp16_full_eval [FP16_FULL_EVAL], --fp16-full-eval [FP16_FULL_EVAL]\n",
      "                        Whether to use full float16 evaluation instead of\n",
      "                        32-bit (default: False)\n",
      "  --tf32 TF32           Whether to enable tf32 mode, available in Ampere and\n",
      "                        newer GPU architectures. This is an experimental API\n",
      "                        and it may change. (default: None)\n",
      "  --local_rank LOCAL_RANK, --local-rank LOCAL_RANK\n",
      "                        For distributed training: local_rank (default: -1)\n",
      "  --ddp_backend {nccl,gloo,mpi,ccl,hccl,cncl,mccl}, --ddp-backend {nccl,gloo,mpi,ccl,hccl,cncl,mccl}\n",
      "                        The backend to be used for distributed training\n",
      "                        (default: None)\n",
      "  --tpu_num_cores TPU_NUM_CORES, --tpu-num-cores TPU_NUM_CORES\n",
      "                        TPU: Number of TPU cores (automatically passed by\n",
      "                        launcher script) (default: None)\n",
      "  --tpu_metrics_debug [TPU_METRICS_DEBUG], --tpu-metrics-debug [TPU_METRICS_DEBUG]\n",
      "                        Deprecated, the use of `--debug tpu_metrics_debug` is\n",
      "                        preferred. TPU: Whether to print debug metrics\n",
      "                        (default: False)\n",
      "  --debug DEBUG [DEBUG ...]\n",
      "                        Whether or not to enable debug mode. Current options:\n",
      "                        `underflow_overflow` (Detect underflow and overflow in\n",
      "                        activations and weights), `tpu_metrics_debug` (print\n",
      "                        debug metrics on TPU). (default: None)\n",
      "  --dataloader_drop_last [DATALOADER_DROP_LAST], --dataloader-drop-last [DATALOADER_DROP_LAST]\n",
      "                        Drop the last incomplete batch if it is not divisible\n",
      "                        by the batch size. (default: False)\n",
      "  --eval_steps EVAL_STEPS, --eval-steps EVAL_STEPS\n",
      "                        Run an evaluation every X steps. Should be an integer\n",
      "                        or a float in range `[0,1)`. If smaller than 1, will\n",
      "                        be interpreted as ratio of total training steps.\n",
      "                        (default: None)\n",
      "  --dataloader_num_workers DATALOADER_NUM_WORKERS, --dataloader-num-workers DATALOADER_NUM_WORKERS\n",
      "                        Number of subprocesses to use for data loading\n",
      "                        (PyTorch only). 0 means that the data will be loaded\n",
      "                        in the main process. (default: 0)\n",
      "  --dataloader_prefetch_factor DATALOADER_PREFETCH_FACTOR, --dataloader-prefetch-factor DATALOADER_PREFETCH_FACTOR\n",
      "                        Number of batches loaded in advance by each worker. 2\n",
      "                        means there will be a total of 2 * num_workers batches\n",
      "                        prefetched across all workers. (default: None)\n",
      "  --past_index PAST_INDEX, --past-index PAST_INDEX\n",
      "                        If >=0, uses the corresponding part of the output as\n",
      "                        the past state for next step. (default: -1)\n",
      "  --run_name RUN_NAME, --run-name RUN_NAME\n",
      "                        An optional descriptor for the run. Notably used for\n",
      "                        trackio, wandb, mlflow comet and swanlab logging.\n",
      "                        (default: None)\n",
      "  --disable_tqdm DISABLE_TQDM, --disable-tqdm DISABLE_TQDM\n",
      "                        Whether or not to disable the tqdm progress bars.\n",
      "                        (default: None)\n",
      "  --remove_unused_columns [REMOVE_UNUSED_COLUMNS], --remove-unused-columns [REMOVE_UNUSED_COLUMNS]\n",
      "                        Remove columns not required by the model when using an\n",
      "                        nlp.Dataset. (default: True)\n",
      "  --no_remove_unused_columns, --no-remove-unused-columns\n",
      "                        Remove columns not required by the model when using an\n",
      "                        nlp.Dataset. (default: False)\n",
      "  --label_names LABEL_NAMES [LABEL_NAMES ...], --label-names LABEL_NAMES [LABEL_NAMES ...]\n",
      "                        The list of keys in your dictionary of inputs that\n",
      "                        correspond to the labels. (default: None)\n",
      "  --load_best_model_at_end [LOAD_BEST_MODEL_AT_END], --load-best-model-at-end [LOAD_BEST_MODEL_AT_END]\n",
      "                        Whether or not to load the best model found during\n",
      "                        training at the end of training. When this option is\n",
      "                        enabled, the best checkpoint will always be saved. See\n",
      "                        `save_total_limit` for more. (default: False)\n",
      "  --metric_for_best_model METRIC_FOR_BEST_MODEL, --metric-for-best-model METRIC_FOR_BEST_MODEL\n",
      "                        The metric to use to compare two different models.\n",
      "                        (default: None)\n",
      "  --greater_is_better GREATER_IS_BETTER, --greater-is-better GREATER_IS_BETTER\n",
      "                        Whether the `metric_for_best_model` should be\n",
      "                        maximized or not. (default: None)\n",
      "  --ignore_data_skip [IGNORE_DATA_SKIP], --ignore-data-skip [IGNORE_DATA_SKIP]\n",
      "                        When resuming training, whether or not to skip the\n",
      "                        first epochs and batches to get to the same training\n",
      "                        data. (default: False)\n",
      "  --fsdp FSDP           Whether or not to use PyTorch Fully Sharded Data\n",
      "                        Parallel (FSDP) training (in distributed training\n",
      "                        only). The base option should be `full_shard`,\n",
      "                        `shard_grad_op` or `no_shard` and you can add CPU-\n",
      "                        offload to `full_shard` or `shard_grad_op` like this:\n",
      "                        full_shard offload` or `shard_grad_op offload`. You\n",
      "                        can add auto-wrap to `full_shard` or `shard_grad_op`\n",
      "                        with the same syntax: full_shard auto_wrap` or\n",
      "                        `shard_grad_op auto_wrap`. (default: )\n",
      "  --fsdp_min_num_params FSDP_MIN_NUM_PARAMS, --fsdp-min-num-params FSDP_MIN_NUM_PARAMS\n",
      "                        This parameter is deprecated. FSDP's minimum number of\n",
      "                        parameters for Default Auto Wrapping. (useful only\n",
      "                        when `fsdp` field is passed). (default: 0)\n",
      "  --fsdp_config FSDP_CONFIG, --fsdp-config FSDP_CONFIG\n",
      "                        Config to be used with FSDP (Pytorch Fully Sharded\n",
      "                        Data Parallel). The value is either a fsdp json config\n",
      "                        file (e.g., `fsdp_config.json`) or an already loaded\n",
      "                        json file as `dict`. (default: None)\n",
      "  --fsdp_transformer_layer_cls_to_wrap FSDP_TRANSFORMER_LAYER_CLS_TO_WRAP, --fsdp-transformer-layer-cls-to-wrap FSDP_TRANSFORMER_LAYER_CLS_TO_WRAP\n",
      "                        This parameter is deprecated. Transformer layer class\n",
      "                        name (case-sensitive) to wrap, e.g, `BertLayer`,\n",
      "                        `GPTJBlock`, `T5Block` .... (useful only when `fsdp`\n",
      "                        flag is passed). (default: None)\n",
      "  --accelerator_config ACCELERATOR_CONFIG, --accelerator-config ACCELERATOR_CONFIG\n",
      "                        Config to be used with the internal Accelerator object\n",
      "                        initialization. The value is either a accelerator json\n",
      "                        config file (e.g., `accelerator_config.json`) or an\n",
      "                        already loaded json file as `dict`. (default: None)\n",
      "  --parallelism_config PARALLELISM_CONFIG, --parallelism-config PARALLELISM_CONFIG\n",
      "                        Parallelism configuration for the training run.\n",
      "                        Requires Accelerate `1.10.1` (default: None)\n",
      "  --deepspeed DEEPSPEED\n",
      "                        Enable deepspeed and pass the path to deepspeed json\n",
      "                        config file (e.g. `ds_config.json`) or an already\n",
      "                        loaded json file as a dict (default: None)\n",
      "  --label_smoothing_factor LABEL_SMOOTHING_FACTOR, --label-smoothing-factor LABEL_SMOOTHING_FACTOR\n",
      "                        The label smoothing epsilon to apply (zero means no\n",
      "                        label smoothing). (default: 0.0)\n",
      "  --optim {adamw_torch,adamw_torch_fused,adamw_torch_xla,adamw_torch_npu_fused,adamw_apex_fused,adafactor,adamw_anyprecision,adamw_torch_4bit,adamw_torch_8bit,ademamix,sgd,adagrad,adamw_bnb_8bit,adamw_8bit,ademamix_8bit,lion_8bit,lion_32bit,paged_adamw_32bit,paged_adamw_8bit,paged_ademamix_32bit,paged_ademamix_8bit,paged_lion_32bit,paged_lion_8bit,rmsprop,rmsprop_bnb,rmsprop_bnb_8bit,rmsprop_bnb_32bit,galore_adamw,galore_adamw_8bit,galore_adafactor,galore_adamw_layerwise,galore_adamw_8bit_layerwise,galore_adafactor_layerwise,lomo,adalomo,grokadamw,schedule_free_radam,schedule_free_adamw,schedule_free_sgd,apollo_adamw,apollo_adamw_layerwise,stable_adamw}\n",
      "                        The optimizer to use. (default: adamw_torch_fused)\n",
      "  --optim_args OPTIM_ARGS, --optim-args OPTIM_ARGS\n",
      "                        Optional arguments to supply to optimizer. (default:\n",
      "                        None)\n",
      "  --adafactor [ADAFACTOR]\n",
      "                        Whether or not to replace AdamW by Adafactor.\n",
      "                        (default: False)\n",
      "  --group_by_length [GROUP_BY_LENGTH], --group-by-length [GROUP_BY_LENGTH]\n",
      "                        Whether or not to group samples of roughly the same\n",
      "                        length together when batching. (default: False)\n",
      "  --length_column_name LENGTH_COLUMN_NAME, --length-column-name LENGTH_COLUMN_NAME\n",
      "                        Column name with precomputed lengths to use when\n",
      "                        grouping by length. (default: length)\n",
      "  --report_to REPORT_TO, --report-to REPORT_TO\n",
      "                        The list of integrations to report the results and\n",
      "                        logs to. (default: None)\n",
      "  --ddp_find_unused_parameters DDP_FIND_UNUSED_PARAMETERS, --ddp-find-unused-parameters DDP_FIND_UNUSED_PARAMETERS\n",
      "                        When using distributed training, the value of the flag\n",
      "                        `find_unused_parameters` passed to\n",
      "                        `DistributedDataParallel`. (default: None)\n",
      "  --ddp_bucket_cap_mb DDP_BUCKET_CAP_MB, --ddp-bucket-cap-mb DDP_BUCKET_CAP_MB\n",
      "                        When using distributed training, the value of the flag\n",
      "                        `bucket_cap_mb` passed to `DistributedDataParallel`.\n",
      "                        (default: None)\n",
      "  --ddp_broadcast_buffers DDP_BROADCAST_BUFFERS, --ddp-broadcast-buffers DDP_BROADCAST_BUFFERS\n",
      "                        When using distributed training, the value of the flag\n",
      "                        `broadcast_buffers` passed to\n",
      "                        `DistributedDataParallel`. (default: None)\n",
      "  --dataloader_pin_memory [DATALOADER_PIN_MEMORY], --dataloader-pin-memory [DATALOADER_PIN_MEMORY]\n",
      "                        Whether or not to pin memory for DataLoader. (default:\n",
      "                        True)\n",
      "  --no_dataloader_pin_memory, --no-dataloader-pin-memory\n",
      "                        Whether or not to pin memory for DataLoader. (default:\n",
      "                        False)\n",
      "  --dataloader_persistent_workers [DATALOADER_PERSISTENT_WORKERS], --dataloader-persistent-workers [DATALOADER_PERSISTENT_WORKERS]\n",
      "                        If True, the data loader will not shut down the worker\n",
      "                        processes after a dataset has been consumed once. This\n",
      "                        allows to maintain the workers Dataset instances\n",
      "                        alive. Can potentially speed up training, but will\n",
      "                        increase RAM usage. (default: False)\n",
      "  --skip_memory_metrics [SKIP_MEMORY_METRICS], --skip-memory-metrics [SKIP_MEMORY_METRICS]\n",
      "                        Whether or not to skip adding of memory profiler\n",
      "                        reports to metrics. (default: True)\n",
      "  --no_skip_memory_metrics, --no-skip-memory-metrics\n",
      "                        Whether or not to skip adding of memory profiler\n",
      "                        reports to metrics. (default: False)\n",
      "  --use_legacy_prediction_loop [USE_LEGACY_PREDICTION_LOOP], --use-legacy-prediction-loop [USE_LEGACY_PREDICTION_LOOP]\n",
      "                        Whether or not to use the legacy prediction_loop in\n",
      "                        the Trainer. (default: False)\n",
      "  --push_to_hub [PUSH_TO_HUB], --push-to-hub [PUSH_TO_HUB]\n",
      "                        Whether or not to upload the trained model to the\n",
      "                        model hub after training. (default: False)\n",
      "  --resume_from_checkpoint RESUME_FROM_CHECKPOINT, --resume-from-checkpoint RESUME_FROM_CHECKPOINT\n",
      "                        The path to a folder with a valid checkpoint for your\n",
      "                        model. (default: None)\n",
      "  --hub_model_id HUB_MODEL_ID, --hub-model-id HUB_MODEL_ID\n",
      "                        The name of the repository to keep in sync with the\n",
      "                        local `output_dir`. (default: None)\n",
      "  --hub_strategy {end,every_save,checkpoint,all_checkpoints}, --hub-strategy {end,every_save,checkpoint,all_checkpoints}\n",
      "                        The hub strategy to use when `--push_to_hub` is\n",
      "                        activated. (default: every_save)\n",
      "  --hub_token HUB_TOKEN, --hub-token HUB_TOKEN\n",
      "                        The token to use to push to the Model Hub. (default:\n",
      "                        None)\n",
      "  --hub_private_repo HUB_PRIVATE_REPO, --hub-private-repo HUB_PRIVATE_REPO\n",
      "                        Whether to make the repo private. If `None` (default),\n",
      "                        the repo will be public unless the organization's\n",
      "                        default is private. This value is ignored if the repo\n",
      "                        already exists. (default: None)\n",
      "  --hub_always_push [HUB_ALWAYS_PUSH], --hub-always-push [HUB_ALWAYS_PUSH]\n",
      "                        Unless `True`, the Trainer will skip pushes if the\n",
      "                        previous one wasn't finished yet. (default: False)\n",
      "  --hub_revision HUB_REVISION, --hub-revision HUB_REVISION\n",
      "                        The revision to use when pushing to the Hub. Can be a\n",
      "                        branch name, a tag, or a commit hash. (default: None)\n",
      "  --gradient_checkpointing [GRADIENT_CHECKPOINTING], --gradient-checkpointing [GRADIENT_CHECKPOINTING]\n",
      "                        If True, use gradient checkpointing to save memory at\n",
      "                        the expense of slower backward pass. (default: True)\n",
      "  --no_gradient_checkpointing, --no-gradient-checkpointing\n",
      "                        If True, use gradient checkpointing to save memory at\n",
      "                        the expense of slower backward pass. (default: False)\n",
      "  --gradient_checkpointing_kwargs GRADIENT_CHECKPOINTING_KWARGS, --gradient-checkpointing-kwargs GRADIENT_CHECKPOINTING_KWARGS\n",
      "                        Gradient checkpointing key word arguments such as\n",
      "                        `use_reentrant`. Will be passed to\n",
      "                        `torch.utils.checkpoint.checkpoint` through\n",
      "                        `model.gradient_checkpointing_enable`. (default: None)\n",
      "  --include_inputs_for_metrics [INCLUDE_INPUTS_FOR_METRICS], --include-inputs-for-metrics [INCLUDE_INPUTS_FOR_METRICS]\n",
      "                        This argument is deprecated and will be removed in\n",
      "                        version 5 of 🤗 Transformers. Use `include_for_metrics`\n",
      "                        instead. (default: False)\n",
      "  --include_for_metrics INCLUDE_FOR_METRICS [INCLUDE_FOR_METRICS ...], --include-for-metrics INCLUDE_FOR_METRICS [INCLUDE_FOR_METRICS ...]\n",
      "                        List of strings to specify additional data to include\n",
      "                        in the `compute_metrics` function.Options: 'inputs',\n",
      "                        'loss'. (default: [])\n",
      "  --eval_do_concat_batches [EVAL_DO_CONCAT_BATCHES], --eval-do-concat-batches [EVAL_DO_CONCAT_BATCHES]\n",
      "                        Whether to recursively concat\n",
      "                        inputs/losses/labels/predictions across batches. If\n",
      "                        `False`, will instead store them as lists, with each\n",
      "                        batch kept separate. (default: True)\n",
      "  --no_eval_do_concat_batches, --no-eval-do-concat-batches\n",
      "                        Whether to recursively concat\n",
      "                        inputs/losses/labels/predictions across batches. If\n",
      "                        `False`, will instead store them as lists, with each\n",
      "                        batch kept separate. (default: False)\n",
      "  --fp16_backend {auto,apex,cpu_amp}, --fp16-backend {auto,apex,cpu_amp}\n",
      "                        Deprecated. Use half_precision_backend instead\n",
      "                        (default: auto)\n",
      "  --push_to_hub_model_id PUSH_TO_HUB_MODEL_ID, --push-to-hub-model-id PUSH_TO_HUB_MODEL_ID\n",
      "                        The name of the repository to which push the\n",
      "                        `Trainer`. (default: None)\n",
      "  --push_to_hub_organization PUSH_TO_HUB_ORGANIZATION, --push-to-hub-organization PUSH_TO_HUB_ORGANIZATION\n",
      "                        The name of the organization in with to which push the\n",
      "                        `Trainer`. (default: None)\n",
      "  --push_to_hub_token PUSH_TO_HUB_TOKEN, --push-to-hub-token PUSH_TO_HUB_TOKEN\n",
      "                        The token to use to push to the Model Hub. (default:\n",
      "                        None)\n",
      "  --mp_parameters MP_PARAMETERS, --mp-parameters MP_PARAMETERS\n",
      "                        Used by the SageMaker launcher to send mp-specific\n",
      "                        args. Ignored in Trainer (default: )\n",
      "  --auto_find_batch_size [AUTO_FIND_BATCH_SIZE], --auto-find-batch-size [AUTO_FIND_BATCH_SIZE]\n",
      "                        Whether to automatically decrease the batch size in\n",
      "                        half and rerun the training loop again each time a\n",
      "                        CUDA Out-of-Memory was reached (default: False)\n",
      "  --full_determinism [FULL_DETERMINISM], --full-determinism [FULL_DETERMINISM]\n",
      "                        Whether to call enable_full_determinism instead of\n",
      "                        set_seed for reproducibility in distributed training.\n",
      "                        Important: this will negatively impact the\n",
      "                        performance, so only use it for debugging. (default:\n",
      "                        False)\n",
      "  --torchdynamo TORCHDYNAMO\n",
      "                        This argument is deprecated, use\n",
      "                        `--torch_compile_backend` instead. (default: None)\n",
      "  --ray_scope RAY_SCOPE, --ray-scope RAY_SCOPE\n",
      "                        The scope to use when doing hyperparameter search with\n",
      "                        Ray. By default, `\"last\"` will be used. Ray will then\n",
      "                        use the last checkpoint of all trials, compare those,\n",
      "                        and select the best one. However, other options are\n",
      "                        also available. See the Ray documentation (https://doc\n",
      "                        s.ray.io/en/latest/tune/api_docs/analysis.html#ray.tun\n",
      "                        e.ExperimentAnalysis.get_best_trial) for more options.\n",
      "                        (default: last)\n",
      "  --ddp_timeout DDP_TIMEOUT, --ddp-timeout DDP_TIMEOUT\n",
      "                        Overrides the default timeout for distributed training\n",
      "                        (value should be given in seconds). (default: 1800)\n",
      "  --torch_compile [TORCH_COMPILE], --torch-compile [TORCH_COMPILE]\n",
      "                        If set to `True`, the model will be wrapped in\n",
      "                        `torch.compile`. (default: False)\n",
      "  --torch_compile_backend TORCH_COMPILE_BACKEND, --torch-compile-backend TORCH_COMPILE_BACKEND\n",
      "                        Which backend to use with `torch.compile`, passing one\n",
      "                        will trigger a model compilation. (default: None)\n",
      "  --torch_compile_mode TORCH_COMPILE_MODE, --torch-compile-mode TORCH_COMPILE_MODE\n",
      "                        Which mode to use with `torch.compile`, passing one\n",
      "                        will trigger a model compilation. (default: None)\n",
      "  --include_tokens_per_second [INCLUDE_TOKENS_PER_SECOND], --include-tokens-per-second [INCLUDE_TOKENS_PER_SECOND]\n",
      "                        If set to `True`, the speed metrics will include `tgs`\n",
      "                        (tokens per second per device). (default: False)\n",
      "  --include_num_input_tokens_seen [INCLUDE_NUM_INPUT_TOKENS_SEEN], --include-num-input-tokens-seen [INCLUDE_NUM_INPUT_TOKENS_SEEN]\n",
      "                        If set to `True`, will track the number of input\n",
      "                        tokens seen throughout training. (May be slower in\n",
      "                        distributed training) (default: False)\n",
      "  --neftune_noise_alpha NEFTUNE_NOISE_ALPHA, --neftune-noise-alpha NEFTUNE_NOISE_ALPHA\n",
      "                        Activates neftune noise embeddings into the model.\n",
      "                        NEFTune has been proven to drastically improve model\n",
      "                        performances for instruction fine-tuning. Check out\n",
      "                        the original paper here:\n",
      "                        https://huggingface.co/papers/2310.05914 and the\n",
      "                        original code here:\n",
      "                        https://github.com/neelsjain/NEFTune. Only supported\n",
      "                        for `PreTrainedModel` and `PeftModel` classes.\n",
      "                        (default: None)\n",
      "  --optim_target_modules OPTIM_TARGET_MODULES, --optim-target-modules OPTIM_TARGET_MODULES\n",
      "                        Target modules for the optimizer defined in the\n",
      "                        `optim` argument. Only used for the GaLore optimizer\n",
      "                        at the moment. (default: None)\n",
      "  --batch_eval_metrics [BATCH_EVAL_METRICS], --batch-eval-metrics [BATCH_EVAL_METRICS]\n",
      "                        Break eval metrics calculation into batches to save\n",
      "                        memory. (default: False)\n",
      "  --eval_on_start [EVAL_ON_START], --eval-on-start [EVAL_ON_START]\n",
      "                        Whether to run through the entire `evaluation` step at\n",
      "                        the very beginning of training as a sanity check.\n",
      "                        (default: False)\n",
      "  --use_liger_kernel [USE_LIGER_KERNEL], --use-liger-kernel [USE_LIGER_KERNEL]\n",
      "                        Whether or not to enable the Liger Kernel for model\n",
      "                        training. (default: False)\n",
      "  --liger_kernel_config LIGER_KERNEL_CONFIG, --liger-kernel-config LIGER_KERNEL_CONFIG\n",
      "                        Configuration to be used for Liger Kernel. When\n",
      "                        use_liger_kernel=True, this dict is passed as keyword\n",
      "                        arguments to the `_apply_liger_kernel_to_instance`\n",
      "                        function, which specifies which kernels to apply.\n",
      "                        Available options vary by model but typically include:\n",
      "                        'rope', 'swiglu', 'cross_entropy',\n",
      "                        'fused_linear_cross_entropy', 'rms_norm', etc. If\n",
      "                        None, use the default kernel configurations. (default:\n",
      "                        None)\n",
      "  --eval_use_gather_object [EVAL_USE_GATHER_OBJECT], --eval-use-gather-object [EVAL_USE_GATHER_OBJECT]\n",
      "                        Whether to run recursively gather object in a nested\n",
      "                        list/tuple/dictionary of objects from all devices.\n",
      "                        (default: False)\n",
      "  --average_tokens_across_devices [AVERAGE_TOKENS_ACROSS_DEVICES], --average-tokens-across-devices [AVERAGE_TOKENS_ACROSS_DEVICES]\n",
      "                        Whether or not to average tokens across devices. If\n",
      "                        enabled, will use all_reduce to synchronize\n",
      "                        num_tokens_in_batch for precise loss calculation.\n",
      "                        Reference: https://github.com/huggingface/transformers\n",
      "                        /issues/34242 (default: True)\n",
      "  --no_average_tokens_across_devices, --no-average-tokens-across-devices\n",
      "                        Whether or not to average tokens across devices. If\n",
      "                        enabled, will use all_reduce to synchronize\n",
      "                        num_tokens_in_batch for precise loss calculation.\n",
      "                        Reference: https://github.com/huggingface/transformers\n",
      "                        /issues/34242 (default: False)\n",
      "  --model_init_kwargs MODEL_INIT_KWARGS, --model-init-kwargs MODEL_INIT_KWARGS\n",
      "                        Keyword arguments for\n",
      "                        `AutoModelForCausalLM.from_pretrained`, used when the\n",
      "                        `model` argument of the `SFTTrainer` is provided as a\n",
      "                        string. (default: None)\n",
      "  --chat_template_path CHAT_TEMPLATE_PATH, --chat-template-path CHAT_TEMPLATE_PATH\n",
      "                        If specified, sets the model's chat template. This can\n",
      "                        either be the path to a tokenizer (local directory or\n",
      "                        Hugging Face Hub model) or a direct path to a Jinja\n",
      "                        template file. When using a Jinja file, you must\n",
      "                        ensure that any special tokens referenced in the\n",
      "                        template are added to the tokenizer and that the\n",
      "                        model's embedding layer is resized accordingly.\n",
      "                        (default: None)\n",
      "  --dataset_text_field DATASET_TEXT_FIELD, --dataset-text-field DATASET_TEXT_FIELD\n",
      "                        Name of the column that contains text data in the\n",
      "                        dataset. (default: text)\n",
      "  --dataset_kwargs DATASET_KWARGS, --dataset-kwargs DATASET_KWARGS\n",
      "                        Dictionary of optional keyword arguments for the\n",
      "                        dataset preparation. The only supported key is\n",
      "                        `skip_prepare_dataset`. If the model is a VLM,\n",
      "                        `skip_prepare_dataset` value is ignored. When the\n",
      "                        model is a VLM, `skip_prepare_dataset` is\n",
      "                        automatically treated as `True` regardless of the\n",
      "                        provided value, since preprocessing is done on the\n",
      "                        fly. (default: None)\n",
      "  --dataset_num_proc DATASET_NUM_PROC, --dataset-num-proc DATASET_NUM_PROC\n",
      "                        Number of processes to use for processing the dataset.\n",
      "                        (default: None)\n",
      "  --eos_token EOS_TOKEN, --eos-token EOS_TOKEN\n",
      "                        Token used to indicate the end of a turn or sequence.\n",
      "                        If `None`, it defaults to\n",
      "                        `processing_class.eos_token`. (default: None)\n",
      "  --pad_token PAD_TOKEN, --pad-token PAD_TOKEN\n",
      "                        Token used for padding. If `None`, it defaults to\n",
      "                        `processing_class.pad_token`, or if that is also\n",
      "                        `None`, it falls back to `processing_class.eos_token`.\n",
      "                        (default: None)\n",
      "  --max_length MAX_LENGTH, --max-length MAX_LENGTH\n",
      "                        Maximum length of the tokenized sequence. Sequences\n",
      "                        longer than `max_length` are truncated fromthe right.\n",
      "                        If `None`, no truncation is applied. When packing is\n",
      "                        enabled, this value sets the sequence length.\n",
      "                        (default: 1024)\n",
      "  --packing [PACKING]   Whether to group multiple sequences into fixed-length\n",
      "                        blocks to improve computational efficiency and reduce\n",
      "                        padding. Uses `max_length` to define sequence length.\n",
      "                        (default: False)\n",
      "  --packing_strategy PACKING_STRATEGY, --packing-strategy PACKING_STRATEGY\n",
      "                        Strategy for packing sequences. Can be either `'bfd'`\n",
      "                        (best-fit decreasing, default), or `'wrapped'`.\n",
      "                        (default: bfd)\n",
      "  --padding_free [PADDING_FREE], --padding-free [PADDING_FREE]\n",
      "                        Whether to perform forward passes without padding by\n",
      "                        flattening all sequences in the batch into a single\n",
      "                        continuous sequence. This reduces memory usage by\n",
      "                        eliminating padding overhead. Currently, this is only\n",
      "                        supported with the FlashAttention 2 or 3, which can\n",
      "                        efficiently handle the flattened batch structure. When\n",
      "                        packing is enabled with strategy `'bfd'`, padding-free\n",
      "                        is enabled, regardless of the value of this parameter.\n",
      "                        (default: False)\n",
      "  --pad_to_multiple_of PAD_TO_MULTIPLE_OF, --pad-to-multiple-of PAD_TO_MULTIPLE_OF\n",
      "                        If set, the sequences will be padded to a multiple of\n",
      "                        this value. (default: None)\n",
      "  --eval_packing EVAL_PACKING, --eval-packing EVAL_PACKING\n",
      "                        Whether to pack the eval dataset. If `None`, uses the\n",
      "                        same value as `packing`. (default: None)\n",
      "  --completion_only_loss COMPLETION_ONLY_LOSS, --completion-only-loss COMPLETION_ONLY_LOSS\n",
      "                        Whether to compute loss only on the completion part of\n",
      "                        the sequence. If set to `True`, loss is computed only\n",
      "                        on the completion, which is supported only for prompt-\n",
      "                        completion datasets. If `False`, loss is computed on\n",
      "                        the entire sequence. If `None` (default), the behavior\n",
      "                        depends on the dataset: loss is computed on the\n",
      "                        completion for prompt-completion datasets, and on the\n",
      "                        full sequence for language modeling datasets.\n",
      "                        (default: None)\n",
      "  --assistant_only_loss [ASSISTANT_ONLY_LOSS], --assistant-only-loss [ASSISTANT_ONLY_LOSS]\n",
      "                        Whether to compute loss only on the assistant part of\n",
      "                        the sequence. If set to `True`, loss is computed only\n",
      "                        on the assistant responses, which is supported only\n",
      "                        for conversational datasets. If `False`, loss is\n",
      "                        computed on the entire sequence. (default: False)\n",
      "  --activation_offloading [ACTIVATION_OFFLOADING], --activation-offloading [ACTIVATION_OFFLOADING]\n",
      "                        Whether to offload the activations to the CPU.\n",
      "                        (default: False)\n",
      "  --model_name_or_path MODEL_NAME_OR_PATH, --model-name-or-path MODEL_NAME_OR_PATH\n",
      "                        Model checkpoint for weights initialization. (default:\n",
      "                        None)\n",
      "  --model_revision MODEL_REVISION, --model-revision MODEL_REVISION\n",
      "                        Specific model version to use. It can be a branch\n",
      "                        name, a tag name, or a commit id. (default: main)\n",
      "  --torch_dtype {auto,bfloat16,float16,float32}, --torch-dtype {auto,bfloat16,float16,float32}\n",
      "                        Override the default `torch.dtype` and load the model\n",
      "                        under this dtype. (default: None)\n",
      "  --trust_remote_code [TRUST_REMOTE_CODE], --trust-remote-code [TRUST_REMOTE_CODE]\n",
      "                        Whether to allow for custom models defined on the Hub\n",
      "                        in their own modeling files. This option should only\n",
      "                        be set to `True` for repositories you trust and in\n",
      "                        which you have read the code, as it will execute code\n",
      "                        present on the Hub on your local machine. (default:\n",
      "                        False)\n",
      "  --attn_implementation ATTN_IMPLEMENTATION, --attn-implementation ATTN_IMPLEMENTATION\n",
      "                        Which attention implementation to use. You can run\n",
      "                        `--attn_implementation=flash_attention_2`, in which\n",
      "                        case you must install this manually by running `pip\n",
      "                        install flash-attn --no-build-isolation`. (default:\n",
      "                        None)\n",
      "  --use_peft [USE_PEFT], --use-peft [USE_PEFT]\n",
      "                        Whether to use PEFT for training. (default: False)\n",
      "  --lora_r LORA_R, --lora-r LORA_R\n",
      "                        LoRA R value. (default: 16)\n",
      "  --lora_alpha LORA_ALPHA, --lora-alpha LORA_ALPHA\n",
      "                        LoRA alpha. (default: 32)\n",
      "  --lora_dropout LORA_DROPOUT, --lora-dropout LORA_DROPOUT\n",
      "                        LoRA dropout. (default: 0.05)\n",
      "  --lora_target_modules LORA_TARGET_MODULES [LORA_TARGET_MODULES ...], --lora-target-modules LORA_TARGET_MODULES [LORA_TARGET_MODULES ...]\n",
      "                        LoRA target modules. (default: None)\n",
      "  --lora_target_parameters LORA_TARGET_PARAMETERS [LORA_TARGET_PARAMETERS ...], --lora-target-parameters LORA_TARGET_PARAMETERS [LORA_TARGET_PARAMETERS ...]\n",
      "                        List of target parameters for LoRA. (default: None)\n",
      "  --lora_modules_to_save LORA_MODULES_TO_SAVE [LORA_MODULES_TO_SAVE ...], --lora-modules-to-save LORA_MODULES_TO_SAVE [LORA_MODULES_TO_SAVE ...]\n",
      "                        Model layers to unfreeze & train. (default: None)\n",
      "  --lora_task_type LORA_TASK_TYPE, --lora-task-type LORA_TASK_TYPE\n",
      "                        Task type to pass for LoRA (use 'SEQ_CLS' for reward\n",
      "                        modeling). (default: CAUSAL_LM)\n",
      "  --use_rslora [USE_RSLORA], --use-rslora [USE_RSLORA]\n",
      "                        Whether to use Rank-Stabilized LoRA, which sets the\n",
      "                        adapter scaling factor to `lora_alpha/√r`, instead of\n",
      "                        the original default value of `lora_alpha/r`.\n",
      "                        (default: False)\n",
      "  --use_dora [USE_DORA], --use-dora [USE_DORA]\n",
      "                        Enable Weight-Decomposed Low-Rank Adaptation (DoRA).\n",
      "                        This technique decomposes the updates of the weights\n",
      "                        into two parts, magnitude and direction. Direction is\n",
      "                        handled by normal LoRA, whereas the magnitude is\n",
      "                        handled by a separate learnable parameter. This can\n",
      "                        improve the performance of LoRA, especially at low\n",
      "                        ranks. Right now, DoRA only supports linear and Conv2D\n",
      "                        layers. DoRA introduces a bigger overhead than pure\n",
      "                        LoRA, so it is recommended to merge weights for\n",
      "                        inference. (default: False)\n",
      "  --load_in_8bit [LOAD_IN_8BIT], --load-in-8bit [LOAD_IN_8BIT]\n",
      "                        Whether to use 8 bit precision for the base model.\n",
      "                        Works only with LoRA. (default: False)\n",
      "  --load_in_4bit [LOAD_IN_4BIT], --load-in-4bit [LOAD_IN_4BIT]\n",
      "                        Whether to use 4 bit precision for the base model.\n",
      "                        Works only with LoRA. (default: False)\n",
      "  --bnb_4bit_quant_type {fp4,nf4}, --bnb-4bit-quant-type {fp4,nf4}\n",
      "                        Quantization type. (default: nf4)\n",
      "  --use_bnb_nested_quant [USE_BNB_NESTED_QUANT], --use-bnb-nested-quant [USE_BNB_NESTED_QUANT]\n",
      "                        Whether to use nested quantization. (default: False)\n"
     ]
    }
   ],
   "source": [
    "# | output: false\n",
    "!hf jobs uv run \"https://gist.githubusercontent.com/davanstrien/26a301d5a810746128a27b8ae49d0950/raw/141883e6ba4f5b51bc22de49e761a03564364fc5/main.py\" --help"
   ]
  },
  {
   "cell_type": "markdown",
   "id": "536ae1ef",
   "metadata": {},
   "source": [
    "If you run this you'll see uv installing the required dependencies for your script (in this case `trl` + `Pillow`) and then returning the available options for the script. \n",
    "\n",
    "Since we may want to change options later we'll define some variables to hold our configuration. \n",
    "\n",
    "The main ones to note are the dataset, model and output model which refer to the dataset we want to use for training, the pre-trained model we want to fine-tune, and the output repo on the Hub where we want to save our model checkpoints respectively."
   ]
  },
  {
   "cell_type": "code",
   "execution_count": null,
   "id": "bb6cde42",
   "metadata": {},
   "outputs": [],
   "source": [
    "DATASET = \"davanstrien/iconclass-vlm-sft\"\n",
    "MODEL = \"Qwen/Qwen2.5-VL-3B-Instruct\"\n",
    "MODEL = \"HuggingFaceTB/SmolVLM2-2.2B-Instruct\"\n",
    "OUTPUT_MODEL = \"davanstrien/iconclass-vlm\"\n",
    "# Training hyperparameters\n",
    "BATCH_SIZE = 10\n",
    "GRADIENT_ACCUMULATION = 8\n",
    "MAX_STEPS = None  # Adjust for full training\n",
    "LEARNING_RATE = \"2e-5\"\n",
    "EPOCHS = 1"
   ]
  },
  {
   "cell_type": "markdown",
   "id": "6693164f",
   "metadata": {},
   "source": [
    "We can then create a list to hold our script arguments that will be passed to the `trl` SFT fine-tuning script. "
   ]
  },
  {
   "cell_type": "code",
   "execution_count": null,
   "id": "ea600f63",
   "metadata": {},
   "outputs": [],
   "source": [
    "# use epochs if MAX_STEPS is None\n",
    "if MAX_STEPS is None:\n",
    "    MAX_STEPS = EPOCHS * (len(ds[\"train\"]) // BATCH_SIZE // GRADIENT_ACCUMULATION)\n",
    "\n",
    "# Build the script arguments\n",
    "script_args = [\n",
    "    \"--model_name_or_path\",\n",
    "    MODEL,\n",
    "    \"--dataset_name\",\n",
    "    DATASET,\n",
    "    \"--output_dir\",\n",
    "    \"./iconclass-vlm-outputs\",\n",
    "    \"--hub_model_id\",\n",
    "    OUTPUT_MODEL,\n",
    "    \"--push_to_hub\",\n",
    "    \"--per_device_train_batch_size\",\n",
    "    str(BATCH_SIZE),\n",
    "    \"--gradient_accumulation_steps\",\n",
    "    str(GRADIENT_ACCUMULATION),\n",
    "    \"--max_steps\",\n",
    "    str(MAX_STEPS),\n",
    "    \"--torch_dtype\",\n",
    "    \"bfloat16\",\n",
    "    \"--logging_steps\",\n",
    "    \"10\",\n",
    "    \"--save_steps\",\n",
    "    \"100\",\n",
    "    \"--eval_steps\",\n",
    "    \"100\",\n",
    "    \"--warmup_ratio\",\n",
    "    \"0.1\",\n",
    "    \"--learning_rate\",\n",
    "    LEARNING_RATE,\n",
    "    \"--attn_implementation\",\n",
    "    \"kernels-community/flash-attn\",\n",
    "]\n"
   ]
  },
  {
   "cell_type": "markdown",
   "id": "01d58d41",
   "metadata": {},
   "source": [
    "We now have our arguments ready to be passed to the `trl` SFT fine-tuning script. To actually run the script we can use the `run_uv_job` method. \n",
    "\n",
    "We'll pass a few things to this.\n",
    "\n",
    "- `script`: the URL or path to the `trl` SFT fine-tuning script.\n",
    "- `script_args`: the arguments to pass to the script.\n",
    "- `dependencies`: any additional dependencies required by the script.\n",
    "- `flavor`: the type of hardware to use i.e. `a100-large`\n",
    "- `image`: the docker image to use for the job.\n",
    "- `timeout`: the maximum time to allow the job to run.\n",
    "- `env`: any environment variables to set for the job.\n",
    "- `secrets`: any secrets required by the job.\n",
    "\n"
   ]
  },
  {
   "cell_type": "code",
   "execution_count": 61,
   "id": "6f189182",
   "metadata": {},
   "outputs": [],
   "source": [
    "TRACKIO_PROJECT=\"iconclass\"\n",
    "TRACKIO_SPACE_ID=\"trackio-trl\""
   ]
  },
  {
   "cell_type": "code",
   "execution_count": null,
   "id": "75384796",
   "metadata": {},
   "outputs": [
    {
     "name": "stderr",
     "output_type": "stream",
     "text": [
      "/Users/davanstrien/Documents/daniel/blog/.venv/lib/python3.12/site-packages/huggingface_hub/utils/_experimental.py:60: UserWarning: 'HfApi.run_uv_job' is experimental and might be subject to breaking changes in the future without prior notice. You can disable this warning by setting `HF_HUB_DISABLE_EXPERIMENTAL_WARNING=1` as environment variable.\n",
      "  warnings.warn(\n"
     ]
    }
   ],
   "source": [
    "# Submit the job using run_uv_job\n",
    "job = api.run_uv_job(\n",
    "    script=\"https://gist.githubusercontent.com/davanstrien/26a301d5a810746128a27b8ae49d0950/raw/141883e6ba4f5b51bc22de49e761a03564364fc5/main.py\",\n",
    "    script_args=script_args,\n",
    "    dependencies=[\n",
    "        \"torchvision\",\n",
    "        \"tensorboard\",\n",
    "        \"accelerate\",\n",
    "        \"wandb\",\n",
    "        \"kernels\",\n",
    "        \"trackio\",\n",
    "    ],\n",
    "    flavor=\"a100-large\",\n",
    "    image=\"vllm/vllm-openai:latest\",\n",
    "    timeout=\"12h\",  # Adjust based on MAX_STEPS\n",
    "    env={\"TRACKIO_PROJECT\": TRACKIO_PROJECT, \"TRACKIO_SPACE_ID\": TRACKIO_SPACE_ID},\n",
    "    secrets={\n",
    "        \"HF_TOKEN\": os.environ.get(\"HF_TOKEN\"),\n",
    "        \"WANDB_API_KEY\": os.environ.get(\"WANDB_API_KEY\"),\n",
    "    },\n",
    ")\n"
   ]
  },
  {
   "cell_type": "code",
   "execution_count": 66,
   "id": "2da7e0fd",
   "metadata": {},
   "outputs": [
    {
     "data": {
      "text/plain": [
       "JobStatus(stage='RUNNING', message=None)"
      ]
     },
     "execution_count": 66,
     "metadata": {},
     "output_type": "execute_result"
    }
   ],
   "source": [
    "job.status"
   ]
  },
  {
   "cell_type": "code",
   "execution_count": 67,
   "id": "6f44fbac",
   "metadata": {},
   "outputs": [
    {
     "data": {
      "text/plain": [
       "'https://huggingface.co/jobs/davanstrien/68b9c334d797b777b755e63b'"
      ]
     },
     "execution_count": 67,
     "metadata": {},
     "output_type": "execute_result"
    }
   ],
   "source": [
    "job.url"
   ]
  },
  {
   "cell_type": "code",
   "execution_count": null,
   "id": "d78a0abd",
   "metadata": {},
   "outputs": [],
   "source": []
  },
  {
   "cell_type": "code",
   "execution_count": null,
   "id": "85a63450",
   "metadata": {},
   "outputs": [],
   "source": []
  },
  {
   "cell_type": "markdown",
   "id": "15f025be",
   "metadata": {},
   "source": [
    "## Evaluating the model's performance so far"
   ]
  },
  {
   "cell_type": "markdown",
   "id": "71122c84",
   "metadata": {},
   "source": []
  },
  {
   "cell_type": "markdown",
   "id": "bcd85447",
   "metadata": {},
   "source": [
    "<iframe\n",
    "\tsrc=\"https://davanstrien-iconclass-predictions.static.hf.space\"\n",
    "\tframeborder=\"0\"\n",
    "\twidth=\"850\"\n",
    "\theight=\"450\"\n",
    "></iframe>\n"
   ]
  },
  {
   "cell_type": "markdown",
   "id": "b2bd6802",
   "metadata": {},
   "source": [
    "\n",
    "\n",
    "[^1]: [Iconclass. (n.d.). In Wikipedia. Retrieved from https://en.wikipedia.org/wiki/Iconclass](https://iconclass.org/help/about)"
   ]
  }
 ],
 "metadata": {
  "kernelspec": {
   "display_name": "blog",
   "language": "python",
   "name": "python3"
  },
  "language_info": {
   "codemirror_mode": {
    "name": "ipython",
    "version": 3
   },
   "file_extension": ".py",
   "mimetype": "text/x-python",
   "name": "python",
   "nbconvert_exporter": "python",
   "pygments_lexer": "ipython3",
   "version": "3.12.4"
  }
 },
 "nbformat": 4,
 "nbformat_minor": 5
}
