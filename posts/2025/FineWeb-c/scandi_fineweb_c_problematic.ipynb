{
 "cells": [
  {
   "cell_type": "markdown",
   "metadata": {},
   "source": [
    "---\n",
    "title: \"Hygge Web Data - Cozy Content Filtering for a finer Scandinavian FineWeb\"\n",
    "description: \"Building and evaluating efficient, disposable content filtering models for Scandinavian language texts using the FineWeb-c dataset to improve data quality\"\n",
    "author: \"Daniel van Strien\"\n",
    "date: \"2025-01-13\"\n",
    "categories: [\"polars\", \"huggingface\", \"fineweb\", \"data\"]\n",
    "image: https://huggingface.co/datasets/HuggingFaceFW/admin/resolve/main/fineweb-2-logo.png\n",
    "toc-depth: 3\n",
    "toc: true\n",
    "---"
   ]
  },
  {
   "cell_type": "markdown",
   "metadata": {},
   "source": [
    "# How and why to curate Web Scale Data\n",
    "\n",
    "> The performance of a large language model (LLM) depends heavily on the quality and size of its pretraining dataset. - [FineWeb blog post](https://huggingface.co/spaces/HuggingFaceFW/blogpost-fineweb-v1)\n",
    "\n",
    "Whilst quality is important, the quantity of data we start with is significant. For example the original [FineWeb-2](https://huggingface.co/spaces/HuggingFaceFW/blogpost-fineweb-v1) dataset contains 15 trillion tokens (44TB on disk).\n",
    "\n",
    "The challenge is then: how can we curate data for LLMs in a scalable way? One possible approach is to use LLMs to help with labelling text. Whilst LLMs can do well on this kind of task (especially when using Structured Generation), scaling LLM labeling to web scale is a challenge. \n",
    "\n",
    "Last year, [FineWeb-Edu](https://huggingface.co/spaces/HuggingFaceFW/blogpost-fineweb-v1) showed that filtering data for educational quality could yield improvements for LLMs trained on this filtered data. The approach they took was to first use an LLM to label a subset of data and then use a fine-tuned a much smaller BERT-based model to filter the data. \n",
    "\n",
    "The publication of [ModernBert](https://huggingface.co/blog/modernbert) has shown that there is still a lot of excitement around the use of smaller encoder-based models for labelling tasks, indeed one of the examples they cite in their blog post is the cost of creating FineWeb-Edu if they had used a decoder-only model.\n",
    "\n",
    "> An interesting example is FineWeb-Edu, where model-based quality filtering had to be performed over 15 trillion tokens. The FineWeb-Edu team chose to generate annotations with a decoder-only model, Llama-3-70b-Instruct, and perform the bulk of the filtering with a fine-tuned BERT-based model. This filtering took 6,000 H100 hours, which, at HuggingFace Inference Endpoints' pricing of $10/hour, comes to a total of $60,000. On the other hand, feeding 15 trillion tokens to popular decoder-only models, even with the lowest-cost option of using Google's Gemini Flash and its low inference cost of $0.075/million tokens, would cost over one million dollars! [ModernBert blog post](https://huggingface.co/blog/modernbert)\n",
    "\n",
    "The ideal approach then seems to be something like:\n",
    "\n",
    "- Use an LLM to label a subset of data and use these labels to train a smaller model\n",
    "- Use a smaller model to make prediction on a large dataset and use these predictions to filter the data\n",
    "- Profit! \n",
    "\n",
    "While this may work well for English data, many papers have shown that the performance of LLMs for these kinds of tasks can be much worse than for English. \n",
    "\n",
    "This is where the [FineWeb-c dataset](https://huggingface.co/posts/davanstrien/616684712874803) comes in."
   ]
  },
  {
   "cell_type": "markdown",
   "metadata": {
    "jp-MarkdownHeadingCollapsed": true,
    "tags": []
   },
   "source": [
    "# The FineWeb-C dataset\n",
    "\n",
    "[FineWeb-C](https://huggingface.co/blog/davanstrien/fineweb2-community) is a community-driven initiative to help create high-quality datasets for training LLMs in multiple languages. Rather than relying solely on LLM-based labeling (which may perform poorly in non-English languages), the FineWeb-C project leverages the Hugging Face community to annotate texts for educational quality across different languages. The project has seen significant growth, achieving:\n",
    "\n",
    "- Over 48,000 total annotations\n",
    "- Coverage of 114 different languages\n",
    "- Contributions from 400+ annotators\n",
    "\n",
    "You can contribute using your Hugging Face account here: [https://huggingface.co/spaces/data-is-better-together/fineweb-c](https://huggingface.co/spaces/data-is-better-together/fineweb-c)\n",
    "\n",
    "The project has already released several versions of the [dataset](https://huggingface.co/datasets/data-is-better-together/fineweb-c), currently covering 18 languages that have reached the 1,000 annotations threshold (this number keeps growing thanks to the community's rapid contributions!). This community-driven approach helps ensure that data quality assessment isn't limited by the capabilities of existing LLMs, particularly for lower-resource languages.\n",
    "\n",
    "In a previous [blog post](https://danielvanstrien.xyz/posts/2024/12/23/fineweb-filter-polars.html), I discussed using Polars to filter out problematic content from the FineWeb-C dataset using rules and heuristics. While this approach can be effective with well-defined rules, I also examined the current annotated dataset [in this post](https://danielvanstrien.xyz/posts/2025/FineWeb-c/how-fine-is-fineweb2), which showed that some languages may already have sufficient annotated data to train a content filtering model.\n",
    "\n",
    "In this post, we'll explore using the FineWeb-C dataset to train a model that can help curate the [FineWeb-2 dataset](https://huggingface.co/datasets/HuggingFaceFW/fineweb-2)."
   ]
  },
  {
   "cell_type": "markdown",
   "metadata": {},
   "source": [
    "# Training a classifier to help curate the FineWeb-2 dataset\n",
    "\n",
    "The long term goal of FineWeb-C is to create a dataset that can help reproduce FineWeb-Edu for many languages. This basically means we need some data for training a model(s) to label the educational quality of text data. Let's look at the data the community has created so far to see what we can already do with the data. \n",
    "\n",
    "First we install the necessary libraries. "
   ]
  },
  {
   "cell_type": "code",
   "execution_count": 1,
   "metadata": {
    "colab": {
     "base_uri": "https://localhost:8080/"
    },
    "id": "nZJLaRyxT58W",
    "outputId": "cfddea79-65cb-4549-e57d-d1b6247be810",
    "tags": []
   },
   "outputs": [
    {
     "name": "stdout",
     "output_type": "stream",
     "text": [
      "Collecting polars\n",
      "  Downloading polars-1.19.0-cp39-abi3-manylinux_2_17_x86_64.manylinux2014_x86_64.whl.metadata (14 kB)\n",
      "Collecting datasets\n",
      "  Downloading datasets-3.2.0-py3-none-any.whl.metadata (20 kB)\n",
      "Collecting accelerate\n",
      "  Downloading accelerate-1.2.1-py3-none-any.whl.metadata (19 kB)\n",
      "Collecting evaluate\n",
      "  Downloading evaluate-0.4.3-py3-none-any.whl.metadata (9.2 kB)\n",
      "Collecting transformers\n",
      "  Downloading transformers-4.48.0-py3-none-any.whl.metadata (44 kB)\n",
      "Collecting torch\n",
      "  Downloading torch-2.5.1-cp311-cp311-manylinux1_x86_64.whl.metadata (28 kB)\n",
      "Collecting huggingface_hub\n",
      "  Downloading huggingface_hub-0.27.1-py3-none-any.whl.metadata (13 kB)\n",
      "Collecting scikit-learn\n",
      "  Downloading scikit_learn-1.6.1-cp311-cp311-manylinux_2_17_x86_64.manylinux2014_x86_64.whl.metadata (18 kB)\n",
      "Collecting tensorboard\n",
      "  Downloading tensorboard-2.18.0-py3-none-any.whl.metadata (1.6 kB)\n",
      "Collecting wandb\n",
      "  Downloading wandb-0.19.2-py3-none-manylinux_2_17_x86_64.manylinux2014_x86_64.whl.metadata (10 kB)\n",
      "Collecting matplotlib\n",
      "  Downloading matplotlib-3.10.0-cp311-cp311-manylinux_2_17_x86_64.manylinux2014_x86_64.whl.metadata (11 kB)\n",
      "Collecting filelock (from datasets)\n",
      "  Downloading filelock-3.16.1-py3-none-any.whl.metadata (2.9 kB)\n",
      "Collecting numpy>=1.17 (from datasets)\n",
      "  Downloading numpy-2.2.1-cp311-cp311-manylinux_2_17_x86_64.manylinux2014_x86_64.whl.metadata (62 kB)\n",
      "Collecting pyarrow>=15.0.0 (from datasets)\n",
      "  Downloading pyarrow-18.1.0-cp311-cp311-manylinux_2_28_x86_64.whl.metadata (3.3 kB)\n",
      "Collecting dill<0.3.9,>=0.3.0 (from datasets)\n",
      "  Downloading dill-0.3.8-py3-none-any.whl.metadata (10 kB)\n",
      "Collecting pandas (from datasets)\n",
      "  Downloading pandas-2.2.3-cp311-cp311-manylinux_2_17_x86_64.manylinux2014_x86_64.whl.metadata (89 kB)\n",
      "Requirement already satisfied: requests>=2.32.2 in /home/user/miniconda/lib/python3.11/site-packages (from datasets) (2.32.3)\n",
      "Requirement already satisfied: tqdm>=4.66.3 in /home/user/miniconda/lib/python3.11/site-packages (from datasets) (4.66.4)\n",
      "Collecting xxhash (from datasets)\n",
      "  Downloading xxhash-3.5.0-cp311-cp311-manylinux_2_17_x86_64.manylinux2014_x86_64.whl.metadata (12 kB)\n",
      "Collecting multiprocess<0.70.17 (from datasets)\n",
      "  Downloading multiprocess-0.70.16-py311-none-any.whl.metadata (7.2 kB)\n",
      "Collecting fsspec<=2024.9.0,>=2023.1.0 (from fsspec[http]<=2024.9.0,>=2023.1.0->datasets)\n",
      "  Downloading fsspec-2024.9.0-py3-none-any.whl.metadata (11 kB)\n",
      "Collecting aiohttp (from datasets)\n",
      "  Downloading aiohttp-3.11.11-cp311-cp311-manylinux_2_17_x86_64.manylinux2014_x86_64.whl.metadata (7.7 kB)\n",
      "Requirement already satisfied: packaging in /home/user/miniconda/lib/python3.11/site-packages (from datasets) (24.1)\n",
      "Requirement already satisfied: pyyaml>=5.1 in /home/user/miniconda/lib/python3.11/site-packages (from datasets) (6.0.2)\n",
      "Requirement already satisfied: psutil in /home/user/miniconda/lib/python3.11/site-packages (from accelerate) (6.1.0)\n",
      "Collecting safetensors>=0.4.3 (from accelerate)\n",
      "  Downloading safetensors-0.5.2-cp38-abi3-manylinux_2_17_x86_64.manylinux2014_x86_64.whl.metadata (3.8 kB)\n",
      "Collecting regex!=2019.12.17 (from transformers)\n",
      "  Downloading regex-2024.11.6-cp311-cp311-manylinux_2_17_x86_64.manylinux2014_x86_64.whl.metadata (40 kB)\n",
      "Collecting tokenizers<0.22,>=0.21 (from transformers)\n",
      "  Downloading tokenizers-0.21.0-cp39-abi3-manylinux_2_17_x86_64.manylinux2014_x86_64.whl.metadata (6.7 kB)\n",
      "Requirement already satisfied: typing-extensions>=4.8.0 in /home/user/miniconda/lib/python3.11/site-packages (from torch) (4.12.2)\n",
      "Collecting networkx (from torch)\n",
      "  Downloading networkx-3.4.2-py3-none-any.whl.metadata (6.3 kB)\n",
      "Requirement already satisfied: jinja2 in /home/user/miniconda/lib/python3.11/site-packages (from torch) (3.1.4)\n",
      "Collecting nvidia-cuda-nvrtc-cu12==12.4.127 (from torch)\n",
      "  Downloading nvidia_cuda_nvrtc_cu12-12.4.127-py3-none-manylinux2014_x86_64.whl.metadata (1.5 kB)\n",
      "Collecting nvidia-cuda-runtime-cu12==12.4.127 (from torch)\n",
      "  Downloading nvidia_cuda_runtime_cu12-12.4.127-py3-none-manylinux2014_x86_64.whl.metadata (1.5 kB)\n",
      "Collecting nvidia-cuda-cupti-cu12==12.4.127 (from torch)\n",
      "  Downloading nvidia_cuda_cupti_cu12-12.4.127-py3-none-manylinux2014_x86_64.whl.metadata (1.6 kB)\n",
      "Collecting nvidia-cudnn-cu12==9.1.0.70 (from torch)\n",
      "  Downloading nvidia_cudnn_cu12-9.1.0.70-py3-none-manylinux2014_x86_64.whl.metadata (1.6 kB)\n",
      "Collecting nvidia-cublas-cu12==12.4.5.8 (from torch)\n",
      "  Downloading nvidia_cublas_cu12-12.4.5.8-py3-none-manylinux2014_x86_64.whl.metadata (1.5 kB)\n",
      "Collecting nvidia-cufft-cu12==11.2.1.3 (from torch)\n",
      "  Downloading nvidia_cufft_cu12-11.2.1.3-py3-none-manylinux2014_x86_64.whl.metadata (1.5 kB)\n",
      "Collecting nvidia-curand-cu12==10.3.5.147 (from torch)\n",
      "  Downloading nvidia_curand_cu12-10.3.5.147-py3-none-manylinux2014_x86_64.whl.metadata (1.5 kB)\n",
      "Collecting nvidia-cusolver-cu12==11.6.1.9 (from torch)\n",
      "  Downloading nvidia_cusolver_cu12-11.6.1.9-py3-none-manylinux2014_x86_64.whl.metadata (1.6 kB)\n",
      "Collecting nvidia-cusparse-cu12==12.3.1.170 (from torch)\n",
      "  Downloading nvidia_cusparse_cu12-12.3.1.170-py3-none-manylinux2014_x86_64.whl.metadata (1.6 kB)\n",
      "Collecting nvidia-nccl-cu12==2.21.5 (from torch)\n",
      "  Downloading nvidia_nccl_cu12-2.21.5-py3-none-manylinux2014_x86_64.whl.metadata (1.8 kB)\n",
      "Collecting nvidia-nvtx-cu12==12.4.127 (from torch)\n",
      "  Downloading nvidia_nvtx_cu12-12.4.127-py3-none-manylinux2014_x86_64.whl.metadata (1.7 kB)\n",
      "Collecting nvidia-nvjitlink-cu12==12.4.127 (from torch)\n",
      "  Downloading nvidia_nvjitlink_cu12-12.4.127-py3-none-manylinux2014_x86_64.whl.metadata (1.5 kB)\n",
      "Collecting triton==3.1.0 (from torch)\n",
      "  Downloading triton-3.1.0-cp311-cp311-manylinux_2_17_x86_64.manylinux2014_x86_64.whl.metadata (1.3 kB)\n",
      "Collecting sympy==1.13.1 (from torch)\n",
      "  Downloading sympy-1.13.1-py3-none-any.whl.metadata (12 kB)\n",
      "Collecting mpmath<1.4,>=1.1.0 (from sympy==1.13.1->torch)\n",
      "  Downloading mpmath-1.3.0-py3-none-any.whl.metadata (8.6 kB)\n",
      "Collecting scipy>=1.6.0 (from scikit-learn)\n",
      "  Downloading scipy-1.15.1-cp311-cp311-manylinux_2_17_x86_64.manylinux2014_x86_64.whl.metadata (61 kB)\n",
      "Collecting joblib>=1.2.0 (from scikit-learn)\n",
      "  Downloading joblib-1.4.2-py3-none-any.whl.metadata (5.4 kB)\n",
      "Collecting threadpoolctl>=3.1.0 (from scikit-learn)\n",
      "  Downloading threadpoolctl-3.5.0-py3-none-any.whl.metadata (13 kB)\n",
      "Collecting absl-py>=0.4 (from tensorboard)\n",
      "  Downloading absl_py-2.1.0-py3-none-any.whl.metadata (2.3 kB)\n",
      "Collecting grpcio>=1.48.2 (from tensorboard)\n",
      "  Downloading grpcio-1.69.0-cp311-cp311-manylinux_2_17_x86_64.manylinux2014_x86_64.whl.metadata (3.9 kB)\n",
      "Collecting markdown>=2.6.8 (from tensorboard)\n",
      "  Downloading Markdown-3.7-py3-none-any.whl.metadata (7.0 kB)\n",
      "Collecting protobuf!=4.24.0,>=3.19.6 (from tensorboard)\n",
      "  Downloading protobuf-5.29.3-cp38-abi3-manylinux2014_x86_64.whl.metadata (592 bytes)\n",
      "Requirement already satisfied: setuptools>=41.0.0 in /home/user/miniconda/lib/python3.11/site-packages (from tensorboard) (72.1.0)\n",
      "Requirement already satisfied: six>1.9 in /home/user/miniconda/lib/python3.11/site-packages (from tensorboard) (1.16.0)\n",
      "Collecting tensorboard-data-server<0.8.0,>=0.7.0 (from tensorboard)\n",
      "  Downloading tensorboard_data_server-0.7.2-py3-none-manylinux_2_31_x86_64.whl.metadata (1.1 kB)\n",
      "Collecting werkzeug>=1.0.1 (from tensorboard)\n",
      "  Downloading werkzeug-3.1.3-py3-none-any.whl.metadata (3.7 kB)\n",
      "Collecting click!=8.0.0,>=7.1 (from wandb)\n",
      "  Downloading click-8.1.8-py3-none-any.whl.metadata (2.3 kB)\n",
      "Collecting docker-pycreds>=0.4.0 (from wandb)\n",
      "  Downloading docker_pycreds-0.4.0-py2.py3-none-any.whl.metadata (1.8 kB)\n",
      "Collecting gitpython!=3.1.29,>=1.0.0 (from wandb)\n",
      "  Downloading GitPython-3.1.44-py3-none-any.whl.metadata (13 kB)\n",
      "Requirement already satisfied: platformdirs in /home/user/miniconda/lib/python3.11/site-packages (from wandb) (3.10.0)\n",
      "Collecting pydantic<3,>=2.6 (from wandb)\n",
      "  Downloading pydantic-2.10.5-py3-none-any.whl.metadata (30 kB)\n",
      "Collecting sentry-sdk>=2.0.0 (from wandb)\n",
      "  Downloading sentry_sdk-2.19.2-py2.py3-none-any.whl.metadata (9.9 kB)\n",
      "Collecting setproctitle (from wandb)\n",
      "  Downloading setproctitle-1.3.4-cp311-cp311-manylinux_2_5_x86_64.manylinux1_x86_64.manylinux_2_17_x86_64.manylinux2014_x86_64.whl.metadata (10 kB)\n",
      "Collecting contourpy>=1.0.1 (from matplotlib)\n",
      "  Downloading contourpy-1.3.1-cp311-cp311-manylinux_2_17_x86_64.manylinux2014_x86_64.whl.metadata (5.4 kB)\n",
      "Collecting cycler>=0.10 (from matplotlib)\n",
      "  Downloading cycler-0.12.1-py3-none-any.whl.metadata (3.8 kB)\n",
      "Collecting fonttools>=4.22.0 (from matplotlib)\n",
      "  Downloading fonttools-4.55.3-cp311-cp311-manylinux_2_17_x86_64.manylinux2014_x86_64.whl.metadata (165 kB)\n",
      "Collecting kiwisolver>=1.3.1 (from matplotlib)\n",
      "  Downloading kiwisolver-1.4.8-cp311-cp311-manylinux_2_17_x86_64.manylinux2014_x86_64.whl.metadata (6.2 kB)\n",
      "Collecting pillow>=8 (from matplotlib)\n",
      "  Downloading pillow-11.1.0-cp311-cp311-manylinux_2_28_x86_64.whl.metadata (9.1 kB)\n",
      "Collecting pyparsing>=2.3.1 (from matplotlib)\n",
      "  Downloading pyparsing-3.2.1-py3-none-any.whl.metadata (5.0 kB)\n",
      "Requirement already satisfied: python-dateutil>=2.7 in /home/user/miniconda/lib/python3.11/site-packages (from matplotlib) (2.9.0.post0)\n",
      "Collecting aiohappyeyeballs>=2.3.0 (from aiohttp->datasets)\n",
      "  Downloading aiohappyeyeballs-2.4.4-py3-none-any.whl.metadata (6.1 kB)\n",
      "Collecting aiosignal>=1.1.2 (from aiohttp->datasets)\n",
      "  Downloading aiosignal-1.3.2-py2.py3-none-any.whl.metadata (3.8 kB)\n",
      "Requirement already satisfied: attrs>=17.3.0 in /home/user/miniconda/lib/python3.11/site-packages (from aiohttp->datasets) (24.2.0)\n",
      "Collecting frozenlist>=1.1.1 (from aiohttp->datasets)\n",
      "  Downloading frozenlist-1.5.0-cp311-cp311-manylinux_2_5_x86_64.manylinux1_x86_64.manylinux_2_17_x86_64.manylinux2014_x86_64.whl.metadata (13 kB)\n",
      "Collecting multidict<7.0,>=4.5 (from aiohttp->datasets)\n",
      "  Downloading multidict-6.1.0-cp311-cp311-manylinux_2_17_x86_64.manylinux2014_x86_64.whl.metadata (5.0 kB)\n",
      "Collecting propcache>=0.2.0 (from aiohttp->datasets)\n",
      "  Downloading propcache-0.2.1-cp311-cp311-manylinux_2_17_x86_64.manylinux2014_x86_64.whl.metadata (9.2 kB)\n",
      "Collecting yarl<2.0,>=1.17.0 (from aiohttp->datasets)\n",
      "  Downloading yarl-1.18.3-cp311-cp311-manylinux_2_17_x86_64.manylinux2014_x86_64.whl.metadata (69 kB)\n",
      "Collecting gitdb<5,>=4.0.1 (from gitpython!=3.1.29,>=1.0.0->wandb)\n",
      "  Downloading gitdb-4.0.12-py3-none-any.whl.metadata (1.2 kB)\n",
      "Collecting annotated-types>=0.6.0 (from pydantic<3,>=2.6->wandb)\n",
      "  Downloading annotated_types-0.7.0-py3-none-any.whl.metadata (15 kB)\n",
      "Collecting pydantic-core==2.27.2 (from pydantic<3,>=2.6->wandb)\n",
      "  Downloading pydantic_core-2.27.2-cp311-cp311-manylinux_2_17_x86_64.manylinux2014_x86_64.whl.metadata (6.6 kB)\n",
      "Requirement already satisfied: charset-normalizer<4,>=2 in /home/user/miniconda/lib/python3.11/site-packages (from requests>=2.32.2->datasets) (3.3.2)\n",
      "Requirement already satisfied: idna<4,>=2.5 in /home/user/miniconda/lib/python3.11/site-packages (from requests>=2.32.2->datasets) (3.7)\n",
      "Requirement already satisfied: urllib3<3,>=1.21.1 in /home/user/miniconda/lib/python3.11/site-packages (from requests>=2.32.2->datasets) (2.2.2)\n",
      "Requirement already satisfied: certifi>=2017.4.17 in /home/user/miniconda/lib/python3.11/site-packages (from requests>=2.32.2->datasets) (2024.7.4)\n",
      "Requirement already satisfied: MarkupSafe>=2.1.1 in /home/user/miniconda/lib/python3.11/site-packages (from werkzeug>=1.0.1->tensorboard) (3.0.2)\n",
      "Collecting pytz>=2020.1 (from pandas->datasets)\n",
      "  Downloading pytz-2024.2-py2.py3-none-any.whl.metadata (22 kB)\n",
      "Collecting tzdata>=2022.7 (from pandas->datasets)\n",
      "  Downloading tzdata-2024.2-py2.py3-none-any.whl.metadata (1.4 kB)\n",
      "Collecting smmap<6,>=3.0.1 (from gitdb<5,>=4.0.1->gitpython!=3.1.29,>=1.0.0->wandb)\n",
      "  Downloading smmap-5.0.2-py3-none-any.whl.metadata (4.3 kB)\n",
      "Downloading polars-1.19.0-cp39-abi3-manylinux_2_17_x86_64.manylinux2014_x86_64.whl (32.8 MB)\n",
      "\u001b[2K   \u001b[90m━━━━━━━━━━━━━━━━━━━━━━━━━━━━━━━━━━━━━━━━\u001b[0m \u001b[32m32.8/32.8 MB\u001b[0m \u001b[31m224.8 MB/s\u001b[0m eta \u001b[36m0:00:00\u001b[0m\n",
      "\u001b[?25hDownloading datasets-3.2.0-py3-none-any.whl (480 kB)\n",
      "Downloading accelerate-1.2.1-py3-none-any.whl (336 kB)\n",
      "Downloading evaluate-0.4.3-py3-none-any.whl (84 kB)\n",
      "Downloading transformers-4.48.0-py3-none-any.whl (9.7 MB)\n",
      "\u001b[2K   \u001b[90m━━━━━━━━━━━━━━━━━━━━━━━━━━━━━━━━━━━━━━━━\u001b[0m \u001b[32m9.7/9.7 MB\u001b[0m \u001b[31m244.4 MB/s\u001b[0m eta \u001b[36m0:00:00\u001b[0m\n",
      "\u001b[?25hDownloading torch-2.5.1-cp311-cp311-manylinux1_x86_64.whl (906.5 MB)\n",
      "\u001b[2K   \u001b[90m━━━━━━━━━━━━━━━━━━━━━━━━━━━━━━━━━━━━━━━━\u001b[0m \u001b[32m906.5/906.5 MB\u001b[0m \u001b[31m79.6 MB/s\u001b[0m eta \u001b[36m0:00:00\u001b[0m00:01\u001b[0m00:01\u001b[0m\n",
      "\u001b[?25hDownloading nvidia_cublas_cu12-12.4.5.8-py3-none-manylinux2014_x86_64.whl (363.4 MB)\n",
      "\u001b[2K   \u001b[90m━━━━━━━━━━━━━━━━━━━━━━━━━━━━━━━━━━━━━━━\u001b[0m \u001b[32m363.4/363.4 MB\u001b[0m \u001b[31m193.7 MB/s\u001b[0m eta \u001b[36m0:00:00\u001b[0m00:01\u001b[0m00:01\u001b[0m\n",
      "\u001b[?25hDownloading nvidia_cuda_cupti_cu12-12.4.127-py3-none-manylinux2014_x86_64.whl (13.8 MB)\n",
      "\u001b[2K   \u001b[90m━━━━━━━━━━━━━━━━━━━━━━━━━━━━━━━━━━━━━━━━\u001b[0m \u001b[32m13.8/13.8 MB\u001b[0m \u001b[31m273.7 MB/s\u001b[0m eta \u001b[36m0:00:00\u001b[0m\n",
      "\u001b[?25hDownloading nvidia_cuda_nvrtc_cu12-12.4.127-py3-none-manylinux2014_x86_64.whl (24.6 MB)\n",
      "\u001b[2K   \u001b[90m━━━━━━━━━━━━━━━━━━━━━━━━━━━━━━━━━━━━━━━━\u001b[0m \u001b[32m24.6/24.6 MB\u001b[0m \u001b[31m332.1 MB/s\u001b[0m eta \u001b[36m0:00:00\u001b[0m\n",
      "\u001b[?25hDownloading nvidia_cuda_runtime_cu12-12.4.127-py3-none-manylinux2014_x86_64.whl (883 kB)\n",
      "\u001b[2K   \u001b[90m━━━━━━━━━━━━━━━━━━━━━━━━━━━━━━━━━━━━━━━\u001b[0m \u001b[32m883.7/883.7 kB\u001b[0m \u001b[31m189.4 MB/s\u001b[0m eta \u001b[36m0:00:00\u001b[0m\n",
      "\u001b[?25hDownloading nvidia_cudnn_cu12-9.1.0.70-py3-none-manylinux2014_x86_64.whl (664.8 MB)\n",
      "\u001b[2K   \u001b[90m━━━━━━━━━━━━━━━━━━━━━━━━━━━━━━━━━━━━━━━\u001b[0m \u001b[32m664.8/664.8 MB\u001b[0m \u001b[31m232.4 MB/s\u001b[0m eta \u001b[36m0:00:00\u001b[0m00:01\u001b[0m00:01\u001b[0m\n",
      "\u001b[?25hDownloading nvidia_cufft_cu12-11.2.1.3-py3-none-manylinux2014_x86_64.whl (211.5 MB)\n",
      "\u001b[2K   \u001b[90m━━━━━━━━━━━━━━━━━━━━━━━━━━━━━━━━━━━━━━━\u001b[0m \u001b[32m211.5/211.5 MB\u001b[0m \u001b[31m339.2 MB/s\u001b[0m eta \u001b[36m0:00:00\u001b[0m00:01\u001b[0m00:01\u001b[0m\n",
      "\u001b[?25hDownloading nvidia_curand_cu12-10.3.5.147-py3-none-manylinux2014_x86_64.whl (56.3 MB)\n",
      "\u001b[2K   \u001b[90m━━━━━━━━━━━━━━━━━━━━━━━━━━━━━━━━━━━━━━━━\u001b[0m \u001b[32m56.3/56.3 MB\u001b[0m \u001b[31m330.4 MB/s\u001b[0m eta \u001b[36m0:00:00\u001b[0m\n",
      "\u001b[?25hDownloading nvidia_cusolver_cu12-11.6.1.9-py3-none-manylinux2014_x86_64.whl (127.9 MB)\n",
      "\u001b[2K   \u001b[90m━━━━━━━━━━━━━━━━━━━━━━━━━━━━━━━━━━━━━━━\u001b[0m \u001b[32m127.9/127.9 MB\u001b[0m \u001b[31m368.1 MB/s\u001b[0m eta \u001b[36m0:00:00\u001b[0ma \u001b[36m0:00:01\u001b[0m\n",
      "\u001b[?25hDownloading nvidia_cusparse_cu12-12.3.1.170-py3-none-manylinux2014_x86_64.whl (207.5 MB)\n",
      "\u001b[2K   \u001b[90m━━━━━━━━━━━━━━━━━━━━━━━━━━━━━━━━━━━━━━━\u001b[0m \u001b[32m207.5/207.5 MB\u001b[0m \u001b[31m340.9 MB/s\u001b[0m eta \u001b[36m0:00:00\u001b[0m00:01\u001b[0m00:01\u001b[0m\n",
      "\u001b[?25hDownloading nvidia_nccl_cu12-2.21.5-py3-none-manylinux2014_x86_64.whl (188.7 MB)\n",
      "\u001b[2K   \u001b[90m━━━━━━━━━━━━━━━━━━━━━━━━━━━━━━━━━━━━━━━\u001b[0m \u001b[32m188.7/188.7 MB\u001b[0m \u001b[31m240.1 MB/s\u001b[0m eta \u001b[36m0:00:00\u001b[0ma \u001b[36m0:00:01\u001b[0m\n",
      "\u001b[?25hDownloading nvidia_nvjitlink_cu12-12.4.127-py3-none-manylinux2014_x86_64.whl (21.1 MB)\n",
      "\u001b[2K   \u001b[90m━━━━━━━━━━━━━━━━━━━━━━━━━━━━━━━━━━━━━━━━\u001b[0m \u001b[32m21.1/21.1 MB\u001b[0m \u001b[31m296.1 MB/s\u001b[0m eta \u001b[36m0:00:00\u001b[0m\n",
      "\u001b[?25hDownloading nvidia_nvtx_cu12-12.4.127-py3-none-manylinux2014_x86_64.whl (99 kB)\n",
      "Downloading sympy-1.13.1-py3-none-any.whl (6.2 MB)\n",
      "\u001b[2K   \u001b[90m━━━━━━━━━━━━━━━━━━━━━━━━━━━━━━━━━━━━━━━━\u001b[0m \u001b[32m6.2/6.2 MB\u001b[0m \u001b[31m329.6 MB/s\u001b[0m eta \u001b[36m0:00:00\u001b[0m\n",
      "\u001b[?25hDownloading triton-3.1.0-cp311-cp311-manylinux_2_17_x86_64.manylinux2014_x86_64.whl (209.5 MB)\n",
      "\u001b[2K   \u001b[90m━━━━━━━━━━━━━━━━━━━━━━━━━━━━━━━━━━━━━━━\u001b[0m \u001b[32m209.5/209.5 MB\u001b[0m \u001b[31m235.9 MB/s\u001b[0m eta \u001b[36m0:00:00\u001b[0m00:01\u001b[0m00:01\u001b[0m\n",
      "\u001b[?25hDownloading huggingface_hub-0.27.1-py3-none-any.whl (450 kB)\n",
      "Downloading scikit_learn-1.6.1-cp311-cp311-manylinux_2_17_x86_64.manylinux2014_x86_64.whl (13.5 MB)\n",
      "\u001b[2K   \u001b[90m━━━━━━━━━━━━━━━━━━━━━━━━━━━━━━━━━━━━━━━━\u001b[0m \u001b[32m13.5/13.5 MB\u001b[0m \u001b[31m218.5 MB/s\u001b[0m eta \u001b[36m0:00:00\u001b[0m\n",
      "\u001b[?25hDownloading tensorboard-2.18.0-py3-none-any.whl (5.5 MB)\n",
      "\u001b[2K   \u001b[90m━━━━━━━━━━━━━━━━━━━━━━━━━━━━━━━━━━━━━━━━\u001b[0m \u001b[32m5.5/5.5 MB\u001b[0m \u001b[31m228.2 MB/s\u001b[0m eta \u001b[36m0:00:00\u001b[0m\n",
      "\u001b[?25hDownloading wandb-0.19.2-py3-none-manylinux_2_17_x86_64.manylinux2014_x86_64.whl (20.3 MB)\n",
      "\u001b[2K   \u001b[90m━━━━━━━━━━━━━━━━━━━━━━━━━━━━━━━━━━━━━━━━\u001b[0m \u001b[32m20.3/20.3 MB\u001b[0m \u001b[31m379.6 MB/s\u001b[0m eta \u001b[36m0:00:00\u001b[0m\n",
      "\u001b[?25hDownloading matplotlib-3.10.0-cp311-cp311-manylinux_2_17_x86_64.manylinux2014_x86_64.whl (8.6 MB)\n",
      "\u001b[2K   \u001b[90m━━━━━━━━━━━━━━━━━━━━━━━━━━━━━━━━━━━━━━━━\u001b[0m \u001b[32m8.6/8.6 MB\u001b[0m \u001b[31m234.7 MB/s\u001b[0m eta \u001b[36m0:00:00\u001b[0m\n",
      "\u001b[?25hDownloading absl_py-2.1.0-py3-none-any.whl (133 kB)\n",
      "Downloading click-8.1.8-py3-none-any.whl (98 kB)\n",
      "Downloading contourpy-1.3.1-cp311-cp311-manylinux_2_17_x86_64.manylinux2014_x86_64.whl (326 kB)\n",
      "Downloading cycler-0.12.1-py3-none-any.whl (8.3 kB)\n",
      "Downloading dill-0.3.8-py3-none-any.whl (116 kB)\n",
      "Downloading docker_pycreds-0.4.0-py2.py3-none-any.whl (9.0 kB)\n",
      "Downloading fonttools-4.55.3-cp311-cp311-manylinux_2_17_x86_64.manylinux2014_x86_64.whl (4.9 MB)\n",
      "\u001b[2K   \u001b[90m━━━━━━━━━━━━━━━━━━━━━━━━━━━━━━━━━━━━━━━━\u001b[0m \u001b[32m4.9/4.9 MB\u001b[0m \u001b[31m379.6 MB/s\u001b[0m eta \u001b[36m0:00:00\u001b[0m\n",
      "\u001b[?25hDownloading fsspec-2024.9.0-py3-none-any.whl (179 kB)\n",
      "Downloading aiohttp-3.11.11-cp311-cp311-manylinux_2_17_x86_64.manylinux2014_x86_64.whl (1.7 MB)\n",
      "\u001b[2K   \u001b[90m━━━━━━━━━━━━━━━━━━━━━━━━━━━━━━━━━━━━━━━━\u001b[0m \u001b[32m1.7/1.7 MB\u001b[0m \u001b[31m294.5 MB/s\u001b[0m eta \u001b[36m0:00:00\u001b[0m\n",
      "\u001b[?25hDownloading GitPython-3.1.44-py3-none-any.whl (207 kB)\n",
      "Downloading grpcio-1.69.0-cp311-cp311-manylinux_2_17_x86_64.manylinux2014_x86_64.whl (5.9 MB)\n",
      "\u001b[2K   \u001b[90m━━━━━━━━━━━━━━━━━━━━━━━━━━━━━━━━━━━━━━━━\u001b[0m \u001b[32m5.9/5.9 MB\u001b[0m \u001b[31m321.0 MB/s\u001b[0m eta \u001b[36m0:00:00\u001b[0m\n",
      "\u001b[?25hDownloading joblib-1.4.2-py3-none-any.whl (301 kB)\n",
      "Downloading kiwisolver-1.4.8-cp311-cp311-manylinux_2_17_x86_64.manylinux2014_x86_64.whl (1.4 MB)\n",
      "\u001b[2K   \u001b[90m━━━━━━━━━━━━━━━━━━━━━━━━━━━━━━━━━━━━━━━━\u001b[0m \u001b[32m1.4/1.4 MB\u001b[0m \u001b[31m243.6 MB/s\u001b[0m eta \u001b[36m0:00:00\u001b[0m\n",
      "\u001b[?25hDownloading Markdown-3.7-py3-none-any.whl (106 kB)\n",
      "Downloading multiprocess-0.70.16-py311-none-any.whl (143 kB)\n",
      "Downloading numpy-2.2.1-cp311-cp311-manylinux_2_17_x86_64.manylinux2014_x86_64.whl (16.4 MB)\n",
      "\u001b[2K   \u001b[90m━━━━━━━━━━━━━━━━━━━━━━━━━━━━━━━━━━━━━━━━\u001b[0m \u001b[32m16.4/16.4 MB\u001b[0m \u001b[31m238.0 MB/s\u001b[0m eta \u001b[36m0:00:00\u001b[0m\n",
      "\u001b[?25hDownloading pillow-11.1.0-cp311-cp311-manylinux_2_28_x86_64.whl (4.5 MB)\n",
      "\u001b[2K   \u001b[90m━━━━━━━━━━━━━━━━━━━━━━━━━━━━━━━━━━━━━━━━\u001b[0m \u001b[32m4.5/4.5 MB\u001b[0m \u001b[31m240.7 MB/s\u001b[0m eta \u001b[36m0:00:00\u001b[0m\n",
      "\u001b[?25hDownloading protobuf-5.29.3-cp38-abi3-manylinux2014_x86_64.whl (319 kB)\n",
      "Downloading pyarrow-18.1.0-cp311-cp311-manylinux_2_28_x86_64.whl (40.1 MB)\n",
      "\u001b[2K   \u001b[90m━━━━━━━━━━━━━━━━━━━━━━━━━━━━━━━━━━━━━━━━\u001b[0m \u001b[32m40.1/40.1 MB\u001b[0m \u001b[31m225.6 MB/s\u001b[0m eta \u001b[36m0:00:00\u001b[0m\n",
      "\u001b[?25hDownloading pydantic-2.10.5-py3-none-any.whl (431 kB)\n",
      "Downloading pydantic_core-2.27.2-cp311-cp311-manylinux_2_17_x86_64.manylinux2014_x86_64.whl (2.0 MB)\n",
      "\u001b[2K   \u001b[90m━━━━━━━━━━━━━━━━━━━━━━━━━━━━━━━━━━━━━━━━\u001b[0m \u001b[32m2.0/2.0 MB\u001b[0m \u001b[31m276.7 MB/s\u001b[0m eta \u001b[36m0:00:00\u001b[0m\n",
      "\u001b[?25hDownloading pyparsing-3.2.1-py3-none-any.whl (107 kB)\n",
      "Downloading regex-2024.11.6-cp311-cp311-manylinux_2_17_x86_64.manylinux2014_x86_64.whl (792 kB)\n",
      "\u001b[2K   \u001b[90m━━━━━━━━━━━━━━━━━━━━━━━━━━━━━━━━━━━━━━━\u001b[0m \u001b[32m792.7/792.7 kB\u001b[0m \u001b[31m202.6 MB/s\u001b[0m eta \u001b[36m0:00:00\u001b[0m\n",
      "\u001b[?25hDownloading safetensors-0.5.2-cp38-abi3-manylinux_2_17_x86_64.manylinux2014_x86_64.whl (461 kB)\n",
      "Downloading scipy-1.15.1-cp311-cp311-manylinux_2_17_x86_64.manylinux2014_x86_64.whl (40.6 MB)\n",
      "\u001b[2K   \u001b[90m━━━━━━━━━━━━━━━━━━━━━━━━━━━━━━━━━━━━━━━━\u001b[0m \u001b[32m40.6/40.6 MB\u001b[0m \u001b[31m387.1 MB/s\u001b[0m eta \u001b[36m0:00:00\u001b[0m\n",
      "\u001b[?25hDownloading sentry_sdk-2.19.2-py2.py3-none-any.whl (322 kB)\n",
      "Downloading tensorboard_data_server-0.7.2-py3-none-manylinux_2_31_x86_64.whl (6.6 MB)\n",
      "\u001b[2K   \u001b[90m━━━━━━━━━━━━━━━━━━━━━━━━━━━━━━━━━━━━━━━━\u001b[0m \u001b[32m6.6/6.6 MB\u001b[0m \u001b[31m273.7 MB/s\u001b[0m eta \u001b[36m0:00:00\u001b[0m\n",
      "\u001b[?25hDownloading threadpoolctl-3.5.0-py3-none-any.whl (18 kB)\n",
      "Downloading tokenizers-0.21.0-cp39-abi3-manylinux_2_17_x86_64.manylinux2014_x86_64.whl (3.0 MB)\n",
      "\u001b[2K   \u001b[90m━━━━━━━━━━━━━━━━━━━━━━━━━━━━━━━━━━━━━━━━\u001b[0m \u001b[32m3.0/3.0 MB\u001b[0m \u001b[31m221.9 MB/s\u001b[0m eta \u001b[36m0:00:00\u001b[0m\n",
      "\u001b[?25hDownloading werkzeug-3.1.3-py3-none-any.whl (224 kB)\n",
      "Downloading filelock-3.16.1-py3-none-any.whl (16 kB)\n",
      "Downloading networkx-3.4.2-py3-none-any.whl (1.7 MB)\n",
      "\u001b[2K   \u001b[90m━━━━━━━━━━━━━━━━━━━━━━━━━━━━━━━━━━━━━━━━\u001b[0m \u001b[32m1.7/1.7 MB\u001b[0m \u001b[31m318.4 MB/s\u001b[0m eta \u001b[36m0:00:00\u001b[0m\n",
      "\u001b[?25hDownloading pandas-2.2.3-cp311-cp311-manylinux_2_17_x86_64.manylinux2014_x86_64.whl (13.1 MB)\n",
      "\u001b[2K   \u001b[90m━━━━━━━━━━━━━━━━━━━━━━━━━━━━━━━━━━━━━━━━\u001b[0m \u001b[32m13.1/13.1 MB\u001b[0m \u001b[31m354.5 MB/s\u001b[0m eta \u001b[36m0:00:00\u001b[0m\n",
      "\u001b[?25hDownloading setproctitle-1.3.4-cp311-cp311-manylinux_2_5_x86_64.manylinux1_x86_64.manylinux_2_17_x86_64.manylinux2014_x86_64.whl (31 kB)\n",
      "Downloading xxhash-3.5.0-cp311-cp311-manylinux_2_17_x86_64.manylinux2014_x86_64.whl (194 kB)\n",
      "Downloading aiohappyeyeballs-2.4.4-py3-none-any.whl (14 kB)\n",
      "Downloading aiosignal-1.3.2-py2.py3-none-any.whl (7.6 kB)\n",
      "Downloading annotated_types-0.7.0-py3-none-any.whl (13 kB)\n",
      "Downloading frozenlist-1.5.0-cp311-cp311-manylinux_2_5_x86_64.manylinux1_x86_64.manylinux_2_17_x86_64.manylinux2014_x86_64.whl (274 kB)\n",
      "Downloading gitdb-4.0.12-py3-none-any.whl (62 kB)\n",
      "Downloading mpmath-1.3.0-py3-none-any.whl (536 kB)\n",
      "\u001b[2K   \u001b[90m━━━━━━━━━━━━━━━━━━━━━━━━━━━━━━━━━━━━━━━\u001b[0m \u001b[32m536.2/536.2 kB\u001b[0m \u001b[31m140.6 MB/s\u001b[0m eta \u001b[36m0:00:00\u001b[0m\n",
      "\u001b[?25hDownloading multidict-6.1.0-cp311-cp311-manylinux_2_17_x86_64.manylinux2014_x86_64.whl (129 kB)\n",
      "Downloading propcache-0.2.1-cp311-cp311-manylinux_2_17_x86_64.manylinux2014_x86_64.whl (231 kB)\n",
      "Downloading pytz-2024.2-py2.py3-none-any.whl (508 kB)\n",
      "Downloading tzdata-2024.2-py2.py3-none-any.whl (346 kB)\n",
      "Downloading yarl-1.18.3-cp311-cp311-manylinux_2_17_x86_64.manylinux2014_x86_64.whl (344 kB)\n",
      "Downloading smmap-5.0.2-py3-none-any.whl (24 kB)\n",
      "Installing collected packages: pytz, mpmath, xxhash, werkzeug, tzdata, threadpoolctl, tensorboard-data-server, sympy, smmap, setproctitle, sentry-sdk, safetensors, regex, pyparsing, pydantic-core, pyarrow, protobuf, propcache, polars, pillow, nvidia-nvtx-cu12, nvidia-nvjitlink-cu12, nvidia-nccl-cu12, nvidia-curand-cu12, nvidia-cufft-cu12, nvidia-cuda-runtime-cu12, nvidia-cuda-nvrtc-cu12, nvidia-cuda-cupti-cu12, nvidia-cublas-cu12, numpy, networkx, multidict, markdown, kiwisolver, joblib, grpcio, fsspec, frozenlist, fonttools, filelock, docker-pycreds, dill, cycler, click, annotated-types, aiohappyeyeballs, absl-py, yarl, triton, tensorboard, scipy, pydantic, pandas, nvidia-cusparse-cu12, nvidia-cudnn-cu12, multiprocess, huggingface_hub, gitdb, contourpy, aiosignal, tokenizers, scikit-learn, nvidia-cusolver-cu12, matplotlib, gitpython, aiohttp, wandb, transformers, torch, datasets, accelerate, evaluate\n",
      "Successfully installed absl-py-2.1.0 accelerate-1.2.1 aiohappyeyeballs-2.4.4 aiohttp-3.11.11 aiosignal-1.3.2 annotated-types-0.7.0 click-8.1.8 contourpy-1.3.1 cycler-0.12.1 datasets-3.2.0 dill-0.3.8 docker-pycreds-0.4.0 evaluate-0.4.3 filelock-3.16.1 fonttools-4.55.3 frozenlist-1.5.0 fsspec-2024.9.0 gitdb-4.0.12 gitpython-3.1.44 grpcio-1.69.0 huggingface_hub-0.27.1 joblib-1.4.2 kiwisolver-1.4.8 markdown-3.7 matplotlib-3.10.0 mpmath-1.3.0 multidict-6.1.0 multiprocess-0.70.16 networkx-3.4.2 numpy-2.2.1 nvidia-cublas-cu12-12.4.5.8 nvidia-cuda-cupti-cu12-12.4.127 nvidia-cuda-nvrtc-cu12-12.4.127 nvidia-cuda-runtime-cu12-12.4.127 nvidia-cudnn-cu12-9.1.0.70 nvidia-cufft-cu12-11.2.1.3 nvidia-curand-cu12-10.3.5.147 nvidia-cusolver-cu12-11.6.1.9 nvidia-cusparse-cu12-12.3.1.170 nvidia-nccl-cu12-2.21.5 nvidia-nvjitlink-cu12-12.4.127 nvidia-nvtx-cu12-12.4.127 pandas-2.2.3 pillow-11.1.0 polars-1.19.0 propcache-0.2.1 protobuf-5.29.3 pyarrow-18.1.0 pydantic-2.10.5 pydantic-core-2.27.2 pyparsing-3.2.1 pytz-2024.2 regex-2024.11.6 safetensors-0.5.2 scikit-learn-1.6.1 scipy-1.15.1 sentry-sdk-2.19.2 setproctitle-1.3.4 smmap-5.0.2 sympy-1.13.1 tensorboard-2.18.0 tensorboard-data-server-0.7.2 threadpoolctl-3.5.0 tokenizers-0.21.0 torch-2.5.1 transformers-4.48.0 triton-3.1.0 tzdata-2024.2 wandb-0.19.2 werkzeug-3.1.3 xxhash-3.5.0 yarl-1.18.3\n",
      "Note: you may need to restart the kernel to use updated packages.\n"
     ]
    }
   ],
   "source": [
    "# | output: false\n",
    "%pip install polars datasets accelerate evaluate transformers torch huggingface_hub scikit-learn tensorboard wandb matplotlib --upgrade"
   ]
  },
  {
   "cell_type": "code",
   "execution_count": 3,
   "metadata": {
    "id": "bZiUncvlTexy",
    "tags": []
   },
   "outputs": [],
   "source": [
    "# | code-fold: true\n",
    "import numpy as np\n",
    "import polars as pl\n",
    "from datasets import Dataset, DatasetDict\n",
    "from huggingface_hub import list_repo_files\n",
    "from scipy.special import softmax\n",
    "from sklearn.metrics import (\n",
    "    average_precision_score,\n",
    "    confusion_matrix,\n",
    "    f1_score,\n",
    "    precision_recall_curve,\n",
    "    precision_score,\n",
    "    recall_score,\n",
    "    roc_auc_score,\n",
    ")\n",
    "from sklearn.model_selection import train_test_split\n",
    "from transformers import (\n",
    "    AutoModelForSequenceClassification,\n",
    "    AutoTokenizer,\n",
    "    EarlyStoppingCallback,\n",
    "    Trainer,\n",
    "    TrainingArguments,\n",
    ")"
   ]
  },
  {
   "cell_type": "markdown",
   "metadata": {},
   "source": [
    "## Understand the data \n",
    "\n",
    "\n",
    "We'll load the dataset from the Hugging Face Hub using Polars which supports [loading data from the Hub](https://huggingface.co/docs/hub/en/datasets-polars).\n",
    "\n",
    "In this case, we'll load the \"default\" config which contains all the languages that have reached the 1,000 annotations threshold.\n"
   ]
  },
  {
   "cell_type": "code",
   "execution_count": 4,
   "metadata": {
    "id": "jTaE1zuKT7Hm",
    "tags": []
   },
   "outputs": [],
   "source": [
    "df = pl.read_parquet(\"hf://datasets/data-is-better-together/fineweb-c/data/*.parquet\")\n",
    "df = df.lazy()"
   ]
  },
  {
   "cell_type": "code",
   "execution_count": 5,
   "metadata": {
    "colab": {
     "base_uri": "https://localhost:8080/"
    },
    "id": "9oMGdqtAUDgd",
    "outputId": "d08704d3-7365-47b1-8e75-9d7e2f82842b",
    "tags": []
   },
   "outputs": [
    {
     "data": {
      "text/plain": [
       "['lvs_Latn',\n",
       " 'swe_Latn',\n",
       " 'cmn_Hani',\n",
       " 'fra_Latn',\n",
       " 'tat_Cyrl',\n",
       " 'ukr_Cyrl',\n",
       " 'arz_Arab',\n",
       " 'hin_Deva',\n",
       " 'yue_Hani',\n",
       " 'zsm_Latn',\n",
       " 'fas_Arab',\n",
       " 'vie_Latn',\n",
       " 'slk_Latn',\n",
       " 'gmh_Latn',\n",
       " 'dan_Latn',\n",
       " 'spa_Latn',\n",
       " 'rus_Cyrl',\n",
       " 'ary_Arab',\n",
       " 'bar_Latn',\n",
       " 'fin_Latn',\n",
       " 'fil_Latn',\n",
       " 'asm_Latn',\n",
       " 'arb_Arab']"
      ]
     },
     "execution_count": 5,
     "metadata": {},
     "output_type": "execute_result"
    }
   ],
   "source": [
    "df.select(\"language_code\").unique().collect().to_series().to_list()"
   ]
  },
  {
   "cell_type": "markdown",
   "metadata": {},
   "source": [
    "## Can we train a model to work with a subset of languages?\n",
    "\n",
    "So far we have 18 languages in the dataset. Currently over a 100 languages have some level of annotation so eventually we hope the community will create a dataset for ma\n",
    "ne model per language.\n",
    "\n",
    "Claude gave me the following visual for languages groups in this dataset (which isn't super accurate but gives a rough idea of the language families represented in the dataset).\n",
    "\n",
    "![Color-coded grid visualization of 20 languages organized by 8 language families](assets/language-families-names.svg){#fig-languages fig-alt=\"Color-coded grid visualization of 20 languages organized by 8 language families (Indo-European, Sino-Tibetan, Austronesian, Uralic, Turkic, Austro-Asiatic, Afroasiatic, Indo-Aryan) and their subgroups, with language codes shown in monospace font\" fig-cap=\"Language families represented in the FineWeb-C dataset\"}"
   ]
  },
  {
   "cell_type": "markdown",
   "metadata": {},
   "source": [
    "We can see a few possible language groups that it *could* make sense to train a model on. One potential group is the Germanic languages. Let's look at the data for these languages."
   ]
  },
  {
   "cell_type": "markdown",
   "metadata": {},
   "source": [
    "::: {.callout-note}\n",
    "I focused on Germanic languages to start with as if I squint I can get a rough understanding of the language. I would be very excited to see the community begin to explore all of the languages in the dataset.\n",
    ":::"
   ]
  },
  {
   "cell_type": "code",
   "execution_count": 5,
   "metadata": {
    "id": "BoIJ850d3_nE",
    "tags": []
   },
   "outputs": [],
   "source": [
    "germanic_languages = [\"gmh_Latn\", \"dan_Latn\", \"swe_Latn\", \"bar_Latn\", \"lvs_Latn\"]"
   ]
  },
  {
   "cell_type": "markdown",
   "metadata": {},
   "source": [
    "## What do we want to label?\n",
    "\n",
    "While the overarching goal of the FineWeb-C project is to create a dataset for training models to label the educational quality of text, in order to effectively train this kind of model we need a reasonable distribution of labels.\n",
    "\n",
    "### Problematic content?\n",
    "\n",
    "The annotation interface for FineWeb-c looks something like this (using Scots as an example). \n",
    "\n",
    "![Annotation interface for Scots](assets/annotation_example.png)\n",
    "\n",
    "For this example, the annotator could mostly focus on how educational the text is. However, this is the web we're annotating so we will sometimes come across \"problematic\" content. This content is usually content in the wrong language i.e. the language predicted during the FineWeb-2 extraction process is incorrect (this happens quite a lot for some languages and much less for others) or the content is garbled in some way. An example of this kind of content is shown below.\n",
    "\n",
    "![Problematic content example](assets/problematic_example.png)\n",
    "\n",
    "We can see that the content is in the wrong language (English) the text is also somewhat garbled \n"
   ]
  },
  {
   "cell_type": "markdown",
   "metadata": {},
   "source": [
    "::: {.callout-note}\n",
    "Why aren't these just labeled as `None` i.e. no educational value? Annotating data always comes with some ambiguity. In this case, we added a `problematic` label to try and make it easier for the community to flag content that was incorrect in some other way. We could have added a whole separate label for this and for the different possible types of issue but this adds extra cognitive load for the annotator. We can also deal with possible overlap in usage of these labels in other ways. \n",
    ":::"
   ]
  },
  {
   "cell_type": "markdown",
   "metadata": {},
   "source": [
    "Before we dive into training an educational quality classifier, let's look at the data for the Germanic languages and see how often this problematic content is present. We're using Polars in Lazy mode but it's not really necessary for the size of the dataset at the moment. In the future the dataset might become large enough that this can be more important."
   ]
  },
  {
   "cell_type": "code",
   "execution_count": 6,
   "metadata": {
    "id": "R3kIggRQ3_hZ",
    "tags": []
   },
   "outputs": [],
   "source": [
    "df_germanic = df.filter(pl.col(\"language_code\").is_in(germanic_languages))"
   ]
  },
  {
   "cell_type": "markdown",
   "metadata": {},
   "source": [
    "Let's start by seeing the percentage of problematic content for each language in the \"germanic\" group. "
   ]
  },
  {
   "cell_type": "code",
   "execution_count": 7,
   "metadata": {
    "colab": {
     "base_uri": "https://localhost:8080/",
     "height": 224
    },
    "id": "no6PbY5_4ltL",
    "outputId": "0c84f262-c0cb-47c9-9907-05c346db2cf7",
    "tags": []
   },
   "outputs": [
    {
     "data": {
      "text/html": [
       "<div><style>\n",
       ".dataframe > thead > tr,\n",
       ".dataframe > tbody > tr {\n",
       "  text-align: right;\n",
       "  white-space: pre-wrap;\n",
       "}\n",
       "</style>\n",
       "<small>shape: (5, 2)</small><table border=\"1\" class=\"dataframe\"><thead><tr><th>language_code</th><th>problematic_percentage</th></tr><tr><td>str</td><td>f64</td></tr></thead><tbody><tr><td>&quot;gmh_Latn&quot;</td><td>98.3</td></tr><tr><td>&quot;bar_Latn&quot;</td><td>77.0</td></tr><tr><td>&quot;dan_Latn&quot;</td><td>19.4</td></tr><tr><td>&quot;swe_Latn&quot;</td><td>8.8</td></tr><tr><td>&quot;lvs_Latn&quot;</td><td>8.7</td></tr></tbody></table></div>"
      ],
      "text/plain": [
       "shape: (5, 2)\n",
       "┌───────────────┬────────────────────────┐\n",
       "│ language_code ┆ problematic_percentage │\n",
       "│ ---           ┆ ---                    │\n",
       "│ str           ┆ f64                    │\n",
       "╞═══════════════╪════════════════════════╡\n",
       "│ gmh_Latn      ┆ 98.3                   │\n",
       "│ bar_Latn      ┆ 77.0                   │\n",
       "│ dan_Latn      ┆ 19.4                   │\n",
       "│ swe_Latn      ┆ 8.8                    │\n",
       "│ lvs_Latn      ┆ 8.7                    │\n",
       "└───────────────┴────────────────────────┘"
      ]
     },
     "execution_count": 7,
     "metadata": {},
     "output_type": "execute_result"
    }
   ],
   "source": [
    "(\n",
    "    df_germanic.group_by(\"language_code\")\n",
    "    .agg(\n",
    "        [\n",
    "            (\n",
    "                pl.col(\"problematic_content_label_present\").sum()\n",
    "                / pl.col(\"problematic_content_label_present\").count()\n",
    "                * 100\n",
    "            ).alias(\"problematic_percentage\")\n",
    "        ]\n",
    "    )\n",
    "    .sort(\"problematic_percentage\", descending=True)\n",
    ").collect()"
   ]
  },
  {
   "cell_type": "markdown",
   "metadata": {},
   "source": [
    "We can see that for some of the languages in this group the percentage of problematic content is very high. In particular Bavarian and Middle High German have a very high percentage of problematic content. The other languages have a much lower percentage of problematic content. \n",
    "\n",
    "### Making the lives of annotators easier and getting more educational?\n",
    "\n",
    "While we could jump to training a model to label the educational quality of the text, we may wan to start in a more modest way. In my previous [blog post](https://danielvanstrien.xyz/posts/2025/FineWeb-c/how-fine-is-fineweb2) I generated this plot showing the distribution of educational value for languages in the dataset. \n",
    "\n",
    "![Label distribution by language](https://danielvanstrien.xyz/posts/2025/FineWeb-c/how-fine-is-fineweb2_files/figure-html/cell-11-output-1.png)\n",
    "\n",
    "While some languages have a fairly good distribution of educational value labels, most have very few examples of \"Excellent\" educational quality content. This is not surprising – the majority of the web is not educational...\n",
    "\n",
    "For languages with very few examples of any educational content training a classifier to label the educational quality of the text is not going to work well. For these languages we probably want to first focus on being able to remove problematic content so we reduce the amount of \"noise\" annotators need to spend time on and then can instead focus on labelling content that is *more* likely to be educational. \n",
    "\n",
    "For this we'll train a model to label problematic content. We'll start with the Scandinavian languages since we have Danish and Swedish datasets completed and these languages are somewhat similar (don't come at me Danish and Swedish speaker – I've watched the [Bridge!](https://en.wikipedia.org/wiki/The_Bridge_(2011_TV_series)))"
   ]
  },
  {
   "cell_type": "markdown",
   "metadata": {},
   "source": [
    "::: {.callout-note}\n",
    "This is not the only approach we could take but it could be a good starting point. Even if we don't end up with sufficient data to train a model to label the educational quality of the text, we can still use this model to remove problematic content and improve the quality of the data we have for some languages.\n",
    ":::"
   ]
  },
  {
   "cell_type": "markdown",
   "metadata": {},
   "source": [
    "## Training out hygge model\n",
    "\n",
    "Let's start by loading the data for the Scandinavian languages.\n"
   ]
  },
  {
   "cell_type": "code",
   "execution_count": 8,
   "metadata": {
    "id": "R2PdXzYy4qhG",
    "tags": []
   },
   "outputs": [],
   "source": [
    "scandinavian_languages = [\"swe_Latn\", \"dan_Latn\"]"
   ]
  },
  {
   "cell_type": "code",
   "execution_count": 9,
   "metadata": {
    "id": "5cA3RQiL5vTg",
    "tags": []
   },
   "outputs": [],
   "source": [
    "df_scandinavian = df.filter(pl.col(\"language_code\").is_in(scandinavian_languages))"
   ]
  },
  {
   "cell_type": "markdown",
   "metadata": {},
   "source": [
    "We can see that we have 1,000 annotations for each language. \n"
   ]
  },
  {
   "cell_type": "code",
   "execution_count": 10,
   "metadata": {
    "tags": []
   },
   "outputs": [
    {
     "data": {
      "text/plain": [
       "(2000, 8)"
      ]
     },
     "execution_count": 10,
     "metadata": {},
     "output_type": "execute_result"
    }
   ],
   "source": [
    "df_scandinavian.collect().shape"
   ]
  },
  {
   "cell_type": "markdown",
   "metadata": {},
   "source": [
    "Now let's get a better understanding of the data. Swedish and Danish both have multiple annotations for many of the texts. This means multiple annotators have looked at the same text and given their assessment of the educational value. Let's take a look at some examples where the annotators disagree i.e. gave different labels. \n"
   ]
  },
  {
   "cell_type": "code",
   "execution_count": 11,
   "metadata": {
    "tags": []
   },
   "outputs": [
    {
     "data": {
      "text/html": [
       "<div><style>\n",
       ".dataframe > thead > tr,\n",
       ".dataframe > tbody > tr {\n",
       "  text-align: right;\n",
       "  white-space: pre-wrap;\n",
       "}\n",
       "</style>\n",
       "<small>shape: (524, 8)</small><table border=\"1\" class=\"dataframe\"><thead><tr><th>id</th><th>text</th><th>educational_value_labels</th><th>annotator_ids</th><th>problematic_content_label_present</th><th>problematic_content_label_agreement</th><th>language_names</th><th>language_code</th></tr><tr><td>str</td><td>str</td><td>list[str]</td><td>list[str]</td><td>bool</td><td>f64</td><td>str</td><td>str</td></tr></thead><tbody><tr><td>&quot;d0347a16-14a6-40c7-a1b8-3d27b9…</td><td>&quot;Virkelige får de vil ha sjæl o…</td><td>[&quot;❗ Problematic Content ❗&quot;, &quot;None&quot;, &quot;❗ Problematic Content ❗&quot;]</td><td>[&quot;a0585a5c-b72f-4c3a-a2a3-17e8e0b4ea4f&quot;, &quot;85ac8d54-89c5-4473-95c4-797366f03cd0&quot;, &quot;e9f72b47-2af5-4b06-90f2-7163de147a1d&quot;]</td><td>true</td><td>0.666667</td><td>&quot;dan_Latn&quot;</td><td>&quot;dan_Latn&quot;</td></tr><tr><td>&quot;ec7699c9-78e2-48ef-945e-9b0a71…</td><td>&quot;Alle drømmer om den store gevi…</td><td>[&quot;None&quot;, &quot;Minimal&quot;, &quot;Basic&quot;]</td><td>[&quot;a0585a5c-b72f-4c3a-a2a3-17e8e0b4ea4f&quot;, &quot;85ac8d54-89c5-4473-95c4-797366f03cd0&quot;, &quot;9987848b-debb-4ed3-a97b-14eb9b3c4322&quot;]</td><td>false</td><td>1.0</td><td>&quot;dan_Latn&quot;</td><td>&quot;dan_Latn&quot;</td></tr><tr><td>&quot;49de8369-2b33-47d2-a877-2fe32b…</td><td>&quot;Der er en elektrisk forbindels…</td><td>[&quot;Basic&quot;, &quot;None&quot;, &quot;None&quot;]</td><td>[&quot;a0585a5c-b72f-4c3a-a2a3-17e8e0b4ea4f&quot;, &quot;b98b0144-391d-4e70-bae0-743ce94e6314&quot;, &quot;85ac8d54-89c5-4473-95c4-797366f03cd0&quot;]</td><td>false</td><td>1.0</td><td>&quot;dan_Latn&quot;</td><td>&quot;dan_Latn&quot;</td></tr><tr><td>&quot;b20402d1-8250-410c-b177-966b8b…</td><td>&quot;Online shopping råd\n",
       "- Levering…</td><td>[&quot;Basic&quot;, &quot;Minimal&quot;]</td><td>[&quot;a0585a5c-b72f-4c3a-a2a3-17e8e0b4ea4f&quot;, &quot;85ac8d54-89c5-4473-95c4-797366f03cd0&quot;]</td><td>false</td><td>1.0</td><td>&quot;dan_Latn&quot;</td><td>&quot;dan_Latn&quot;</td></tr><tr><td>&quot;dc34ee93-74e2-48ba-9b5c-9d4dfb…</td><td>&quot;Morgenmad er det vigtigste mål…</td><td>[&quot;Basic&quot;, &quot;Basic&quot;, &quot;None&quot;]</td><td>[&quot;a0585a5c-b72f-4c3a-a2a3-17e8e0b4ea4f&quot;, &quot;85ac8d54-89c5-4473-95c4-797366f03cd0&quot;, &quot;4e0a264e-6445-495f-ae54-8e0755b8ebd0&quot;]</td><td>false</td><td>1.0</td><td>&quot;dan_Latn&quot;</td><td>&quot;dan_Latn&quot;</td></tr><tr><td>&hellip;</td><td>&hellip;</td><td>&hellip;</td><td>&hellip;</td><td>&hellip;</td><td>&hellip;</td><td>&hellip;</td><td>&hellip;</td></tr><tr><td>&quot;aee9b105-18c3-455d-b07c-545eb2…</td><td>&quot;Dronning Victoria afskyede sin…</td><td>[&quot;Minimal&quot;, &quot;None&quot;, &quot;❗ Problematic Content ❗&quot;]</td><td>[&quot;a0585a5c-b72f-4c3a-a2a3-17e8e0b4ea4f&quot;, &quot;9987848b-debb-4ed3-a97b-14eb9b3c4322&quot;, &quot;85ac8d54-89c5-4473-95c4-797366f03cd0&quot;]</td><td>true</td><td>0.333333</td><td>&quot;dan_Latn&quot;</td><td>&quot;dan_Latn&quot;</td></tr><tr><td>&quot;42abb527-d3b8-4b23-b88a-d3df06…</td><td>&quot;Smarte Opbevaringsløsninger ti…</td><td>[&quot;Minimal&quot;, &quot;None&quot;]</td><td>[&quot;a0585a5c-b72f-4c3a-a2a3-17e8e0b4ea4f&quot;, &quot;85ac8d54-89c5-4473-95c4-797366f03cd0&quot;]</td><td>false</td><td>1.0</td><td>&quot;dan_Latn&quot;</td><td>&quot;dan_Latn&quot;</td></tr><tr><td>&quot;7076624a-7b72-4534-bfdc-a4b6fc…</td><td>&quot;Power Automate er under udbred…</td><td>[&quot;Basic&quot;, &quot;None&quot;, &quot;Minimal&quot;]</td><td>[&quot;a0585a5c-b72f-4c3a-a2a3-17e8e0b4ea4f&quot;, &quot;740270b9-61bf-4d85-a495-9e37270f7257&quot;, &quot;82197ecd-6d0b-400a-834a-703da28164ae&quot;]</td><td>false</td><td>1.0</td><td>&quot;dan_Latn&quot;</td><td>&quot;dan_Latn&quot;</td></tr><tr><td>&quot;a97595d9-61b4-4ae7-953c-654a85…</td><td>&quot;Kl. 17.30 - 19.30\n",
       "Home Concert…</td><td>[&quot;None&quot;, &quot;Minimal&quot;, &quot;None&quot;]</td><td>[&quot;a0585a5c-b72f-4c3a-a2a3-17e8e0b4ea4f&quot;, &quot;9987848b-debb-4ed3-a97b-14eb9b3c4322&quot;, &quot;85ac8d54-89c5-4473-95c4-797366f03cd0&quot;]</td><td>false</td><td>1.0</td><td>&quot;dan_Latn&quot;</td><td>&quot;dan_Latn&quot;</td></tr><tr><td>&quot;d3c4b487-6976-45bf-9a81-2c8208…</td><td>&quot;J. S. RASCH VIN &amp; SPIRITUS\n",
       "J. …</td><td>[&quot;Basic&quot;, &quot;Minimal&quot;, &quot;None&quot;]</td><td>[&quot;a0585a5c-b72f-4c3a-a2a3-17e8e0b4ea4f&quot;, &quot;82197ecd-6d0b-400a-834a-703da28164ae&quot;, &quot;85ac8d54-89c5-4473-95c4-797366f03cd0&quot;]</td><td>false</td><td>1.0</td><td>&quot;dan_Latn&quot;</td><td>&quot;dan_Latn&quot;</td></tr></tbody></table></div>"
      ],
      "text/plain": [
       "shape: (524, 8)\n",
       "┌────────────┬────────────┬────────────┬───────────┬───────────┬───────────┬───────────┬───────────┐\n",
       "│ id         ┆ text       ┆ educationa ┆ annotator ┆ problemat ┆ problemat ┆ language_ ┆ language_ │\n",
       "│ ---        ┆ ---        ┆ l_value_la ┆ _ids      ┆ ic_conten ┆ ic_conten ┆ names     ┆ code      │\n",
       "│ str        ┆ str        ┆ bels       ┆ ---       ┆ t_label_p ┆ t_label_a ┆ ---       ┆ ---       │\n",
       "│            ┆            ┆ ---        ┆ list[str] ┆ res…      ┆ gre…      ┆ str       ┆ str       │\n",
       "│            ┆            ┆ list[str]  ┆           ┆ ---       ┆ ---       ┆           ┆           │\n",
       "│            ┆            ┆            ┆           ┆ bool      ┆ f64       ┆           ┆           │\n",
       "╞════════════╪════════════╪════════════╪═══════════╪═══════════╪═══════════╪═══════════╪═══════════╡\n",
       "│ d0347a16-1 ┆ Virkelige  ┆ [\"❗ Probl ┆ [\"a0585a5 ┆ true      ┆ 0.666667  ┆ dan_Latn  ┆ dan_Latn  │\n",
       "│ 4a6-40c7-a ┆ får de vil ┆ ematic     ┆ c-b72f-4c ┆           ┆           ┆           ┆           │\n",
       "│ 1b8-3d27b9 ┆ ha sjæl o… ┆ Content    ┆ 3a-a2a3-1 ┆           ┆           ┆           ┆           │\n",
       "│ …          ┆            ┆ ❗\", \"N…   ┆ 7e8…      ┆           ┆           ┆           ┆           │\n",
       "│ ec7699c9-7 ┆ Alle       ┆ [\"None\",   ┆ [\"a0585a5 ┆ false     ┆ 1.0       ┆ dan_Latn  ┆ dan_Latn  │\n",
       "│ 8e2-48ef-9 ┆ drømmer om ┆ \"Minimal\", ┆ c-b72f-4c ┆           ┆           ┆           ┆           │\n",
       "│ 45e-9b0a71 ┆ den store  ┆ \"Basic\"]   ┆ 3a-a2a3-1 ┆           ┆           ┆           ┆           │\n",
       "│ …          ┆ gevi…      ┆            ┆ 7e8…      ┆           ┆           ┆           ┆           │\n",
       "│ 49de8369-2 ┆ Der er en  ┆ [\"Basic\",  ┆ [\"a0585a5 ┆ false     ┆ 1.0       ┆ dan_Latn  ┆ dan_Latn  │\n",
       "│ b33-47d2-a ┆ elektrisk  ┆ \"None\",    ┆ c-b72f-4c ┆           ┆           ┆           ┆           │\n",
       "│ 877-2fe32b ┆ forbindels ┆ \"None\"]    ┆ 3a-a2a3-1 ┆           ┆           ┆           ┆           │\n",
       "│ …          ┆ …          ┆            ┆ 7e8…      ┆           ┆           ┆           ┆           │\n",
       "│ b20402d1-8 ┆ Online     ┆ [\"Basic\",  ┆ [\"a0585a5 ┆ false     ┆ 1.0       ┆ dan_Latn  ┆ dan_Latn  │\n",
       "│ 250-410c-b ┆ shopping   ┆ \"Minimal\"] ┆ c-b72f-4c ┆           ┆           ┆           ┆           │\n",
       "│ 177-966b8b ┆ råd        ┆            ┆ 3a-a2a3-1 ┆           ┆           ┆           ┆           │\n",
       "│ …          ┆ -          ┆            ┆ 7e8…      ┆           ┆           ┆           ┆           │\n",
       "│            ┆ Levering…  ┆            ┆           ┆           ┆           ┆           ┆           │\n",
       "│ dc34ee93-7 ┆ Morgenmad  ┆ [\"Basic\",  ┆ [\"a0585a5 ┆ false     ┆ 1.0       ┆ dan_Latn  ┆ dan_Latn  │\n",
       "│ 4e2-48ba-9 ┆ er det     ┆ \"Basic\",   ┆ c-b72f-4c ┆           ┆           ┆           ┆           │\n",
       "│ b5c-9d4dfb ┆ vigtigste  ┆ \"None\"]    ┆ 3a-a2a3-1 ┆           ┆           ┆           ┆           │\n",
       "│ …          ┆ mål…       ┆            ┆ 7e8…      ┆           ┆           ┆           ┆           │\n",
       "│ …          ┆ …          ┆ …          ┆ …         ┆ …         ┆ …         ┆ …         ┆ …         │\n",
       "│ aee9b105-1 ┆ Dronning   ┆ [\"Minimal\" ┆ [\"a0585a5 ┆ true      ┆ 0.333333  ┆ dan_Latn  ┆ dan_Latn  │\n",
       "│ 8c3-455d-b ┆ Victoria   ┆ , \"None\",  ┆ c-b72f-4c ┆           ┆           ┆           ┆           │\n",
       "│ 07c-545eb2 ┆ afskyede   ┆ \"❗        ┆ 3a-a2a3-1 ┆           ┆           ┆           ┆           │\n",
       "│ …          ┆ sin…       ┆ Problem…   ┆ 7e8…      ┆           ┆           ┆           ┆           │\n",
       "│ 42abb527-d ┆ Smarte Opb ┆ [\"Minimal\" ┆ [\"a0585a5 ┆ false     ┆ 1.0       ┆ dan_Latn  ┆ dan_Latn  │\n",
       "│ 3b8-4b23-b ┆ evaringslø ┆ , \"None\"]  ┆ c-b72f-4c ┆           ┆           ┆           ┆           │\n",
       "│ 88a-d3df06 ┆ sninger    ┆            ┆ 3a-a2a3-1 ┆           ┆           ┆           ┆           │\n",
       "│ …          ┆ ti…        ┆            ┆ 7e8…      ┆           ┆           ┆           ┆           │\n",
       "│ 7076624a-7 ┆ Power      ┆ [\"Basic\",  ┆ [\"a0585a5 ┆ false     ┆ 1.0       ┆ dan_Latn  ┆ dan_Latn  │\n",
       "│ b72-4534-b ┆ Automate   ┆ \"None\",    ┆ c-b72f-4c ┆           ┆           ┆           ┆           │\n",
       "│ fdc-a4b6fc ┆ er under   ┆ \"Minimal\"] ┆ 3a-a2a3-1 ┆           ┆           ┆           ┆           │\n",
       "│ …          ┆ udbred…    ┆            ┆ 7e8…      ┆           ┆           ┆           ┆           │\n",
       "│ a97595d9-6 ┆ Kl. 17.30  ┆ [\"None\",   ┆ [\"a0585a5 ┆ false     ┆ 1.0       ┆ dan_Latn  ┆ dan_Latn  │\n",
       "│ 1b4-4ae7-9 ┆ - 19.30    ┆ \"Minimal\", ┆ c-b72f-4c ┆           ┆           ┆           ┆           │\n",
       "│ 53c-654a85 ┆ Home       ┆ \"None\"]    ┆ 3a-a2a3-1 ┆           ┆           ┆           ┆           │\n",
       "│ …          ┆ Concert…   ┆            ┆ 7e8…      ┆           ┆           ┆           ┆           │\n",
       "│ d3c4b487-6 ┆ J. S.      ┆ [\"Basic\",  ┆ [\"a0585a5 ┆ false     ┆ 1.0       ┆ dan_Latn  ┆ dan_Latn  │\n",
       "│ 976-45bf-9 ┆ RASCH VIN  ┆ \"Minimal\", ┆ c-b72f-4c ┆           ┆           ┆           ┆           │\n",
       "│ a81-2c8208 ┆ & SPIRITUS ┆ \"None\"]    ┆ 3a-a2a3-1 ┆           ┆           ┆           ┆           │\n",
       "│ …          ┆ J. …       ┆            ┆ 7e8…      ┆           ┆           ┆           ┆           │\n",
       "└────────────┴────────────┴────────────┴───────────┴───────────┴───────────┴───────────┴───────────┘"
      ]
     },
     "execution_count": 11,
     "metadata": {},
     "output_type": "execute_result"
    }
   ],
   "source": [
    "df_scandinavian.filter(\n",
    "    pl.col(\"educational_value_labels\").list.unique().list.len() > 1\n",
    ").collect()"
   ]
  },
  {
   "cell_type": "markdown",
   "metadata": {},
   "source": [
    "Even with a quick eyeball we can see that often \"problematic\" or None are used to label the same text. Similarly \"minimal\" or \"none\" are used to label the same text. This isn't so surprising since the educational quality is fairly subjective. The main thing we probably don't want too much of is content with very extreme labels i.e None vs Excellent. We can take a closer look at the combinations of labels that are used. Let's take a look at the unique combinations of non agreeing labels. "
   ]
  },
  {
   "cell_type": "code",
   "execution_count": 12,
   "metadata": {
    "tags": []
   },
   "outputs": [
    {
     "data": {
      "text/html": [
       "<div><style>\n",
       ".dataframe > thead > tr,\n",
       ".dataframe > tbody > tr {\n",
       "  text-align: right;\n",
       "  white-space: pre-wrap;\n",
       "}\n",
       "</style>\n",
       "<small>shape: (37, 1)</small><table border=\"1\" class=\"dataframe\"><thead><tr><th>educational_value_labels</th></tr><tr><td>list[str]</td></tr></thead><tbody><tr><td>[&quot;Basic&quot;, &quot;Good&quot;, &quot;None&quot;]</td></tr><tr><td>[&quot;Good&quot;, &quot;None&quot;, &quot;❗ Problematic Content ❗&quot;]</td></tr><tr><td>[&quot;Excellent&quot;, &quot;Minimal&quot;, &quot;Minimal&quot;]</td></tr><tr><td>[&quot;Basic&quot;, &quot;Excellent&quot;, &quot;Minimal&quot;]</td></tr><tr><td>[&quot;Basic&quot;, &quot;None&quot;, &quot;None&quot;]</td></tr><tr><td>&hellip;</td></tr><tr><td>[&quot;Good&quot;, &quot;None&quot;, &quot;None&quot;]</td></tr><tr><td>[&quot;Minimal&quot;, &quot;None&quot;, &quot;❗ Problematic Content ❗&quot;]</td></tr><tr><td>[&quot;Basic&quot;, &quot;Minimal&quot;, &quot;❗ Problematic Content ❗&quot;]</td></tr><tr><td>[&quot;None&quot;, &quot;❗ Problematic Content ❗&quot;, &quot;❗ Problematic Content ❗&quot;]</td></tr><tr><td>[&quot;Basic&quot;, &quot;Good&quot;]</td></tr></tbody></table></div>"
      ],
      "text/plain": [
       "shape: (37, 1)\n",
       "┌─────────────────────────────────┐\n",
       "│ educational_value_labels        │\n",
       "│ ---                             │\n",
       "│ list[str]                       │\n",
       "╞═════════════════════════════════╡\n",
       "│ [\"Basic\", \"Good\", \"None\"]       │\n",
       "│ [\"Good\", \"None\", \"❗            │\n",
       "│ Problemati…                     │\n",
       "│ [\"Excellent\", \"Minimal\", \"Mini… │\n",
       "│ [\"Basic\", \"Excellent\", \"Minima… │\n",
       "│ [\"Basic\", \"None\", \"None\"]       │\n",
       "│ …                               │\n",
       "│ [\"Good\", \"None\", \"None\"]        │\n",
       "│ [\"Minimal\", \"None\", \"❗         │\n",
       "│ Problem…                        │\n",
       "│ [\"Basic\", \"Minimal\", \"❗        │\n",
       "│ Proble…                         │\n",
       "│ [\"None\", \"❗ Problematic        │\n",
       "│ Conten…                         │\n",
       "│ [\"Basic\", \"Good\"]               │\n",
       "└─────────────────────────────────┘"
      ]
     },
     "execution_count": 12,
     "metadata": {},
     "output_type": "execute_result"
    }
   ],
   "source": [
    "#| code-fold: true\n",
    "(\n",
    "    df_scandinavian.filter(\n",
    "        pl.col(\"educational_value_labels\").list.unique().list.len() > 1\n",
    "    )\n",
    "    .select(\n",
    "        pl.col(\"educational_value_labels\").list.sort().alias(\"educational_value_labels\")\n",
    "    )\n",
    "    .unique()\n",
    ").collect()"
   ]
  },
  {
   "cell_type": "markdown",
   "metadata": {},
   "source": [
    "From a quick eyeball we don't seem to have disagreement that is too extreme. Let's get a better understanding of the co-occurrence of labels when annotators disagree.\n",
    " "
   ]
  },
  {
   "cell_type": "code",
   "execution_count": 13,
   "metadata": {
    "tags": []
   },
   "outputs": [
    {
     "data": {
      "text/plain": [
       "[['None', '❗ Problematic Content ❗'],\n",
       " ['Basic', 'Minimal', 'None'],\n",
       " ['Basic', 'None'],\n",
       " ['Basic', 'Minimal'],\n",
       " ['Basic', 'None'],\n",
       " ['Basic', 'None'],\n",
       " ['Basic', 'Minimal', 'None'],\n",
       " ['None', '❗ Problematic Content ❗'],\n",
       " ['None', '❗ Problematic Content ❗'],\n",
       " ['Minimal', 'None']]"
      ]
     },
     "execution_count": 13,
     "metadata": {},
     "output_type": "execute_result"
    }
   ],
   "source": [
    "#| code-fold: true\n",
    "combinations = (\n",
    "    (\n",
    "        df_scandinavian.filter(\n",
    "            pl.col(\"educational_value_labels\").list.unique().list.len() > 1\n",
    "        )\n",
    "        .select(\n",
    "            pl.col(\"educational_value_labels\")\n",
    "            .list.unique()\n",
    "            .list.sort()\n",
    "            .alias(\"educational_value_labels\")\n",
    "        )\n",
    "        .collect()\n",
    "    )\n",
    "    .to_series()\n",
    "    .to_list()\n",
    ")\n",
    "combinations[:10]"
   ]
  },
  {
   "cell_type": "markdown",
   "metadata": {},
   "source": [
    "We can plot this using some code Claude gave me. \n"
   ]
  },
  {
   "cell_type": "code",
   "execution_count": 14,
   "metadata": {
    "tags": []
   },
   "outputs": [
    {
     "name": "stdout",
     "output_type": "stream",
     "text": [
      "Most common label combinations:\n",
      "Minimal + None: 305 occurrences\n",
      "Basic + Minimal: 96 occurrences\n",
      "None + ❗ Problematic Content ❗: 84 occurrences\n",
      "Basic + None: 69 occurrences\n",
      "Good + Minimal: 24 occurrences\n",
      "Minimal + ❗ Problematic Content ❗: 23 occurrences\n",
      "Good + None: 12 occurrences\n",
      "Basic + Good: 11 occurrences\n",
      "Basic + ❗ Problematic Content ❗: 7 occurrences\n",
      "Basic + Excellent: 5 occurrences\n"
     ]
    }
   ],
   "source": [
    "#| code-fold: true\n",
    "import numpy as np\n",
    "import pandas as pd\n",
    "\n",
    "# First, let's get all unique labels that appear\n",
    "all_labels = set()\n",
    "for combo in combinations:  # combinations is your list of lists\n",
    "    all_labels.update(combo)\n",
    "all_labels = sorted(list(all_labels))\n",
    "\n",
    "# Create a co-occurrence matrix\n",
    "cooc_matrix = pd.DataFrame(0, index=all_labels, columns=all_labels)\n",
    "\n",
    "# Fill the matrix\n",
    "for combo in combinations:\n",
    "    for label1 in combo:\n",
    "        for label2 in combo:\n",
    "            if label1 != label2:\n",
    "                cooc_matrix.loc[label1, label2] += 1\n",
    "\n",
    "# Convert to percentage of times labels co-occur\n",
    "total_occurrences = cooc_matrix.sum().sum()\n",
    "cooc_matrix_pct = cooc_matrix / total_occurrences * 100\n",
    "\n",
    "# Print most common co-occurrences\n",
    "pairs = []\n",
    "for i in range(len(all_labels)):\n",
    "    for j in range(i + 1, len(all_labels)):\n",
    "        label1, label2 = all_labels[i], all_labels[j]\n",
    "        count = cooc_matrix.loc[label1, label2]\n",
    "        if count > 0:\n",
    "            pairs.append((label1, label2, count))\n",
    "\n",
    "# Sort by count\n",
    "pairs.sort(key=lambda x: x[2], reverse=True)\n",
    "\n",
    "# Print top co-occurrences\n",
    "print(\"Most common label combinations:\")\n",
    "for label1, label2, count in pairs[:10]:\n",
    "    print(f\"{label1} + {label2}: {count} occurrences\")"
   ]
  },
  {
   "cell_type": "markdown",
   "metadata": {},
   "source": [
    "We see here that Minimal and None are the most common labels when annotators disagree. We also see some \"problematic\" labels with None. In the FineWeb-c dataset the `problematic_content_label_present` is a boolean column that is `True` if any of the annotators labeled the text as problematic. We want to check that this wouldn't capture too many examples where another annotator would rate the text highly. If we train a classifier to remove problematic content is *may* also remove some examples which would be labelled None or possibly minimal but since we're mostly seeking to get higher educational quality data this isn't really a problem. "
   ]
  },
  {
   "cell_type": "markdown",
   "metadata": {},
   "source": [
    "## Preparing the data for training\n",
    "\n",
    "Let's remind ourselves of the percentage of problematic content for each language we're working with. \n"
   ]
  },
  {
   "cell_type": "code",
   "execution_count": 15,
   "metadata": {
    "colab": {
     "base_uri": "https://localhost:8080/",
     "height": 161
    },
    "id": "GGXVYaY55vPy",
    "outputId": "fdb7e026-d9de-4b56-e1d7-1aa3a2b54e99",
    "tags": []
   },
   "outputs": [
    {
     "data": {
      "text/html": [
       "<div><style>\n",
       ".dataframe > thead > tr,\n",
       ".dataframe > tbody > tr {\n",
       "  text-align: right;\n",
       "  white-space: pre-wrap;\n",
       "}\n",
       "</style>\n",
       "<small>shape: (2, 2)</small><table border=\"1\" class=\"dataframe\"><thead><tr><th>language_code</th><th>problematic_percentage</th></tr><tr><td>str</td><td>f64</td></tr></thead><tbody><tr><td>&quot;swe_Latn&quot;</td><td>8.8</td></tr><tr><td>&quot;dan_Latn&quot;</td><td>19.4</td></tr></tbody></table></div>"
      ],
      "text/plain": [
       "shape: (2, 2)\n",
       "┌───────────────┬────────────────────────┐\n",
       "│ language_code ┆ problematic_percentage │\n",
       "│ ---           ┆ ---                    │\n",
       "│ str           ┆ f64                    │\n",
       "╞═══════════════╪════════════════════════╡\n",
       "│ swe_Latn      ┆ 8.8                    │\n",
       "│ dan_Latn      ┆ 19.4                   │\n",
       "└───────────────┴────────────────────────┘"
      ]
     },
     "execution_count": 15,
     "metadata": {},
     "output_type": "execute_result"
    }
   ],
   "source": [
    "#| code-fold: true\n",
    "(\n",
    "    df_scandinavian.group_by(\"language_code\").agg(\n",
    "        [\n",
    "            (\n",
    "                pl.col(\"problematic_content_label_present\").sum()\n",
    "                / pl.col(\"problematic_content_label_present\").count()\n",
    "                * 100\n",
    "            ).alias(\"problematic_percentage\")\n",
    "        ]\n",
    "    )\n",
    ").collect()"
   ]
  },
  {
   "cell_type": "markdown",
   "metadata": {},
   "source": [
    "Let's now convert our LazyFrame to a Polars DataFrame so it's a bit easier to pass to other libraries. "
   ]
  },
  {
   "cell_type": "code",
   "execution_count": 16,
   "metadata": {
    "tags": []
   },
   "outputs": [],
   "source": [
    "df_scandinavian = df_scandinavian.collect()"
   ]
  },
  {
   "cell_type": "markdown",
   "metadata": {},
   "source": [
    "### Train / test split\n",
    "\n",
    "Creating a good train/test split is important for making sure we train a model that generalizes well. We'll use a stratified split to ensure that the train and test set have a similar distribution of labels. Since we're working with two language we probably want to stratify on language too."
   ]
  },
  {
   "cell_type": "code",
   "execution_count": 17,
   "metadata": {
    "colab": {
     "base_uri": "https://localhost:8080/"
    },
    "id": "v2gLYAN96jOx",
    "outputId": "ad6883b8-22e4-4637-b3fc-338b7e83b8d7",
    "tags": []
   },
   "outputs": [],
   "source": [
    "#| code-fold: true\n",
    "# Create stratification column\n",
    "df_scandinavian = df_scandinavian.with_columns(\n",
    "    strat_col=pl.col(\"language_code\")\n",
    "    + \"_\"\n",
    "    + pl.col(\"problematic_content_label_present\").cast(pl.Utf8)\n",
    ")\n",
    "\n",
    "# Convert to numpy for sklearn\n",
    "X = df_scandinavian.select([\"id\", \"text\"]).to_numpy()  # Including id for tracking\n",
    "y = df_scandinavian.select(\"problematic_content_label_present\").to_numpy()\n",
    "strat = df_scandinavian.select(\"strat_col\").to_numpy()\n",
    "\n",
    "# Create stratified split\n",
    "X_train, X_test, y_train, y_test = train_test_split(\n",
    "    X, y, test_size=0.2, stratify=strat, random_state=42\n",
    ")\n",
    "\n",
    "# Convert back to Polars DataFrames with all relevant columns\n",
    "train_indices = set(X_train[:, 0])  # Assuming first column is id\n",
    "test_indices = set(X_test[:, 0])\n",
    "\n",
    "train_df = df_scandinavian.filter(pl.col(\"id\").is_in(train_indices))\n",
    "test_df = df_scandinavian.filter(pl.col(\"id\").is_in(test_indices))"
   ]
  },
  {
   "cell_type": "markdown",
   "metadata": {},
   "source": [
    "Let's take a look at the distribution of labels in the train and test set by language and label (problematic or not). \n"
   ]
  },
  {
   "cell_type": "code",
   "execution_count": 18,
   "metadata": {
    "tags": []
   },
   "outputs": [
    {
     "name": "stdout",
     "output_type": "stream",
     "text": [
      "\n",
      "Train Set:\n",
      "Label distribution within each language:\n",
      "shape: (2, 3)\n",
      "┌───────────────┬────────────────────────┬─────────────┐\n",
      "│ language_code ┆ problematic_percentage ┆ total_count │\n",
      "│ ---           ┆ ---                    ┆ ---         │\n",
      "│ str           ┆ f64                    ┆ u32         │\n",
      "╞═══════════════╪════════════════════════╪═════════════╡\n",
      "│ dan_Latn      ┆ 19.38                  ┆ 800         │\n",
      "│ swe_Latn      ┆ 8.75                   ┆ 800         │\n",
      "└───────────────┴────────────────────────┴─────────────┘\n",
      "\n",
      "Language distribution in train set:\n",
      "shape: (2, 3)\n",
      "┌───────────────┬─────────────────────┬───────┐\n",
      "│ language_code ┆ percentage_of_split ┆ count │\n",
      "│ ---           ┆ ---                 ┆ ---   │\n",
      "│ str           ┆ f64                 ┆ u32   │\n",
      "╞═══════════════╪═════════════════════╪═══════╡\n",
      "│ dan_Latn      ┆ 50.0                ┆ 800   │\n",
      "│ swe_Latn      ┆ 50.0                ┆ 800   │\n",
      "└───────────────┴─────────────────────┴───────┘\n",
      "\n",
      "Test Set:\n",
      "Label distribution within each language:\n",
      "shape: (2, 3)\n",
      "┌───────────────┬────────────────────────┬─────────────┐\n",
      "│ language_code ┆ problematic_percentage ┆ total_count │\n",
      "│ ---           ┆ ---                    ┆ ---         │\n",
      "│ str           ┆ f64                    ┆ u32         │\n",
      "╞═══════════════╪════════════════════════╪═════════════╡\n",
      "│ dan_Latn      ┆ 19.5                   ┆ 200         │\n",
      "│ swe_Latn      ┆ 9.0                    ┆ 200         │\n",
      "└───────────────┴────────────────────────┴─────────────┘\n",
      "\n",
      "Language distribution in test set:\n",
      "shape: (2, 3)\n",
      "┌───────────────┬─────────────────────┬───────┐\n",
      "│ language_code ┆ percentage_of_split ┆ count │\n",
      "│ ---           ┆ ---                 ┆ ---   │\n",
      "│ str           ┆ f64                 ┆ u32   │\n",
      "╞═══════════════╪═════════════════════╪═══════╡\n",
      "│ dan_Latn      ┆ 50.0                ┆ 200   │\n",
      "│ swe_Latn      ┆ 50.0                ┆ 200   │\n",
      "└───────────────┴─────────────────────┴───────┘\n"
     ]
    }
   ],
   "source": [
    "#| code-fold: true\n",
    "print(\"\\nTrain Set:\")\n",
    "# Problematic content percentage by language\n",
    "print(\"Label distribution within each language:\")\n",
    "print(\n",
    "    (\n",
    "        train_df.group_by(\"language_code\")\n",
    "        .agg(\n",
    "            [\n",
    "                (\n",
    "                    pl.col(\"problematic_content_label_present\").sum()\n",
    "                    / pl.col(\"problematic_content_label_present\").count()\n",
    "                    * 100\n",
    "                ).alias(\"problematic_percentage\"),\n",
    "                pl.col(\"problematic_content_label_present\")\n",
    "                .count()\n",
    "                .alias(\"total_count\"),\n",
    "            ]\n",
    "        )\n",
    "        .sort(\"language_code\")\n",
    "        .with_columns(pl.col(\"problematic_percentage\").round(2))\n",
    "    )\n",
    ")\n",
    "\n",
    "# Language distribution\n",
    "print(\"\\nLanguage distribution in train set:\")\n",
    "print(\n",
    "    (\n",
    "        train_df.group_by(\"language_code\")\n",
    "        .agg(\n",
    "            (pl.len() / train_df.height * 100).alias(\"percentage_of_split\"),\n",
    "            pl.len().alias(\"count\"),\n",
    "        )\n",
    "        .sort(\"language_code\")\n",
    "        .with_columns(pl.col(\"percentage_of_split\").round(2))\n",
    "    )\n",
    ")\n",
    "\n",
    "print(\"\\nTest Set:\")\n",
    "# Problematic content percentage by language\n",
    "print(\"Label distribution within each language:\")\n",
    "print(\n",
    "    (\n",
    "        test_df.group_by(\"language_code\")\n",
    "        .agg(\n",
    "            [\n",
    "                (\n",
    "                    pl.col(\"problematic_content_label_present\").sum()\n",
    "                    / pl.col(\"problematic_content_label_present\").count()\n",
    "                    * 100\n",
    "                ).alias(\"problematic_percentage\"),\n",
    "                pl.col(\"problematic_content_label_present\")\n",
    "                .count()\n",
    "                .alias(\"total_count\"),\n",
    "            ]\n",
    "        )\n",
    "        .sort(\"language_code\")\n",
    "        .with_columns(pl.col(\"problematic_percentage\").round(2))\n",
    "    )\n",
    ")\n",
    "\n",
    "# Language distribution\n",
    "print(\"\\nLanguage distribution in test set:\")\n",
    "print(\n",
    "    (\n",
    "        test_df.group_by(\"language_code\")\n",
    "        .agg(\n",
    "            (pl.len() / test_df.height * 100).alias(\"percentage_of_split\"),\n",
    "            pl.len().alias(\"count\"),\n",
    "        )\n",
    "        .sort(\"language_code\")\n",
    "        .with_columns(pl.col(\"percentage_of_split\").round(2))\n",
    "    )\n",
    ")"
   ]
  },
  {
   "cell_type": "markdown",
   "metadata": {},
   "source": [
    "## Loading as HuggingFace Dataset\n",
    "We'll now load the data as a HuggingFace Dataset. We'll first convert the `problematic_content_label_present` column to an integer column. "
   ]
  },
  {
   "cell_type": "code",
   "execution_count": 19,
   "metadata": {
    "colab": {
     "base_uri": "https://localhost:8080/"
    },
    "id": "cbl3iv8E9P4X",
    "outputId": "e5bb1ae4-0251-420d-f8f7-64e5605c0ea9",
    "tags": []
   },
   "outputs": [],
   "source": [
    "\n",
    "train_df = train_df.with_columns(\n",
    "    pl.col(\"problematic_content_label_present\").cast(pl.Int32)\n",
    ")\n",
    "test_df = test_df.with_columns(\n",
    "    pl.col(\"problematic_content_label_present\").cast(pl.Int32)\n",
    ")"
   ]
  },
  {
   "cell_type": "code",
   "execution_count": 20,
   "metadata": {
    "id": "Htu8yJMC9Hk_",
    "tags": []
   },
   "outputs": [],
   "source": [
    "train_ds = Dataset.from_polars(train_df)\n",
    "test_ds = Dataset.from_polars(test_df)"
   ]
  },
  {
   "cell_type": "markdown",
   "metadata": {},
   "source": [
    "We rename the `problematic_content_label_present` column to `labels` to match the expected column name for the Transformers Trainer. "
   ]
  },
  {
   "cell_type": "code",
   "execution_count": 21,
   "metadata": {
    "tags": []
   },
   "outputs": [],
   "source": [
    "train_ds = train_ds.rename_column(\"problematic_content_label_present\", \"labels\")\n",
    "test_ds = test_ds.rename_column(\"problematic_content_label_present\", \"labels\")"
   ]
  },
  {
   "cell_type": "markdown",
   "metadata": {},
   "source": [
    "## Fine tuning a model\n",
    "\n",
    "We'll now fine tune a model to predict the `problematic_content_label_present` column. To do this we'll want a `fill-mask` model which supports the languages we're working with. We can find these models using the HuggingFace Hub using this url:\n",
    "\n",
    "[https://huggingface.co/models?pipeline_tag=fill-mask&language=da,sv&sort=trending](https://huggingface.co/models?pipeline_tag=fill-mask&language=da,sv&sort=trending)\n",
    "We can try out a few options but we'll start with the [FacebookAI/xlm-roberta-base](https://huggingface.co/FacebookAI/xlm-roberta-base) model. \n"
   ]
  },
  {
   "cell_type": "markdown",
   "metadata": {},
   "source": [
    "## Defining metrics\n",
    "\n",
    "We'll define a function to compute the metrics we want to use to evaluate the model. Since we're working with an imbalanced dataset we'll want to use a few different metrics. We're probably going a bit overboard here but since the dataset is small it can be useful to have a few more metrics to look at to understand the model's performance. \n"
   ]
  },
  {
   "cell_type": "code",
   "execution_count": 22,
   "metadata": {
    "tags": []
   },
   "outputs": [],
   "source": [
    "#| code-fold: true\n",
    "def compute_metrics(pred):\n",
    "    \"\"\"\n",
    "    Compute metrics including AUC-ROC for the minority class.\n",
    "    \"\"\"\n",
    "    # Get labels\n",
    "    labels = pred.label_ids\n",
    "\n",
    "    # Convert logits to probabilities using softmax \n",
    "    probs = softmax(pred.predictions, axis=1)\n",
    "    # Get probability scores for the minority class (assuming it's label 1)\n",
    "    minority_probs = probs[:, 1]\n",
    "\n",
    "    # Get predicted class (argmax of logits)\n",
    "    preds = np.argmax(pred.predictions, axis=1)\n",
    "\n",
    "    # Calculate standard metrics\n",
    "    precision = precision_score(labels, preds)\n",
    "    recall = recall_score(labels, preds)\n",
    "    f1 = f1_score(labels, preds)\n",
    "    \n",
    "    # Calculate additional metrics for imbalanced classification\n",
    "    cm = confusion_matrix(labels, preds)\n",
    "    tn, fp, fn, tp = cm.ravel()\n",
    "    specificity = tn / (tn + fp)  # True negative rate\n",
    "    balanced_acc = (recall + specificity) / 2  # Balanced accuracy\n",
    "    auc_roc = roc_auc_score(labels, minority_probs)\n",
    "    avg_precision = average_precision_score(labels, minority_probs)  # Area under PR curve\n",
    "\n",
    "    return {\n",
    "        \"precision\": precision,\n",
    "        \"recall\": recall, \n",
    "        \"f1\": f1,\n",
    "        \"auc_roc\": auc_roc,\n",
    "        \"balanced_accuracy\": balanced_acc,\n",
    "        \"average_precision\": avg_precision\n",
    "    }"
   ]
  },
  {
   "cell_type": "markdown",
   "metadata": {},
   "source": [
    "## Setting up the training\n",
    "\n",
    "I find it nice to have a mapping between the labels and the ids so later I don't need to remember which label is which id. \n"
   ]
  },
  {
   "cell_type": "code",
   "execution_count": 23,
   "metadata": {
    "tags": []
   },
   "outputs": [
    {
     "data": {
      "text/plain": [
       "[False, True]"
      ]
     },
     "execution_count": 23,
     "metadata": {},
     "output_type": "execute_result"
    }
   ],
   "source": [
    "possible_labels = (\n",
    "    df_scandinavian.select(\"problematic_content_label_present\")\n",
    "    .unique()\n",
    "    .to_series()\n",
    "    .to_list()\n",
    ")\n",
    "possible_labels"
   ]
  },
  {
   "cell_type": "code",
   "execution_count": 24,
   "metadata": {
    "id": "x9NJG-VNeMM9",
    "tags": []
   },
   "outputs": [],
   "source": [
    "label2id = {label: i for i, label in enumerate(possible_labels)}\n",
    "id2label = {0: \"not_problematic\", 1: \"problematic\"}"
   ]
  },
  {
   "cell_type": "markdown",
   "metadata": {},
   "source": [
    "#### Authenticating with HuggingFace\n",
    "\n",
    "We'll need to authenticate with HuggingFace to push the model to the Hub. \n"
   ]
  },
  {
   "cell_type": "code",
   "execution_count": 25,
   "metadata": {
    "tags": []
   },
   "outputs": [],
   "source": [
    "from huggingface_hub import login"
   ]
  },
  {
   "cell_type": "code",
   "execution_count": 26,
   "metadata": {
    "tags": []
   },
   "outputs": [
    {
     "data": {
      "application/vnd.jupyter.widget-view+json": {
       "model_id": "42598358f6ca42e9a3d572ade3c9d5e4",
       "version_major": 2,
       "version_minor": 0
      },
      "text/plain": [
       "VBox(children=(HTML(value='<center> <img\\nsrc=https://huggingface.co/front/assets/huggingface_logo-noborder.sv…"
      ]
     },
     "metadata": {},
     "output_type": "display_data"
    }
   ],
   "source": [
    "login()"
   ]
  },
  {
   "cell_type": "markdown",
   "metadata": {},
   "source": [
    "#### Logging with Weights & Biases\n",
    "\n",
    "We'll also log the training with Weights & Biases. "
   ]
  },
  {
   "cell_type": "code",
   "execution_count": 27,
   "metadata": {
    "tags": []
   },
   "outputs": [],
   "source": [
    "import wandb"
   ]
  },
  {
   "cell_type": "code",
   "execution_count": 28,
   "metadata": {
    "tags": []
   },
   "outputs": [
    {
     "name": "stderr",
     "output_type": "stream",
     "text": [
      "\u001b[34m\u001b[1mwandb\u001b[0m: Currently logged in as: \u001b[33mdavanstrien\u001b[0m. Use \u001b[1m`wandb login --relogin`\u001b[0m to force relogin\n"
     ]
    },
    {
     "data": {
      "text/plain": [
       "True"
      ]
     },
     "execution_count": 28,
     "metadata": {},
     "output_type": "execute_result"
    }
   ],
   "source": [
    "wandb.login()"
   ]
  },
  {
   "cell_type": "markdown",
   "metadata": {},
   "source": [
    "## Train the model"
   ]
  },
  {
   "cell_type": "markdown",
   "metadata": {},
   "source": [
    "The training code is not super interesting or particularly elegant. I just wanted to get something working. "
   ]
  },
  {
   "cell_type": "code",
   "execution_count": 29,
   "metadata": {
    "colab": {
     "base_uri": "https://localhost:8080/",
     "height": 735,
     "referenced_widgets": [
      "9ff8b6bcd05f4884a6f3b45811ee3518",
      "4b3065f0369d47e5984e7e36974e8586",
      "548eed9025a14001ba4c96c4652bfd2b",
      "8e44403d79e7455886db29a13df6ab73",
      "14f6566ae8b44d23b404f11955804f3f",
      "06bf560afe224b8597144c66db376520",
      "9cb292516c894f51926d7bff09eb6433",
      "78e813f64c9d41e9945300ed1033e22e",
      "bc3eff33a9534865b2583cb30669436b",
      "ce793772c54a41798a09355254ea5150",
      "fd5a5f6f7b7a4c28be738b0080098171",
      "8c576bdde87c4d3b891de22bbc36427b",
      "82ea4742bb4f4f37821d5150b40926e1",
      "017604ad9dbe4447918a619891842909",
      "360725fec97447bd830e6d4de2bdc545",
      "badd00bb0bc44df19f3b81980930e7ca",
      "0d78fb3979474d429c2ed6366f62816e",
      "484c2282556c47f2be4094b022e08f06",
      "2ef5eb7567ef49f1baf5e558b83a7790",
      "a8b0b4a3b1824a4d9858a1974f973fe1",
      "39e2e5c49bae498ab9dc8cd73b965d4f",
      "a3d2eed0c3db4ca18ffdeee96a361115"
     ]
    },
    "id": "mzWcH6UokiH3",
    "outputId": "7e2ca402-c9d4-4e31-a84c-9c737215824a",
    "tags": []
   },
   "outputs": [],
   "source": [
    "#| code-fold: true\n",
    "def train_model(\n",
    "    train_ds,\n",
    "    test_ds,\n",
    "    hub_model_id,\n",
    "    pre_trained_model_name=\"distilbert/distilbert-base-multilingual-cased\",\n",
    "    num_epochs=20,\n",
    "    batch_size=128,\n",
    "    label2id=None,\n",
    "    id2label=None,\n",
    "):\n",
    "    \"\"\"\n",
    "    Train and evaluate the model with additional metrics for imbalanced classification.\n",
    "\n",
    "    Args:\n",
    "        train_ds: Training dataset\n",
    "        test_ds: Test dataset\n",
    "        hub_model_id: Model ID for pushing to HuggingFace Hub\n",
    "        pre_trained_model_name: Name of pretrained model to use\n",
    "        num_epochs: Number of training epochs\n",
    "        batch_size: Batch size for training\n",
    "        label2id: Dictionary mapping labels to IDs\n",
    "        id2label: Dictionary mapping IDs to labels\n",
    "    \"\"\"\n",
    "    tokenizer = AutoTokenizer.from_pretrained(pre_trained_model_name)\n",
    "    model = AutoModelForSequenceClassification.from_pretrained(\n",
    "        pre_trained_model_name,\n",
    "        num_labels=2,  # Binary classification\n",
    "        label2id=label2id,\n",
    "        id2label=id2label,\n",
    "    )\n",
    "\n",
    "    def tokenize_function(examples):\n",
    "        \"\"\"\n",
    "        Tokenize the text data with proper padding and truncation.\n",
    "        \"\"\"\n",
    "        return tokenizer(\n",
    "            examples[\"text\"], padding=True, truncation=True, max_length=512\n",
    "        )\n",
    "\n",
    "    split_dataset = DatasetDict({\"train\": train_ds, \"test\": test_ds})\n",
    "\n",
    "    # Tokenize datasets\n",
    "    tokenized_train = split_dataset[\"train\"].map(tokenize_function, batched=True)\n",
    "    tokenized_val = split_dataset[\"test\"].map(tokenize_function, batched=True)\n",
    "\n",
    "    print(f\"Tokenized train dataset: {tokenized_train}\")\n",
    "    print(f\"Tokenized val dataset: {tokenized_val}\")\n",
    "\n",
    "    # Set up training arguments\n",
    "    training_args = TrainingArguments(\n",
    "        output_dir=\"./results\",\n",
    "        num_train_epochs=num_epochs,\n",
    "        per_device_train_batch_size=batch_size,\n",
    "        per_device_eval_batch_size=batch_size,\n",
    "        learning_rate=2e-5,\n",
    "        weight_decay=0.01,\n",
    "        push_to_hub=True,\n",
    "        eval_strategy=\"steps\",\n",
    "        eval_steps=100,\n",
    "        logging_steps=100,\n",
    "        save_strategy=\"steps\",\n",
    "        load_best_model_at_end=True,\n",
    "        metric_for_best_model=\"auc_roc\",  # Using AUC-ROC for model selection\n",
    "        greater_is_better=True,\n",
    "        hub_model_id=hub_model_id,\n",
    "        fp16=True,\n",
    "        save_safetensors=False,\n",
    "    )\n",
    "\n",
    "    trainer = Trainer(\n",
    "        model=model,\n",
    "        args=training_args,\n",
    "        processing_class=tokenizer, \n",
    "        train_dataset=tokenized_train,\n",
    "        eval_dataset=tokenized_val,\n",
    "        compute_metrics=compute_metrics,\n",
    "        callbacks=[\n",
    "            EarlyStoppingCallback(\n",
    "                early_stopping_patience=2, early_stopping_threshold=0.001\n",
    "            )\n",
    "        ],\n",
    "     )\n",
    "\n",
    "    # Train the model\n",
    "    trainer.train()\n",
    "\n",
    "    # Evaluate the model\n",
    "    eval_results = trainer.evaluate()\n",
    "\n",
    "    return trainer, eval_results\n",
    "\n",
    "\n",
    "def main(\n",
    "    train_ds,\n",
    "    test_ds,\n",
    "    hub_model_id,\n",
    "    pre_trained_model_name=\"distilbert/distilbert-base-multilingual-cased\",\n",
    "    num_epochs=20,\n",
    "    batch_size=128,\n",
    "    label2id=None,\n",
    "    id2label=None,\n",
    "):\n",
    "    \"\"\"\n",
    "    Main training function that handles model training and evaluation.\n",
    "\n",
    "    Args:\n",
    "        train_ds: Training dataset\n",
    "        test_ds: Test dataset\n",
    "        hub_model_id: Model ID for pushing to HuggingFace Hub\n",
    "        pre_trained_model_name: Name of pretrained model to use\n",
    "        num_epochs: Number of training epochs\n",
    "        batch_size: Batch size for training\n",
    "        label2id: Dictionary mapping labels to IDs\n",
    "        id2label: Dictionary mapping IDs to labels\n",
    "    \"\"\"\n",
    "    # Train and evaluate the model\n",
    "    trainer, eval_results = train_model(\n",
    "        train_ds=train_ds,\n",
    "        test_ds=test_ds,\n",
    "        hub_model_id=hub_model_id,\n",
    "        pre_trained_model_name=pre_trained_model_name,\n",
    "        num_epochs=num_epochs,\n",
    "        batch_size=batch_size,\n",
    "        label2id=label2id,\n",
    "        id2label=id2label,\n",
    "    )\n",
    "\n",
    "    # Print evaluation results with all metrics\n",
    "    print(\"\\nEvaluation Results:\")\n",
    "    print(f\"F1 Score: {eval_results['eval_f1']:.4f}\")\n",
    "    print(f\"Precision: {eval_results['eval_precision']:.4f}\")\n",
    "    print(f\"Recall: {eval_results['eval_recall']:.4f}\")\n",
    "    print(f\"AUC-ROC (minority class): {eval_results['eval_auc_roc']:.4f}\")\n",
    "    print(\n",
    "        f\"Average Precision (minority class): {eval_results['eval_average_precision']:.4f}\"\n",
    "    )\n",
    "    print(f\"Balanced Accuracy: {eval_results['eval_balanced_accuracy']:.4f}\")\n",
    "\n",
    "    return trainer, eval_results"
   ]
  },
  {
   "cell_type": "markdown",
   "metadata": {},
   "source": [
    "Let's run the training. "
   ]
  },
  {
   "cell_type": "code",
   "execution_count": 30,
   "metadata": {
    "tags": []
   },
   "outputs": [
    {
     "name": "stderr",
     "output_type": "stream",
     "text": [
      "Some weights of XLMRobertaForSequenceClassification were not initialized from the model checkpoint at FacebookAI/xlm-roberta-base and are newly initialized: ['classifier.dense.bias', 'classifier.dense.weight', 'classifier.out_proj.bias', 'classifier.out_proj.weight']\n",
      "You should probably TRAIN this model on a down-stream task to be able to use it for predictions and inference.\n"
     ]
    },
    {
     "data": {
      "application/vnd.jupyter.widget-view+json": {
       "model_id": "f94144d9d41a40f385c474c22a0c3374",
       "version_major": 2,
       "version_minor": 0
      },
      "text/plain": [
       "Map:   0%|          | 0/1600 [00:00<?, ? examples/s]"
      ]
     },
     "metadata": {},
     "output_type": "display_data"
    },
    {
     "data": {
      "application/vnd.jupyter.widget-view+json": {
       "model_id": "cd0a2b307cad48969f55447ef405618a",
       "version_major": 2,
       "version_minor": 0
      },
      "text/plain": [
       "Map:   0%|          | 0/400 [00:00<?, ? examples/s]"
      ]
     },
     "metadata": {},
     "output_type": "display_data"
    },
    {
     "name": "stdout",
     "output_type": "stream",
     "text": [
      "Tokenized train dataset: Dataset({\n",
      "    features: ['id', 'text', 'educational_value_labels', 'annotator_ids', 'labels', 'problematic_content_label_agreement', 'language_names', 'language_code', 'strat_col', 'input_ids', 'attention_mask'],\n",
      "    num_rows: 1600\n",
      "})\n",
      "Tokenized val dataset: Dataset({\n",
      "    features: ['id', 'text', 'educational_value_labels', 'annotator_ids', 'labels', 'problematic_content_label_agreement', 'language_names', 'language_code', 'strat_col', 'input_ids', 'attention_mask'],\n",
      "    num_rows: 400\n",
      "})\n"
     ]
    },
    {
     "name": "stderr",
     "output_type": "stream",
     "text": [
      "\u001b[34m\u001b[1mwandb\u001b[0m: \u001b[33mWARNING\u001b[0m The `run_name` is currently set to the same value as `TrainingArguments.output_dir`. If this was not intended, please specify a different run name by setting the `TrainingArguments.run_name` parameter.\n",
      "\u001b[34m\u001b[1mwandb\u001b[0m: Using wandb-core as the SDK backend.  Please refer to https://wandb.me/wandb-core for more information.\n"
     ]
    },
    {
     "data": {
      "text/html": [
       "Tracking run with wandb version 0.19.2"
      ],
      "text/plain": [
       "<IPython.core.display.HTML object>"
      ]
     },
     "metadata": {},
     "output_type": "display_data"
    },
    {
     "data": {
      "text/html": [
       "Run data is saved locally in <code>/data/wandb/run-20250110_144423-pjxv4avq</code>"
      ],
      "text/plain": [
       "<IPython.core.display.HTML object>"
      ]
     },
     "metadata": {},
     "output_type": "display_data"
    },
    {
     "data": {
      "text/html": [
       "Syncing run <strong><a href='https://wandb.ai/davanstrien/huggingface/runs/pjxv4avq' target=\"_blank\">./results</a></strong> to <a href='https://wandb.ai/davanstrien/huggingface' target=\"_blank\">Weights & Biases</a> (<a href='https://wandb.me/developer-guide' target=\"_blank\">docs</a>)<br>"
      ],
      "text/plain": [
       "<IPython.core.display.HTML object>"
      ]
     },
     "metadata": {},
     "output_type": "display_data"
    },
    {
     "data": {
      "text/html": [
       " View project at <a href='https://wandb.ai/davanstrien/huggingface' target=\"_blank\">https://wandb.ai/davanstrien/huggingface</a>"
      ],
      "text/plain": [
       "<IPython.core.display.HTML object>"
      ]
     },
     "metadata": {},
     "output_type": "display_data"
    },
    {
     "data": {
      "text/html": [
       " View run at <a href='https://wandb.ai/davanstrien/huggingface/runs/pjxv4avq' target=\"_blank\">https://wandb.ai/davanstrien/huggingface/runs/pjxv4avq</a>"
      ],
      "text/plain": [
       "<IPython.core.display.HTML object>"
      ]
     },
     "metadata": {},
     "output_type": "display_data"
    },
    {
     "data": {
      "text/html": [
       "\n",
       "    <div>\n",
       "      \n",
       "      <progress value='400' max='1000' style='width:300px; height:20px; vertical-align: middle;'></progress>\n",
       "      [ 400/1000 00:35 < 00:54, 11.07 it/s, Epoch 4/10]\n",
       "    </div>\n",
       "    <table border=\"1\" class=\"dataframe\">\n",
       "  <thead>\n",
       " <tr style=\"text-align: left;\">\n",
       "      <th>Step</th>\n",
       "      <th>Training Loss</th>\n",
       "      <th>Validation Loss</th>\n",
       "      <th>Precision</th>\n",
       "      <th>Recall</th>\n",
       "      <th>F1</th>\n",
       "      <th>Auc Roc</th>\n",
       "      <th>Balanced Accuracy</th>\n",
       "      <th>Average Precision</th>\n",
       "    </tr>\n",
       "  </thead>\n",
       "  <tbody>\n",
       "    <tr>\n",
       "      <td>100</td>\n",
       "      <td>0.316500</td>\n",
       "      <td>0.233318</td>\n",
       "      <td>0.950000</td>\n",
       "      <td>0.666667</td>\n",
       "      <td>0.783505</td>\n",
       "      <td>0.809933</td>\n",
       "      <td>0.830418</td>\n",
       "      <td>0.772107</td>\n",
       "    </tr>\n",
       "    <tr>\n",
       "      <td>200</td>\n",
       "      <td>0.192900</td>\n",
       "      <td>0.135871</td>\n",
       "      <td>0.913043</td>\n",
       "      <td>0.736842</td>\n",
       "      <td>0.815534</td>\n",
       "      <td>0.977750</td>\n",
       "      <td>0.862590</td>\n",
       "      <td>0.910528</td>\n",
       "    </tr>\n",
       "    <tr>\n",
       "      <td>300</td>\n",
       "      <td>0.177500</td>\n",
       "      <td>0.224539</td>\n",
       "      <td>0.926829</td>\n",
       "      <td>0.666667</td>\n",
       "      <td>0.775510</td>\n",
       "      <td>0.948110</td>\n",
       "      <td>0.828960</td>\n",
       "      <td>0.872145</td>\n",
       "    </tr>\n",
       "    <tr>\n",
       "      <td>400</td>\n",
       "      <td>0.155300</td>\n",
       "      <td>0.181648</td>\n",
       "      <td>0.952381</td>\n",
       "      <td>0.701754</td>\n",
       "      <td>0.808081</td>\n",
       "      <td>0.964784</td>\n",
       "      <td>0.847962</td>\n",
       "      <td>0.890566</td>\n",
       "    </tr>\n",
       "  </tbody>\n",
       "</table><p>"
      ],
      "text/plain": [
       "<IPython.core.display.HTML object>"
      ]
     },
     "metadata": {},
     "output_type": "display_data"
    },
    {
     "name": "stderr",
     "output_type": "stream",
     "text": [
      "Could not locate the best model at ./results/checkpoint-200/pytorch_model.bin, if you are running a distributed training on multiple nodes, you should activate `--save_on_each_node`.\n"
     ]
    },
    {
     "data": {
      "text/html": [],
      "text/plain": [
       "<IPython.core.display.HTML object>"
      ]
     },
     "metadata": {},
     "output_type": "display_data"
    },
    {
     "name": "stdout",
     "output_type": "stream",
     "text": [
      "\n",
      "Evaluation Results:\n",
      "F1 Score: 0.8081\n",
      "Precision: 0.9524\n",
      "Recall: 0.7018\n",
      "AUC-ROC (minority class): 0.9648\n",
      "Average Precision (minority class): 0.8906\n",
      "Balanced Accuracy: 0.8480\n"
     ]
    }
   ],
   "source": [
    "trainer, results = main(\n",
    "    train_ds,\n",
    "    test_ds,\n",
    "    hub_model_id=\"davanstrien/scandi-fine-web-cleaner\",\n",
    "    pre_trained_model_name=\"FacebookAI/xlm-roberta-base\",\n",
    "    num_epochs=10,\n",
    "    batch_size=16,\n",
    "    label2id=label2id,\n",
    "    id2label=id2label,\n",
    ")"
   ]
  },
  {
   "cell_type": "markdown",
   "metadata": {},
   "source": [
    "## Looking at the results\n",
    "\n",
    "\n",
    "We can look at the results of the training by looking at the precision-recall curve to get a better understanding of the model's performance. As a reminder we have quite an inballanced dataset (problematic is relatively uncommon)"
   ]
  },
  {
   "cell_type": "code",
   "execution_count": 31,
   "metadata": {
    "tags": []
   },
   "outputs": [
    {
     "data": {
      "text/plain": [
       "Counter({0: 343, 1: 57})"
      ]
     },
     "execution_count": 31,
     "metadata": {},
     "output_type": "execute_result"
    }
   ],
   "source": [
    "# Get label distribution\n",
    "from collections import Counter\n",
    "\n",
    "label_counts = Counter(trainer.eval_dataset[\"labels\"])\n",
    "label_counts"
   ]
  },
  {
   "cell_type": "code",
   "execution_count": 32,
   "metadata": {
    "tags": []
   },
   "outputs": [
    {
     "data": {
      "image/png": "[encoded data removed]",
      "text/plain": [
       "<Figure size 1500x500 with 2 Axes>"
      ]
     },
     "metadata": {},
     "output_type": "display_data"
    },
    {
     "name": "stdout",
     "output_type": "stream",
     "text": [
      "\n",
      "Probability Distribution:\n",
      "Min probability: 0.004\n",
      "Max probability: 0.998\n",
      "Mean probability: 0.116\n"
     ]
    }
   ],
   "source": [
    "#| code-fold: true\n",
    "def analyze_thresholds(trainer, min_precision=0.9, min_threshold=0.5, fig_size=(15, 5)):\n",
    "    \"\"\"\n",
    "    Analyze model performance across different thresholds using the evaluation dataset.\n",
    "    Finds the lowest threshold that maintains the minimum precision requirement while\n",
    "    staying above a minimum threshold floor.\n",
    "\n",
    "    Args:\n",
    "        trainer: HuggingFace Trainer instance\n",
    "        min_precision: Minimum precision requirement (default: 0.9)\n",
    "        min_threshold: Minimum allowed threshold for binary classification (default: 0.5)\n",
    "        fig_size: Figure size for plots (default: (15, 5))\n",
    "\n",
    "    Returns:\n",
    "        dict: Dictionary containing optimal threshold metrics and probability statistics\n",
    "    \"\"\"\n",
    "    import matplotlib.pyplot as plt\n",
    "    import numpy as np\n",
    "    from scipy.special import softmax\n",
    "    from sklearn.metrics import (\n",
    "        f1_score,\n",
    "        precision_recall_curve,\n",
    "        precision_score,\n",
    "        recall_score,\n",
    "    )\n",
    "\n",
    "    def calculate_metrics_at_threshold(probs, true_labels, threshold):\n",
    "        \"\"\"Helper function to calculate metrics at a given threshold\"\"\"\n",
    "        preds = (probs >= threshold).astype(int)\n",
    "        prec = precision_score(true_labels, preds, zero_division=0)\n",
    "        rec = recall_score(true_labels, preds, zero_division=0)\n",
    "        f1 = 2 * (prec * rec) / (prec + rec) if (prec + rec) > 0 else 0\n",
    "        return prec, rec, f1\n",
    "\n",
    "    # Get predictions\n",
    "    predictions = trainer.predict(trainer.eval_dataset)\n",
    "    probs = softmax(predictions.predictions, axis=1)\n",
    "    minority_probs = probs[:, 1]  # Probabilities for positive class\n",
    "    true_labels = predictions.label_ids\n",
    "\n",
    "    # Calculate precision-recall curve\n",
    "    precisions, recalls, thresholds = precision_recall_curve(\n",
    "        true_labels, minority_probs\n",
    "    )\n",
    "\n",
    "    # Find optimal threshold meeting both minimum precision and threshold requirements\n",
    "    valid_indices = np.where(\n",
    "        (precisions[:-1] >= min_precision) & (thresholds >= min_threshold)\n",
    "    )[0]\n",
    "\n",
    "    if len(valid_indices) > 0:\n",
    "        # Take lowest threshold that meets both criteria\n",
    "        optimal_idx = valid_indices[0]\n",
    "        optimal_threshold = thresholds[optimal_idx]\n",
    "        optimal_precision = precisions[optimal_idx]\n",
    "        optimal_recall = recalls[optimal_idx]\n",
    "    else:\n",
    "        # If no threshold meets both criteria, find best precision among valid thresholds\n",
    "        valid_thresholds_idx = np.where(thresholds >= min_threshold)[0]\n",
    "        if len(valid_thresholds_idx) > 0:\n",
    "            optimal_idx = valid_thresholds_idx[\n",
    "                np.argmax(precisions[valid_thresholds_idx])\n",
    "            ]\n",
    "            optimal_threshold = thresholds[optimal_idx]\n",
    "            optimal_precision = precisions[optimal_idx]\n",
    "            optimal_recall = recalls[optimal_idx]\n",
    "        else:\n",
    "            # Fallback to minimum threshold if no valid thresholds found\n",
    "            optimal_threshold = min_threshold\n",
    "            optimal_preds = (minority_probs >= min_threshold).astype(int)\n",
    "            optimal_precision = precision_score(\n",
    "                true_labels, optimal_preds, zero_division=0\n",
    "            )\n",
    "            optimal_recall = recall_score(true_labels, optimal_preds, zero_division=0)\n",
    "\n",
    "    # Create plots\n",
    "    plt.figure(figsize=fig_size)\n",
    "\n",
    "    # Plot 1: Precision-Recall curve\n",
    "    plt.subplot(1, 2, 1)\n",
    "    plt.plot(recalls, precisions, label=\"Precision-Recall Curve\")\n",
    "    plt.scatter(\n",
    "        [optimal_recall],\n",
    "        [optimal_precision],\n",
    "        color=\"red\",\n",
    "        label=f\"Threshold={optimal_threshold:.2f}\\nPrecision={optimal_precision:.2f}\\nRecall={optimal_recall:.2f}\",\n",
    "    )\n",
    "    plt.xlabel(\"Recall\")\n",
    "    plt.ylabel(\"Precision\")\n",
    "    plt.title(\"Precision-Recall Curve\")\n",
    "    plt.grid(True)\n",
    "    plt.legend()\n",
    "\n",
    "    # Plot 2: Metrics vs Threshold\n",
    "    max_prob = np.max(minority_probs)\n",
    "    min_prob = np.min(minority_probs)\n",
    "\n",
    "    # Create threshold range with denser sampling near optimal point\n",
    "    margin = 0.1\n",
    "    threshold_range = np.unique(\n",
    "        np.concatenate(\n",
    "            [\n",
    "                np.linspace(min_threshold, optimal_threshold - margin, 40),\n",
    "                np.linspace(optimal_threshold - margin, optimal_threshold + margin, 20),\n",
    "                np.linspace(optimal_threshold + margin, max_prob, 40),\n",
    "            ]\n",
    "        )\n",
    "    )\n",
    "    threshold_range = np.clip(threshold_range, min_threshold, max_prob)\n",
    "\n",
    "    # Calculate metrics for each threshold\n",
    "    metrics = [\n",
    "        calculate_metrics_at_threshold(minority_probs, true_labels, t)\n",
    "        for t in threshold_range\n",
    "    ]\n",
    "    precisions_plot, recalls_plot, f1_scores = zip(*metrics)\n",
    "\n",
    "    plt.subplot(1, 2, 2)\n",
    "    plt.plot(threshold_range, precisions_plot, label=\"Precision\")\n",
    "    plt.plot(threshold_range, recalls_plot, label=\"Recall\")\n",
    "    plt.plot(threshold_range, f1_scores, label=\"F1\", linestyle=\"--\")\n",
    "    plt.axvline(\n",
    "        x=optimal_threshold,\n",
    "        color=\"red\",\n",
    "        linestyle=\"--\",\n",
    "        label=f\"Optimal Threshold={optimal_threshold:.2f}\",\n",
    "    )\n",
    "    plt.axvline(\n",
    "        x=min_threshold,\n",
    "        color=\"gray\",\n",
    "        linestyle=\":\",\n",
    "        label=f\"Min Threshold={min_threshold:.2f}\",\n",
    "    )\n",
    "    plt.xlabel(\"Threshold\")\n",
    "    plt.ylabel(\"Score\")\n",
    "    plt.title(\"Metrics vs Threshold\")\n",
    "    plt.grid(True)\n",
    "    plt.legend()\n",
    "\n",
    "    plt.tight_layout()\n",
    "    plt.show()\n",
    "\n",
    "    # Calculate final metrics and probability statistics\n",
    "    optimal_preds = (minority_probs >= optimal_threshold).astype(int)\n",
    "    f1 = f1_score(true_labels, optimal_preds)\n",
    "    mean_prob = np.mean(minority_probs)\n",
    "\n",
    "    print(f\"\\nProbability Distribution:\")\n",
    "    print(f\"Min probability: {min_prob:.3f}\")\n",
    "    print(f\"Max probability: {max_prob:.3f}\")\n",
    "    print(f\"Mean probability: {mean_prob:.3f}\")\n",
    "\n",
    "    return {\n",
    "        \"optimal_threshold\": optimal_threshold,\n",
    "        \"optimal_precision\": optimal_precision,\n",
    "        \"optimal_recall\": optimal_recall,\n",
    "        \"optimal_f1\": f1,\n",
    "        \"min_prob\": min_prob,\n",
    "        \"max_prob\": max_prob,\n",
    "        \"mean_prob\": mean_prob,\n",
    "    }\n",
    "\n",
    "\n",
    "# Example usage\n",
    "results = analyze_thresholds(\n",
    "    trainer,\n",
    "    min_precision=0.9,\n",
    "    min_threshold=0.5,  # Enforce minimum threshold of 0.5\n",
    ")"
   ]
  },
  {
   "cell_type": "markdown",
   "metadata": {},
   "source": [
    "## Understanding Model Performance"
   ]
  },
  {
   "cell_type": "code",
   "execution_count": 33,
   "metadata": {
    "tags": []
   },
   "outputs": [
    {
     "data": {
      "text/html": [
       "\n",
       "    <div>\n",
       "      \n",
       "      <progress value='25' max='25' style='width:300px; height:20px; vertical-align: middle;'></progress>\n",
       "      [25/25 00:00]\n",
       "    </div>\n",
       "    "
      ],
      "text/plain": [
       "<IPython.core.display.HTML object>"
      ]
     },
     "metadata": {},
     "output_type": "display_data"
    },
    {
     "data": {
      "text/plain": [
       "{'eval_loss': 0.18164843320846558,\n",
       " 'eval_precision': 0.9523809523809523,\n",
       " 'eval_recall': 0.7017543859649122,\n",
       " 'eval_f1': 0.8080808080808081,\n",
       " 'eval_auc_roc': 0.9647844100046034,\n",
       " 'eval_balanced_accuracy': 0.8479617410874124,\n",
       " 'eval_average_precision': 0.8905662830940991,\n",
       " 'eval_runtime': 0.6397,\n",
       " 'eval_samples_per_second': 625.34,\n",
       " 'eval_steps_per_second': 39.084,\n",
       " 'epoch': 4.0}"
      ]
     },
     "execution_count": 33,
     "metadata": {},
     "output_type": "execute_result"
    }
   ],
   "source": [
    "trainer.evaluate()"
   ]
  },
  {
   "cell_type": "markdown",
   "metadata": {},
   "source": [
    "When building a classifier to help filter problematic web content from FineWeb2, it's crucial to understand how well our model performs. The goal is to remove enough problematic content that annotators can focus on rating educational quality rather than wasting time on garbled or incorrect content. However, we must also ensure that the model doesn't accidentally filter out too much legitimate content.\n",
    "\n",
    "#### Overall Performance\n",
    "\n",
    "Our model achieves a 96.5% AUC-ROC score, showing a good ability to distinguish between \"normal\" and \"problematic\" content. However, for practical web content filtering, other metrics can tell us more about real-world effectiveness.\n",
    "\n",
    "#### Key Operational Metrics\n",
    "\n",
    "- Precision: 95.2% - When the model flags content as problematic, it's right 95.2% of the time. This high precision is crucial as we don't want to accidentally remove content that annotators could rate for educational value.\n",
    "- Recall: 70.2% - We catch about 70% of all problematic content. This is suitable since our goal is to reduce annotator time spent on problematic content, not eliminate it completely.\n",
    "\n",
    "#### Real-World Impact\n",
    "\n",
    "Let's consider a practical example. For every 1,000 pieces of content (assuming 100 are problematic):\n",
    "\n",
    "- The model will filter out approximately 74 pieces of content\n",
    "- About 71 of these will be truly problematic (95.2% precision)\n",
    "- This removes about 71 of the 100 problematic items (70.2% recall)\n",
    "- Only about 3-4 legitimate pieces of content are incorrectly filtered out (the false positives)\n",
    "\n",
    "#### Practical Benefits\n",
    "\n",
    "This performance means:\n",
    "\n",
    "- Annotators will see significantly less garbled or incorrect content\n",
    "- Very few legitimate texts are accidentally filtered (high precision)\n",
    "- Most problematic content is removed before reaching annotators (good recall)\n",
    "\n",
    "For a system designed to improve FineWeb2 annotation efficiency by filtering out problematic content, these metrics demonstrate strong practical performance. The model successfully reduces annotator time spent on problematic content while preserving the vast majority of legitimate texts for educational quality assessment."
   ]
  },
  {
   "cell_type": "markdown",
   "metadata": {},
   "source": [
    "### Pushing the model to the Hub\n",
    "\n",
    "We can push the model to the HuggingFace Hub using the `push_to_hub` method. This means that we can use the model in other projects without having to retrain it. "
   ]
  },
  {
   "cell_type": "code",
   "execution_count": 34,
   "metadata": {
    "colab": {
     "base_uri": "https://localhost:8080/",
     "height": 104,
     "referenced_widgets": [
      "4a7b9425f484492c9a08c56b742a8a4b",
      "3596e47dc020476c8df15b12ae05ae8a",
      "fa48374938b94cb4b1d644d5a7b524ee",
      "b6fa9e880a9b4120a7c1b93d45fe6a57",
      "dea4e85725b846d28be631b56a9a5454",
      "5bce6f886d1a4072bd2318eb832b1afc",
      "64428e3d574642d58f5e5d5220c291db",
      "b972d854e08f4b17b934e1f5052e35e7",
      "367fd4daf0864ab7b8c9115f2ca2e25f",
      "37df2bf8007f44e5a3ffd9a76726226b",
      "8c249f62e8c1456cb0caa03f65c2e15c"
     ]
    },
    "id": "IlwsypIuqMcq",
    "outputId": "af84faae-454b-47ca-8e6f-f155958b13d5",
    "tags": []
   },
   "outputs": [
    {
     "data": {
      "application/vnd.jupyter.widget-view+json": {
       "model_id": "39303e53a0b24f419738a8fac9843dc3",
       "version_major": 2,
       "version_minor": 0
      },
      "text/plain": [
       "pytorch_model.bin:   0%|          | 0.00/1.11G [00:00<?, ?B/s]"
      ]
     },
     "metadata": {},
     "output_type": "display_data"
    },
    {
     "data": {
      "application/vnd.jupyter.widget-view+json": {
       "model_id": "6b4bf9e7be1b42078abe68d5b9890827",
       "version_major": 2,
       "version_minor": 0
      },
      "text/plain": [
       "events.out.tfevents.1736515553.r-davanstrien-jupyterlab-g2s19v44-96dc5-71v4w.893.1:   0%|          | 0.00/681 …"
      ]
     },
     "metadata": {},
     "output_type": "display_data"
    },
    {
     "data": {
      "application/vnd.jupyter.widget-view+json": {
       "model_id": "5afb4ebfdb284fff9f44324879b706b2",
       "version_major": 2,
       "version_minor": 0
      },
      "text/plain": [
       "events.out.tfevents.1736515751.r-davanstrien-jupyterlab-g2s19v44-96dc5-71v4w.893.2:   0%|          | 0.00/8.01…"
      ]
     },
     "metadata": {},
     "output_type": "display_data"
    },
    {
     "data": {
      "application/vnd.jupyter.widget-view+json": {
       "model_id": "0a82cc75850c4cedb0413438339e68b2",
       "version_major": 2,
       "version_minor": 0
      },
      "text/plain": [
       "events.out.tfevents.1736515488.r-davanstrien-jupyterlab-g2s19v44-96dc5-71v4w.893.0:   0%|          | 0.00/8.02…"
      ]
     },
     "metadata": {},
     "output_type": "display_data"
    },
    {
     "data": {
      "application/vnd.jupyter.widget-view+json": {
       "model_id": "e6eddcd1aa0b431185cb53fff5e6bd1f",
       "version_major": 2,
       "version_minor": 0
      },
      "text/plain": [
       "Upload 11 LFS files:   0%|          | 0/11 [00:00<?, ?it/s]"
      ]
     },
     "metadata": {},
     "output_type": "display_data"
    },
    {
     "data": {
      "application/vnd.jupyter.widget-view+json": {
       "model_id": "1d22cb7e3d1a4cbe990407011380b6ba",
       "version_major": 2,
       "version_minor": 0
      },
      "text/plain": [
       "events.out.tfevents.1736515817.r-davanstrien-jupyterlab-g2s19v44-96dc5-71v4w.893.3:   0%|          | 0.00/681 …"
      ]
     },
     "metadata": {},
     "output_type": "display_data"
    },
    {
     "data": {
      "application/vnd.jupyter.widget-view+json": {
       "model_id": "b10421a6c4d6455d92114f6e30225a72",
       "version_major": 2,
       "version_minor": 0
      },
      "text/plain": [
       "events.out.tfevents.1736516439.r-davanstrien-jupyterlab-g2s19v44-96dc5-71v4w.1275.0:   0%|          | 0.00/10.…"
      ]
     },
     "metadata": {},
     "output_type": "display_data"
    },
    {
     "data": {
      "application/vnd.jupyter.widget-view+json": {
       "model_id": "41b2f399604d41819cd7e1999a566f11",
       "version_major": 2,
       "version_minor": 0
      },
      "text/plain": [
       "events.out.tfevents.1736516522.r-davanstrien-jupyterlab-g2s19v44-96dc5-71v4w.1275.1:   0%|          | 0.00/681…"
      ]
     },
     "metadata": {},
     "output_type": "display_data"
    },
    {
     "data": {
      "application/vnd.jupyter.widget-view+json": {
       "model_id": "57bba9fe1f5e4884b3008ed20c609ca7",
       "version_major": 2,
       "version_minor": 0
      },
      "text/plain": [
       "events.out.tfevents.1736516663.r-davanstrien-jupyterlab-g2s19v44-96dc5-71v4w.1641.0:   0%|          | 0.00/8.8…"
      ]
     },
     "metadata": {},
     "output_type": "display_data"
    },
    {
     "data": {
      "application/vnd.jupyter.widget-view+json": {
       "model_id": "d4abf897228c4da9b3e04dc600c7d08b",
       "version_major": 2,
       "version_minor": 0
      },
      "text/plain": [
       "events.out.tfevents.1736516701.r-davanstrien-jupyterlab-g2s19v44-96dc5-71v4w.1641.1:   0%|          | 0.00/1.2…"
      ]
     },
     "metadata": {},
     "output_type": "display_data"
    },
    {
     "data": {
      "application/vnd.jupyter.widget-view+json": {
       "model_id": "801c609fd517446d814d2c0e8d107007",
       "version_major": 2,
       "version_minor": 0
      },
      "text/plain": [
       "tokenizer.json:   0%|          | 0.00/17.1M [00:00<?, ?B/s]"
      ]
     },
     "metadata": {},
     "output_type": "display_data"
    },
    {
     "data": {
      "application/vnd.jupyter.widget-view+json": {
       "model_id": "abe77dd9804441cab1bc72ac37fb2e0a",
       "version_major": 2,
       "version_minor": 0
      },
      "text/plain": [
       "training_args.bin:   0%|          | 0.00/5.37k [00:00<?, ?B/s]"
      ]
     },
     "metadata": {},
     "output_type": "display_data"
    },
    {
     "data": {
      "text/plain": [
       "CommitInfo(commit_url='https://huggingface.co/davanstrien/scandi-fine-web-cleaner/commit/f4633a1c6b51edef6105cb21eb758af1e342bdb5', commit_message='End of training', commit_description='', oid='f4633a1c6b51edef6105cb21eb758af1e342bdb5', pr_url=None, repo_url=RepoUrl('https://huggingface.co/davanstrien/scandi-fine-web-cleaner', endpoint='https://huggingface.co', repo_type='model', repo_id='davanstrien/scandi-fine-web-cleaner'), pr_revision=None, pr_num=None)"
      ]
     },
     "execution_count": 34,
     "metadata": {},
     "output_type": "execute_result"
    }
   ],
   "source": [
    "trainer.push_to_hub(dataset=[\"data-is-better-together/fineweb-c\"])"
   ]
  },
  {
   "cell_type": "markdown",
   "metadata": {},
   "source": [
    "# Using classifiers to filter FineWeb-2\n",
    "\n",
    "We'll quickly look at how we can use the model to filter the Danish subset of the FineWeb-2 dataset. We'll start by loading the dataset and then using the model to predict on the text. We'll focus on the Danish dataset for now but the same process can be done for the Swedisd dataset. Potentially it could also make sense to do this on the Norwegian dataset. \n"
   ]
  },
  {
   "cell_type": "code",
   "execution_count": 7,
   "metadata": {
    "colab": {
     "base_uri": "https://localhost:8080/"
    },
    "id": "iYRDXflziPCB",
    "outputId": "17253598-7153-45d6-8aef-d634b3f9cfd1",
    "tags": []
   },
   "outputs": [
    {
     "data": {
      "text/plain": [
       "['.gitattributes',\n",
       " 'README.md',\n",
       " 'data/aai_Latn/test/000_00000.parquet',\n",
       " 'data/aai_Latn/train/000_00000.parquet',\n",
       " 'data/aai_Latn_removed/train/000_00000.parquet',\n",
       " 'data/aak_Latn/test/000_00000.parquet',\n",
       " 'data/aak_Latn/train/000_00000.parquet',\n",
       " 'data/aak_Latn_removed/train/000_00000.parquet',\n",
       " 'data/aau_Latn/test/000_00000.parquet',\n",
       " 'data/aau_Latn/train/000_00000.parquet']"
      ]
     },
     "execution_count": 7,
     "metadata": {},
     "output_type": "execute_result"
    }
   ],
   "source": [
    "paths = list_repo_files(\"HuggingFaceFW/fineweb-2\", repo_type=\"dataset\")\n",
    "paths[:10]"
   ]
  },
  {
   "cell_type": "code",
   "execution_count": 9,
   "metadata": {
    "colab": {
     "base_uri": "https://localhost:8080/"
    },
    "id": "aun9EqRWiS3S",
    "outputId": "cf5ef859-5cf0-4a64-b7d7-6d98a1af240e",
    "tags": []
   },
   "outputs": [],
   "source": [
    "danish = [\n",
    "    f for f in paths if (\"dan\" in f and f.endswith(\"parquet\") and \"removed\" not in f)\n",
    "]\n"
   ]
  },
  {
   "cell_type": "code",
   "execution_count": 10,
   "metadata": {
    "id": "dgGCGsuPiVpP",
    "tags": []
   },
   "outputs": [],
   "source": [
    "danish_lf = pl.scan_parquet(\n",
    "    [f\"hf://datasets/HuggingFaceFW/fineweb-2/{f}\" for f in danish]\n",
    ")"
   ]
  },
  {
   "cell_type": "markdown",
   "metadata": {},
   "source": [
    "Since we just want an example we'll take a sample of 10,000 texts. We don't need"
   ]
  },
  {
   "cell_type": "code",
   "execution_count": 13,
   "metadata": {
    "id": "Yjz1bKnoi0to",
    "tags": []
   },
   "outputs": [
    {
     "data": {
      "text/html": [
       "<div><style>\n",
       ".dataframe > thead > tr,\n",
       ".dataframe > tbody > tr {\n",
       "  text-align: right;\n",
       "  white-space: pre-wrap;\n",
       "}\n",
       "</style>\n",
       "<small>shape: (10_000, 11)</small><table border=\"1\" class=\"dataframe\"><thead><tr><th>text</th><th>id</th><th>dump</th><th>url</th><th>date</th><th>file_path</th><th>language</th><th>language_score</th><th>language_script</th><th>minhash_cluster_size</th><th>top_langs</th></tr><tr><td>str</td><td>str</td><td>str</td><td>str</td><td>str</td><td>str</td><td>str</td><td>f64</td><td>str</td><td>i64</td><td>str</td></tr></thead><tbody><tr><td>&quot;Tema: Ankomster\n",
       "“Hele tiden åd…</td><td>&quot;&lt;urn:uuid:0796b04c-c1bf-418b-b…</td><td>&quot;CC-MAIN-2014-42&quot;</td><td>&quot;http://www.copenhagen.dk/dk/de…</td><td>&quot;2014-10-30T18:10:47Z&quot;</td><td>&quot;s3://commoncrawl/crawl-data/CC…</td><td>&quot;dan&quot;</td><td>0.999933</td><td>&quot;Latn&quot;</td><td>26</td><td>&quot;{&quot;dan_Latn_score&quot;: 0.999932765…</td></tr><tr><td>&quot;Hiddensees mangfoldige skønhed…</td><td>&quot;&lt;urn:uuid:5f7751e9-981d-4cfe-9…</td><td>&quot;CC-MAIN-2016-07&quot;</td><td>&quot;http://www.germany.travel/dk/f…</td><td>&quot;2016-02-07T03:49:50Z&quot;</td><td>&quot;s3://commoncrawl/crawl-data/CC…</td><td>&quot;dan&quot;</td><td>0.999974</td><td>&quot;Latn&quot;</td><td>116</td><td>&quot;{&quot;dan_Latn_score&quot;: 0.999974370…</td></tr><tr><td>&quot;Microsoft Office Word har lang…</td><td>&quot;&lt;urn:uuid:55b3e8bc-4f10-4428-9…</td><td>&quot;CC-MAIN-2016-44&quot;</td><td>&quot;https://support.office.com/da-…</td><td>&quot;2016-10-26T06:27:55Z&quot;</td><td>&quot;s3://commoncrawl/crawl-data/CC…</td><td>&quot;dan&quot;</td><td>0.999972</td><td>&quot;Latn&quot;</td><td>9</td><td>&quot;{&quot;dan_Latn_score&quot;: 0.999971866…</td></tr><tr><td>&quot;Dessert a&#x27;la rugbrød\n",
       "Til 4 per…</td><td>&quot;&lt;urn:uuid:dae08523-0a56-4797-8…</td><td>&quot;CC-MAIN-2016-50&quot;</td><td>&quot;http://www.webopskrifter.dk/ma…</td><td>&quot;2016-12-07T16:16:42Z&quot;</td><td>&quot;s3://commoncrawl/crawl-data/CC…</td><td>&quot;dan&quot;</td><td>0.999767</td><td>&quot;Latn&quot;</td><td>12</td><td>&quot;{&quot;dan_Latn_score&quot;: 0.999766767…</td></tr><tr><td>&quot;Diwangkara Holiday Villa Beach…</td><td>&quot;&lt;urn:uuid:a60297bd-e1e9-450a-9…</td><td>&quot;CC-MAIN-2017-04&quot;</td><td>&quot;http://www.supersaver.dk/hotel…</td><td>&quot;2017-01-22T20:31:52Z&quot;</td><td>&quot;s3://commoncrawl/crawl-data/CC…</td><td>&quot;dan&quot;</td><td>0.997216</td><td>&quot;Latn&quot;</td><td>4</td><td>&quot;{&quot;dan_Latn_score&quot;: 0.997215926…</td></tr><tr><td>&hellip;</td><td>&hellip;</td><td>&hellip;</td><td>&hellip;</td><td>&hellip;</td><td>&hellip;</td><td>&hellip;</td><td>&hellip;</td><td>&hellip;</td><td>&hellip;</td><td>&hellip;</td></tr><tr><td>&quot;Rotho Babydesign Bella Bambina…</td><td>&quot;&lt;urn:uuid:174cc860-7746-4fda-8…</td><td>&quot;CC-MAIN-2018-43&quot;</td><td>&quot;https://www.pinkorblue.dk/roth…</td><td>&quot;2018-10-24T04:48:52Z&quot;</td><td>&quot;s3://commoncrawl/crawl-data/CC…</td><td>&quot;dan&quot;</td><td>0.999976</td><td>&quot;Latn&quot;</td><td>3</td><td>&quot;{&quot;dan_Latn_score&quot;: 0.999975681…</td></tr><tr><td>&quot;På landet men tæt på både Vard…</td><td>&quot;&lt;urn:uuid:c79df657-1e5b-4f13-8…</td><td>&quot;CC-MAIN-2019-13&quot;</td><td>&quot;https://www.nybolig.dk/villa/6…</td><td>&quot;2019-03-18T22:11:40Z&quot;</td><td>&quot;s3://commoncrawl/crawl-data/CC…</td><td>&quot;dan&quot;</td><td>0.999955</td><td>&quot;Latn&quot;</td><td>2</td><td>&quot;{&quot;dan_Latn_score&quot;: 0.999954819…</td></tr><tr><td>&quot;Jobbet &quot;Sygeplejerske til afsn…</td><td>&quot;&lt;urn:uuid:110d4fdf-4be8-4aa0-9…</td><td>&quot;CC-MAIN-2019-22&quot;</td><td>&quot;https://www.sundhedsjobs.dk/jo…</td><td>&quot;2019-05-23T14:55:03Z&quot;</td><td>&quot;s3://commoncrawl/crawl-data/CC…</td><td>&quot;dan&quot;</td><td>0.999997</td><td>&quot;Latn&quot;</td><td>4</td><td>&quot;{&quot;dan_Latn_score&quot;: 0.999996900…</td></tr><tr><td>&quot;Maskinpasning\n",
       "Maskinpasning\n",
       "Ma…</td><td>&quot;&lt;urn:uuid:45116b66-2e38-4532-9…</td><td>&quot;CC-MAIN-2019-22&quot;</td><td>&quot;https://onrobot.com/da/node/12&quot;</td><td>&quot;2019-05-24T05:13:05Z&quot;</td><td>&quot;s3://commoncrawl/crawl-data/CC…</td><td>&quot;dan&quot;</td><td>0.999799</td><td>&quot;Latn&quot;</td><td>1</td><td>&quot;{&quot;dan_Latn_score&quot;: 0.999799311…</td></tr><tr><td>&quot;|Type||Villa / Fritidsbolig|\n",
       "|…</td><td>&quot;&lt;urn:uuid:969f39f0-8b23-4e88-8…</td><td>&quot;CC-MAIN-2019-35&quot;</td><td>&quot;https://danbolig.dk/bolig/born…</td><td>&quot;2019-08-21T20:09:01Z&quot;</td><td>&quot;s3://commoncrawl/crawl-data/CC…</td><td>&quot;dan&quot;</td><td>0.999573</td><td>&quot;Latn&quot;</td><td>5</td><td>&quot;{&quot;dan_Latn_score&quot;: 0.999573409…</td></tr></tbody></table></div>"
      ],
      "text/plain": [
       "shape: (10_000, 11)\n",
       "┌───────────┬───────────┬───────────┬───────────┬───┬───────────┬───────────┬───────────┬──────────┐\n",
       "│ text      ┆ id        ┆ dump      ┆ url       ┆ … ┆ language_ ┆ language_ ┆ minhash_c ┆ top_lang │\n",
       "│ ---       ┆ ---       ┆ ---       ┆ ---       ┆   ┆ score     ┆ script    ┆ luster_si ┆ s        │\n",
       "│ str       ┆ str       ┆ str       ┆ str       ┆   ┆ ---       ┆ ---       ┆ ze        ┆ ---      │\n",
       "│           ┆           ┆           ┆           ┆   ┆ f64       ┆ str       ┆ ---       ┆ str      │\n",
       "│           ┆           ┆           ┆           ┆   ┆           ┆           ┆ i64       ┆          │\n",
       "╞═══════════╪═══════════╪═══════════╪═══════════╪═══╪═══════════╪═══════════╪═══════════╪══════════╡\n",
       "│ Tema:     ┆ <urn:uuid ┆ CC-MAIN-2 ┆ http://ww ┆ … ┆ 0.999933  ┆ Latn      ┆ 26        ┆ {\"dan_La │\n",
       "│ Ankomster ┆ :0796b04c ┆ 014-42    ┆ w.copenha ┆   ┆           ┆           ┆           ┆ tn_score │\n",
       "│ “Hele     ┆ -c1bf-418 ┆           ┆ gen.dk/dk ┆   ┆           ┆           ┆           ┆ \": 0.999 │\n",
       "│ tiden åd… ┆ b-b…      ┆           ┆ /de…      ┆   ┆           ┆           ┆           ┆ 932765…  │\n",
       "│ Hiddensee ┆ <urn:uuid ┆ CC-MAIN-2 ┆ http://ww ┆ … ┆ 0.999974  ┆ Latn      ┆ 116       ┆ {\"dan_La │\n",
       "│ s mangfol ┆ :5f7751e9 ┆ 016-07    ┆ w.germany ┆   ┆           ┆           ┆           ┆ tn_score │\n",
       "│ dige      ┆ -981d-4cf ┆           ┆ .travel/d ┆   ┆           ┆           ┆           ┆ \": 0.999 │\n",
       "│ skønhed…  ┆ e-9…      ┆           ┆ k/f…      ┆   ┆           ┆           ┆           ┆ 974370…  │\n",
       "│ Microsoft ┆ <urn:uuid ┆ CC-MAIN-2 ┆ https://s ┆ … ┆ 0.999972  ┆ Latn      ┆ 9         ┆ {\"dan_La │\n",
       "│ Office    ┆ :55b3e8bc ┆ 016-44    ┆ upport.of ┆   ┆           ┆           ┆           ┆ tn_score │\n",
       "│ Word har  ┆ -4f10-442 ┆           ┆ fice.com/ ┆   ┆           ┆           ┆           ┆ \": 0.999 │\n",
       "│ lang…     ┆ 8-9…      ┆           ┆ da-…      ┆   ┆           ┆           ┆           ┆ 971866…  │\n",
       "│ Dessert   ┆ <urn:uuid ┆ CC-MAIN-2 ┆ http://ww ┆ … ┆ 0.999767  ┆ Latn      ┆ 12        ┆ {\"dan_La │\n",
       "│ a'la      ┆ :dae08523 ┆ 016-50    ┆ w.webopsk ┆   ┆           ┆           ┆           ┆ tn_score │\n",
       "│ rugbrød   ┆ -0a56-479 ┆           ┆ rifter.dk ┆   ┆           ┆           ┆           ┆ \": 0.999 │\n",
       "│ Til 4     ┆ 7-8…      ┆           ┆ /ma…      ┆   ┆           ┆           ┆           ┆ 766767…  │\n",
       "│ per…      ┆           ┆           ┆           ┆   ┆           ┆           ┆           ┆          │\n",
       "│ Diwangkar ┆ <urn:uuid ┆ CC-MAIN-2 ┆ http://ww ┆ … ┆ 0.997216  ┆ Latn      ┆ 4         ┆ {\"dan_La │\n",
       "│ a Holiday ┆ :a60297bd ┆ 017-04    ┆ w.supersa ┆   ┆           ┆           ┆           ┆ tn_score │\n",
       "│ Villa     ┆ -e1e9-450 ┆           ┆ ver.dk/ho ┆   ┆           ┆           ┆           ┆ \": 0.997 │\n",
       "│ Beach…    ┆ a-9…      ┆           ┆ tel…      ┆   ┆           ┆           ┆           ┆ 215926…  │\n",
       "│ …         ┆ …         ┆ …         ┆ …         ┆ … ┆ …         ┆ …         ┆ …         ┆ …        │\n",
       "│ Rotho Bab ┆ <urn:uuid ┆ CC-MAIN-2 ┆ https://w ┆ … ┆ 0.999976  ┆ Latn      ┆ 3         ┆ {\"dan_La │\n",
       "│ ydesign   ┆ :174cc860 ┆ 018-43    ┆ ww.pinkor ┆   ┆           ┆           ┆           ┆ tn_score │\n",
       "│ Bella     ┆ -7746-4fd ┆           ┆ blue.dk/r ┆   ┆           ┆           ┆           ┆ \": 0.999 │\n",
       "│ Bambina…  ┆ a-8…      ┆           ┆ oth…      ┆   ┆           ┆           ┆           ┆ 975681…  │\n",
       "│ På landet ┆ <urn:uuid ┆ CC-MAIN-2 ┆ https://w ┆ … ┆ 0.999955  ┆ Latn      ┆ 2         ┆ {\"dan_La │\n",
       "│ men tæt   ┆ :c79df657 ┆ 019-13    ┆ ww.nyboli ┆   ┆           ┆           ┆           ┆ tn_score │\n",
       "│ på både   ┆ -1e5b-4f1 ┆           ┆ g.dk/vill ┆   ┆           ┆           ┆           ┆ \": 0.999 │\n",
       "│ Vard…     ┆ 3-8…      ┆           ┆ a/6…      ┆   ┆           ┆           ┆           ┆ 954819…  │\n",
       "│ Jobbet    ┆ <urn:uuid ┆ CC-MAIN-2 ┆ https://w ┆ … ┆ 0.999997  ┆ Latn      ┆ 4         ┆ {\"dan_La │\n",
       "│ \"Sygeplej ┆ :110d4fdf ┆ 019-22    ┆ ww.sundhe ┆   ┆           ┆           ┆           ┆ tn_score │\n",
       "│ erske til ┆ -4be8-4aa ┆           ┆ dsjobs.dk ┆   ┆           ┆           ┆           ┆ \": 0.999 │\n",
       "│ afsn…     ┆ 0-9…      ┆           ┆ /jo…      ┆   ┆           ┆           ┆           ┆ 996900…  │\n",
       "│ Maskinpas ┆ <urn:uuid ┆ CC-MAIN-2 ┆ https://o ┆ … ┆ 0.999799  ┆ Latn      ┆ 1         ┆ {\"dan_La │\n",
       "│ ning      ┆ :45116b66 ┆ 019-22    ┆ nrobot.co ┆   ┆           ┆           ┆           ┆ tn_score │\n",
       "│ Maskinpas ┆ -2e38-453 ┆           ┆ m/da/node ┆   ┆           ┆           ┆           ┆ \": 0.999 │\n",
       "│ ning      ┆ 2-9…      ┆           ┆ /12       ┆   ┆           ┆           ┆           ┆ 799311…  │\n",
       "│ Ma…       ┆           ┆           ┆           ┆   ┆           ┆           ┆           ┆          │\n",
       "│ |Type||Vi ┆ <urn:uuid ┆ CC-MAIN-2 ┆ https://d ┆ … ┆ 0.999573  ┆ Latn      ┆ 5         ┆ {\"dan_La │\n",
       "│ lla / Fri ┆ :969f39f0 ┆ 019-35    ┆ anbolig.d ┆   ┆           ┆           ┆           ┆ tn_score │\n",
       "│ tidsbolig ┆ -8b23-4e8 ┆           ┆ k/bolig/b ┆   ┆           ┆           ┆           ┆ \": 0.999 │\n",
       "│ |         ┆ 8-8…      ┆           ┆ orn…      ┆   ┆           ┆           ┆           ┆ 573409…  │\n",
       "│ |…        ┆           ┆           ┆           ┆   ┆           ┆           ┆           ┆          │\n",
       "└───────────┴───────────┴───────────┴───────────┴───┴───────────┴───────────┴───────────┴──────────┘"
      ]
     },
     "execution_count": 13,
     "metadata": {},
     "output_type": "execute_result"
    }
   ],
   "source": [
    "danish_df = danish_lf.head(10_000).collect()\n",
    "danish_df"
   ]
  },
  {
   "cell_type": "code",
   "execution_count": 14,
   "metadata": {
    "tags": []
   },
   "outputs": [],
   "source": [
    "texts = danish_df.select(\"text\").to_series().to_list()"
   ]
  },
  {
   "cell_type": "code",
   "execution_count": 15,
   "metadata": {
    "id": "gZCYgNqxkdN5",
    "tags": []
   },
   "outputs": [
    {
     "data": {
      "application/vnd.jupyter.widget-view+json": {
       "model_id": "2bec99ee06dd4470ac4a5f15cef09b5b",
       "version_major": 2,
       "version_minor": 0
      },
      "text/plain": [
       "config.json:   0%|          | 0.00/904 [00:00<?, ?B/s]"
      ]
     },
     "metadata": {},
     "output_type": "display_data"
    },
    {
     "data": {
      "application/vnd.jupyter.widget-view+json": {
       "model_id": "49347770787c4d8f968e51e7d393a1db",
       "version_major": 2,
       "version_minor": 0
      },
      "text/plain": [
       "pytorch_model.bin:   0%|          | 0.00/1.11G [00:00<?, ?B/s]"
      ]
     },
     "metadata": {},
     "output_type": "display_data"
    },
    {
     "data": {
      "application/vnd.jupyter.widget-view+json": {
       "model_id": "38687bc8883241efa989fde22deb2cc0",
       "version_major": 2,
       "version_minor": 0
      },
      "text/plain": [
       "tokenizer_config.json:   0%|          | 0.00/1.18k [00:00<?, ?B/s]"
      ]
     },
     "metadata": {},
     "output_type": "display_data"
    },
    {
     "data": {
      "application/vnd.jupyter.widget-view+json": {
       "model_id": "461a30648a814d159cbf053b3f0ce77b",
       "version_major": 2,
       "version_minor": 0
      },
      "text/plain": [
       "tokenizer.json:   0%|          | 0.00/17.1M [00:00<?, ?B/s]"
      ]
     },
     "metadata": {},
     "output_type": "display_data"
    },
    {
     "data": {
      "application/vnd.jupyter.widget-view+json": {
       "model_id": "46735fdeeb594300ac23968074d83262",
       "version_major": 2,
       "version_minor": 0
      },
      "text/plain": [
       "model.safetensors:   0%|          | 0.00/1.11G [00:00<?, ?B/s]"
      ]
     },
     "metadata": {},
     "output_type": "display_data"
    },
    {
     "data": {
      "application/vnd.jupyter.widget-view+json": {
       "model_id": "f498dc40d2834b389ae238bdf301cea7",
       "version_major": 2,
       "version_minor": 0
      },
      "text/plain": [
       "special_tokens_map.json:   0%|          | 0.00/280 [00:00<?, ?B/s]"
      ]
     },
     "metadata": {},
     "output_type": "display_data"
    },
    {
     "name": "stderr",
     "output_type": "stream",
     "text": [
      "Device set to use mps:0\n"
     ]
    }
   ],
   "source": [
    "from transformers import pipeline\n",
    "\n",
    "pipe = pipeline(\n",
    "    \"text-classification\",\n",
    "    model=\"davanstrien/scandi-fine-web-cleaner\",\n",
    "    truncation=True,  # Enable truncation\n",
    "    max_length=512,  # Set maximum length\n",
    "    batch_size=32,\n",
    ")"
   ]
  },
  {
   "cell_type": "code",
   "execution_count": 18,
   "metadata": {
    "tags": []
   },
   "outputs": [
    {
     "data": {
      "text/plain": [
       "[{'label': 'not_problematic', 'score': 0.9907592535018921}]"
      ]
     },
     "execution_count": 18,
     "metadata": {},
     "output_type": "execute_result"
    }
   ],
   "source": [
    "pipe(texts[0])"
   ]
  },
  {
   "cell_type": "code",
   "execution_count": 19,
   "metadata": {
    "tags": []
   },
   "outputs": [
    {
     "data": {
      "text/plain": [
       "10000"
      ]
     },
     "execution_count": 19,
     "metadata": {},
     "output_type": "execute_result"
    }
   ],
   "source": [
    "len(texts)"
   ]
  },
  {
   "cell_type": "markdown",
   "metadata": {},
   "source": [
    "Let's see how long it takes to predict on 10,000 texts. While I used an A100 Hugging Face Jupyter Notebook Space for the model training, I'm using my 2021 MacBook Pro M1 for this part. "
   ]
  },
  {
   "cell_type": "code",
   "execution_count": 20,
   "metadata": {},
   "outputs": [
    {
     "name": "stdout",
     "output_type": "stream",
     "text": [
      "CPU times: user 44.4 s, sys: 18.1 s, total: 1min 2s\n",
      "Wall time: 7min 50s\n"
     ]
    }
   ],
   "source": [
    "%%time\n",
    "predictions = pipe(texts)"
   ]
  },
  {
   "cell_type": "code",
   "execution_count": 21,
   "metadata": {},
   "outputs": [
    {
     "data": {
      "text/plain": [
       "{'label': 'not_problematic', 'score': 0.9907592535018921}"
      ]
     },
     "execution_count": 21,
     "metadata": {},
     "output_type": "execute_result"
    }
   ],
   "source": [
    "predictions [0]"
   ]
  },
  {
   "cell_type": "code",
   "execution_count": 22,
   "metadata": {},
   "outputs": [
    {
     "data": {
      "text/html": [
       "<div><style>\n",
       ".dataframe > thead > tr,\n",
       ".dataframe > tbody > tr {\n",
       "  text-align: right;\n",
       "  white-space: pre-wrap;\n",
       "}\n",
       "</style>\n",
       "<small>shape: (10_000, 2)</small><table border=\"1\" class=\"dataframe\"><thead><tr><th>problematic_content_label_present</th><th>problematic_content_label_present_score</th></tr><tr><td>str</td><td>f64</td></tr></thead><tbody><tr><td>&quot;not_problematic&quot;</td><td>0.990759</td></tr><tr><td>&quot;not_problematic&quot;</td><td>0.990465</td></tr><tr><td>&quot;not_problematic&quot;</td><td>0.976776</td></tr><tr><td>&quot;not_problematic&quot;</td><td>0.984974</td></tr><tr><td>&quot;not_problematic&quot;</td><td>0.983069</td></tr><tr><td>&hellip;</td><td>&hellip;</td></tr><tr><td>&quot;not_problematic&quot;</td><td>0.984226</td></tr><tr><td>&quot;not_problematic&quot;</td><td>0.986188</td></tr><tr><td>&quot;not_problematic&quot;</td><td>0.990939</td></tr><tr><td>&quot;not_problematic&quot;</td><td>0.972237</td></tr><tr><td>&quot;not_problematic&quot;</td><td>0.979574</td></tr></tbody></table></div>"
      ],
      "text/plain": [
       "shape: (10_000, 2)\n",
       "┌─────────────────────────────────┬─────────────────────────────────┐\n",
       "│ problematic_content_label_pres… ┆ problematic_content_label_pres… │\n",
       "│ ---                             ┆ ---                             │\n",
       "│ str                             ┆ f64                             │\n",
       "╞═════════════════════════════════╪═════════════════════════════════╡\n",
       "│ not_problematic                 ┆ 0.990759                        │\n",
       "│ not_problematic                 ┆ 0.990465                        │\n",
       "│ not_problematic                 ┆ 0.976776                        │\n",
       "│ not_problematic                 ┆ 0.984974                        │\n",
       "│ not_problematic                 ┆ 0.983069                        │\n",
       "│ …                               ┆ …                               │\n",
       "│ not_problematic                 ┆ 0.984226                        │\n",
       "│ not_problematic                 ┆ 0.986188                        │\n",
       "│ not_problematic                 ┆ 0.990939                        │\n",
       "│ not_problematic                 ┆ 0.972237                        │\n",
       "│ not_problematic                 ┆ 0.979574                        │\n",
       "└─────────────────────────────────┴─────────────────────────────────┘"
      ]
     },
     "execution_count": 22,
     "metadata": {},
     "output_type": "execute_result"
    }
   ],
   "source": [
    "df_results = pl.DataFrame(predictions).rename(\n",
    "    {\n",
    "        \"label\": \"problematic_content_label_present\",\n",
    "        \"score\": \"problematic_content_label_present_score\",\n",
    "    }\n",
    ")\n",
    "df_results"
   ]
  },
  {
   "cell_type": "code",
   "execution_count": 23,
   "metadata": {},
   "outputs": [
    {
     "data": {
      "text/html": [
       "<div><style>\n",
       ".dataframe > thead > tr,\n",
       ".dataframe > tbody > tr {\n",
       "  text-align: right;\n",
       "  white-space: pre-wrap;\n",
       "}\n",
       "</style>\n",
       "<small>shape: (2, 13)</small><table border=\"1\" class=\"dataframe\"><thead><tr><th>text</th><th>id</th><th>dump</th><th>url</th><th>date</th><th>file_path</th><th>language</th><th>language_score</th><th>language_script</th><th>minhash_cluster_size</th><th>top_langs</th><th>problematic_content_label_present</th><th>problematic_content_label_present_score</th></tr><tr><td>str</td><td>str</td><td>str</td><td>str</td><td>str</td><td>str</td><td>str</td><td>f64</td><td>str</td><td>i64</td><td>str</td><td>str</td><td>f64</td></tr></thead><tbody><tr><td>&quot;Tema: Ankomster\n",
       "“Hele tiden åd…</td><td>&quot;&lt;urn:uuid:0796b04c-c1bf-418b-b…</td><td>&quot;CC-MAIN-2014-42&quot;</td><td>&quot;http://www.copenhagen.dk/dk/de…</td><td>&quot;2014-10-30T18:10:47Z&quot;</td><td>&quot;s3://commoncrawl/crawl-data/CC…</td><td>&quot;dan&quot;</td><td>0.999933</td><td>&quot;Latn&quot;</td><td>26</td><td>&quot;{&quot;dan_Latn_score&quot;: 0.999932765…</td><td>&quot;not_problematic&quot;</td><td>0.990759</td></tr><tr><td>&quot;Hiddensees mangfoldige skønhed…</td><td>&quot;&lt;urn:uuid:5f7751e9-981d-4cfe-9…</td><td>&quot;CC-MAIN-2016-07&quot;</td><td>&quot;http://www.germany.travel/dk/f…</td><td>&quot;2016-02-07T03:49:50Z&quot;</td><td>&quot;s3://commoncrawl/crawl-data/CC…</td><td>&quot;dan&quot;</td><td>0.999974</td><td>&quot;Latn&quot;</td><td>116</td><td>&quot;{&quot;dan_Latn_score&quot;: 0.999974370…</td><td>&quot;not_problematic&quot;</td><td>0.990465</td></tr></tbody></table></div>"
      ],
      "text/plain": [
       "shape: (2, 13)\n",
       "┌───────────┬───────────┬───────────┬───────────┬───┬───────────┬───────────┬───────────┬──────────┐\n",
       "│ text      ┆ id        ┆ dump      ┆ url       ┆ … ┆ minhash_c ┆ top_langs ┆ problemat ┆ problema │\n",
       "│ ---       ┆ ---       ┆ ---       ┆ ---       ┆   ┆ luster_si ┆ ---       ┆ ic_conten ┆ tic_cont │\n",
       "│ str       ┆ str       ┆ str       ┆ str       ┆   ┆ ze        ┆ str       ┆ t_label_p ┆ ent_labe │\n",
       "│           ┆           ┆           ┆           ┆   ┆ ---       ┆           ┆ res…      ┆ l_pres…  │\n",
       "│           ┆           ┆           ┆           ┆   ┆ i64       ┆           ┆ ---       ┆ ---      │\n",
       "│           ┆           ┆           ┆           ┆   ┆           ┆           ┆ str       ┆ f64      │\n",
       "╞═══════════╪═══════════╪═══════════╪═══════════╪═══╪═══════════╪═══════════╪═══════════╪══════════╡\n",
       "│ Tema:     ┆ <urn:uuid ┆ CC-MAIN-2 ┆ http://ww ┆ … ┆ 26        ┆ {\"dan_Lat ┆ not_probl ┆ 0.990759 │\n",
       "│ Ankomster ┆ :0796b04c ┆ 014-42    ┆ w.copenha ┆   ┆           ┆ n_score\": ┆ ematic    ┆          │\n",
       "│ “Hele     ┆ -c1bf-418 ┆           ┆ gen.dk/dk ┆   ┆           ┆ 0.9999327 ┆           ┆          │\n",
       "│ tiden åd… ┆ b-b…      ┆           ┆ /de…      ┆   ┆           ┆ 65…       ┆           ┆          │\n",
       "│ Hiddensee ┆ <urn:uuid ┆ CC-MAIN-2 ┆ http://ww ┆ … ┆ 116       ┆ {\"dan_Lat ┆ not_probl ┆ 0.990465 │\n",
       "│ s mangfol ┆ :5f7751e9 ┆ 016-07    ┆ w.germany ┆   ┆           ┆ n_score\": ┆ ematic    ┆          │\n",
       "│ dige      ┆ -981d-4cf ┆           ┆ .travel/d ┆   ┆           ┆ 0.9999743 ┆           ┆          │\n",
       "│ skønhed…  ┆ e-9…      ┆           ┆ k/f…      ┆   ┆           ┆ 70…       ┆           ┆          │\n",
       "└───────────┴───────────┴───────────┴───────────┴───┴───────────┴───────────┴───────────┴──────────┘"
      ]
     },
     "execution_count": 23,
     "metadata": {},
     "output_type": "execute_result"
    }
   ],
   "source": [
    "df_with_labels = pl.concat([danish_df, df_results], how=\"horizontal\")\n",
    "df_with_labels.head(2)"
   ]
  },
  {
   "cell_type": "code",
   "execution_count": 24,
   "metadata": {},
   "outputs": [
    {
     "data": {
      "text/html": [
       "<div><style>\n",
       ".dataframe > thead > tr,\n",
       ".dataframe > tbody > tr {\n",
       "  text-align: right;\n",
       "  white-space: pre-wrap;\n",
       "}\n",
       "</style>\n",
       "<small>shape: (2, 2)</small><table border=\"1\" class=\"dataframe\"><thead><tr><th>problematic_content_label_present</th><th>proportion</th></tr><tr><td>str</td><td>f64</td></tr></thead><tbody><tr><td>&quot;not_problematic&quot;</td><td>0.924</td></tr><tr><td>&quot;problematic&quot;</td><td>0.076</td></tr></tbody></table></div>"
      ],
      "text/plain": [
       "shape: (2, 2)\n",
       "┌─────────────────────────────────┬────────────┐\n",
       "│ problematic_content_label_pres… ┆ proportion │\n",
       "│ ---                             ┆ ---        │\n",
       "│ str                             ┆ f64        │\n",
       "╞═════════════════════════════════╪════════════╡\n",
       "│ not_problematic                 ┆ 0.924      │\n",
       "│ problematic                     ┆ 0.076      │\n",
       "└─────────────────────────────────┴────────────┘"
      ]
     },
     "execution_count": 24,
     "metadata": {},
     "output_type": "execute_result"
    }
   ],
   "source": [
    "df_with_labels.select(\"problematic_content_label_present\").to_series().value_counts(\n",
    "    normalize=True\n",
    ")"
   ]
  },
  {
   "cell_type": "markdown",
   "metadata": {},
   "source": [
    "Taking a look at the problematic texts, even with my imperfect Danish I can see why these have been labelled as problematic. "
   ]
  },
  {
   "cell_type": "code",
   "execution_count": 30,
   "metadata": {},
   "outputs": [
    {
     "data": {
      "text/html": [
       "<pre style=\"white-space:pre;overflow-x:auto;line-height:normal;font-family:Menlo,'DejaVu Sans Mono',consolas,'Courier New',monospace\"><span style=\"font-weight: bold\">[</span>\n",
       "    <span style=\"color: #008000; text-decoration-color: #008000\">'Homo bordel herrer body to body massage sjællandFitness world forum åbningstider liderlige kællinger Posted by</span>\n",
       "<span style=\"color: #008000; text-decoration-color: #008000\">fitness world forum åbningstider liderlige kællinger on Fodmassage frederiksberg thai massage i hjørring Posted by </span>\n",
       "<span style=\"color: #008000; text-decoration-color: #008000\">fodmassage frederiksberg thai massage i hjørring on Sex Film ålerne Jeg vil være diskret i Italien. Silkeborg </span>\n",
       "<span style=\"color: #008000; text-decoration-color: #008000\">karina hot and sexy Massage og Escort: Islington, London Thai traditional massage. Asian escort copenhagen dansk </span>\n",
       "<span style=\"color: #008000; text-decoration-color: #008000\">gay porn Posted by asian escort copenhagen dansk gay porn on\\nJeg praktiserer den traditionelle thailandske massage</span>\n",
       "<span style=\"color: #008000; text-decoration-color: #008000\">i min klinik i Hjørring. En såkaldt slikkelap er en ny form for prævention til kvinder, der beskytter mod </span>\n",
       "<span style=\"color: #008000; text-decoration-color: #008000\">kønssygdomme ved oralsex. Vi boede på landet og havde en del fjerkræ, som vi slagtede, gjorde i stand og spiste </span>\n",
       "<span style=\"color: #008000; text-decoration-color: #008000\">eller vi solgte dem til venner og bekendte. Thai-massage inkluderer ofte happy ending, og nogle steder er der </span>\n",
       "<span style=\"color: #008000; text-decoration-color: #008000\">mulighed for. Top thai massage vejle kiss porn - sammenlignede med Skriv en mail til ungtlahme gmail. Massag'</span>,\n",
       "    <span style=\"color: #008000; text-decoration-color: #008000\">'At gre, at de generelt er meget sexet uden at kvinder? Kvalitets Hybenrose findes her Salg til private </span>\n",
       "<span style=\"color: #008000; text-decoration-color: #008000\">tilengrospriser Stort udvalg af planter og tilbehr Kig ind og kb online! Teenlife Sommer: 130 siders sommervibes </span>\n",
       "<span style=\"color: #008000; text-decoration-color: #008000\">til hele din ferie! Det er kun muligt at forlnge eksisterende. Det lydige kn. date en cabernet og kan. Unge Fisser </span>\n",
       "<span style=\"color: #008000; text-decoration-color: #008000\">Gammel Nrager Massage Guide Dk Store Sorte Rv Pics Com sexdukker Modsatte kn, vil bedmme om, hvor meget vigtige </span>\n",
       "<span style=\"color: #008000; text-decoration-color: #008000\">oplysninger, den. Vd Teenageporno Gammel Kone Sex Dating Sites Kn Og Dd ster Alling Download Tamil Sex Film. Fyr </span>\n",
       "<span style=\"color: #008000; text-decoration-color: #008000\">Sger Fyr Mrdrupgrd Side 9 Pigen Shemale Teen Kn Tube ldre Kvinder Har Sex Videoer. Til Hende Hendes Twik Gay Porno.</span>\n",
       "<span style=\"color: #008000; text-decoration-color: #008000\">Koncert: kl. 22.30. Billetter kbes i indgangen fra kl. Iceland, DV, publishes ads with pictures for sexual </span>\n",
       "<span style=\"color: #008000; text-decoration-color: #008000\">telephone services. Af nogle gange i vejen fra gratis patter milf lube fjenstrup ung indian teen anal. Kb af </span>\n",
       "<span style=\"color: #008000; text-decoration-color: #008000\">billetter og ssonkort til Silkeborg IF kampe. P udkig efter hot ass moms porno klubben, som ogs ud p krlighed on'</span>\n",
       "<span style=\"font-weight: bold\">]</span>\n",
       "</pre>\n"
      ],
      "text/plain": [
       "\u001b[1m[\u001b[0m\n",
       "    \u001b[32m'Homo bordel herrer body to body massage sjællandFitness world forum åbningstider liderlige kællinger Posted by\u001b[0m\n",
       "\u001b[32mfitness world forum åbningstider liderlige kællinger on Fodmassage frederiksberg thai massage i hjørring Posted by \u001b[0m\n",
       "\u001b[32mfodmassage frederiksberg thai massage i hjørring on Sex Film ålerne Jeg vil være diskret i Italien. Silkeborg \u001b[0m\n",
       "\u001b[32mkarina hot and sexy Massage og Escort: Islington, London Thai traditional massage. Asian escort copenhagen dansk \u001b[0m\n",
       "\u001b[32mgay porn Posted by asian escort copenhagen dansk gay porn on\\nJeg praktiserer den traditionelle thailandske massage\u001b[0m\n",
       "\u001b[32mi min klinik i Hjørring. En såkaldt slikkelap er en ny form for prævention til kvinder, der beskytter mod \u001b[0m\n",
       "\u001b[32mkønssygdomme ved oralsex. Vi boede på landet og havde en del fjerkræ, som vi slagtede, gjorde i stand og spiste \u001b[0m\n",
       "\u001b[32meller vi solgte dem til venner og bekendte. Thai-massage inkluderer ofte happy ending, og nogle steder er der \u001b[0m\n",
       "\u001b[32mmulighed for. Top thai massage vejle kiss porn - sammenlignede med Skriv en mail til ungtlahme gmail. Massag'\u001b[0m,\n",
       "    \u001b[32m'At gre, at de generelt er meget sexet uden at kvinder? Kvalitets Hybenrose findes her Salg til private \u001b[0m\n",
       "\u001b[32mtilengrospriser Stort udvalg af planter og tilbehr Kig ind og kb online! Teenlife Sommer: 130 siders sommervibes \u001b[0m\n",
       "\u001b[32mtil hele din ferie! Det er kun muligt at forlnge eksisterende. Det lydige kn. date en cabernet og kan. Unge Fisser \u001b[0m\n",
       "\u001b[32mGammel Nrager Massage Guide Dk Store Sorte Rv Pics Com sexdukker Modsatte kn, vil bedmme om, hvor meget vigtige \u001b[0m\n",
       "\u001b[32moplysninger, den. Vd Teenageporno Gammel Kone Sex Dating Sites Kn Og Dd ster Alling Download Tamil Sex Film. Fyr \u001b[0m\n",
       "\u001b[32mSger Fyr Mrdrupgrd Side 9 Pigen Shemale Teen Kn Tube ldre Kvinder Har Sex Videoer. Til Hende Hendes Twik Gay Porno.\u001b[0m\n",
       "\u001b[32mKoncert: kl. 22.30. Billetter kbes i indgangen fra kl. Iceland, DV, publishes ads with pictures for sexual \u001b[0m\n",
       "\u001b[32mtelephone services. Af nogle gange i vejen fra gratis patter milf lube fjenstrup ung indian teen anal. Kb af \u001b[0m\n",
       "\u001b[32mbilletter og ssonkort til Silkeborg IF kampe. P udkig efter hot ass moms porno klubben, som ogs ud p krlighed on'\u001b[0m\n",
       "\u001b[1m]\u001b[0m\n"
      ]
     },
     "metadata": {},
     "output_type": "display_data"
    }
   ],
   "source": [
    "from rich import print as rprint\n",
    "\n",
    "rprint(\n",
    "    [\n",
    "        text[:1000]\n",
    "        for text in df_with_labels.filter(\n",
    "            pl.col(\"problematic_content_label_present\") == \"problematic\"\n",
    "        )\n",
    "        .head(2)\n",
    "        .select(\"text\")\n",
    "        .to_series()\n",
    "        .to_list()\n",
    "    ]\n",
    ")"
   ]
  },
  {
   "cell_type": "markdown",
   "metadata": {},
   "source": [
    "Since we have confidence scores, we can see how confident the model is in its predictions and potentially only use the predictions with a confidence score above a certain threshold. \n"
   ]
  },
  {
   "cell_type": "code",
   "execution_count": 31,
   "metadata": {},
   "outputs": [
    {
     "data": {
      "text/html": [
       "<div><style>\n",
       ".dataframe > thead > tr,\n",
       ".dataframe > tbody > tr {\n",
       "  text-align: right;\n",
       "  white-space: pre-wrap;\n",
       "}\n",
       "</style>\n",
       "<small>shape: (9, 2)</small><table border=\"1\" class=\"dataframe\"><thead><tr><th>statistic</th><th>problematic_content_label_present_score</th></tr><tr><td>str</td><td>f64</td></tr></thead><tbody><tr><td>&quot;count&quot;</td><td>10000.0</td></tr><tr><td>&quot;null_count&quot;</td><td>0.0</td></tr><tr><td>&quot;mean&quot;</td><td>0.983193</td></tr><tr><td>&quot;std&quot;</td><td>0.032068</td></tr><tr><td>&quot;min&quot;</td><td>0.512446</td></tr><tr><td>&quot;25%&quot;</td><td>0.983883</td></tr><tr><td>&quot;50%&quot;</td><td>0.989218</td></tr><tr><td>&quot;75%&quot;</td><td>0.992036</td></tr><tr><td>&quot;max&quot;</td><td>0.998413</td></tr></tbody></table></div>"
      ],
      "text/plain": [
       "shape: (9, 2)\n",
       "┌────────────┬─────────────────────────────────┐\n",
       "│ statistic  ┆ problematic_content_label_pres… │\n",
       "│ ---        ┆ ---                             │\n",
       "│ str        ┆ f64                             │\n",
       "╞════════════╪═════════════════════════════════╡\n",
       "│ count      ┆ 10000.0                         │\n",
       "│ null_count ┆ 0.0                             │\n",
       "│ mean       ┆ 0.983193                        │\n",
       "│ std        ┆ 0.032068                        │\n",
       "│ min        ┆ 0.512446                        │\n",
       "│ 25%        ┆ 0.983883                        │\n",
       "│ 50%        ┆ 0.989218                        │\n",
       "│ 75%        ┆ 0.992036                        │\n",
       "│ max        ┆ 0.998413                        │\n",
       "└────────────┴─────────────────────────────────┘"
      ]
     },
     "execution_count": 31,
     "metadata": {},
     "output_type": "execute_result"
    }
   ],
   "source": [
    "df_with_labels.select(\"problematic_content_label_present_score\").describe()"
   ]
  },
  {
   "cell_type": "code",
   "execution_count": 32,
   "metadata": {},
   "outputs": [
    {
     "data": {
      "text/plain": [
       "(152, 13)"
      ]
     },
     "execution_count": 32,
     "metadata": {},
     "output_type": "execute_result"
    }
   ],
   "source": [
    "df_with_labels.filter(pl.col(\"problematic_content_label_present_score\") < 0.9).shape"
   ]
  },
  {
   "cell_type": "code",
   "execution_count": 33,
   "metadata": {},
   "outputs": [
    {
     "data": {
      "text/plain": [
       "(80, 13)"
      ]
     },
     "execution_count": 33,
     "metadata": {},
     "output_type": "execute_result"
    }
   ],
   "source": [
    "df_with_labels.filter(pl.col(\"problematic_content_label_present_score\") < 0.8).shape"
   ]
  },
  {
   "cell_type": "markdown",
   "metadata": {},
   "source": [
    "Since we also have other metadata we can also try and see if we can find any other interesting patterns or possible heuristics or rules for filtering the data. \n"
   ]
  },
  {
   "cell_type": "code",
   "execution_count": 37,
   "metadata": {},
   "outputs": [
    {
     "data": {
      "text/html": [
       "<div><style>\n",
       ".dataframe > thead > tr,\n",
       ".dataframe > tbody > tr {\n",
       "  text-align: right;\n",
       "  white-space: pre-wrap;\n",
       "}\n",
       "</style>\n",
       "<small>shape: (2, 2)</small><table border=\"1\" class=\"dataframe\"><thead><tr><th>problematic_content_label_present</th><th>language_score</th></tr><tr><td>str</td><td>f64</td></tr></thead><tbody><tr><td>&quot;problematic&quot;</td><td>0.985003</td></tr><tr><td>&quot;not_problematic&quot;</td><td>0.998026</td></tr></tbody></table></div>"
      ],
      "text/plain": [
       "shape: (2, 2)\n",
       "┌─────────────────────────────────┬────────────────┐\n",
       "│ problematic_content_label_pres… ┆ language_score │\n",
       "│ ---                             ┆ ---            │\n",
       "│ str                             ┆ f64            │\n",
       "╞═════════════════════════════════╪════════════════╡\n",
       "│ problematic                     ┆ 0.985003       │\n",
       "│ not_problematic                 ┆ 0.998026       │\n",
       "└─────────────────────────────────┴────────────────┘"
      ]
     },
     "execution_count": 37,
     "metadata": {},
     "output_type": "execute_result"
    }
   ],
   "source": [
    "df_with_labels.group_by(\"problematic_content_label_present\").agg(\n",
    "    pl.col(\"language_score\").mean()\n",
    ")\n"
   ]
  },
  {
   "cell_type": "markdown",
   "metadata": {},
   "source": [
    "We can see that the language score is higher for the \"not_problematic\" class. This is using the mean so not a very good threshold but we can also see look at a broadeer distribution of the language scores by problematic class. \n",
    "\n"
   ]
  },
  {
   "cell_type": "code",
   "execution_count": 47,
   "metadata": {},
   "outputs": [
    {
     "data": {
      "text/html": [
       "<div><style>\n",
       ".dataframe > thead > tr,\n",
       ".dataframe > tbody > tr {\n",
       "  text-align: right;\n",
       "  white-space: pre-wrap;\n",
       "}\n",
       "</style>\n",
       "<small>shape: (2, 8)</small><table border=\"1\" class=\"dataframe\"><thead><tr><th>problematic_content_label_present</th><th>min_score</th><th>max_score</th><th>mean_score</th><th>median_score</th><th>std_score</th><th>q25_score</th><th>q75_score</th></tr><tr><td>str</td><td>f64</td><td>f64</td><td>f64</td><td>f64</td><td>f64</td><td>f64</td><td>f64</td></tr></thead><tbody><tr><td>&quot;not_problematic&quot;</td><td>0.313803</td><td>1.00001</td><td>0.998026</td><td>0.999978</td><td>0.021781</td><td>0.999886</td><td>1.000001</td></tr><tr><td>&quot;problematic&quot;</td><td>0.30324</td><td>1.00001</td><td>0.985003</td><td>0.998912</td><td>0.055765</td><td>0.993766</td><td>0.999906</td></tr></tbody></table></div>"
      ],
      "text/plain": [
       "shape: (2, 8)\n",
       "┌────────────┬───────────┬───────────┬────────────┬────────────┬───────────┬───────────┬───────────┐\n",
       "│ problemati ┆ min_score ┆ max_score ┆ mean_score ┆ median_sco ┆ std_score ┆ q25_score ┆ q75_score │\n",
       "│ c_content_ ┆ ---       ┆ ---       ┆ ---        ┆ re         ┆ ---       ┆ ---       ┆ ---       │\n",
       "│ label_pres ┆ f64       ┆ f64       ┆ f64        ┆ ---        ┆ f64       ┆ f64       ┆ f64       │\n",
       "│ …          ┆           ┆           ┆            ┆ f64        ┆           ┆           ┆           │\n",
       "│ ---        ┆           ┆           ┆            ┆            ┆           ┆           ┆           │\n",
       "│ str        ┆           ┆           ┆            ┆            ┆           ┆           ┆           │\n",
       "╞════════════╪═══════════╪═══════════╪════════════╪════════════╪═══════════╪═══════════╪═══════════╡\n",
       "│ not_proble ┆ 0.313803  ┆ 1.00001   ┆ 0.998026   ┆ 0.999978   ┆ 0.021781  ┆ 0.999886  ┆ 1.000001  │\n",
       "│ matic      ┆           ┆           ┆            ┆            ┆           ┆           ┆           │\n",
       "│ problemati ┆ 0.30324   ┆ 1.00001   ┆ 0.985003   ┆ 0.998912   ┆ 0.055765  ┆ 0.993766  ┆ 0.999906  │\n",
       "│ c          ┆           ┆           ┆            ┆            ┆           ┆           ┆           │\n",
       "└────────────┴───────────┴───────────┴────────────┴────────────┴───────────┴───────────┴───────────┘"
      ]
     },
     "execution_count": 47,
     "metadata": {},
     "output_type": "execute_result"
    }
   ],
   "source": [
    "df_with_labels.group_by(\"problematic_content_label_present\").agg(\n",
    "    [\n",
    "        pl.col(\"language_score\").min().alias(\"min_score\"),\n",
    "        pl.col(\"language_score\").max().alias(\"max_score\"),\n",
    "        pl.col(\"language_score\").mean().alias(\"mean_score\"),\n",
    "        pl.col(\"language_score\").median().alias(\"median_score\"),\n",
    "        pl.col(\"language_score\").std().alias(\"std_score\"),\n",
    "        pl.col(\"language_score\").quantile(0.25).alias(\"q25_score\"),\n",
    "        pl.col(\"language_score\").quantile(0.75).alias(\"q75_score\"),\n",
    "    ]\n",
    ")"
   ]
  },
  {
   "cell_type": "markdown",
   "metadata": {},
   "source": [
    "One potential heuristic is to filter out any text with a language score below 0.993. It's likely we may want to review a larger amount of texts before we apply such a threshold but this shows how we don't necessarily even need to rely *only* on our classifier to filter the data. Using other patterns or heursitics may also work quite well and depending on the computational resources available to you using heuristics may end up being a more practical solution. It is also of course possible to combine the two approaches i.e. use some heuristics to filter the data and then use the classifier to filter out the rest. \n",
    "\n",
    "For example we could use the language score to filter out the data and then use the classifier to filter out the rest. If we set a threshold of 0.993 for the language score, we can see how many documents we'd keep that the classifier would label as problematic. "
   ]
  },
  {
   "cell_type": "code",
   "execution_count": 55,
   "metadata": {},
   "outputs": [
    {
     "data": {
      "text/html": [
       "<div><style>\n",
       ".dataframe > thead > tr,\n",
       ".dataframe > tbody > tr {\n",
       "  text-align: right;\n",
       "  white-space: pre-wrap;\n",
       "}\n",
       "</style>\n",
       "<small>shape: (2, 2)</small><table border=\"1\" class=\"dataframe\"><thead><tr><th>problematic_content_label_present</th><th>count</th></tr><tr><td>str</td><td>u32</td></tr></thead><tbody><tr><td>&quot;problematic&quot;</td><td>593</td></tr><tr><td>&quot;not_problematic&quot;</td><td>9046</td></tr></tbody></table></div>"
      ],
      "text/plain": [
       "shape: (2, 2)\n",
       "┌─────────────────────────────────┬───────┐\n",
       "│ problematic_content_label_pres… ┆ count │\n",
       "│ ---                             ┆ ---   │\n",
       "│ str                             ┆ u32   │\n",
       "╞═════════════════════════════════╪═══════╡\n",
       "│ problematic                     ┆ 593   │\n",
       "│ not_problematic                 ┆ 9046  │\n",
       "└─────────────────────────────────┴───────┘"
      ]
     },
     "execution_count": 55,
     "metadata": {},
     "output_type": "execute_result"
    }
   ],
   "source": [
    "# Let's see how many documents we'd keep at different thresholds\n",
    "threshold = 0.993\n",
    "\n",
    "# Check distribution of problematic vs non-problematic content above threshold\n",
    "df_with_labels.filter((pl.col(\"language_score\") >= threshold)).group_by(\n",
    "    \"problematic_content_label_present\"\n",
    ").agg(pl.len().alias(\"count\"))\n"
   ]
  },
  {
   "cell_type": "markdown",
   "metadata": {},
   "source": [
    "# Conclusion: Data curation using semi disposable models\n",
    "\n",
    "Since the goal for this kind of model is mostly to do some initial cleaning we don't have to be too perfect. The beauty of these kinds of classifiers is that we can fairly cheaply and quickly retrain with more and better data so we don't have to be too attached to a particular model checkpoint. We can instead do something like this:\n",
    "\n",
    "```{mermaid}\n",
    "graph LR\n",
    "    A[Label Initial Data] --> B[Train Model]\n",
    "    B --> C[Filter Data Using Model]\n",
    "    C --> D[Annotate Filtered Data]\n",
    "    D --> E[Retrain Model]\n",
    "    E --> B\n",
    "    \n",
    "    style A fill:#e1f5fe\n",
    "    style B fill:#fff3e0\n",
    "    style C fill:#f3e5f5\n",
    "    style D fill:#e8f5e9\n",
    "    style E fill:#fff3e0\n",
    "```\n",
    "\n",
    "We saw in this post that with the data we already have we can already create a useful classifier to filter out problematic content. There are a bunch of areas that would still be interesting to explore.\n",
    "\n",
    "- Training on more languages i.e. Norwegian and Swedish + some other Scandinavian languages\n",
    "- Using more granular labels i.e. doing the educational quality classification. For this it could already be useful to even classify the broad educational quality categories i.e. you could map problmametic + None + Minimal together and then have a seperate category for \"educational\". Since we don't have many labels for excellent it may be hard to train a model on all the labels but even being able to classify out content that may have some educational value could be useful and help with the filtering process.\n",
    "- There are also many other languages in the FineWeb-2 dataset that we haven't looked at yet, I'd love to see the community explore training on other languages. \n",
    "\n"
   ]
  },
  {
   "cell_type": "markdown",
   "metadata": {},
   "source": [
    "## Appendix: Running on the full fineweb-2 dataset for Danish?\n",
    "\n",
    "For fun I thought it'd be nice to get an estimate of how long it would take to run the model on the full Danish dataset. Because the data loading part is mostly network bound I did this part on an A100 on HF which has a very fast connnection!"
   ]
  },
  {
   "cell_type": "code",
   "execution_count": 5,
   "metadata": {
    "tags": []
   },
   "outputs": [
    {
     "data": {
      "text/plain": [
       "['data/dan_Latn/train/000_00000.parquet',\n",
       " 'data/dan_Latn/train/000_00001.parquet',\n",
       " 'data/dan_Latn/train/000_00002.parquet',\n",
       " 'data/dan_Latn/train/001_00000.parquet',\n",
       " 'data/dan_Latn/train/001_00001.parquet',\n",
       " 'data/dan_Latn/train/001_00002.parquet',\n",
       " 'data/dan_Latn/train/002_00000.parquet',\n",
       " 'data/dan_Latn/train/002_00001.parquet',\n",
       " 'data/dan_Latn/train/002_00002.parquet',\n",
       " 'data/dan_Latn/train/003_00000.parquet',\n",
       " 'data/dan_Latn/train/003_00001.parquet',\n",
       " 'data/dan_Latn/train/003_00002.parquet',\n",
       " 'data/dan_Latn/train/004_00000.parquet',\n",
       " 'data/dan_Latn/train/004_00001.parquet',\n",
       " 'data/dan_Latn/train/004_00002.parquet']"
      ]
     },
     "execution_count": 5,
     "metadata": {},
     "output_type": "execute_result"
    }
   ],
   "source": [
    "paths = list_repo_files(\"HuggingFaceFW/fineweb-2\", repo_type=\"dataset\")\n",
    "danish = [\n",
    "    f for f in paths if (\"dan\" in f and f.endswith(\"parquet\") and \"removed\" not in f)\n",
    "]\n",
    "danish = [f for f in danish if \"test\" not in f]\n",
    "danish"
   ]
  },
  {
   "cell_type": "code",
   "execution_count": 45,
   "metadata": {
    "tags": []
   },
   "outputs": [],
   "source": [
    "danish_lf = pl.scan_parquet(\n",
    "    [f\"hf://datasets/HuggingFaceFW/fineweb-2/{f}\" for f in danish]\n",
    ")"
   ]
  },
  {
   "cell_type": "code",
   "execution_count": 46,
   "metadata": {
    "tags": []
   },
   "outputs": [
    {
     "data": {
      "text/html": [
       "<div><style>\n",
       ".dataframe > thead > tr,\n",
       ".dataframe > tbody > tr {\n",
       "  text-align: right;\n",
       "  white-space: pre-wrap;\n",
       "}\n",
       "</style>\n",
       "<small>shape: (1, 11)</small><table border=\"1\" class=\"dataframe\"><thead><tr><th>text</th><th>id</th><th>dump</th><th>url</th><th>date</th><th>file_path</th><th>language</th><th>language_score</th><th>language_script</th><th>minhash_cluster_size</th><th>top_langs</th></tr><tr><td>str</td><td>str</td><td>str</td><td>str</td><td>str</td><td>str</td><td>str</td><td>f64</td><td>str</td><td>i64</td><td>str</td></tr></thead><tbody><tr><td>&quot;Richard Bourke\n",
       "Bourke blev fød…</td><td>&quot;&lt;urn:uuid:a7aba000-4d4d-48d5-a…</td><td>&quot;CC-MAIN-2013-20&quot;</td><td>&quot;http://da.wikipedia.org/wiki/R…</td><td>&quot;2013-05-19T03:58:08Z&quot;</td><td>&quot;s3://commoncrawl/crawl-data/CC…</td><td>&quot;dan&quot;</td><td>0.999949</td><td>&quot;Latn&quot;</td><td>53</td><td>&quot;{&quot;dan_Latn_score&quot;: 0.999949336…</td></tr></tbody></table></div>"
      ],
      "text/plain": [
       "shape: (1, 11)\n",
       "┌───────────┬───────────┬───────────┬───────────┬───┬───────────┬───────────┬───────────┬──────────┐\n",
       "│ text      ┆ id        ┆ dump      ┆ url       ┆ … ┆ language_ ┆ language_ ┆ minhash_c ┆ top_lang │\n",
       "│ ---       ┆ ---       ┆ ---       ┆ ---       ┆   ┆ score     ┆ script    ┆ luster_si ┆ s        │\n",
       "│ str       ┆ str       ┆ str       ┆ str       ┆   ┆ ---       ┆ ---       ┆ ze        ┆ ---      │\n",
       "│           ┆           ┆           ┆           ┆   ┆ f64       ┆ str       ┆ ---       ┆ str      │\n",
       "│           ┆           ┆           ┆           ┆   ┆           ┆           ┆ i64       ┆          │\n",
       "╞═══════════╪═══════════╪═══════════╪═══════════╪═══╪═══════════╪═══════════╪═══════════╪══════════╡\n",
       "│ Richard   ┆ <urn:uuid ┆ CC-MAIN-2 ┆ http://da ┆ … ┆ 0.999949  ┆ Latn      ┆ 53        ┆ {\"dan_La │\n",
       "│ Bourke    ┆ :a7aba000 ┆ 013-20    ┆ .wikipedi ┆   ┆           ┆           ┆           ┆ tn_score │\n",
       "│ Bourke    ┆ -4d4d-48d ┆           ┆ a.org/wik ┆   ┆           ┆           ┆           ┆ \": 0.999 │\n",
       "│ blev fød… ┆ 5-a…      ┆           ┆ i/R…      ┆   ┆           ┆           ┆           ┆ 949336…  │\n",
       "└───────────┴───────────┴───────────┴───────────┴───┴───────────┴───────────┴───────────┴──────────┘"
      ]
     },
     "execution_count": 46,
     "metadata": {},
     "output_type": "execute_result"
    }
   ],
   "source": [
    "danish_lf.head(1).collect()"
   ]
  },
  {
   "cell_type": "markdown",
   "metadata": {},
   "source": [
    "We don't need all of the column for doing inference so lets grab just the text and id. "
   ]
  },
  {
   "cell_type": "code",
   "execution_count": null,
   "metadata": {
    "tags": []
   },
   "outputs": [],
   "source": [
    "danish_df_for_prediction = danish_lf.select([\"id\", \"text\"])"
   ]
  },
  {
   "cell_type": "markdown",
   "metadata": {},
   "source": [
    "Sink to disk so we can load more quickly "
   ]
  },
  {
   "cell_type": "code",
   "execution_count": null,
   "metadata": {
    "tags": []
   },
   "outputs": [],
   "source": [
    "danish_df_for_prediction.sink_parquet(\"dan.parquet\")"
   ]
  },
  {
   "cell_type": "code",
   "execution_count": 6,
   "metadata": {
    "tags": []
   },
   "outputs": [],
   "source": [
    "df_pred = pl.scan_parquet(\"dan.parquet\")"
   ]
  },
  {
   "cell_type": "code",
   "execution_count": null,
   "metadata": {
    "tags": []
   },
   "outputs": [],
   "source": [
    "df_pred.select(pl.len()).collect()"
   ]
  },
  {
   "cell_type": "markdown",
   "metadata": {},
   "source": [
    "We'll use datasets to load the data since I am already familar with our friend `map` "
   ]
  },
  {
   "cell_type": "code",
   "execution_count": 7,
   "metadata": {
    "tags": []
   },
   "outputs": [],
   "source": [
    "from datasets import Dataset"
   ]
  },
  {
   "cell_type": "code",
   "execution_count": 8,
   "metadata": {
    "tags": []
   },
   "outputs": [
    {
     "data": {
      "application/vnd.jupyter.widget-view+json": {
       "model_id": "d08f53fedd7342719eececea4ea60886",
       "version_major": 2,
       "version_minor": 0
      },
      "text/plain": [
       "Generating train split: 0 examples [00:00, ? examples/s]"
      ]
     },
     "metadata": {},
     "output_type": "display_data"
    },
    {
     "data": {
      "application/vnd.jupyter.widget-view+json": {
       "model_id": "68ef459b0bde425d8b94ad69e1f40930",
       "version_major": 2,
       "version_minor": 0
      },
      "text/plain": [
       "Loading dataset shards:   0%|          | 0/316 [00:00<?, ?it/s]"
      ]
     },
     "metadata": {},
     "output_type": "display_data"
    }
   ],
   "source": [
    "ds = Dataset.from_parquet(\"dan.parquet\")"
   ]
  },
  {
   "cell_type": "code",
   "execution_count": 9,
   "metadata": {
    "tags": []
   },
   "outputs": [
    {
     "data": {
      "text/plain": [
       "Dataset({\n",
       "    features: ['id', 'text'],\n",
       "    num_rows: 43002078\n",
       "})"
      ]
     },
     "execution_count": 9,
     "metadata": {},
     "output_type": "execute_result"
    }
   ],
   "source": [
    "ds"
   ]
  },
  {
   "cell_type": "markdown",
   "metadata": {},
   "source": [
    "To get a sense of how long this will take, let's take a sample of 10,000 texts and see how long it takes to predict on them. "
   ]
  },
  {
   "cell_type": "code",
   "execution_count": 58,
   "metadata": {
    "tags": []
   },
   "outputs": [
    {
     "name": "stderr",
     "output_type": "stream",
     "text": [
      "Device set to use cuda:0\n"
     ]
    }
   ],
   "source": [
    "from transformers import pipeline\n",
    "\n",
    "pipe = pipeline(\n",
    "    \"text-classification\",\n",
    "    model=\"davanstrien/scandi-fine-web-cleaner\",\n",
    "    truncation=True,  \n",
    "    max_length=512, \n",
    "    batch_size=1024,\n",
    ")"
   ]
  },
  {
   "cell_type": "code",
   "execution_count": 43,
   "metadata": {
    "tags": []
   },
   "outputs": [],
   "source": [
    "sample_size = int(len(ds)*0.001)"
   ]
  },
  {
   "cell_type": "code",
   "execution_count": 68,
   "metadata": {
    "tags": []
   },
   "outputs": [],
   "source": [
    "sample = ds.shuffle().take(sample_size)"
   ]
  },
  {
   "cell_type": "code",
   "execution_count": 69,
   "metadata": {
    "tags": []
   },
   "outputs": [
    {
     "data": {
      "text/plain": [
       "Dataset({\n",
       "    features: ['id', 'text'],\n",
       "    num_rows: 43002\n",
       "})"
      ]
     },
     "execution_count": 69,
     "metadata": {},
     "output_type": "execute_result"
    }
   ],
   "source": [
    "sample"
   ]
  },
  {
   "cell_type": "code",
   "execution_count": 70,
   "metadata": {
    "tags": []
   },
   "outputs": [],
   "source": [
    "from tqdm.auto import tqdm\n",
    "from transformers.pipelines.pt_utils import KeyDataset"
   ]
  },
  {
   "cell_type": "code",
   "execution_count": 71,
   "metadata": {
    "tags": []
   },
   "outputs": [
    {
     "data": {
      "application/vnd.jupyter.widget-view+json": {
       "model_id": "9bdab6cef62e437c98a06efa3287c62c",
       "version_major": 2,
       "version_minor": 0
      },
      "text/plain": [
       "  0%|          | 0/43002 [00:00<?, ?it/s]"
      ]
     },
     "metadata": {},
     "output_type": "display_data"
    },
    {
     "name": "stdout",
     "output_type": "stream",
     "text": [
      "CPU times: user 6min 47s, sys: 12 s, total: 7min\n",
      "Wall time: 6min 45s\n"
     ]
    }
   ],
   "source": [
    "%%time\n",
    "results = []\n",
    "for out in tqdm(pipe(KeyDataset(sample, \"text\")), total=len(sample)):\n",
    "    results.append(out)"
   ]
  },
  {
   "cell_type": "code",
   "execution_count": 72,
   "metadata": {
    "tags": []
   },
   "outputs": [
    {
     "data": {
      "text/plain": [
       "{'label': 'problematic', 'score': 0.9982499480247498}"
      ]
     },
     "execution_count": 72,
     "metadata": {},
     "output_type": "execute_result"
    }
   ],
   "source": [
    "results[0]"
   ]
  },
  {
   "cell_type": "code",
   "execution_count": 73,
   "metadata": {
    "tags": []
   },
   "outputs": [],
   "source": [
    "labels = [x[\"label\"] for x in results]\n",
    "scores = [x[\"score\"] for x in results]"
   ]
  },
  {
   "cell_type": "code",
   "execution_count": 74,
   "metadata": {
    "tags": []
   },
   "outputs": [
    {
     "data": {
      "text/plain": [
       "(['problematic', 'not_problematic', 'not_problematic'],\n",
       " [0.9982499480247498, 0.9403635263442993, 0.9803061485290527])"
      ]
     },
     "execution_count": 74,
     "metadata": {},
     "output_type": "execute_result"
    }
   ],
   "source": [
    "labels[:3], scores[:3]"
   ]
  },
  {
   "cell_type": "code",
   "execution_count": 75,
   "metadata": {
    "tags": []
   },
   "outputs": [
    {
     "data": {
      "application/vnd.jupyter.widget-view+json": {
       "model_id": "e504b7a553024f6485c813079853a991",
       "version_major": 2,
       "version_minor": 0
      },
      "text/plain": [
       "Flattening the indices:   0%|          | 0/43002 [00:00<?, ? examples/s]"
      ]
     },
     "metadata": {},
     "output_type": "display_data"
    },
    {
     "name": "stdout",
     "output_type": "stream",
     "text": [
      "CPU times: user 992 ms, sys: 80.3 ms, total: 1.07 s\n",
      "Wall time: 1.07 s\n"
     ]
    }
   ],
   "source": [
    "%%time\n",
    "sample = sample.add_column(\"problematic_label\", labels)"
   ]
  },
  {
   "cell_type": "code",
   "execution_count": 76,
   "metadata": {
    "tags": []
   },
   "outputs": [],
   "source": [
    "sample = sample.add_column(\"problematic_label_score\", scores)"
   ]
  },
  {
   "cell_type": "code",
   "execution_count": 77,
   "metadata": {
    "tags": []
   },
   "outputs": [
    {
     "data": {
      "text/plain": [
       "'problematic'"
      ]
     },
     "execution_count": 77,
     "metadata": {},
     "output_type": "execute_result"
    }
   ],
   "source": [
    "sample[0][\"problematic_label\"]"
   ]
  },
  {
   "cell_type": "code",
   "execution_count": 78,
   "metadata": {
    "tags": []
   },
   "outputs": [
    {
     "data": {
      "application/vnd.jupyter.widget-view+json": {
       "model_id": "6eb3c5f9fb4c48a3a20d8927ee25eb0a",
       "version_major": 2,
       "version_minor": 0
      },
      "text/plain": [
       "Filter:   0%|          | 0/43002 [00:00<?, ? examples/s]"
      ]
     },
     "metadata": {},
     "output_type": "display_data"
    }
   ],
   "source": [
    "clean_ds = sample.filter(lambda x: x[\"problematic_label\"] == \"not_problematic\")"
   ]
  },
  {
   "cell_type": "code",
   "execution_count": 80,
   "metadata": {
    "tags": []
   },
   "outputs": [
    {
     "data": {
      "application/vnd.jupyter.widget-view+json": {
       "model_id": "b654f59a562e4278b5367755d16d33f5",
       "version_major": 2,
       "version_minor": 0
      },
      "text/plain": [
       "Uploading the dataset shards:   0%|          | 0/1 [00:00<?, ?it/s]"
      ]
     },
     "metadata": {},
     "output_type": "display_data"
    },
    {
     "data": {
      "application/vnd.jupyter.widget-view+json": {
       "model_id": "837e6ff66d0e4c36a760817540a93126",
       "version_major": 2,
       "version_minor": 0
      },
      "text/plain": [
       "Creating parquet from Arrow format:   0%|          | 0/39 [00:00<?, ?ba/s]"
      ]
     },
     "metadata": {},
     "output_type": "display_data"
    },
    {
     "data": {
      "application/vnd.jupyter.widget-view+json": {
       "model_id": "ec1716282e654334b71f08e9145f91a0",
       "version_major": 2,
       "version_minor": 0
      },
      "text/plain": [
       "README.md:   0%|          | 0.00/429 [00:00<?, ?B/s]"
      ]
     },
     "metadata": {},
     "output_type": "display_data"
    },
    {
     "data": {
      "text/plain": [
       "CommitInfo(commit_url='https://huggingface.co/datasets/davanstrien/fineweb2-danish-cleaned/commit/c836895376cea0ea41544e24355acb80ce3fdd27', commit_message='Upload dataset', commit_description='', oid='c836895376cea0ea41544e24355acb80ce3fdd27', pr_url=None, repo_url=RepoUrl('https://huggingface.co/datasets/davanstrien/fineweb2-danish-cleaned', endpoint='https://huggingface.co', repo_type='dataset', repo_id='davanstrien/fineweb2-danish-cleaned'), pr_revision=None, pr_num=None)"
      ]
     },
     "execution_count": 80,
     "metadata": {},
     "output_type": "execute_result"
    }
   ],
   "source": [
    "clean_ds.push_to_hub(\"davanstrien/fineweb2-danish-cleaned\")"
   ]
  }
 ],
 "metadata": {
  "colab": {
   "machine_shape": "hm",
   "provenance": []
  },
  "kernelspec": {
   "display_name": "Python 3 (ipykernel)",
   "language": "python",
   "name": "python3"
  },
  "language_info": {
   "codemirror_mode": {
    "name": "ipython",
    "version": 3
   },
   "file_extension": ".py",
   "mimetype": "text/x-python",
   "name": "python",
   "nbconvert_exporter": "python",
   "pygments_lexer": "ipython3",
   "version": "3.11.1"
  },
  "widgets": {
   "application/vnd.jupyter.widget-state+json": {
    "017604ad9dbe4447918a619891842909": {
     "model_module": "@jupyter-widgets/controls",
     "model_module_version": "1.5.0",
     "model_name": "FloatProgressModel",
     "state": {
      "_dom_classes": [],
      "_model_module": "@jupyter-widgets/controls",
      "_model_module_version": "1.5.0",
      "_model_name": "FloatProgressModel",
      "_view_count": null,
      "_view_module": "@jupyter-widgets/controls",
      "_view_module_version": "1.5.0",
      "_view_name": "ProgressView",
      "bar_style": "success",
      "description": "",
      "description_tooltip": null,
      "layout": "IPY_MODEL_2ef5eb7567ef49f1baf5e558b83a7790",
      "max": 1462,
      "min": 0,
      "orientation": "horizontal",
      "style": "IPY_MODEL_a8b0b4a3b1824a4d9858a1974f973fe1",
      "value": 1462
     }
    },
    "0618104ba39a4c16a5e1517c1fdc0956": {
     "model_module": "@jupyter-widgets/controls",
     "model_module_version": "1.5.0",
     "model_name": "ProgressStyleModel",
     "state": {
      "_model_module": "@jupyter-widgets/controls",
      "_model_module_version": "1.5.0",
      "_model_name": "ProgressStyleModel",
      "_view_count": null,
      "_view_module": "@jupyter-widgets/base",
      "_view_module_version": "1.2.0",
      "_view_name": "StyleView",
      "bar_color": null,
      "description_width": ""
     }
    },
    "06bf560afe224b8597144c66db376520": {
     "model_module": "@jupyter-widgets/base",
     "model_module_version": "1.2.0",
     "model_name": "LayoutModel",
     "state": {
      "_model_module": "@jupyter-widgets/base",
      "_model_module_version": "1.2.0",
      "_model_name": "LayoutModel",
      "_view_count": null,
      "_view_module": "@jupyter-widgets/base",
      "_view_module_version": "1.2.0",
      "_view_name": "LayoutView",
      "align_content": null,
      "align_items": null,
      "align_self": null,
      "border": null,
      "bottom": null,
      "display": null,
      "flex": null,
      "flex_flow": null,
      "grid_area": null,
      "grid_auto_columns": null,
      "grid_auto_flow": null,
      "grid_auto_rows": null,
      "grid_column": null,
      "grid_gap": null,
      "grid_row": null,
      "grid_template_areas": null,
      "grid_template_columns": null,
      "grid_template_rows": null,
      "height": null,
      "justify_content": null,
      "justify_items": null,
      "left": null,
      "margin": null,
      "max_height": null,
      "max_width": null,
      "min_height": null,
      "min_width": null,
      "object_fit": null,
      "object_position": null,
      "order": null,
      "overflow": null,
      "overflow_x": null,
      "overflow_y": null,
      "padding": null,
      "right": null,
      "top": null,
      "visibility": null,
      "width": null
     }
    },
    "08e462fe596444b98bdd0b53c56124a4": {
     "model_module": "@jupyter-widgets/base",
     "model_module_version": "1.2.0",
     "model_name": "LayoutModel",
     "state": {
      "_model_module": "@jupyter-widgets/base",
      "_model_module_version": "1.2.0",
      "_model_name": "LayoutModel",
      "_view_count": null,
      "_view_module": "@jupyter-widgets/base",
      "_view_module_version": "1.2.0",
      "_view_name": "LayoutView",
      "align_content": null,
      "align_items": null,
      "align_self": null,
      "border": null,
      "bottom": null,
      "display": null,
      "flex": null,
      "flex_flow": null,
      "grid_area": null,
      "grid_auto_columns": null,
      "grid_auto_flow": null,
      "grid_auto_rows": null,
      "grid_column": null,
      "grid_gap": null,
      "grid_row": null,
      "grid_template_areas": null,
      "grid_template_columns": null,
      "grid_template_rows": null,
      "height": null,
      "justify_content": null,
      "justify_items": null,
      "left": null,
      "margin": null,
      "max_height": null,
      "max_width": null,
      "min_height": null,
      "min_width": null,
      "object_fit": null,
      "object_position": null,
      "order": null,
      "overflow": null,
      "overflow_x": null,
      "overflow_y": null,
      "padding": null,
      "right": null,
      "top": null,
      "visibility": null,
      "width": null
     }
    },
    "0a683f28897a45c2af5117a8c95c7f66": {
     "model_module": "@jupyter-widgets/controls",
     "model_module_version": "1.5.0",
     "model_name": "HTMLModel",
     "state": {
      "_dom_classes": [],
      "_model_module": "@jupyter-widgets/controls",
      "_model_module_version": "1.5.0",
      "_model_name": "HTMLModel",
      "_view_count": null,
      "_view_module": "@jupyter-widgets/controls",
      "_view_module_version": "1.5.0",
      "_view_name": "HTMLView",
      "description": "",
      "description_tooltip": null,
      "layout": "IPY_MODEL_4d7acac4cff9453fb25e9fe6b07f5b1e",
      "placeholder": "​",
      "style": "IPY_MODEL_449faee225184c11bf25b27c10be2318",
      "value": "tokenizer.json: 100%"
     }
    },
    "0c35bb1aa81e4bd78f0426055bdffaa0": {
     "model_module": "@jupyter-widgets/controls",
     "model_module_version": "1.5.0",
     "model_name": "ProgressStyleModel",
     "state": {
      "_model_module": "@jupyter-widgets/controls",
      "_model_module_version": "1.5.0",
      "_model_name": "ProgressStyleModel",
      "_view_count": null,
      "_view_module": "@jupyter-widgets/base",
      "_view_module_version": "1.2.0",
      "_view_name": "StyleView",
      "bar_color": null,
      "description_width": ""
     }
    },
    "0d78fb3979474d429c2ed6366f62816e": {
     "model_module": "@jupyter-widgets/base",
     "model_module_version": "1.2.0",
     "model_name": "LayoutModel",
     "state": {
      "_model_module": "@jupyter-widgets/base",
      "_model_module_version": "1.2.0",
      "_model_name": "LayoutModel",
      "_view_count": null,
      "_view_module": "@jupyter-widgets/base",
      "_view_module_version": "1.2.0",
      "_view_name": "LayoutView",
      "align_content": null,
      "align_items": null,
      "align_self": null,
      "border": null,
      "bottom": null,
      "display": null,
      "flex": null,
      "flex_flow": null,
      "grid_area": null,
      "grid_auto_columns": null,
      "grid_auto_flow": null,
      "grid_auto_rows": null,
      "grid_column": null,
      "grid_gap": null,
      "grid_row": null,
      "grid_template_areas": null,
      "grid_template_columns": null,
      "grid_template_rows": null,
      "height": null,
      "justify_content": null,
      "justify_items": null,
      "left": null,
      "margin": null,
      "max_height": null,
      "max_width": null,
      "min_height": null,
      "min_width": null,
      "object_fit": null,
      "object_position": null,
      "order": null,
      "overflow": null,
      "overflow_x": null,
      "overflow_y": null,
      "padding": null,
      "right": null,
      "top": null,
      "visibility": null,
      "width": null
     }
    },
    "12cdd5e1b2794e2d8c421b1d0aa1a0c2": {
     "model_module": "@jupyter-widgets/controls",
     "model_module_version": "1.5.0",
     "model_name": "FloatProgressModel",
     "state": {
      "_dom_classes": [],
      "_model_module": "@jupyter-widgets/controls",
      "_model_module_version": "1.5.0",
      "_model_name": "FloatProgressModel",
      "_view_count": null,
      "_view_module": "@jupyter-widgets/controls",
      "_view_module_version": "1.5.0",
      "_view_name": "ProgressView",
      "bar_style": "success",
      "description": "",
      "description_tooltip": null,
      "layout": "IPY_MODEL_e0589657d28e4571979a611d0a48d037",
      "max": 541317368,
      "min": 0,
      "orientation": "horizontal",
      "style": "IPY_MODEL_aa718108aed84cb1aa1c7c09d0bd23a6",
      "value": 541317368
     }
    },
    "14f6566ae8b44d23b404f11955804f3f": {
     "model_module": "@jupyter-widgets/base",
     "model_module_version": "1.2.0",
     "model_name": "LayoutModel",
     "state": {
      "_model_module": "@jupyter-widgets/base",
      "_model_module_version": "1.2.0",
      "_model_name": "LayoutModel",
      "_view_count": null,
      "_view_module": "@jupyter-widgets/base",
      "_view_module_version": "1.2.0",
      "_view_name": "LayoutView",
      "align_content": null,
      "align_items": null,
      "align_self": null,
      "border": null,
      "bottom": null,
      "display": null,
      "flex": null,
      "flex_flow": null,
      "grid_area": null,
      "grid_auto_columns": null,
      "grid_auto_flow": null,
      "grid_auto_rows": null,
      "grid_column": null,
      "grid_gap": null,
      "grid_row": null,
      "grid_template_areas": null,
      "grid_template_columns": null,
      "grid_template_rows": null,
      "height": null,
      "justify_content": null,
      "justify_items": null,
      "left": null,
      "margin": null,
      "max_height": null,
      "max_width": null,
      "min_height": null,
      "min_width": null,
      "object_fit": null,
      "object_position": null,
      "order": null,
      "overflow": null,
      "overflow_x": null,
      "overflow_y": null,
      "padding": null,
      "right": null,
      "top": null,
      "visibility": null,
      "width": null
     }
    },
    "14ff5ec8e4dc42008c5ccb73ce2f189b": {
     "model_module": "@jupyter-widgets/base",
     "model_module_version": "1.2.0",
     "model_name": "LayoutModel",
     "state": {
      "_model_module": "@jupyter-widgets/base",
      "_model_module_version": "1.2.0",
      "_model_name": "LayoutModel",
      "_view_count": null,
      "_view_module": "@jupyter-widgets/base",
      "_view_module_version": "1.2.0",
      "_view_name": "LayoutView",
      "align_content": null,
      "align_items": null,
      "align_self": null,
      "border": null,
      "bottom": null,
      "display": null,
      "flex": null,
      "flex_flow": null,
      "grid_area": null,
      "grid_auto_columns": null,
      "grid_auto_flow": null,
      "grid_auto_rows": null,
      "grid_column": null,
      "grid_gap": null,
      "grid_row": null,
      "grid_template_areas": null,
      "grid_template_columns": null,
      "grid_template_rows": null,
      "height": null,
      "justify_content": null,
      "justify_items": null,
      "left": null,
      "margin": null,
      "max_height": null,
      "max_width": null,
      "min_height": null,
      "min_width": null,
      "object_fit": null,
      "object_position": null,
      "order": null,
      "overflow": null,
      "overflow_x": null,
      "overflow_y": null,
      "padding": null,
      "right": null,
      "top": null,
      "visibility": null,
      "width": null
     }
    },
    "1771ecc140ab48b982df2c4b51183371": {
     "model_module": "@jupyter-widgets/controls",
     "model_module_version": "1.5.0",
     "model_name": "DescriptionStyleModel",
     "state": {
      "_model_module": "@jupyter-widgets/controls",
      "_model_module_version": "1.5.0",
      "_model_name": "DescriptionStyleModel",
      "_view_count": null,
      "_view_module": "@jupyter-widgets/base",
      "_view_module_version": "1.2.0",
      "_view_name": "StyleView",
      "description_width": ""
     }
    },
    "1a5c6434ef7e4717b8f8e81bab72d02f": {
     "model_module": "@jupyter-widgets/controls",
     "model_module_version": "1.5.0",
     "model_name": "DescriptionStyleModel",
     "state": {
      "_model_module": "@jupyter-widgets/controls",
      "_model_module_version": "1.5.0",
      "_model_name": "DescriptionStyleModel",
      "_view_count": null,
      "_view_module": "@jupyter-widgets/base",
      "_view_module_version": "1.2.0",
      "_view_name": "StyleView",
      "description_width": ""
     }
    },
    "1c5d3fff6be74fb6a68bd5255366efaf": {
     "model_module": "@jupyter-widgets/controls",
     "model_module_version": "1.5.0",
     "model_name": "HTMLModel",
     "state": {
      "_dom_classes": [],
      "_model_module": "@jupyter-widgets/controls",
      "_model_module_version": "1.5.0",
      "_model_name": "HTMLModel",
      "_view_count": null,
      "_view_module": "@jupyter-widgets/controls",
      "_view_module_version": "1.5.0",
      "_view_name": "HTMLView",
      "description": "",
      "description_tooltip": null,
      "layout": "IPY_MODEL_c3054acd7a4140ed96ce038015abfe14",
      "placeholder": "​",
      "style": "IPY_MODEL_def29e082afa4929ad451c0edd79ba9c",
      "value": " 996k/996k [00:00&lt;00:00, 4.99MB/s]"
     }
    },
    "2ef5eb7567ef49f1baf5e558b83a7790": {
     "model_module": "@jupyter-widgets/base",
     "model_module_version": "1.2.0",
     "model_name": "LayoutModel",
     "state": {
      "_model_module": "@jupyter-widgets/base",
      "_model_module_version": "1.2.0",
      "_model_name": "LayoutModel",
      "_view_count": null,
      "_view_module": "@jupyter-widgets/base",
      "_view_module_version": "1.2.0",
      "_view_name": "LayoutView",
      "align_content": null,
      "align_items": null,
      "align_self": null,
      "border": null,
      "bottom": null,
      "display": null,
      "flex": null,
      "flex_flow": null,
      "grid_area": null,
      "grid_auto_columns": null,
      "grid_auto_flow": null,
      "grid_auto_rows": null,
      "grid_column": null,
      "grid_gap": null,
      "grid_row": null,
      "grid_template_areas": null,
      "grid_template_columns": null,
      "grid_template_rows": null,
      "height": null,
      "justify_content": null,
      "justify_items": null,
      "left": null,
      "margin": null,
      "max_height": null,
      "max_width": null,
      "min_height": null,
      "min_width": null,
      "object_fit": null,
      "object_position": null,
      "order": null,
      "overflow": null,
      "overflow_x": null,
      "overflow_y": null,
      "padding": null,
      "right": null,
      "top": null,
      "visibility": null,
      "width": null
     }
    },
    "313668acef0a4cb3b3a56b5f09c3d1de": {
     "model_module": "@jupyter-widgets/controls",
     "model_module_version": "1.5.0",
     "model_name": "HTMLModel",
     "state": {
      "_dom_classes": [],
      "_model_module": "@jupyter-widgets/controls",
      "_model_module_version": "1.5.0",
      "_model_name": "HTMLModel",
      "_view_count": null,
      "_view_module": "@jupyter-widgets/controls",
      "_view_module_version": "1.5.0",
      "_view_name": "HTMLView",
      "description": "",
      "description_tooltip": null,
      "layout": "IPY_MODEL_e4f91e4f8baa445fadc3080c1826af7e",
      "placeholder": "​",
      "style": "IPY_MODEL_ff981b633e034d438e1169656c537110",
      "value": "config.json: 100%"
     }
    },
    "314bbb2408a447d1853cfcc94896d260": {
     "model_module": "@jupyter-widgets/base",
     "model_module_version": "1.2.0",
     "model_name": "LayoutModel",
     "state": {
      "_model_module": "@jupyter-widgets/base",
      "_model_module_version": "1.2.0",
      "_model_name": "LayoutModel",
      "_view_count": null,
      "_view_module": "@jupyter-widgets/base",
      "_view_module_version": "1.2.0",
      "_view_name": "LayoutView",
      "align_content": null,
      "align_items": null,
      "align_self": null,
      "border": null,
      "bottom": null,
      "display": null,
      "flex": null,
      "flex_flow": null,
      "grid_area": null,
      "grid_auto_columns": null,
      "grid_auto_flow": null,
      "grid_auto_rows": null,
      "grid_column": null,
      "grid_gap": null,
      "grid_row": null,
      "grid_template_areas": null,
      "grid_template_columns": null,
      "grid_template_rows": null,
      "height": null,
      "justify_content": null,
      "justify_items": null,
      "left": null,
      "margin": null,
      "max_height": null,
      "max_width": null,
      "min_height": null,
      "min_width": null,
      "object_fit": null,
      "object_position": null,
      "order": null,
      "overflow": null,
      "overflow_x": null,
      "overflow_y": null,
      "padding": null,
      "right": null,
      "top": null,
      "visibility": null,
      "width": null
     }
    },
    "318c1fe34efa49d19e8858a9f585e67b": {
     "model_module": "@jupyter-widgets/controls",
     "model_module_version": "1.5.0",
     "model_name": "DescriptionStyleModel",
     "state": {
      "_model_module": "@jupyter-widgets/controls",
      "_model_module_version": "1.5.0",
      "_model_name": "DescriptionStyleModel",
      "_view_count": null,
      "_view_module": "@jupyter-widgets/base",
      "_view_module_version": "1.2.0",
      "_view_name": "StyleView",
      "description_width": ""
     }
    },
    "3596e47dc020476c8df15b12ae05ae8a": {
     "model_module": "@jupyter-widgets/controls",
     "model_module_version": "1.5.0",
     "model_name": "HTMLModel",
     "state": {
      "_dom_classes": [],
      "_model_module": "@jupyter-widgets/controls",
      "_model_module_version": "1.5.0",
      "_model_name": "HTMLModel",
      "_view_count": null,
      "_view_module": "@jupyter-widgets/controls",
      "_view_module_version": "1.5.0",
      "_view_name": "HTMLView",
      "description": "",
      "description_tooltip": null,
      "layout": "IPY_MODEL_5bce6f886d1a4072bd2318eb832b1afc",
      "placeholder": "​",
      "style": "IPY_MODEL_64428e3d574642d58f5e5d5220c291db",
      "value": "events.out.tfevents.1736432989.d4a252918ab8.1422.7: 100%"
     }
    },
    "360725fec97447bd830e6d4de2bdc545": {
     "model_module": "@jupyter-widgets/controls",
     "model_module_version": "1.5.0",
     "model_name": "HTMLModel",
     "state": {
      "_dom_classes": [],
      "_model_module": "@jupyter-widgets/controls",
      "_model_module_version": "1.5.0",
      "_model_name": "HTMLModel",
      "_view_count": null,
      "_view_module": "@jupyter-widgets/controls",
      "_view_module_version": "1.5.0",
      "_view_name": "HTMLView",
      "description": "",
      "description_tooltip": null,
      "layout": "IPY_MODEL_39e2e5c49bae498ab9dc8cd73b965d4f",
      "placeholder": "​",
      "style": "IPY_MODEL_a3d2eed0c3db4ca18ffdeee96a361115",
      "value": " 1462/1462 [00:00&lt;00:00, 1696.18 examples/s]"
     }
    },
    "367fd4daf0864ab7b8c9115f2ca2e25f": {
     "model_module": "@jupyter-widgets/controls",
     "model_module_version": "1.5.0",
     "model_name": "ProgressStyleModel",
     "state": {
      "_model_module": "@jupyter-widgets/controls",
      "_model_module_version": "1.5.0",
      "_model_name": "ProgressStyleModel",
      "_view_count": null,
      "_view_module": "@jupyter-widgets/base",
      "_view_module_version": "1.2.0",
      "_view_name": "StyleView",
      "bar_color": null,
      "description_width": ""
     }
    },
    "37df2bf8007f44e5a3ffd9a76726226b": {
     "model_module": "@jupyter-widgets/base",
     "model_module_version": "1.2.0",
     "model_name": "LayoutModel",
     "state": {
      "_model_module": "@jupyter-widgets/base",
      "_model_module_version": "1.2.0",
      "_model_name": "LayoutModel",
      "_view_count": null,
      "_view_module": "@jupyter-widgets/base",
      "_view_module_version": "1.2.0",
      "_view_name": "LayoutView",
      "align_content": null,
      "align_items": null,
      "align_self": null,
      "border": null,
      "bottom": null,
      "display": null,
      "flex": null,
      "flex_flow": null,
      "grid_area": null,
      "grid_auto_columns": null,
      "grid_auto_flow": null,
      "grid_auto_rows": null,
      "grid_column": null,
      "grid_gap": null,
      "grid_row": null,
      "grid_template_areas": null,
      "grid_template_columns": null,
      "grid_template_rows": null,
      "height": null,
      "justify_content": null,
      "justify_items": null,
      "left": null,
      "margin": null,
      "max_height": null,
      "max_width": null,
      "min_height": null,
      "min_width": null,
      "object_fit": null,
      "object_position": null,
      "order": null,
      "overflow": null,
      "overflow_x": null,
      "overflow_y": null,
      "padding": null,
      "right": null,
      "top": null,
      "visibility": null,
      "width": null
     }
    },
    "38e5e520c9a3480992aa752d329b0154": {
     "model_module": "@jupyter-widgets/controls",
     "model_module_version": "1.5.0",
     "model_name": "HTMLModel",
     "state": {
      "_dom_classes": [],
      "_model_module": "@jupyter-widgets/controls",
      "_model_module_version": "1.5.0",
      "_model_name": "HTMLModel",
      "_view_count": null,
      "_view_module": "@jupyter-widgets/controls",
      "_view_module_version": "1.5.0",
      "_view_name": "HTMLView",
      "description": "",
      "description_tooltip": null,
      "layout": "IPY_MODEL_14ff5ec8e4dc42008c5ccb73ce2f189b",
      "placeholder": "​",
      "style": "IPY_MODEL_f9b1eadd019a4565b3d16860637f6e38",
      "value": " 661/661 [00:00&lt;00:00, 53.0kB/s]"
     }
    },
    "39e2e5c49bae498ab9dc8cd73b965d4f": {
     "model_module": "@jupyter-widgets/base",
     "model_module_version": "1.2.0",
     "model_name": "LayoutModel",
     "state": {
      "_model_module": "@jupyter-widgets/base",
      "_model_module_version": "1.2.0",
      "_model_name": "LayoutModel",
      "_view_count": null,
      "_view_module": "@jupyter-widgets/base",
      "_view_module_version": "1.2.0",
      "_view_name": "LayoutView",
      "align_content": null,
      "align_items": null,
      "align_self": null,
      "border": null,
      "bottom": null,
      "display": null,
      "flex": null,
      "flex_flow": null,
      "grid_area": null,
      "grid_auto_columns": null,
      "grid_auto_flow": null,
      "grid_auto_rows": null,
      "grid_column": null,
      "grid_gap": null,
      "grid_row": null,
      "grid_template_areas": null,
      "grid_template_columns": null,
      "grid_template_rows": null,
      "height": null,
      "justify_content": null,
      "justify_items": null,
      "left": null,
      "margin": null,
      "max_height": null,
      "max_width": null,
      "min_height": null,
      "min_width": null,
      "object_fit": null,
      "object_position": null,
      "order": null,
      "overflow": null,
      "overflow_x": null,
      "overflow_y": null,
      "padding": null,
      "right": null,
      "top": null,
      "visibility": null,
      "width": null
     }
    },
    "3b5d4521828b419fbdcabed7c62ebb9b": {
     "model_module": "@jupyter-widgets/base",
     "model_module_version": "1.2.0",
     "model_name": "LayoutModel",
     "state": {
      "_model_module": "@jupyter-widgets/base",
      "_model_module_version": "1.2.0",
      "_model_name": "LayoutModel",
      "_view_count": null,
      "_view_module": "@jupyter-widgets/base",
      "_view_module_version": "1.2.0",
      "_view_name": "LayoutView",
      "align_content": null,
      "align_items": null,
      "align_self": null,
      "border": null,
      "bottom": null,
      "display": null,
      "flex": null,
      "flex_flow": null,
      "grid_area": null,
      "grid_auto_columns": null,
      "grid_auto_flow": null,
      "grid_auto_rows": null,
      "grid_column": null,
      "grid_gap": null,
      "grid_row": null,
      "grid_template_areas": null,
      "grid_template_columns": null,
      "grid_template_rows": null,
      "height": null,
      "justify_content": null,
      "justify_items": null,
      "left": null,
      "margin": null,
      "max_height": null,
      "max_width": null,
      "min_height": null,
      "min_width": null,
      "object_fit": null,
      "object_position": null,
      "order": null,
      "overflow": null,
      "overflow_x": null,
      "overflow_y": null,
      "padding": null,
      "right": null,
      "top": null,
      "visibility": null,
      "width": null
     }
    },
    "3ce5ee7330f84190a372d0aedf2b51ee": {
     "model_module": "@jupyter-widgets/base",
     "model_module_version": "1.2.0",
     "model_name": "LayoutModel",
     "state": {
      "_model_module": "@jupyter-widgets/base",
      "_model_module_version": "1.2.0",
      "_model_name": "LayoutModel",
      "_view_count": null,
      "_view_module": "@jupyter-widgets/base",
      "_view_module_version": "1.2.0",
      "_view_name": "LayoutView",
      "align_content": null,
      "align_items": null,
      "align_self": null,
      "border": null,
      "bottom": null,
      "display": null,
      "flex": null,
      "flex_flow": null,
      "grid_area": null,
      "grid_auto_columns": null,
      "grid_auto_flow": null,
      "grid_auto_rows": null,
      "grid_column": null,
      "grid_gap": null,
      "grid_row": null,
      "grid_template_areas": null,
      "grid_template_columns": null,
      "grid_template_rows": null,
      "height": null,
      "justify_content": null,
      "justify_items": null,
      "left": null,
      "margin": null,
      "max_height": null,
      "max_width": null,
      "min_height": null,
      "min_width": null,
      "object_fit": null,
      "object_position": null,
      "order": null,
      "overflow": null,
      "overflow_x": null,
      "overflow_y": null,
      "padding": null,
      "right": null,
      "top": null,
      "visibility": null,
      "width": null
     }
    },
    "3e5002cc8d3e4ddc8c7b782ac1212959": {
     "model_module": "@jupyter-widgets/controls",
     "model_module_version": "1.5.0",
     "model_name": "HTMLModel",
     "state": {
      "_dom_classes": [],
      "_model_module": "@jupyter-widgets/controls",
      "_model_module_version": "1.5.0",
      "_model_name": "HTMLModel",
      "_view_count": null,
      "_view_module": "@jupyter-widgets/controls",
      "_view_module_version": "1.5.0",
      "_view_name": "HTMLView",
      "description": "",
      "description_tooltip": null,
      "layout": "IPY_MODEL_314bbb2408a447d1853cfcc94896d260",
      "placeholder": "​",
      "style": "IPY_MODEL_8141a857a79443c3aaf414dc68566300",
      "value": "special_tokens_map.json: 100%"
     }
    },
    "3f1e16be4ef944e78e4a248bbaaaa9c2": {
     "model_module": "@jupyter-widgets/base",
     "model_module_version": "1.2.0",
     "model_name": "LayoutModel",
     "state": {
      "_model_module": "@jupyter-widgets/base",
      "_model_module_version": "1.2.0",
      "_model_name": "LayoutModel",
      "_view_count": null,
      "_view_module": "@jupyter-widgets/base",
      "_view_module_version": "1.2.0",
      "_view_name": "LayoutView",
      "align_content": null,
      "align_items": null,
      "align_self": null,
      "border": null,
      "bottom": null,
      "display": null,
      "flex": null,
      "flex_flow": null,
      "grid_area": null,
      "grid_auto_columns": null,
      "grid_auto_flow": null,
      "grid_auto_rows": null,
      "grid_column": null,
      "grid_gap": null,
      "grid_row": null,
      "grid_template_areas": null,
      "grid_template_columns": null,
      "grid_template_rows": null,
      "height": null,
      "justify_content": null,
      "justify_items": null,
      "left": null,
      "margin": null,
      "max_height": null,
      "max_width": null,
      "min_height": null,
      "min_width": null,
      "object_fit": null,
      "object_position": null,
      "order": null,
      "overflow": null,
      "overflow_x": null,
      "overflow_y": null,
      "padding": null,
      "right": null,
      "top": null,
      "visibility": null,
      "width": null
     }
    },
    "449faee225184c11bf25b27c10be2318": {
     "model_module": "@jupyter-widgets/controls",
     "model_module_version": "1.5.0",
     "model_name": "DescriptionStyleModel",
     "state": {
      "_model_module": "@jupyter-widgets/controls",
      "_model_module_version": "1.5.0",
      "_model_name": "DescriptionStyleModel",
      "_view_count": null,
      "_view_module": "@jupyter-widgets/base",
      "_view_module_version": "1.2.0",
      "_view_name": "StyleView",
      "description_width": ""
     }
    },
    "46f08fabf18149b3ba17e126b93adffb": {
     "model_module": "@jupyter-widgets/controls",
     "model_module_version": "1.5.0",
     "model_name": "HTMLModel",
     "state": {
      "_dom_classes": [],
      "_model_module": "@jupyter-widgets/controls",
      "_model_module_version": "1.5.0",
      "_model_name": "HTMLModel",
      "_view_count": null,
      "_view_module": "@jupyter-widgets/controls",
      "_view_module_version": "1.5.0",
      "_view_name": "HTMLView",
      "description": "",
      "description_tooltip": null,
      "layout": "IPY_MODEL_f0ea2d40188d49ee824be80fc38933e3",
      "placeholder": "​",
      "style": "IPY_MODEL_822477ecbb8e4404825efccd68a6510f",
      "value": "model.safetensors: 100%"
     }
    },
    "484c2282556c47f2be4094b022e08f06": {
     "model_module": "@jupyter-widgets/controls",
     "model_module_version": "1.5.0",
     "model_name": "DescriptionStyleModel",
     "state": {
      "_model_module": "@jupyter-widgets/controls",
      "_model_module_version": "1.5.0",
      "_model_name": "DescriptionStyleModel",
      "_view_count": null,
      "_view_module": "@jupyter-widgets/base",
      "_view_module_version": "1.2.0",
      "_view_name": "StyleView",
      "description_width": ""
     }
    },
    "4922f04c4aeb4276985b5e35132af4fb": {
     "model_module": "@jupyter-widgets/base",
     "model_module_version": "1.2.0",
     "model_name": "LayoutModel",
     "state": {
      "_model_module": "@jupyter-widgets/base",
      "_model_module_version": "1.2.0",
      "_model_name": "LayoutModel",
      "_view_count": null,
      "_view_module": "@jupyter-widgets/base",
      "_view_module_version": "1.2.0",
      "_view_name": "LayoutView",
      "align_content": null,
      "align_items": null,
      "align_self": null,
      "border": null,
      "bottom": null,
      "display": null,
      "flex": null,
      "flex_flow": null,
      "grid_area": null,
      "grid_auto_columns": null,
      "grid_auto_flow": null,
      "grid_auto_rows": null,
      "grid_column": null,
      "grid_gap": null,
      "grid_row": null,
      "grid_template_areas": null,
      "grid_template_columns": null,
      "grid_template_rows": null,
      "height": null,
      "justify_content": null,
      "justify_items": null,
      "left": null,
      "margin": null,
      "max_height": null,
      "max_width": null,
      "min_height": null,
      "min_width": null,
      "object_fit": null,
      "object_position": null,
      "order": null,
      "overflow": null,
      "overflow_x": null,
      "overflow_y": null,
      "padding": null,
      "right": null,
      "top": null,
      "visibility": null,
      "width": null
     }
    },
    "4a7b9425f484492c9a08c56b742a8a4b": {
     "model_module": "@jupyter-widgets/controls",
     "model_module_version": "1.5.0",
     "model_name": "HBoxModel",
     "state": {
      "_dom_classes": [],
      "_model_module": "@jupyter-widgets/controls",
      "_model_module_version": "1.5.0",
      "_model_name": "HBoxModel",
      "_view_count": null,
      "_view_module": "@jupyter-widgets/controls",
      "_view_module_version": "1.5.0",
      "_view_name": "HBoxView",
      "box_style": "",
      "children": [
       "IPY_MODEL_3596e47dc020476c8df15b12ae05ae8a",
       "IPY_MODEL_fa48374938b94cb4b1d644d5a7b524ee",
       "IPY_MODEL_b6fa9e880a9b4120a7c1b93d45fe6a57"
      ],
      "layout": "IPY_MODEL_dea4e85725b846d28be631b56a9a5454"
     }
    },
    "4b3065f0369d47e5984e7e36974e8586": {
     "model_module": "@jupyter-widgets/controls",
     "model_module_version": "1.5.0",
     "model_name": "HTMLModel",
     "state": {
      "_dom_classes": [],
      "_model_module": "@jupyter-widgets/controls",
      "_model_module_version": "1.5.0",
      "_model_name": "HTMLModel",
      "_view_count": null,
      "_view_module": "@jupyter-widgets/controls",
      "_view_module_version": "1.5.0",
      "_view_name": "HTMLView",
      "description": "",
      "description_tooltip": null,
      "layout": "IPY_MODEL_06bf560afe224b8597144c66db376520",
      "placeholder": "​",
      "style": "IPY_MODEL_9cb292516c894f51926d7bff09eb6433",
      "value": "Map: 100%"
     }
    },
    "4d7acac4cff9453fb25e9fe6b07f5b1e": {
     "model_module": "@jupyter-widgets/base",
     "model_module_version": "1.2.0",
     "model_name": "LayoutModel",
     "state": {
      "_model_module": "@jupyter-widgets/base",
      "_model_module_version": "1.2.0",
      "_model_name": "LayoutModel",
      "_view_count": null,
      "_view_module": "@jupyter-widgets/base",
      "_view_module_version": "1.2.0",
      "_view_name": "LayoutView",
      "align_content": null,
      "align_items": null,
      "align_self": null,
      "border": null,
      "bottom": null,
      "display": null,
      "flex": null,
      "flex_flow": null,
      "grid_area": null,
      "grid_auto_columns": null,
      "grid_auto_flow": null,
      "grid_auto_rows": null,
      "grid_column": null,
      "grid_gap": null,
      "grid_row": null,
      "grid_template_areas": null,
      "grid_template_columns": null,
      "grid_template_rows": null,
      "height": null,
      "justify_content": null,
      "justify_items": null,
      "left": null,
      "margin": null,
      "max_height": null,
      "max_width": null,
      "min_height": null,
      "min_width": null,
      "object_fit": null,
      "object_position": null,
      "order": null,
      "overflow": null,
      "overflow_x": null,
      "overflow_y": null,
      "padding": null,
      "right": null,
      "top": null,
      "visibility": null,
      "width": null
     }
    },
    "507845ac270544d58bff69b383751e0f": {
     "model_module": "@jupyter-widgets/controls",
     "model_module_version": "1.5.0",
     "model_name": "HTMLModel",
     "state": {
      "_dom_classes": [],
      "_model_module": "@jupyter-widgets/controls",
      "_model_module_version": "1.5.0",
      "_model_name": "HTMLModel",
      "_view_count": null,
      "_view_module": "@jupyter-widgets/controls",
      "_view_module_version": "1.5.0",
      "_view_name": "HTMLView",
      "description": "",
      "description_tooltip": null,
      "layout": "IPY_MODEL_d9c3615ab6244cf8b2143172e2160476",
      "placeholder": "​",
      "style": "IPY_MODEL_9200798c9ac946c3ac8547f31d7943db",
      "value": "vocab.txt: 100%"
     }
    },
    "50f6b71cf0e3479b8c25ba2f3c13afb9": {
     "model_module": "@jupyter-widgets/base",
     "model_module_version": "1.2.0",
     "model_name": "LayoutModel",
     "state": {
      "_model_module": "@jupyter-widgets/base",
      "_model_module_version": "1.2.0",
      "_model_name": "LayoutModel",
      "_view_count": null,
      "_view_module": "@jupyter-widgets/base",
      "_view_module_version": "1.2.0",
      "_view_name": "LayoutView",
      "align_content": null,
      "align_items": null,
      "align_self": null,
      "border": null,
      "bottom": null,
      "display": null,
      "flex": null,
      "flex_flow": null,
      "grid_area": null,
      "grid_auto_columns": null,
      "grid_auto_flow": null,
      "grid_auto_rows": null,
      "grid_column": null,
      "grid_gap": null,
      "grid_row": null,
      "grid_template_areas": null,
      "grid_template_columns": null,
      "grid_template_rows": null,
      "height": null,
      "justify_content": null,
      "justify_items": null,
      "left": null,
      "margin": null,
      "max_height": null,
      "max_width": null,
      "min_height": null,
      "min_width": null,
      "object_fit": null,
      "object_position": null,
      "order": null,
      "overflow": null,
      "overflow_x": null,
      "overflow_y": null,
      "padding": null,
      "right": null,
      "top": null,
      "visibility": null,
      "width": null
     }
    },
    "52078637d4c54d56b9f688a02d517eef": {
     "model_module": "@jupyter-widgets/controls",
     "model_module_version": "1.5.0",
     "model_name": "HTMLModel",
     "state": {
      "_dom_classes": [],
      "_model_module": "@jupyter-widgets/controls",
      "_model_module_version": "1.5.0",
      "_model_name": "HTMLModel",
      "_view_count": null,
      "_view_module": "@jupyter-widgets/controls",
      "_view_module_version": "1.5.0",
      "_view_name": "HTMLView",
      "description": "",
      "description_tooltip": null,
      "layout": "IPY_MODEL_d2c98ba4811f48ed94c98e348b34d16c",
      "placeholder": "​",
      "style": "IPY_MODEL_318c1fe34efa49d19e8858a9f585e67b",
      "value": " 1.23k/1.23k [00:00&lt;00:00, 111kB/s]"
     }
    },
    "548eed9025a14001ba4c96c4652bfd2b": {
     "model_module": "@jupyter-widgets/controls",
     "model_module_version": "1.5.0",
     "model_name": "FloatProgressModel",
     "state": {
      "_dom_classes": [],
      "_model_module": "@jupyter-widgets/controls",
      "_model_module_version": "1.5.0",
      "_model_name": "FloatProgressModel",
      "_view_count": null,
      "_view_module": "@jupyter-widgets/controls",
      "_view_module_version": "1.5.0",
      "_view_name": "ProgressView",
      "bar_style": "success",
      "description": "",
      "description_tooltip": null,
      "layout": "IPY_MODEL_78e813f64c9d41e9945300ed1033e22e",
      "max": 3862,
      "min": 0,
      "orientation": "horizontal",
      "style": "IPY_MODEL_bc3eff33a9534865b2583cb30669436b",
      "value": 3862
     }
    },
    "5bce6f886d1a4072bd2318eb832b1afc": {
     "model_module": "@jupyter-widgets/base",
     "model_module_version": "1.2.0",
     "model_name": "LayoutModel",
     "state": {
      "_model_module": "@jupyter-widgets/base",
      "_model_module_version": "1.2.0",
      "_model_name": "LayoutModel",
      "_view_count": null,
      "_view_module": "@jupyter-widgets/base",
      "_view_module_version": "1.2.0",
      "_view_name": "LayoutView",
      "align_content": null,
      "align_items": null,
      "align_self": null,
      "border": null,
      "bottom": null,
      "display": null,
      "flex": null,
      "flex_flow": null,
      "grid_area": null,
      "grid_auto_columns": null,
      "grid_auto_flow": null,
      "grid_auto_rows": null,
      "grid_column": null,
      "grid_gap": null,
      "grid_row": null,
      "grid_template_areas": null,
      "grid_template_columns": null,
      "grid_template_rows": null,
      "height": null,
      "justify_content": null,
      "justify_items": null,
      "left": null,
      "margin": null,
      "max_height": null,
      "max_width": null,
      "min_height": null,
      "min_width": null,
      "object_fit": null,
      "object_position": null,
      "order": null,
      "overflow": null,
      "overflow_x": null,
      "overflow_y": null,
      "padding": null,
      "right": null,
      "top": null,
      "visibility": null,
      "width": null
     }
    },
    "64428e3d574642d58f5e5d5220c291db": {
     "model_module": "@jupyter-widgets/controls",
     "model_module_version": "1.5.0",
     "model_name": "DescriptionStyleModel",
     "state": {
      "_model_module": "@jupyter-widgets/controls",
      "_model_module_version": "1.5.0",
      "_model_name": "DescriptionStyleModel",
      "_view_count": null,
      "_view_module": "@jupyter-widgets/base",
      "_view_module_version": "1.2.0",
      "_view_name": "StyleView",
      "description_width": ""
     }
    },
    "65cb806976c64e58b8414124e63e3a47": {
     "model_module": "@jupyter-widgets/controls",
     "model_module_version": "1.5.0",
     "model_name": "HBoxModel",
     "state": {
      "_dom_classes": [],
      "_model_module": "@jupyter-widgets/controls",
      "_model_module_version": "1.5.0",
      "_model_name": "HBoxModel",
      "_view_count": null,
      "_view_module": "@jupyter-widgets/controls",
      "_view_module_version": "1.5.0",
      "_view_name": "HBoxView",
      "box_style": "",
      "children": [
       "IPY_MODEL_313668acef0a4cb3b3a56b5f09c3d1de",
       "IPY_MODEL_e9be82c27ead4fa9b12c4476df67f5cc",
       "IPY_MODEL_38e5e520c9a3480992aa752d329b0154"
      ],
      "layout": "IPY_MODEL_eaa2f25caa85414fb4ce9266b8bcdd09"
     }
    },
    "67e5ae477c984a4687ec1beb62726112": {
     "model_module": "@jupyter-widgets/base",
     "model_module_version": "1.2.0",
     "model_name": "LayoutModel",
     "state": {
      "_model_module": "@jupyter-widgets/base",
      "_model_module_version": "1.2.0",
      "_model_name": "LayoutModel",
      "_view_count": null,
      "_view_module": "@jupyter-widgets/base",
      "_view_module_version": "1.2.0",
      "_view_name": "LayoutView",
      "align_content": null,
      "align_items": null,
      "align_self": null,
      "border": null,
      "bottom": null,
      "display": null,
      "flex": null,
      "flex_flow": null,
      "grid_area": null,
      "grid_auto_columns": null,
      "grid_auto_flow": null,
      "grid_auto_rows": null,
      "grid_column": null,
      "grid_gap": null,
      "grid_row": null,
      "grid_template_areas": null,
      "grid_template_columns": null,
      "grid_template_rows": null,
      "height": null,
      "justify_content": null,
      "justify_items": null,
      "left": null,
      "margin": null,
      "max_height": null,
      "max_width": null,
      "min_height": null,
      "min_width": null,
      "object_fit": null,
      "object_position": null,
      "order": null,
      "overflow": null,
      "overflow_x": null,
      "overflow_y": null,
      "padding": null,
      "right": null,
      "top": null,
      "visibility": null,
      "width": null
     }
    },
    "6a9b262035e843fb9e45ab55b553d277": {
     "model_module": "@jupyter-widgets/base",
     "model_module_version": "1.2.0",
     "model_name": "LayoutModel",
     "state": {
      "_model_module": "@jupyter-widgets/base",
      "_model_module_version": "1.2.0",
      "_model_name": "LayoutModel",
      "_view_count": null,
      "_view_module": "@jupyter-widgets/base",
      "_view_module_version": "1.2.0",
      "_view_name": "LayoutView",
      "align_content": null,
      "align_items": null,
      "align_self": null,
      "border": null,
      "bottom": null,
      "display": null,
      "flex": null,
      "flex_flow": null,
      "grid_area": null,
      "grid_auto_columns": null,
      "grid_auto_flow": null,
      "grid_auto_rows": null,
      "grid_column": null,
      "grid_gap": null,
      "grid_row": null,
      "grid_template_areas": null,
      "grid_template_columns": null,
      "grid_template_rows": null,
      "height": null,
      "justify_content": null,
      "justify_items": null,
      "left": null,
      "margin": null,
      "max_height": null,
      "max_width": null,
      "min_height": null,
      "min_width": null,
      "object_fit": null,
      "object_position": null,
      "order": null,
      "overflow": null,
      "overflow_x": null,
      "overflow_y": null,
      "padding": null,
      "right": null,
      "top": null,
      "visibility": null,
      "width": null
     }
    },
    "70037da84d764cd69567ef4dd95dba44": {
     "model_module": "@jupyter-widgets/controls",
     "model_module_version": "1.5.0",
     "model_name": "HBoxModel",
     "state": {
      "_dom_classes": [],
      "_model_module": "@jupyter-widgets/controls",
      "_model_module_version": "1.5.0",
      "_model_name": "HBoxModel",
      "_view_count": null,
      "_view_module": "@jupyter-widgets/controls",
      "_view_module_version": "1.5.0",
      "_view_name": "HBoxView",
      "box_style": "",
      "children": [
       "IPY_MODEL_ccfd97f0e43a42c58f8842cf09b7abab",
       "IPY_MODEL_e10cd5ed857840f1919e36a78c7ce6f7",
       "IPY_MODEL_52078637d4c54d56b9f688a02d517eef"
      ],
      "layout": "IPY_MODEL_fda77a70479546d397f5407d6d819024"
     }
    },
    "726177e4c3d04c2184cb6351084c6a77": {
     "model_module": "@jupyter-widgets/controls",
     "model_module_version": "1.5.0",
     "model_name": "DescriptionStyleModel",
     "state": {
      "_model_module": "@jupyter-widgets/controls",
      "_model_module_version": "1.5.0",
      "_model_name": "DescriptionStyleModel",
      "_view_count": null,
      "_view_module": "@jupyter-widgets/base",
      "_view_module_version": "1.2.0",
      "_view_name": "StyleView",
      "description_width": ""
     }
    },
    "75056f67042b4e12aad064f3bd7a3290": {
     "model_module": "@jupyter-widgets/controls",
     "model_module_version": "1.5.0",
     "model_name": "HTMLModel",
     "state": {
      "_dom_classes": [],
      "_model_module": "@jupyter-widgets/controls",
      "_model_module_version": "1.5.0",
      "_model_name": "HTMLModel",
      "_view_count": null,
      "_view_module": "@jupyter-widgets/controls",
      "_view_module_version": "1.5.0",
      "_view_name": "HTMLView",
      "description": "",
      "description_tooltip": null,
      "layout": "IPY_MODEL_a65bb03e6c16467fb0583eb8e2b7df11",
      "placeholder": "​",
      "style": "IPY_MODEL_1a5c6434ef7e4717b8f8e81bab72d02f",
      "value": " 125/125 [00:00&lt;00:00, 10.5kB/s]"
     }
    },
    "75acddd1983b4894903b27d28aa1c2e7": {
     "model_module": "@jupyter-widgets/base",
     "model_module_version": "1.2.0",
     "model_name": "LayoutModel",
     "state": {
      "_model_module": "@jupyter-widgets/base",
      "_model_module_version": "1.2.0",
      "_model_name": "LayoutModel",
      "_view_count": null,
      "_view_module": "@jupyter-widgets/base",
      "_view_module_version": "1.2.0",
      "_view_name": "LayoutView",
      "align_content": null,
      "align_items": null,
      "align_self": null,
      "border": null,
      "bottom": null,
      "display": null,
      "flex": null,
      "flex_flow": null,
      "grid_area": null,
      "grid_auto_columns": null,
      "grid_auto_flow": null,
      "grid_auto_rows": null,
      "grid_column": null,
      "grid_gap": null,
      "grid_row": null,
      "grid_template_areas": null,
      "grid_template_columns": null,
      "grid_template_rows": null,
      "height": null,
      "justify_content": null,
      "justify_items": null,
      "left": null,
      "margin": null,
      "max_height": null,
      "max_width": null,
      "min_height": null,
      "min_width": null,
      "object_fit": null,
      "object_position": null,
      "order": null,
      "overflow": null,
      "overflow_x": null,
      "overflow_y": null,
      "padding": null,
      "right": null,
      "top": null,
      "visibility": null,
      "width": null
     }
    },
    "75e43bee0e1e419585bed99bfd516234": {
     "model_module": "@jupyter-widgets/controls",
     "model_module_version": "1.5.0",
     "model_name": "FloatProgressModel",
     "state": {
      "_dom_classes": [],
      "_model_module": "@jupyter-widgets/controls",
      "_model_module_version": "1.5.0",
      "_model_name": "FloatProgressModel",
      "_view_count": null,
      "_view_module": "@jupyter-widgets/controls",
      "_view_module_version": "1.5.0",
      "_view_name": "ProgressView",
      "bar_style": "success",
      "description": "",
      "description_tooltip": null,
      "layout": "IPY_MODEL_c2aea2703e214746920bf18610ac60ae",
      "max": 2919615,
      "min": 0,
      "orientation": "horizontal",
      "style": "IPY_MODEL_ae5c6ab462a24d518b6048e3ef1ff5f3",
      "value": 2919615
     }
    },
    "78e813f64c9d41e9945300ed1033e22e": {
     "model_module": "@jupyter-widgets/base",
     "model_module_version": "1.2.0",
     "model_name": "LayoutModel",
     "state": {
      "_model_module": "@jupyter-widgets/base",
      "_model_module_version": "1.2.0",
      "_model_name": "LayoutModel",
      "_view_count": null,
      "_view_module": "@jupyter-widgets/base",
      "_view_module_version": "1.2.0",
      "_view_name": "LayoutView",
      "align_content": null,
      "align_items": null,
      "align_self": null,
      "border": null,
      "bottom": null,
      "display": null,
      "flex": null,
      "flex_flow": null,
      "grid_area": null,
      "grid_auto_columns": null,
      "grid_auto_flow": null,
      "grid_auto_rows": null,
      "grid_column": null,
      "grid_gap": null,
      "grid_row": null,
      "grid_template_areas": null,
      "grid_template_columns": null,
      "grid_template_rows": null,
      "height": null,
      "justify_content": null,
      "justify_items": null,
      "left": null,
      "margin": null,
      "max_height": null,
      "max_width": null,
      "min_height": null,
      "min_width": null,
      "object_fit": null,
      "object_position": null,
      "order": null,
      "overflow": null,
      "overflow_x": null,
      "overflow_y": null,
      "padding": null,
      "right": null,
      "top": null,
      "visibility": null,
      "width": null
     }
    },
    "7ca951d47779441387b6416571cc1510": {
     "model_module": "@jupyter-widgets/controls",
     "model_module_version": "1.5.0",
     "model_name": "HBoxModel",
     "state": {
      "_dom_classes": [],
      "_model_module": "@jupyter-widgets/controls",
      "_model_module_version": "1.5.0",
      "_model_name": "HBoxModel",
      "_view_count": null,
      "_view_module": "@jupyter-widgets/controls",
      "_view_module_version": "1.5.0",
      "_view_name": "HBoxView",
      "box_style": "",
      "children": [
       "IPY_MODEL_3e5002cc8d3e4ddc8c7b782ac1212959",
       "IPY_MODEL_94b83b23f34e4f84bcebe18de526c713",
       "IPY_MODEL_75056f67042b4e12aad064f3bd7a3290"
      ],
      "layout": "IPY_MODEL_4922f04c4aeb4276985b5e35132af4fb"
     }
    },
    "8141a857a79443c3aaf414dc68566300": {
     "model_module": "@jupyter-widgets/controls",
     "model_module_version": "1.5.0",
     "model_name": "DescriptionStyleModel",
     "state": {
      "_model_module": "@jupyter-widgets/controls",
      "_model_module_version": "1.5.0",
      "_model_name": "DescriptionStyleModel",
      "_view_count": null,
      "_view_module": "@jupyter-widgets/base",
      "_view_module_version": "1.2.0",
      "_view_name": "StyleView",
      "description_width": ""
     }
    },
    "822477ecbb8e4404825efccd68a6510f": {
     "model_module": "@jupyter-widgets/controls",
     "model_module_version": "1.5.0",
     "model_name": "DescriptionStyleModel",
     "state": {
      "_model_module": "@jupyter-widgets/controls",
      "_model_module_version": "1.5.0",
      "_model_name": "DescriptionStyleModel",
      "_view_count": null,
      "_view_module": "@jupyter-widgets/base",
      "_view_module_version": "1.2.0",
      "_view_name": "StyleView",
      "description_width": ""
     }
    },
    "82ea4742bb4f4f37821d5150b40926e1": {
     "model_module": "@jupyter-widgets/controls",
     "model_module_version": "1.5.0",
     "model_name": "HTMLModel",
     "state": {
      "_dom_classes": [],
      "_model_module": "@jupyter-widgets/controls",
      "_model_module_version": "1.5.0",
      "_model_name": "HTMLModel",
      "_view_count": null,
      "_view_module": "@jupyter-widgets/controls",
      "_view_module_version": "1.5.0",
      "_view_name": "HTMLView",
      "description": "",
      "description_tooltip": null,
      "layout": "IPY_MODEL_0d78fb3979474d429c2ed6366f62816e",
      "placeholder": "​",
      "style": "IPY_MODEL_484c2282556c47f2be4094b022e08f06",
      "value": "Map: 100%"
     }
    },
    "8c249f62e8c1456cb0caa03f65c2e15c": {
     "model_module": "@jupyter-widgets/controls",
     "model_module_version": "1.5.0",
     "model_name": "DescriptionStyleModel",
     "state": {
      "_model_module": "@jupyter-widgets/controls",
      "_model_module_version": "1.5.0",
      "_model_name": "DescriptionStyleModel",
      "_view_count": null,
      "_view_module": "@jupyter-widgets/base",
      "_view_module_version": "1.2.0",
      "_view_name": "StyleView",
      "description_width": ""
     }
    },
    "8c576bdde87c4d3b891de22bbc36427b": {
     "model_module": "@jupyter-widgets/controls",
     "model_module_version": "1.5.0",
     "model_name": "HBoxModel",
     "state": {
      "_dom_classes": [],
      "_model_module": "@jupyter-widgets/controls",
      "_model_module_version": "1.5.0",
      "_model_name": "HBoxModel",
      "_view_count": null,
      "_view_module": "@jupyter-widgets/controls",
      "_view_module_version": "1.5.0",
      "_view_name": "HBoxView",
      "box_style": "",
      "children": [
       "IPY_MODEL_82ea4742bb4f4f37821d5150b40926e1",
       "IPY_MODEL_017604ad9dbe4447918a619891842909",
       "IPY_MODEL_360725fec97447bd830e6d4de2bdc545"
      ],
      "layout": "IPY_MODEL_badd00bb0bc44df19f3b81980930e7ca"
     }
    },
    "8c7e883494304ee89c4739fa098f8ff4": {
     "model_module": "@jupyter-widgets/controls",
     "model_module_version": "1.5.0",
     "model_name": "HBoxModel",
     "state": {
      "_dom_classes": [],
      "_model_module": "@jupyter-widgets/controls",
      "_model_module_version": "1.5.0",
      "_model_name": "HBoxModel",
      "_view_count": null,
      "_view_module": "@jupyter-widgets/controls",
      "_view_module_version": "1.5.0",
      "_view_name": "HBoxView",
      "box_style": "",
      "children": [
       "IPY_MODEL_507845ac270544d58bff69b383751e0f",
       "IPY_MODEL_da30313127ba42759825301b741377d4",
       "IPY_MODEL_1c5d3fff6be74fb6a68bd5255366efaf"
      ],
      "layout": "IPY_MODEL_ea9a1d770edf47afa2e86a12374c6186"
     }
    },
    "8e44403d79e7455886db29a13df6ab73": {
     "model_module": "@jupyter-widgets/controls",
     "model_module_version": "1.5.0",
     "model_name": "HTMLModel",
     "state": {
      "_dom_classes": [],
      "_model_module": "@jupyter-widgets/controls",
      "_model_module_version": "1.5.0",
      "_model_name": "HTMLModel",
      "_view_count": null,
      "_view_module": "@jupyter-widgets/controls",
      "_view_module_version": "1.5.0",
      "_view_name": "HTMLView",
      "description": "",
      "description_tooltip": null,
      "layout": "IPY_MODEL_ce793772c54a41798a09355254ea5150",
      "placeholder": "​",
      "style": "IPY_MODEL_fd5a5f6f7b7a4c28be738b0080098171",
      "value": " 3862/3862 [00:02&lt;00:00, 1761.57 examples/s]"
     }
    },
    "9200798c9ac946c3ac8547f31d7943db": {
     "model_module": "@jupyter-widgets/controls",
     "model_module_version": "1.5.0",
     "model_name": "DescriptionStyleModel",
     "state": {
      "_model_module": "@jupyter-widgets/controls",
      "_model_module_version": "1.5.0",
      "_model_name": "DescriptionStyleModel",
      "_view_count": null,
      "_view_module": "@jupyter-widgets/base",
      "_view_module_version": "1.2.0",
      "_view_name": "StyleView",
      "description_width": ""
     }
    },
    "94b83b23f34e4f84bcebe18de526c713": {
     "model_module": "@jupyter-widgets/controls",
     "model_module_version": "1.5.0",
     "model_name": "FloatProgressModel",
     "state": {
      "_dom_classes": [],
      "_model_module": "@jupyter-widgets/controls",
      "_model_module_version": "1.5.0",
      "_model_name": "FloatProgressModel",
      "_view_count": null,
      "_view_module": "@jupyter-widgets/controls",
      "_view_module_version": "1.5.0",
      "_view_name": "ProgressView",
      "bar_style": "success",
      "description": "",
      "description_tooltip": null,
      "layout": "IPY_MODEL_3ce5ee7330f84190a372d0aedf2b51ee",
      "max": 125,
      "min": 0,
      "orientation": "horizontal",
      "style": "IPY_MODEL_0c35bb1aa81e4bd78f0426055bdffaa0",
      "value": 125
     }
    },
    "95a27946c5e04099adfdcaf0e2005537": {
     "model_module": "@jupyter-widgets/controls",
     "model_module_version": "1.5.0",
     "model_name": "HBoxModel",
     "state": {
      "_dom_classes": [],
      "_model_module": "@jupyter-widgets/controls",
      "_model_module_version": "1.5.0",
      "_model_name": "HBoxModel",
      "_view_count": null,
      "_view_module": "@jupyter-widgets/controls",
      "_view_module_version": "1.5.0",
      "_view_name": "HBoxView",
      "box_style": "",
      "children": [
       "IPY_MODEL_46f08fabf18149b3ba17e126b93adffb",
       "IPY_MODEL_12cdd5e1b2794e2d8c421b1d0aa1a0c2",
       "IPY_MODEL_b11377ab36a94ab999644e818dbf93b3"
      ],
      "layout": "IPY_MODEL_08e462fe596444b98bdd0b53c56124a4"
     }
    },
    "9beff8b6db58476f9107f08ed699dd60": {
     "model_module": "@jupyter-widgets/controls",
     "model_module_version": "1.5.0",
     "model_name": "HTMLModel",
     "state": {
      "_dom_classes": [],
      "_model_module": "@jupyter-widgets/controls",
      "_model_module_version": "1.5.0",
      "_model_name": "HTMLModel",
      "_view_count": null,
      "_view_module": "@jupyter-widgets/controls",
      "_view_module_version": "1.5.0",
      "_view_name": "HTMLView",
      "description": "",
      "description_tooltip": null,
      "layout": "IPY_MODEL_6a9b262035e843fb9e45ab55b553d277",
      "placeholder": "​",
      "style": "IPY_MODEL_1771ecc140ab48b982df2c4b51183371",
      "value": " 2.92M/2.92M [00:00&lt;00:00, 9.09MB/s]"
     }
    },
    "9cb292516c894f51926d7bff09eb6433": {
     "model_module": "@jupyter-widgets/controls",
     "model_module_version": "1.5.0",
     "model_name": "DescriptionStyleModel",
     "state": {
      "_model_module": "@jupyter-widgets/controls",
      "_model_module_version": "1.5.0",
      "_model_name": "DescriptionStyleModel",
      "_view_count": null,
      "_view_module": "@jupyter-widgets/base",
      "_view_module_version": "1.2.0",
      "_view_name": "StyleView",
      "description_width": ""
     }
    },
    "9ff8b6bcd05f4884a6f3b45811ee3518": {
     "model_module": "@jupyter-widgets/controls",
     "model_module_version": "1.5.0",
     "model_name": "HBoxModel",
     "state": {
      "_dom_classes": [],
      "_model_module": "@jupyter-widgets/controls",
      "_model_module_version": "1.5.0",
      "_model_name": "HBoxModel",
      "_view_count": null,
      "_view_module": "@jupyter-widgets/controls",
      "_view_module_version": "1.5.0",
      "_view_name": "HBoxView",
      "box_style": "",
      "children": [
       "IPY_MODEL_4b3065f0369d47e5984e7e36974e8586",
       "IPY_MODEL_548eed9025a14001ba4c96c4652bfd2b",
       "IPY_MODEL_8e44403d79e7455886db29a13df6ab73"
      ],
      "layout": "IPY_MODEL_14f6566ae8b44d23b404f11955804f3f"
     }
    },
    "a3d2eed0c3db4ca18ffdeee96a361115": {
     "model_module": "@jupyter-widgets/controls",
     "model_module_version": "1.5.0",
     "model_name": "DescriptionStyleModel",
     "state": {
      "_model_module": "@jupyter-widgets/controls",
      "_model_module_version": "1.5.0",
      "_model_name": "DescriptionStyleModel",
      "_view_count": null,
      "_view_module": "@jupyter-widgets/base",
      "_view_module_version": "1.2.0",
      "_view_name": "StyleView",
      "description_width": ""
     }
    },
    "a65bb03e6c16467fb0583eb8e2b7df11": {
     "model_module": "@jupyter-widgets/base",
     "model_module_version": "1.2.0",
     "model_name": "LayoutModel",
     "state": {
      "_model_module": "@jupyter-widgets/base",
      "_model_module_version": "1.2.0",
      "_model_name": "LayoutModel",
      "_view_count": null,
      "_view_module": "@jupyter-widgets/base",
      "_view_module_version": "1.2.0",
      "_view_name": "LayoutView",
      "align_content": null,
      "align_items": null,
      "align_self": null,
      "border": null,
      "bottom": null,
      "display": null,
      "flex": null,
      "flex_flow": null,
      "grid_area": null,
      "grid_auto_columns": null,
      "grid_auto_flow": null,
      "grid_auto_rows": null,
      "grid_column": null,
      "grid_gap": null,
      "grid_row": null,
      "grid_template_areas": null,
      "grid_template_columns": null,
      "grid_template_rows": null,
      "height": null,
      "justify_content": null,
      "justify_items": null,
      "left": null,
      "margin": null,
      "max_height": null,
      "max_width": null,
      "min_height": null,
      "min_width": null,
      "object_fit": null,
      "object_position": null,
      "order": null,
      "overflow": null,
      "overflow_x": null,
      "overflow_y": null,
      "padding": null,
      "right": null,
      "top": null,
      "visibility": null,
      "width": null
     }
    },
    "a8b0b4a3b1824a4d9858a1974f973fe1": {
     "model_module": "@jupyter-widgets/controls",
     "model_module_version": "1.5.0",
     "model_name": "ProgressStyleModel",
     "state": {
      "_model_module": "@jupyter-widgets/controls",
      "_model_module_version": "1.5.0",
      "_model_name": "ProgressStyleModel",
      "_view_count": null,
      "_view_module": "@jupyter-widgets/base",
      "_view_module_version": "1.2.0",
      "_view_name": "StyleView",
      "bar_color": null,
      "description_width": ""
     }
    },
    "aa0cb87f31f64e17b135e2722e4df7a1": {
     "model_module": "@jupyter-widgets/controls",
     "model_module_version": "1.5.0",
     "model_name": "HBoxModel",
     "state": {
      "_dom_classes": [],
      "_model_module": "@jupyter-widgets/controls",
      "_model_module_version": "1.5.0",
      "_model_name": "HBoxModel",
      "_view_count": null,
      "_view_module": "@jupyter-widgets/controls",
      "_view_module_version": "1.5.0",
      "_view_name": "HBoxView",
      "box_style": "",
      "children": [
       "IPY_MODEL_0a683f28897a45c2af5117a8c95c7f66",
       "IPY_MODEL_75e43bee0e1e419585bed99bfd516234",
       "IPY_MODEL_9beff8b6db58476f9107f08ed699dd60"
      ],
      "layout": "IPY_MODEL_67e5ae477c984a4687ec1beb62726112"
     }
    },
    "aa718108aed84cb1aa1c7c09d0bd23a6": {
     "model_module": "@jupyter-widgets/controls",
     "model_module_version": "1.5.0",
     "model_name": "ProgressStyleModel",
     "state": {
      "_model_module": "@jupyter-widgets/controls",
      "_model_module_version": "1.5.0",
      "_model_name": "ProgressStyleModel",
      "_view_count": null,
      "_view_module": "@jupyter-widgets/base",
      "_view_module_version": "1.2.0",
      "_view_name": "StyleView",
      "bar_color": null,
      "description_width": ""
     }
    },
    "ae5c6ab462a24d518b6048e3ef1ff5f3": {
     "model_module": "@jupyter-widgets/controls",
     "model_module_version": "1.5.0",
     "model_name": "ProgressStyleModel",
     "state": {
      "_model_module": "@jupyter-widgets/controls",
      "_model_module_version": "1.5.0",
      "_model_name": "ProgressStyleModel",
      "_view_count": null,
      "_view_module": "@jupyter-widgets/base",
      "_view_module_version": "1.2.0",
      "_view_name": "StyleView",
      "bar_color": null,
      "description_width": ""
     }
    },
    "b11377ab36a94ab999644e818dbf93b3": {
     "model_module": "@jupyter-widgets/controls",
     "model_module_version": "1.5.0",
     "model_name": "HTMLModel",
     "state": {
      "_dom_classes": [],
      "_model_module": "@jupyter-widgets/controls",
      "_model_module_version": "1.5.0",
      "_model_name": "HTMLModel",
      "_view_count": null,
      "_view_module": "@jupyter-widgets/controls",
      "_view_module_version": "1.5.0",
      "_view_name": "HTMLView",
      "description": "",
      "description_tooltip": null,
      "layout": "IPY_MODEL_75acddd1983b4894903b27d28aa1c2e7",
      "placeholder": "​",
      "style": "IPY_MODEL_726177e4c3d04c2184cb6351084c6a77",
      "value": " 541M/541M [00:12&lt;00:00, 42.5MB/s]"
     }
    },
    "b6fa9e880a9b4120a7c1b93d45fe6a57": {
     "model_module": "@jupyter-widgets/controls",
     "model_module_version": "1.5.0",
     "model_name": "HTMLModel",
     "state": {
      "_dom_classes": [],
      "_model_module": "@jupyter-widgets/controls",
      "_model_module_version": "1.5.0",
      "_model_name": "HTMLModel",
      "_view_count": null,
      "_view_module": "@jupyter-widgets/controls",
      "_view_module_version": "1.5.0",
      "_view_name": "HTMLView",
      "description": "",
      "description_tooltip": null,
      "layout": "IPY_MODEL_37df2bf8007f44e5a3ffd9a76726226b",
      "placeholder": "​",
      "style": "IPY_MODEL_8c249f62e8c1456cb0caa03f65c2e15c",
      "value": " 508/508 [00:00&lt;00:00, 2.97kB/s]"
     }
    },
    "b972d854e08f4b17b934e1f5052e35e7": {
     "model_module": "@jupyter-widgets/base",
     "model_module_version": "1.2.0",
     "model_name": "LayoutModel",
     "state": {
      "_model_module": "@jupyter-widgets/base",
      "_model_module_version": "1.2.0",
      "_model_name": "LayoutModel",
      "_view_count": null,
      "_view_module": "@jupyter-widgets/base",
      "_view_module_version": "1.2.0",
      "_view_name": "LayoutView",
      "align_content": null,
      "align_items": null,
      "align_self": null,
      "border": null,
      "bottom": null,
      "display": null,
      "flex": null,
      "flex_flow": null,
      "grid_area": null,
      "grid_auto_columns": null,
      "grid_auto_flow": null,
      "grid_auto_rows": null,
      "grid_column": null,
      "grid_gap": null,
      "grid_row": null,
      "grid_template_areas": null,
      "grid_template_columns": null,
      "grid_template_rows": null,
      "height": null,
      "justify_content": null,
      "justify_items": null,
      "left": null,
      "margin": null,
      "max_height": null,
      "max_width": null,
      "min_height": null,
      "min_width": null,
      "object_fit": null,
      "object_position": null,
      "order": null,
      "overflow": null,
      "overflow_x": null,
      "overflow_y": null,
      "padding": null,
      "right": null,
      "top": null,
      "visibility": null,
      "width": null
     }
    },
    "ba5d8c04da424732b8e5c56f06c68ef5": {
     "model_module": "@jupyter-widgets/controls",
     "model_module_version": "1.5.0",
     "model_name": "ProgressStyleModel",
     "state": {
      "_model_module": "@jupyter-widgets/controls",
      "_model_module_version": "1.5.0",
      "_model_name": "ProgressStyleModel",
      "_view_count": null,
      "_view_module": "@jupyter-widgets/base",
      "_view_module_version": "1.2.0",
      "_view_name": "StyleView",
      "bar_color": null,
      "description_width": ""
     }
    },
    "badd00bb0bc44df19f3b81980930e7ca": {
     "model_module": "@jupyter-widgets/base",
     "model_module_version": "1.2.0",
     "model_name": "LayoutModel",
     "state": {
      "_model_module": "@jupyter-widgets/base",
      "_model_module_version": "1.2.0",
      "_model_name": "LayoutModel",
      "_view_count": null,
      "_view_module": "@jupyter-widgets/base",
      "_view_module_version": "1.2.0",
      "_view_name": "LayoutView",
      "align_content": null,
      "align_items": null,
      "align_self": null,
      "border": null,
      "bottom": null,
      "display": null,
      "flex": null,
      "flex_flow": null,
      "grid_area": null,
      "grid_auto_columns": null,
      "grid_auto_flow": null,
      "grid_auto_rows": null,
      "grid_column": null,
      "grid_gap": null,
      "grid_row": null,
      "grid_template_areas": null,
      "grid_template_columns": null,
      "grid_template_rows": null,
      "height": null,
      "justify_content": null,
      "justify_items": null,
      "left": null,
      "margin": null,
      "max_height": null,
      "max_width": null,
      "min_height": null,
      "min_width": null,
      "object_fit": null,
      "object_position": null,
      "order": null,
      "overflow": null,
      "overflow_x": null,
      "overflow_y": null,
      "padding": null,
      "right": null,
      "top": null,
      "visibility": null,
      "width": null
     }
    },
    "bc3eff33a9534865b2583cb30669436b": {
     "model_module": "@jupyter-widgets/controls",
     "model_module_version": "1.5.0",
     "model_name": "ProgressStyleModel",
     "state": {
      "_model_module": "@jupyter-widgets/controls",
      "_model_module_version": "1.5.0",
      "_model_name": "ProgressStyleModel",
      "_view_count": null,
      "_view_module": "@jupyter-widgets/base",
      "_view_module_version": "1.2.0",
      "_view_name": "StyleView",
      "bar_color": null,
      "description_width": ""
     }
    },
    "c2aea2703e214746920bf18610ac60ae": {
     "model_module": "@jupyter-widgets/base",
     "model_module_version": "1.2.0",
     "model_name": "LayoutModel",
     "state": {
      "_model_module": "@jupyter-widgets/base",
      "_model_module_version": "1.2.0",
      "_model_name": "LayoutModel",
      "_view_count": null,
      "_view_module": "@jupyter-widgets/base",
      "_view_module_version": "1.2.0",
      "_view_name": "LayoutView",
      "align_content": null,
      "align_items": null,
      "align_self": null,
      "border": null,
      "bottom": null,
      "display": null,
      "flex": null,
      "flex_flow": null,
      "grid_area": null,
      "grid_auto_columns": null,
      "grid_auto_flow": null,
      "grid_auto_rows": null,
      "grid_column": null,
      "grid_gap": null,
      "grid_row": null,
      "grid_template_areas": null,
      "grid_template_columns": null,
      "grid_template_rows": null,
      "height": null,
      "justify_content": null,
      "justify_items": null,
      "left": null,
      "margin": null,
      "max_height": null,
      "max_width": null,
      "min_height": null,
      "min_width": null,
      "object_fit": null,
      "object_position": null,
      "order": null,
      "overflow": null,
      "overflow_x": null,
      "overflow_y": null,
      "padding": null,
      "right": null,
      "top": null,
      "visibility": null,
      "width": null
     }
    },
    "c3054acd7a4140ed96ce038015abfe14": {
     "model_module": "@jupyter-widgets/base",
     "model_module_version": "1.2.0",
     "model_name": "LayoutModel",
     "state": {
      "_model_module": "@jupyter-widgets/base",
      "_model_module_version": "1.2.0",
      "_model_name": "LayoutModel",
      "_view_count": null,
      "_view_module": "@jupyter-widgets/base",
      "_view_module_version": "1.2.0",
      "_view_name": "LayoutView",
      "align_content": null,
      "align_items": null,
      "align_self": null,
      "border": null,
      "bottom": null,
      "display": null,
      "flex": null,
      "flex_flow": null,
      "grid_area": null,
      "grid_auto_columns": null,
      "grid_auto_flow": null,
      "grid_auto_rows": null,
      "grid_column": null,
      "grid_gap": null,
      "grid_row": null,
      "grid_template_areas": null,
      "grid_template_columns": null,
      "grid_template_rows": null,
      "height": null,
      "justify_content": null,
      "justify_items": null,
      "left": null,
      "margin": null,
      "max_height": null,
      "max_width": null,
      "min_height": null,
      "min_width": null,
      "object_fit": null,
      "object_position": null,
      "order": null,
      "overflow": null,
      "overflow_x": null,
      "overflow_y": null,
      "padding": null,
      "right": null,
      "top": null,
      "visibility": null,
      "width": null
     }
    },
    "ccfd97f0e43a42c58f8842cf09b7abab": {
     "model_module": "@jupyter-widgets/controls",
     "model_module_version": "1.5.0",
     "model_name": "HTMLModel",
     "state": {
      "_dom_classes": [],
      "_model_module": "@jupyter-widgets/controls",
      "_model_module_version": "1.5.0",
      "_model_name": "HTMLModel",
      "_view_count": null,
      "_view_module": "@jupyter-widgets/controls",
      "_view_module_version": "1.5.0",
      "_view_name": "HTMLView",
      "description": "",
      "description_tooltip": null,
      "layout": "IPY_MODEL_3f1e16be4ef944e78e4a248bbaaaa9c2",
      "placeholder": "​",
      "style": "IPY_MODEL_f019da9919024ba9843156b2f41b14de",
      "value": "tokenizer_config.json: 100%"
     }
    },
    "ce793772c54a41798a09355254ea5150": {
     "model_module": "@jupyter-widgets/base",
     "model_module_version": "1.2.0",
     "model_name": "LayoutModel",
     "state": {
      "_model_module": "@jupyter-widgets/base",
      "_model_module_version": "1.2.0",
      "_model_name": "LayoutModel",
      "_view_count": null,
      "_view_module": "@jupyter-widgets/base",
      "_view_module_version": "1.2.0",
      "_view_name": "LayoutView",
      "align_content": null,
      "align_items": null,
      "align_self": null,
      "border": null,
      "bottom": null,
      "display": null,
      "flex": null,
      "flex_flow": null,
      "grid_area": null,
      "grid_auto_columns": null,
      "grid_auto_flow": null,
      "grid_auto_rows": null,
      "grid_column": null,
      "grid_gap": null,
      "grid_row": null,
      "grid_template_areas": null,
      "grid_template_columns": null,
      "grid_template_rows": null,
      "height": null,
      "justify_content": null,
      "justify_items": null,
      "left": null,
      "margin": null,
      "max_height": null,
      "max_width": null,
      "min_height": null,
      "min_width": null,
      "object_fit": null,
      "object_position": null,
      "order": null,
      "overflow": null,
      "overflow_x": null,
      "overflow_y": null,
      "padding": null,
      "right": null,
      "top": null,
      "visibility": null,
      "width": null
     }
    },
    "d2c98ba4811f48ed94c98e348b34d16c": {
     "model_module": "@jupyter-widgets/base",
     "model_module_version": "1.2.0",
     "model_name": "LayoutModel",
     "state": {
      "_model_module": "@jupyter-widgets/base",
      "_model_module_version": "1.2.0",
      "_model_name": "LayoutModel",
      "_view_count": null,
      "_view_module": "@jupyter-widgets/base",
      "_view_module_version": "1.2.0",
      "_view_name": "LayoutView",
      "align_content": null,
      "align_items": null,
      "align_self": null,
      "border": null,
      "bottom": null,
      "display": null,
      "flex": null,
      "flex_flow": null,
      "grid_area": null,
      "grid_auto_columns": null,
      "grid_auto_flow": null,
      "grid_auto_rows": null,
      "grid_column": null,
      "grid_gap": null,
      "grid_row": null,
      "grid_template_areas": null,
      "grid_template_columns": null,
      "grid_template_rows": null,
      "height": null,
      "justify_content": null,
      "justify_items": null,
      "left": null,
      "margin": null,
      "max_height": null,
      "max_width": null,
      "min_height": null,
      "min_width": null,
      "object_fit": null,
      "object_position": null,
      "order": null,
      "overflow": null,
      "overflow_x": null,
      "overflow_y": null,
      "padding": null,
      "right": null,
      "top": null,
      "visibility": null,
      "width": null
     }
    },
    "d9c3615ab6244cf8b2143172e2160476": {
     "model_module": "@jupyter-widgets/base",
     "model_module_version": "1.2.0",
     "model_name": "LayoutModel",
     "state": {
      "_model_module": "@jupyter-widgets/base",
      "_model_module_version": "1.2.0",
      "_model_name": "LayoutModel",
      "_view_count": null,
      "_view_module": "@jupyter-widgets/base",
      "_view_module_version": "1.2.0",
      "_view_name": "LayoutView",
      "align_content": null,
      "align_items": null,
      "align_self": null,
      "border": null,
      "bottom": null,
      "display": null,
      "flex": null,
      "flex_flow": null,
      "grid_area": null,
      "grid_auto_columns": null,
      "grid_auto_flow": null,
      "grid_auto_rows": null,
      "grid_column": null,
      "grid_gap": null,
      "grid_row": null,
      "grid_template_areas": null,
      "grid_template_columns": null,
      "grid_template_rows": null,
      "height": null,
      "justify_content": null,
      "justify_items": null,
      "left": null,
      "margin": null,
      "max_height": null,
      "max_width": null,
      "min_height": null,
      "min_width": null,
      "object_fit": null,
      "object_position": null,
      "order": null,
      "overflow": null,
      "overflow_x": null,
      "overflow_y": null,
      "padding": null,
      "right": null,
      "top": null,
      "visibility": null,
      "width": null
     }
    },
    "da30313127ba42759825301b741377d4": {
     "model_module": "@jupyter-widgets/controls",
     "model_module_version": "1.5.0",
     "model_name": "FloatProgressModel",
     "state": {
      "_dom_classes": [],
      "_model_module": "@jupyter-widgets/controls",
      "_model_module_version": "1.5.0",
      "_model_name": "FloatProgressModel",
      "_view_count": null,
      "_view_module": "@jupyter-widgets/controls",
      "_view_module_version": "1.5.0",
      "_view_name": "ProgressView",
      "bar_style": "success",
      "description": "",
      "description_tooltip": null,
      "layout": "IPY_MODEL_50f6b71cf0e3479b8c25ba2f3c13afb9",
      "max": 995526,
      "min": 0,
      "orientation": "horizontal",
      "style": "IPY_MODEL_e226c10fe4834fbe8bf96a14133e3074",
      "value": 995526
     }
    },
    "dea4e85725b846d28be631b56a9a5454": {
     "model_module": "@jupyter-widgets/base",
     "model_module_version": "1.2.0",
     "model_name": "LayoutModel",
     "state": {
      "_model_module": "@jupyter-widgets/base",
      "_model_module_version": "1.2.0",
      "_model_name": "LayoutModel",
      "_view_count": null,
      "_view_module": "@jupyter-widgets/base",
      "_view_module_version": "1.2.0",
      "_view_name": "LayoutView",
      "align_content": null,
      "align_items": null,
      "align_self": null,
      "border": null,
      "bottom": null,
      "display": null,
      "flex": null,
      "flex_flow": null,
      "grid_area": null,
      "grid_auto_columns": null,
      "grid_auto_flow": null,
      "grid_auto_rows": null,
      "grid_column": null,
      "grid_gap": null,
      "grid_row": null,
      "grid_template_areas": null,
      "grid_template_columns": null,
      "grid_template_rows": null,
      "height": null,
      "justify_content": null,
      "justify_items": null,
      "left": null,
      "margin": null,
      "max_height": null,
      "max_width": null,
      "min_height": null,
      "min_width": null,
      "object_fit": null,
      "object_position": null,
      "order": null,
      "overflow": null,
      "overflow_x": null,
      "overflow_y": null,
      "padding": null,
      "right": null,
      "top": null,
      "visibility": null,
      "width": null
     }
    },
    "def29e082afa4929ad451c0edd79ba9c": {
     "model_module": "@jupyter-widgets/controls",
     "model_module_version": "1.5.0",
     "model_name": "DescriptionStyleModel",
     "state": {
      "_model_module": "@jupyter-widgets/controls",
      "_model_module_version": "1.5.0",
      "_model_name": "DescriptionStyleModel",
      "_view_count": null,
      "_view_module": "@jupyter-widgets/base",
      "_view_module_version": "1.2.0",
      "_view_name": "StyleView",
      "description_width": ""
     }
    },
    "e0589657d28e4571979a611d0a48d037": {
     "model_module": "@jupyter-widgets/base",
     "model_module_version": "1.2.0",
     "model_name": "LayoutModel",
     "state": {
      "_model_module": "@jupyter-widgets/base",
      "_model_module_version": "1.2.0",
      "_model_name": "LayoutModel",
      "_view_count": null,
      "_view_module": "@jupyter-widgets/base",
      "_view_module_version": "1.2.0",
      "_view_name": "LayoutView",
      "align_content": null,
      "align_items": null,
      "align_self": null,
      "border": null,
      "bottom": null,
      "display": null,
      "flex": null,
      "flex_flow": null,
      "grid_area": null,
      "grid_auto_columns": null,
      "grid_auto_flow": null,
      "grid_auto_rows": null,
      "grid_column": null,
      "grid_gap": null,
      "grid_row": null,
      "grid_template_areas": null,
      "grid_template_columns": null,
      "grid_template_rows": null,
      "height": null,
      "justify_content": null,
      "justify_items": null,
      "left": null,
      "margin": null,
      "max_height": null,
      "max_width": null,
      "min_height": null,
      "min_width": null,
      "object_fit": null,
      "object_position": null,
      "order": null,
      "overflow": null,
      "overflow_x": null,
      "overflow_y": null,
      "padding": null,
      "right": null,
      "top": null,
      "visibility": null,
      "width": null
     }
    },
    "e10cd5ed857840f1919e36a78c7ce6f7": {
     "model_module": "@jupyter-widgets/controls",
     "model_module_version": "1.5.0",
     "model_name": "FloatProgressModel",
     "state": {
      "_dom_classes": [],
      "_model_module": "@jupyter-widgets/controls",
      "_model_module_version": "1.5.0",
      "_model_name": "FloatProgressModel",
      "_view_count": null,
      "_view_module": "@jupyter-widgets/controls",
      "_view_module_version": "1.5.0",
      "_view_name": "ProgressView",
      "bar_style": "success",
      "description": "",
      "description_tooltip": null,
      "layout": "IPY_MODEL_eb34c6dbfa554390853b1cc294fae913",
      "max": 1228,
      "min": 0,
      "orientation": "horizontal",
      "style": "IPY_MODEL_ba5d8c04da424732b8e5c56f06c68ef5",
      "value": 1228
     }
    },
    "e226c10fe4834fbe8bf96a14133e3074": {
     "model_module": "@jupyter-widgets/controls",
     "model_module_version": "1.5.0",
     "model_name": "ProgressStyleModel",
     "state": {
      "_model_module": "@jupyter-widgets/controls",
      "_model_module_version": "1.5.0",
      "_model_name": "ProgressStyleModel",
      "_view_count": null,
      "_view_module": "@jupyter-widgets/base",
      "_view_module_version": "1.2.0",
      "_view_name": "StyleView",
      "bar_color": null,
      "description_width": ""
     }
    },
    "e4f91e4f8baa445fadc3080c1826af7e": {
     "model_module": "@jupyter-widgets/base",
     "model_module_version": "1.2.0",
     "model_name": "LayoutModel",
     "state": {
      "_model_module": "@jupyter-widgets/base",
      "_model_module_version": "1.2.0",
      "_model_name": "LayoutModel",
      "_view_count": null,
      "_view_module": "@jupyter-widgets/base",
      "_view_module_version": "1.2.0",
      "_view_name": "LayoutView",
      "align_content": null,
      "align_items": null,
      "align_self": null,
      "border": null,
      "bottom": null,
      "display": null,
      "flex": null,
      "flex_flow": null,
      "grid_area": null,
      "grid_auto_columns": null,
      "grid_auto_flow": null,
      "grid_auto_rows": null,
      "grid_column": null,
      "grid_gap": null,
      "grid_row": null,
      "grid_template_areas": null,
      "grid_template_columns": null,
      "grid_template_rows": null,
      "height": null,
      "justify_content": null,
      "justify_items": null,
      "left": null,
      "margin": null,
      "max_height": null,
      "max_width": null,
      "min_height": null,
      "min_width": null,
      "object_fit": null,
      "object_position": null,
      "order": null,
      "overflow": null,
      "overflow_x": null,
      "overflow_y": null,
      "padding": null,
      "right": null,
      "top": null,
      "visibility": null,
      "width": null
     }
    },
    "e9be82c27ead4fa9b12c4476df67f5cc": {
     "model_module": "@jupyter-widgets/controls",
     "model_module_version": "1.5.0",
     "model_name": "FloatProgressModel",
     "state": {
      "_dom_classes": [],
      "_model_module": "@jupyter-widgets/controls",
      "_model_module_version": "1.5.0",
      "_model_name": "FloatProgressModel",
      "_view_count": null,
      "_view_module": "@jupyter-widgets/controls",
      "_view_module_version": "1.5.0",
      "_view_name": "ProgressView",
      "bar_style": "success",
      "description": "",
      "description_tooltip": null,
      "layout": "IPY_MODEL_3b5d4521828b419fbdcabed7c62ebb9b",
      "max": 661,
      "min": 0,
      "orientation": "horizontal",
      "style": "IPY_MODEL_0618104ba39a4c16a5e1517c1fdc0956",
      "value": 661
     }
    },
    "ea9a1d770edf47afa2e86a12374c6186": {
     "model_module": "@jupyter-widgets/base",
     "model_module_version": "1.2.0",
     "model_name": "LayoutModel",
     "state": {
      "_model_module": "@jupyter-widgets/base",
      "_model_module_version": "1.2.0",
      "_model_name": "LayoutModel",
      "_view_count": null,
      "_view_module": "@jupyter-widgets/base",
      "_view_module_version": "1.2.0",
      "_view_name": "LayoutView",
      "align_content": null,
      "align_items": null,
      "align_self": null,
      "border": null,
      "bottom": null,
      "display": null,
      "flex": null,
      "flex_flow": null,
      "grid_area": null,
      "grid_auto_columns": null,
      "grid_auto_flow": null,
      "grid_auto_rows": null,
      "grid_column": null,
      "grid_gap": null,
      "grid_row": null,
      "grid_template_areas": null,
      "grid_template_columns": null,
      "grid_template_rows": null,
      "height": null,
      "justify_content": null,
      "justify_items": null,
      "left": null,
      "margin": null,
      "max_height": null,
      "max_width": null,
      "min_height": null,
      "min_width": null,
      "object_fit": null,
      "object_position": null,
      "order": null,
      "overflow": null,
      "overflow_x": null,
      "overflow_y": null,
      "padding": null,
      "right": null,
      "top": null,
      "visibility": null,
      "width": null
     }
    },
    "eaa2f25caa85414fb4ce9266b8bcdd09": {
     "model_module": "@jupyter-widgets/base",
     "model_module_version": "1.2.0",
     "model_name": "LayoutModel",
     "state": {
      "_model_module": "@jupyter-widgets/base",
      "_model_module_version": "1.2.0",
      "_model_name": "LayoutModel",
      "_view_count": null,
      "_view_module": "@jupyter-widgets/base",
      "_view_module_version": "1.2.0",
      "_view_name": "LayoutView",
      "align_content": null,
      "align_items": null,
      "align_self": null,
      "border": null,
      "bottom": null,
      "display": null,
      "flex": null,
      "flex_flow": null,
      "grid_area": null,
      "grid_auto_columns": null,
      "grid_auto_flow": null,
      "grid_auto_rows": null,
      "grid_column": null,
      "grid_gap": null,
      "grid_row": null,
      "grid_template_areas": null,
      "grid_template_columns": null,
      "grid_template_rows": null,
      "height": null,
      "justify_content": null,
      "justify_items": null,
      "left": null,
      "margin": null,
      "max_height": null,
      "max_width": null,
      "min_height": null,
      "min_width": null,
      "object_fit": null,
      "object_position": null,
      "order": null,
      "overflow": null,
      "overflow_x": null,
      "overflow_y": null,
      "padding": null,
      "right": null,
      "top": null,
      "visibility": null,
      "width": null
     }
    },
    "eb34c6dbfa554390853b1cc294fae913": {
     "model_module": "@jupyter-widgets/base",
     "model_module_version": "1.2.0",
     "model_name": "LayoutModel",
     "state": {
      "_model_module": "@jupyter-widgets/base",
      "_model_module_version": "1.2.0",
      "_model_name": "LayoutModel",
      "_view_count": null,
      "_view_module": "@jupyter-widgets/base",
      "_view_module_version": "1.2.0",
      "_view_name": "LayoutView",
      "align_content": null,
      "align_items": null,
      "align_self": null,
      "border": null,
      "bottom": null,
      "display": null,
      "flex": null,
      "flex_flow": null,
      "grid_area": null,
      "grid_auto_columns": null,
      "grid_auto_flow": null,
      "grid_auto_rows": null,
      "grid_column": null,
      "grid_gap": null,
      "grid_row": null,
      "grid_template_areas": null,
      "grid_template_columns": null,
      "grid_template_rows": null,
      "height": null,
      "justify_content": null,
      "justify_items": null,
      "left": null,
      "margin": null,
      "max_height": null,
      "max_width": null,
      "min_height": null,
      "min_width": null,
      "object_fit": null,
      "object_position": null,
      "order": null,
      "overflow": null,
      "overflow_x": null,
      "overflow_y": null,
      "padding": null,
      "right": null,
      "top": null,
      "visibility": null,
      "width": null
     }
    },
    "f019da9919024ba9843156b2f41b14de": {
     "model_module": "@jupyter-widgets/controls",
     "model_module_version": "1.5.0",
     "model_name": "DescriptionStyleModel",
     "state": {
      "_model_module": "@jupyter-widgets/controls",
      "_model_module_version": "1.5.0",
      "_model_name": "DescriptionStyleModel",
      "_view_count": null,
      "_view_module": "@jupyter-widgets/base",
      "_view_module_version": "1.2.0",
      "_view_name": "StyleView",
      "description_width": ""
     }
    },
    "f0ea2d40188d49ee824be80fc38933e3": {
     "model_module": "@jupyter-widgets/base",
     "model_module_version": "1.2.0",
     "model_name": "LayoutModel",
     "state": {
      "_model_module": "@jupyter-widgets/base",
      "_model_module_version": "1.2.0",
      "_model_name": "LayoutModel",
      "_view_count": null,
      "_view_module": "@jupyter-widgets/base",
      "_view_module_version": "1.2.0",
      "_view_name": "LayoutView",
      "align_content": null,
      "align_items": null,
      "align_self": null,
      "border": null,
      "bottom": null,
      "display": null,
      "flex": null,
      "flex_flow": null,
      "grid_area": null,
      "grid_auto_columns": null,
      "grid_auto_flow": null,
      "grid_auto_rows": null,
      "grid_column": null,
      "grid_gap": null,
      "grid_row": null,
      "grid_template_areas": null,
      "grid_template_columns": null,
      "grid_template_rows": null,
      "height": null,
      "justify_content": null,
      "justify_items": null,
      "left": null,
      "margin": null,
      "max_height": null,
      "max_width": null,
      "min_height": null,
      "min_width": null,
      "object_fit": null,
      "object_position": null,
      "order": null,
      "overflow": null,
      "overflow_x": null,
      "overflow_y": null,
      "padding": null,
      "right": null,
      "top": null,
      "visibility": null,
      "width": null
     }
    },
    "f9b1eadd019a4565b3d16860637f6e38": {
     "model_module": "@jupyter-widgets/controls",
     "model_module_version": "1.5.0",
     "model_name": "DescriptionStyleModel",
     "state": {
      "_model_module": "@jupyter-widgets/controls",
      "_model_module_version": "1.5.0",
      "_model_name": "DescriptionStyleModel",
      "_view_count": null,
      "_view_module": "@jupyter-widgets/base",
      "_view_module_version": "1.2.0",
      "_view_name": "StyleView",
      "description_width": ""
     }
    },
    "fa48374938b94cb4b1d644d5a7b524ee": {
     "model_module": "@jupyter-widgets/controls",
     "model_module_version": "1.5.0",
     "model_name": "FloatProgressModel",
     "state": {
      "_dom_classes": [],
      "_model_module": "@jupyter-widgets/controls",
      "_model_module_version": "1.5.0",
      "_model_name": "FloatProgressModel",
      "_view_count": null,
      "_view_module": "@jupyter-widgets/controls",
      "_view_module_version": "1.5.0",
      "_view_name": "ProgressView",
      "bar_style": "success",
      "description": "",
      "description_tooltip": null,
      "layout": "IPY_MODEL_b972d854e08f4b17b934e1f5052e35e7",
      "max": 508,
      "min": 0,
      "orientation": "horizontal",
      "style": "IPY_MODEL_367fd4daf0864ab7b8c9115f2ca2e25f",
      "value": 508
     }
    },
    "fd5a5f6f7b7a4c28be738b0080098171": {
     "model_module": "@jupyter-widgets/controls",
     "model_module_version": "1.5.0",
     "model_name": "DescriptionStyleModel",
     "state": {
      "_model_module": "@jupyter-widgets/controls",
      "_model_module_version": "1.5.0",
      "_model_name": "DescriptionStyleModel",
      "_view_count": null,
      "_view_module": "@jupyter-widgets/base",
      "_view_module_version": "1.2.0",
      "_view_name": "StyleView",
      "description_width": ""
     }
    },
    "fda77a70479546d397f5407d6d819024": {
     "model_module": "@jupyter-widgets/base",
     "model_module_version": "1.2.0",
     "model_name": "LayoutModel",
     "state": {
      "_model_module": "@jupyter-widgets/base",
      "_model_module_version": "1.2.0",
      "_model_name": "LayoutModel",
      "_view_count": null,
      "_view_module": "@jupyter-widgets/base",
      "_view_module_version": "1.2.0",
      "_view_name": "LayoutView",
      "align_content": null,
      "align_items": null,
      "align_self": null,
      "border": null,
      "bottom": null,
      "display": null,
      "flex": null,
      "flex_flow": null,
      "grid_area": null,
      "grid_auto_columns": null,
      "grid_auto_flow": null,
      "grid_auto_rows": null,
      "grid_column": null,
      "grid_gap": null,
      "grid_row": null,
      "grid_template_areas": null,
      "grid_template_columns": null,
      "grid_template_rows": null,
      "height": null,
      "justify_content": null,
      "justify_items": null,
      "left": null,
      "margin": null,
      "max_height": null,
      "max_width": null,
      "min_height": null,
      "min_width": null,
      "object_fit": null,
      "object_position": null,
      "order": null,
      "overflow": null,
      "overflow_x": null,
      "overflow_y": null,
      "padding": null,
      "right": null,
      "top": null,
      "visibility": null,
      "width": null
     }
    },
    "ff981b633e034d438e1169656c537110": {
     "model_module": "@jupyter-widgets/controls",
     "model_module_version": "1.5.0",
     "model_name": "DescriptionStyleModel",
     "state": {
      "_model_module": "@jupyter-widgets/controls",
      "_model_module_version": "1.5.0",
      "_model_name": "DescriptionStyleModel",
      "_view_count": null,
      "_view_module": "@jupyter-widgets/base",
      "_view_module_version": "1.2.0",
      "_view_name": "StyleView",
      "description_width": ""
     }
    }
   }
  }
 },
 "nbformat": 4,
 "nbformat_minor": 4
}
