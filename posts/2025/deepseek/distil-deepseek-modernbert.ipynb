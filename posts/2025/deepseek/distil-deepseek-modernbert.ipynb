{
 "cells": [
  {
   "cell_type": "markdown",
   "metadata": {},
   "source": [
    "---\n",
    "title: \"Distiling DeepSeek reasoning to ModernBERT classifiers\"\n",
    "description: \"How can we use the reasoning ability of DeepSeek to generate synthetic labels for fine tuning a ModernBERT model?\"\n",
    "author: \"Daniel van Strien\"\n",
    "date: \"2025-01-29\"\n",
    "categories: [\"huggingface\", \"datasets\", \"arxiv\", \"synthetic-data\", \"deepseek\"]\n",
    "image: https://github.com/davanstrien/blog/raw/refs/heads/main/posts/2025/modern-bert-sythetic-labels/bert-illustration.webp\n",
    "twitter-card:\n",
    "  title: \"Distiling DeepSeek reasoning to ModernBERT classifiers\"\n",
    "  description: \"How can we use the reasoning ability of DeepSeek to generate synthetic labels for fine tuning a ModernBERT model?\"\n",
    "  image: https://github.com/davanstrien/blog/raw/refs/heads/main/posts/2025/modern-bert-sythetic-labels/bert-illustration.webp\n",
    "  card-style: summary_large_image\n",
    "open-graph:\n",
    "  title: \"Distiling DeepSeek reasoning to ModernBERT classifiers\"\n",
    "  description: \"How can we use the reasoning ability of DeepSeek to generate synthetic labels for fine tuning a ModernBERT model?\"\n",
    "  image: https://github.com/davanstrien/blog/raw/refs/heads/main/posts/2025/modern-bert-sythetic-labels/bert-illustration.webp\n",
    "toc-depth: 3\n",
    "toc: true\n",
    "---"
   ]
  },
  {
   "cell_type": "code",
   "execution_count": 1,
   "metadata": {
    "colab": {
     "base_uri": "https://localhost:8080/"
    },
    "id": "o3yCFlAs0JWM",
    "outputId": "84e901c8-04fc-4812-affb-5b4d269fb407"
   },
   "outputs": [
    {
     "name": "stdout",
     "output_type": "stream",
     "text": [
      "Requirement already satisfied: polars in /Users/davanstrien/Documents/daniel/blog/.venv/lib/python3.11/site-packages (1.20.0)\n",
      "Collecting polars\n",
      "  Downloading polars-1.21.0-cp39-abi3-macosx_11_0_arm64.whl.metadata (14 kB)\n",
      "Requirement already satisfied: huggingface_hub in /Users/davanstrien/Documents/daniel/blog/.venv/lib/python3.11/site-packages (0.27.1)\n",
      "Requirement already satisfied: datasets in /Users/davanstrien/Documents/daniel/blog/.venv/lib/python3.11/site-packages (3.2.0)\n",
      "Requirement already satisfied: openai in /Users/davanstrien/Documents/daniel/blog/.venv/lib/python3.11/site-packages (1.60.0)\n",
      "Collecting openai\n",
      "  Downloading openai-1.60.1-py3-none-any.whl.metadata (27 kB)\n",
      "Requirement already satisfied: filelock in /Users/davanstrien/Documents/daniel/blog/.venv/lib/python3.11/site-packages (from huggingface_hub) (3.16.1)\n",
      "Requirement already satisfied: fsspec>=2023.5.0 in /Users/davanstrien/Documents/daniel/blog/.venv/lib/python3.11/site-packages (from huggingface_hub) (2024.9.0)\n",
      "Requirement already satisfied: packaging>=20.9 in /Users/davanstrien/Documents/daniel/blog/.venv/lib/python3.11/site-packages (from huggingface_hub) (24.2)\n",
      "Requirement already satisfied: pyyaml>=5.1 in /Users/davanstrien/Documents/daniel/blog/.venv/lib/python3.11/site-packages (from huggingface_hub) (6.0.2)\n",
      "Requirement already satisfied: requests in /Users/davanstrien/Documents/daniel/blog/.venv/lib/python3.11/site-packages (from huggingface_hub) (2.32.3)\n",
      "Requirement already satisfied: tqdm>=4.42.1 in /Users/davanstrien/Documents/daniel/blog/.venv/lib/python3.11/site-packages (from huggingface_hub) (4.67.1)\n",
      "Requirement already satisfied: typing-extensions>=3.7.4.3 in /Users/davanstrien/Documents/daniel/blog/.venv/lib/python3.11/site-packages (from huggingface_hub) (4.12.2)\n",
      "Requirement already satisfied: numpy>=1.17 in /Users/davanstrien/Documents/daniel/blog/.venv/lib/python3.11/site-packages (from datasets) (1.26.4)\n",
      "Requirement already satisfied: pyarrow>=15.0.0 in /Users/davanstrien/Documents/daniel/blog/.venv/lib/python3.11/site-packages (from datasets) (18.1.0)\n",
      "Requirement already satisfied: dill<0.3.9,>=0.3.0 in /Users/davanstrien/Documents/daniel/blog/.venv/lib/python3.11/site-packages (from datasets) (0.3.8)\n",
      "Requirement already satisfied: pandas in /Users/davanstrien/Documents/daniel/blog/.venv/lib/python3.11/site-packages (from datasets) (2.2.3)\n",
      "Requirement already satisfied: xxhash in /Users/davanstrien/Documents/daniel/blog/.venv/lib/python3.11/site-packages (from datasets) (3.5.0)\n",
      "Requirement already satisfied: multiprocess<0.70.17 in /Users/davanstrien/Documents/daniel/blog/.venv/lib/python3.11/site-packages (from datasets) (0.70.16)\n",
      "Requirement already satisfied: aiohttp in /Users/davanstrien/Documents/daniel/blog/.venv/lib/python3.11/site-packages (from datasets) (3.11.11)\n",
      "Requirement already satisfied: anyio<5,>=3.5.0 in /Users/davanstrien/Documents/daniel/blog/.venv/lib/python3.11/site-packages (from openai) (4.6.2.post1)\n",
      "Requirement already satisfied: distro<2,>=1.7.0 in /Users/davanstrien/Documents/daniel/blog/.venv/lib/python3.11/site-packages (from openai) (1.9.0)\n",
      "Requirement already satisfied: httpx<1,>=0.23.0 in /Users/davanstrien/Documents/daniel/blog/.venv/lib/python3.11/site-packages (from openai) (0.27.2)\n",
      "Requirement already satisfied: jiter<1,>=0.4.0 in /Users/davanstrien/Documents/daniel/blog/.venv/lib/python3.11/site-packages (from openai) (0.6.1)\n",
      "Requirement already satisfied: pydantic<3,>=1.9.0 in /Users/davanstrien/Documents/daniel/blog/.venv/lib/python3.11/site-packages (from openai) (2.10.4)\n",
      "Requirement already satisfied: sniffio in /Users/davanstrien/Documents/daniel/blog/.venv/lib/python3.11/site-packages (from openai) (1.3.1)\n",
      "Requirement already satisfied: idna>=2.8 in /Users/davanstrien/Documents/daniel/blog/.venv/lib/python3.11/site-packages (from anyio<5,>=3.5.0->openai) (3.10)\n",
      "Requirement already satisfied: aiohappyeyeballs>=2.3.0 in /Users/davanstrien/Documents/daniel/blog/.venv/lib/python3.11/site-packages (from aiohttp->datasets) (2.4.4)\n",
      "Requirement already satisfied: aiosignal>=1.1.2 in /Users/davanstrien/Documents/daniel/blog/.venv/lib/python3.11/site-packages (from aiohttp->datasets) (1.3.2)\n",
      "Requirement already satisfied: attrs>=17.3.0 in /Users/davanstrien/Documents/daniel/blog/.venv/lib/python3.11/site-packages (from aiohttp->datasets) (24.3.0)\n",
      "Requirement already satisfied: frozenlist>=1.1.1 in /Users/davanstrien/Documents/daniel/blog/.venv/lib/python3.11/site-packages (from aiohttp->datasets) (1.5.0)\n",
      "Requirement already satisfied: multidict<7.0,>=4.5 in /Users/davanstrien/Documents/daniel/blog/.venv/lib/python3.11/site-packages (from aiohttp->datasets) (6.1.0)\n",
      "Requirement already satisfied: propcache>=0.2.0 in /Users/davanstrien/Documents/daniel/blog/.venv/lib/python3.11/site-packages (from aiohttp->datasets) (0.2.1)\n",
      "Requirement already satisfied: yarl<2.0,>=1.17.0 in /Users/davanstrien/Documents/daniel/blog/.venv/lib/python3.11/site-packages (from aiohttp->datasets) (1.18.3)\n",
      "Requirement already satisfied: certifi in /Users/davanstrien/Documents/daniel/blog/.venv/lib/python3.11/site-packages (from httpx<1,>=0.23.0->openai) (2024.12.14)\n",
      "Requirement already satisfied: httpcore==1.* in /Users/davanstrien/Documents/daniel/blog/.venv/lib/python3.11/site-packages (from httpx<1,>=0.23.0->openai) (1.0.6)\n",
      "Requirement already satisfied: h11<0.15,>=0.13 in /Users/davanstrien/Documents/daniel/blog/.venv/lib/python3.11/site-packages (from httpcore==1.*->httpx<1,>=0.23.0->openai) (0.14.0)\n",
      "Requirement already satisfied: annotated-types>=0.6.0 in /Users/davanstrien/Documents/daniel/blog/.venv/lib/python3.11/site-packages (from pydantic<3,>=1.9.0->openai) (0.7.0)\n",
      "Requirement already satisfied: pydantic-core==2.27.2 in /Users/davanstrien/Documents/daniel/blog/.venv/lib/python3.11/site-packages (from pydantic<3,>=1.9.0->openai) (2.27.2)\n",
      "Requirement already satisfied: charset-normalizer<4,>=2 in /Users/davanstrien/Documents/daniel/blog/.venv/lib/python3.11/site-packages (from requests->huggingface_hub) (3.4.1)\n",
      "Requirement already satisfied: urllib3<3,>=1.21.1 in /Users/davanstrien/Documents/daniel/blog/.venv/lib/python3.11/site-packages (from requests->huggingface_hub) (2.3.0)\n",
      "Requirement already satisfied: python-dateutil>=2.8.2 in /Users/davanstrien/Documents/daniel/blog/.venv/lib/python3.11/site-packages (from pandas->datasets) (2.9.0.post0)\n",
      "Requirement already satisfied: pytz>=2020.1 in /Users/davanstrien/Documents/daniel/blog/.venv/lib/python3.11/site-packages (from pandas->datasets) (2024.2)\n",
      "Requirement already satisfied: tzdata>=2022.7 in /Users/davanstrien/Documents/daniel/blog/.venv/lib/python3.11/site-packages (from pandas->datasets) (2024.2)\n",
      "Requirement already satisfied: six>=1.5 in /Users/davanstrien/Documents/daniel/blog/.venv/lib/python3.11/site-packages (from python-dateutil>=2.8.2->pandas->datasets) (1.17.0)\n",
      "Downloading polars-1.21.0-cp39-abi3-macosx_11_0_arm64.whl (28.0 MB)\n",
      "\u001b[2K   \u001b[90m━━━━━━━━━━━━━━━━━━━━━━━━━━━━━━━━━━━━━━━━\u001b[0m \u001b[32m28.0/28.0 MB\u001b[0m \u001b[31m51.7 MB/s\u001b[0m eta \u001b[36m0:00:00\u001b[0m00:01\u001b[0m00:01\u001b[0m\n",
      "\u001b[?25hDownloading openai-1.60.1-py3-none-any.whl (456 kB)\n",
      "Installing collected packages: polars, openai\n",
      "  Attempting uninstall: polars\n",
      "    Found existing installation: polars 1.20.0\n",
      "    Uninstalling polars-1.20.0:\n",
      "      Successfully uninstalled polars-1.20.0\n",
      "  Attempting uninstall: openai\n",
      "    Found existing installation: openai 1.60.0\n",
      "    Uninstalling openai-1.60.0:\n",
      "      Successfully uninstalled openai-1.60.0\n",
      "Successfully installed openai-1.60.1 polars-1.21.0\n",
      "Note: you may need to restart the kernel to use updated packages.\n"
     ]
    }
   ],
   "source": [
    "# | output: false\n",
    "%pip install polars huggingface_hub datasets openai --upgrade"
   ]
  },
  {
   "cell_type": "markdown",
   "metadata": {},
   "source": [
    "## How can we get the best of both worlds?\n",
    "\n",
    "tl;dr, how can we use LLMs to generate labels to fine-tune a ModernBERT model?\n",
    "\n",
    "It's fair to say that [DeepSeek-R1](https://huggingface.co/deepseek-ai/DeepSeek-R1) has made quite an impact in the last few weeks. It's a powerful reasoning model that excels at many tasks that require reasoning. One particularly exciting aspect of the release of this model, though, is the distilled versions of the model. These models are much smaller but still retain a lot of the reasoning ability of the larger models.\n",
    "\n",
    "### Classification often requires reasoning\n",
    "\n",
    "While the interest in reasoning models often focs on use cases like mathematics and coding, there are many other use cases where reasoning can be helpful. One example is classification. Although some classification problems are very simple and mostly require \"pattern matching,\" there are many other problems where reasoning is needed. This is where a reasoning model could be helpful. \n",
    "\n",
    "### Can we distil even smaller models?\n",
    "\n",
    "While the distilled models are fairly small (the smallest is 1.5B), we may still prefer to have an even smaller model for many use cases. If you can remember all the way back to December 2024, the ModernBERT release introduced a new BERT model, which is a good candidate for this kind of efficient classification use case. The main challenge is that in order to train a classifier, we need labeled data. This is where we can use a reasoning model to generate synthetic labels."
   ]
  },
  {
   "cell_type": "markdown",
   "metadata": {},
   "source": [
    "## The use case: classifying ArXiv papers that introduce a newly created dataset\n",
    "\n",
    "As the Machine Learning Librarian at Hugging Face, I want to keep track of new datasets being shared on ArXiv. While you can search for \"dataset\" or \"benchmark\" in the title or abstract, this returns any papers that mention datasets or benchmarks. I'm only interested in papers that introduce a newly created dataset. \n",
    "\n",
    "\n",
    "So the goal is to give an article to classify into whether it introduces a newly created dataset.\n",
    "\n",
    "I'll use Polars to load the ArXiv dataset from the Hub, but you can use whichever data tool you want."
   ]
  },
  {
   "cell_type": "markdown",
   "metadata": {},
   "source": [
    "::: {.callout-note}\n",
    "Feel free to skip this section if you are not interested in the use case and just want to see how to do the labelling part.\n",
    ":::"
   ]
  },
  {
   "cell_type": "code",
   "execution_count": 2,
   "metadata": {
    "id": "uUaKolSNyppl"
   },
   "outputs": [],
   "source": [
    "import os\n",
    "import polars as pl\n",
    "from huggingface_hub import snapshot_download\n",
    "\n",
    "os.environ[\"HF_HUB_ENABLE_HF_TRANSFER\"] = \"1\"  # turn on HF_TRANSFER"
   ]
  },
  {
   "cell_type": "code",
   "execution_count": 3,
   "metadata": {},
   "outputs": [],
   "source": [
    "files = snapshot_download(\n",
    "    repo_id=\"librarian-bots/arxiv-metadata-snapshot\",\n",
    "    allow_patterns=[\"*.parquet\"],\n",
    "    repo_type=\"dataset\",\n",
    ")"
   ]
  },
  {
   "cell_type": "code",
   "execution_count": 4,
   "metadata": {},
   "outputs": [],
   "source": [
    "df = pl.scan_parquet(files)"
   ]
  },
  {
   "cell_type": "markdown",
   "metadata": {},
   "source": [
    "Let's look at the first row. We see a bunch of metadata about the paper and then the title and abstract. These are probably the column we'll want to use as input for our model.\n"
   ]
  },
  {
   "cell_type": "code",
   "execution_count": 5,
   "metadata": {
    "id": "CTxkzAIKAdS2"
   },
   "outputs": [
    {
     "data": {
      "text/html": [
       "<div><style>\n",
       ".dataframe > thead > tr,\n",
       ".dataframe > tbody > tr {\n",
       "  text-align: right;\n",
       "  white-space: pre-wrap;\n",
       "}\n",
       "</style>\n",
       "<small>shape: (1, 14)</small><table border=\"1\" class=\"dataframe\"><thead><tr><th>id</th><th>submitter</th><th>authors</th><th>title</th><th>comments</th><th>journal-ref</th><th>doi</th><th>report-no</th><th>categories</th><th>license</th><th>abstract</th><th>versions</th><th>update_date</th><th>authors_parsed</th></tr><tr><td>str</td><td>str</td><td>str</td><td>str</td><td>str</td><td>str</td><td>str</td><td>str</td><td>str</td><td>str</td><td>str</td><td>list[struct[2]]</td><td>datetime[ms]</td><td>list[list[str]]</td></tr></thead><tbody><tr><td>&quot;1004.3702&quot;</td><td>&quot;Lizhi Du&quot;</td><td>&quot;Lizhi Du&quot;</td><td>&quot;A Polynomial time Algorithm fo…</td><td>&quot;26 pages. This time, I add a d…</td><td>null</td><td>null</td><td>null</td><td>&quot;cs.DS&quot;</td><td>&quot;http://arxiv.org/licenses/none…</td><td>&quot;&nbsp;&nbsp;Based on the famous Rotation…</td><td>[{&quot;v1&quot;,&quot;Mon, 12 Apr 2010 04:39:27 GMT&quot;}, {&quot;v10&quot;,&quot;Mon, 5 Nov 2012 01:44:46 GMT&quot;}, … {&quot;v9&quot;,&quot;Wed, 29 Aug 2012 06:39:31 GMT&quot;}]</td><td>2025-01-24 00:00:00</td><td>[[&quot;Du&quot;, &quot;Lizhi&quot;, &quot;&quot;]]</td></tr></tbody></table></div>"
      ],
      "text/plain": [
       "shape: (1, 14)\n",
       "┌───────────┬───────────┬──────────┬───────────┬───┬───────────┬───────────┬───────────┬───────────┐\n",
       "│ id        ┆ submitter ┆ authors  ┆ title     ┆ … ┆ abstract  ┆ versions  ┆ update_da ┆ authors_p │\n",
       "│ ---       ┆ ---       ┆ ---      ┆ ---       ┆   ┆ ---       ┆ ---       ┆ te        ┆ arsed     │\n",
       "│ str       ┆ str       ┆ str      ┆ str       ┆   ┆ str       ┆ list[stru ┆ ---       ┆ ---       │\n",
       "│           ┆           ┆          ┆           ┆   ┆           ┆ ct[2]]    ┆ datetime[ ┆ list[list │\n",
       "│           ┆           ┆          ┆           ┆   ┆           ┆           ┆ ms]       ┆ [str]]    │\n",
       "╞═══════════╪═══════════╪══════════╪═══════════╪═══╪═══════════╪═══════════╪═══════════╪═══════════╡\n",
       "│ 1004.3702 ┆ Lizhi Du  ┆ Lizhi Du ┆ A Polynom ┆ … ┆ Based on  ┆ [{\"v1\",\"M ┆ 2025-01-2 ┆ [[\"Du\",   │\n",
       "│           ┆           ┆          ┆ ial time  ┆   ┆ the       ┆ on, 12    ┆ 4         ┆ \"Lizhi\",  │\n",
       "│           ┆           ┆          ┆ Algorithm ┆   ┆ famous    ┆ Apr 2010  ┆ 00:00:00  ┆ \"\"]]      │\n",
       "│           ┆           ┆          ┆ fo…       ┆   ┆ Rotation… ┆ 04:39…    ┆           ┆           │\n",
       "└───────────┴───────────┴──────────┴───────────┴───┴───────────┴───────────┴───────────┴───────────┘"
      ]
     },
     "execution_count": 5,
     "metadata": {},
     "output_type": "execute_result"
    }
   ],
   "source": [
    "df.head(1).collect()"
   ]
  },
  {
   "cell_type": "markdown",
   "metadata": {},
   "source": [
    "You will see there is a categories column. This is a string that contains a list of categories that the paper belongs to. We can grab a few examples of the categories.\n",
    "\n"
   ]
  },
  {
   "cell_type": "code",
   "execution_count": 6,
   "metadata": {
    "colab": {
     "base_uri": "https://localhost:8080/"
    },
    "id": "8kVMZBAJ0L4h",
    "outputId": "a108a474-38d6-4a71-f758-d284498da8bd"
   },
   "outputs": [
    {
     "data": {
      "text/plain": [
       "['cs.DS',\n",
       " 'math.GM',\n",
       " 'math.CA math.AT math.DG math.DS',\n",
       " 'cond-mat.mtrl-sci',\n",
       " 'cond-mat.mtrl-sci',\n",
       " 'math.GT',\n",
       " 'math.GT',\n",
       " 'math.GT',\n",
       " 'math.AP',\n",
       " 'math.AP math-ph math.MP math.SP']"
      ]
     },
     "execution_count": 6,
     "metadata": {},
     "output_type": "execute_result"
    }
   ],
   "source": [
    "df.head(10).collect().select(\"categories\").to_series().to_list()"
   ]
  },
  {
   "cell_type": "markdown",
   "metadata": {},
   "source": [
    "For my particular use case I'm mostly interest in papers that are in the computer science category i.e contain \"cs.\" in the categories column."
   ]
  },
  {
   "cell_type": "code",
   "execution_count": 7,
   "metadata": {
    "id": "yB6bwtBM0lAn"
   },
   "outputs": [],
   "source": [
    "df = df.filter(\n",
    "    pl.col(\"categories\")\n",
    "    .str.split(\" \")\n",
    "    .list.eval(pl.element().str.starts_with(\"cs.\"))\n",
    "    .list.any()\n",
    ")"
   ]
  },
  {
   "cell_type": "markdown",
   "metadata": {},
   "source": [
    "We'll filter papers to only include those that contain the word \"dataset\" in the title or abstract, again you could easily change this to use other words. \n",
    "\n"
   ]
  },
  {
   "cell_type": "markdown",
   "metadata": {},
   "source": [
    "::: {.callout-note}\n",
    "One thing to consider here is that ideally you want the distribution of data you use for training the model to be similar to the distribution of data you will use in practice. Since I will only check for ArXiV papers that contain the word \"dataset\" in the title or abstract, I will filter out a lot of the data before it even gets passed to the model. For your use case, consider the distribution of data you'll be using in practice and filter the data accordingly.\n",
    ":::"
   ]
  },
  {
   "cell_type": "code",
   "execution_count": 8,
   "metadata": {
    "colab": {
     "base_uri": "https://localhost:8080/",
     "height": 199
    },
    "id": "EAMsjqqa_Haz",
    "outputId": "72e83a74-efb2-4076-cbc9-b278bd7bab5f"
   },
   "outputs": [],
   "source": [
    "df = df.filter(\n",
    "    pl.col(\"title\").str.contains(\"dataset\") | pl.col(\"abstract\").str.contains(\"dataset\")\n",
    ")"
   ]
  },
  {
   "cell_type": "markdown",
   "metadata": {},
   "source": [
    "Since we're using the polars lazy api, we need to call `collect()` to actually get the data. "
   ]
  },
  {
   "cell_type": "code",
   "execution_count": 9,
   "metadata": {},
   "outputs": [],
   "source": [
    "df = df.collect()"
   ]
  },
  {
   "cell_type": "markdown",
   "metadata": {},
   "source": [
    "## Generate labels not synthetic data\n",
    "\n",
    "There has been significant growth in the use of LLMs for synthetic data generation over the past couple of years. While we could generate synthetic data, i.e., developing both the \"input\" and \"target\" columns, if we already have some data we want to work with, it makes more sense to generate labels. One of the significant challenges with synethic data generation is that the data generated is often not representative of the data we want to use in practice. For generative tasks, this might matter slightly less. Since we're focused on building classifiers, which we'll often focus on quite a narrow use case or domain, the data we use to train the model must be representative of the data we want to use in practice. \n",
    "\n",
    "In this case, it might be more sensible to use a model's reasoning ability to generate labels rather than generate synthetic data. \n",
    "\n"
   ]
  },
  {
   "cell_type": "markdown",
   "metadata": {},
   "source": [
    "Let's grab a few examples from the data to use as a starting point."
   ]
  },
  {
   "cell_type": "code",
   "execution_count": 168,
   "metadata": {
    "colab": {
     "base_uri": "https://localhost:8080/"
    },
    "id": "huUNVwk-DtHz",
    "outputId": "969cd1ce-3e10-4119-8d78-cc7cccebcf8b"
   },
   "outputs": [
    {
     "data": {
      "text/plain": [
       "{'abstract': '  This paper presents a new fuzzy k-means algorithm for the clustering of high\\ndimensional data in various subspaces. Since, In the case of high dimensional\\ndata, some features might be irrelevant and relevant but may have different\\nsignificance in the clustering. For a better clustering, it is crucial to\\nincorporate the contribution of these features in the clustering process. To\\ncombine these features, in this paper, we have proposed a new fuzzy k-means\\nclustering algorithm in which the objective function of the fuzzy k-means is\\nmodified using two different entropy term. The first entropy term helps to\\nminimize the within-cluster dispersion and maximize the negative entropy to\\ndetermine clusters to contribute to the association of data points. The second\\nentropy term helps to control the weight of the features because different\\nfeatures have different contributing weights in the clustering process for\\nobtaining the better partition of the data. The efficacy of the proposed method\\nis presented in terms of various clustering measures on multiple datasets and\\ncompared with various state-of-the-art methods.\\n',\n",
       " 'title': 'An Entropy-based Variable Feature Weighted Fuzzy k-Means Algorithm for\\n  High Dimensional Data'}"
      ]
     },
     "execution_count": 168,
     "metadata": {},
     "output_type": "execute_result"
    }
   ],
   "source": [
    "examples = df.head(4).select(pl.col([\"abstract\", \"title\"])).to_dicts()\n",
    "examples[0]"
   ]
  },
  {
   "cell_type": "markdown",
   "metadata": {},
   "source": [
    "## Structured generation?\n",
    "\n",
    "We'll start by using a structured generation approach to generate the labels. This means we'll define a schema for the model's output and then use that to generate the labels. I've written more about this in a [previous blog post](https://danielvanstrien.xyz/posts/plain-text/synthetic-data-generation/2024-05-03-synethic-data-1.html) but the basic idea is that we define a schema for the output of the model and then use that to generate the labels. This means we don't have to do a lot of work to parse the output of the model and can be sure we can easily train on the output.\n",
    "\n",
    "In this case, we define a Pydantic model as one that has a label and an explanation.\n"
   ]
  },
  {
   "cell_type": "code",
   "execution_count": 169,
   "metadata": {
    "id": "jPwv9hSCClJ6"
   },
   "outputs": [],
   "source": [
    "from enum import Enum\n",
    "from pydantic import BaseModel, constr\n",
    "from typing import Annotated\n",
    "\n",
    "\n",
    "class DatasetLabel(str, Enum):\n",
    "    NEW = \"new_dataset\"\n",
    "    NOT_NEW = \"no_new_dataset\"\n",
    "\n",
    "\n",
    "class IntroducesNewDataset(BaseModel):\n",
    "    explanation: constr(min_length=40)\n",
    "    label: DatasetLabel"
   ]
  },
  {
   "cell_type": "markdown",
   "metadata": {},
   "source": [
    "We define a function to format the data as a prompt. This function takes a dictionary with the title and abstract and formats it as a prompt for the model."
   ]
  },
  {
   "cell_type": "code",
   "execution_count": 170,
   "metadata": {
    "id": "SjcxWK-0DyqC"
   },
   "outputs": [],
   "source": [
    "def format_text_as_prompt(data: dict[str, str]):\n",
    "    return f\"\"\"Look at the title and abstract for the following arXiv paper. Assess whether the paper is likely to introduce a newly created dataset.\n",
    "\n",
    "\n",
    "Title: {data['title']}\n",
    "Abstract: {data['abstract']}\n",
    "\n",
    "Your role is to decide whether the paper introduces a newly created dataset. First you should think about whether the paper is likely to introduce a newly created dataset. You should then return your reasoning and the label you've chosen. \n",
    "You should choose out of the \"new_dataset\" or \"no_new_dataset\" labels.\n",
    "\n",
    "Return your reasoning and the label you've chosen as a JSON object like this:\n",
    "```json\n",
    "{{\n",
    "    \"label\": \"new_dataset\" | \"no_new_dataset\",\n",
    "    \"explanation\": \"The reasoning the model used to come to its conclusion\"\n",
    "}}\n",
    "```\n",
    "\"\"\"\n"
   ]
  },
  {
   "cell_type": "code",
   "execution_count": 171,
   "metadata": {
    "colab": {
     "base_uri": "https://localhost:8080/"
    },
    "id": "fVJcIJD8Ec_4",
    "outputId": "d007252f-7f2d-46f9-d6b1-2a6f245af125"
   },
   "outputs": [
    {
     "name": "stdout",
     "output_type": "stream",
     "text": [
      "Look at the title and abstract for the following arXiv paper. Assess whether the paper is likely to introduce a newly created dataset.\n",
      "\n",
      "\n",
      "Title: An Entropy-based Variable Feature Weighted Fuzzy k-Means Algorithm for\n",
      "  High Dimensional Data\n",
      "Abstract:   This paper presents a new fuzzy k-means algorithm for the clustering of high\n",
      "dimensional data in various subspaces. Since, In the case of high dimensional\n",
      "data, some features might be irrelevant and relevant but may have different\n",
      "significance in the clustering. For a better clustering, it is crucial to\n",
      "incorporate the contribution of these features in the clustering process. To\n",
      "combine these features, in this paper, we have proposed a new fuzzy k-means\n",
      "clustering algorithm in which the objective function of the fuzzy k-means is\n",
      "modified using two different entropy term. The first entropy term helps to\n",
      "minimize the within-cluster dispersion and maximize the negative entropy to\n",
      "determine clusters to contribute to the association of data points. The second\n",
      "entropy term helps to control the weight of the features because different\n",
      "features have different contributing weights in the clustering process for\n",
      "obtaining the better partition of the data. The efficacy of the proposed method\n",
      "is presented in terms of various clustering measures on multiple datasets and\n",
      "compared with various state-of-the-art methods.\n",
      "\n",
      "\n",
      "Your role is to decide whether the paper introduces a newly created dataset. First you should think about whether the paper is likely to introduce a newly created dataset. You should then return your reasoning and the label you've chosen. \n",
      "You should choose out of the \"new_dataset\" or \"no_new_dataset\" labels.\n",
      "\n",
      "Return your reasoning and the label you've chosen as a JSON object like this:\n",
      "```json\n",
      "{\n",
      "    \"label\": \"new_dataset\" | \"no_new_dataset\",\n",
      "    \"explanation\": \"The reasoning the model used to come to its conclusion\"\n",
      "}\n",
      "```\n",
      "\n"
     ]
    }
   ],
   "source": [
    "print(format_text_as_prompt(examples[0]))"
   ]
  },
  {
   "cell_type": "markdown",
   "metadata": {},
   "source": [
    "## Using LM Studio to develop our approach\n",
    "\n",
    "One of the powerful features of open source is that it makes it easier to run models in different places. While developing our approach, we can use a smaller version of the model to test it and then switch to a hosted version once we're happy with it.\n",
    "\n",
    "We'll run the model using [LM Studio](https://lmstudio.ai/). LM Studio is primarily known as a UI for running local LLMs, but it also has a server mode, which we'll use here. We can interact with the server using the CLI. To start the server, we can run the following command."
   ]
  },
  {
   "cell_type": "code",
   "execution_count": 172,
   "metadata": {},
   "outputs": [
    {
     "name": "stdout",
     "output_type": "stream",
     "text": [
      "Starting server...\n",
      "Success! Server is now running on port 1234\n"
     ]
    }
   ],
   "source": [
    "!lms server start"
   ]
  },
  {
   "cell_type": "markdown",
   "metadata": {},
   "source": [
    "We can use `ls` to see the models that are available, we'll filter these to only show the DeepSeek models."
   ]
  },
  {
   "cell_type": "code",
   "execution_count": 135,
   "metadata": {},
   "outputs": [
    {
     "name": "stdout",
     "output_type": "stream",
     "text": [
      "\u001b[96mlmstudio-community/DeepSeek-R1-Distill-Qwen-1.5B-GGUF\u001b[39m      \u001b[96m1.12 GB\u001b[39m          \u001b[96mQwen2\u001b[39m           \n",
      "\u001b[96mlmstudio-community/DeepSeek-R1-Distill-Qwen-7B-GGUF\u001b[39m        \u001b[96m4.68 GB\u001b[39m          \u001b[96mQwen2\u001b[39m           \n",
      "\u001b[96mlmstudio-community/DeepSeek-R1-Distill-Qwen-14B-GGUF\u001b[39m       \u001b[96m8.99 GB\u001b[39m          \u001b[96mQwen2\u001b[39m           \n",
      "\u001b[96mlmstudio-community/DeepSeek-R1-Distill-Llama-8B-GGUF\u001b[39m       \u001b[96m4.92 GB\u001b[39m          \u001b[96mLlama\u001b[39m           \n"
     ]
    }
   ],
   "source": [
    "!lms ls | grep DeepSeek"
   ]
  },
  {
   "cell_type": "markdown",
   "metadata": {},
   "source": [
    "::: {.callout-note}\n",
    "Note that the output here is showing models I already have locally. There are many models LM studio can download from the Hugging Face Hub.\n",
    ":::"
   ]
  },
  {
   "cell_type": "markdown",
   "metadata": {},
   "source": [
    "We can load the model by running the following command. If the model is not already downloaded, LM Studio will download it. We'll try and see how well the 7B model does."
   ]
  },
  {
   "cell_type": "code",
   "execution_count": 137,
   "metadata": {},
   "outputs": [
    {
     "name": "stdout",
     "output_type": "stream",
     "text": [
      "\n",
      "Loading model \"lmstudio-community/DeepSeek-R1-Distill-Qwen-7B-GGUF/DeepSeek-R1-Distill-Qwen-7B-Q4_K_M.gguf\"...\n",
      "\u001b[97m[LMStudioClient][LLM]\u001b[39m Start loading model lmstudio-community/DeepSeek-R1-Distill-Qwen-7B-GGUF/DeepSeek-R1-Distill-Qwen-7B-Q4_K_M.gguf...\n",
      "⠹ [█████████████████████▋                            ] 43.04%          \u001b[u\u001b[2K\u001b[1Gs\u001b[2Kl\u001b[s\u001b[?25l\u001b[s\u001b[?25l\u001b[s\u001b[?25l\u001b[s\u001b[?25l\u001b[s\u001b[?25l\u001b[s\u001b[?25l\u001b[s\u001b[?25l\u001b[s\u001b[?25l\u001b[s\u001b[?25l\u001b[s\u001b[?25l\u001b[s\u001b[?25l\u001b[s\u001b[?25l\u001b[s\u001b[?25l\u001b[s\u001b[?25l\u001b[s\u001b[?25l\u001b[s\u001b[?25l\u001b[s\u001b[?25l\u001b[s\u001b[?25l\u001b[s\u001b[?25l\u001b[s\u001b[?25l\u001b[s\u001b[?25l\u001b[s\u001b[?25l\u001b[s\u001b[?25l\u001b[s\u001b[?25l\u001b[s\u001b[?25l\u001b[s          \u001b[u\u001b[?25l\u001b[s\u001b[?25l\u001b[s\u001b[?25l\u001b[s\u001b[?25l\u001b[s\u001b[?25l\u001b[s\u001b[?25l\u001b[s\u001b[?25l\u001b[s\u001b[?25l\u001b[s\u001b[?25l\u001b[s\u001b[?25l\u001b[s\u001b[?25l\u001b[s\u001b[?25l\u001b[s\u001b[?25l\u001b[s\u001b[?25l\u001b[s\u001b[?25l\u001b[s\u001b[?25l\u001b[s\u001b[?25l\u001b[s\u001b[?25l\u001b[s\u001b[?25l\u001b[s\u001b[?25l\u001b[s\u001b[?25l\u001b[s\u001b[?25l\u001b[s] 32.15%          \u001b[u\u001b[?25l\u001b[s\u001b[?25l\u001b[s\u001b[?25l\u001b[s\u001b[?25l\u001b[s\u001b[?25l\u001b[s\u001b[?25l\u001b[s] 34.82%          \u001b[u\u001b[?25l\u001b[s█████████████████▋                                ] 35.25%          \u001b[u\u001b[?25l\u001b[s\u001b[?25l\u001b[s\u001b[?25l\u001b[s\u001b[?25l\u001b[s\u001b[?25l\u001b[s\u001b[?25l\u001b[s\u001b[?25l\u001b[s\u001b[?25l\u001b[s\u001b[?25l\u001b[s\u001b[?25l\u001b[s\u001b[?25l\u001b[s\u001b[?25l\u001b[s\u001b[?25l\u001b[s\u001b[?25l\u001b[s\u001b[?25l\u001b[s\u001b[?25l\u001b[s\u001b[?25l\u001b[s\u001b[?25l\u001b[s\u001b[?25l\u001b[s\u001b[?25l\u001b[s\u001b[?25l\u001b[s\u001b[?25l\u001b[s\u001b[?25l\u001b[s\u001b[?25hModel loaded successfully in 4.20s. (4.68 GB)\n",
      "To use the model in the API/SDK, use the identifier \"\u001b[92mdeepseek-r1-distill-qwen-7b\u001b[39m\".\n",
      "To set a custom identifier, use the \u001b[93m--identifier <identifier>\u001b[39m option.\n"
     ]
    }
   ],
   "source": [
    "!lms load DeepSeek-R1-Distill-Qwen-7B-GGUF"
   ]
  },
  {
   "cell_type": "markdown",
   "metadata": {},
   "source": [
    "Since LM Studio has an OpenAI compatible API, we can use the OpenAI Python client to interact with the server. We just need to set the base URL to the LM Studio server and set the API key to `lm-studio`."
   ]
  },
  {
   "cell_type": "code",
   "execution_count": 153,
   "metadata": {},
   "outputs": [],
   "source": [
    "from openai import OpenAI"
   ]
  },
  {
   "cell_type": "code",
   "execution_count": 154,
   "metadata": {},
   "outputs": [],
   "source": [
    "client = OpenAI(base_url=\"http://localhost:1234/v1\", api_key=\"lm-studio\")"
   ]
  },
  {
   "cell_type": "markdown",
   "metadata": {},
   "source": [
    "Once we've created the client we can interact with it in the usual way i.e. to see available models we can run the following command."
   ]
  },
  {
   "cell_type": "code",
   "execution_count": 140,
   "metadata": {},
   "outputs": [
    {
     "data": {
      "text/plain": [
       "SyncPage[Model](data=[Model(id='deepseek-r1-distill-qwen-7b', created=None, object='model', owned_by='organization_owner')], object='list')"
      ]
     },
     "execution_count": 140,
     "metadata": {},
     "output_type": "execute_result"
    }
   ],
   "source": [
    "client.models.list()\n"
   ]
  },
  {
   "cell_type": "markdown",
   "metadata": {},
   "source": [
    "## Generating labels\n",
    "\n",
    "We can now generate labels for our examples. We'll use the `format_text_as_prompt` function to format the data as a prompt and then pass it to the model. Since we're using a structured output, we need to use the `beta.chat.completions` endpoint. We pass in our Pydantic model as the `response_format` argument."
   ]
  },
  {
   "cell_type": "code",
   "execution_count": 173,
   "metadata": {},
   "outputs": [],
   "source": [
    "messages = [\n",
    "    {\"role\": \"user\", \"content\": format_text_as_prompt(examples[0])},\n",
    "]\n",
    "\n",
    "\n",
    "response = client.beta.chat.completions.parse(\n",
    "    model=\"deepseek-r1-distill-qwen-7b\",\n",
    "    messages=messages,\n",
    "    temperature=0.7,\n",
    "    response_format=IntroducesNewDataset,\n",
    ")\n"
   ]
  },
  {
   "cell_type": "markdown",
   "metadata": {},
   "source": [
    "We can check that we can parse the output of the model into our Pydantic model."
   ]
  },
  {
   "cell_type": "code",
   "execution_count": 174,
   "metadata": {},
   "outputs": [
    {
     "data": {
      "text/plain": [
       "IntroducesNewDataset(explanation=\"The paper discusses an entropy-based fuzzy k-means algorithm designed for high-dimensional data. While it mentions incorporating feature contributions into clustering, there's no information about introducing a new dataset.\", label=<DatasetLabel.NOT_NEW: 'no_new_dataset'>)"
      ]
     },
     "execution_count": 174,
     "metadata": {},
     "output_type": "execute_result"
    }
   ],
   "source": [
    "IntroducesNewDataset.model_validate_json(response.choices[0].message.content)"
   ]
  },
  {
   "cell_type": "markdown",
   "metadata": {},
   "source": [
    "We'll wrap this in a function so we can easily use it for a lot of examples."
   ]
  },
  {
   "cell_type": "code",
   "execution_count": 175,
   "metadata": {
    "id": "oLjeoeeCExv2"
   },
   "outputs": [],
   "source": [
    "def predict_label(\n",
    "    data: dict[str, str], model: str = \"deepseek-r1-distill-qwen-1.5b\", client=client\n",
    ") -> IntroducesNewDataset | None:\n",
    "    try:\n",
    "        prompt = format_text_as_prompt(data)\n",
    "        messages = [\n",
    "            {\"role\": \"user\", \"content\": prompt},\n",
    "        ]\n",
    "        response = client.beta.chat.completions.parse(\n",
    "            model=model,\n",
    "            messages=messages,\n",
    "            temperature=0.7,\n",
    "            response_format=IntroducesNewDataset,\n",
    "        )\n",
    "        return IntroducesNewDataset.model_validate_json(\n",
    "            response.choices[0].message.content\n",
    "        )\n",
    "    except Exception as e:\n",
    "        print(e)\n",
    "        return None\n"
   ]
  },
  {
   "cell_type": "markdown",
   "metadata": {},
   "source": [
    "Before doing a big batch of predictions, let's run the model on a few examples so we can see how it does."
   ]
  },
  {
   "cell_type": "code",
   "execution_count": 176,
   "metadata": {
    "colab": {
     "base_uri": "https://localhost:8080/"
    },
    "id": "3BIL7wAvFLtS",
    "outputId": "4503d632-e290-4174-ebc3-b896e7ee9d00"
   },
   "outputs": [
    {
     "data": {
      "text/html": [
       "<pre style=\"white-space:pre;overflow-x:auto;line-height:normal;font-family:Menlo,'DejaVu Sans Mono',consolas,'Courier New',monospace\">An Entropy-based Variable Feature Weighted Fuzzy k-Means Algorithm for\n",
       "  High Dimensional Data\n",
       "</pre>\n"
      ],
      "text/plain": [
       "An Entropy-based Variable Feature Weighted Fuzzy k-Means Algorithm for\n",
       "  High Dimensional Data\n"
      ]
     },
     "metadata": {},
     "output_type": "display_data"
    },
    {
     "data": {
      "text/html": [
       "<pre style=\"white-space:pre;overflow-x:auto;line-height:normal;font-family:Menlo,'DejaVu Sans Mono',consolas,'Courier New',monospace\">  This paper presents a new fuzzy k-means algorithm for the clustering of high\n",
       "dimensional data in various subspaces. Since, In the case of high dimensional\n",
       "data, some features might be irrelevant and relevant but may have different\n",
       "significance in the clustering. For a better clustering, it is crucial to\n",
       "incorporate the contribution of these features in the clustering process. To\n",
       "combine these features, in this paper, we have proposed a new fuzzy k-means\n",
       "clustering algorithm in which the objective function of the fuzzy k-means is\n",
       "modified using two different entropy term. The first entropy term helps to\n",
       "minimize the within-cluster dispersion and maximize the negative entropy to\n",
       "determine clusters to contribute to the association of data points. The second\n",
       "entropy term helps to control the weight of the features because different\n",
       "features have different contributing weights in the clustering process for\n",
       "obtaining the better partition of the data. The efficacy of the proposed method\n",
       "is presented in terms of various clustering measures on multiple datasets and\n",
       "compared with various state-of-the-art methods.\n",
       "\n",
       "</pre>\n"
      ],
      "text/plain": [
       "  This paper presents a new fuzzy k-means algorithm for the clustering of high\n",
       "dimensional data in various subspaces. Since, In the case of high dimensional\n",
       "data, some features might be irrelevant and relevant but may have different\n",
       "significance in the clustering. For a better clustering, it is crucial to\n",
       "incorporate the contribution of these features in the clustering process. To\n",
       "combine these features, in this paper, we have proposed a new fuzzy k-means\n",
       "clustering algorithm in which the objective function of the fuzzy k-means is\n",
       "modified using two different entropy term. The first entropy term helps to\n",
       "minimize the within-cluster dispersion and maximize the negative entropy to\n",
       "determine clusters to contribute to the association of data points. The second\n",
       "entropy term helps to control the weight of the features because different\n",
       "features have different contributing weights in the clustering process for\n",
       "obtaining the better partition of the data. The efficacy of the proposed method\n",
       "is presented in terms of various clustering measures on multiple datasets and\n",
       "compared with various state-of-the-art methods.\n",
       "\n"
      ]
     },
     "metadata": {},
     "output_type": "display_data"
    },
    {
     "data": {
      "text/html": [
       "<pre style=\"white-space:pre;overflow-x:auto;line-height:normal;font-family:Menlo,'DejaVu Sans Mono',consolas,'Courier New',monospace\"><span style=\"color: #800080; text-decoration-color: #800080; font-weight: bold\">IntroducesNewDataset</span><span style=\"font-weight: bold\">(</span>\n",
       "    <span style=\"color: #808000; text-decoration-color: #808000\">explanation</span>=<span style=\"color: #008000; text-decoration-color: #008000\">\"The paper presents an algorithm for clustering high-dimensional data, focusing on feature </span>\n",
       "<span style=\"color: #008000; text-decoration-color: #008000\">weighting and entropy-based modifications to the fuzzy k-means method. The abstract mentions that their proposed </span>\n",
       "<span style=\"color: #008000; text-decoration-color: #008000\">method is evaluated against various datasets using different measures. Since the title doesn't suggest a new </span>\n",
       "<span style=\"color: #008000; text-decoration-color: #008000\">dataset but rather an improvement or variation in an existing one (fuzzy k-means), and the abstract emphasizes </span>\n",
       "<span style=\"color: #008000; text-decoration-color: #008000\">performance evaluation across multiple datasets without indicating the introduction of a new one, it's reasonable </span>\n",
       "<span style=\"color: #008000; text-decoration-color: #008000\">to assume that no new dataset was created in this paper.\"</span>,\n",
       "    <span style=\"color: #808000; text-decoration-color: #808000\">label</span>=<span style=\"font-weight: bold\">&lt;</span><span style=\"color: #ff00ff; text-decoration-color: #ff00ff; font-weight: bold\">DatasetLabel.NOT_NEW:</span><span style=\"color: #000000; text-decoration-color: #000000\"> </span><span style=\"color: #008000; text-decoration-color: #008000\">'no_new_dataset'</span><span style=\"font-weight: bold\">&gt;</span>\n",
       "<span style=\"font-weight: bold\">)</span>\n",
       "</pre>\n"
      ],
      "text/plain": [
       "\u001b[1;35mIntroducesNewDataset\u001b[0m\u001b[1m(\u001b[0m\n",
       "    \u001b[33mexplanation\u001b[0m=\u001b[32m\"The\u001b[0m\u001b[32m paper presents an algorithm for clustering high-dimensional data, focusing on feature \u001b[0m\n",
       "\u001b[32mweighting and entropy-based modifications to the fuzzy k-means method. The abstract mentions that their proposed \u001b[0m\n",
       "\u001b[32mmethod is evaluated against various datasets using different measures. Since the title doesn't suggest a new \u001b[0m\n",
       "\u001b[32mdataset but rather an improvement or variation in an existing one \u001b[0m\u001b[32m(\u001b[0m\u001b[32mfuzzy k-means\u001b[0m\u001b[32m)\u001b[0m\u001b[32m, and the abstract emphasizes \u001b[0m\n",
       "\u001b[32mperformance evaluation across multiple datasets without indicating the introduction of a new one, it's reasonable \u001b[0m\n",
       "\u001b[32mto assume that no new dataset was created in this paper.\"\u001b[0m,\n",
       "    \u001b[33mlabel\u001b[0m=\u001b[1m<\u001b[0m\u001b[1;95mDatasetLabel.NOT_NEW:\u001b[0m\u001b[39m \u001b[0m\u001b[32m'no_new_dataset'\u001b[0m\u001b[1m>\u001b[0m\n",
       "\u001b[1m)\u001b[0m\n"
      ]
     },
     "metadata": {},
     "output_type": "display_data"
    },
    {
     "data": {
      "text/html": [
       "<pre style=\"white-space:pre;overflow-x:auto;line-height:normal;font-family:Menlo,'DejaVu Sans Mono',consolas,'Courier New',monospace\">---\n",
       "</pre>\n"
      ],
      "text/plain": [
       "---\n"
      ]
     },
     "metadata": {},
     "output_type": "display_data"
    },
    {
     "data": {
      "text/html": [
       "<pre style=\"white-space:pre;overflow-x:auto;line-height:normal;font-family:Menlo,'DejaVu Sans Mono',consolas,'Courier New',monospace\">Identifying Influential Brokers on Social Media from Social Network\n",
       "  Structure\n",
       "</pre>\n"
      ],
      "text/plain": [
       "Identifying Influential Brokers on Social Media from Social Network\n",
       "  Structure\n"
      ]
     },
     "metadata": {},
     "output_type": "display_data"
    },
    {
     "data": {
      "text/html": [
       "<pre style=\"white-space:pre;overflow-x:auto;line-height:normal;font-family:Menlo,'DejaVu Sans Mono',consolas,'Courier New',monospace\">  Identifying influencers in a given social network has become an important\n",
       "research problem for various applications, including accelerating the spread of\n",
       "information in viral marketing and preventing the spread of fake news and\n",
       "rumors. The literature contains a rich body of studies on identifying\n",
       "influential source spreaders who can spread their own messages to many other\n",
       "nodes. In contrast, the identification of influential brokers who can spread\n",
       "other nodes' messages to many nodes has not been fully explored. Theoretical\n",
       "and empirical studies suggest that involvement of both influential source\n",
       "spreaders and brokers is a key to facilitating large-scale information\n",
       "diffusion cascades. Therefore, this paper explores ways to identify influential\n",
       "brokers from a given social network. By using three social media datasets, we\n",
       "investigate the characteristics of influential brokers by comparing them with\n",
       "influential source spreaders and central nodes obtained from centrality\n",
       "measures. Our results show that <span style=\"font-weight: bold\">(</span>i<span style=\"font-weight: bold\">)</span> most of the influential source spreaders\n",
       "are not influential brokers <span style=\"font-weight: bold\">(</span>and vice versa<span style=\"font-weight: bold\">)</span> and <span style=\"font-weight: bold\">(</span>ii<span style=\"font-weight: bold\">)</span> the overlap between\n",
       "central nodes and influential brokers is small <span style=\"font-weight: bold\">(</span>less than <span style=\"color: #008080; text-decoration-color: #008080; font-weight: bold\">15</span>%<span style=\"font-weight: bold\">)</span> in Twitter\n",
       "datasets. We also tackle the problem of identifying influential brokers from\n",
       "centrality measures and node embeddings, and we examine the effectiveness of\n",
       "social network features in the broker identification task. Our results show\n",
       "that <span style=\"font-weight: bold\">(</span>iii<span style=\"font-weight: bold\">)</span> although a single centrality measure cannot characterize influential\n",
       "brokers well, prediction models using node embedding features achieve F$_1$\n",
       "scores of <span style=\"color: #008080; text-decoration-color: #008080; font-weight: bold\">0.35</span>-<span style=\"color: #008080; text-decoration-color: #008080; font-weight: bold\">-0.68</span>, suggesting the effectiveness of social network features\n",
       "for identifying influential brokers.\n",
       "\n",
       "</pre>\n"
      ],
      "text/plain": [
       "  Identifying influencers in a given social network has become an important\n",
       "research problem for various applications, including accelerating the spread of\n",
       "information in viral marketing and preventing the spread of fake news and\n",
       "rumors. The literature contains a rich body of studies on identifying\n",
       "influential source spreaders who can spread their own messages to many other\n",
       "nodes. In contrast, the identification of influential brokers who can spread\n",
       "other nodes' messages to many nodes has not been fully explored. Theoretical\n",
       "and empirical studies suggest that involvement of both influential source\n",
       "spreaders and brokers is a key to facilitating large-scale information\n",
       "diffusion cascades. Therefore, this paper explores ways to identify influential\n",
       "brokers from a given social network. By using three social media datasets, we\n",
       "investigate the characteristics of influential brokers by comparing them with\n",
       "influential source spreaders and central nodes obtained from centrality\n",
       "measures. Our results show that \u001b[1m(\u001b[0mi\u001b[1m)\u001b[0m most of the influential source spreaders\n",
       "are not influential brokers \u001b[1m(\u001b[0mand vice versa\u001b[1m)\u001b[0m and \u001b[1m(\u001b[0mii\u001b[1m)\u001b[0m the overlap between\n",
       "central nodes and influential brokers is small \u001b[1m(\u001b[0mless than \u001b[1;36m15\u001b[0m%\u001b[1m)\u001b[0m in Twitter\n",
       "datasets. We also tackle the problem of identifying influential brokers from\n",
       "centrality measures and node embeddings, and we examine the effectiveness of\n",
       "social network features in the broker identification task. Our results show\n",
       "that \u001b[1m(\u001b[0miii\u001b[1m)\u001b[0m although a single centrality measure cannot characterize influential\n",
       "brokers well, prediction models using node embedding features achieve F$_1$\n",
       "scores of \u001b[1;36m0.35\u001b[0m-\u001b[1;36m-0.68\u001b[0m, suggesting the effectiveness of social network features\n",
       "for identifying influential brokers.\n",
       "\n"
      ]
     },
     "metadata": {},
     "output_type": "display_data"
    },
    {
     "data": {
      "text/html": [
       "<pre style=\"white-space:pre;overflow-x:auto;line-height:normal;font-family:Menlo,'DejaVu Sans Mono',consolas,'Courier New',monospace\"><span style=\"color: #800080; text-decoration-color: #800080; font-weight: bold\">IntroducesNewDataset</span><span style=\"font-weight: bold\">(</span>\n",
       "    <span style=\"color: #808000; text-decoration-color: #808000\">explanation</span>=<span style=\"color: #008000; text-decoration-color: #008000\">\"... reason ...”，... } To determine whether the paper introduces a newly created dataset, let's </span>\n",
       "<span style=\"color: #008000; text-decoration-color: #008000\">analyze the information provided in the title and abstract. The title is \"</span>,\n",
       "    <span style=\"color: #808000; text-decoration-color: #808000\">label</span>=<span style=\"font-weight: bold\">&lt;</span><span style=\"color: #ff00ff; text-decoration-color: #ff00ff; font-weight: bold\">DatasetLabel.NEW:</span><span style=\"color: #000000; text-decoration-color: #000000\"> </span><span style=\"color: #008000; text-decoration-color: #008000\">'new_dataset'</span><span style=\"font-weight: bold\">&gt;</span>\n",
       "<span style=\"font-weight: bold\">)</span>\n",
       "</pre>\n"
      ],
      "text/plain": [
       "\u001b[1;35mIntroducesNewDataset\u001b[0m\u001b[1m(\u001b[0m\n",
       "    \u001b[33mexplanation\u001b[0m=\u001b[32m\"... reason ...”，... \u001b[0m\u001b[32m}\u001b[0m\u001b[32m To determine whether the paper introduces a newly created dataset, let's \u001b[0m\n",
       "\u001b[32manalyze the information provided in the title and abstract. The title is \"\u001b[0m,\n",
       "    \u001b[33mlabel\u001b[0m=\u001b[1m<\u001b[0m\u001b[1;95mDatasetLabel.NEW:\u001b[0m\u001b[39m \u001b[0m\u001b[32m'new_dataset'\u001b[0m\u001b[1m>\u001b[0m\n",
       "\u001b[1m)\u001b[0m\n"
      ]
     },
     "metadata": {},
     "output_type": "display_data"
    },
    {
     "data": {
      "text/html": [
       "<pre style=\"white-space:pre;overflow-x:auto;line-height:normal;font-family:Menlo,'DejaVu Sans Mono',consolas,'Courier New',monospace\">---\n",
       "</pre>\n"
      ],
      "text/plain": [
       "---\n"
      ]
     },
     "metadata": {},
     "output_type": "display_data"
    },
    {
     "data": {
      "text/html": [
       "<pre style=\"white-space:pre;overflow-x:auto;line-height:normal;font-family:Menlo,'DejaVu Sans Mono',consolas,'Courier New',monospace\">Improving Performance of Automatic Keyword Extraction <span style=\"font-weight: bold\">(</span>AKE<span style=\"font-weight: bold\">)</span> Methods\n",
       "  Using PoS-Tagging and Enhanced Semantic-Awareness\n",
       "</pre>\n"
      ],
      "text/plain": [
       "Improving Performance of Automatic Keyword Extraction \u001b[1m(\u001b[0mAKE\u001b[1m)\u001b[0m Methods\n",
       "  Using PoS-Tagging and Enhanced Semantic-Awareness\n"
      ]
     },
     "metadata": {},
     "output_type": "display_data"
    },
    {
     "data": {
      "text/html": [
       "<pre style=\"white-space:pre;overflow-x:auto;line-height:normal;font-family:Menlo,'DejaVu Sans Mono',consolas,'Courier New',monospace\">  Automatic keyword extraction <span style=\"font-weight: bold\">(</span>AKE<span style=\"font-weight: bold\">)</span> has gained more importance with the\n",
       "increasing amount of digital textual data that modern computing systems\n",
       "process. It has various applications in information retrieval <span style=\"font-weight: bold\">(</span>IR<span style=\"font-weight: bold\">)</span> and natural\n",
       "language processing <span style=\"font-weight: bold\">(</span>NLP<span style=\"font-weight: bold\">)</span>, including text summarisation, topic analysis and\n",
       "document indexing. This paper proposes a simple but effective\n",
       "post-processing-based universal approach to improve the performance of any AKE\n",
       "methods, via an enhanced level of semantic-awareness supported by PoS-tagging.\n",
       "To demonstrate the performance of the proposed approach, we considered word\n",
       "types retrieved from a PoS-tagging step and two representative sources of\n",
       "semantic information - specialised terms defined in one or more\n",
       "context-dependent thesauri, and named entities in Wikipedia. The above three\n",
       "steps can be simply added to the end of any AKE methods as part of a\n",
       "post-processor, which simply re-evaluate all candidate keywords following some\n",
       "context-specific and semantic-aware criteria. For five state-of-the-art <span style=\"font-weight: bold\">(</span>SOTA<span style=\"font-weight: bold\">)</span>\n",
       "AKE methods, our experimental results with <span style=\"color: #008080; text-decoration-color: #008080; font-weight: bold\">17</span> selected datasets showed that the\n",
       "proposed approach improved their performances both consistently <span style=\"font-weight: bold\">(</span>up to <span style=\"color: #008080; text-decoration-color: #008080; font-weight: bold\">100</span>% in\n",
       "terms of improved cases<span style=\"font-weight: bold\">)</span> and significantly <span style=\"font-weight: bold\">(</span>between <span style=\"color: #008080; text-decoration-color: #008080; font-weight: bold\">10.2</span>% and <span style=\"color: #008080; text-decoration-color: #008080; font-weight: bold\">53.8</span>%, with an\n",
       "average of <span style=\"color: #008080; text-decoration-color: #008080; font-weight: bold\">25.8</span>%, in terms of F1-score and across all five methods<span style=\"font-weight: bold\">)</span>, especially\n",
       "when all the three enhancement steps are used. Our results have profound\n",
       "implications considering the ease to apply our proposed approach to any AKE\n",
       "methods and to further extend it.\n",
       "\n",
       "</pre>\n"
      ],
      "text/plain": [
       "  Automatic keyword extraction \u001b[1m(\u001b[0mAKE\u001b[1m)\u001b[0m has gained more importance with the\n",
       "increasing amount of digital textual data that modern computing systems\n",
       "process. It has various applications in information retrieval \u001b[1m(\u001b[0mIR\u001b[1m)\u001b[0m and natural\n",
       "language processing \u001b[1m(\u001b[0mNLP\u001b[1m)\u001b[0m, including text summarisation, topic analysis and\n",
       "document indexing. This paper proposes a simple but effective\n",
       "post-processing-based universal approach to improve the performance of any AKE\n",
       "methods, via an enhanced level of semantic-awareness supported by PoS-tagging.\n",
       "To demonstrate the performance of the proposed approach, we considered word\n",
       "types retrieved from a PoS-tagging step and two representative sources of\n",
       "semantic information - specialised terms defined in one or more\n",
       "context-dependent thesauri, and named entities in Wikipedia. The above three\n",
       "steps can be simply added to the end of any AKE methods as part of a\n",
       "post-processor, which simply re-evaluate all candidate keywords following some\n",
       "context-specific and semantic-aware criteria. For five state-of-the-art \u001b[1m(\u001b[0mSOTA\u001b[1m)\u001b[0m\n",
       "AKE methods, our experimental results with \u001b[1;36m17\u001b[0m selected datasets showed that the\n",
       "proposed approach improved their performances both consistently \u001b[1m(\u001b[0mup to \u001b[1;36m100\u001b[0m% in\n",
       "terms of improved cases\u001b[1m)\u001b[0m and significantly \u001b[1m(\u001b[0mbetween \u001b[1;36m10.2\u001b[0m% and \u001b[1;36m53.8\u001b[0m%, with an\n",
       "average of \u001b[1;36m25.8\u001b[0m%, in terms of F1-score and across all five methods\u001b[1m)\u001b[0m, especially\n",
       "when all the three enhancement steps are used. Our results have profound\n",
       "implications considering the ease to apply our proposed approach to any AKE\n",
       "methods and to further extend it.\n",
       "\n"
      ]
     },
     "metadata": {},
     "output_type": "display_data"
    },
    {
     "data": {
      "text/html": [
       "<pre style=\"white-space:pre;overflow-x:auto;line-height:normal;font-family:Menlo,'DejaVu Sans Mono',consolas,'Courier New',monospace\"><span style=\"color: #800080; text-decoration-color: #800080; font-weight: bold\">IntroducesNewDataset</span><span style=\"font-weight: bold\">(</span>\n",
       "    <span style=\"color: #808000; text-decoration-color: #808000\">explanation</span>=<span style=\"color: #008000; text-decoration-color: #008000\">\"The paper focuses on improving automatic keyword extraction methods using PoS-tagging and </span>\n",
       "<span style=\"color: #008000; text-decoration-color: #008000\">semantic-awareness. It mentions experiments with five state-of-the-art AKE methods across 17 datasets, but there's </span>\n",
       "<span style=\"color: #008000; text-decoration-color: #008000\">no indication of introducing a new dataset.\"</span>,\n",
       "    <span style=\"color: #808000; text-decoration-color: #808000\">label</span>=<span style=\"font-weight: bold\">&lt;</span><span style=\"color: #ff00ff; text-decoration-color: #ff00ff; font-weight: bold\">DatasetLabel.NOT_NEW:</span><span style=\"color: #000000; text-decoration-color: #000000\"> </span><span style=\"color: #008000; text-decoration-color: #008000\">'no_new_dataset'</span><span style=\"font-weight: bold\">&gt;</span>\n",
       "<span style=\"font-weight: bold\">)</span>\n",
       "</pre>\n"
      ],
      "text/plain": [
       "\u001b[1;35mIntroducesNewDataset\u001b[0m\u001b[1m(\u001b[0m\n",
       "    \u001b[33mexplanation\u001b[0m=\u001b[32m\"The\u001b[0m\u001b[32m paper focuses on improving automatic keyword extraction methods using PoS-tagging and \u001b[0m\n",
       "\u001b[32msemantic-awareness. It mentions experiments with five state-of-the-art AKE methods across 17 datasets, but there's \u001b[0m\n",
       "\u001b[32mno indication of introducing a new dataset.\"\u001b[0m,\n",
       "    \u001b[33mlabel\u001b[0m=\u001b[1m<\u001b[0m\u001b[1;95mDatasetLabel.NOT_NEW:\u001b[0m\u001b[39m \u001b[0m\u001b[32m'no_new_dataset'\u001b[0m\u001b[1m>\u001b[0m\n",
       "\u001b[1m)\u001b[0m\n"
      ]
     },
     "metadata": {},
     "output_type": "display_data"
    },
    {
     "data": {
      "text/html": [
       "<pre style=\"white-space:pre;overflow-x:auto;line-height:normal;font-family:Menlo,'DejaVu Sans Mono',consolas,'Courier New',monospace\">---\n",
       "</pre>\n"
      ],
      "text/plain": [
       "---\n"
      ]
     },
     "metadata": {},
     "output_type": "display_data"
    },
    {
     "data": {
      "text/html": [
       "<pre style=\"white-space:pre;overflow-x:auto;line-height:normal;font-family:Menlo,'DejaVu Sans Mono',consolas,'Courier New',monospace\">LOCUS: LOcalization with Channel Uncertainty and Sporadic Energy\n",
       "</pre>\n"
      ],
      "text/plain": [
       "LOCUS: LOcalization with Channel Uncertainty and Sporadic Energy\n"
      ]
     },
     "metadata": {},
     "output_type": "display_data"
    },
    {
     "data": {
      "text/html": [
       "<pre style=\"white-space:pre;overflow-x:auto;line-height:normal;font-family:Menlo,'DejaVu Sans Mono',consolas,'Courier New',monospace\">  Accurate sound source localization <span style=\"font-weight: bold\">(</span>SSL<span style=\"font-weight: bold\">)</span> requires consistent multichannel\n",
       "data for reliable degree of arrival <span style=\"font-weight: bold\">(</span>DoA<span style=\"font-weight: bold\">)</span> estimation. However, intermittently\n",
       "powered batteryless systems often suffer from incomplete sensor data due to the\n",
       "stochastic nature of energy harvesting. Existing methods struggle with missing\n",
       "channels, leading to significant performance degradation. In this paper, we\n",
       "propose $\\textit<span style=\"font-weight: bold\">{</span>LOCUS<span style=\"font-weight: bold\">}</span>$, a novel deep learning-based system designed to\n",
       "recover corrupted features for SSL in batteryless systems. $\\textit<span style=\"font-weight: bold\">{</span>LOCUS<span style=\"font-weight: bold\">}</span>$\n",
       "addresses missing data by leveraging information entropy estimation and\n",
       "conditional interpolation, combining three modules: <span style=\"font-weight: bold\">(</span><span style=\"color: #008080; text-decoration-color: #008080; font-weight: bold\">1</span><span style=\"font-weight: bold\">)</span> Information-Weighted\n",
       "Focus <span style=\"font-weight: bold\">(</span>InFo<span style=\"font-weight: bold\">)</span>, which identifies and quantifies corrupted data elements, <span style=\"font-weight: bold\">(</span><span style=\"color: #008080; text-decoration-color: #008080; font-weight: bold\">2</span><span style=\"font-weight: bold\">)</span>\n",
       "Latent Feature Synthesizer <span style=\"font-weight: bold\">(</span>LaFS<span style=\"font-weight: bold\">)</span>, which synthesizes missing features, and <span style=\"font-weight: bold\">(</span><span style=\"color: #008080; text-decoration-color: #008080; font-weight: bold\">3</span><span style=\"font-weight: bold\">)</span>\n",
       "Guided Replacement <span style=\"font-weight: bold\">(</span>GRep<span style=\"font-weight: bold\">)</span>, which intelligently replaces missing elements while\n",
       "preserving valid data. We demonstrate significant performance improvements\n",
       "using two datasets: DCASE and LargeSet, where $\\textit<span style=\"font-weight: bold\">{</span>LOCUS<span style=\"font-weight: bold\">}</span>$ achieves up to\n",
       "$<span style=\"color: #008080; text-decoration-color: #008080; font-weight: bold\">36.91</span>\\%$ lower DoA error compared to existing methods. Real-world evaluations\n",
       "across three environments with intermittent power sources show a\n",
       "$<span style=\"color: #008080; text-decoration-color: #008080; font-weight: bold\">25.87</span>-<span style=\"color: #008080; text-decoration-color: #008080; font-weight: bold\">59.46</span>\\%$ improvement in performance when channels are stochastically\n",
       "missing. Additionally, we release a <span style=\"color: #008080; text-decoration-color: #008080; font-weight: bold\">50</span>-hour multichannel dataset to support\n",
       "further research in SSL.\n",
       "\n",
       "</pre>\n"
      ],
      "text/plain": [
       "  Accurate sound source localization \u001b[1m(\u001b[0mSSL\u001b[1m)\u001b[0m requires consistent multichannel\n",
       "data for reliable degree of arrival \u001b[1m(\u001b[0mDoA\u001b[1m)\u001b[0m estimation. However, intermittently\n",
       "powered batteryless systems often suffer from incomplete sensor data due to the\n",
       "stochastic nature of energy harvesting. Existing methods struggle with missing\n",
       "channels, leading to significant performance degradation. In this paper, we\n",
       "propose $\\textit\u001b[1m{\u001b[0mLOCUS\u001b[1m}\u001b[0m$, a novel deep learning-based system designed to\n",
       "recover corrupted features for SSL in batteryless systems. $\\textit\u001b[1m{\u001b[0mLOCUS\u001b[1m}\u001b[0m$\n",
       "addresses missing data by leveraging information entropy estimation and\n",
       "conditional interpolation, combining three modules: \u001b[1m(\u001b[0m\u001b[1;36m1\u001b[0m\u001b[1m)\u001b[0m Information-Weighted\n",
       "Focus \u001b[1m(\u001b[0mInFo\u001b[1m)\u001b[0m, which identifies and quantifies corrupted data elements, \u001b[1m(\u001b[0m\u001b[1;36m2\u001b[0m\u001b[1m)\u001b[0m\n",
       "Latent Feature Synthesizer \u001b[1m(\u001b[0mLaFS\u001b[1m)\u001b[0m, which synthesizes missing features, and \u001b[1m(\u001b[0m\u001b[1;36m3\u001b[0m\u001b[1m)\u001b[0m\n",
       "Guided Replacement \u001b[1m(\u001b[0mGRep\u001b[1m)\u001b[0m, which intelligently replaces missing elements while\n",
       "preserving valid data. We demonstrate significant performance improvements\n",
       "using two datasets: DCASE and LargeSet, where $\\textit\u001b[1m{\u001b[0mLOCUS\u001b[1m}\u001b[0m$ achieves up to\n",
       "$\u001b[1;36m36.91\u001b[0m\\%$ lower DoA error compared to existing methods. Real-world evaluations\n",
       "across three environments with intermittent power sources show a\n",
       "$\u001b[1;36m25.87\u001b[0m-\u001b[1;36m59.46\u001b[0m\\%$ improvement in performance when channels are stochastically\n",
       "missing. Additionally, we release a \u001b[1;36m50\u001b[0m-hour multichannel dataset to support\n",
       "further research in SSL.\n",
       "\n"
      ]
     },
     "metadata": {},
     "output_type": "display_data"
    },
    {
     "data": {
      "text/html": [
       "<pre style=\"white-space:pre;overflow-x:auto;line-height:normal;font-family:Menlo,'DejaVu Sans Mono',consolas,'Courier New',monospace\"><span style=\"color: #800080; text-decoration-color: #800080; font-weight: bold\">IntroducesNewDataset</span><span style=\"font-weight: bold\">(</span>\n",
       "    <span style=\"color: #808000; text-decoration-color: #808000\">explanation</span>=<span style=\"color: #008000; text-decoration-color: #008000\">\"... reason why you think it's a new dataset or not\"</span>,\n",
       "    <span style=\"color: #808000; text-decoration-color: #808000\">label</span>=<span style=\"font-weight: bold\">&lt;</span><span style=\"color: #ff00ff; text-decoration-color: #ff00ff; font-weight: bold\">DatasetLabel.NEW:</span><span style=\"color: #000000; text-decoration-color: #000000\"> </span><span style=\"color: #008000; text-decoration-color: #008000\">'new_dataset'</span><span style=\"font-weight: bold\">&gt;</span>\n",
       "<span style=\"font-weight: bold\">)</span>\n",
       "</pre>\n"
      ],
      "text/plain": [
       "\u001b[1;35mIntroducesNewDataset\u001b[0m\u001b[1m(\u001b[0m\n",
       "    \u001b[33mexplanation\u001b[0m=\u001b[32m\"... reason why you think it's a new dataset or not\"\u001b[0m,\n",
       "    \u001b[33mlabel\u001b[0m=\u001b[1m<\u001b[0m\u001b[1;95mDatasetLabel.NEW:\u001b[0m\u001b[39m \u001b[0m\u001b[32m'new_dataset'\u001b[0m\u001b[1m>\u001b[0m\n",
       "\u001b[1m)\u001b[0m\n"
      ]
     },
     "metadata": {},
     "output_type": "display_data"
    },
    {
     "data": {
      "text/html": [
       "<pre style=\"white-space:pre;overflow-x:auto;line-height:normal;font-family:Menlo,'DejaVu Sans Mono',consolas,'Courier New',monospace\">---\n",
       "</pre>\n"
      ],
      "text/plain": [
       "---\n"
      ]
     },
     "metadata": {},
     "output_type": "display_data"
    }
   ],
   "source": [
    "from rich import print as rich_print\n",
    "\n",
    "structured_results = []\n",
    "for example in examples:\n",
    "    title = example[\"title\"]\n",
    "    abstract = example[\"abstract\"]\n",
    "    prediction = predict_label(example)\n",
    "    structured_results.append(prediction)\n",
    "    rich_print(title)\n",
    "    rich_print(abstract)\n",
    "    rich_print(prediction)\n",
    "    rich_print(\"---\")"
   ]
  },
  {
   "cell_type": "markdown",
   "metadata": {},
   "source": [
    "## Room to think?\n",
    "\n",
    "One of the features of the R1 model is that it has \"reasoning\", which is delineated by <thinking> and </thinking> tags. Since our structured output doesn't allow for this, let's try and see how well the model does without it."
   ]
  },
  {
   "cell_type": "code",
   "execution_count": 215,
   "metadata": {},
   "outputs": [],
   "source": [
    "def predict_label_without_structured_output(\n",
    "    data: dict[str, str], model: str = \"deepseek-r1-distill-qwen-1.5b\", client=client\n",
    ") -> str:\n",
    "    prompt = format_text_as_prompt(data)\n",
    "    messages = [\n",
    "        {\"role\": \"user\", \"content\": prompt},\n",
    "    ]\n",
    "    response = client.chat.completions.create(\n",
    "        model=model,\n",
    "        messages=messages,\n",
    "        temperature=0.7,\n",
    "    )\n",
    "    return response.choices[0].message.content\n"
   ]
  },
  {
   "cell_type": "markdown",
   "metadata": {},
   "source": [
    "We'll compare the results from the two approaches."
   ]
  },
  {
   "cell_type": "code",
   "execution_count": 178,
   "metadata": {},
   "outputs": [
    {
     "data": {
      "text/html": [
       "<pre style=\"white-space:pre;overflow-x:auto;line-height:normal;font-family:Menlo,'DejaVu Sans Mono',consolas,'Courier New',monospace\">An Entropy-based Variable Feature Weighted Fuzzy k-Means Algorithm for\n",
       "  High Dimensional Data\n",
       "</pre>\n"
      ],
      "text/plain": [
       "An Entropy-based Variable Feature Weighted Fuzzy k-Means Algorithm for\n",
       "  High Dimensional Data\n"
      ]
     },
     "metadata": {},
     "output_type": "display_data"
    },
    {
     "data": {
      "text/html": [
       "<pre style=\"white-space:pre;overflow-x:auto;line-height:normal;font-family:Menlo,'DejaVu Sans Mono',consolas,'Courier New',monospace\">  This paper presents a new fuzzy k-means algorithm for the clustering of high\n",
       "dimensional data in various subspaces. Since, In the case of high dimensional\n",
       "data, some features might be irrelevant and relevant but may have different\n",
       "significance in the clustering. For a better clustering, it is crucial to\n",
       "incorporate the contribution of these features in the clustering process. To\n",
       "combine these features, in this paper, we have proposed a new fuzzy k-means\n",
       "clustering algorithm in which the objective function of the fuzzy k-means is\n",
       "modified using two different entropy term. The first entropy term helps to\n",
       "minimize the within-cluster dispersion and maximize the negative entropy to\n",
       "determine clusters to contribute to the association of data points. The second\n",
       "entropy term helps to control the weight of the features because different\n",
       "features have different contributing weights in the clustering process for\n",
       "obtaining the better partition of the data. The efficacy of the proposed method\n",
       "is presented in terms of various clustering measures on multiple datasets and\n",
       "compared with various state-of-the-art methods.\n",
       "\n",
       "</pre>\n"
      ],
      "text/plain": [
       "  This paper presents a new fuzzy k-means algorithm for the clustering of high\n",
       "dimensional data in various subspaces. Since, In the case of high dimensional\n",
       "data, some features might be irrelevant and relevant but may have different\n",
       "significance in the clustering. For a better clustering, it is crucial to\n",
       "incorporate the contribution of these features in the clustering process. To\n",
       "combine these features, in this paper, we have proposed a new fuzzy k-means\n",
       "clustering algorithm in which the objective function of the fuzzy k-means is\n",
       "modified using two different entropy term. The first entropy term helps to\n",
       "minimize the within-cluster dispersion and maximize the negative entropy to\n",
       "determine clusters to contribute to the association of data points. The second\n",
       "entropy term helps to control the weight of the features because different\n",
       "features have different contributing weights in the clustering process for\n",
       "obtaining the better partition of the data. The efficacy of the proposed method\n",
       "is presented in terms of various clustering measures on multiple datasets and\n",
       "compared with various state-of-the-art methods.\n",
       "\n"
      ]
     },
     "metadata": {},
     "output_type": "display_data"
    },
    {
     "name": "stdout",
     "output_type": "stream",
     "text": [
      "Previous: DatasetLabel.NOT_NEW\n",
      "New: <think>\n",
      "Okay, so I need to figure out whether the paper introduces a newly created dataset. The title and abstract are provided.\n",
      "\n",
      "The title is: \"An Entropy-based Variable Feature Weighted Fuzzy k-Means Algorithm for High Dimensional Data.\" It mentions an algorithm related to clustering high-dimensional data using fuzzy k-means with some entropy terms and feature weighting.\n",
      "\n",
      "Looking at the abstract, it says they've proposed a new fuzzy k-means algorithm. The focus is on modifying the objective function by adding two different entropy terms: one to minimize within-cluster dispersion and another to control feature weights because features have varying contributions in clustering.\n",
      "\n",
      "The paper mentions that their method was tested against various datasets and compared with state-of-the-art methods, but there's no explicit mention of introducing a new dataset. They evaluate performance on multiple existing datasets without specifying any novel data creation here.\n",
      "\n",
      "So, the key points are: they're improving an algorithm for high-dimensional clustering but don't indicate creating a new dataset; instead, they apply it to various datasets that already exist.\n",
      "</think>\n",
      "\n",
      "The paper does not introduce a newly created dataset as part of its methodology. It focuses on enhancing an existing fuzzy k-means algorithm and evaluates its performance across multiple existing datasets.\n",
      "\n",
      "```json\n",
      "{\n",
      "    \"label\": \"no_new_dataset\",\n",
      "    \"explanation\": \"The paper discusses modifications to an existing fuzzy k-means algorithm for high-dimensional data, but it does not mention introducing a new dataset. Instead, it evaluates the proposed method on various datasets that likely already exist.\"\n",
      "}\n",
      "```\n"
     ]
    },
    {
     "data": {
      "text/html": [
       "<pre style=\"white-space:pre;overflow-x:auto;line-height:normal;font-family:Menlo,'DejaVu Sans Mono',consolas,'Courier New',monospace\">---\n",
       "</pre>\n"
      ],
      "text/plain": [
       "---\n"
      ]
     },
     "metadata": {},
     "output_type": "display_data"
    },
    {
     "data": {
      "text/html": [
       "<pre style=\"white-space:pre;overflow-x:auto;line-height:normal;font-family:Menlo,'DejaVu Sans Mono',consolas,'Courier New',monospace\">Identifying Influential Brokers on Social Media from Social Network\n",
       "  Structure\n",
       "</pre>\n"
      ],
      "text/plain": [
       "Identifying Influential Brokers on Social Media from Social Network\n",
       "  Structure\n"
      ]
     },
     "metadata": {},
     "output_type": "display_data"
    },
    {
     "data": {
      "text/html": [
       "<pre style=\"white-space:pre;overflow-x:auto;line-height:normal;font-family:Menlo,'DejaVu Sans Mono',consolas,'Courier New',monospace\">  Identifying influencers in a given social network has become an important\n",
       "research problem for various applications, including accelerating the spread of\n",
       "information in viral marketing and preventing the spread of fake news and\n",
       "rumors. The literature contains a rich body of studies on identifying\n",
       "influential source spreaders who can spread their own messages to many other\n",
       "nodes. In contrast, the identification of influential brokers who can spread\n",
       "other nodes' messages to many nodes has not been fully explored. Theoretical\n",
       "and empirical studies suggest that involvement of both influential source\n",
       "spreaders and brokers is a key to facilitating large-scale information\n",
       "diffusion cascades. Therefore, this paper explores ways to identify influential\n",
       "brokers from a given social network. By using three social media datasets, we\n",
       "investigate the characteristics of influential brokers by comparing them with\n",
       "influential source spreaders and central nodes obtained from centrality\n",
       "measures. Our results show that <span style=\"font-weight: bold\">(</span>i<span style=\"font-weight: bold\">)</span> most of the influential source spreaders\n",
       "are not influential brokers <span style=\"font-weight: bold\">(</span>and vice versa<span style=\"font-weight: bold\">)</span> and <span style=\"font-weight: bold\">(</span>ii<span style=\"font-weight: bold\">)</span> the overlap between\n",
       "central nodes and influential brokers is small <span style=\"font-weight: bold\">(</span>less than <span style=\"color: #008080; text-decoration-color: #008080; font-weight: bold\">15</span>%<span style=\"font-weight: bold\">)</span> in Twitter\n",
       "datasets. We also tackle the problem of identifying influential brokers from\n",
       "centrality measures and node embeddings, and we examine the effectiveness of\n",
       "social network features in the broker identification task. Our results show\n",
       "that <span style=\"font-weight: bold\">(</span>iii<span style=\"font-weight: bold\">)</span> although a single centrality measure cannot characterize influential\n",
       "brokers well, prediction models using node embedding features achieve F$_1$\n",
       "scores of <span style=\"color: #008080; text-decoration-color: #008080; font-weight: bold\">0.35</span>-<span style=\"color: #008080; text-decoration-color: #008080; font-weight: bold\">-0.68</span>, suggesting the effectiveness of social network features\n",
       "for identifying influential brokers.\n",
       "\n",
       "</pre>\n"
      ],
      "text/plain": [
       "  Identifying influencers in a given social network has become an important\n",
       "research problem for various applications, including accelerating the spread of\n",
       "information in viral marketing and preventing the spread of fake news and\n",
       "rumors. The literature contains a rich body of studies on identifying\n",
       "influential source spreaders who can spread their own messages to many other\n",
       "nodes. In contrast, the identification of influential brokers who can spread\n",
       "other nodes' messages to many nodes has not been fully explored. Theoretical\n",
       "and empirical studies suggest that involvement of both influential source\n",
       "spreaders and brokers is a key to facilitating large-scale information\n",
       "diffusion cascades. Therefore, this paper explores ways to identify influential\n",
       "brokers from a given social network. By using three social media datasets, we\n",
       "investigate the characteristics of influential brokers by comparing them with\n",
       "influential source spreaders and central nodes obtained from centrality\n",
       "measures. Our results show that \u001b[1m(\u001b[0mi\u001b[1m)\u001b[0m most of the influential source spreaders\n",
       "are not influential brokers \u001b[1m(\u001b[0mand vice versa\u001b[1m)\u001b[0m and \u001b[1m(\u001b[0mii\u001b[1m)\u001b[0m the overlap between\n",
       "central nodes and influential brokers is small \u001b[1m(\u001b[0mless than \u001b[1;36m15\u001b[0m%\u001b[1m)\u001b[0m in Twitter\n",
       "datasets. We also tackle the problem of identifying influential brokers from\n",
       "centrality measures and node embeddings, and we examine the effectiveness of\n",
       "social network features in the broker identification task. Our results show\n",
       "that \u001b[1m(\u001b[0miii\u001b[1m)\u001b[0m although a single centrality measure cannot characterize influential\n",
       "brokers well, prediction models using node embedding features achieve F$_1$\n",
       "scores of \u001b[1;36m0.35\u001b[0m-\u001b[1;36m-0.68\u001b[0m, suggesting the effectiveness of social network features\n",
       "for identifying influential brokers.\n",
       "\n"
      ]
     },
     "metadata": {},
     "output_type": "display_data"
    },
    {
     "name": "stdout",
     "output_type": "stream",
     "text": [
      "Previous: DatasetLabel.NEW\n",
      "New: <think>\n",
      "Okay, so I need to figure out whether the paper titled \"Identifying Influential Brokers on Social Media from Social Network Structure\" introduces a new dataset. Let me break this down.\n",
      "\n",
      "First, looking at the title, it's about identifying influential brokers in social media using network structure. The abstract mentions they used three social media datasets to study these influencers. They compared brokers with source spreaders and central nodes based on centrality measures.\n",
      "\n",
      "The abstract also talks about tackling the problem of identifying brokers from both centrality measures and node embeddings. It evaluates the effectiveness of network features, getting some F1 scores as a result.\n",
      "\n",
      "So, I'm trying to see if they created any new dataset or used existing ones. They mention using three datasets: Twitter in their experiments. The paper doesn't seem to introduce any entirely new type of data beyond what's commonly available, like Twitter datasets. They're analyzing these existing datasets with their methods.\n",
      "\n",
      "Therefore, the paper probably uses existing social media datasets rather than creating a new one.\n",
      "</think>\n",
      "\n",
      "The paper does not introduce a newly created dataset; it utilizes existing social media datasets such as Twitter for its analysis.\n",
      "\n",
      "```json\n",
      "{\n",
      "    \"label\": \"no_new_dataset\",\n",
      "    \"explanation\": \"The paper does not introduce any new datasets. It uses three social media datasets, including Twitter, which are already available data sources.\"\n",
      "}\n",
      "```\n"
     ]
    },
    {
     "data": {
      "text/html": [
       "<pre style=\"white-space:pre;overflow-x:auto;line-height:normal;font-family:Menlo,'DejaVu Sans Mono',consolas,'Courier New',monospace\">---\n",
       "</pre>\n"
      ],
      "text/plain": [
       "---\n"
      ]
     },
     "metadata": {},
     "output_type": "display_data"
    },
    {
     "data": {
      "text/html": [
       "<pre style=\"white-space:pre;overflow-x:auto;line-height:normal;font-family:Menlo,'DejaVu Sans Mono',consolas,'Courier New',monospace\">Improving Performance of Automatic Keyword Extraction <span style=\"font-weight: bold\">(</span>AKE<span style=\"font-weight: bold\">)</span> Methods\n",
       "  Using PoS-Tagging and Enhanced Semantic-Awareness\n",
       "</pre>\n"
      ],
      "text/plain": [
       "Improving Performance of Automatic Keyword Extraction \u001b[1m(\u001b[0mAKE\u001b[1m)\u001b[0m Methods\n",
       "  Using PoS-Tagging and Enhanced Semantic-Awareness\n"
      ]
     },
     "metadata": {},
     "output_type": "display_data"
    },
    {
     "data": {
      "text/html": [
       "<pre style=\"white-space:pre;overflow-x:auto;line-height:normal;font-family:Menlo,'DejaVu Sans Mono',consolas,'Courier New',monospace\">  Automatic keyword extraction <span style=\"font-weight: bold\">(</span>AKE<span style=\"font-weight: bold\">)</span> has gained more importance with the\n",
       "increasing amount of digital textual data that modern computing systems\n",
       "process. It has various applications in information retrieval <span style=\"font-weight: bold\">(</span>IR<span style=\"font-weight: bold\">)</span> and natural\n",
       "language processing <span style=\"font-weight: bold\">(</span>NLP<span style=\"font-weight: bold\">)</span>, including text summarisation, topic analysis and\n",
       "document indexing. This paper proposes a simple but effective\n",
       "post-processing-based universal approach to improve the performance of any AKE\n",
       "methods, via an enhanced level of semantic-awareness supported by PoS-tagging.\n",
       "To demonstrate the performance of the proposed approach, we considered word\n",
       "types retrieved from a PoS-tagging step and two representative sources of\n",
       "semantic information - specialised terms defined in one or more\n",
       "context-dependent thesauri, and named entities in Wikipedia. The above three\n",
       "steps can be simply added to the end of any AKE methods as part of a\n",
       "post-processor, which simply re-evaluate all candidate keywords following some\n",
       "context-specific and semantic-aware criteria. For five state-of-the-art <span style=\"font-weight: bold\">(</span>SOTA<span style=\"font-weight: bold\">)</span>\n",
       "AKE methods, our experimental results with <span style=\"color: #008080; text-decoration-color: #008080; font-weight: bold\">17</span> selected datasets showed that the\n",
       "proposed approach improved their performances both consistently <span style=\"font-weight: bold\">(</span>up to <span style=\"color: #008080; text-decoration-color: #008080; font-weight: bold\">100</span>% in\n",
       "terms of improved cases<span style=\"font-weight: bold\">)</span> and significantly <span style=\"font-weight: bold\">(</span>between <span style=\"color: #008080; text-decoration-color: #008080; font-weight: bold\">10.2</span>% and <span style=\"color: #008080; text-decoration-color: #008080; font-weight: bold\">53.8</span>%, with an\n",
       "average of <span style=\"color: #008080; text-decoration-color: #008080; font-weight: bold\">25.8</span>%, in terms of F1-score and across all five methods<span style=\"font-weight: bold\">)</span>, especially\n",
       "when all the three enhancement steps are used. Our results have profound\n",
       "implications considering the ease to apply our proposed approach to any AKE\n",
       "methods and to further extend it.\n",
       "\n",
       "</pre>\n"
      ],
      "text/plain": [
       "  Automatic keyword extraction \u001b[1m(\u001b[0mAKE\u001b[1m)\u001b[0m has gained more importance with the\n",
       "increasing amount of digital textual data that modern computing systems\n",
       "process. It has various applications in information retrieval \u001b[1m(\u001b[0mIR\u001b[1m)\u001b[0m and natural\n",
       "language processing \u001b[1m(\u001b[0mNLP\u001b[1m)\u001b[0m, including text summarisation, topic analysis and\n",
       "document indexing. This paper proposes a simple but effective\n",
       "post-processing-based universal approach to improve the performance of any AKE\n",
       "methods, via an enhanced level of semantic-awareness supported by PoS-tagging.\n",
       "To demonstrate the performance of the proposed approach, we considered word\n",
       "types retrieved from a PoS-tagging step and two representative sources of\n",
       "semantic information - specialised terms defined in one or more\n",
       "context-dependent thesauri, and named entities in Wikipedia. The above three\n",
       "steps can be simply added to the end of any AKE methods as part of a\n",
       "post-processor, which simply re-evaluate all candidate keywords following some\n",
       "context-specific and semantic-aware criteria. For five state-of-the-art \u001b[1m(\u001b[0mSOTA\u001b[1m)\u001b[0m\n",
       "AKE methods, our experimental results with \u001b[1;36m17\u001b[0m selected datasets showed that the\n",
       "proposed approach improved their performances both consistently \u001b[1m(\u001b[0mup to \u001b[1;36m100\u001b[0m% in\n",
       "terms of improved cases\u001b[1m)\u001b[0m and significantly \u001b[1m(\u001b[0mbetween \u001b[1;36m10.2\u001b[0m% and \u001b[1;36m53.8\u001b[0m%, with an\n",
       "average of \u001b[1;36m25.8\u001b[0m%, in terms of F1-score and across all five methods\u001b[1m)\u001b[0m, especially\n",
       "when all the three enhancement steps are used. Our results have profound\n",
       "implications considering the ease to apply our proposed approach to any AKE\n",
       "methods and to further extend it.\n",
       "\n"
      ]
     },
     "metadata": {},
     "output_type": "display_data"
    },
    {
     "name": "stdout",
     "output_type": "stream",
     "text": [
      "Previous: DatasetLabel.NOT_NEW\n",
      "New: <think>\n",
      "Okay, I'm trying to figure out whether the paper \"Improving Performance of Automatic Keyword Extraction (AKE) Methods Using PoS-Tagging and Enhanced Semantic-Awareness\" introduces a newly created dataset. \n",
      "\n",
      "First, looking at the title suggests that it's about improving an existing AKE method, which implies they're working with existing datasets rather than creating new ones.\n",
      "\n",
      "The abstract mentions experiments conducted on 17 selected datasets for five SOTA AKE methods. They used these datasets to test their approach but didn't mention any new data collection or creation here. \n",
      "\n",
      "So, there's no indication that the paper includes a newly created dataset in its methodology or results section.\n",
      "</think>\n",
      "\n",
      "The paper focuses on enhancing existing AKE methods using PoS-tagging and semantic-aware criteria without introducing new datasets.\n",
      "\n",
      "```json\n",
      "{\n",
      "    \"label\": \"no_new_dataset\",\n",
      "    \"explanation\": \"The paper does not mention any new datasets being created. It evaluates existing 17 datasets with five SOTA AKE methods.\"\n",
      "}\n",
      "```\n"
     ]
    },
    {
     "data": {
      "text/html": [
       "<pre style=\"white-space:pre;overflow-x:auto;line-height:normal;font-family:Menlo,'DejaVu Sans Mono',consolas,'Courier New',monospace\">---\n",
       "</pre>\n"
      ],
      "text/plain": [
       "---\n"
      ]
     },
     "metadata": {},
     "output_type": "display_data"
    },
    {
     "data": {
      "text/html": [
       "<pre style=\"white-space:pre;overflow-x:auto;line-height:normal;font-family:Menlo,'DejaVu Sans Mono',consolas,'Courier New',monospace\">LOCUS: LOcalization with Channel Uncertainty and Sporadic Energy\n",
       "</pre>\n"
      ],
      "text/plain": [
       "LOCUS: LOcalization with Channel Uncertainty and Sporadic Energy\n"
      ]
     },
     "metadata": {},
     "output_type": "display_data"
    },
    {
     "data": {
      "text/html": [
       "<pre style=\"white-space:pre;overflow-x:auto;line-height:normal;font-family:Menlo,'DejaVu Sans Mono',consolas,'Courier New',monospace\">  Accurate sound source localization <span style=\"font-weight: bold\">(</span>SSL<span style=\"font-weight: bold\">)</span> requires consistent multichannel\n",
       "data for reliable degree of arrival <span style=\"font-weight: bold\">(</span>DoA<span style=\"font-weight: bold\">)</span> estimation. However, intermittently\n",
       "powered batteryless systems often suffer from incomplete sensor data due to the\n",
       "stochastic nature of energy harvesting. Existing methods struggle with missing\n",
       "channels, leading to significant performance degradation. In this paper, we\n",
       "propose $\\textit<span style=\"font-weight: bold\">{</span>LOCUS<span style=\"font-weight: bold\">}</span>$, a novel deep learning-based system designed to\n",
       "recover corrupted features for SSL in batteryless systems. $\\textit<span style=\"font-weight: bold\">{</span>LOCUS<span style=\"font-weight: bold\">}</span>$\n",
       "addresses missing data by leveraging information entropy estimation and\n",
       "conditional interpolation, combining three modules: <span style=\"font-weight: bold\">(</span><span style=\"color: #008080; text-decoration-color: #008080; font-weight: bold\">1</span><span style=\"font-weight: bold\">)</span> Information-Weighted\n",
       "Focus <span style=\"font-weight: bold\">(</span>InFo<span style=\"font-weight: bold\">)</span>, which identifies and quantifies corrupted data elements, <span style=\"font-weight: bold\">(</span><span style=\"color: #008080; text-decoration-color: #008080; font-weight: bold\">2</span><span style=\"font-weight: bold\">)</span>\n",
       "Latent Feature Synthesizer <span style=\"font-weight: bold\">(</span>LaFS<span style=\"font-weight: bold\">)</span>, which synthesizes missing features, and <span style=\"font-weight: bold\">(</span><span style=\"color: #008080; text-decoration-color: #008080; font-weight: bold\">3</span><span style=\"font-weight: bold\">)</span>\n",
       "Guided Replacement <span style=\"font-weight: bold\">(</span>GRep<span style=\"font-weight: bold\">)</span>, which intelligently replaces missing elements while\n",
       "preserving valid data. We demonstrate significant performance improvements\n",
       "using two datasets: DCASE and LargeSet, where $\\textit<span style=\"font-weight: bold\">{</span>LOCUS<span style=\"font-weight: bold\">}</span>$ achieves up to\n",
       "$<span style=\"color: #008080; text-decoration-color: #008080; font-weight: bold\">36.91</span>\\%$ lower DoA error compared to existing methods. Real-world evaluations\n",
       "across three environments with intermittent power sources show a\n",
       "$<span style=\"color: #008080; text-decoration-color: #008080; font-weight: bold\">25.87</span>-<span style=\"color: #008080; text-decoration-color: #008080; font-weight: bold\">59.46</span>\\%$ improvement in performance when channels are stochastically\n",
       "missing. Additionally, we release a <span style=\"color: #008080; text-decoration-color: #008080; font-weight: bold\">50</span>-hour multichannel dataset to support\n",
       "further research in SSL.\n",
       "\n",
       "</pre>\n"
      ],
      "text/plain": [
       "  Accurate sound source localization \u001b[1m(\u001b[0mSSL\u001b[1m)\u001b[0m requires consistent multichannel\n",
       "data for reliable degree of arrival \u001b[1m(\u001b[0mDoA\u001b[1m)\u001b[0m estimation. However, intermittently\n",
       "powered batteryless systems often suffer from incomplete sensor data due to the\n",
       "stochastic nature of energy harvesting. Existing methods struggle with missing\n",
       "channels, leading to significant performance degradation. In this paper, we\n",
       "propose $\\textit\u001b[1m{\u001b[0mLOCUS\u001b[1m}\u001b[0m$, a novel deep learning-based system designed to\n",
       "recover corrupted features for SSL in batteryless systems. $\\textit\u001b[1m{\u001b[0mLOCUS\u001b[1m}\u001b[0m$\n",
       "addresses missing data by leveraging information entropy estimation and\n",
       "conditional interpolation, combining three modules: \u001b[1m(\u001b[0m\u001b[1;36m1\u001b[0m\u001b[1m)\u001b[0m Information-Weighted\n",
       "Focus \u001b[1m(\u001b[0mInFo\u001b[1m)\u001b[0m, which identifies and quantifies corrupted data elements, \u001b[1m(\u001b[0m\u001b[1;36m2\u001b[0m\u001b[1m)\u001b[0m\n",
       "Latent Feature Synthesizer \u001b[1m(\u001b[0mLaFS\u001b[1m)\u001b[0m, which synthesizes missing features, and \u001b[1m(\u001b[0m\u001b[1;36m3\u001b[0m\u001b[1m)\u001b[0m\n",
       "Guided Replacement \u001b[1m(\u001b[0mGRep\u001b[1m)\u001b[0m, which intelligently replaces missing elements while\n",
       "preserving valid data. We demonstrate significant performance improvements\n",
       "using two datasets: DCASE and LargeSet, where $\\textit\u001b[1m{\u001b[0mLOCUS\u001b[1m}\u001b[0m$ achieves up to\n",
       "$\u001b[1;36m36.91\u001b[0m\\%$ lower DoA error compared to existing methods. Real-world evaluations\n",
       "across three environments with intermittent power sources show a\n",
       "$\u001b[1;36m25.87\u001b[0m-\u001b[1;36m59.46\u001b[0m\\%$ improvement in performance when channels are stochastically\n",
       "missing. Additionally, we release a \u001b[1;36m50\u001b[0m-hour multichannel dataset to support\n",
       "further research in SSL.\n",
       "\n"
      ]
     },
     "metadata": {},
     "output_type": "display_data"
    },
    {
     "name": "stdout",
     "output_type": "stream",
     "text": [
      "Previous: DatasetLabel.NEW\n",
      "New: <think>\n",
      "Alright, so I'm trying to figure out whether the paper introduces a newly created dataset. Let's look at the information given.\n",
      "\n",
      "First, the title is \"LOCUS: LOcalization with Channel Uncertainty and Sporadic Energy.\" It mentions an acronym LOCUS, which seems to be the main focus of the paper—sound source localization using deep learning methods to handle missing data in batteryless systems.\n",
      "\n",
      "Now looking at the abstract. The authors mention that their method addresses missing channels by leveraging information entropy estimation and conditional interpolation through three modules: InFo, LaFS, and GRep. They demonstrate performance improvements on two datasets called DCASE and LargeSet, achieving up to 36.91% reduction in DoA error compared to existing methods.\n",
      "\n",
      "The abstract also includes a real-world evaluation across three environments with intermittent power sources, showing significant performance improvements when channels are stochastically missing. Additionally, the authors mention releasing a 50-hour multichannel dataset called DCASE 2023 Challenge Set v1.0.\n",
      "\n",
      "From this information, it's clear that the paper not only presents their method but also provides new datasets for evaluation—specifically the DCASE and LargeSet datasets, along with the newly released DCASE challenge set. These datasets are likely used to test and validate the performance of their proposed system, LOCUS.\n",
      "\n",
      "Therefore, since the abstract explicitly states the release of these datasets as part of their contribution and they use them in experiments, this paper does introduce a newly created dataset.\n",
      "</think>\n",
      "\n",
      "The paper \"LOCUS: LOcalization with Channel Uncertainty and Sporadic Energy\" introduces new datasets for evaluating its proposed method. The authors mention releasing two datasets (DCASE and LargeSet) and the DCASE 2023 Challenge Set v1.0, which are used to validate their system's performance.\n",
      "\n",
      "```json\n",
      "{\n",
      "    \"label\": \"new_dataset\",\n",
      "    \"explanation\": \"The paper explicitly mentions the release of new datasets (DCASE, LargeSet, and DCASE 2023 Challenge Set v1.0) for evaluating the proposed method and demonstrates its effectiveness using these datasets.\"\n",
      "}\n",
      "```\n"
     ]
    },
    {
     "data": {
      "text/html": [
       "<pre style=\"white-space:pre;overflow-x:auto;line-height:normal;font-family:Menlo,'DejaVu Sans Mono',consolas,'Courier New',monospace\">---\n",
       "</pre>\n"
      ],
      "text/plain": [
       "---\n"
      ]
     },
     "metadata": {},
     "output_type": "display_data"
    }
   ],
   "source": [
    "# compare the results vs structured output\n",
    "for i, example in enumerate(examples):\n",
    "    rich_print(example[\"title\"])\n",
    "    rich_print(example[\"abstract\"])\n",
    "    prediction = predict_label_without_structured_output(example)\n",
    "    print(f\"Previous: {structured_results[i].label}\")\n",
    "    print(f\"New: {prediction}\")\n",
    "    rich_print(\"---\")"
   ]
  },
  {
   "cell_type": "markdown",
   "metadata": {},
   "source": [
    "While this is definitely a vibes-based assessment, it does seem like the model does better when it has room to think, so we'll proceed with this approach. "
   ]
  },
  {
   "cell_type": "markdown",
   "metadata": {},
   "source": [
    "::: {.callout-note}\n",
    "There are ways to allow for both structured generation and reasoning. I'll post more on that in the future!\n",
    ":::"
   ]
  },
  {
   "cell_type": "markdown",
   "metadata": {},
   "source": [
    "We'll now write a function to extract the JSON from the model's output."
   ]
  },
  {
   "cell_type": "code",
   "execution_count": 179,
   "metadata": {},
   "outputs": [],
   "source": [
    "#| code-fold: true\n",
    "import contextlib\n",
    "import re\n",
    "import json\n",
    "\n",
    "JSON_PATTERN = re.compile(r\"```json\\n(.*?)```\", re.DOTALL)\n",
    "DIRECT_JSON_PATTERN = re.compile(r\"\\{[^}]*\\}\", re.DOTALL)\n",
    "\n",
    "\n",
    "def try_extract_json_from_text(text: str) -> tuple[str, dict | None]:\n",
    "    if match := JSON_PATTERN.search(text):\n",
    "        json_results = match.group(1)\n",
    "        with contextlib.suppress(json.JSONDecodeError):\n",
    "            return text, json.loads(json_results)\n",
    "    if match := DIRECT_JSON_PATTERN.search(text):\n",
    "        json_text = match.group(0)\n",
    "        with contextlib.suppress(json.JSONDecodeError):\n",
    "            return text, json.loads(json_text)\n",
    "    return text, None"
   ]
  },
  {
   "cell_type": "code",
   "execution_count": 180,
   "metadata": {},
   "outputs": [
    {
     "data": {
      "text/plain": [
       "('<think>\\nOkay, so I\\'m trying to figure out whether the paper titled \"An Entropy-based Variable Feature Weighted Fuzzy k-Means Algorithm for High Dimensional Data\" introduces a newly created dataset. Let me go through this step by step.\\n\\nFirst, I look at the title. The title mentions an algorithm called fuzzy k-means that\\'s been modified with entropy terms and feature weighting to handle high-dimensional data. It doesn\\'t explicitly say anything about introducing new datasets, but it does focus on improving clustering in such data environments, which often involves dealing with irrelevant or less important features.\\n\\nNow, looking at the abstract. The paper discusses modifying the fuzzy k-means algorithm by incorporating two entropy terms: one for within-cluster dispersion and negative entropy to determine clusters, and another to control feature weights because different features have varying contributions. They compare their method\\'s efficacy using various clustering measures on multiple datasets against state-of-the-art methods.\\n\\nHmm, so in both the title and abstract, I don\\'t see any mention of a new dataset being created or introduced. The focus is more on improving an existing algorithm to better handle high-dimensional data rather than introducing entirely new data for analysis.\\n\\nI should also consider whether it\\'s possible that the paper might use standard datasets without explicitly stating so. For example, many clustering algorithms are tested on common datasets like MNIST, CIFAR-10, etc., especially when dealing with high-dimensional data because these datasets have numerous features after preprocessing (like PCA or similar techniques). However, since the abstract doesn\\'t specify which datasets they used or mention any novel datasets, it\\'s more about comparing performance rather than introducing a new dataset.\\n\\nSo, putting this together: The paper presents an improved clustering algorithm but doesn\\'t introduce a new dataset. It evaluates its performance on existing ones, hence likely \"no_new_dataset.\"\\n</think>\\n\\nThe paper discusses an enhanced fuzzy k-means algorithm designed for high-dimensional data, focusing on improving the clustering process by incorporating entropy terms and feature weighting. While it addresses challenges in handling irrelevant or less significant features, there is no mention of introducing a new dataset. Instead, it evaluates its method against existing datasets using various metrics.\\n\\n```json\\n{\\n    \"label\": \"no_new_dataset\",\\n    \"explanation\": \"The paper does not introduce a newly created dataset; instead, it focuses on improving an algorithm to handle high-dimensional data by modifying the objective function with entropy terms and feature weighting. It evaluates its performance on existing datasets without introducing new ones.\"\\n}\\n```',\n",
       " {'label': 'no_new_dataset',\n",
       "  'explanation': 'The paper does not introduce a newly created dataset; instead, it focuses on improving an algorithm to handle high-dimensional data by modifying the objective function with entropy terms and feature weighting. It evaluates its performance on existing datasets without introducing new ones.'})"
      ]
     },
     "execution_count": 180,
     "metadata": {},
     "output_type": "execute_result"
    }
   ],
   "source": [
    "prediction = predict_label_without_structured_output(examples[0])\n",
    "try_extract_json_from_text(prediction)\n"
   ]
  },
  {
   "cell_type": "markdown",
   "metadata": {},
   "source": [
    "Let's see how well this works on all the examples we had before "
   ]
  },
  {
   "cell_type": "code",
   "execution_count": 181,
   "metadata": {},
   "outputs": [
    {
     "data": {
      "text/plain": [
       "[]"
      ]
     },
     "execution_count": 181,
     "metadata": {},
     "output_type": "execute_result"
    }
   ],
   "source": [
    "results = [predict_label_without_structured_output(example) for example in examples]\n",
    "parsed_results = [try_extract_json_from_text(result) for result in results]\n",
    "[p for p in parsed_results if p[1] is None]"
   ]
  },
  {
   "cell_type": "markdown",
   "metadata": {},
   "source": [
    "We can see in this example we don't have any examples where we don't get a valid JSON object (this is why we get back an empty list).\n",
    "\n",
    "Although we might miss a few examples where we don't get a valid JSON object when doing the full dataset, let's proceed with this approach since the model does much better when given room to reason. \n",
    "\n",
    "We'll now use the hosted version of the model to generate labels for the entire dataset. For this version, we'll use a dedicated Hugging Face inference endpoint, but if we wanted to use the full R1 model, we could use the new Inference Providers feature on the Hub. See this [blog post](https://huggingface.co/blog/inference-providers) for more information."
   ]
  },
  {
   "cell_type": "code",
   "execution_count": 221,
   "metadata": {},
   "outputs": [],
   "source": [
    "#| code-fold: true\n",
    "from openai import OpenAI\n",
    "import os\n",
    "from dotenv import load_dotenv\n",
    "\n",
    "load_dotenv()\n",
    "\n",
    "client = OpenAI(\n",
    "    base_url=\"https://tgtdz7g5h3sd1lov.us-east-1.aws.endpoints.huggingface.cloud/v1/\",\n",
    "    api_key=os.getenv(\"HF_TOKEN\"),\n",
    ")\n"
   ]
  },
  {
   "cell_type": "code",
   "execution_count": 222,
   "metadata": {},
   "outputs": [
    {
     "data": {
      "text/html": [
       "<pre style=\"white-space:pre;overflow-x:auto;line-height:normal;font-family:Menlo,'DejaVu Sans Mono',consolas,'Courier New',monospace\"><span style=\"font-weight: bold\">&lt;</span><span style=\"color: #ff00ff; text-decoration-color: #ff00ff; font-weight: bold\">think</span><span style=\"color: #000000; text-decoration-color: #000000\">&gt;</span>\n",
       "<span style=\"color: #000000; text-decoration-color: #000000\">Alright, I'm looking at this paper to determine if it introduces a newly created dataset. The title mentions </span>\n",
       "<span style=\"color: #008000; text-decoration-color: #008000\">\"Holistic Autonomous Driving Understanding by Bird's-Eye-View Injected Multi-Modal Large Models.\"</span><span style=\"color: #000000; text-decoration-color: #000000\"> The word </span>\n",
       "<span style=\"color: #008000; text-decoration-color: #008000\">\"dataset\"</span><span style=\"color: #000000; text-decoration-color: #000000\"> isn't in the title, but the abstract gives more details.</span>\n",
       "\n",
       "<span style=\"color: #000000; text-decoration-color: #000000\">In the abstract, the authors talk about introducing NuInstruct, which they describe as a novel dataset. It has 91K </span>\n",
       "<span style=\"color: #000000; text-decoration-color: #000000\">multi-view video-QA pairs across </span><span style=\"color: #008080; text-decoration-color: #008080; font-weight: bold\">17</span><span style=\"color: #000000; text-decoration-color: #000000\"> subtasks. This indicates that they've created a new collection of data </span>\n",
       "<span style=\"color: #000000; text-decoration-color: #000000\">specifically for their research. They also mention a SQL-based method for generating instruction-response pairs </span>\n",
       "<span style=\"color: #000000; text-decoration-color: #000000\">automatically, which suggests they developed a systematic approach to build this dataset.</span>\n",
       "\n",
       "<span style=\"color: #000000; text-decoration-color: #000000\">Furthermore, the paper introduces a new method called BEV-InMLLM, which uses this dataset. They report experiments </span>\n",
       "<span style=\"color: #000000; text-decoration-color: #000000\">on NuInstruct showing improvements, and they plan to release it for future research. This release plan is another </span>\n",
       "<span style=\"color: #000000; text-decoration-color: #000000\">indicator that they've created a new dataset intended for broader use.</span>\n",
       "\n",
       "<span style=\"color: #000000; text-decoration-color: #000000\">Putting it all together, the paper clearly states the creation of NuInstruct, its characteristics, and their </span>\n",
       "<span style=\"color: #000000; text-decoration-color: #000000\">intention to share it. Therefore, it's introducing a new dataset.</span>\n",
       "<span style=\"color: #000000; text-decoration-color: #000000\">&lt;</span><span style=\"color: #800080; text-decoration-color: #800080\">/</span><span style=\"color: #ff00ff; text-decoration-color: #ff00ff\">think</span><span style=\"font-weight: bold\">&gt;</span>\n",
       "\n",
       "```json\n",
       "<span style=\"font-weight: bold\">{</span>\n",
       "    <span style=\"color: #008000; text-decoration-color: #008000\">\"label\"</span>: <span style=\"color: #008000; text-decoration-color: #008000\">\"new_dataset\"</span>,\n",
       "    <span style=\"color: #008000; text-decoration-color: #008000\">\"explanation\"</span>: <span style=\"color: #008000; text-decoration-color: #008000\">\"The paper explicitly introduces NuInstruct, a novel dataset with 91K multi-view video-QA pairs </span>\n",
       "<span style=\"color: #008000; text-decoration-color: #008000\">across 17 subtasks. The authors describe its creation method and plan to release it for future research, clearly </span>\n",
       "<span style=\"color: #008000; text-decoration-color: #008000\">indicating the introduction of a new dataset.\"</span>\n",
       "<span style=\"font-weight: bold\">}</span>\n",
       "```\n",
       "</pre>\n"
      ],
      "text/plain": [
       "\u001b[1m<\u001b[0m\u001b[1;95mthink\u001b[0m\u001b[39m>\u001b[0m\n",
       "\u001b[39mAlright, I'm looking at this paper to determine if it introduces a newly created dataset. The title mentions \u001b[0m\n",
       "\u001b[32m\"Holistic Autonomous Driving Understanding by Bird's-Eye-View Injected Multi-Modal Large Models.\"\u001b[0m\u001b[39m The word \u001b[0m\n",
       "\u001b[32m\"dataset\"\u001b[0m\u001b[39m isn't in the title, but the abstract gives more details.\u001b[0m\n",
       "\n",
       "\u001b[39mIn the abstract, the authors talk about introducing NuInstruct, which they describe as a novel dataset. It has 91K \u001b[0m\n",
       "\u001b[39mmulti-view video-QA pairs across \u001b[0m\u001b[1;36m17\u001b[0m\u001b[39m subtasks. This indicates that they've created a new collection of data \u001b[0m\n",
       "\u001b[39mspecifically for their research. They also mention a SQL-based method for generating instruction-response pairs \u001b[0m\n",
       "\u001b[39mautomatically, which suggests they developed a systematic approach to build this dataset.\u001b[0m\n",
       "\n",
       "\u001b[39mFurthermore, the paper introduces a new method called BEV-InMLLM, which uses this dataset. They report experiments \u001b[0m\n",
       "\u001b[39mon NuInstruct showing improvements, and they plan to release it for future research. This release plan is another \u001b[0m\n",
       "\u001b[39mindicator that they've created a new dataset intended for broader use.\u001b[0m\n",
       "\n",
       "\u001b[39mPutting it all together, the paper clearly states the creation of NuInstruct, its characteristics, and their \u001b[0m\n",
       "\u001b[39mintention to share it. Therefore, it's introducing a new dataset.\u001b[0m\n",
       "\u001b[39m<\u001b[0m\u001b[35m/\u001b[0m\u001b[95mthink\u001b[0m\u001b[1m>\u001b[0m\n",
       "\n",
       "```json\n",
       "\u001b[1m{\u001b[0m\n",
       "    \u001b[32m\"label\"\u001b[0m: \u001b[32m\"new_dataset\"\u001b[0m,\n",
       "    \u001b[32m\"explanation\"\u001b[0m: \u001b[32m\"The paper explicitly introduces NuInstruct, a novel dataset with 91K multi-view video-QA pairs \u001b[0m\n",
       "\u001b[32macross 17 subtasks. The authors describe its creation method and plan to release it for future research, clearly \u001b[0m\n",
       "\u001b[32mindicating the introduction of a new dataset.\"\u001b[0m\n",
       "\u001b[1m}\u001b[0m\n",
       "```\n"
      ]
     },
     "metadata": {},
     "output_type": "display_data"
    }
   ],
   "source": [
    "rich_print(\n",
    "    predict_label_without_structured_output(\n",
    "        examples[0], model=\"deepseek-ai/DeepSeek-R1-Distill-Qwen-32B\", client=client\n",
    "    )\n",
    ")"
   ]
  },
  {
   "cell_type": "markdown",
   "metadata": {},
   "source": [
    "We'll now sample 3000 examples from the dataset and use the hosted model to generate labels for them."
   ]
  },
  {
   "cell_type": "code",
   "execution_count": 223,
   "metadata": {
    "id": "UFjZ_xPPHEun"
   },
   "outputs": [],
   "source": [
    "sample_df = df.sample(3000, seed=42)"
   ]
  },
  {
   "cell_type": "code",
   "execution_count": 224,
   "metadata": {
    "id": "kdj6kdSaG0Cy"
   },
   "outputs": [],
   "source": [
    "examples = sample_df.select(pl.col([\"abstract\", \"title\"])).to_dicts()"
   ]
  },
  {
   "cell_type": "markdown",
   "metadata": {},
   "source": [
    "We create a function to predict the labels using the hosted model. We'll use the `stamina` library to retry the request if it fails."
   ]
  },
  {
   "cell_type": "code",
   "execution_count": 225,
   "metadata": {},
   "outputs": [],
   "source": [
    "#| code-fold: true\n",
    "import stamina\n",
    "from openai import APIConnectionError, APIStatusError\n",
    "\n",
    "\n",
    "@stamina.retry(on=(APIConnectionError, APIStatusError), attempts=3)\n",
    "def predict_hf_endpoint(data: dict[str, str], model: str = \"tgi\", client=client):\n",
    "    return predict_label_without_structured_output(data, model, client)\n",
    "\n",
    "\n",
    "def predict(data):\n",
    "    try:\n",
    "        return predict_hf_endpoint(data)\n",
    "    except Exception as e:\n",
    "        print(e)\n",
    "        return None"
   ]
  },
  {
   "cell_type": "markdown",
   "metadata": {},
   "source": [
    "Get the results from the model."
   ]
  },
  {
   "cell_type": "code",
   "execution_count": null,
   "metadata": {},
   "outputs": [],
   "source": [
    "from tqdm.contrib.concurrent import thread_map\n",
    "\n",
    "results = thread_map(predict, examples, max_workers=5)"
   ]
  },
  {
   "cell_type": "markdown",
   "metadata": {},
   "source": [
    "Let's take a look at the first result\n"
   ]
  },
  {
   "cell_type": "code",
   "execution_count": 192,
   "metadata": {},
   "outputs": [
    {
     "data": {
      "text/html": [
       "<pre style=\"white-space:pre;overflow-x:auto;line-height:normal;font-family:Menlo,'DejaVu Sans Mono',consolas,'Courier New',monospace\"><span style=\"font-weight: bold\">&lt;</span><span style=\"color: #ff00ff; text-decoration-color: #ff00ff; font-weight: bold\">think</span><span style=\"color: #000000; text-decoration-color: #000000\">&gt;</span>\n",
       "<span style=\"color: #000000; text-decoration-color: #000000\">Okay, so I need to figure out if the given arXiv paper introduces a newly created dataset. Let's look at the title </span>\n",
       "<span style=\"color: #000000; text-decoration-color: #000000\">and abstract carefully.</span>\n",
       "\n",
       "<span style=\"color: #000000; text-decoration-color: #000000\">The title is </span><span style=\"color: #008000; text-decoration-color: #008000\">\"Holistic Autonomous Driving Understanding by Bird's-Eye-View Injected Multi-Modal Large Models.\"</span><span style=\"color: #000000; text-decoration-color: #000000\"> That</span>\n",
       "<span style=\"color: #000000; text-decoration-color: #000000\">immediately suggests it's about a dataset related to autonomous driving. The abstract mentions that the paper </span>\n",
       "<span style=\"color: #000000; text-decoration-color: #000000\">introduces a dataset called NuInstruct, which has 91K multi-view video-QA pairs across </span><span style=\"color: #008080; text-decoration-color: #008080; font-weight: bold\">17</span><span style=\"color: #000000; text-decoration-color: #000000\"> subtasks. Each task </span>\n",
       "<span style=\"color: #000000; text-decoration-color: #000000\">requires holistic information like temporal, multi-view, and spatial data, making the challenges higher.</span>\n",
       "\n",
       "<span style=\"color: #000000; text-decoration-color: #000000\">The authors propose a method using SQL to generate instruction-response pairs automatically, inspired by human </span>\n",
       "<span style=\"color: #000000; text-decoration-color: #000000\">driving logic. They also introduce BEV-InMLLM, an end-to-end method that enhances large language models by </span>\n",
       "<span style=\"color: #000000; text-decoration-color: #000000\">integrating BEV features, language alignment, and tasks like multi-view, spatial awareness, and temporal semantics.</span>\n",
       "<span style=\"color: #000000; text-decoration-color: #000000\">They note that their BEV injection module is plug-and-play for existing MLLMs.</span>\n",
       "\n",
       "<span style=\"color: #000000; text-decoration-color: #000000\">Experiments on NuInstruct show significant improvements over existing MLLMs. The authors also mention releasing the</span>\n",
       "<span style=\"color: #000000; text-decoration-color: #000000\">dataset for future research.</span>\n",
       "\n",
       "<span style=\"color: #000000; text-decoration-color: #000000\">So, from the title, abstract, and details, it's clear that NuInstruct is a new dataset they created specifically </span>\n",
       "<span style=\"color: #000000; text-decoration-color: #000000\">for their research. They describe it in detail, including the structure and methods used, so it's definitely a </span>\n",
       "<span style=\"color: #000000; text-decoration-color: #000000\">newly created dataset aimed at advancing autonomous driving through language models.</span>\n",
       "<span style=\"color: #000000; text-decoration-color: #000000\">&lt;</span><span style=\"color: #800080; text-decoration-color: #800080\">/</span><span style=\"color: #ff00ff; text-decoration-color: #ff00ff\">think</span><span style=\"font-weight: bold\">&gt;</span>\n",
       "\n",
       "```json\n",
       "<span style=\"font-weight: bold\">{</span>\n",
       "    <span style=\"color: #008000; text-decoration-color: #008000\">\"label\"</span>: <span style=\"color: #008000; text-decoration-color: #008000\">\"new_dataset\"</span>,\n",
       "    <span style=\"color: #008000; text-decoration-color: #008000\">\"explanation\"</span>: <span style=\"color: #008000; text-decoration-color: #008000\">\"The paper introduces a dataset called NuInstruct with 91K multi-view video-QA pairs across 17 </span>\n",
       "<span style=\"color: #008000; text-decoration-color: #008000\">subtasks, each requiring holistic information for robust autonomous driving tasks. The authors detail its structure</span>\n",
       "<span style=\"color: #008000; text-decoration-color: #008000\">and methods for creation, confirming it as a newly developed dataset.\"</span>\n",
       "<span style=\"font-weight: bold\">}</span>\n",
       "```\n",
       "</pre>\n"
      ],
      "text/plain": [
       "\u001b[1m<\u001b[0m\u001b[1;95mthink\u001b[0m\u001b[39m>\u001b[0m\n",
       "\u001b[39mOkay, so I need to figure out if the given arXiv paper introduces a newly created dataset. Let's look at the title \u001b[0m\n",
       "\u001b[39mand abstract carefully.\u001b[0m\n",
       "\n",
       "\u001b[39mThe title is \u001b[0m\u001b[32m\"Holistic Autonomous Driving Understanding by Bird's-Eye-View Injected Multi-Modal Large Models.\"\u001b[0m\u001b[39m That\u001b[0m\n",
       "\u001b[39mimmediately suggests it's about a dataset related to autonomous driving. The abstract mentions that the paper \u001b[0m\n",
       "\u001b[39mintroduces a dataset called NuInstruct, which has 91K multi-view video-QA pairs across \u001b[0m\u001b[1;36m17\u001b[0m\u001b[39m subtasks. Each task \u001b[0m\n",
       "\u001b[39mrequires holistic information like temporal, multi-view, and spatial data, making the challenges higher.\u001b[0m\n",
       "\n",
       "\u001b[39mThe authors propose a method using SQL to generate instruction-response pairs automatically, inspired by human \u001b[0m\n",
       "\u001b[39mdriving logic. They also introduce BEV-InMLLM, an end-to-end method that enhances large language models by \u001b[0m\n",
       "\u001b[39mintegrating BEV features, language alignment, and tasks like multi-view, spatial awareness, and temporal semantics.\u001b[0m\n",
       "\u001b[39mThey note that their BEV injection module is plug-and-play for existing MLLMs.\u001b[0m\n",
       "\n",
       "\u001b[39mExperiments on NuInstruct show significant improvements over existing MLLMs. The authors also mention releasing the\u001b[0m\n",
       "\u001b[39mdataset for future research.\u001b[0m\n",
       "\n",
       "\u001b[39mSo, from the title, abstract, and details, it's clear that NuInstruct is a new dataset they created specifically \u001b[0m\n",
       "\u001b[39mfor their research. They describe it in detail, including the structure and methods used, so it's definitely a \u001b[0m\n",
       "\u001b[39mnewly created dataset aimed at advancing autonomous driving through language models.\u001b[0m\n",
       "\u001b[39m<\u001b[0m\u001b[35m/\u001b[0m\u001b[95mthink\u001b[0m\u001b[1m>\u001b[0m\n",
       "\n",
       "```json\n",
       "\u001b[1m{\u001b[0m\n",
       "    \u001b[32m\"label\"\u001b[0m: \u001b[32m\"new_dataset\"\u001b[0m,\n",
       "    \u001b[32m\"explanation\"\u001b[0m: \u001b[32m\"The paper introduces a dataset called NuInstruct with 91K multi-view video-QA pairs across 17 \u001b[0m\n",
       "\u001b[32msubtasks, each requiring holistic information for robust autonomous driving tasks. The authors detail its structure\u001b[0m\n",
       "\u001b[32mand methods for creation, confirming it as a newly developed dataset.\"\u001b[0m\n",
       "\u001b[1m}\u001b[0m\n",
       "```\n"
      ]
     },
     "metadata": {},
     "output_type": "display_data"
    }
   ],
   "source": [
    "rich_print(results[0])"
   ]
  },
  {
   "cell_type": "code",
   "execution_count": 193,
   "metadata": {},
   "outputs": [
    {
     "data": {
      "text/plain": [
       "('<think>\\nOkay, so I need to figure out if the given arXiv paper introduces a newly created dataset. Let\\'s look at the title and abstract carefully.\\n\\nThe title is \"Holistic Autonomous Driving Understanding by Bird\\'s-Eye-View Injected Multi-Modal Large Models.\" That immediately suggests it\\'s about a dataset related to autonomous driving. The abstract mentions that the paper introduces a dataset called NuInstruct, which has 91K multi-view video-QA pairs across 17 subtasks. Each task requires holistic information like temporal, multi-view, and spatial data, making the challenges higher.\\n\\nThe authors propose a method using SQL to generate instruction-response pairs automatically, inspired by human driving logic. They also introduce BEV-InMLLM, an end-to-end method that enhances large language models by integrating BEV features, language alignment, and tasks like multi-view, spatial awareness, and temporal semantics. They note that their BEV injection module is plug-and-play for existing MLLMs.\\n\\nExperiments on NuInstruct show significant improvements over existing MLLMs. The authors also mention releasing the dataset for future research.\\n\\nSo, from the title, abstract, and details, it\\'s clear that NuInstruct is a new dataset they created specifically for their research. They describe it in detail, including the structure and methods used, so it\\'s definitely a newly created dataset aimed at advancing autonomous driving through language models.\\n</think>\\n\\n```json\\n{\\n    \"label\": \"new_dataset\",\\n    \"explanation\": \"The paper introduces a dataset called NuInstruct with 91K multi-view video-QA pairs across 17 subtasks, each requiring holistic information for robust autonomous driving tasks. The authors detail its structure and methods for creation, confirming it as a newly developed dataset.\"\\n}\\n```',\n",
       " {'label': 'new_dataset',\n",
       "  'explanation': 'The paper introduces a dataset called NuInstruct with 91K multi-view video-QA pairs across 17 subtasks, each requiring holistic information for robust autonomous driving tasks. The authors detail its structure and methods for creation, confirming it as a newly developed dataset.'})"
      ]
     },
     "execution_count": 193,
     "metadata": {},
     "output_type": "execute_result"
    }
   ],
   "source": [
    "try_extract_json_from_text(results[0])"
   ]
  },
  {
   "cell_type": "markdown",
   "metadata": {},
   "source": [
    "We'll do a bit of cleaning up of the results to get them in a format we can add to our existing dataframe."
   ]
  },
  {
   "cell_type": "code",
   "execution_count": 194,
   "metadata": {},
   "outputs": [],
   "source": [
    "#| code-fold: true\n",
    "parsed_results = [try_extract_json_from_text(result) for result in results]"
   ]
  },
  {
   "cell_type": "code",
   "execution_count": 195,
   "metadata": {},
   "outputs": [
    {
     "data": {
      "text/plain": [
       "[('<think>\\nOkay, so I need to figure out if the given arXiv paper introduces a newly created dataset. Let\\'s look at the title and abstract carefully.\\n\\nThe title is \"Holistic Autonomous Driving Understanding by Bird\\'s-Eye-View Injected Multi-Modal Large Models.\" That immediately suggests it\\'s about a dataset related to autonomous driving. The abstract mentions that the paper introduces a dataset called NuInstruct, which has 91K multi-view video-QA pairs across 17 subtasks. Each task requires holistic information like temporal, multi-view, and spatial data, making the challenges higher.\\n\\nThe authors propose a method using SQL to generate instruction-response pairs automatically, inspired by human driving logic. They also introduce BEV-InMLLM, an end-to-end method that enhances large language models by integrating BEV features, language alignment, and tasks like multi-view, spatial awareness, and temporal semantics. They note that their BEV injection module is plug-and-play for existing MLLMs.\\n\\nExperiments on NuInstruct show significant improvements over existing MLLMs. The authors also mention releasing the dataset for future research.\\n\\nSo, from the title, abstract, and details, it\\'s clear that NuInstruct is a new dataset they created specifically for their research. They describe it in detail, including the structure and methods used, so it\\'s definitely a newly created dataset aimed at advancing autonomous driving through language models.\\n</think>\\n\\n```json\\n{\\n    \"label\": \"new_dataset\",\\n    \"explanation\": \"The paper introduces a dataset called NuInstruct with 91K multi-view video-QA pairs across 17 subtasks, each requiring holistic information for robust autonomous driving tasks. The authors detail its structure and methods for creation, confirming it as a newly developed dataset.\"\\n}\\n```',\n",
       "  {'label': 'new_dataset',\n",
       "   'explanation': 'The paper introduces a dataset called NuInstruct with 91K multi-view video-QA pairs across 17 subtasks, each requiring holistic information for robust autonomous driving tasks. The authors detail its structure and methods for creation, confirming it as a newly developed dataset.'}),\n",
       " ('<think>\\nOkay, so I need to figure out whether the paper \"BRACE: The Breakdancing Competition Dataset for Dance Motion Synthesis\" introduces a newly created dataset. Let me start by reading the title and abstract carefully.\\n\\nThe title mentions \"BRACE: The Breakdancing Competition Dataset.\" That suggests it\\'s introducing a dataset named BRACE. The abstract goes into more detail about what the dataset is. It says that generative models for audio-conditioned dance motion synthesis are trained, but these models rely on certain assumptions, like strong music-dance correlation and controlled motion data. The paper points out that existing datasets have limitations and introduces BRACE to challenge these assumptions by providing complex human poses, specifically focusing on breakdancing which includes acrobatic moves and tangled postures.\\n\\nThe authors mention that they used data from the Red Bull BC One competition videos. They faced challenges like estimating human keypoints due to the complexity of the dance and multiple cameras. To address this, they used a hybrid labeling pipeline combining deep estimation models and manual annotations to get high-quality keypoint sequences. The result is a dataset with over 3 hours and 30 minutes of densely annotated poses. They tested state-of-the-art methods and found their limitations with complex sequences, arguing that their dataset can advance dance motion synthesis by forcing models to reason more about body structure and movements.\\n\\nSo, putting this together, the paper is introducing a new dataset called BRACE. They created it by compiling dynamic dance sequences from Red Bull BC One videos, faced challenges in data annotation, and developed a hybrid approach to overcome these issues. They then used this dataset to evaluate existing methods and highlight its potential to push the boundaries of dance motion synthesis.\\n\\nI don\\'t see any indication that this dataset isn\\'t new. The abstract clearly states the creation of BRACE, describes the data sources and processing methods, and the purpose of the dataset. Therefore, it\\'s clear that the authors are introducing this dataset as part of their contribution.\\n</think>\\n\\nThe paper introduces a new dataset called BRACE, which is specifically designed for dance motion synthesis. The authors detail the creation of this dataset, including the challenges faced and the methods used to compile and process the data. Therefore, the paper clearly introduces a newly created dataset.\\n\\n```json\\n{\\n    \"label\": \"new_dataset\",\\n    \"explanation\": \"The paper introduces a new dataset named BRACE, detailing its creation, challenges faced, and the purpose of providing complex dance sequences to advance motion synthesis.\"\\n}\\n```',\n",
       "  {'label': 'new_dataset',\n",
       "   'explanation': 'The paper introduces a new dataset named BRACE, detailing its creation, challenges faced, and the purpose of providing complex dance sequences to advance motion synthesis.'}),\n",
       " ('<think>\\nOkay, I need to determine whether the arXiv paper titled \"RET-CLIP: A Retinal Image Foundation Model Pre-trained with Clinical Diagnostic Reports\" introduces a newly created dataset. Let me start by reading through the title and abstract carefully to extract relevant information.\\n\\nThe title mentions that RET-CLIP is a model pre-trained using clinical diagnostic reports. The abstract elaborates that RET-CLIP was trained on a dataset of 193,865 patients. It highlights that the model focuses on extracting features from color fundus photographs (CFPs) and uses a tripartite optimization strategy covering the left eye, right eye, and patient level.\\n\\nNow, the key point is whether this dataset of 193,865 patients is newly created or if it\\'s referring to an existing dataset. The abstract doesn\\'t explicitly state that this dataset is new; it simply describes it as a dataset used for training. The focus is on the model\\'s architecture and training strategy rather than the dataset\\'s origin.\\n\\nTypically, when a paper mentions training a model on a dataset, they might reference an existing one unless they specify that it\\'s newly collected. Since the abstract doesn\\'t provide details about the dataset\\'s origin, such as whether it\\'s publicly available, if it\\'s proprietary, or if it\\'s a new collection, it\\'s safer to assume that the dataset might not be newly created. However, the exact nature of the dataset isn\\'t clarified, so without explicit information, it\\'s hard to confirm if it\\'s new.\\n\\nBut considering the context, the paper is about medical imaging and clinical reports, which are fields where large datasets are often publicly available or shared. The mention of 193,865 patients could imply a significant dataset, possibly derived from existing public resources. Therefore, it\\'s plausible that the dataset isn\\'t newly created but rather an aggregation or expansion of existing data.\\n\\nIn conclusion, there\\'s insufficient information to confirm that a new dataset was introduced, so the label should be \"no_new_dataset\".\\n</think>\\n\\n```json\\n{\\n    \"label\": \"no_new_dataset\",\\n    \"explanation\": \"The paper describes a dataset of 193,865 patients used to train the RET-CLIP model but does not explicitly state that this dataset is newly created. It is possible that the dataset is derived from existing public resources or aggregated data in the medical field.\"\\n}\\n```',\n",
       "  {'label': 'no_new_dataset',\n",
       "   'explanation': 'The paper describes a dataset of 193,865 patients used to train the RET-CLIP model but does not explicitly state that this dataset is newly created. It is possible that the dataset is derived from existing public resources or aggregated data in the medical field.'})]"
      ]
     },
     "execution_count": 195,
     "metadata": {},
     "output_type": "execute_result"
    }
   ],
   "source": [
    "parsed_results[:3]"
   ]
  },
  {
   "cell_type": "code",
   "execution_count": 196,
   "metadata": {
    "id": "WCy4kOozVfsI"
   },
   "outputs": [],
   "source": [
    "#| code-fold: true\n",
    "labels_and_explanations = [\n",
    "    (result[1].get(\"label\"), result[1].get(\"explanation\"))\n",
    "    if result[1] is not None and isinstance(result[1], dict)\n",
    "    else (None, None)\n",
    "    for result in parsed_results\n",
    "]\n",
    "\n",
    "# Unzip the list of tuples into separate lists\n",
    "labels, explanations = zip(*labels_and_explanations)\n",
    "lables = list(labels)\n",
    "explanations = list(explanations)\n",
    "sample_df = sample_df.with_columns(\n",
    "    pl.Series(lables).alias(\"labels\"),\n",
    "    pl.Series(explanations).alias(\"explanations\"),\n",
    ")"
   ]
  },
  {
   "cell_type": "code",
   "execution_count": 200,
   "metadata": {
    "colab": {
     "base_uri": "https://localhost:8080/",
     "height": 1000
    },
    "id": "Ib_1wfJxXPE8",
    "outputId": "80b9e6b0-7449-4731-ebad-1aa37373bc3d"
   },
   "outputs": [
    {
     "data": {
      "text/html": [
       "<div><style>\n",
       ".dataframe > thead > tr,\n",
       ".dataframe > tbody > tr {\n",
       "  text-align: right;\n",
       "  white-space: pre-wrap;\n",
       "}\n",
       "</style>\n",
       "<small>shape: (1, 16)</small><table border=\"1\" class=\"dataframe\"><thead><tr><th>id</th><th>submitter</th><th>authors</th><th>title</th><th>comments</th><th>journal-ref</th><th>doi</th><th>report-no</th><th>categories</th><th>license</th><th>abstract</th><th>versions</th><th>update_date</th><th>authors_parsed</th><th>labels</th><th>explanations</th></tr><tr><td>str</td><td>str</td><td>str</td><td>str</td><td>str</td><td>str</td><td>str</td><td>str</td><td>str</td><td>str</td><td>str</td><td>list[struct[2]]</td><td>datetime[ms]</td><td>list[list[str]]</td><td>str</td><td>str</td></tr></thead><tbody><tr><td>&quot;2401.00988&quot;</td><td>&quot;Xinpeng Ding&quot;</td><td>&quot;Xinpeng Ding and Jinahua Han a…</td><td>&quot;Holistic Autonomous Driving Un…</td><td>null</td><td>null</td><td>null</td><td>null</td><td>&quot;cs.CV&quot;</td><td>&quot;http://arxiv.org/licenses/none…</td><td>&quot;&nbsp;&nbsp;The rise of multimodal large…</td><td>[{&quot;v1&quot;,&quot;Tue, 2 Jan 2024 01:54:22 GMT&quot;}]</td><td>2024-01-03 00:00:00</td><td>[[&quot;Ding&quot;, &quot;Xinpeng&quot;, &quot;&quot;], [&quot;Han&quot;, &quot;Jinahua&quot;, &quot;&quot;], … [&quot;Li&quot;, &quot;Xiaomeng&quot;, &quot;&quot;]]</td><td>&quot;new_dataset&quot;</td><td>&quot;The paper introduces a dataset…</td></tr></tbody></table></div>"
      ],
      "text/plain": [
       "shape: (1, 16)\n",
       "┌───────────┬───────────┬───────────┬───────────┬───┬───────────┬───────────┬───────────┬──────────┐\n",
       "│ id        ┆ submitter ┆ authors   ┆ title     ┆ … ┆ update_da ┆ authors_p ┆ labels    ┆ explanat │\n",
       "│ ---       ┆ ---       ┆ ---       ┆ ---       ┆   ┆ te        ┆ arsed     ┆ ---       ┆ ions     │\n",
       "│ str       ┆ str       ┆ str       ┆ str       ┆   ┆ ---       ┆ ---       ┆ str       ┆ ---      │\n",
       "│           ┆           ┆           ┆           ┆   ┆ datetime[ ┆ list[list ┆           ┆ str      │\n",
       "│           ┆           ┆           ┆           ┆   ┆ ms]       ┆ [str]]    ┆           ┆          │\n",
       "╞═══════════╪═══════════╪═══════════╪═══════════╪═══╪═══════════╪═══════════╪═══════════╪══════════╡\n",
       "│ 2401.0098 ┆ Xinpeng   ┆ Xinpeng   ┆ Holistic  ┆ … ┆ 2024-01-0 ┆ [[\"Ding\", ┆ new_datas ┆ The      │\n",
       "│ 8         ┆ Ding      ┆ Ding and  ┆ Autonomou ┆   ┆ 3         ┆ \"Xinpeng\" ┆ et        ┆ paper    │\n",
       "│           ┆           ┆ Jinahua   ┆ s Driving ┆   ┆ 00:00:00  ┆ , \"\"],    ┆           ┆ introduc │\n",
       "│           ┆           ┆ Han a…    ┆ Un…       ┆   ┆           ┆ [\"Ha…     ┆           ┆ es a     │\n",
       "│           ┆           ┆           ┆           ┆   ┆           ┆           ┆           ┆ dataset… │\n",
       "└───────────┴───────────┴───────────┴───────────┴───┴───────────┴───────────┴───────────┴──────────┘"
      ]
     },
     "execution_count": 200,
     "metadata": {},
     "output_type": "execute_result"
    }
   ],
   "source": [
    "sample_df.head(1)"
   ]
  },
  {
   "cell_type": "markdown",
   "metadata": {},
   "source": [
    "Let's take a look at the distribution of the labels. "
   ]
  },
  {
   "cell_type": "code",
   "execution_count": 201,
   "metadata": {},
   "outputs": [
    {
     "data": {
      "text/html": [
       "<div><style>\n",
       ".dataframe > thead > tr,\n",
       ".dataframe > tbody > tr {\n",
       "  text-align: right;\n",
       "  white-space: pre-wrap;\n",
       "}\n",
       "</style>\n",
       "<small>shape: (3, 2)</small><table border=\"1\" class=\"dataframe\"><thead><tr><th>labels</th><th>count</th></tr><tr><td>str</td><td>u32</td></tr></thead><tbody><tr><td>&quot;new_dataset&quot;</td><td>648</td></tr><tr><td>&quot;no_new_dataset&quot;</td><td>2350</td></tr><tr><td>null</td><td>2</td></tr></tbody></table></div>"
      ],
      "text/plain": [
       "shape: (3, 2)\n",
       "┌────────────────┬───────┐\n",
       "│ labels         ┆ count │\n",
       "│ ---            ┆ ---   │\n",
       "│ str            ┆ u32   │\n",
       "╞════════════════╪═══════╡\n",
       "│ new_dataset    ┆ 648   │\n",
       "│ no_new_dataset ┆ 2350  │\n",
       "│ null           ┆ 2     │\n",
       "└────────────────┴───────┘"
      ]
     },
     "execution_count": 201,
     "metadata": {},
     "output_type": "execute_result"
    }
   ],
   "source": [
    "sample_df.select(pl.col(\"labels\").value_counts()).unnest(\"labels\")"
   ]
  },
  {
   "cell_type": "markdown",
   "metadata": {},
   "source": [
    "We only get a few examples where the output doesn't match the labels we want. We can filter these out."
   ]
  },
  {
   "cell_type": "code",
   "execution_count": 202,
   "metadata": {},
   "outputs": [],
   "source": [
    "sample_df = sample_df.filter(pl.col(\"labels\").is_in([\"new_dataset\", \"no_new_dataset\"]))"
   ]
  },
  {
   "cell_type": "markdown",
   "metadata": {},
   "source": [
    "We'll now convert the dataframe to a Hugging Face dataset and push it to the Hub."
   ]
  },
  {
   "cell_type": "code",
   "execution_count": 203,
   "metadata": {
    "id": "B2vM4NcIXpBP"
   },
   "outputs": [],
   "source": [
    "#| code-fold: true\n",
    "from datasets import Dataset, Features, Value, ClassLabel\n",
    "ds = Dataset.from_polars(\n",
    "    sample_df.select([\"id\", \"title\", \"abstract\", \"labels\", \"explanations\"]),\n",
    ")\n",
    "large_string_columns = [\n",
    "    k\n",
    "    for k, v in ds.features.items()\n",
    "    if isinstance(v, Value) and v.dtype == \"large_string\"\n",
    "]\n",
    "for column in large_string_columns:\n",
    "    ds = ds.cast_column(column, Value(\"string\"))\n",
    "ds = ds.cast_column(\"labels\", ClassLabel(names=[\"new_dataset\", \"no_new_dataset\"]))\n",
    "ds.push_to_hub(\"davanstrien/arxiv-new-datasets\", token=os.getenv(\"HF_TOKEN\"))"
   ]
  },
  {
   "cell_type": "markdown",
   "metadata": {},
   "source": [
    "Here is the resulting dataset."
   ]
  },
  {
   "cell_type": "markdown",
   "metadata": {},
   "source": [
    "<iframe\n",
    "  src=\"https://huggingface.co/datasets/davanstrien/arxiv-new-datasets/embed/viewer/default/train\"\n",
    "  frameborder=\"0\"\n",
    "  width=\"100%\"\n",
    "  height=\"560px\"\n",
    "></iframe>"
   ]
  },
  {
   "cell_type": "markdown",
   "metadata": {},
   "source": [
    "## Fine tuning ModernBERT\n",
    "\n",
    "Since the focus of this blog is on the data generation part I won't go into too much detail here but you can see the code and the final results below. "
   ]
  },
  {
   "cell_type": "code",
   "execution_count": null,
   "metadata": {},
   "outputs": [],
   "source": [
    "#| code-fold: true\n",
    "%pip install datasets setfit transformers accelerate --upgrade\n",
    "%pip install flash-attn --no-build-isolation\n",
    "\n",
    "from datasets import load_dataset\n",
    "from evaluate import load\n",
    "from transformers import (\n",
    "    AutoTokenizer,\n",
    "    AutoModelForSequenceClassification,\n",
    "    TrainingArguments,\n",
    "    Trainer,\n",
    "    DataCollatorWithPadding,\n",
    "    EarlyStoppingCallback,\n",
    ")\n",
    "import numpy as np\n",
    "from evaluate import load\n",
    "\n",
    "# Load data\n",
    "ds = load_dataset(\"davanstrien/arxiv-new-datasets\", split=\"train\")\n",
    "\n",
    "# label info\n",
    "labels = ds.features[\"labels\"].names\n",
    "label2id = {label: i for i, label in enumerate(labels)}\n",
    "id2label = {i: label for label, i in label2id.items()}\n",
    "\n",
    "# prep a text column combining title and abstract\n",
    "ds = ds.map(lambda x: {\"text\": x[\"title\"] + \" \" + x[\"abstract\"]})\n",
    "ds = ds.train_test_split(test_size=0.2, stratify_by_column=\"labels\")\n",
    "\n",
    "# Load tokenizer\n",
    "tokenizer = AutoTokenizer.from_pretrained(\"answerdotai/ModernBERT-base\")\n",
    "\n",
    "\n",
    "# Tokenize function\n",
    "def tokenize_function(examples):\n",
    "    return tokenizer(examples[\"text\"], truncation=True)\n",
    "\n",
    "\n",
    "# Tokenize datasets\n",
    "tokenized_datasets = ds.map(tokenize_function, batched=True)\n",
    "\n",
    "# Load metrics\n",
    "accuracy = load(\"accuracy\")\n",
    "f1 = load(\"f1\")\n",
    "\n",
    "\n",
    "def compute_metrics(eval_pred):\n",
    "    logits, labels = eval_pred\n",
    "    predictions = np.argmax(logits, axis=-1)\n",
    "\n",
    "    accuracy_score = accuracy.compute(predictions=predictions, references=labels)\n",
    "    f1_score = f1.compute(\n",
    "        predictions=predictions, references=labels, average=\"weighted\"\n",
    "    )\n",
    "\n",
    "    return {\n",
    "        \"accuracy\": accuracy_score[\"accuracy\"],\n",
    "        \"f1\": f1_score[\"f1\"],\n",
    "    }\n",
    "\n",
    "\n",
    "# Load model with increased dropout\n",
    "model = AutoModelForSequenceClassification.from_pretrained(\n",
    "    \"answerdotai/ModernBERT-base\",\n",
    "    num_labels=2,\n",
    "    label2id=label2id,\n",
    "    id2label=id2label,\n",
    ")\n",
    "\n",
    "# Define improved training arguments\n",
    "training_args = TrainingArguments(\n",
    "    output_dir=\"./results\",\n",
    "    learning_rate=3e-5,  # Slightly higher initial learning rate\n",
    "    per_device_train_batch_size=8,  # Reduced batch size\n",
    "    per_device_eval_batch_size=64,\n",
    "    num_train_epochs=20,  # Reduced epochs\n",
    "    # Learning rate schedule\n",
    "    lr_scheduler_type=\"cosine\",\n",
    "    warmup_ratio=0.1,\n",
    "    # Evaluation and saving\n",
    "    evaluation_strategy=\"epoch\",\n",
    "    save_strategy=\"epoch\",\n",
    "    load_best_model_at_end=True,\n",
    "    metric_for_best_model=\"f1\",\n",
    "    # Regularization\n",
    "    weight_decay=0.01,\n",
    "    max_grad_norm=1.0,\n",
    "    label_smoothing_factor=0.1,\n",
    "    # Logging\n",
    "    logging_dir=\"./logs\",\n",
    "    logging_strategy=\"epoch\",\n",
    ")\n",
    "\n",
    "# Create data collator\n",
    "data_collator = DataCollatorWithPadding(tokenizer=tokenizer)\n",
    "\n",
    "# Initialize Trainer with early stopping\n",
    "trainer = Trainer(\n",
    "    model=model,\n",
    "    args=training_args,\n",
    "    train_dataset=tokenized_datasets[\"train\"],\n",
    "    eval_dataset=tokenized_datasets[\"test\"],\n",
    "    tokenizer=tokenizer,\n",
    "    data_collator=data_collator,\n",
    "    compute_metrics=compute_metrics,\n",
    "    callbacks=[\n",
    "        EarlyStoppingCallback(early_stopping_patience=5, early_stopping_threshold=0.001)\n",
    "    ],\n",
    ")\n",
    "# Evaluate the model\n",
    "eval_results = trainer.evaluate()\n",
    "print(\"\\nFinal evaluation results:\", eval_results)\n",
    "\n",
    "# Save the best model\n",
    "trainer.save_model(\"./best_model\")"
   ]
  },
  {
   "cell_type": "markdown",
   "metadata": {},
   "source": [
    "```python\n",
    "Final evaluation results: {'eval_loss': 0.32631951570510864, 'eval_accuracy': 0.945, 'eval_f1': 0.9442747450661002, 'eval_runtime': 5.8106, 'eval_samples_per_second': 103.26, 'eval_steps_per_second': 1.721, 'epoch': 10.0}\n",
    "```"
   ]
  },
  {
   "cell_type": "markdown",
   "metadata": {},
   "source": [
    "# Conclusion\n",
    "\n",
    "In this blog post, we've seen how we can use the reasoning abilities of models to be effective classifiers. Since lack of training data is one of the main reasons people may use an LLM over a fine tuned model, benefiting from the reasoning abilities of an LLM is a great way to get the best of both worlds. "
   ]
  }
 ],
 "metadata": {
  "colab": {
   "provenance": []
  },
  "kernelspec": {
   "display_name": "Python 3",
   "name": "python3"
  },
  "language_info": {
   "codemirror_mode": {
    "name": "ipython",
    "version": 3
   },
   "file_extension": ".py",
   "mimetype": "text/x-python",
   "name": "python",
   "nbconvert_exporter": "python",
   "pygments_lexer": "ipython3",
   "version": "3.11.1"
  },
  "widgets": {
   "application/vnd.jupyter.widget-state+json": {
    "04aceb58ac5f4268bc33e72347d7fd2e": {
     "model_module": "@jupyter-widgets/controls",
     "model_module_version": "1.5.0",
     "model_name": "HBoxModel",
     "state": {
      "_dom_classes": [],
      "_model_module": "@jupyter-widgets/controls",
      "_model_module_version": "1.5.0",
      "_model_name": "HBoxModel",
      "_view_count": null,
      "_view_module": "@jupyter-widgets/controls",
      "_view_module_version": "1.5.0",
      "_view_name": "HBoxView",
      "box_style": "",
      "children": [
       "IPY_MODEL_c74880d593454c5eb74bb0c8617b039d",
       "IPY_MODEL_97a19513954b44bb8263a70c5d3c3e05",
       "IPY_MODEL_a049cf2d528c4c84b129548c5435061d"
      ],
      "layout": "IPY_MODEL_6ee681c22aa44b0aa10bc41116697706"
     }
    },
    "05abc563873046b4a7dfa01c1b2e7188": {
     "model_module": "@jupyter-widgets/base",
     "model_module_version": "1.2.0",
     "model_name": "LayoutModel",
     "state": {
      "_model_module": "@jupyter-widgets/base",
      "_model_module_version": "1.2.0",
      "_model_name": "LayoutModel",
      "_view_count": null,
      "_view_module": "@jupyter-widgets/base",
      "_view_module_version": "1.2.0",
      "_view_name": "LayoutView",
      "align_content": null,
      "align_items": null,
      "align_self": null,
      "border": null,
      "bottom": null,
      "display": null,
      "flex": null,
      "flex_flow": null,
      "grid_area": null,
      "grid_auto_columns": null,
      "grid_auto_flow": null,
      "grid_auto_rows": null,
      "grid_column": null,
      "grid_gap": null,
      "grid_row": null,
      "grid_template_areas": null,
      "grid_template_columns": null,
      "grid_template_rows": null,
      "height": null,
      "justify_content": null,
      "justify_items": null,
      "left": null,
      "margin": null,
      "max_height": null,
      "max_width": null,
      "min_height": null,
      "min_width": null,
      "object_fit": null,
      "object_position": null,
      "order": null,
      "overflow": null,
      "overflow_x": null,
      "overflow_y": null,
      "padding": null,
      "right": null,
      "top": null,
      "visibility": null,
      "width": null
     }
    },
    "07388871fba34f91892cb411b274b9f2": {
     "model_module": "@jupyter-widgets/base",
     "model_module_version": "1.2.0",
     "model_name": "LayoutModel",
     "state": {
      "_model_module": "@jupyter-widgets/base",
      "_model_module_version": "1.2.0",
      "_model_name": "LayoutModel",
      "_view_count": null,
      "_view_module": "@jupyter-widgets/base",
      "_view_module_version": "1.2.0",
      "_view_name": "LayoutView",
      "align_content": null,
      "align_items": null,
      "align_self": null,
      "border": null,
      "bottom": null,
      "display": null,
      "flex": null,
      "flex_flow": null,
      "grid_area": null,
      "grid_auto_columns": null,
      "grid_auto_flow": null,
      "grid_auto_rows": null,
      "grid_column": null,
      "grid_gap": null,
      "grid_row": null,
      "grid_template_areas": null,
      "grid_template_columns": null,
      "grid_template_rows": null,
      "height": null,
      "justify_content": null,
      "justify_items": null,
      "left": null,
      "margin": null,
      "max_height": null,
      "max_width": null,
      "min_height": null,
      "min_width": null,
      "object_fit": null,
      "object_position": null,
      "order": null,
      "overflow": null,
      "overflow_x": null,
      "overflow_y": null,
      "padding": null,
      "right": null,
      "top": null,
      "visibility": null,
      "width": null
     }
    },
    "10c4f61a873646ba8bf581128ab62e89": {
     "model_module": "@jupyter-widgets/controls",
     "model_module_version": "1.5.0",
     "model_name": "DescriptionStyleModel",
     "state": {
      "_model_module": "@jupyter-widgets/controls",
      "_model_module_version": "1.5.0",
      "_model_name": "DescriptionStyleModel",
      "_view_count": null,
      "_view_module": "@jupyter-widgets/base",
      "_view_module_version": "1.2.0",
      "_view_name": "StyleView",
      "description_width": ""
     }
    },
    "114479ffdbdf432790e7428649d48415": {
     "model_module": "@jupyter-widgets/base",
     "model_module_version": "1.2.0",
     "model_name": "LayoutModel",
     "state": {
      "_model_module": "@jupyter-widgets/base",
      "_model_module_version": "1.2.0",
      "_model_name": "LayoutModel",
      "_view_count": null,
      "_view_module": "@jupyter-widgets/base",
      "_view_module_version": "1.2.0",
      "_view_name": "LayoutView",
      "align_content": null,
      "align_items": null,
      "align_self": null,
      "border": null,
      "bottom": null,
      "display": null,
      "flex": null,
      "flex_flow": null,
      "grid_area": null,
      "grid_auto_columns": null,
      "grid_auto_flow": null,
      "grid_auto_rows": null,
      "grid_column": null,
      "grid_gap": null,
      "grid_row": null,
      "grid_template_areas": null,
      "grid_template_columns": null,
      "grid_template_rows": null,
      "height": null,
      "justify_content": null,
      "justify_items": null,
      "left": null,
      "margin": null,
      "max_height": null,
      "max_width": null,
      "min_height": null,
      "min_width": null,
      "object_fit": null,
      "object_position": null,
      "order": null,
      "overflow": null,
      "overflow_x": null,
      "overflow_y": null,
      "padding": null,
      "right": null,
      "top": null,
      "visibility": null,
      "width": null
     }
    },
    "131266e3a86c45248a5302ef7de6162b": {
     "model_module": "@jupyter-widgets/controls",
     "model_module_version": "1.5.0",
     "model_name": "FloatProgressModel",
     "state": {
      "_dom_classes": [],
      "_model_module": "@jupyter-widgets/controls",
      "_model_module_version": "1.5.0",
      "_model_name": "FloatProgressModel",
      "_view_count": null,
      "_view_module": "@jupyter-widgets/controls",
      "_view_module_version": "1.5.0",
      "_view_name": "ProgressView",
      "bar_style": "success",
      "description": "",
      "description_tooltip": null,
      "layout": "IPY_MODEL_515576ce95f94670ae10931c837901b6",
      "max": 2000,
      "min": 0,
      "orientation": "horizontal",
      "style": "IPY_MODEL_e042a1a14a9c4188bf370c06f6e7a2a6",
      "value": 2000
     }
    },
    "22b2987ac42f42eaba568035e8d44281": {
     "model_module": "@jupyter-widgets/base",
     "model_module_version": "1.2.0",
     "model_name": "LayoutModel",
     "state": {
      "_model_module": "@jupyter-widgets/base",
      "_model_module_version": "1.2.0",
      "_model_name": "LayoutModel",
      "_view_count": null,
      "_view_module": "@jupyter-widgets/base",
      "_view_module_version": "1.2.0",
      "_view_name": "LayoutView",
      "align_content": null,
      "align_items": null,
      "align_self": null,
      "border": null,
      "bottom": null,
      "display": null,
      "flex": null,
      "flex_flow": null,
      "grid_area": null,
      "grid_auto_columns": null,
      "grid_auto_flow": null,
      "grid_auto_rows": null,
      "grid_column": null,
      "grid_gap": null,
      "grid_row": null,
      "grid_template_areas": null,
      "grid_template_columns": null,
      "grid_template_rows": null,
      "height": null,
      "justify_content": null,
      "justify_items": null,
      "left": null,
      "margin": null,
      "max_height": null,
      "max_width": null,
      "min_height": null,
      "min_width": null,
      "object_fit": null,
      "object_position": null,
      "order": null,
      "overflow": null,
      "overflow_x": null,
      "overflow_y": null,
      "padding": null,
      "right": null,
      "top": null,
      "visibility": null,
      "width": null
     }
    },
    "22c6995bfbd84d0384b08bd4abd4135e": {
     "model_module": "@jupyter-widgets/base",
     "model_module_version": "1.2.0",
     "model_name": "LayoutModel",
     "state": {
      "_model_module": "@jupyter-widgets/base",
      "_model_module_version": "1.2.0",
      "_model_name": "LayoutModel",
      "_view_count": null,
      "_view_module": "@jupyter-widgets/base",
      "_view_module_version": "1.2.0",
      "_view_name": "LayoutView",
      "align_content": null,
      "align_items": null,
      "align_self": null,
      "border": null,
      "bottom": null,
      "display": null,
      "flex": null,
      "flex_flow": null,
      "grid_area": null,
      "grid_auto_columns": null,
      "grid_auto_flow": null,
      "grid_auto_rows": null,
      "grid_column": null,
      "grid_gap": null,
      "grid_row": null,
      "grid_template_areas": null,
      "grid_template_columns": null,
      "grid_template_rows": null,
      "height": null,
      "justify_content": null,
      "justify_items": null,
      "left": null,
      "margin": null,
      "max_height": null,
      "max_width": null,
      "min_height": null,
      "min_width": null,
      "object_fit": null,
      "object_position": null,
      "order": null,
      "overflow": null,
      "overflow_x": null,
      "overflow_y": null,
      "padding": null,
      "right": null,
      "top": null,
      "visibility": null,
      "width": null
     }
    },
    "24f09bfd571847e7aa7ccae69c4a9170": {
     "model_module": "@jupyter-widgets/controls",
     "model_module_version": "1.5.0",
     "model_name": "FloatProgressModel",
     "state": {
      "_dom_classes": [],
      "_model_module": "@jupyter-widgets/controls",
      "_model_module_version": "1.5.0",
      "_model_name": "FloatProgressModel",
      "_view_count": null,
      "_view_module": "@jupyter-widgets/controls",
      "_view_module_version": "1.5.0",
      "_view_name": "ProgressView",
      "bar_style": "success",
      "description": "",
      "description_tooltip": null,
      "layout": "IPY_MODEL_3d37057bbd4d4ea38ad76fb498af1da8",
      "max": 1,
      "min": 0,
      "orientation": "horizontal",
      "style": "IPY_MODEL_6db59c73c2134470b25958139588918a",
      "value": 1
     }
    },
    "257b69097eb24fec9ea3047f2bc8da47": {
     "model_module": "@jupyter-widgets/controls",
     "model_module_version": "1.5.0",
     "model_name": "HTMLModel",
     "state": {
      "_dom_classes": [],
      "_model_module": "@jupyter-widgets/controls",
      "_model_module_version": "1.5.0",
      "_model_name": "HTMLModel",
      "_view_count": null,
      "_view_module": "@jupyter-widgets/controls",
      "_view_module_version": "1.5.0",
      "_view_name": "HTMLView",
      "description": "",
      "description_tooltip": null,
      "layout": "IPY_MODEL_dea5155f607b4ee29695394b678578ea",
      "placeholder": "​",
      "style": "IPY_MODEL_9460d52440714d879889a227310901f1",
      "value": " 2000/2000 [21:05&lt;00:00,  1.62it/s]"
     }
    },
    "258c9115aa7e4c9bb5ee8696a01f80e5": {
     "model_module": "@jupyter-widgets/base",
     "model_module_version": "1.2.0",
     "model_name": "LayoutModel",
     "state": {
      "_model_module": "@jupyter-widgets/base",
      "_model_module_version": "1.2.0",
      "_model_name": "LayoutModel",
      "_view_count": null,
      "_view_module": "@jupyter-widgets/base",
      "_view_module_version": "1.2.0",
      "_view_name": "LayoutView",
      "align_content": null,
      "align_items": null,
      "align_self": null,
      "border": null,
      "bottom": null,
      "display": null,
      "flex": null,
      "flex_flow": null,
      "grid_area": null,
      "grid_auto_columns": null,
      "grid_auto_flow": null,
      "grid_auto_rows": null,
      "grid_column": null,
      "grid_gap": null,
      "grid_row": null,
      "grid_template_areas": null,
      "grid_template_columns": null,
      "grid_template_rows": null,
      "height": null,
      "justify_content": null,
      "justify_items": null,
      "left": null,
      "margin": null,
      "max_height": null,
      "max_width": null,
      "min_height": null,
      "min_width": null,
      "object_fit": null,
      "object_position": null,
      "order": null,
      "overflow": null,
      "overflow_x": null,
      "overflow_y": null,
      "padding": null,
      "right": null,
      "top": null,
      "visibility": null,
      "width": null
     }
    },
    "2a3068c399cd46ebbc0c93e078c4a71b": {
     "model_module": "@jupyter-widgets/controls",
     "model_module_version": "1.5.0",
     "model_name": "DescriptionStyleModel",
     "state": {
      "_model_module": "@jupyter-widgets/controls",
      "_model_module_version": "1.5.0",
      "_model_name": "DescriptionStyleModel",
      "_view_count": null,
      "_view_module": "@jupyter-widgets/base",
      "_view_module_version": "1.2.0",
      "_view_name": "StyleView",
      "description_width": ""
     }
    },
    "2a781c9a0b954840985289e29313330b": {
     "model_module": "@jupyter-widgets/base",
     "model_module_version": "1.2.0",
     "model_name": "LayoutModel",
     "state": {
      "_model_module": "@jupyter-widgets/base",
      "_model_module_version": "1.2.0",
      "_model_name": "LayoutModel",
      "_view_count": null,
      "_view_module": "@jupyter-widgets/base",
      "_view_module_version": "1.2.0",
      "_view_name": "LayoutView",
      "align_content": null,
      "align_items": null,
      "align_self": null,
      "border": null,
      "bottom": null,
      "display": null,
      "flex": null,
      "flex_flow": null,
      "grid_area": null,
      "grid_auto_columns": null,
      "grid_auto_flow": null,
      "grid_auto_rows": null,
      "grid_column": null,
      "grid_gap": null,
      "grid_row": null,
      "grid_template_areas": null,
      "grid_template_columns": null,
      "grid_template_rows": null,
      "height": null,
      "justify_content": null,
      "justify_items": null,
      "left": null,
      "margin": null,
      "max_height": null,
      "max_width": null,
      "min_height": null,
      "min_width": null,
      "object_fit": null,
      "object_position": null,
      "order": null,
      "overflow": null,
      "overflow_x": null,
      "overflow_y": null,
      "padding": null,
      "right": null,
      "top": null,
      "visibility": null,
      "width": null
     }
    },
    "2e138e5e9f8e4922b218d88ed4a236c7": {
     "model_module": "@jupyter-widgets/controls",
     "model_module_version": "1.5.0",
     "model_name": "HBoxModel",
     "state": {
      "_dom_classes": [],
      "_model_module": "@jupyter-widgets/controls",
      "_model_module_version": "1.5.0",
      "_model_name": "HBoxModel",
      "_view_count": null,
      "_view_module": "@jupyter-widgets/controls",
      "_view_module_version": "1.5.0",
      "_view_name": "HBoxView",
      "box_style": "",
      "children": [
       "IPY_MODEL_9499649d7e9d49ea897c6d9019d0eb20",
       "IPY_MODEL_699d46b0d96447948172070614910f09",
       "IPY_MODEL_a694e17d9bc94c89b95e99e3b91d9dc8"
      ],
      "layout": "IPY_MODEL_2a781c9a0b954840985289e29313330b"
     }
    },
    "31730f735f7c42339b479c79b15f1cb3": {
     "model_module": "@jupyter-widgets/base",
     "model_module_version": "1.2.0",
     "model_name": "LayoutModel",
     "state": {
      "_model_module": "@jupyter-widgets/base",
      "_model_module_version": "1.2.0",
      "_model_name": "LayoutModel",
      "_view_count": null,
      "_view_module": "@jupyter-widgets/base",
      "_view_module_version": "1.2.0",
      "_view_name": "LayoutView",
      "align_content": null,
      "align_items": null,
      "align_self": null,
      "border": null,
      "bottom": null,
      "display": null,
      "flex": null,
      "flex_flow": null,
      "grid_area": null,
      "grid_auto_columns": null,
      "grid_auto_flow": null,
      "grid_auto_rows": null,
      "grid_column": null,
      "grid_gap": null,
      "grid_row": null,
      "grid_template_areas": null,
      "grid_template_columns": null,
      "grid_template_rows": null,
      "height": null,
      "justify_content": null,
      "justify_items": null,
      "left": null,
      "margin": null,
      "max_height": null,
      "max_width": null,
      "min_height": null,
      "min_width": null,
      "object_fit": null,
      "object_position": null,
      "order": null,
      "overflow": null,
      "overflow_x": null,
      "overflow_y": null,
      "padding": null,
      "right": null,
      "top": null,
      "visibility": null,
      "width": null
     }
    },
    "325e6c4ad3094ed296eac3738af2ef55": {
     "model_module": "@jupyter-widgets/base",
     "model_module_version": "1.2.0",
     "model_name": "LayoutModel",
     "state": {
      "_model_module": "@jupyter-widgets/base",
      "_model_module_version": "1.2.0",
      "_model_name": "LayoutModel",
      "_view_count": null,
      "_view_module": "@jupyter-widgets/base",
      "_view_module_version": "1.2.0",
      "_view_name": "LayoutView",
      "align_content": null,
      "align_items": null,
      "align_self": null,
      "border": null,
      "bottom": null,
      "display": null,
      "flex": null,
      "flex_flow": null,
      "grid_area": null,
      "grid_auto_columns": null,
      "grid_auto_flow": null,
      "grid_auto_rows": null,
      "grid_column": null,
      "grid_gap": null,
      "grid_row": null,
      "grid_template_areas": null,
      "grid_template_columns": null,
      "grid_template_rows": null,
      "height": null,
      "justify_content": null,
      "justify_items": null,
      "left": null,
      "margin": null,
      "max_height": null,
      "max_width": null,
      "min_height": null,
      "min_width": null,
      "object_fit": null,
      "object_position": null,
      "order": null,
      "overflow": null,
      "overflow_x": null,
      "overflow_y": null,
      "padding": null,
      "right": null,
      "top": null,
      "visibility": null,
      "width": null
     }
    },
    "36fb1f5600b1445f84786599d31bcc14": {
     "model_module": "@jupyter-widgets/controls",
     "model_module_version": "1.5.0",
     "model_name": "HBoxModel",
     "state": {
      "_dom_classes": [],
      "_model_module": "@jupyter-widgets/controls",
      "_model_module_version": "1.5.0",
      "_model_name": "HBoxModel",
      "_view_count": null,
      "_view_module": "@jupyter-widgets/controls",
      "_view_module_version": "1.5.0",
      "_view_name": "HBoxView",
      "box_style": "",
      "children": [
       "IPY_MODEL_a5decdb234774cf6ad4b5314a38e6599",
       "IPY_MODEL_e21957ca43a8461c96758c7b501fb524",
       "IPY_MODEL_6255c90a806442a0a213b6bf51e83fff"
      ],
      "layout": "IPY_MODEL_cebfeeab7a724eb39707ce368515d5e2"
     }
    },
    "379e1b2f1ea040b0b097a07dbc37f613": {
     "model_module": "@jupyter-widgets/base",
     "model_module_version": "1.2.0",
     "model_name": "LayoutModel",
     "state": {
      "_model_module": "@jupyter-widgets/base",
      "_model_module_version": "1.2.0",
      "_model_name": "LayoutModel",
      "_view_count": null,
      "_view_module": "@jupyter-widgets/base",
      "_view_module_version": "1.2.0",
      "_view_name": "LayoutView",
      "align_content": null,
      "align_items": null,
      "align_self": null,
      "border": null,
      "bottom": null,
      "display": null,
      "flex": null,
      "flex_flow": null,
      "grid_area": null,
      "grid_auto_columns": null,
      "grid_auto_flow": null,
      "grid_auto_rows": null,
      "grid_column": null,
      "grid_gap": null,
      "grid_row": null,
      "grid_template_areas": null,
      "grid_template_columns": null,
      "grid_template_rows": null,
      "height": null,
      "justify_content": null,
      "justify_items": null,
      "left": null,
      "margin": null,
      "max_height": null,
      "max_width": null,
      "min_height": null,
      "min_width": null,
      "object_fit": null,
      "object_position": null,
      "order": null,
      "overflow": null,
      "overflow_x": null,
      "overflow_y": null,
      "padding": null,
      "right": null,
      "top": null,
      "visibility": null,
      "width": null
     }
    },
    "3d37057bbd4d4ea38ad76fb498af1da8": {
     "model_module": "@jupyter-widgets/base",
     "model_module_version": "1.2.0",
     "model_name": "LayoutModel",
     "state": {
      "_model_module": "@jupyter-widgets/base",
      "_model_module_version": "1.2.0",
      "_model_name": "LayoutModel",
      "_view_count": null,
      "_view_module": "@jupyter-widgets/base",
      "_view_module_version": "1.2.0",
      "_view_name": "LayoutView",
      "align_content": null,
      "align_items": null,
      "align_self": null,
      "border": null,
      "bottom": null,
      "display": null,
      "flex": null,
      "flex_flow": null,
      "grid_area": null,
      "grid_auto_columns": null,
      "grid_auto_flow": null,
      "grid_auto_rows": null,
      "grid_column": null,
      "grid_gap": null,
      "grid_row": null,
      "grid_template_areas": null,
      "grid_template_columns": null,
      "grid_template_rows": null,
      "height": null,
      "justify_content": null,
      "justify_items": null,
      "left": null,
      "margin": null,
      "max_height": null,
      "max_width": null,
      "min_height": null,
      "min_width": null,
      "object_fit": null,
      "object_position": null,
      "order": null,
      "overflow": null,
      "overflow_x": null,
      "overflow_y": null,
      "padding": null,
      "right": null,
      "top": null,
      "visibility": null,
      "width": null
     }
    },
    "3ede8c15663a4ee08ee4c0c3eb085230": {
     "model_module": "@jupyter-widgets/base",
     "model_module_version": "1.2.0",
     "model_name": "LayoutModel",
     "state": {
      "_model_module": "@jupyter-widgets/base",
      "_model_module_version": "1.2.0",
      "_model_name": "LayoutModel",
      "_view_count": null,
      "_view_module": "@jupyter-widgets/base",
      "_view_module_version": "1.2.0",
      "_view_name": "LayoutView",
      "align_content": null,
      "align_items": null,
      "align_self": null,
      "border": null,
      "bottom": null,
      "display": null,
      "flex": null,
      "flex_flow": null,
      "grid_area": null,
      "grid_auto_columns": null,
      "grid_auto_flow": null,
      "grid_auto_rows": null,
      "grid_column": null,
      "grid_gap": null,
      "grid_row": null,
      "grid_template_areas": null,
      "grid_template_columns": null,
      "grid_template_rows": null,
      "height": null,
      "justify_content": null,
      "justify_items": null,
      "left": null,
      "margin": null,
      "max_height": null,
      "max_width": null,
      "min_height": null,
      "min_width": null,
      "object_fit": null,
      "object_position": null,
      "order": null,
      "overflow": null,
      "overflow_x": null,
      "overflow_y": null,
      "padding": null,
      "right": null,
      "top": null,
      "visibility": null,
      "width": null
     }
    },
    "3fb9c2020afb47558184ab1cc3b5af68": {
     "model_module": "@jupyter-widgets/base",
     "model_module_version": "1.2.0",
     "model_name": "LayoutModel",
     "state": {
      "_model_module": "@jupyter-widgets/base",
      "_model_module_version": "1.2.0",
      "_model_name": "LayoutModel",
      "_view_count": null,
      "_view_module": "@jupyter-widgets/base",
      "_view_module_version": "1.2.0",
      "_view_name": "LayoutView",
      "align_content": null,
      "align_items": null,
      "align_self": null,
      "border": null,
      "bottom": null,
      "display": null,
      "flex": null,
      "flex_flow": null,
      "grid_area": null,
      "grid_auto_columns": null,
      "grid_auto_flow": null,
      "grid_auto_rows": null,
      "grid_column": null,
      "grid_gap": null,
      "grid_row": null,
      "grid_template_areas": null,
      "grid_template_columns": null,
      "grid_template_rows": null,
      "height": null,
      "justify_content": null,
      "justify_items": null,
      "left": null,
      "margin": null,
      "max_height": null,
      "max_width": null,
      "min_height": null,
      "min_width": null,
      "object_fit": null,
      "object_position": null,
      "order": null,
      "overflow": null,
      "overflow_x": null,
      "overflow_y": null,
      "padding": null,
      "right": null,
      "top": null,
      "visibility": null,
      "width": null
     }
    },
    "42918f11fd874d998f72bc82165c7657": {
     "model_module": "@jupyter-widgets/base",
     "model_module_version": "1.2.0",
     "model_name": "LayoutModel",
     "state": {
      "_model_module": "@jupyter-widgets/base",
      "_model_module_version": "1.2.0",
      "_model_name": "LayoutModel",
      "_view_count": null,
      "_view_module": "@jupyter-widgets/base",
      "_view_module_version": "1.2.0",
      "_view_name": "LayoutView",
      "align_content": null,
      "align_items": null,
      "align_self": null,
      "border": null,
      "bottom": null,
      "display": null,
      "flex": null,
      "flex_flow": null,
      "grid_area": null,
      "grid_auto_columns": null,
      "grid_auto_flow": null,
      "grid_auto_rows": null,
      "grid_column": null,
      "grid_gap": null,
      "grid_row": null,
      "grid_template_areas": null,
      "grid_template_columns": null,
      "grid_template_rows": null,
      "height": null,
      "justify_content": null,
      "justify_items": null,
      "left": null,
      "margin": null,
      "max_height": null,
      "max_width": null,
      "min_height": null,
      "min_width": null,
      "object_fit": null,
      "object_position": null,
      "order": null,
      "overflow": null,
      "overflow_x": null,
      "overflow_y": null,
      "padding": null,
      "right": null,
      "top": null,
      "visibility": null,
      "width": null
     }
    },
    "4837de26daf941f9a94be18ca9aec60c": {
     "model_module": "@jupyter-widgets/controls",
     "model_module_version": "1.5.0",
     "model_name": "HBoxModel",
     "state": {
      "_dom_classes": [],
      "_model_module": "@jupyter-widgets/controls",
      "_model_module_version": "1.5.0",
      "_model_name": "HBoxModel",
      "_view_count": null,
      "_view_module": "@jupyter-widgets/controls",
      "_view_module_version": "1.5.0",
      "_view_name": "HBoxView",
      "box_style": "",
      "children": [
       "IPY_MODEL_74a9573106a34f10ba6478634605091d",
       "IPY_MODEL_fa30a3eec76f4b7d9332940412a7c84a",
       "IPY_MODEL_e983c2630c0a4ce79aefd7e978deef71"
      ],
      "layout": "IPY_MODEL_99128f8a6bad4f778c92b608e51a33eb"
     }
    },
    "513d8125574a4e4dab05cd2c9ee0e69a": {
     "model_module": "@jupyter-widgets/controls",
     "model_module_version": "1.5.0",
     "model_name": "HBoxModel",
     "state": {
      "_dom_classes": [],
      "_model_module": "@jupyter-widgets/controls",
      "_model_module_version": "1.5.0",
      "_model_name": "HBoxModel",
      "_view_count": null,
      "_view_module": "@jupyter-widgets/controls",
      "_view_module_version": "1.5.0",
      "_view_name": "HBoxView",
      "box_style": "",
      "children": [
       "IPY_MODEL_e2778ea38c054a6eaf15bfc95b378622",
       "IPY_MODEL_9ae4e458bb724aa0b72e6ed84e832369",
       "IPY_MODEL_c5c3add2afaa43578eaae36e903c0521"
      ],
      "layout": "IPY_MODEL_b20d723b4e1c42d48d461ac14e5ff037"
     }
    },
    "515576ce95f94670ae10931c837901b6": {
     "model_module": "@jupyter-widgets/base",
     "model_module_version": "1.2.0",
     "model_name": "LayoutModel",
     "state": {
      "_model_module": "@jupyter-widgets/base",
      "_model_module_version": "1.2.0",
      "_model_name": "LayoutModel",
      "_view_count": null,
      "_view_module": "@jupyter-widgets/base",
      "_view_module_version": "1.2.0",
      "_view_name": "LayoutView",
      "align_content": null,
      "align_items": null,
      "align_self": null,
      "border": null,
      "bottom": null,
      "display": null,
      "flex": null,
      "flex_flow": null,
      "grid_area": null,
      "grid_auto_columns": null,
      "grid_auto_flow": null,
      "grid_auto_rows": null,
      "grid_column": null,
      "grid_gap": null,
      "grid_row": null,
      "grid_template_areas": null,
      "grid_template_columns": null,
      "grid_template_rows": null,
      "height": null,
      "justify_content": null,
      "justify_items": null,
      "left": null,
      "margin": null,
      "max_height": null,
      "max_width": null,
      "min_height": null,
      "min_width": null,
      "object_fit": null,
      "object_position": null,
      "order": null,
      "overflow": null,
      "overflow_x": null,
      "overflow_y": null,
      "padding": null,
      "right": null,
      "top": null,
      "visibility": null,
      "width": null
     }
    },
    "53320b5de6ae49ed8b023b869aaf81eb": {
     "model_module": "@jupyter-widgets/controls",
     "model_module_version": "1.5.0",
     "model_name": "ProgressStyleModel",
     "state": {
      "_model_module": "@jupyter-widgets/controls",
      "_model_module_version": "1.5.0",
      "_model_name": "ProgressStyleModel",
      "_view_count": null,
      "_view_module": "@jupyter-widgets/base",
      "_view_module_version": "1.2.0",
      "_view_name": "StyleView",
      "bar_color": null,
      "description_width": ""
     }
    },
    "54a597f5549f4c7495a21dba4211d02c": {
     "model_module": "@jupyter-widgets/base",
     "model_module_version": "1.2.0",
     "model_name": "LayoutModel",
     "state": {
      "_model_module": "@jupyter-widgets/base",
      "_model_module_version": "1.2.0",
      "_model_name": "LayoutModel",
      "_view_count": null,
      "_view_module": "@jupyter-widgets/base",
      "_view_module_version": "1.2.0",
      "_view_name": "LayoutView",
      "align_content": null,
      "align_items": null,
      "align_self": null,
      "border": null,
      "bottom": null,
      "display": null,
      "flex": null,
      "flex_flow": null,
      "grid_area": null,
      "grid_auto_columns": null,
      "grid_auto_flow": null,
      "grid_auto_rows": null,
      "grid_column": null,
      "grid_gap": null,
      "grid_row": null,
      "grid_template_areas": null,
      "grid_template_columns": null,
      "grid_template_rows": null,
      "height": null,
      "justify_content": null,
      "justify_items": null,
      "left": null,
      "margin": null,
      "max_height": null,
      "max_width": null,
      "min_height": null,
      "min_width": null,
      "object_fit": null,
      "object_position": null,
      "order": null,
      "overflow": null,
      "overflow_x": null,
      "overflow_y": null,
      "padding": null,
      "right": null,
      "top": null,
      "visibility": null,
      "width": null
     }
    },
    "5b592d1e88c44909a60947583946eda0": {
     "model_module": "@jupyter-widgets/controls",
     "model_module_version": "1.5.0",
     "model_name": "DescriptionStyleModel",
     "state": {
      "_model_module": "@jupyter-widgets/controls",
      "_model_module_version": "1.5.0",
      "_model_name": "DescriptionStyleModel",
      "_view_count": null,
      "_view_module": "@jupyter-widgets/base",
      "_view_module_version": "1.2.0",
      "_view_name": "StyleView",
      "description_width": ""
     }
    },
    "5ba245ddc6ac4da9ae0f6e061bb9a407": {
     "model_module": "@jupyter-widgets/base",
     "model_module_version": "1.2.0",
     "model_name": "LayoutModel",
     "state": {
      "_model_module": "@jupyter-widgets/base",
      "_model_module_version": "1.2.0",
      "_model_name": "LayoutModel",
      "_view_count": null,
      "_view_module": "@jupyter-widgets/base",
      "_view_module_version": "1.2.0",
      "_view_name": "LayoutView",
      "align_content": null,
      "align_items": null,
      "align_self": null,
      "border": null,
      "bottom": null,
      "display": null,
      "flex": null,
      "flex_flow": null,
      "grid_area": null,
      "grid_auto_columns": null,
      "grid_auto_flow": null,
      "grid_auto_rows": null,
      "grid_column": null,
      "grid_gap": null,
      "grid_row": null,
      "grid_template_areas": null,
      "grid_template_columns": null,
      "grid_template_rows": null,
      "height": null,
      "justify_content": null,
      "justify_items": null,
      "left": null,
      "margin": null,
      "max_height": null,
      "max_width": null,
      "min_height": null,
      "min_width": null,
      "object_fit": null,
      "object_position": null,
      "order": null,
      "overflow": null,
      "overflow_x": null,
      "overflow_y": null,
      "padding": null,
      "right": null,
      "top": null,
      "visibility": null,
      "width": null
     }
    },
    "5c9cedbbd7604c3186f55c3ffd09e5c8": {
     "model_module": "@jupyter-widgets/controls",
     "model_module_version": "1.5.0",
     "model_name": "HTMLModel",
     "state": {
      "_dom_classes": [],
      "_model_module": "@jupyter-widgets/controls",
      "_model_module_version": "1.5.0",
      "_model_name": "HTMLModel",
      "_view_count": null,
      "_view_module": "@jupyter-widgets/controls",
      "_view_module_version": "1.5.0",
      "_view_name": "HTMLView",
      "description": "",
      "description_tooltip": null,
      "layout": "IPY_MODEL_dd3d5e12fed14aa6860a0286659f3568",
      "placeholder": "​",
      "style": "IPY_MODEL_5b592d1e88c44909a60947583946eda0",
      "value": "Casting the dataset: 100%"
     }
    },
    "5cfc7116f9564d5fa0b856abddf2455d": {
     "model_module": "@jupyter-widgets/controls",
     "model_module_version": "1.5.0",
     "model_name": "HTMLModel",
     "state": {
      "_dom_classes": [],
      "_model_module": "@jupyter-widgets/controls",
      "_model_module_version": "1.5.0",
      "_model_name": "HTMLModel",
      "_view_count": null,
      "_view_module": "@jupyter-widgets/controls",
      "_view_module_version": "1.5.0",
      "_view_name": "HTMLView",
      "description": "",
      "description_tooltip": null,
      "layout": "IPY_MODEL_31730f735f7c42339b479c79b15f1cb3",
      "placeholder": "​",
      "style": "IPY_MODEL_7ab5a0f557c34180b6b64ff7e721f1df",
      "value": "100%"
     }
    },
    "61ee833ed6ee4b5eacdc042de6aae72f": {
     "model_module": "@jupyter-widgets/controls",
     "model_module_version": "1.5.0",
     "model_name": "DescriptionStyleModel",
     "state": {
      "_model_module": "@jupyter-widgets/controls",
      "_model_module_version": "1.5.0",
      "_model_name": "DescriptionStyleModel",
      "_view_count": null,
      "_view_module": "@jupyter-widgets/base",
      "_view_module_version": "1.2.0",
      "_view_name": "StyleView",
      "description_width": ""
     }
    },
    "6255c90a806442a0a213b6bf51e83fff": {
     "model_module": "@jupyter-widgets/controls",
     "model_module_version": "1.5.0",
     "model_name": "HTMLModel",
     "state": {
      "_dom_classes": [],
      "_model_module": "@jupyter-widgets/controls",
      "_model_module_version": "1.5.0",
      "_model_name": "HTMLModel",
      "_view_count": null,
      "_view_module": "@jupyter-widgets/controls",
      "_view_module_version": "1.5.0",
      "_view_name": "HTMLView",
      "description": "",
      "description_tooltip": null,
      "layout": "IPY_MODEL_da7d0e3439b04edf9db29792b3960970",
      "placeholder": "​",
      "style": "IPY_MODEL_6e2ae56cb4df457281c3ce819ddad46c",
      "value": " 2000/2000 [00:00&lt;00:00, 59533.79 examples/s]"
     }
    },
    "65d9653cef7a46f5b38af5b838349ad2": {
     "model_module": "@jupyter-widgets/controls",
     "model_module_version": "1.5.0",
     "model_name": "HBoxModel",
     "state": {
      "_dom_classes": [],
      "_model_module": "@jupyter-widgets/controls",
      "_model_module_version": "1.5.0",
      "_model_name": "HBoxModel",
      "_view_count": null,
      "_view_module": "@jupyter-widgets/controls",
      "_view_module_version": "1.5.0",
      "_view_name": "HBoxView",
      "box_style": "",
      "children": [
       "IPY_MODEL_ef8547f2999340feb7c19be14a432b3b",
       "IPY_MODEL_ac59c4c23f104bc5a466893c809ba991",
       "IPY_MODEL_afec1593a659410ea262371dae51a1d2"
      ],
      "layout": "IPY_MODEL_b05b26732ceb4da88393c80c90f2e94d"
     }
    },
    "67ad8f1d4c1242c5b0359340eaa63368": {
     "model_module": "@jupyter-widgets/controls",
     "model_module_version": "1.5.0",
     "model_name": "HBoxModel",
     "state": {
      "_dom_classes": [],
      "_model_module": "@jupyter-widgets/controls",
      "_model_module_version": "1.5.0",
      "_model_name": "HBoxModel",
      "_view_count": null,
      "_view_module": "@jupyter-widgets/controls",
      "_view_module_version": "1.5.0",
      "_view_name": "HBoxView",
      "box_style": "",
      "children": [
       "IPY_MODEL_5c9cedbbd7604c3186f55c3ffd09e5c8",
       "IPY_MODEL_131266e3a86c45248a5302ef7de6162b",
       "IPY_MODEL_9b1cc77b37c14a188ee15e8c0323427d"
      ],
      "layout": "IPY_MODEL_f1c089db96b84a17a1646017f026f749"
     }
    },
    "6904a604cc02455eaaec7c7b0b88b55c": {
     "model_module": "@jupyter-widgets/controls",
     "model_module_version": "1.5.0",
     "model_name": "DescriptionStyleModel",
     "state": {
      "_model_module": "@jupyter-widgets/controls",
      "_model_module_version": "1.5.0",
      "_model_name": "DescriptionStyleModel",
      "_view_count": null,
      "_view_module": "@jupyter-widgets/base",
      "_view_module_version": "1.2.0",
      "_view_name": "StyleView",
      "description_width": ""
     }
    },
    "699d46b0d96447948172070614910f09": {
     "model_module": "@jupyter-widgets/controls",
     "model_module_version": "1.5.0",
     "model_name": "FloatProgressModel",
     "state": {
      "_dom_classes": [],
      "_model_module": "@jupyter-widgets/controls",
      "_model_module_version": "1.5.0",
      "_model_name": "FloatProgressModel",
      "_view_count": null,
      "_view_module": "@jupyter-widgets/controls",
      "_view_module_version": "1.5.0",
      "_view_name": "ProgressView",
      "bar_style": "success",
      "description": "",
      "description_tooltip": null,
      "layout": "IPY_MODEL_05abc563873046b4a7dfa01c1b2e7188",
      "max": 2000,
      "min": 0,
      "orientation": "horizontal",
      "style": "IPY_MODEL_53320b5de6ae49ed8b023b869aaf81eb",
      "value": 2000
     }
    },
    "69e90ac6958048f79acdb7623b2f8208": {
     "model_module": "@jupyter-widgets/controls",
     "model_module_version": "1.5.0",
     "model_name": "ProgressStyleModel",
     "state": {
      "_model_module": "@jupyter-widgets/controls",
      "_model_module_version": "1.5.0",
      "_model_name": "ProgressStyleModel",
      "_view_count": null,
      "_view_module": "@jupyter-widgets/base",
      "_view_module_version": "1.2.0",
      "_view_name": "StyleView",
      "bar_color": null,
      "description_width": ""
     }
    },
    "6d324b50603747d0818f4c14b5f9ee8b": {
     "model_module": "@jupyter-widgets/controls",
     "model_module_version": "1.5.0",
     "model_name": "DescriptionStyleModel",
     "state": {
      "_model_module": "@jupyter-widgets/controls",
      "_model_module_version": "1.5.0",
      "_model_name": "DescriptionStyleModel",
      "_view_count": null,
      "_view_module": "@jupyter-widgets/base",
      "_view_module_version": "1.2.0",
      "_view_name": "StyleView",
      "description_width": ""
     }
    },
    "6db59c73c2134470b25958139588918a": {
     "model_module": "@jupyter-widgets/controls",
     "model_module_version": "1.5.0",
     "model_name": "ProgressStyleModel",
     "state": {
      "_model_module": "@jupyter-widgets/controls",
      "_model_module_version": "1.5.0",
      "_model_name": "ProgressStyleModel",
      "_view_count": null,
      "_view_module": "@jupyter-widgets/base",
      "_view_module_version": "1.2.0",
      "_view_name": "StyleView",
      "bar_color": null,
      "description_width": ""
     }
    },
    "6e2ae56cb4df457281c3ce819ddad46c": {
     "model_module": "@jupyter-widgets/controls",
     "model_module_version": "1.5.0",
     "model_name": "DescriptionStyleModel",
     "state": {
      "_model_module": "@jupyter-widgets/controls",
      "_model_module_version": "1.5.0",
      "_model_name": "DescriptionStyleModel",
      "_view_count": null,
      "_view_module": "@jupyter-widgets/base",
      "_view_module_version": "1.2.0",
      "_view_name": "StyleView",
      "description_width": ""
     }
    },
    "6ee681c22aa44b0aa10bc41116697706": {
     "model_module": "@jupyter-widgets/base",
     "model_module_version": "1.2.0",
     "model_name": "LayoutModel",
     "state": {
      "_model_module": "@jupyter-widgets/base",
      "_model_module_version": "1.2.0",
      "_model_name": "LayoutModel",
      "_view_count": null,
      "_view_module": "@jupyter-widgets/base",
      "_view_module_version": "1.2.0",
      "_view_name": "LayoutView",
      "align_content": null,
      "align_items": null,
      "align_self": null,
      "border": null,
      "bottom": null,
      "display": null,
      "flex": null,
      "flex_flow": null,
      "grid_area": null,
      "grid_auto_columns": null,
      "grid_auto_flow": null,
      "grid_auto_rows": null,
      "grid_column": null,
      "grid_gap": null,
      "grid_row": null,
      "grid_template_areas": null,
      "grid_template_columns": null,
      "grid_template_rows": null,
      "height": null,
      "justify_content": null,
      "justify_items": null,
      "left": null,
      "margin": null,
      "max_height": null,
      "max_width": null,
      "min_height": null,
      "min_width": null,
      "object_fit": null,
      "object_position": null,
      "order": null,
      "overflow": null,
      "overflow_x": null,
      "overflow_y": null,
      "padding": null,
      "right": null,
      "top": null,
      "visibility": null,
      "width": null
     }
    },
    "707c01bcdfec4b19867f5a94e738d407": {
     "model_module": "@jupyter-widgets/controls",
     "model_module_version": "1.5.0",
     "model_name": "HBoxModel",
     "state": {
      "_dom_classes": [],
      "_model_module": "@jupyter-widgets/controls",
      "_model_module_version": "1.5.0",
      "_model_name": "HBoxModel",
      "_view_count": null,
      "_view_module": "@jupyter-widgets/controls",
      "_view_module_version": "1.5.0",
      "_view_name": "HBoxView",
      "box_style": "",
      "children": [
       "IPY_MODEL_5cfc7116f9564d5fa0b856abddf2455d",
       "IPY_MODEL_c1c67188edf140e7af518362a3497fc0",
       "IPY_MODEL_257b69097eb24fec9ea3047f2bc8da47"
      ],
      "layout": "IPY_MODEL_42918f11fd874d998f72bc82165c7657"
     }
    },
    "7152f6d6293240b6a93dfffe1936a53e": {
     "model_module": "@jupyter-widgets/controls",
     "model_module_version": "1.5.0",
     "model_name": "ProgressStyleModel",
     "state": {
      "_model_module": "@jupyter-widgets/controls",
      "_model_module_version": "1.5.0",
      "_model_name": "ProgressStyleModel",
      "_view_count": null,
      "_view_module": "@jupyter-widgets/base",
      "_view_module_version": "1.2.0",
      "_view_name": "StyleView",
      "bar_color": null,
      "description_width": ""
     }
    },
    "74a9573106a34f10ba6478634605091d": {
     "model_module": "@jupyter-widgets/controls",
     "model_module_version": "1.5.0",
     "model_name": "HTMLModel",
     "state": {
      "_dom_classes": [],
      "_model_module": "@jupyter-widgets/controls",
      "_model_module_version": "1.5.0",
      "_model_name": "HTMLModel",
      "_view_count": null,
      "_view_module": "@jupyter-widgets/controls",
      "_view_module_version": "1.5.0",
      "_view_name": "HTMLView",
      "description": "",
      "description_tooltip": null,
      "layout": "IPY_MODEL_858ac484483f41d5a6cc117b030ae6d5",
      "placeholder": "​",
      "style": "IPY_MODEL_9495e137ca024344802b048cdcb64711",
      "value": "Casting the dataset: 100%"
     }
    },
    "7ab5a0f557c34180b6b64ff7e721f1df": {
     "model_module": "@jupyter-widgets/controls",
     "model_module_version": "1.5.0",
     "model_name": "DescriptionStyleModel",
     "state": {
      "_model_module": "@jupyter-widgets/controls",
      "_model_module_version": "1.5.0",
      "_model_name": "DescriptionStyleModel",
      "_view_count": null,
      "_view_module": "@jupyter-widgets/base",
      "_view_module_version": "1.2.0",
      "_view_name": "StyleView",
      "description_width": ""
     }
    },
    "7e84ebeff5d646ccac6dcf826dd091d5": {
     "model_module": "@jupyter-widgets/base",
     "model_module_version": "1.2.0",
     "model_name": "LayoutModel",
     "state": {
      "_model_module": "@jupyter-widgets/base",
      "_model_module_version": "1.2.0",
      "_model_name": "LayoutModel",
      "_view_count": null,
      "_view_module": "@jupyter-widgets/base",
      "_view_module_version": "1.2.0",
      "_view_name": "LayoutView",
      "align_content": null,
      "align_items": null,
      "align_self": null,
      "border": null,
      "bottom": null,
      "display": null,
      "flex": null,
      "flex_flow": null,
      "grid_area": null,
      "grid_auto_columns": null,
      "grid_auto_flow": null,
      "grid_auto_rows": null,
      "grid_column": null,
      "grid_gap": null,
      "grid_row": null,
      "grid_template_areas": null,
      "grid_template_columns": null,
      "grid_template_rows": null,
      "height": null,
      "justify_content": null,
      "justify_items": null,
      "left": null,
      "margin": null,
      "max_height": null,
      "max_width": null,
      "min_height": null,
      "min_width": null,
      "object_fit": null,
      "object_position": null,
      "order": null,
      "overflow": null,
      "overflow_x": null,
      "overflow_y": null,
      "padding": null,
      "right": null,
      "top": null,
      "visibility": null,
      "width": null
     }
    },
    "858ac484483f41d5a6cc117b030ae6d5": {
     "model_module": "@jupyter-widgets/base",
     "model_module_version": "1.2.0",
     "model_name": "LayoutModel",
     "state": {
      "_model_module": "@jupyter-widgets/base",
      "_model_module_version": "1.2.0",
      "_model_name": "LayoutModel",
      "_view_count": null,
      "_view_module": "@jupyter-widgets/base",
      "_view_module_version": "1.2.0",
      "_view_name": "LayoutView",
      "align_content": null,
      "align_items": null,
      "align_self": null,
      "border": null,
      "bottom": null,
      "display": null,
      "flex": null,
      "flex_flow": null,
      "grid_area": null,
      "grid_auto_columns": null,
      "grid_auto_flow": null,
      "grid_auto_rows": null,
      "grid_column": null,
      "grid_gap": null,
      "grid_row": null,
      "grid_template_areas": null,
      "grid_template_columns": null,
      "grid_template_rows": null,
      "height": null,
      "justify_content": null,
      "justify_items": null,
      "left": null,
      "margin": null,
      "max_height": null,
      "max_width": null,
      "min_height": null,
      "min_width": null,
      "object_fit": null,
      "object_position": null,
      "order": null,
      "overflow": null,
      "overflow_x": null,
      "overflow_y": null,
      "padding": null,
      "right": null,
      "top": null,
      "visibility": null,
      "width": null
     }
    },
    "92abbf8cf6c347bda3460a500be22942": {
     "model_module": "@jupyter-widgets/controls",
     "model_module_version": "1.5.0",
     "model_name": "DescriptionStyleModel",
     "state": {
      "_model_module": "@jupyter-widgets/controls",
      "_model_module_version": "1.5.0",
      "_model_name": "DescriptionStyleModel",
      "_view_count": null,
      "_view_module": "@jupyter-widgets/base",
      "_view_module_version": "1.2.0",
      "_view_name": "StyleView",
      "description_width": ""
     }
    },
    "9460d52440714d879889a227310901f1": {
     "model_module": "@jupyter-widgets/controls",
     "model_module_version": "1.5.0",
     "model_name": "DescriptionStyleModel",
     "state": {
      "_model_module": "@jupyter-widgets/controls",
      "_model_module_version": "1.5.0",
      "_model_name": "DescriptionStyleModel",
      "_view_count": null,
      "_view_module": "@jupyter-widgets/base",
      "_view_module_version": "1.2.0",
      "_view_name": "StyleView",
      "description_width": ""
     }
    },
    "9495e137ca024344802b048cdcb64711": {
     "model_module": "@jupyter-widgets/controls",
     "model_module_version": "1.5.0",
     "model_name": "DescriptionStyleModel",
     "state": {
      "_model_module": "@jupyter-widgets/controls",
      "_model_module_version": "1.5.0",
      "_model_name": "DescriptionStyleModel",
      "_view_count": null,
      "_view_module": "@jupyter-widgets/base",
      "_view_module_version": "1.2.0",
      "_view_name": "StyleView",
      "description_width": ""
     }
    },
    "9499649d7e9d49ea897c6d9019d0eb20": {
     "model_module": "@jupyter-widgets/controls",
     "model_module_version": "1.5.0",
     "model_name": "HTMLModel",
     "state": {
      "_dom_classes": [],
      "_model_module": "@jupyter-widgets/controls",
      "_model_module_version": "1.5.0",
      "_model_name": "HTMLModel",
      "_view_count": null,
      "_view_module": "@jupyter-widgets/controls",
      "_view_module_version": "1.5.0",
      "_view_name": "HTMLView",
      "description": "",
      "description_tooltip": null,
      "layout": "IPY_MODEL_379e1b2f1ea040b0b097a07dbc37f613",
      "placeholder": "​",
      "style": "IPY_MODEL_f03a22bcf26d47b9af219923d9680876",
      "value": "Casting the dataset: 100%"
     }
    },
    "97a19513954b44bb8263a70c5d3c3e05": {
     "model_module": "@jupyter-widgets/controls",
     "model_module_version": "1.5.0",
     "model_name": "FloatProgressModel",
     "state": {
      "_dom_classes": [],
      "_model_module": "@jupyter-widgets/controls",
      "_model_module_version": "1.5.0",
      "_model_name": "FloatProgressModel",
      "_view_count": null,
      "_view_module": "@jupyter-widgets/controls",
      "_view_module_version": "1.5.0",
      "_view_name": "ProgressView",
      "bar_style": "success",
      "description": "",
      "description_tooltip": null,
      "layout": "IPY_MODEL_be8d5806340b47cb938d8173236fcd5c",
      "max": 2000,
      "min": 0,
      "orientation": "horizontal",
      "style": "IPY_MODEL_d855e5edcab949cda69584f831f0cc00",
      "value": 2000
     }
    },
    "99128f8a6bad4f778c92b608e51a33eb": {
     "model_module": "@jupyter-widgets/base",
     "model_module_version": "1.2.0",
     "model_name": "LayoutModel",
     "state": {
      "_model_module": "@jupyter-widgets/base",
      "_model_module_version": "1.2.0",
      "_model_name": "LayoutModel",
      "_view_count": null,
      "_view_module": "@jupyter-widgets/base",
      "_view_module_version": "1.2.0",
      "_view_name": "LayoutView",
      "align_content": null,
      "align_items": null,
      "align_self": null,
      "border": null,
      "bottom": null,
      "display": null,
      "flex": null,
      "flex_flow": null,
      "grid_area": null,
      "grid_auto_columns": null,
      "grid_auto_flow": null,
      "grid_auto_rows": null,
      "grid_column": null,
      "grid_gap": null,
      "grid_row": null,
      "grid_template_areas": null,
      "grid_template_columns": null,
      "grid_template_rows": null,
      "height": null,
      "justify_content": null,
      "justify_items": null,
      "left": null,
      "margin": null,
      "max_height": null,
      "max_width": null,
      "min_height": null,
      "min_width": null,
      "object_fit": null,
      "object_position": null,
      "order": null,
      "overflow": null,
      "overflow_x": null,
      "overflow_y": null,
      "padding": null,
      "right": null,
      "top": null,
      "visibility": null,
      "width": null
     }
    },
    "9ae4e458bb724aa0b72e6ed84e832369": {
     "model_module": "@jupyter-widgets/controls",
     "model_module_version": "1.5.0",
     "model_name": "FloatProgressModel",
     "state": {
      "_dom_classes": [],
      "_model_module": "@jupyter-widgets/controls",
      "_model_module_version": "1.5.0",
      "_model_name": "FloatProgressModel",
      "_view_count": null,
      "_view_module": "@jupyter-widgets/controls",
      "_view_module_version": "1.5.0",
      "_view_name": "ProgressView",
      "bar_style": "success",
      "description": "",
      "description_tooltip": null,
      "layout": "IPY_MODEL_22b2987ac42f42eaba568035e8d44281",
      "max": 1125,
      "min": 0,
      "orientation": "horizontal",
      "style": "IPY_MODEL_d9b720f495474e2f9b1345c41331b503",
      "value": 1125
     }
    },
    "9b1cc77b37c14a188ee15e8c0323427d": {
     "model_module": "@jupyter-widgets/controls",
     "model_module_version": "1.5.0",
     "model_name": "HTMLModel",
     "state": {
      "_dom_classes": [],
      "_model_module": "@jupyter-widgets/controls",
      "_model_module_version": "1.5.0",
      "_model_name": "HTMLModel",
      "_view_count": null,
      "_view_module": "@jupyter-widgets/controls",
      "_view_module_version": "1.5.0",
      "_view_name": "HTMLView",
      "description": "",
      "description_tooltip": null,
      "layout": "IPY_MODEL_9b3239817fa748759ac4578daa38f965",
      "placeholder": "​",
      "style": "IPY_MODEL_c13ca2e4c9d64342857359a6265876cc",
      "value": " 2000/2000 [00:00&lt;00:00, 52690.28 examples/s]"
     }
    },
    "9b3239817fa748759ac4578daa38f965": {
     "model_module": "@jupyter-widgets/base",
     "model_module_version": "1.2.0",
     "model_name": "LayoutModel",
     "state": {
      "_model_module": "@jupyter-widgets/base",
      "_model_module_version": "1.2.0",
      "_model_name": "LayoutModel",
      "_view_count": null,
      "_view_module": "@jupyter-widgets/base",
      "_view_module_version": "1.2.0",
      "_view_name": "LayoutView",
      "align_content": null,
      "align_items": null,
      "align_self": null,
      "border": null,
      "bottom": null,
      "display": null,
      "flex": null,
      "flex_flow": null,
      "grid_area": null,
      "grid_auto_columns": null,
      "grid_auto_flow": null,
      "grid_auto_rows": null,
      "grid_column": null,
      "grid_gap": null,
      "grid_row": null,
      "grid_template_areas": null,
      "grid_template_columns": null,
      "grid_template_rows": null,
      "height": null,
      "justify_content": null,
      "justify_items": null,
      "left": null,
      "margin": null,
      "max_height": null,
      "max_width": null,
      "min_height": null,
      "min_width": null,
      "object_fit": null,
      "object_position": null,
      "order": null,
      "overflow": null,
      "overflow_x": null,
      "overflow_y": null,
      "padding": null,
      "right": null,
      "top": null,
      "visibility": null,
      "width": null
     }
    },
    "a049cf2d528c4c84b129548c5435061d": {
     "model_module": "@jupyter-widgets/controls",
     "model_module_version": "1.5.0",
     "model_name": "HTMLModel",
     "state": {
      "_dom_classes": [],
      "_model_module": "@jupyter-widgets/controls",
      "_model_module_version": "1.5.0",
      "_model_name": "HTMLModel",
      "_view_count": null,
      "_view_module": "@jupyter-widgets/controls",
      "_view_module_version": "1.5.0",
      "_view_name": "HTMLView",
      "description": "",
      "description_tooltip": null,
      "layout": "IPY_MODEL_ad2697a73ac14f00b6cd70562b6032f4",
      "placeholder": "​",
      "style": "IPY_MODEL_d1ca6540001e4e70a8cc71d34c7ac9b3",
      "value": " 2000/2000 [00:00&lt;00:00, 44747.36 examples/s]"
     }
    },
    "a16abcd7f9d64410afaecd8d57d888ab": {
     "model_module": "@jupyter-widgets/base",
     "model_module_version": "1.2.0",
     "model_name": "LayoutModel",
     "state": {
      "_model_module": "@jupyter-widgets/base",
      "_model_module_version": "1.2.0",
      "_model_name": "LayoutModel",
      "_view_count": null,
      "_view_module": "@jupyter-widgets/base",
      "_view_module_version": "1.2.0",
      "_view_name": "LayoutView",
      "align_content": null,
      "align_items": null,
      "align_self": null,
      "border": null,
      "bottom": null,
      "display": null,
      "flex": null,
      "flex_flow": null,
      "grid_area": null,
      "grid_auto_columns": null,
      "grid_auto_flow": null,
      "grid_auto_rows": null,
      "grid_column": null,
      "grid_gap": null,
      "grid_row": null,
      "grid_template_areas": null,
      "grid_template_columns": null,
      "grid_template_rows": null,
      "height": null,
      "justify_content": null,
      "justify_items": null,
      "left": null,
      "margin": null,
      "max_height": null,
      "max_width": null,
      "min_height": null,
      "min_width": null,
      "object_fit": null,
      "object_position": null,
      "order": null,
      "overflow": null,
      "overflow_x": null,
      "overflow_y": null,
      "padding": null,
      "right": null,
      "top": null,
      "visibility": null,
      "width": null
     }
    },
    "a5decdb234774cf6ad4b5314a38e6599": {
     "model_module": "@jupyter-widgets/controls",
     "model_module_version": "1.5.0",
     "model_name": "HTMLModel",
     "state": {
      "_dom_classes": [],
      "_model_module": "@jupyter-widgets/controls",
      "_model_module_version": "1.5.0",
      "_model_name": "HTMLModel",
      "_view_count": null,
      "_view_module": "@jupyter-widgets/controls",
      "_view_module_version": "1.5.0",
      "_view_name": "HTMLView",
      "description": "",
      "description_tooltip": null,
      "layout": "IPY_MODEL_114479ffdbdf432790e7428649d48415",
      "placeholder": "​",
      "style": "IPY_MODEL_6904a604cc02455eaaec7c7b0b88b55c",
      "value": "Casting the dataset: 100%"
     }
    },
    "a694e17d9bc94c89b95e99e3b91d9dc8": {
     "model_module": "@jupyter-widgets/controls",
     "model_module_version": "1.5.0",
     "model_name": "HTMLModel",
     "state": {
      "_dom_classes": [],
      "_model_module": "@jupyter-widgets/controls",
      "_model_module_version": "1.5.0",
      "_model_name": "HTMLModel",
      "_view_count": null,
      "_view_module": "@jupyter-widgets/controls",
      "_view_module_version": "1.5.0",
      "_view_name": "HTMLView",
      "description": "",
      "description_tooltip": null,
      "layout": "IPY_MODEL_3ede8c15663a4ee08ee4c0c3eb085230",
      "placeholder": "​",
      "style": "IPY_MODEL_61ee833ed6ee4b5eacdc042de6aae72f",
      "value": " 2000/2000 [00:00&lt;00:00, 53895.78 examples/s]"
     }
    },
    "ac59c4c23f104bc5a466893c809ba991": {
     "model_module": "@jupyter-widgets/controls",
     "model_module_version": "1.5.0",
     "model_name": "FloatProgressModel",
     "state": {
      "_dom_classes": [],
      "_model_module": "@jupyter-widgets/controls",
      "_model_module_version": "1.5.0",
      "_model_name": "FloatProgressModel",
      "_view_count": null,
      "_view_module": "@jupyter-widgets/controls",
      "_view_module_version": "1.5.0",
      "_view_name": "ProgressView",
      "bar_style": "success",
      "description": "",
      "description_tooltip": null,
      "layout": "IPY_MODEL_c08a0ea3b18342048ad968fe440cce46",
      "max": 2,
      "min": 0,
      "orientation": "horizontal",
      "style": "IPY_MODEL_d8285a0b91144b1aa64905d143cefdd6",
      "value": 2
     }
    },
    "ad2697a73ac14f00b6cd70562b6032f4": {
     "model_module": "@jupyter-widgets/base",
     "model_module_version": "1.2.0",
     "model_name": "LayoutModel",
     "state": {
      "_model_module": "@jupyter-widgets/base",
      "_model_module_version": "1.2.0",
      "_model_name": "LayoutModel",
      "_view_count": null,
      "_view_module": "@jupyter-widgets/base",
      "_view_module_version": "1.2.0",
      "_view_name": "LayoutView",
      "align_content": null,
      "align_items": null,
      "align_self": null,
      "border": null,
      "bottom": null,
      "display": null,
      "flex": null,
      "flex_flow": null,
      "grid_area": null,
      "grid_auto_columns": null,
      "grid_auto_flow": null,
      "grid_auto_rows": null,
      "grid_column": null,
      "grid_gap": null,
      "grid_row": null,
      "grid_template_areas": null,
      "grid_template_columns": null,
      "grid_template_rows": null,
      "height": null,
      "justify_content": null,
      "justify_items": null,
      "left": null,
      "margin": null,
      "max_height": null,
      "max_width": null,
      "min_height": null,
      "min_width": null,
      "object_fit": null,
      "object_position": null,
      "order": null,
      "overflow": null,
      "overflow_x": null,
      "overflow_y": null,
      "padding": null,
      "right": null,
      "top": null,
      "visibility": null,
      "width": null
     }
    },
    "afec1593a659410ea262371dae51a1d2": {
     "model_module": "@jupyter-widgets/controls",
     "model_module_version": "1.5.0",
     "model_name": "HTMLModel",
     "state": {
      "_dom_classes": [],
      "_model_module": "@jupyter-widgets/controls",
      "_model_module_version": "1.5.0",
      "_model_name": "HTMLModel",
      "_view_count": null,
      "_view_module": "@jupyter-widgets/controls",
      "_view_module_version": "1.5.0",
      "_view_name": "HTMLView",
      "description": "",
      "description_tooltip": null,
      "layout": "IPY_MODEL_a16abcd7f9d64410afaecd8d57d888ab",
      "placeholder": "​",
      "style": "IPY_MODEL_e05168968d8e47a384f3f7fdeb5365a6",
      "value": " 2/2 [00:00&lt;00:00, 33.70ba/s]"
     }
    },
    "b05b26732ceb4da88393c80c90f2e94d": {
     "model_module": "@jupyter-widgets/base",
     "model_module_version": "1.2.0",
     "model_name": "LayoutModel",
     "state": {
      "_model_module": "@jupyter-widgets/base",
      "_model_module_version": "1.2.0",
      "_model_name": "LayoutModel",
      "_view_count": null,
      "_view_module": "@jupyter-widgets/base",
      "_view_module_version": "1.2.0",
      "_view_name": "LayoutView",
      "align_content": null,
      "align_items": null,
      "align_self": null,
      "border": null,
      "bottom": null,
      "display": null,
      "flex": null,
      "flex_flow": null,
      "grid_area": null,
      "grid_auto_columns": null,
      "grid_auto_flow": null,
      "grid_auto_rows": null,
      "grid_column": null,
      "grid_gap": null,
      "grid_row": null,
      "grid_template_areas": null,
      "grid_template_columns": null,
      "grid_template_rows": null,
      "height": null,
      "justify_content": null,
      "justify_items": null,
      "left": null,
      "margin": null,
      "max_height": null,
      "max_width": null,
      "min_height": null,
      "min_width": null,
      "object_fit": null,
      "object_position": null,
      "order": null,
      "overflow": null,
      "overflow_x": null,
      "overflow_y": null,
      "padding": null,
      "right": null,
      "top": null,
      "visibility": null,
      "width": null
     }
    },
    "b20d723b4e1c42d48d461ac14e5ff037": {
     "model_module": "@jupyter-widgets/base",
     "model_module_version": "1.2.0",
     "model_name": "LayoutModel",
     "state": {
      "_model_module": "@jupyter-widgets/base",
      "_model_module_version": "1.2.0",
      "_model_name": "LayoutModel",
      "_view_count": null,
      "_view_module": "@jupyter-widgets/base",
      "_view_module_version": "1.2.0",
      "_view_name": "LayoutView",
      "align_content": null,
      "align_items": null,
      "align_self": null,
      "border": null,
      "bottom": null,
      "display": null,
      "flex": null,
      "flex_flow": null,
      "grid_area": null,
      "grid_auto_columns": null,
      "grid_auto_flow": null,
      "grid_auto_rows": null,
      "grid_column": null,
      "grid_gap": null,
      "grid_row": null,
      "grid_template_areas": null,
      "grid_template_columns": null,
      "grid_template_rows": null,
      "height": null,
      "justify_content": null,
      "justify_items": null,
      "left": null,
      "margin": null,
      "max_height": null,
      "max_width": null,
      "min_height": null,
      "min_width": null,
      "object_fit": null,
      "object_position": null,
      "order": null,
      "overflow": null,
      "overflow_x": null,
      "overflow_y": null,
      "padding": null,
      "right": null,
      "top": null,
      "visibility": null,
      "width": null
     }
    },
    "ba75c6f540c04931b0d9ace89fb9abf8": {
     "model_module": "@jupyter-widgets/controls",
     "model_module_version": "1.5.0",
     "model_name": "HBoxModel",
     "state": {
      "_dom_classes": [],
      "_model_module": "@jupyter-widgets/controls",
      "_model_module_version": "1.5.0",
      "_model_name": "HBoxModel",
      "_view_count": null,
      "_view_module": "@jupyter-widgets/controls",
      "_view_module_version": "1.5.0",
      "_view_name": "HBoxView",
      "box_style": "",
      "children": [
       "IPY_MODEL_fa43d80e21cd477db38c608a2d308295",
       "IPY_MODEL_24f09bfd571847e7aa7ccae69c4a9170",
       "IPY_MODEL_c77af37b63e642d79860118bd47d8a87"
      ],
      "layout": "IPY_MODEL_54a597f5549f4c7495a21dba4211d02c"
     }
    },
    "bba6d5df09dc450f8c2122e0ca05848f": {
     "model_module": "@jupyter-widgets/base",
     "model_module_version": "1.2.0",
     "model_name": "LayoutModel",
     "state": {
      "_model_module": "@jupyter-widgets/base",
      "_model_module_version": "1.2.0",
      "_model_name": "LayoutModel",
      "_view_count": null,
      "_view_module": "@jupyter-widgets/base",
      "_view_module_version": "1.2.0",
      "_view_name": "LayoutView",
      "align_content": null,
      "align_items": null,
      "align_self": null,
      "border": null,
      "bottom": null,
      "display": null,
      "flex": null,
      "flex_flow": null,
      "grid_area": null,
      "grid_auto_columns": null,
      "grid_auto_flow": null,
      "grid_auto_rows": null,
      "grid_column": null,
      "grid_gap": null,
      "grid_row": null,
      "grid_template_areas": null,
      "grid_template_columns": null,
      "grid_template_rows": null,
      "height": null,
      "justify_content": null,
      "justify_items": null,
      "left": null,
      "margin": null,
      "max_height": null,
      "max_width": null,
      "min_height": null,
      "min_width": null,
      "object_fit": null,
      "object_position": null,
      "order": null,
      "overflow": null,
      "overflow_x": null,
      "overflow_y": null,
      "padding": null,
      "right": null,
      "top": null,
      "visibility": null,
      "width": null
     }
    },
    "be8d5806340b47cb938d8173236fcd5c": {
     "model_module": "@jupyter-widgets/base",
     "model_module_version": "1.2.0",
     "model_name": "LayoutModel",
     "state": {
      "_model_module": "@jupyter-widgets/base",
      "_model_module_version": "1.2.0",
      "_model_name": "LayoutModel",
      "_view_count": null,
      "_view_module": "@jupyter-widgets/base",
      "_view_module_version": "1.2.0",
      "_view_name": "LayoutView",
      "align_content": null,
      "align_items": null,
      "align_self": null,
      "border": null,
      "bottom": null,
      "display": null,
      "flex": null,
      "flex_flow": null,
      "grid_area": null,
      "grid_auto_columns": null,
      "grid_auto_flow": null,
      "grid_auto_rows": null,
      "grid_column": null,
      "grid_gap": null,
      "grid_row": null,
      "grid_template_areas": null,
      "grid_template_columns": null,
      "grid_template_rows": null,
      "height": null,
      "justify_content": null,
      "justify_items": null,
      "left": null,
      "margin": null,
      "max_height": null,
      "max_width": null,
      "min_height": null,
      "min_width": null,
      "object_fit": null,
      "object_position": null,
      "order": null,
      "overflow": null,
      "overflow_x": null,
      "overflow_y": null,
      "padding": null,
      "right": null,
      "top": null,
      "visibility": null,
      "width": null
     }
    },
    "c08a0ea3b18342048ad968fe440cce46": {
     "model_module": "@jupyter-widgets/base",
     "model_module_version": "1.2.0",
     "model_name": "LayoutModel",
     "state": {
      "_model_module": "@jupyter-widgets/base",
      "_model_module_version": "1.2.0",
      "_model_name": "LayoutModel",
      "_view_count": null,
      "_view_module": "@jupyter-widgets/base",
      "_view_module_version": "1.2.0",
      "_view_name": "LayoutView",
      "align_content": null,
      "align_items": null,
      "align_self": null,
      "border": null,
      "bottom": null,
      "display": null,
      "flex": null,
      "flex_flow": null,
      "grid_area": null,
      "grid_auto_columns": null,
      "grid_auto_flow": null,
      "grid_auto_rows": null,
      "grid_column": null,
      "grid_gap": null,
      "grid_row": null,
      "grid_template_areas": null,
      "grid_template_columns": null,
      "grid_template_rows": null,
      "height": null,
      "justify_content": null,
      "justify_items": null,
      "left": null,
      "margin": null,
      "max_height": null,
      "max_width": null,
      "min_height": null,
      "min_width": null,
      "object_fit": null,
      "object_position": null,
      "order": null,
      "overflow": null,
      "overflow_x": null,
      "overflow_y": null,
      "padding": null,
      "right": null,
      "top": null,
      "visibility": null,
      "width": null
     }
    },
    "c13ca2e4c9d64342857359a6265876cc": {
     "model_module": "@jupyter-widgets/controls",
     "model_module_version": "1.5.0",
     "model_name": "DescriptionStyleModel",
     "state": {
      "_model_module": "@jupyter-widgets/controls",
      "_model_module_version": "1.5.0",
      "_model_name": "DescriptionStyleModel",
      "_view_count": null,
      "_view_module": "@jupyter-widgets/base",
      "_view_module_version": "1.2.0",
      "_view_name": "StyleView",
      "description_width": ""
     }
    },
    "c1c67188edf140e7af518362a3497fc0": {
     "model_module": "@jupyter-widgets/controls",
     "model_module_version": "1.5.0",
     "model_name": "FloatProgressModel",
     "state": {
      "_dom_classes": [],
      "_model_module": "@jupyter-widgets/controls",
      "_model_module_version": "1.5.0",
      "_model_name": "FloatProgressModel",
      "_view_count": null,
      "_view_module": "@jupyter-widgets/controls",
      "_view_module_version": "1.5.0",
      "_view_name": "ProgressView",
      "bar_style": "success",
      "description": "",
      "description_tooltip": null,
      "layout": "IPY_MODEL_7e84ebeff5d646ccac6dcf826dd091d5",
      "max": 2000,
      "min": 0,
      "orientation": "horizontal",
      "style": "IPY_MODEL_7152f6d6293240b6a93dfffe1936a53e",
      "value": 2000
     }
    },
    "c5c3add2afaa43578eaae36e903c0521": {
     "model_module": "@jupyter-widgets/controls",
     "model_module_version": "1.5.0",
     "model_name": "HTMLModel",
     "state": {
      "_dom_classes": [],
      "_model_module": "@jupyter-widgets/controls",
      "_model_module_version": "1.5.0",
      "_model_name": "HTMLModel",
      "_view_count": null,
      "_view_module": "@jupyter-widgets/controls",
      "_view_module_version": "1.5.0",
      "_view_name": "HTMLView",
      "description": "",
      "description_tooltip": null,
      "layout": "IPY_MODEL_f4a1ec7037454026a0462d1ddaa075cb",
      "placeholder": "​",
      "style": "IPY_MODEL_2a3068c399cd46ebbc0c93e078c4a71b",
      "value": " 1.12k/1.12k [00:00&lt;00:00, 70.5kB/s]"
     }
    },
    "c74880d593454c5eb74bb0c8617b039d": {
     "model_module": "@jupyter-widgets/controls",
     "model_module_version": "1.5.0",
     "model_name": "HTMLModel",
     "state": {
      "_dom_classes": [],
      "_model_module": "@jupyter-widgets/controls",
      "_model_module_version": "1.5.0",
      "_model_name": "HTMLModel",
      "_view_count": null,
      "_view_module": "@jupyter-widgets/controls",
      "_view_module_version": "1.5.0",
      "_view_name": "HTMLView",
      "description": "",
      "description_tooltip": null,
      "layout": "IPY_MODEL_3fb9c2020afb47558184ab1cc3b5af68",
      "placeholder": "​",
      "style": "IPY_MODEL_6d324b50603747d0818f4c14b5f9ee8b",
      "value": "Casting the dataset: 100%"
     }
    },
    "c77af37b63e642d79860118bd47d8a87": {
     "model_module": "@jupyter-widgets/controls",
     "model_module_version": "1.5.0",
     "model_name": "HTMLModel",
     "state": {
      "_dom_classes": [],
      "_model_module": "@jupyter-widgets/controls",
      "_model_module_version": "1.5.0",
      "_model_name": "HTMLModel",
      "_view_count": null,
      "_view_module": "@jupyter-widgets/controls",
      "_view_module_version": "1.5.0",
      "_view_name": "HTMLView",
      "description": "",
      "description_tooltip": null,
      "layout": "IPY_MODEL_325e6c4ad3094ed296eac3738af2ef55",
      "placeholder": "​",
      "style": "IPY_MODEL_10c4f61a873646ba8bf581128ab62e89",
      "value": " 1/1 [00:01&lt;00:00,  1.07s/it]"
     }
    },
    "cebfeeab7a724eb39707ce368515d5e2": {
     "model_module": "@jupyter-widgets/base",
     "model_module_version": "1.2.0",
     "model_name": "LayoutModel",
     "state": {
      "_model_module": "@jupyter-widgets/base",
      "_model_module_version": "1.2.0",
      "_model_name": "LayoutModel",
      "_view_count": null,
      "_view_module": "@jupyter-widgets/base",
      "_view_module_version": "1.2.0",
      "_view_name": "LayoutView",
      "align_content": null,
      "align_items": null,
      "align_self": null,
      "border": null,
      "bottom": null,
      "display": null,
      "flex": null,
      "flex_flow": null,
      "grid_area": null,
      "grid_auto_columns": null,
      "grid_auto_flow": null,
      "grid_auto_rows": null,
      "grid_column": null,
      "grid_gap": null,
      "grid_row": null,
      "grid_template_areas": null,
      "grid_template_columns": null,
      "grid_template_rows": null,
      "height": null,
      "justify_content": null,
      "justify_items": null,
      "left": null,
      "margin": null,
      "max_height": null,
      "max_width": null,
      "min_height": null,
      "min_width": null,
      "object_fit": null,
      "object_position": null,
      "order": null,
      "overflow": null,
      "overflow_x": null,
      "overflow_y": null,
      "padding": null,
      "right": null,
      "top": null,
      "visibility": null,
      "width": null
     }
    },
    "d11e8895aafb410997fe0c4fe0d3ff4e": {
     "model_module": "@jupyter-widgets/base",
     "model_module_version": "1.2.0",
     "model_name": "LayoutModel",
     "state": {
      "_model_module": "@jupyter-widgets/base",
      "_model_module_version": "1.2.0",
      "_model_name": "LayoutModel",
      "_view_count": null,
      "_view_module": "@jupyter-widgets/base",
      "_view_module_version": "1.2.0",
      "_view_name": "LayoutView",
      "align_content": null,
      "align_items": null,
      "align_self": null,
      "border": null,
      "bottom": null,
      "display": null,
      "flex": null,
      "flex_flow": null,
      "grid_area": null,
      "grid_auto_columns": null,
      "grid_auto_flow": null,
      "grid_auto_rows": null,
      "grid_column": null,
      "grid_gap": null,
      "grid_row": null,
      "grid_template_areas": null,
      "grid_template_columns": null,
      "grid_template_rows": null,
      "height": null,
      "justify_content": null,
      "justify_items": null,
      "left": null,
      "margin": null,
      "max_height": null,
      "max_width": null,
      "min_height": null,
      "min_width": null,
      "object_fit": null,
      "object_position": null,
      "order": null,
      "overflow": null,
      "overflow_x": null,
      "overflow_y": null,
      "padding": null,
      "right": null,
      "top": null,
      "visibility": null,
      "width": null
     }
    },
    "d1ca6540001e4e70a8cc71d34c7ac9b3": {
     "model_module": "@jupyter-widgets/controls",
     "model_module_version": "1.5.0",
     "model_name": "DescriptionStyleModel",
     "state": {
      "_model_module": "@jupyter-widgets/controls",
      "_model_module_version": "1.5.0",
      "_model_name": "DescriptionStyleModel",
      "_view_count": null,
      "_view_module": "@jupyter-widgets/base",
      "_view_module_version": "1.2.0",
      "_view_name": "StyleView",
      "description_width": ""
     }
    },
    "d6383a4680f84757a995767cfd5f6e3c": {
     "model_module": "@jupyter-widgets/controls",
     "model_module_version": "1.5.0",
     "model_name": "ProgressStyleModel",
     "state": {
      "_model_module": "@jupyter-widgets/controls",
      "_model_module_version": "1.5.0",
      "_model_name": "ProgressStyleModel",
      "_view_count": null,
      "_view_module": "@jupyter-widgets/base",
      "_view_module_version": "1.2.0",
      "_view_name": "StyleView",
      "bar_color": null,
      "description_width": ""
     }
    },
    "d8285a0b91144b1aa64905d143cefdd6": {
     "model_module": "@jupyter-widgets/controls",
     "model_module_version": "1.5.0",
     "model_name": "ProgressStyleModel",
     "state": {
      "_model_module": "@jupyter-widgets/controls",
      "_model_module_version": "1.5.0",
      "_model_name": "ProgressStyleModel",
      "_view_count": null,
      "_view_module": "@jupyter-widgets/base",
      "_view_module_version": "1.2.0",
      "_view_name": "StyleView",
      "bar_color": null,
      "description_width": ""
     }
    },
    "d855e5edcab949cda69584f831f0cc00": {
     "model_module": "@jupyter-widgets/controls",
     "model_module_version": "1.5.0",
     "model_name": "ProgressStyleModel",
     "state": {
      "_model_module": "@jupyter-widgets/controls",
      "_model_module_version": "1.5.0",
      "_model_name": "ProgressStyleModel",
      "_view_count": null,
      "_view_module": "@jupyter-widgets/base",
      "_view_module_version": "1.2.0",
      "_view_name": "StyleView",
      "bar_color": null,
      "description_width": ""
     }
    },
    "d9b720f495474e2f9b1345c41331b503": {
     "model_module": "@jupyter-widgets/controls",
     "model_module_version": "1.5.0",
     "model_name": "ProgressStyleModel",
     "state": {
      "_model_module": "@jupyter-widgets/controls",
      "_model_module_version": "1.5.0",
      "_model_name": "ProgressStyleModel",
      "_view_count": null,
      "_view_module": "@jupyter-widgets/base",
      "_view_module_version": "1.2.0",
      "_view_name": "StyleView",
      "bar_color": null,
      "description_width": ""
     }
    },
    "da7d0e3439b04edf9db29792b3960970": {
     "model_module": "@jupyter-widgets/base",
     "model_module_version": "1.2.0",
     "model_name": "LayoutModel",
     "state": {
      "_model_module": "@jupyter-widgets/base",
      "_model_module_version": "1.2.0",
      "_model_name": "LayoutModel",
      "_view_count": null,
      "_view_module": "@jupyter-widgets/base",
      "_view_module_version": "1.2.0",
      "_view_name": "LayoutView",
      "align_content": null,
      "align_items": null,
      "align_self": null,
      "border": null,
      "bottom": null,
      "display": null,
      "flex": null,
      "flex_flow": null,
      "grid_area": null,
      "grid_auto_columns": null,
      "grid_auto_flow": null,
      "grid_auto_rows": null,
      "grid_column": null,
      "grid_gap": null,
      "grid_row": null,
      "grid_template_areas": null,
      "grid_template_columns": null,
      "grid_template_rows": null,
      "height": null,
      "justify_content": null,
      "justify_items": null,
      "left": null,
      "margin": null,
      "max_height": null,
      "max_width": null,
      "min_height": null,
      "min_width": null,
      "object_fit": null,
      "object_position": null,
      "order": null,
      "overflow": null,
      "overflow_x": null,
      "overflow_y": null,
      "padding": null,
      "right": null,
      "top": null,
      "visibility": null,
      "width": null
     }
    },
    "dbc8c8b0a38b457bb52538ce55301711": {
     "model_module": "@jupyter-widgets/controls",
     "model_module_version": "1.5.0",
     "model_name": "DescriptionStyleModel",
     "state": {
      "_model_module": "@jupyter-widgets/controls",
      "_model_module_version": "1.5.0",
      "_model_name": "DescriptionStyleModel",
      "_view_count": null,
      "_view_module": "@jupyter-widgets/base",
      "_view_module_version": "1.2.0",
      "_view_name": "StyleView",
      "description_width": ""
     }
    },
    "dd3d5e12fed14aa6860a0286659f3568": {
     "model_module": "@jupyter-widgets/base",
     "model_module_version": "1.2.0",
     "model_name": "LayoutModel",
     "state": {
      "_model_module": "@jupyter-widgets/base",
      "_model_module_version": "1.2.0",
      "_model_name": "LayoutModel",
      "_view_count": null,
      "_view_module": "@jupyter-widgets/base",
      "_view_module_version": "1.2.0",
      "_view_name": "LayoutView",
      "align_content": null,
      "align_items": null,
      "align_self": null,
      "border": null,
      "bottom": null,
      "display": null,
      "flex": null,
      "flex_flow": null,
      "grid_area": null,
      "grid_auto_columns": null,
      "grid_auto_flow": null,
      "grid_auto_rows": null,
      "grid_column": null,
      "grid_gap": null,
      "grid_row": null,
      "grid_template_areas": null,
      "grid_template_columns": null,
      "grid_template_rows": null,
      "height": null,
      "justify_content": null,
      "justify_items": null,
      "left": null,
      "margin": null,
      "max_height": null,
      "max_width": null,
      "min_height": null,
      "min_width": null,
      "object_fit": null,
      "object_position": null,
      "order": null,
      "overflow": null,
      "overflow_x": null,
      "overflow_y": null,
      "padding": null,
      "right": null,
      "top": null,
      "visibility": null,
      "width": null
     }
    },
    "dea5155f607b4ee29695394b678578ea": {
     "model_module": "@jupyter-widgets/base",
     "model_module_version": "1.2.0",
     "model_name": "LayoutModel",
     "state": {
      "_model_module": "@jupyter-widgets/base",
      "_model_module_version": "1.2.0",
      "_model_name": "LayoutModel",
      "_view_count": null,
      "_view_module": "@jupyter-widgets/base",
      "_view_module_version": "1.2.0",
      "_view_name": "LayoutView",
      "align_content": null,
      "align_items": null,
      "align_self": null,
      "border": null,
      "bottom": null,
      "display": null,
      "flex": null,
      "flex_flow": null,
      "grid_area": null,
      "grid_auto_columns": null,
      "grid_auto_flow": null,
      "grid_auto_rows": null,
      "grid_column": null,
      "grid_gap": null,
      "grid_row": null,
      "grid_template_areas": null,
      "grid_template_columns": null,
      "grid_template_rows": null,
      "height": null,
      "justify_content": null,
      "justify_items": null,
      "left": null,
      "margin": null,
      "max_height": null,
      "max_width": null,
      "min_height": null,
      "min_width": null,
      "object_fit": null,
      "object_position": null,
      "order": null,
      "overflow": null,
      "overflow_x": null,
      "overflow_y": null,
      "padding": null,
      "right": null,
      "top": null,
      "visibility": null,
      "width": null
     }
    },
    "e042a1a14a9c4188bf370c06f6e7a2a6": {
     "model_module": "@jupyter-widgets/controls",
     "model_module_version": "1.5.0",
     "model_name": "ProgressStyleModel",
     "state": {
      "_model_module": "@jupyter-widgets/controls",
      "_model_module_version": "1.5.0",
      "_model_name": "ProgressStyleModel",
      "_view_count": null,
      "_view_module": "@jupyter-widgets/base",
      "_view_module_version": "1.2.0",
      "_view_name": "StyleView",
      "bar_color": null,
      "description_width": ""
     }
    },
    "e05168968d8e47a384f3f7fdeb5365a6": {
     "model_module": "@jupyter-widgets/controls",
     "model_module_version": "1.5.0",
     "model_name": "DescriptionStyleModel",
     "state": {
      "_model_module": "@jupyter-widgets/controls",
      "_model_module_version": "1.5.0",
      "_model_name": "DescriptionStyleModel",
      "_view_count": null,
      "_view_module": "@jupyter-widgets/base",
      "_view_module_version": "1.2.0",
      "_view_name": "StyleView",
      "description_width": ""
     }
    },
    "e21957ca43a8461c96758c7b501fb524": {
     "model_module": "@jupyter-widgets/controls",
     "model_module_version": "1.5.0",
     "model_name": "FloatProgressModel",
     "state": {
      "_dom_classes": [],
      "_model_module": "@jupyter-widgets/controls",
      "_model_module_version": "1.5.0",
      "_model_name": "FloatProgressModel",
      "_view_count": null,
      "_view_module": "@jupyter-widgets/controls",
      "_view_module_version": "1.5.0",
      "_view_name": "ProgressView",
      "bar_style": "success",
      "description": "",
      "description_tooltip": null,
      "layout": "IPY_MODEL_bba6d5df09dc450f8c2122e0ca05848f",
      "max": 2000,
      "min": 0,
      "orientation": "horizontal",
      "style": "IPY_MODEL_69e90ac6958048f79acdb7623b2f8208",
      "value": 2000
     }
    },
    "e2778ea38c054a6eaf15bfc95b378622": {
     "model_module": "@jupyter-widgets/controls",
     "model_module_version": "1.5.0",
     "model_name": "HTMLModel",
     "state": {
      "_dom_classes": [],
      "_model_module": "@jupyter-widgets/controls",
      "_model_module_version": "1.5.0",
      "_model_name": "HTMLModel",
      "_view_count": null,
      "_view_module": "@jupyter-widgets/controls",
      "_view_module_version": "1.5.0",
      "_view_name": "HTMLView",
      "description": "",
      "description_tooltip": null,
      "layout": "IPY_MODEL_258c9115aa7e4c9bb5ee8696a01f80e5",
      "placeholder": "​",
      "style": "IPY_MODEL_dbc8c8b0a38b457bb52538ce55301711",
      "value": "README.md: 100%"
     }
    },
    "e5ba9602e26e4c5ca2e4432506b94349": {
     "model_module": "@jupyter-widgets/controls",
     "model_module_version": "1.5.0",
     "model_name": "DescriptionStyleModel",
     "state": {
      "_model_module": "@jupyter-widgets/controls",
      "_model_module_version": "1.5.0",
      "_model_name": "DescriptionStyleModel",
      "_view_count": null,
      "_view_module": "@jupyter-widgets/base",
      "_view_module_version": "1.2.0",
      "_view_name": "StyleView",
      "description_width": ""
     }
    },
    "e983c2630c0a4ce79aefd7e978deef71": {
     "model_module": "@jupyter-widgets/controls",
     "model_module_version": "1.5.0",
     "model_name": "HTMLModel",
     "state": {
      "_dom_classes": [],
      "_model_module": "@jupyter-widgets/controls",
      "_model_module_version": "1.5.0",
      "_model_name": "HTMLModel",
      "_view_count": null,
      "_view_module": "@jupyter-widgets/controls",
      "_view_module_version": "1.5.0",
      "_view_name": "HTMLView",
      "description": "",
      "description_tooltip": null,
      "layout": "IPY_MODEL_d11e8895aafb410997fe0c4fe0d3ff4e",
      "placeholder": "​",
      "style": "IPY_MODEL_e5ba9602e26e4c5ca2e4432506b94349",
      "value": " 2000/2000 [00:00&lt;00:00, 44670.87 examples/s]"
     }
    },
    "ef8547f2999340feb7c19be14a432b3b": {
     "model_module": "@jupyter-widgets/controls",
     "model_module_version": "1.5.0",
     "model_name": "HTMLModel",
     "state": {
      "_dom_classes": [],
      "_model_module": "@jupyter-widgets/controls",
      "_model_module_version": "1.5.0",
      "_model_name": "HTMLModel",
      "_view_count": null,
      "_view_module": "@jupyter-widgets/controls",
      "_view_module_version": "1.5.0",
      "_view_name": "HTMLView",
      "description": "",
      "description_tooltip": null,
      "layout": "IPY_MODEL_5ba245ddc6ac4da9ae0f6e061bb9a407",
      "placeholder": "​",
      "style": "IPY_MODEL_fb120f4e66994acd892d69d3e5c90254",
      "value": "Creating parquet from Arrow format: 100%"
     }
    },
    "f03a22bcf26d47b9af219923d9680876": {
     "model_module": "@jupyter-widgets/controls",
     "model_module_version": "1.5.0",
     "model_name": "DescriptionStyleModel",
     "state": {
      "_model_module": "@jupyter-widgets/controls",
      "_model_module_version": "1.5.0",
      "_model_name": "DescriptionStyleModel",
      "_view_count": null,
      "_view_module": "@jupyter-widgets/base",
      "_view_module_version": "1.2.0",
      "_view_name": "StyleView",
      "description_width": ""
     }
    },
    "f1c089db96b84a17a1646017f026f749": {
     "model_module": "@jupyter-widgets/base",
     "model_module_version": "1.2.0",
     "model_name": "LayoutModel",
     "state": {
      "_model_module": "@jupyter-widgets/base",
      "_model_module_version": "1.2.0",
      "_model_name": "LayoutModel",
      "_view_count": null,
      "_view_module": "@jupyter-widgets/base",
      "_view_module_version": "1.2.0",
      "_view_name": "LayoutView",
      "align_content": null,
      "align_items": null,
      "align_self": null,
      "border": null,
      "bottom": null,
      "display": null,
      "flex": null,
      "flex_flow": null,
      "grid_area": null,
      "grid_auto_columns": null,
      "grid_auto_flow": null,
      "grid_auto_rows": null,
      "grid_column": null,
      "grid_gap": null,
      "grid_row": null,
      "grid_template_areas": null,
      "grid_template_columns": null,
      "grid_template_rows": null,
      "height": null,
      "justify_content": null,
      "justify_items": null,
      "left": null,
      "margin": null,
      "max_height": null,
      "max_width": null,
      "min_height": null,
      "min_width": null,
      "object_fit": null,
      "object_position": null,
      "order": null,
      "overflow": null,
      "overflow_x": null,
      "overflow_y": null,
      "padding": null,
      "right": null,
      "top": null,
      "visibility": null,
      "width": null
     }
    },
    "f4a1ec7037454026a0462d1ddaa075cb": {
     "model_module": "@jupyter-widgets/base",
     "model_module_version": "1.2.0",
     "model_name": "LayoutModel",
     "state": {
      "_model_module": "@jupyter-widgets/base",
      "_model_module_version": "1.2.0",
      "_model_name": "LayoutModel",
      "_view_count": null,
      "_view_module": "@jupyter-widgets/base",
      "_view_module_version": "1.2.0",
      "_view_name": "LayoutView",
      "align_content": null,
      "align_items": null,
      "align_self": null,
      "border": null,
      "bottom": null,
      "display": null,
      "flex": null,
      "flex_flow": null,
      "grid_area": null,
      "grid_auto_columns": null,
      "grid_auto_flow": null,
      "grid_auto_rows": null,
      "grid_column": null,
      "grid_gap": null,
      "grid_row": null,
      "grid_template_areas": null,
      "grid_template_columns": null,
      "grid_template_rows": null,
      "height": null,
      "justify_content": null,
      "justify_items": null,
      "left": null,
      "margin": null,
      "max_height": null,
      "max_width": null,
      "min_height": null,
      "min_width": null,
      "object_fit": null,
      "object_position": null,
      "order": null,
      "overflow": null,
      "overflow_x": null,
      "overflow_y": null,
      "padding": null,
      "right": null,
      "top": null,
      "visibility": null,
      "width": null
     }
    },
    "fa30a3eec76f4b7d9332940412a7c84a": {
     "model_module": "@jupyter-widgets/controls",
     "model_module_version": "1.5.0",
     "model_name": "FloatProgressModel",
     "state": {
      "_dom_classes": [],
      "_model_module": "@jupyter-widgets/controls",
      "_model_module_version": "1.5.0",
      "_model_name": "FloatProgressModel",
      "_view_count": null,
      "_view_module": "@jupyter-widgets/controls",
      "_view_module_version": "1.5.0",
      "_view_name": "ProgressView",
      "bar_style": "success",
      "description": "",
      "description_tooltip": null,
      "layout": "IPY_MODEL_22c6995bfbd84d0384b08bd4abd4135e",
      "max": 2000,
      "min": 0,
      "orientation": "horizontal",
      "style": "IPY_MODEL_d6383a4680f84757a995767cfd5f6e3c",
      "value": 2000
     }
    },
    "fa43d80e21cd477db38c608a2d308295": {
     "model_module": "@jupyter-widgets/controls",
     "model_module_version": "1.5.0",
     "model_name": "HTMLModel",
     "state": {
      "_dom_classes": [],
      "_model_module": "@jupyter-widgets/controls",
      "_model_module_version": "1.5.0",
      "_model_name": "HTMLModel",
      "_view_count": null,
      "_view_module": "@jupyter-widgets/controls",
      "_view_module_version": "1.5.0",
      "_view_name": "HTMLView",
      "description": "",
      "description_tooltip": null,
      "layout": "IPY_MODEL_07388871fba34f91892cb411b274b9f2",
      "placeholder": "​",
      "style": "IPY_MODEL_92abbf8cf6c347bda3460a500be22942",
      "value": "Uploading the dataset shards: 100%"
     }
    },
    "fb120f4e66994acd892d69d3e5c90254": {
     "model_module": "@jupyter-widgets/controls",
     "model_module_version": "1.5.0",
     "model_name": "DescriptionStyleModel",
     "state": {
      "_model_module": "@jupyter-widgets/controls",
      "_model_module_version": "1.5.0",
      "_model_name": "DescriptionStyleModel",
      "_view_count": null,
      "_view_module": "@jupyter-widgets/base",
      "_view_module_version": "1.2.0",
      "_view_name": "StyleView",
      "description_width": ""
     }
    }
   }
  }
 },
 "nbformat": 4,
 "nbformat_minor": 0
}
