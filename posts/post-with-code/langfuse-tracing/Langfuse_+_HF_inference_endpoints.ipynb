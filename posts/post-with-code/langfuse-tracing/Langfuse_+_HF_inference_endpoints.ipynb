{
  "cells": [
    {
      "cell_type": "markdown",
      "metadata": {},
      "source": [
        "---\n",
        "title: \"Tracing Text Generation Inference calls\"\n",
        "description: \"How to trace text generation inference calls with Langfuse.\"\n",
        "author: \"Daniel van Strien\"\n",
        "date: \"4/05/2024\"\n",
        "draft: false\n",
        "frozen: true\n",
        "---"
      ]
    },
    {
      "cell_type": "code",
      "execution_count": 1,
      "metadata": {
        "colab": {
          "base_uri": "https://localhost:8080/"
        },
        "id": "9JH28ZWSzNEE",
        "outputId": "be7ed8e0-ad25-4d97-88a8-799f85591f8f"
      },
      "outputs": [
        {
          "name": "stdout",
          "output_type": "stream",
          "text": [
            "/Users/davanstrien/Documents/daniel/new_blog/.venv/bin/python: No module named pip\n",
            "Note: you may need to restart the kernel to use updated packages.\n"
          ]
        }
      ],
      "source": [
        "%pip install openai langfuse"
      ]
    },
    {
      "cell_type": "markdown",
      "metadata": {},
      "source": [
        "```\n",
        "LANGFUSE_SECRET_KEY=\"sk-lf-...\"\n",
        "LANGFUSE_PUBLIC_KEY=\"pk-lf-...\"\n",
        "LANGFUSE_HOST=\"https://cloud.langfuse.com\" # 🇪🇺 EU region\n",
        "```"
      ]
    },
    {
      "cell_type": "code",
      "execution_count": null,
      "metadata": {
        "id": "KotJQLmSzWKQ"
      },
      "outputs": [],
      "source": []
    },
    {
      "cell_type": "code",
      "execution_count": null,
      "metadata": {
        "id": "unYmGwhT2X3H"
      },
      "outputs": [],
      "source": [
        "from google.colab import userdata\n",
        "import os"
      ]
    },
    {
      "cell_type": "code",
      "execution_count": null,
      "metadata": {
        "id": "57TzKRMZ2ar-"
      },
      "outputs": [],
      "source": [
        "os.environ[\"LANGFUSE_SECRET_KEY\"] = userdata.get('LANGFUSE_SECRET_KEY')\n",
        "os.environ[\"LANGFUSE_PUBLIC_KEY\"] = userdata.get('LANGFUSE_PUBLIC_KEY')\n",
        "HF_TOKEN = userdata.get('HF_TOKEN')\n"
      ]
    },
    {
      "cell_type": "code",
      "execution_count": null,
      "metadata": {
        "id": "QNI38yJh3F1P"
      },
      "outputs": [],
      "source": []
    },
    {
      "cell_type": "code",
      "execution_count": null,
      "metadata": {
        "id": "q1B571yq2vdY"
      },
      "outputs": [],
      "source": [
        "from langfuse.decorators import observe\n",
        "from langfuse.openai import openai, OpenAI # OpenAI integration\n",
        "\n",
        "\n",
        "client = OpenAI(\n",
        "        base_url=\"https://api-inference.huggingface.co/models/mistralai/Mixtral-8x7B-Instruct-v0.1/v1\",\n",
        "        api_key=HF_TOKEN,\n",
        "    )"
      ]
    },
    {
      "cell_type": "code",
      "execution_count": null,
      "metadata": {
        "id": "D7obn0XC3Jlf"
      },
      "outputs": [],
      "source": [
        "chat_completion = client.chat.completions.create(\n",
        "    model=\"tgi\",\n",
        "    messages=[\n",
        "        {\"role\": \"user\", \"content\": \"What is Hugging Face?\"}\n",
        "    ],\n",
        "    stream=False\n",
        ")"
      ]
    },
    {
      "cell_type": "code",
      "execution_count": null,
      "metadata": {
        "colab": {
          "base_uri": "https://localhost:8080/"
        },
        "id": "A0kbYqzd3vkb",
        "outputId": "9ecdea98-6c15-464c-e9c8-1425188b63fd"
      },
      "outputs": [
        {
          "data": {
            "text/plain": [
              "ChatCompletion(id='', choices=[Choice(finish_reason='length', index=0, logprobs=None, message=ChatCompletionMessage(content=\" Hugging Face is a technology company that specializes in natural language processing (NLP) and artificial intelligence (AI). The company is best known for its development of Transformers, an open-source library that provides a wide range of pre-trained models for various NLP tasks, such as text classification, question answering, and language translation.\\n\\nHugging Face's Transformers library has gained widespread popularity among developers and researchers due to its ease of use, flexibility, and\", role='assistant', function_call=None, tool_calls=None))], created=1712314124, model='text-generation-inference/Mixtral-8x7B-Instruct-v0.1-medusa', object='text_completion', system_fingerprint='1.4.3-sha-e6bb3ff', usage=CompletionUsage(completion_tokens=100, prompt_tokens=15, total_tokens=115))"
            ]
          },
          "execution_count": 14,
          "metadata": {},
          "output_type": "execute_result"
        }
      ],
      "source": [
        "chat_completion"
      ]
    },
    {
      "cell_type": "markdown",
      "metadata": {},
      "source": [
        "![Langfuse Trace](langfuse.png)"
      ]
    },
    {
      "cell_type": "code",
      "execution_count": null,
      "metadata": {
        "id": "ElaWNXti326d"
      },
      "outputs": [],
      "source": []
    }
  ],
  "metadata": {
    "colab": {
      "provenance": []
    },
    "kernelspec": {
      "display_name": "Python 3",
      "name": "python3"
    },
    "language_info": {
      "codemirror_mode": {
        "name": "ipython",
        "version": 3
      },
      "file_extension": ".py",
      "mimetype": "text/x-python",
      "name": "python",
      "nbconvert_exporter": "python",
      "pygments_lexer": "ipython3",
      "version": "3.12.0"
    }
  },
  "nbformat": 4,
  "nbformat_minor": 0
}
