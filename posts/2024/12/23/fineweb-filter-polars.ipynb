{
  "cells": [
    {
      "cell_type": "markdown",
      "metadata": {},
      "source": [
        "---\n",
        "title: \"Filtering FineWeb2 using Polars\"\n",
        "description: \"Using Polars to filter the FineWeb2 dataset and other large Hugging Face datasets\"\n",
        "author: \"Daniel van Strien\"\n",
        "date: \"2024-12-30\"\n",
        "categories: [\"polars\", \"huggingface\"]\n",
        "image: https://huggingface.co/datasets/HuggingFaceFW/admin/resolve/main/fineweb-2-logo.png\n",
        "toc-depth: 3\n",
        "---"
      ]
    },
    {
      "cell_type": "markdown",
      "metadata": {},
      "source": [
        "Recently [FineWeb2](https://huggingface.co/datasets/HuggingFaceFW/fineweb-2) was released. FineWeb2 builds on the previous [FineWeb](https://huggingface.co/datasets/HuggingFaceFW/fineweb) dataset to add data for many languages. Building on this work we recently launched a community effort to build educational quality filters for many languages. See this [blog post](https://huggingface.co/blog/davanstrien/fineweb2-community) for more details. \n",
        "\n",
        "### Filtering the FineWeb2 dataset to improve educational quality and or filtering for a language\n",
        "\n",
        "One of the goals of the FineWeb-c project is to build educational quality filters for many languages. To do this the community has been annotating the data with educational quality scores. So far, the majority of the datasets for each language consist of a random sample of 1,000 examples from FineWeb2 for that lanugage. However, for some languages, the community has found that:\n",
        "- the language identification is not always correct\n",
        "- the educational quality is very low in the sample \n",
        "\n",
        "For these languages, we want to enable the community to create extra filters to either help with the language identification or to filter for educational quality. This blog post shows some ways in which you can use Polars to filter the FineWeb2 dataset to improve educational quality and or filtering for a language.\n"
      ]
    },
    {
      "cell_type": "markdown",
      "metadata": {},
      "source": [
        "First we'll install the necessary libraries. We'll use `polars` for the data manipulation and `huggingface_hub` to interact with the Hugging Face Hub. The `dask` library is another good option for working with large datasets.\n"
      ]
    },
    {
      "cell_type": "code",
      "execution_count": 3,
      "metadata": {
        "colab": {
          "base_uri": "https://localhost:8080/"
        },
        "id": "Cz46hsEpr0Ec",
        "outputId": "63d40d1b-b125-4d11-e2dc-f556126a71ac"
      },
      "outputs": [],
      "source": [
        "# %pip install polars huggingface_hub tld rich tqdm --upgrade"
      ]
    },
    {
      "cell_type": "code",
      "execution_count": 31,
      "metadata": {
        "id": "cew0D8iPR5qJ"
      },
      "outputs": [],
      "source": [
        "from huggingface_hub import list_repo_files, hf_hub_download\n",
        "import polars as pl\n",
        "from tld import get_tld\n",
        "from pathlib import Path\n",
        "from tqdm.auto import tqdm\n",
        "import os"
      ]
    },
    {
      "cell_type": "code",
      "execution_count": 32,
      "metadata": {},
      "outputs": [
        {
          "data": {
            "text/plain": [
              "polars.config.Config"
            ]
          },
          "execution_count": 32,
          "metadata": {},
          "output_type": "execute_result"
        }
      ],
      "source": [
        "# increase amount of data polars shows\n",
        "pl.Config.set_tbl_rows(100)"
      ]
    },
    {
      "cell_type": "markdown",
      "metadata": {},
      "source": [
        "Many large datasets on the Hub will be organised into different configurations. These configurations are often named after the language they are in. For example, the FineWeb dataset is organised into different languages. Many large datasets will either have structured folders or the names of files can be used to filter the dataset. Let's look at the FineWeb dataset. We can use the wonderful `huggingface_hub` library to list the files in a repository.\n"
      ]
    },
    {
      "cell_type": "code",
      "execution_count": 33,
      "metadata": {
        "colab": {
          "base_uri": "https://localhost:8080/"
        },
        "id": "QL0z7QFdtgkC",
        "outputId": "c890a004-c9c9-4968-8176-20456bfba91a"
      },
      "outputs": [
        {
          "data": {
            "text/plain": [
              "['.gitattributes',\n",
              " 'README.md',\n",
              " 'data/aai_Latn/test/000_00000.parquet',\n",
              " 'data/aai_Latn/train/000_00000.parquet',\n",
              " 'data/aai_Latn_removed/train/000_00000.parquet',\n",
              " 'data/aak_Latn/test/000_00000.parquet',\n",
              " 'data/aak_Latn/train/000_00000.parquet',\n",
              " 'data/aak_Latn_removed/train/000_00000.parquet',\n",
              " 'data/aau_Latn/test/000_00000.parquet',\n",
              " 'data/aau_Latn/train/000_00000.parquet']"
            ]
          },
          "execution_count": 33,
          "metadata": {},
          "output_type": "execute_result"
        }
      ],
      "source": [
        "paths = list_repo_files(\"HuggingFaceFW/fineweb-2\", repo_type=\"dataset\")\n",
        "paths[:10]"
      ]
    },
    {
      "cell_type": "markdown",
      "metadata": {},
      "source": [
        "You can see we have a hidden `.gitattributes` file and a README.md + a `data` directory containing parquet files organised into different subdirectories. Since these names are very clear we create a very simple filter to get the scots language files we're interested in. We'll look for `scots` in the file name and make sure it ends with `.parquet` and doesn't have `removed` in the file name since these are files that were removed in the FineWeb2 filtering process.\n"
      ]
    },
    {
      "cell_type": "code",
      "execution_count": 34,
      "metadata": {
        "colab": {
          "base_uri": "https://localhost:8080/"
        },
        "id": "w3BL3tLbGeJ-",
        "outputId": "8d379554-5a63-49cb-8925-f331f686bc04"
      },
      "outputs": [
        {
          "data": {
            "text/plain": [
              "['data/sco_Latn/test/000_00000.parquet',\n",
              " 'data/sco_Latn/train/000_00000.parquet']"
            ]
          },
          "execution_count": 34,
          "metadata": {},
          "output_type": "execute_result"
        }
      ],
      "source": [
        "scots = [\n",
        "    f for f in paths if (\"sco\" in f and f.endswith(\"parquet\") and \"removed\" not in f)\n",
        "]\n",
        "scots"
      ]
    },
    {
      "cell_type": "markdown",
      "metadata": {},
      "source": [
        "## Loading the data in Polars\n",
        "\n",
        "We can directly load the data from the Hugging Face Hub using the `hf://` protocol. In this case we'll just load the `train` file for the scots language. We'll use `read_parquet` to load the data for now but we'll see below a better way to load the data if you are working with large datasets.\n"
      ]
    },
    {
      "cell_type": "code",
      "execution_count": 35,
      "metadata": {
        "id": "iPNXrktqMVEc"
      },
      "outputs": [],
      "source": [
        "df = pl.read_parquet(f\"hf://datasets/HuggingFaceFW/fineweb-2/{scots[-1]}\")\n"
      ]
    },
    {
      "cell_type": "markdown",
      "metadata": {},
      "source": [
        "Let's take a look at the data. We can see we have a number of columns including the actual text but also some other metadata fields that could be useful for filtering."
      ]
    },
    {
      "cell_type": "code",
      "execution_count": 36,
      "metadata": {
        "colab": {
          "base_uri": "https://localhost:8080/",
          "height": 443
        },
        "id": "MUis6EOyMYnC",
        "outputId": "9eb35e28-268e-4577-832c-6bb3be50be0a"
      },
      "outputs": [
        {
          "data": {
            "text/html": [
              "<div><style>\n",
              ".dataframe > thead > tr,\n",
              ".dataframe > tbody > tr {\n",
              "  text-align: right;\n",
              "  white-space: pre-wrap;\n",
              "}\n",
              "</style>\n",
              "<small>shape: (5, 11)</small><table border=\"1\" class=\"dataframe\"><thead><tr><th>text</th><th>id</th><th>dump</th><th>url</th><th>date</th><th>file_path</th><th>language</th><th>language_score</th><th>language_script</th><th>minhash_cluster_size</th><th>top_langs</th></tr><tr><td>str</td><td>str</td><td>str</td><td>str</td><td>str</td><td>str</td><td>str</td><td>f64</td><td>str</td><td>i64</td><td>str</td></tr></thead><tbody><tr><td>&quot;2010 All Ford Mustangs Car Sho…</td><td>&quot;&lt;urn:uuid:06f10aff-f1da-4d33-b…</td><td>&quot;CC-MAIN-2013-20&quot;</td><td>&quot;http://www.allfordmustangs.com…</td><td>&quot;2013-05-23T16:34:05Z&quot;</td><td>&quot;s3://commoncrawl/crawl-data/CC…</td><td>&quot;sco&quot;</td><td>0.764794</td><td>&quot;Latn&quot;</td><td>1258</td><td>&quot;{&quot;sco_Latn_score&quot;: 0.764793634…</td></tr><tr><td>&quot;Interested in France?\n",
              "We&#x27;ll se…</td><td>&quot;&lt;urn:uuid:abc6bfe8-7af5-40b9-9…</td><td>&quot;CC-MAIN-2013-20&quot;</td><td>&quot;http://www.tripadvisor.com/All…</td><td>&quot;2013-05-23T16:36:10Z&quot;</td><td>&quot;s3://commoncrawl/crawl-data/CC…</td><td>&quot;sco&quot;</td><td>0.651096</td><td>&quot;Latn&quot;</td><td>12</td><td>&quot;{&quot;sco_Latn_score&quot;: 0.651095628…</td></tr><tr><td>&quot;Sherlock Holmes\n",
              "Sherlock Holme…</td><td>&quot;&lt;urn:uuid:11ceff04-f5f5-418c-8…</td><td>&quot;CC-MAIN-2014-10&quot;</td><td>&quot;http://sco.wikipedia.org/wiki/…</td><td>&quot;2014-03-08T05:12:30Z&quot;</td><td>&quot;s3://commoncrawl/crawl-data/CC…</td><td>&quot;sco&quot;</td><td>1.000008</td><td>&quot;Latn&quot;</td><td>58</td><td>&quot;{&quot;sco_Latn_score&quot;: 1.000008225…</td></tr><tr><td>&quot;Munster\n",
              "History[eedit | eedit …</td><td>&quot;&lt;urn:uuid:5fd5fa85-72b1-43d3-b…</td><td>&quot;CC-MAIN-2014-15&quot;</td><td>&quot;http://sco.wikipedia.org/wiki/…</td><td>&quot;2014-04-19T09:31:48Z&quot;</td><td>&quot;s3://commoncrawl/crawl-data/CC…</td><td>&quot;sco&quot;</td><td>1.00001</td><td>&quot;Latn&quot;</td><td>79</td><td>&quot;{&quot;sco_Latn_score&quot;: 1.000009536…</td></tr><tr><td>&quot;Snawbuirdin\n",
              "Frae Wikipedia\n",
              "Sna…</td><td>&quot;&lt;urn:uuid:72c97fcb-4820-4a52-b…</td><td>&quot;CC-MAIN-2014-15&quot;</td><td>&quot;http://sco.wikipedia.org/wiki/…</td><td>&quot;2014-04-19T09:31:00Z&quot;</td><td>&quot;s3://commoncrawl/crawl-data/CC…</td><td>&quot;sco&quot;</td><td>1.00001</td><td>&quot;Latn&quot;</td><td>66</td><td>&quot;{&quot;sco_Latn_score&quot;: 1.000010013…</td></tr></tbody></table></div>"
            ],
            "text/plain": [
              "shape: (5, 11)\n",
              "┌───────────┬───────────┬───────────┬───────────┬───┬───────────┬───────────┬───────────┬──────────┐\n",
              "│ text      ┆ id        ┆ dump      ┆ url       ┆ … ┆ language_ ┆ language_ ┆ minhash_c ┆ top_lang │\n",
              "│ ---       ┆ ---       ┆ ---       ┆ ---       ┆   ┆ score     ┆ script    ┆ luster_si ┆ s        │\n",
              "│ str       ┆ str       ┆ str       ┆ str       ┆   ┆ ---       ┆ ---       ┆ ze        ┆ ---      │\n",
              "│           ┆           ┆           ┆           ┆   ┆ f64       ┆ str       ┆ ---       ┆ str      │\n",
              "│           ┆           ┆           ┆           ┆   ┆           ┆           ┆ i64       ┆          │\n",
              "╞═══════════╪═══════════╪═══════════╪═══════════╪═══╪═══════════╪═══════════╪═══════════╪══════════╡\n",
              "│ 2010 All  ┆ <urn:uuid ┆ CC-MAIN-2 ┆ http://ww ┆ … ┆ 0.764794  ┆ Latn      ┆ 1258      ┆ {\"sco_La │\n",
              "│ Ford      ┆ :06f10aff ┆ 013-20    ┆ w.allford ┆   ┆           ┆           ┆           ┆ tn_score │\n",
              "│ Mustangs  ┆ -f1da-4d3 ┆           ┆ mustangs. ┆   ┆           ┆           ┆           ┆ \": 0.764 │\n",
              "│ Car Sho…  ┆ 3-b…      ┆           ┆ com…      ┆   ┆           ┆           ┆           ┆ 793634…  │\n",
              "│ Intereste ┆ <urn:uuid ┆ CC-MAIN-2 ┆ http://ww ┆ … ┆ 0.651096  ┆ Latn      ┆ 12        ┆ {\"sco_La │\n",
              "│ d in      ┆ :abc6bfe8 ┆ 013-20    ┆ w.tripadv ┆   ┆           ┆           ┆           ┆ tn_score │\n",
              "│ France?   ┆ -7af5-40b ┆           ┆ isor.com/ ┆   ┆           ┆           ┆           ┆ \": 0.651 │\n",
              "│ We'll se… ┆ 9-9…      ┆           ┆ All…      ┆   ┆           ┆           ┆           ┆ 095628…  │\n",
              "│ Sherlock  ┆ <urn:uuid ┆ CC-MAIN-2 ┆ http://sc ┆ … ┆ 1.000008  ┆ Latn      ┆ 58        ┆ {\"sco_La │\n",
              "│ Holmes    ┆ :11ceff04 ┆ 014-10    ┆ o.wikiped ┆   ┆           ┆           ┆           ┆ tn_score │\n",
              "│ Sherlock  ┆ -f5f5-418 ┆           ┆ ia.org/wi ┆   ┆           ┆           ┆           ┆ \": 1.000 │\n",
              "│ Holme…    ┆ c-8…      ┆           ┆ ki/…      ┆   ┆           ┆           ┆           ┆ 008225…  │\n",
              "│ Munster   ┆ <urn:uuid ┆ CC-MAIN-2 ┆ http://sc ┆ … ┆ 1.00001   ┆ Latn      ┆ 79        ┆ {\"sco_La │\n",
              "│ History[e ┆ :5fd5fa85 ┆ 014-15    ┆ o.wikiped ┆   ┆           ┆           ┆           ┆ tn_score │\n",
              "│ edit |    ┆ -72b1-43d ┆           ┆ ia.org/wi ┆   ┆           ┆           ┆           ┆ \": 1.000 │\n",
              "│ eedit …   ┆ 3-b…      ┆           ┆ ki/…      ┆   ┆           ┆           ┆           ┆ 009536…  │\n",
              "│ Snawbuird ┆ <urn:uuid ┆ CC-MAIN-2 ┆ http://sc ┆ … ┆ 1.00001   ┆ Latn      ┆ 66        ┆ {\"sco_La │\n",
              "│ in        ┆ :72c97fcb ┆ 014-15    ┆ o.wikiped ┆   ┆           ┆           ┆           ┆ tn_score │\n",
              "│ Frae      ┆ -4820-4a5 ┆           ┆ ia.org/wi ┆   ┆           ┆           ┆           ┆ \": 1.000 │\n",
              "│ Wikipedia ┆ 2-b…      ┆           ┆ ki/…      ┆   ┆           ┆           ┆           ┆ 010013…  │\n",
              "│ Sna…      ┆           ┆           ┆           ┆   ┆           ┆           ┆           ┆          │\n",
              "└───────────┴───────────┴───────────┴───────────┴───┴───────────┴───────────┴───────────┴──────────┘"
            ]
          },
          "execution_count": 36,
          "metadata": {},
          "output_type": "execute_result"
        }
      ],
      "source": [
        "df.head(5)"
      ]
    },
    {
      "cell_type": "markdown",
      "metadata": {},
      "source": [
        "We can do some simple EDA style analysis if we want. For example, we can look at the distribution of the language scores.\n"
      ]
    },
    {
      "cell_type": "code",
      "execution_count": 37,
      "metadata": {},
      "outputs": [
        {
          "data": {
            "text/html": [
              "<div><style>\n",
              ".dataframe > thead > tr,\n",
              ".dataframe > tbody > tr {\n",
              "  text-align: right;\n",
              "  white-space: pre-wrap;\n",
              "}\n",
              "</style>\n",
              "<small>shape: (9, 2)</small><table border=\"1\" class=\"dataframe\"><thead><tr><th>statistic</th><th>language_score</th></tr><tr><td>str</td><td>f64</td></tr></thead><tbody><tr><td>&quot;count&quot;</td><td>75821.0</td></tr><tr><td>&quot;null_count&quot;</td><td>0.0</td></tr><tr><td>&quot;mean&quot;</td><td>0.537262</td></tr><tr><td>&quot;std&quot;</td><td>0.214123</td></tr><tr><td>&quot;min&quot;</td><td>0.300002</td></tr><tr><td>&quot;25%&quot;</td><td>0.371339</td></tr><tr><td>&quot;50%&quot;</td><td>0.465798</td></tr><tr><td>&quot;75%&quot;</td><td>0.634602</td></tr><tr><td>&quot;max&quot;</td><td>1.00001</td></tr></tbody></table></div>"
            ],
            "text/plain": [
              "shape: (9, 2)\n",
              "┌────────────┬────────────────┐\n",
              "│ statistic  ┆ language_score │\n",
              "│ ---        ┆ ---            │\n",
              "│ str        ┆ f64            │\n",
              "╞════════════╪════════════════╡\n",
              "│ count      ┆ 75821.0        │\n",
              "│ null_count ┆ 0.0            │\n",
              "│ mean       ┆ 0.537262       │\n",
              "│ std        ┆ 0.214123       │\n",
              "│ min        ┆ 0.300002       │\n",
              "│ 25%        ┆ 0.371339       │\n",
              "│ 50%        ┆ 0.465798       │\n",
              "│ 75%        ┆ 0.634602       │\n",
              "│ max        ┆ 1.00001        │\n",
              "└────────────┴────────────────┘"
            ]
          },
          "execution_count": 37,
          "metadata": {},
          "output_type": "execute_result"
        }
      ],
      "source": [
        "df.select(pl.col(\"language_score\")).describe()"
      ]
    },
    {
      "cell_type": "markdown",
      "metadata": {},
      "source": [
        "Do a groupby year of dump and language score and plot a bar chart to see if there is a trend.\n"
      ]
    },
    {
      "cell_type": "code",
      "execution_count": 38,
      "metadata": {},
      "outputs": [
        {
          "data": {
            "text/html": [
              "\n",
              "<style>\n",
              "  #altair-viz-fe0da1ebeea8457488a525510d17e309.vega-embed {\n",
              "    width: 100%;\n",
              "    display: flex;\n",
              "  }\n",
              "\n",
              "  #altair-viz-fe0da1ebeea8457488a525510d17e309.vega-embed details,\n",
              "  #altair-viz-fe0da1ebeea8457488a525510d17e309.vega-embed details summary {\n",
              "    position: relative;\n",
              "  }\n",
              "</style>\n",
              "<div id=\"altair-viz-fe0da1ebeea8457488a525510d17e309\"></div>\n",
              "<script type=\"text/javascript\">\n",
              "  var VEGA_DEBUG = (typeof VEGA_DEBUG == \"undefined\") ? {} : VEGA_DEBUG;\n",
              "  (function(spec, embedOpt){\n",
              "    let outputDiv = document.currentScript.previousElementSibling;\n",
              "    if (outputDiv.id !== \"altair-viz-fe0da1ebeea8457488a525510d17e309\") {\n",
              "      outputDiv = document.getElementById(\"altair-viz-fe0da1ebeea8457488a525510d17e309\");\n",
              "    }\n",
              "\n",
              "    const paths = {\n",
              "      \"vega\": \"https://cdn.jsdelivr.net/npm/vega@5?noext\",\n",
              "      \"vega-lib\": \"https://cdn.jsdelivr.net/npm/vega-lib?noext\",\n",
              "      \"vega-lite\": \"https://cdn.jsdelivr.net/npm/vega-lite@5.20.1?noext\",\n",
              "      \"vega-embed\": \"https://cdn.jsdelivr.net/npm/vega-embed@6?noext\",\n",
              "    };\n",
              "\n",
              "    function maybeLoadScript(lib, version) {\n",
              "      var key = `${lib.replace(\"-\", \"\")}_version`;\n",
              "      return (VEGA_DEBUG[key] == version) ?\n",
              "        Promise.resolve(paths[lib]) :\n",
              "        new Promise(function(resolve, reject) {\n",
              "          var s = document.createElement('script');\n",
              "          document.getElementsByTagName(\"head\")[0].appendChild(s);\n",
              "          s.async = true;\n",
              "          s.onload = () => {\n",
              "            VEGA_DEBUG[key] = version;\n",
              "            return resolve(paths[lib]);\n",
              "          };\n",
              "          s.onerror = () => reject(`Error loading script: ${paths[lib]}`);\n",
              "          s.src = paths[lib];\n",
              "        });\n",
              "    }\n",
              "\n",
              "    function showError(err) {\n",
              "      outputDiv.innerHTML = `<div class=\"error\" style=\"color:red;\">${err}</div>`;\n",
              "      throw err;\n",
              "    }\n",
              "\n",
              "    function displayChart(vegaEmbed) {\n",
              "      vegaEmbed(outputDiv, spec, embedOpt)\n",
              "        .catch(err => showError(`Javascript Error: ${err.message}<br>This usually means there's a typo in your chart specification. See the javascript console for the full traceback.`));\n",
              "    }\n",
              "\n",
              "    if(typeof define === \"function\" && define.amd) {\n",
              "      requirejs.config({paths});\n",
              "      let deps = [\"vega-embed\"];\n",
              "      require(deps, displayChart, err => showError(`Error loading script: ${err.message}`));\n",
              "    } else {\n",
              "      maybeLoadScript(\"vega\", \"5\")\n",
              "        .then(() => maybeLoadScript(\"vega-lite\", \"5.20.1\"))\n",
              "        .then(() => maybeLoadScript(\"vega-embed\", \"6\"))\n",
              "        .catch(showError)\n",
              "        .then(() => displayChart(vegaEmbed));\n",
              "    }\n",
              "  })({\"config\": {\"view\": {\"continuousWidth\": 300, \"continuousHeight\": 300}}, \"data\": {\"name\": \"data-a2dac3cae28f3776a0afe23aa10e9d95\"}, \"mark\": {\"type\": \"bar\", \"tooltip\": true}, \"encoding\": {\"x\": {\"field\": \"year\", \"type\": \"nominal\"}, \"y\": {\"field\": \"language_score\", \"type\": \"quantitative\"}}, \"params\": [{\"name\": \"param_3\", \"select\": {\"type\": \"interval\", \"encodings\": [\"x\", \"y\"]}, \"bind\": \"scales\"}], \"$schema\": \"https://vega.github.io/schema/vega-lite/v5.20.1.json\", \"datasets\": {\"data-a2dac3cae28f3776a0afe23aa10e9d95\": [{\"year\": \"2024\", \"language_score\": 0.59630706703263}, {\"year\": \"2023\", \"language_score\": 0.5990225852939871}, {\"year\": \"2022\", \"language_score\": 0.556792496579454}, {\"year\": \"2021\", \"language_score\": 0.5684881852470515}, {\"year\": \"2020\", \"language_score\": 0.5589367822780985}, {\"year\": \"2019\", \"language_score\": 0.5021168049377785}, {\"year\": \"2018\", \"language_score\": 0.5071491739213441}, {\"year\": \"2017\", \"language_score\": 0.5866420439482936}, {\"year\": \"2016\", \"language_score\": 0.5692852422268722}, {\"year\": \"2015\", \"language_score\": 0.634930242881453}, {\"year\": \"2014\", \"language_score\": 0.7056941382838908}, {\"year\": \"2013\", \"language_score\": 0.6501463920454825}]}}, {\"mode\": \"vega-lite\"});\n",
              "</script>"
            ],
            "text/plain": [
              "alt.Chart(...)"
            ]
          },
          "execution_count": 38,
          "metadata": {},
          "output_type": "execute_result"
        }
      ],
      "source": [
        "df.with_columns(\n",
        "    pl.col(\"dump\").str.extract(r\"(\\d{4})\").cast(pl.Utf8).alias(\"year\")\n",
        ").group_by(\"year\").agg(pl.col(\"language_score\").mean()).sort(\n",
        "    \"year\", descending=True\n",
        ").plot.bar(x=\"year\", y=\"language_score\")\n"
      ]
    },
    {
      "cell_type": "markdown",
      "metadata": {},
      "source": [
        "## Heuristics for filtering for higher educational quality in FineWeb2 \n",
        "\n",
        "Whilst the authors of FineWeb2 aimed to do general quality filtering, there are often additional heuristics that can be used to filter for higher educational quality. For example, we can use the `tld` to filter for higher quality websites. We can also use the `url` to filter for higher quality websites. Many of these heuristics will require some domain knowledge for a particular language and the web ecosystem for tha language. \n",
        "\n",
        "The top level domain (tld) is a good heuristic for filtering for higher quality websites. The top level domain is the part of the url that is after the last dot. For example, the tld of `https://www.wikipedia.org/` is `org`. This often corresponds to a country or organization. For example, `ac.uk` is the UK's higher education domain. We can use this to filter for higher quality websites.\n"
      ]
    },
    {
      "cell_type": "markdown",
      "metadata": {},
      "source": [
        "We can do this by mapping the `url` column to the tld and then filtering for the tlds we're interested in. Let's add a new column with the tld and then filter for the tlds we're interested in."
      ]
    },
    {
      "cell_type": "code",
      "execution_count": 39,
      "metadata": {
        "id": "CEd7uy8iVYB0"
      },
      "outputs": [],
      "source": [
        "df = df.with_columns(\n",
        "    pl.col(\"url\").map_elements(lambda x: get_tld(x), return_dtype=pl.Utf8).alias(\"tld\")\n",
        ")"
      ]
    },
    {
      "cell_type": "code",
      "execution_count": 40,
      "metadata": {
        "colab": {
          "base_uri": "https://localhost:8080/",
          "height": 984
        },
        "id": "FkvC_ZjeVX9B",
        "outputId": "8e1242da-ca7e-4a88-ba62-f6b57080498c"
      },
      "outputs": [
        {
          "data": {
            "text/html": [
              "\n",
              "<style>\n",
              "  #altair-viz-95698fadffd0471baf22cc86326ce299.vega-embed {\n",
              "    width: 100%;\n",
              "    display: flex;\n",
              "  }\n",
              "\n",
              "  #altair-viz-95698fadffd0471baf22cc86326ce299.vega-embed details,\n",
              "  #altair-viz-95698fadffd0471baf22cc86326ce299.vega-embed details summary {\n",
              "    position: relative;\n",
              "  }\n",
              "</style>\n",
              "<div id=\"altair-viz-95698fadffd0471baf22cc86326ce299\"></div>\n",
              "<script type=\"text/javascript\">\n",
              "  var VEGA_DEBUG = (typeof VEGA_DEBUG == \"undefined\") ? {} : VEGA_DEBUG;\n",
              "  (function(spec, embedOpt){\n",
              "    let outputDiv = document.currentScript.previousElementSibling;\n",
              "    if (outputDiv.id !== \"altair-viz-95698fadffd0471baf22cc86326ce299\") {\n",
              "      outputDiv = document.getElementById(\"altair-viz-95698fadffd0471baf22cc86326ce299\");\n",
              "    }\n",
              "\n",
              "    const paths = {\n",
              "      \"vega\": \"https://cdn.jsdelivr.net/npm/vega@5?noext\",\n",
              "      \"vega-lib\": \"https://cdn.jsdelivr.net/npm/vega-lib?noext\",\n",
              "      \"vega-lite\": \"https://cdn.jsdelivr.net/npm/vega-lite@5.20.1?noext\",\n",
              "      \"vega-embed\": \"https://cdn.jsdelivr.net/npm/vega-embed@6?noext\",\n",
              "    };\n",
              "\n",
              "    function maybeLoadScript(lib, version) {\n",
              "      var key = `${lib.replace(\"-\", \"\")}_version`;\n",
              "      return (VEGA_DEBUG[key] == version) ?\n",
              "        Promise.resolve(paths[lib]) :\n",
              "        new Promise(function(resolve, reject) {\n",
              "          var s = document.createElement('script');\n",
              "          document.getElementsByTagName(\"head\")[0].appendChild(s);\n",
              "          s.async = true;\n",
              "          s.onload = () => {\n",
              "            VEGA_DEBUG[key] = version;\n",
              "            return resolve(paths[lib]);\n",
              "          };\n",
              "          s.onerror = () => reject(`Error loading script: ${paths[lib]}`);\n",
              "          s.src = paths[lib];\n",
              "        });\n",
              "    }\n",
              "\n",
              "    function showError(err) {\n",
              "      outputDiv.innerHTML = `<div class=\"error\" style=\"color:red;\">${err}</div>`;\n",
              "      throw err;\n",
              "    }\n",
              "\n",
              "    function displayChart(vegaEmbed) {\n",
              "      vegaEmbed(outputDiv, spec, embedOpt)\n",
              "        .catch(err => showError(`Javascript Error: ${err.message}<br>This usually means there's a typo in your chart specification. See the javascript console for the full traceback.`));\n",
              "    }\n",
              "\n",
              "    if(typeof define === \"function\" && define.amd) {\n",
              "      requirejs.config({paths});\n",
              "      let deps = [\"vega-embed\"];\n",
              "      require(deps, displayChart, err => showError(`Error loading script: ${err.message}`));\n",
              "    } else {\n",
              "      maybeLoadScript(\"vega\", \"5\")\n",
              "        .then(() => maybeLoadScript(\"vega-lite\", \"5.20.1\"))\n",
              "        .then(() => maybeLoadScript(\"vega-embed\", \"6\"))\n",
              "        .catch(showError)\n",
              "        .then(() => displayChart(vegaEmbed));\n",
              "    }\n",
              "  })({\"config\": {\"view\": {\"continuousWidth\": 300, \"continuousHeight\": 300}}, \"data\": {\"name\": \"data-ab15e82854278db245b37c0358920c89\"}, \"mark\": {\"type\": \"bar\", \"tooltip\": true}, \"encoding\": {\"x\": {\"field\": \"tld\", \"sort\": \"-y\", \"type\": \"nominal\"}, \"y\": {\"field\": \"count\", \"type\": \"quantitative\"}}, \"params\": [{\"name\": \"param_4\", \"select\": {\"type\": \"interval\", \"encodings\": [\"x\", \"y\"]}, \"bind\": \"scales\"}], \"$schema\": \"https://vega.github.io/schema/vega-lite/v5.20.1.json\", \"datasets\": {\"data-ab15e82854278db245b37c0358920c89\": [{\"tld\": \"com\", \"count\": 25240}, {\"tld\": \"info\", \"count\": 15820}, {\"tld\": \"org\", \"count\": 8806}, {\"tld\": \"us\", \"count\": 4655}, {\"tld\": \"me\", \"count\": 4114}, {\"tld\": \"net\", \"count\": 3416}, {\"tld\": \"co\", \"count\": 2258}, {\"tld\": \"ru\", \"count\": 2110}, {\"tld\": \"nl\", \"count\": 1247}, {\"tld\": \"site\", \"count\": 832}, {\"tld\": \"club\", \"count\": 807}, {\"tld\": \"co.uk\", \"count\": 659}, {\"tld\": \"blogspot.com\", \"count\": 561}, {\"tld\": \"de\", \"count\": 362}, {\"tld\": \"eu\", \"count\": 275}, {\"tld\": \"org.uk\", \"count\": 267}, {\"tld\": \"ac.uk\", \"count\": 255}, {\"tld\": \"mobi\", \"count\": 183}, {\"tld\": \"online\", \"count\": 182}, {\"tld\": \"fr\", \"count\": 141}]}}, {\"mode\": \"vega-lite\"});\n",
              "</script>"
            ],
            "text/plain": [
              "alt.Chart(...)"
            ]
          },
          "execution_count": 40,
          "metadata": {},
          "output_type": "execute_result"
        }
      ],
      "source": [
        "import altair as alt\n",
        "\n",
        "df.select(\"tld\").to_series().value_counts(sort=True).sort(\n",
        "    \"count\", descending=True\n",
        ").head(20).plot.bar(\n",
        "    x=alt.X(\"tld\", sort=\"-y\"),  # Sort x-axis based on y values in descending order\n",
        "    y=\"count\",\n",
        ")"
      ]
    },
    {
      "cell_type": "markdown",
      "metadata": {},
      "source": [
        "We may already have some knowledge or intuitions about the tlds that are more likely to be higher quality. For example `.us` is relatively high, this is likely partially due this domain being more present in the Web generally. We may also see some personal blogs using this domain. Let's take a look at a few examples. \n"
      ]
    },
    {
      "cell_type": "code",
      "execution_count": 41,
      "metadata": {},
      "outputs": [
        {
          "data": {
            "text/plain": [
              "['https://coremc.us/forno-microonde-incasso.html',\n",
              " 'https://www.awesomedownloadfilestoday.us/1141-haircut-places-near-my-location.html',\n",
              " 'https://www.awesomedownloadfilestoday.us/1376-haircut-near-my-location.html',\n",
              " 'https://www.awesomedownloadfilestoday.us/1857-short-haircuts-for-fine-straight-hair.html',\n",
              " 'https://www.awesomedownloadfilestoday.us/2081-twa-styles-4c-hair.html',\n",
              " 'http://winserver.us/mid-century-modern-front-door-colors/mid-century-modern-front-door-colors-mid-century-modern-front-doors-door-colors-handles-mi-mid-century-modern-front-door-colours/',\n",
              " 'https://www.awesomedownloadfilestoday.us/3450-hair-styles-for-thick-short-hair.html',\n",
              " 'https://notwttodaytes.us/casa-mezcal-mexican-grill-cantina.html',\n",
              " 'https://www.awesomedownloadfilestoday.us/1857-short-haircuts-for-fine-straight-hair.html',\n",
              " 'https://www.awesomedownloadfilestoday.us/1737-short-haircuts-for-curly-thick-hair.html',\n",
              " 'http://uggbootsclearanceoutlet.us/jaguar-xj-sport-2003-2003-jaguar-xj-car-for-sale-in.html',\n",
              " 'https://www.awesomedownloadfilestoday.us/5489-hair-colour-and-styles-for-short-hair.html',\n",
              " 'https://www.awesomedownloadfilestoday.us/6213-short-haircuts-for-thick-hair-pictures.html',\n",
              " 'https://www.awesomedownloadfilestoday.us/4993-short-haircuts-for-thick-curly-frizzy-hair.html',\n",
              " 'https://www.awesomedownloadfilestoday.us/1773-short-hair-styles-for-thick-wavy-hair.html',\n",
              " 'https://www.awesomedownloadfilestoday.us/6129-short-haircuts-for-very-fine-thin-hair.html',\n",
              " 'https://www.awesomedownloadfilestoday.us/1808-haircuts-for-straight-thin-hair.html',\n",
              " 'https://www.awesomedownloadfilestoday.us/4478-best-short-haircuts-for-thick-coarse-hair.html',\n",
              " 'https://www.awesomedownloadfilestoday.us/9513-short-haircuts-for-thin-hair.html',\n",
              " 'https://www.awesomedownloadfilestoday.us/3414-short-sassy-haircuts-for-thin-hair.html',\n",
              " 'https://www.awesomedownloadfilestoday.us/4630-very-short-haircuts-for-thin-hair.html',\n",
              " 'https://joesstuff.us/search.php?mfr=141',\n",
              " 'https://www.awesomedownloadfilestoday.us/3738-short-hair-styles-for-thick-curly-hair.html',\n",
              " 'https://layartancep.us/twa-hairstyles.html',\n",
              " 'https://www.awesomedownloadfilestoday.us/1101-best-haircuts-for-fine-thin-hair.html',\n",
              " 'https://www.awesomedownloadfilestoday.us/4963-short-haircut-for-fine-thin-hair.html',\n",
              " 'https://www.awesomedownloadfilestoday.us/4963-short-haircut-for-fine-thin-hair.html',\n",
              " 'https://www.awesomedownloadfilestoday.us/5010-haircuts-for-coarse-wavy-hair.html',\n",
              " 'https://www.awesomedownloadfilestoday.us/5201-best-short-haircuts-for-fine-thin-hair.html',\n",
              " 'https://www.awesomedownloadfilestoday.us/1911-haircut-for-round-face-and-thin-hair.html']"
            ]
          },
          "execution_count": 41,
          "metadata": {},
          "output_type": "execute_result"
        }
      ],
      "source": [
        "df.filter(pl.col(\"tld\").str.contains(\"us\")).sort(\n",
        "    \"language_score\", descending=True\n",
        ").select(\"url\").to_series().to_list()[:30]"
      ]
    },
    {
      "cell_type": "markdown",
      "metadata": {},
      "source": [
        "These don't look super promising! Some domains where we might expect higher quality text for scots are the `.sco` domain which is a domain for websites relating to Scotland. \n"
      ]
    },
    {
      "cell_type": "code",
      "execution_count": 42,
      "metadata": {
        "colab": {
          "base_uri": "https://localhost:8080/"
        },
        "id": "_3YGBRkiYQwC",
        "outputId": "9c11eb91-821e-4551-8a2e-ac376323ec90"
      },
      "outputs": [
        {
          "data": {
            "text/plain": [
              "['https://stormplay.scot/sco/aboot.html',\n",
              " 'https://www.makforrit.scot/2020/08/29/anent-the-scots-wikipedia-an-sundays-editathon/',\n",
              " 'https://www.makforrit.scot/2018/12/23/daein-it-yersel/',\n",
              " 'https://www.makforrit.scot/2019/09/22/uisin-oor-vyce-hou-we-can-gar-political-action-on-scots-inevitable/',\n",
              " 'https://www.makforrit.scot/2018/02/03/naewey-tae-bide/',\n",
              " 'https://www.makforrit.scot/',\n",
              " 'https://www.makforrit.scot/2018/01/27/than-an-nou-poverty-makkin-dae-an-leukin-out-for-ilk-ither/',\n",
              " 'https://www.makforrit.scot/',\n",
              " 'https://salvo.scot/the-scottis-constitutional-covin/',\n",
              " 'https://amylord.scot/gd/hello-welcome/',\n",
              " 'https://www.makforrit.scot/category/scotland/',\n",
              " 'https://projects.handsupfortrad.scot/scotslanguageawards/gies-a-scots-phrase-day-2021/',\n",
              " 'https://scoblog.stormplay.scot/t3ngist-is-gaunae-need-tae-be-delayed.html',\n",
              " 'https://www.makforrit.scot/2019/10/29/halloween/',\n",
              " 'https://www.makforrit.scot/category/history/',\n",
              " 'https://www.makforrit.scot/2018/11/19/three-days-in-october/',\n",
              " 'http://mindyerlanguage.scot/teachin',\n",
              " 'http://mindyerlanguage.scot/category/video',\n",
              " 'https://scoblog.stormplay.scot/rossies-3d-an-t3ngist-are-gaunae-be-delayed.html',\n",
              " 'https://www.gov.scot/publications/consultation-scots-government-commitments-tae-gaelic-scots-scots-langages-bill/pages/2/',\n",
              " 'https://projects.handsupfortrad.scot/scotslanguageawards/nominations-open-for-scots-language-awards-2020/',\n",
              " 'https://scoblog.stormplay.scot/were-gaunae-mak-big-chynges-tae-wir-main-wabsteid-an-a-cynge-o-hou-we-dae-things.html',\n",
              " 'https://newsnet.scot/archive/mono-or-stereo/',\n",
              " 'https://scoblog.stormplay.scot/happy-birthday-gamerstorm.html',\n",
              " 'http://mindyerlanguage.scot/aboot',\n",
              " 'https://www.makforrit.scot/category/opinion/',\n",
              " 'https://projects.handsupfortrad.scot/scotslanguageawards/gies-a-scots-phrase-day-2022/',\n",
              " 'https://newsnet.scot/archive/scots-railweys-scots-leids-an-scots-cairtes/',\n",
              " 'https://www.makforrit.scot/author/jamie/',\n",
              " 'https://stormplay.scot/games/pinkeye/sco/scotland.html']"
            ]
          },
          "execution_count": 42,
          "metadata": {},
          "output_type": "execute_result"
        }
      ],
      "source": [
        "df.filter(pl.col(\"tld\").str.contains(\"sco\")).sort(\n",
        "    \"language_score\", descending=True\n",
        ").select(\"url\").to_series().to_list()[:30]"
      ]
    },
    {
      "cell_type": "markdown",
      "metadata": {},
      "source": [
        "Even inside these URLs we can see some scots language so this is promising. \n",
        "\n",
        "One of the issues with some of the Scots data in FineWeb2 is that it is in the wrong language. One way we can try and get a sense of where better language data might be in FineWeb2 is to look at the tlds that have the highest language scores. We can do this by grouping by tld and then taking the mean of the language scores. We can then filter for the tlds that have more than 50 row to make sure we're considering the tlds that have a good amount of data.\n"
      ]
    },
    {
      "cell_type": "code",
      "execution_count": 43,
      "metadata": {
        "colab": {
          "base_uri": "https://localhost:8080/",
          "height": 463
        },
        "id": "FjI_AIZnjlhh",
        "outputId": "c417173b-1650-4a47-c685-da43499bd878"
      },
      "outputs": [
        {
          "data": {
            "text/html": [
              "<div><style>\n",
              ".dataframe > thead > tr,\n",
              ".dataframe > tbody > tr {\n",
              "  text-align: right;\n",
              "  white-space: pre-wrap;\n",
              "}\n",
              "</style>\n",
              "<small>shape: (41, 3)</small><table border=\"1\" class=\"dataframe\"><thead><tr><th>tld</th><th>count</th><th>language_score</th></tr><tr><td>str</td><td>u32</td><td>f64</td></tr></thead><tbody><tr><td>&quot;scot&quot;</td><td>102</td><td>0.998978</td></tr><tr><td>&quot;ac.uk&quot;</td><td>255</td><td>0.95732</td></tr><tr><td>&quot;org.uk&quot;</td><td>267</td><td>0.926128</td></tr><tr><td>&quot;org&quot;</td><td>8806</td><td>0.814764</td></tr><tr><td>&quot;co.uk&quot;</td><td>659</td><td>0.770529</td></tr><tr><td>&quot;blogspot.com&quot;</td><td>561</td><td>0.65765</td></tr><tr><td>&quot;top&quot;</td><td>85</td><td>0.581157</td></tr><tr><td>&quot;eu&quot;</td><td>275</td><td>0.558302</td></tr><tr><td>&quot;de&quot;</td><td>362</td><td>0.544635</td></tr><tr><td>&quot;club&quot;</td><td>807</td><td>0.543638</td></tr><tr><td>&quot;co&quot;</td><td>2258</td><td>0.530558</td></tr><tr><td>&quot;nl&quot;</td><td>1247</td><td>0.52335</td></tr><tr><td>&quot;ca&quot;</td><td>75</td><td>0.521135</td></tr><tr><td>&quot;com.co&quot;</td><td>54</td><td>0.520628</td></tr><tr><td>&quot;ie&quot;</td><td>52</td><td>0.514327</td></tr><tr><td>&quot;info&quot;</td><td>15820</td><td>0.506197</td></tr><tr><td>&quot;com.au&quot;</td><td>88</td><td>0.505842</td></tr><tr><td>&quot;com&quot;</td><td>25240</td><td>0.500029</td></tr><tr><td>&quot;me&quot;</td><td>4114</td><td>0.490317</td></tr><tr><td>&quot;online&quot;</td><td>182</td><td>0.489941</td></tr><tr><td>&quot;mobi&quot;</td><td>183</td><td>0.484193</td></tr><tr><td>&quot;pl&quot;</td><td>78</td><td>0.475017</td></tr><tr><td>&quot;net&quot;</td><td>3416</td><td>0.473797</td></tr><tr><td>&quot;es&quot;</td><td>56</td><td>0.466831</td></tr><tr><td>&quot;tk&quot;</td><td>53</td><td>0.461307</td></tr><tr><td>&quot;fr&quot;</td><td>141</td><td>0.461128</td></tr><tr><td>&quot;it&quot;</td><td>79</td><td>0.460331</td></tr><tr><td>&quot;site&quot;</td><td>832</td><td>0.456072</td></tr><tr><td>&quot;xyz&quot;</td><td>122</td><td>0.450356</td></tr><tr><td>&quot;co.za&quot;</td><td>66</td><td>0.450212</td></tr><tr><td>&quot;store&quot;</td><td>119</td><td>0.443785</td></tr><tr><td>&quot;in&quot;</td><td>135</td><td>0.439045</td></tr><tr><td>&quot;co.ke&quot;</td><td>135</td><td>0.433248</td></tr><tr><td>&quot;us&quot;</td><td>4655</td><td>0.43162</td></tr><tr><td>&quot;pro&quot;</td><td>131</td><td>0.431553</td></tr><tr><td>&quot;pages.dev&quot;</td><td>92</td><td>0.422582</td></tr><tr><td>&quot;ru&quot;</td><td>2110</td><td>0.416347</td></tr><tr><td>&quot;live&quot;</td><td>64</td><td>0.404111</td></tr><tr><td>&quot;edu&quot;</td><td>102</td><td>0.386884</td></tr><tr><td>&quot;website&quot;</td><td>54</td><td>0.371444</td></tr><tr><td>&quot;cn&quot;</td><td>97</td><td>0.366857</td></tr></tbody></table></div>"
            ],
            "text/plain": [
              "shape: (41, 3)\n",
              "┌──────────────┬───────┬────────────────┐\n",
              "│ tld          ┆ count ┆ language_score │\n",
              "│ ---          ┆ ---   ┆ ---            │\n",
              "│ str          ┆ u32   ┆ f64            │\n",
              "╞══════════════╪═══════╪════════════════╡\n",
              "│ scot         ┆ 102   ┆ 0.998978       │\n",
              "│ ac.uk        ┆ 255   ┆ 0.95732        │\n",
              "│ org.uk       ┆ 267   ┆ 0.926128       │\n",
              "│ org          ┆ 8806  ┆ 0.814764       │\n",
              "│ co.uk        ┆ 659   ┆ 0.770529       │\n",
              "│ blogspot.com ┆ 561   ┆ 0.65765        │\n",
              "│ top          ┆ 85    ┆ 0.581157       │\n",
              "│ eu           ┆ 275   ┆ 0.558302       │\n",
              "│ de           ┆ 362   ┆ 0.544635       │\n",
              "│ club         ┆ 807   ┆ 0.543638       │\n",
              "│ co           ┆ 2258  ┆ 0.530558       │\n",
              "│ nl           ┆ 1247  ┆ 0.52335        │\n",
              "│ ca           ┆ 75    ┆ 0.521135       │\n",
              "│ com.co       ┆ 54    ┆ 0.520628       │\n",
              "│ ie           ┆ 52    ┆ 0.514327       │\n",
              "│ info         ┆ 15820 ┆ 0.506197       │\n",
              "│ com.au       ┆ 88    ┆ 0.505842       │\n",
              "│ com          ┆ 25240 ┆ 0.500029       │\n",
              "│ me           ┆ 4114  ┆ 0.490317       │\n",
              "│ online       ┆ 182   ┆ 0.489941       │\n",
              "│ mobi         ┆ 183   ┆ 0.484193       │\n",
              "│ pl           ┆ 78    ┆ 0.475017       │\n",
              "│ net          ┆ 3416  ┆ 0.473797       │\n",
              "│ es           ┆ 56    ┆ 0.466831       │\n",
              "│ tk           ┆ 53    ┆ 0.461307       │\n",
              "│ fr           ┆ 141   ┆ 0.461128       │\n",
              "│ it           ┆ 79    ┆ 0.460331       │\n",
              "│ site         ┆ 832   ┆ 0.456072       │\n",
              "│ xyz          ┆ 122   ┆ 0.450356       │\n",
              "│ co.za        ┆ 66    ┆ 0.450212       │\n",
              "│ store        ┆ 119   ┆ 0.443785       │\n",
              "│ in           ┆ 135   ┆ 0.439045       │\n",
              "│ co.ke        ┆ 135   ┆ 0.433248       │\n",
              "│ us           ┆ 4655  ┆ 0.43162        │\n",
              "│ pro          ┆ 131   ┆ 0.431553       │\n",
              "│ pages.dev    ┆ 92    ┆ 0.422582       │\n",
              "│ ru           ┆ 2110  ┆ 0.416347       │\n",
              "│ live         ┆ 64    ┆ 0.404111       │\n",
              "│ edu          ┆ 102   ┆ 0.386884       │\n",
              "│ website      ┆ 54    ┆ 0.371444       │\n",
              "│ cn           ┆ 97    ┆ 0.366857       │\n",
              "└──────────────┴───────┴────────────────┘"
            ]
          },
          "execution_count": 43,
          "metadata": {},
          "output_type": "execute_result"
        }
      ],
      "source": [
        "(\n",
        "    df.group_by(\"tld\")\n",
        "    .agg(\n",
        "        [\n",
        "            pl.col(\"language_score\").count().alias(\"count\"),\n",
        "            pl.col(\"language_score\").mean().alias(\"language_score\"),\n",
        "        ]\n",
        "    )\n",
        "    .filter(pl.col(\"count\") > 50)  # Replace n with your desired minimum count\n",
        "    .sort(\"language_score\", descending=True)\n",
        ")"
      ]
    },
    {
      "cell_type": "markdown",
      "metadata": {},
      "source": [
        "We can see some other potentially promising tlds. For example, `ac.uk` is the UK's higher education domain. We can take a look at the urls that have this tld."
      ]
    },
    {
      "cell_type": "code",
      "execution_count": 44,
      "metadata": {
        "colab": {
          "base_uri": "https://localhost:8080/"
        },
        "id": "4Xv2HpXxj6hW",
        "outputId": "4a0d6c47-e4a1-4eac-fc36-a1fff3379437"
      },
      "outputs": [
        {
          "data": {
            "text/plain": [
              "['https://www.scottishcorpus.ac.uk/document/?documentid=1699',\n",
              " 'https://www.scottishcorpus.ac.uk/document/?documentid=1759',\n",
              " 'https://www.abdn.ac.uk/elphinstone/kist/search/display.php?sblk65.dat',\n",
              " 'https://www.abdn.ac.uk/elphinstone/kist/display/folk-history/357/',\n",
              " 'https://scotslanguagepolicy.ac.uk/warkshoaps/',\n",
              " 'https://scotslanguagepolicy.ac.uk/survey-final-weekend/',\n",
              " 'http://www.abdn.ac.uk/elphinstone/kist/search/display.php?fhrg01.dat',\n",
              " 'https://www.abdn.ac.uk/elphinstone/kist/display/761/',\n",
              " 'https://scotslanguagepolicy.glasgow.ac.uk/hae-yer-say/',\n",
              " 'http://www.abdn.ac.uk/elphinstone/kist/search/display.php?lwee66.dat',\n",
              " 'https://scotslanguagepolicy.ac.uk/jist-fir-burns-nicht/',\n",
              " 'https://scotslanguagepolicy.ac.uk/aboot/',\n",
              " 'https://www.scottishcorpus.ac.uk/document/?documentid=122',\n",
              " 'http://www.abdn.ac.uk/elphinstone/kist/search/display.php?bgre04.dat',\n",
              " 'http://www.abdn.ac.uk/elphinstone/kist/search/display.php?arob01.dat',\n",
              " 'https://www.scottishcorpus.ac.uk/document/?documentid=1713&highlight=athort',\n",
              " 'https://www.scottishcorpus.ac.uk/document/?documentid=1695&highlight=projeck',\n",
              " 'https://www.scottishcorpus.ac.uk/document/?documentid=1709&highlight=projeck',\n",
              " 'https://www.abdn.ac.uk/elphinstone/kist/display/work/938/',\n",
              " 'https://www.scottishcorpus.ac.uk/document/?documentid=1714',\n",
              " 'https://www.scottishcorpus.ac.uk/document/?documentid=1739',\n",
              " 'https://www.abdn.ac.uk/elphinstone/kist/display/work/341/',\n",
              " 'http://www.abdn.ac.uk/elphinstone/kist/search/display.php?acru01.dat',\n",
              " 'https://www.scottishcorpus.ac.uk/document/?documentid=1697&highlight=aroon',\n",
              " 'https://www.scottishcorpus.ac.uk/document/?documentid=1742&highlight=projeck',\n",
              " 'https://www.abdn.ac.uk/elphinstone/kist/search/display.php?kmac01.dat',\n",
              " 'https://www.scottishcorpus.ac.uk/document/?documentid=1704&highlight=projeck',\n",
              " 'https://scottishcorpus.ac.uk/document/?documentid=1710',\n",
              " 'https://www.scottishcorpus.ac.uk/document/?documentid=1725&highlight=direck',\n",
              " 'https://www.scottishcorpus.ac.uk/document/?documentid=1715&highlight=projeck']"
            ]
          },
          "execution_count": 44,
          "metadata": {},
          "output_type": "execute_result"
        }
      ],
      "source": [
        "df.filter(pl.col(\"tld\").str.contains(\"ac.uk\")).sort(\n",
        "    \"language_score\", descending=True\n",
        ").select(\"url\").to_series().to_list()[:30]"
      ]
    },
    {
      "cell_type": "markdown",
      "metadata": {},
      "source": [
        "In this case using some EDA and domain knowledge we can filter for the tlds which are likely to be:\n",
        "\n",
        "- in the scots language\n",
        "- higher quality educational websites\n",
        "\n",
        "We can reduce the FineWeb2 dataset to only include the rows that have these tlds.\n"
      ]
    },
    {
      "cell_type": "code",
      "execution_count": 45,
      "metadata": {
        "id": "gYrb7y20jlWU"
      },
      "outputs": [],
      "source": [
        "good_tlds = [\"sco\", \"ac.uk\", \"org.uk\", \"org\"]"
      ]
    },
    {
      "cell_type": "code",
      "execution_count": 46,
      "metadata": {},
      "outputs": [
        {
          "data": {
            "text/html": [
              "<div><style>\n",
              ".dataframe > thead > tr,\n",
              ".dataframe > tbody > tr {\n",
              "  text-align: right;\n",
              "  white-space: pre-wrap;\n",
              "}\n",
              "</style>\n",
              "<small>shape: (5, 12)</small><table border=\"1\" class=\"dataframe\"><thead><tr><th>text</th><th>id</th><th>dump</th><th>url</th><th>date</th><th>file_path</th><th>language</th><th>language_score</th><th>language_script</th><th>minhash_cluster_size</th><th>top_langs</th><th>tld</th></tr><tr><td>str</td><td>str</td><td>str</td><td>str</td><td>str</td><td>str</td><td>str</td><td>f64</td><td>str</td><td>i64</td><td>str</td><td>str</td></tr></thead><tbody><tr><td>&quot;Snawbuirdin\n",
              "Frae Wikipedia\n",
              "Sna…</td><td>&quot;&lt;urn:uuid:72c97fcb-4820-4a52-b…</td><td>&quot;CC-MAIN-2014-15&quot;</td><td>&quot;http://sco.wikipedia.org/wiki/…</td><td>&quot;2014-04-19T09:31:00Z&quot;</td><td>&quot;s3://commoncrawl/crawl-data/CC…</td><td>&quot;sco&quot;</td><td>1.00001</td><td>&quot;Latn&quot;</td><td>66</td><td>&quot;{&quot;sco_Latn_score&quot;: 1.000010013…</td><td>&quot;org&quot;</td></tr><tr><td>&quot;Banner o the Sahrawi Arab Demo…</td><td>&quot;&lt;urn:uuid:67052692-6020-4870-9…</td><td>&quot;CC-MAIN-2014-15&quot;</td><td>&quot;http://sco.wikipedia.org/wiki/…</td><td>&quot;2014-04-24T06:38:13Z&quot;</td><td>&quot;s3://commoncrawl/crawl-data/CC…</td><td>&quot;sco&quot;</td><td>1.00001</td><td>&quot;Latn&quot;</td><td>27</td><td>&quot;{&quot;sco_Latn_score&quot;: 1.000010013…</td><td>&quot;org&quot;</td></tr><tr><td>&quot;Potosí is a ceety an the caipi…</td><td>&quot;&lt;urn:uuid:e49b07bb-d7c9-4905-b…</td><td>&quot;CC-MAIN-2014-15&quot;</td><td>&quot;http://sco.wikipedia.org/wiki/…</td><td>&quot;2014-04-21T15:05:27Z&quot;</td><td>&quot;s3://commoncrawl/crawl-data/CC…</td><td>&quot;sco&quot;</td><td>1.00001</td><td>&quot;Latn&quot;</td><td>34</td><td>&quot;{&quot;sco_Latn_score&quot;: 1.000010013…</td><td>&quot;org&quot;</td></tr><tr><td>&quot;Port Moresby\n",
              "Port Moresby (Ing…</td><td>&quot;&lt;urn:uuid:bb6b995d-b3e8-4dcd-9…</td><td>&quot;CC-MAIN-2014-35&quot;</td><td>&quot;http://sco.wikipedia.org/wiki/…</td><td>&quot;2014-08-30T16:16:49Z&quot;</td><td>&quot;s3://commoncrawl/crawl-data/CC…</td><td>&quot;sco&quot;</td><td>1.00001</td><td>&quot;Latn&quot;</td><td>80</td><td>&quot;{&quot;sco_Latn_score&quot;: 1.000010013…</td><td>&quot;org&quot;</td></tr><tr><td>&quot;Seville\n",
              "Seville is a ceety in …</td><td>&quot;&lt;urn:uuid:cdcca31a-693e-463b-a…</td><td>&quot;CC-MAIN-2014-42&quot;</td><td>&quot;http://sco.wikipedia.org/wiki/…</td><td>&quot;2014-10-22T21:45:17Z&quot;</td><td>&quot;s3://commoncrawl/crawl-data/CC…</td><td>&quot;sco&quot;</td><td>1.00001</td><td>&quot;Latn&quot;</td><td>31</td><td>&quot;{&quot;sco_Latn_score&quot;: 1.000010013…</td><td>&quot;org&quot;</td></tr></tbody></table></div>"
            ],
            "text/plain": [
              "shape: (5, 12)\n",
              "┌────────────┬────────────┬────────────┬────────────┬───┬────────────┬───────────┬───────────┬─────┐\n",
              "│ text       ┆ id         ┆ dump       ┆ url        ┆ … ┆ language_s ┆ minhash_c ┆ top_langs ┆ tld │\n",
              "│ ---        ┆ ---        ┆ ---        ┆ ---        ┆   ┆ cript      ┆ luster_si ┆ ---       ┆ --- │\n",
              "│ str        ┆ str        ┆ str        ┆ str        ┆   ┆ ---        ┆ ze        ┆ str       ┆ str │\n",
              "│            ┆            ┆            ┆            ┆   ┆ str        ┆ ---       ┆           ┆     │\n",
              "│            ┆            ┆            ┆            ┆   ┆            ┆ i64       ┆           ┆     │\n",
              "╞════════════╪════════════╪════════════╪════════════╪═══╪════════════╪═══════════╪═══════════╪═════╡\n",
              "│ Snawbuirdi ┆ <urn:uuid: ┆ CC-MAIN-20 ┆ http://sco ┆ … ┆ Latn       ┆ 66        ┆ {\"sco_Lat ┆ org │\n",
              "│ n          ┆ 72c97fcb-4 ┆ 14-15      ┆ .wikipedia ┆   ┆            ┆           ┆ n_score\": ┆     │\n",
              "│ Frae       ┆ 820-4a52-b ┆            ┆ .org/wiki/ ┆   ┆            ┆           ┆ 1.0000100 ┆     │\n",
              "│ Wikipedia  ┆ …          ┆            ┆ …          ┆   ┆            ┆           ┆ 13…       ┆     │\n",
              "│ Sna…       ┆            ┆            ┆            ┆   ┆            ┆           ┆           ┆     │\n",
              "│ Banner o   ┆ <urn:uuid: ┆ CC-MAIN-20 ┆ http://sco ┆ … ┆ Latn       ┆ 27        ┆ {\"sco_Lat ┆ org │\n",
              "│ the        ┆ 67052692-6 ┆ 14-15      ┆ .wikipedia ┆   ┆            ┆           ┆ n_score\": ┆     │\n",
              "│ Sahrawi    ┆ 020-4870-9 ┆            ┆ .org/wiki/ ┆   ┆            ┆           ┆ 1.0000100 ┆     │\n",
              "│ Arab Demo… ┆ …          ┆            ┆ …          ┆   ┆            ┆           ┆ 13…       ┆     │\n",
              "│ Potosí is  ┆ <urn:uuid: ┆ CC-MAIN-20 ┆ http://sco ┆ … ┆ Latn       ┆ 34        ┆ {\"sco_Lat ┆ org │\n",
              "│ a ceety an ┆ e49b07bb-d ┆ 14-15      ┆ .wikipedia ┆   ┆            ┆           ┆ n_score\": ┆     │\n",
              "│ the caipi… ┆ 7c9-4905-b ┆            ┆ .org/wiki/ ┆   ┆            ┆           ┆ 1.0000100 ┆     │\n",
              "│            ┆ …          ┆            ┆ …          ┆   ┆            ┆           ┆ 13…       ┆     │\n",
              "│ Port       ┆ <urn:uuid: ┆ CC-MAIN-20 ┆ http://sco ┆ … ┆ Latn       ┆ 80        ┆ {\"sco_Lat ┆ org │\n",
              "│ Moresby    ┆ bb6b995d-b ┆ 14-35      ┆ .wikipedia ┆   ┆            ┆           ┆ n_score\": ┆     │\n",
              "│ Port       ┆ 3e8-4dcd-9 ┆            ┆ .org/wiki/ ┆   ┆            ┆           ┆ 1.0000100 ┆     │\n",
              "│ Moresby    ┆ …          ┆            ┆ …          ┆   ┆            ┆           ┆ 13…       ┆     │\n",
              "│ (Ing…      ┆            ┆            ┆            ┆   ┆            ┆           ┆           ┆     │\n",
              "│ Seville    ┆ <urn:uuid: ┆ CC-MAIN-20 ┆ http://sco ┆ … ┆ Latn       ┆ 31        ┆ {\"sco_Lat ┆ org │\n",
              "│ Seville is ┆ cdcca31a-6 ┆ 14-42      ┆ .wikipedia ┆   ┆            ┆           ┆ n_score\": ┆     │\n",
              "│ a ceety in ┆ 93e-463b-a ┆            ┆ .org/wiki/ ┆   ┆            ┆           ┆ 1.0000100 ┆     │\n",
              "│ …          ┆ …          ┆            ┆ …          ┆   ┆            ┆           ┆ 13…       ┆     │\n",
              "└────────────┴────────────┴────────────┴────────────┴───┴────────────┴───────────┴───────────┴─────┘"
            ]
          },
          "execution_count": 46,
          "metadata": {},
          "output_type": "execute_result"
        }
      ],
      "source": [
        "df.filter(pl.col(\"tld\").is_in(good_tlds)).sort(\"language_score\", descending=True).head(\n",
        "    5\n",
        ")"
      ]
    },
    {
      "cell_type": "code",
      "execution_count": 47,
      "metadata": {},
      "outputs": [],
      "source": [
        "filtered_df = df.filter(pl.col(\"tld\").is_in(good_tlds)).sort(\n",
        "    \"language_score\", descending=True\n",
        ")"
      ]
    },
    {
      "cell_type": "markdown",
      "metadata": {},
      "source": [
        "We can now save the filtered data to a new file. We'll save the ids of the rows that are in the filtered dataset to a file. These ids can then be used to upload additional filtered data to the Argilla dataset for the language we're working on."
      ]
    },
    {
      "cell_type": "code",
      "execution_count": 48,
      "metadata": {
        "id": "RfwgxRSZYQjT"
      },
      "outputs": [],
      "source": [
        "with open(\"good_ids\", \"w\") as f:\n",
        "    for id in filtered_df.select(\"id\").to_series().to_list():\n",
        "        f.write(f\"{id}\\n\")"
      ]
    },
    {
      "cell_type": "markdown",
      "metadata": {},
      "source": [
        "## Filtering other languages\n",
        "\n",
        "We can also use the same techniques to filter other languages. Some languages have a lot of data and so we can use the `scan_parquet` function to create a `LazyFrame` this will avoid loading all the data into memory. In addition, Polars will perform query optimizations on the `LazyFrame`. This will make the code we use for filtering more efficient without much work on our part.\n"
      ]
    },
    {
      "cell_type": "code",
      "execution_count": 49,
      "metadata": {},
      "outputs": [],
      "source": [
        "def get_paths_for_language(language: str):\n",
        "    return [\n",
        "        path\n",
        "        for path in list_repo_files(\"HuggingFaceFW/fineweb-2\", repo_type=\"dataset\")\n",
        "        if path.endswith(\"parquet\")\n",
        "        and \"removed\" not in path\n",
        "        and \"train\" in path\n",
        "        and language in path\n",
        "    ]\n"
      ]
    },
    {
      "cell_type": "markdown",
      "metadata": {},
      "source": [
        "## Filtering with a higher language score\n",
        "\n",
        "Some language in fineweb2 are not identified as the correct language. Language identification is still not a \"solved\" problem but we may be able to use a higher confidence filter to get a set of data that is more likely to be the correct language. We can then label this data for the educational quality of the text without having to remove as many examples as being in the incorrect language."
      ]
    },
    {
      "cell_type": "code",
      "execution_count": 50,
      "metadata": {},
      "outputs": [
        {
          "data": {
            "text/plain": [
              "['data/asm_Beng/train/000_00000.parquet',\n",
              " 'data/asm_Latn/train/000_00000.parquet']"
            ]
          },
          "execution_count": 50,
          "metadata": {},
          "output_type": "execute_result"
        }
      ],
      "source": [
        "paths = get_paths_for_language(\"asm\")\n",
        "paths"
      ]
    },
    {
      "cell_type": "markdown",
      "metadata": {},
      "source": [
        "Let's load the data for the Assamese language using only the `train` file.\n",
        "\n"
      ]
    },
    {
      "cell_type": "code",
      "execution_count": 51,
      "metadata": {},
      "outputs": [],
      "source": [
        "df = pl.read_parquet(f\"hf://datasets/HuggingFaceFW/fineweb-2/{paths[-1]}\")"
      ]
    },
    {
      "cell_type": "code",
      "execution_count": 52,
      "metadata": {},
      "outputs": [
        {
          "data": {
            "text/plain": [
              "(1104, 11)"
            ]
          },
          "execution_count": 52,
          "metadata": {},
          "output_type": "execute_result"
        }
      ],
      "source": [
        "df.shape"
      ]
    },
    {
      "cell_type": "markdown",
      "metadata": {},
      "source": [
        "We can use the `describe` function to get a sense of the distribution of the language scores.\n"
      ]
    },
    {
      "cell_type": "code",
      "execution_count": 53,
      "metadata": {},
      "outputs": [
        {
          "data": {
            "text/html": [
              "<div><style>\n",
              ".dataframe > thead > tr,\n",
              ".dataframe > tbody > tr {\n",
              "  text-align: right;\n",
              "  white-space: pre-wrap;\n",
              "}\n",
              "</style>\n",
              "<small>shape: (9, 2)</small><table border=\"1\" class=\"dataframe\"><thead><tr><th>statistic</th><th>language_score</th></tr><tr><td>str</td><td>f64</td></tr></thead><tbody><tr><td>&quot;count&quot;</td><td>1104.0</td></tr><tr><td>&quot;null_count&quot;</td><td>0.0</td></tr><tr><td>&quot;mean&quot;</td><td>0.829071</td></tr><tr><td>&quot;std&quot;</td><td>0.231866</td></tr><tr><td>&quot;min&quot;</td><td>0.303687</td></tr><tr><td>&quot;25%&quot;</td><td>0.660899</td></tr><tr><td>&quot;50%&quot;</td><td>0.970777</td></tr><tr><td>&quot;75%&quot;</td><td>0.995925</td></tr><tr><td>&quot;max&quot;</td><td>0.999965</td></tr></tbody></table></div>"
            ],
            "text/plain": [
              "shape: (9, 2)\n",
              "┌────────────┬────────────────┐\n",
              "│ statistic  ┆ language_score │\n",
              "│ ---        ┆ ---            │\n",
              "│ str        ┆ f64            │\n",
              "╞════════════╪════════════════╡\n",
              "│ count      ┆ 1104.0         │\n",
              "│ null_count ┆ 0.0            │\n",
              "│ mean       ┆ 0.829071       │\n",
              "│ std        ┆ 0.231866       │\n",
              "│ min        ┆ 0.303687       │\n",
              "│ 25%        ┆ 0.660899       │\n",
              "│ 50%        ┆ 0.970777       │\n",
              "│ 75%        ┆ 0.995925       │\n",
              "│ max        ┆ 0.999965       │\n",
              "└────────────┴────────────────┘"
            ]
          },
          "execution_count": 53,
          "metadata": {},
          "output_type": "execute_result"
        }
      ],
      "source": [
        "df.select(\"language_score\").describe()"
      ]
    },
    {
      "cell_type": "markdown",
      "metadata": {},
      "source": [
        "You can see that compared to some other languages the mean language score is quite low. We might be able to get a better subset of data by filtering for a higher language score. Let's take a look at some examples of the text that have a high language score. This can help give us a sense of what threshold might have less false positives.\n"
      ]
    },
    {
      "cell_type": "code",
      "execution_count": 33,
      "metadata": {},
      "outputs": [
        {
          "data": {
            "text/html": [
              "<pre style=\"white-space:pre;overflow-x:auto;line-height:normal;font-family:Menlo,'DejaVu Sans Mono',consolas,'Courier New',monospace\"><span style=\"font-weight: bold\">[</span>\n",
              "    <span style=\"color: #008000; text-decoration-color: #008000\">'eitu ajir pora 2 bosor agor kotha moi NIT r pora pass out hoisu just. Vaal job nopowa baabe moi keidinmaanor </span>\n",
              "<span style=\"color: #008000; text-decoration-color: #008000\">babe temporary hisape eta national company t humai asilu. Tate moi taniya k log palu , tai tate as aadvise r hisape</span>\n",
              "<span style=\"color: #008000; text-decoration-color: #008000\">humaise.Prothom dekhate taik kiba vaal lagi gol. Dekha t tai bor dhuniya, mihi gulopia gaal, dudu keita niomia </span>\n",
              "<span style=\"color: #008000; text-decoration-color: #008000\">akaror, khali olop sapor. jetiya tai r logot kotha pati thaku, tetiya moi issa koi pen tu tolot palai dio, aru tai </span>\n",
              "<span style=\"color: #008000; text-decoration-color: #008000\">jetiya pen tu uthaboloi hauli diye moi tair dudu keitar dorshon koru aru gharat jai tair kotha vabi pura haat </span>\n",
              "<span style=\"color: #008000; text-decoration-color: #008000\">maaru. Eitu mur kiba eta routine r dore hoi goisil .\\nEdin moi duporia duty t kaam koi vagor logat olop rest lobor </span>\n",
              "<span style=\"color: #008000; text-decoration-color: #008000\">babe kahote thoka rest roomot goi bohilu, ami praye kaam koi koi boar hole rest roomot goi olop hui ahi fresh hoi </span>\n",
              "<span style=\"color: #008000; text-decoration-color: #008000\">kamot lagi jau. Restroom mane eta medium size r room aru ekhon soki aru bisona. Hadharonote ejon rest koi thoka </span>\n",
              "<span style=\"color: #008000; text-decoration-color: #008000\">homoyot oin manuh restroomoloi nahe. Heidinau moi tenekoi ahi restroomor bisonat bagor dilu, hui thakute ketiya </span>\n",
              "<span style=\"color: #008000; text-decoration-color: #008000\">tuponi ahi gol gomei napalu. Hothate kiba eta gaat loga jen pai soku khul khale, dekhilu taniyai mur pantor uporote</span>\n",
              "<span style=\"color: #008000; text-decoration-color: #008000\">tika khon sui ase, tai gomei pua nasil moi har pua buli, lahe lahe tai haat khon mur jounangor uporot muharibo </span>\n",
              "<span style=\"color: #008000; text-decoration-color: #008000\">dhorile, tai pura habodhane moi jate haar napau tenekoi sui asil, mur bor moja lagil, vabilu aji hopun pura </span>\n",
              "<span style=\"color: #008000; text-decoration-color: #008000\">hobo.Moi suddenly huar pora uthi bohi golu, tai sok khai uthil aru lajot ronga poi gol, tai haat khon mur baridalor</span>\n",
              "<span style=\"color: #008000; text-decoration-color: #008000\">uporor pora putkoi atorai dile aru muk sorry sorry buli kobo dhorile. Moi kolu sorry kole ki hobo tumi mur tika aru</span>\n",
              "<span style=\"color: #008000; text-decoration-color: #008000\">lingo duita sula dekhun moiu tumar bostu bilaak soom.Tai sage bhobai nasil enekua situation ahi jabo pare buli , </span>\n",
              "<span style=\"color: #008000; text-decoration-color: #008000\">heye tai thor lagi mur pine saie thakil.Moi bisonat bohiye bhori duta bisonar pora nomai dilu aru dui hatere dhori </span>\n",
              "<span style=\"color: #008000; text-decoration-color: #008000\">taik mur usorot loi ahilu, tai kole ki koribo khujisa rubul. Moi kolu moi just badla lom tumi mur ji ji suisa moiu </span>\n",
              "<span style=\"color: #008000; text-decoration-color: #008000\">tumaar soom buli koi haat duta tair pithir pora nomai thoi dui tika r uporot tholu aru jure jure tika khon tipibo </span>\n",
              "<span style=\"color: #008000; text-decoration-color: #008000\">dhorilu, ki mast gand asil tair mur bari dall pantor vitorot ei for forai asil.Lahe lahe moi hat dukhonere tair </span>\n",
              "<span style=\"color: #008000; text-decoration-color: #008000\">tika r major angso tu anguli etare subo dhorilu aru anguli tu aru honmukhor fale koi diyat moi tair boos khon feel </span>\n",
              "<span style=\"color: #008000; text-decoration-color: #008000\">koibo dhoilu . Mor tair boos khon suar bohut mon hobo dhorile aru tair salwaror pant tu tolfale tanibo dhorilu </span>\n",
              "<span style=\"color: #008000; text-decoration-color: #008000\">kintu kokalot rosire gathi thua babe tolfale nahil. Moi eibaar tair kurta tu uporoloi uthai dilu aru tair salwaror </span>\n",
              "<span style=\"color: #008000; text-decoration-color: #008000\">rosi dal khuli dilu ,nije nije eibaar pant tu tololoi naami ahil. moi tair boga vorikhon sai aru thakibo nuarilu , </span>\n",
              "<span style=\"color: #008000; text-decoration-color: #008000\">bisonar pora nami tair thigh khonot pura suma khabo dhorilu, aru maje maje kamuribo dhorilu, laheke aru olop </span>\n",
              "<span style=\"color: #008000; text-decoration-color: #008000\">uporoloi juat tair heujiya rongor panty tu dekha palu , panty r uporote moi tair boos khonot suma khabo dhorilu, </span>\n",
              "<span style=\"color: #008000; text-decoration-color: #008000\">olop homoi teneke thokar pisot moi tair panty tu tolfale nomai dilu aru taniya r mukholoi salu , tai mur kando </span>\n",
              "<span style=\"color: #008000; text-decoration-color: #008000\">karkhana bilakor pora moja pai ase buli gam palu. Tair booskhon gulopia boosor uporor sulikhini shave kora kintu </span>\n",
              "<span style=\"color: #008000; text-decoration-color: #008000\">kahe kahe thoka suli khini thaki goisil. Bor moja gundho eta ahisil booskhonor pora, moi tairboos khon dui hatere </span>\n",
              "<span style=\"color: #008000; text-decoration-color: #008000\">meli dhori boosor uporor angso tu jivare subo dhorilu, tair gaat current loga r nisinake jopiai uthil , tair val </span>\n",
              "<span style=\"color: #008000; text-decoration-color: #008000\">loga buli gam pai moi aru jure jure boos khon supibo dhorilu, taik moi bisonar uporot uthai dilu, salwaror pant </span>\n",
              "<span style=\"color: #008000; text-decoration-color: #008000\">korobat poi rol , aru tair kurta tu petoloike uthai akou moi tair boos khonot mukh maribo dhorilu, jivare boos khon</span>\n",
              "<span style=\"color: #008000; text-decoration-color: #008000\">seleki seleki , right handor anguli eta tair pokoror futat humai dilu, ki masti lagisil kintu tai bohut dukh pale </span>\n",
              "<span style=\"color: #008000; text-decoration-color: #008000\">karone moi pokoror pora anguli tu ulai dibo loga hol.\\nEibaar moi mur pantu khuli bari dal ulai hatere sui sui </span>\n",
              "<span style=\"color: #008000; text-decoration-color: #008000\">boosot humuar babe ready koibo dhorilu. Moi tair kurta tu ekebare khuli dilu, aru boga bra tu tololoi tani dilu, </span>\n",
              "<span style=\"color: #008000; text-decoration-color: #008000\">tair dudu duta moi bhobatkoi olop horu, holeo moi dui hater pura tipibo dhorilu, aru nipple tu maje maje suhibo </span>\n",
              "<span style=\"color: #008000; text-decoration-color: #008000\">dhorilu. Hothate mur eta B.F t dekha pose monot poile aru moi tair bukut bohi lolu aru mur 7 inchi r bari daal tair</span>\n",
              "<span style=\"color: #008000; text-decoration-color: #008000\">dudu dutar majot rakhi dui hatere dudu keitare sepi dhorilu, dudu dutar majot ji olop thai baki rol heikonokei boos</span>\n",
              "<span style=\"color: #008000; text-decoration-color: #008000\">morar nisinake kokal maribo dhorilu , eibar aru olop uporoloi uthi bari daal taniya r mukhor vitorot humuai dilu, </span>\n",
              "<span style=\"color: #008000; text-decoration-color: #008000\">tai ready hua nasil jodiyo jur jobordosti humuai dilu mukhot, olop apsot tai adjust hol aru mur lund daal bor </span>\n",
              "<span style=\"color: #008000; text-decoration-color: #008000\">moromere ice cream khuar nisinake suhibo dhorile, tai mur guti duta eta hatere sui, eta hater bari dal muthi mari </span>\n",
              "<span style=\"color: #008000; text-decoration-color: #008000\">pura jure jure suhi asil.\\nMur ulabo hua jen logat tair mukhor pora bari daal ulialu aru eibaar tair boosor kahot </span>\n",
              "<span style=\"color: #008000; text-decoration-color: #008000\">goi boosot baari daal thoi thela marilu. kintu tair boos khon pura tight thoka babe moi bohut sesta koiu humaabo </span>\n",
              "<span style=\"color: #008000; text-decoration-color: #008000\">nuarilu, Tetiya mur monot poril uth fota babe maie muk vaseline r tema eta disil. ajihe vaseline tur asol upojug </span>\n",
              "<span style=\"color: #008000; text-decoration-color: #008000\">hobo buli moi poketor pora vaseline tema tu uliyai olop maan vaseline mur baari dalor agtut aru tair boosot hani </span>\n",
              "<span style=\"color: #008000; text-decoration-color: #008000\">dilu, eibar eke thelate fir firkoi baari daal humai gol, taar pasot aru kune pai pura tika dangi dangi taik sudibo </span>\n",
              "<span style=\"color: #008000; text-decoration-color: #008000\">dhorilu. Dui hater bike r handle dhorar dore tair dudu keita dhori taik sudilu. 45 min maan sudar pasot maalpani </span>\n",
              "<span style=\"color: #008000; text-decoration-color: #008000\">ulai gol, boosor vitorote uliai dilu, vabilu ji hoi hobo sala imaan controll koibo nuari. Olop homoy teneke hui </span>\n",
              "<span style=\"color: #008000; text-decoration-color: #008000\">thaki dui jone dress thik koi rest room r pora ulai duty korat lagilu.\\nEtiya ami prai hodayei restroomot sex koru,</span>\n",
              "<span style=\"color: #008000; text-decoration-color: #008000\">ami duijone rest room tur naam sex room thoisu. Taniya mur girlfriend nohol jodiyo, mur best friend hoi thakil, </span>\n",
              "<span style=\"color: #008000; text-decoration-color: #008000\">etiya ami prayei kotha patu aru phonote bea bea kotha pati thaku.'</span>,\n",
              "    <span style=\"color: #008000; text-decoration-color: #008000\">\"Front Page\\nHome\\nChat\\nEntertainment Page\\nAssamese Music\\nAssamese Lyrics\\nBest viewed @ 1024x768 </span>\n",
              "<span style=\"color: #008000; text-decoration-color: #008000\">resolution\\nXoixobote Dhemalite - Lyrics of Assamese Songs\\nSinger : Dr. Bhupen Hazarika\\nMusic Director : Dr. </span>\n",
              "<span style=\"color: #008000; text-decoration-color: #008000\">Bhupen Hazarika\\nLyricist : Dr. Bhupen Hazarika\\nXoixobote(Shoishobot) Dhemalite tumaare umola monot aase..\\nBohag </span>\n",
              "<span style=\"color: #008000; text-decoration-color: #008000\">maahor luit khonot duyu xaature monot aase\\nJowbonote duyure dehaar laajuki porox monot aase\\nMur abihone sip jori </span>\n",
              "<span style=\"color: #008000; text-decoration-color: #008000\">loba buli kuwa mur monot aase..\\nBohag maahor logote edin aahil bordoisila\\nXei dhumuhat kaarubar xote tumi dekhu </span>\n",
              "<span style=\"color: #008000; text-decoration-color: #008000\">gusi gola\\nMonor goraaki eri tumi Dhonor goraaki bolila\\nDhon Dhon buli dhonor premere swarup prakax korila\\nBohu </span>\n",
              "<span style=\"color: #008000; text-decoration-color: #008000\">din gol hothaate xidina tumak dekh monot aase..\\naatoror pora dekhilu tumar swarna gohona jilikise\\nTumar abihone </span>\n",
              "<span style=\"color: #008000; text-decoration-color: #008000\">sip jori lom buli tumi bhaabisa\\nBhul korisa xunjoni mur\\nAleek xapun dekhisa\\nJiyaai thaakim..\\nJiyaai thaaki </span>\n",
              "<span style=\"color: #008000; text-decoration-color: #008000\">ekhon xomaj gorhibor mur mon aase\\nJot xunot koiu manuhor damm olop holeu besi aase!!\\n*** 'X' stands for assamese </span>\n",
              "<span style=\"color: #008000; text-decoration-color: #008000\">phonetic letter whose pronounciation is in between 'H' and 'KH'.\\nYou can listen to this song in the\\nAssamese </span>\n",
              "<span style=\"color: #008000; text-decoration-color: #008000\">Songs Playlist\\nDiscuss, query and comments on Assamese songs and music in this\\nforum\\n.\\nCopyright © 2007-2008 </span>\n",
              "<span style=\"color: #008000; text-decoration-color: #008000\">onlinesivasagar.com(Abhijit Borah)\"</span>,\n",
              "    <span style=\"color: #008000; text-decoration-color: #008000\">'\\n\\n#1\\n\\n\\nAssamese Sex Stories\\nMOI ARU MAUSUMI (Assamese Sex Stories)\\nHi friends aitu mur first post, akha</span>\n",
              "<span style=\"color: #008000; text-decoration-color: #008000\">koru apunalukor val lagibo... mur nam Momi moi aji apunalukok mur nijor first sex\\nexperienceor bikhoya jonabo </span>\n",
              "<span style=\"color: #008000; text-decoration-color: #008000\">bisarisu. Moi akhon grils collegeot TDC\\n2nd year scienceot porhi asu. Ghorot khub strict babe muk porhat </span>\n",
              "<span style=\"color: #008000; text-decoration-color: #008000\">bhal\\nholeo muk bahirot porhibo jabo nidile. Ghorot muk okole kotu jabo\\nnidea, korbat gole maa nohole papa nohole </span>\n",
              "<span style=\"color: #008000; text-decoration-color: #008000\">dada logot jai, kintu mur\\nchildhood friend Mausumi,k amar ghorot khub trust kore babe tair logot\\nkorbat gole </span>\n",
              "<span style=\"color: #008000; text-decoration-color: #008000\">badha nidiya. Mausumi mur akai batchor kintu tai artsot\\nakai collegeot porha. ami duyu khub bhal friend, ami duyu </span>\n",
              "<span style=\"color: #008000; text-decoration-color: #008000\">hokolu kotha\\nshare koru, even tair boyfriendor logot kora romanceor bikhoye hokolu\\nkotha. Tair boyfriend notunke </span>\n",
              "<span style=\"color: #008000; text-decoration-color: #008000\">Bankot join korise, tar nam Pallab.mur\\nhihotor romanceor kotha huni khub bhal lage. Katiyaba bhabu muru </span>\n",
              "<span style=\"color: #008000; text-decoration-color: #008000\">jodi\\nkunuba boyfriend thakil haten moyu sage tair nisina romance koribo\\nparilu haten, kintu mur ja ulai juar </span>\n",
              "<span style=\"color: #008000; text-decoration-color: #008000\">chance nai. Mausumir kintu ghorot\\nkunu restriction nai tai bindas ghuribo pare. Tai bohudin amar\\nghororloi oha </span>\n",
              "<span style=\"color: #008000; text-decoration-color: #008000\">nasil haibabe adin collegot taik ghoroloi ahibo kolu\\n(actually tair romanceor kotha hunibole bor mon goisil). Tai </span>\n",
              "<span style=\"color: #008000; text-decoration-color: #008000\">ata\\nSunday ahibo buli kole. Mur montu bhal lagi gol, moi bor akhare Sunday\\nloi wait koribo dhorilu..\\nSunday </span>\n",
              "<span style=\"color: #008000; text-decoration-color: #008000\">hunkale uthi moi hokolu kam hekh kori tair babe wait koribo\\ndhorilu tair dari hua babe abar taik fon kori hunkale </span>\n",
              "<span style=\"color: #008000; text-decoration-color: #008000\">matilu, tai ahi\\nthoka buli kole aru thik 15 minitor pasot tai amar ghorot palehi, amar\\nghorot coffee khai </span>\n",
              "<span style=\"color: #008000; text-decoration-color: #008000\">hokolure logot kotha pati ami mur roomot humalu…\\nkisu homoi kotha potar pasot moi tair boyfriendor logot hua </span>\n",
              "<span style=\"color: #008000; text-decoration-color: #008000\">romanceor\\nkotha hudhilu.. tai koi jabo dhorile… hihotor first sex lifeor kotha….\\nLove huar pasot hihot priya </span>\n",
              "<span style=\"color: #008000; text-decoration-color: #008000\">outing jai jodeo hihotor majot sex hua\\nnasil… last month first weekor kotha hihote outing plan korisil.\\nPallabe </span>\n",
              "<span style=\"color: #008000; text-decoration-color: #008000\">taik collegor pora pickup kori lunchor babe resturentor\\ncabinot loi gol, waiterok lunch order kori pallabe bahiror</span>\n",
              "<span style=\"color: #008000; text-decoration-color: #008000\">pora\\nnadekhakoi cabinor porda tani dile, tar pasot hi tair usorot bohi tair\\nhatkhon nijor hatot loi kotha patibo </span>\n",
              "<span style=\"color: #008000; text-decoration-color: #008000\">dhorile… Pallabe tair hatkhon\\nmuhari taik koisil – tumak aji bor dhunia lagise mousumi….. tumak pai\\nmoi bohut </span>\n",
              "<span style=\"color: #008000; text-decoration-color: #008000\">lucky…. Moi tumak bohut bhal pao…. Aibuli pallabe tar akhon\\nhat tair galot moromera muharibo dhorile.. mausumie </span>\n",
              "<span style=\"color: #008000; text-decoration-color: #008000\">mathu tar kotha\\nhuni tak support kori asil…. Aibar hi mousumik kobo dhorile mousumi\\ntumar gal dukhon gulopia hoi </span>\n",
              "<span style=\"color: #008000; text-decoration-color: #008000\">goise, voi lagise niki ? voi koribo\\nnalage moi tumak bhal pao…. Mousumie kole … nai voi loga nai tumak\\nkiyo voi </span>\n",
              "<span style=\"color: #008000; text-decoration-color: #008000\">korim?... moiu tumak bahut val pao…. Pallabe kole… mausumi\\ntumar gulopia galkhonot ata kiss korile beya paba niki?</span>\n",
              "<span style=\"color: #008000; text-decoration-color: #008000\">Mousumia kole\\nnai kintu kunuba ahibo para… pallabe kole… kunu nahe, order ahibo dari\\nase…. Aibuli koi pallabe tar</span>\n",
              "<span style=\"color: #008000; text-decoration-color: #008000\">mukhon mousumir galot logai kiss koribo\\ndhorile.. mousumir tar hator touch pai aru tar moromor kiss pai\\nuttejona </span>\n",
              "<span style=\"color: #008000; text-decoration-color: #008000\">barhibo dhorile… taiu pallabok support kori tair duyukhon\\nhat tar chulit khamus mari dhori tair lips kait pallabor</span>\n",
              "<span style=\"color: #008000; text-decoration-color: #008000\">lipsor fale\\naag borhai dile… pallabe chance api tair lipsot kiss kori tair lips\\nduta chupibo dhorile… aidore kisu</span>\n",
              "<span style=\"color: #008000; text-decoration-color: #008000\">homoi kiss kori thakute hothat\\ncabinor doorot knock poril. Hunkale duyu easy hoi waitarok vitoroloi\\nahibo kole, </span>\n",
              "<span style=\"color: #008000; text-decoration-color: #008000\">waiter ahi lunch di gol.. waiter juar pasot aibar bipllobe\\ncabinor door khon bandh kori di tair usorot bohi loi </span>\n",
              "<span style=\"color: #008000; text-decoration-color: #008000\">taik haboti loi\\npunor lipsot koribo dhrile aru aibar olop aag barhi goi akhon hatare\\ntair boobs ata laheka </span>\n",
              "<span style=\"color: #008000; text-decoration-color: #008000\">kapuror uporote laheka muharibo dhorile mousumir\\nprotest korar sťance nasil.. tairu bhal lagi tak support </span>\n",
              "<span style=\"color: #008000; text-decoration-color: #008000\">koribo\\ndhorile… pallabe gom pale ja mousumie tar pora aru bisarise … aibar hi\\nakhon hat tair thaisot thoi </span>\n",
              "<span style=\"color: #008000; text-decoration-color: #008000\">mousumir laggingor uporedi laheka muharibo\\ndhorile…. Mousumi uttajonat aku kobo pora nasil mathu choku kaita </span>\n",
              "<span style=\"color: #008000; text-decoration-color: #008000\">mudi\\npleasure loi asil…. Pallabe chance pai tair dangor dangor thais kaita\\nmuhari muhari hat khon duyu thaisor </span>\n",
              "<span style=\"color: #008000; text-decoration-color: #008000\">major pussy area loi nibor babe\\nthais kaita fak koribo dhorile… mousumie kunu protest nokori vori\\nkaita fak kori </span>\n",
              "<span style=\"color: #008000; text-decoration-color: #008000\">dile… pallabe hubidha pai tar hatkhon tair pussy loi ni\\nkapuror uporote pussy muharibo dhorile…. Pussyt hat porar </span>\n",
              "<span style=\"color: #008000; text-decoration-color: #008000\">loge loge\\nmousumir mukhera aahhh… aaahhhh… ulai gol , tai uttajonat robo pora\\nnasil tai tak support kori tar </span>\n",
              "<span style=\"color: #008000; text-decoration-color: #008000\">hatkhon khamusi dhori aru jure pussy\\nhasi dile…. Pallabe tair condition buji tair kane kane kole mousumi\\nplease </span>\n",
              "<span style=\"color: #008000; text-decoration-color: #008000\">tumar legging tu khuli diyana… mousumie kole nai pallab ai\\nresturent amar babe safe nohoi… pallabe kole….. aku </span>\n",
              "<span style=\"color: #008000; text-decoration-color: #008000\">nohoi cabinor\\ndorja lock ase… kunu nahe .. aibuli koi hi mousumir legging or\\nelastic dalot anguli duta vorai </span>\n",
              "<span style=\"color: #008000; text-decoration-color: #008000\">legging tu knee level loika tani nomai\\ndile…. Mousumieu badha nidi tak legging tu toloi nomuat hohai kori\\ndile… </span>\n",
              "<span style=\"color: #008000; text-decoration-color: #008000\">tai ata off white color panty pindhi asil … tair panty tu dekhi\\nhi robo nuari tair pantyr uporote pussy khon </span>\n",
              "<span style=\"color: #008000; text-decoration-color: #008000\">khumusi dhori muharibo\\ndhorile… aidore kori abar pallabe tar hatkhon tair pantyr vitoroloi ni\\ntair pussy fakot </span>\n",
              "<span style=\"color: #008000; text-decoration-color: #008000\">ata anguli thoi lahekoi pussyr vitoroloi vorai de\\nangulitu ulua humua koribo dhorile… aidore korat mousumi robo </span>\n",
              "<span style=\"color: #008000; text-decoration-color: #008000\">nuari\\ntai pussyra pani uliai panty aru pallabor hat tiyai dile… aibar\\npallabe robo nuari mausumik kole … mousumi </span>\n",
              "<span style=\"color: #008000; text-decoration-color: #008000\">tumar pantytu khuli\\ndibaniki? Mausumie kole … etiya nalage eaat ami safe nohoi… balag adin\\nkorim.. pallab manti </span>\n",
              "<span style=\"color: #008000; text-decoration-color: #008000\">hoi kole… thik ase mousumi tumak aru alop basi\\nmorom koribo mon goise, please tumi olop uthi diyana tumak valke </span>\n",
              "<span style=\"color: #008000; text-decoration-color: #008000\">morom\\nkoru…. mausumia chairor pora uthi dile.. loge loge pallabe taik\\nhoabti dhori kiss kori kori akhon hatare </span>\n",
              "<span style=\"color: #008000; text-decoration-color: #008000\">tar pantor chain dal khuli\\ntar erect pains tu uliai mausumir hatot dhorai dile…. Aru mausumir\\nkanot kole… please </span>\n",
              "<span style=\"color: #008000; text-decoration-color: #008000\">mausomi tumar pussyt logai diyana…. Mousumie kole\\nnalage pallab please aibur nokoriba…. Pallabe kole … nohoi </span>\n",
              "<span style=\"color: #008000; text-decoration-color: #008000\">mousumi\\nnakoru nohoi tumar pantyr uporot pussyt logoi diya… Mausumie manti\\nhol… tar panes tu tair pantyr uporedi </span>\n",
              "<span style=\"color: #008000; text-decoration-color: #008000\">pussyt logai dile…. Pallabe tar\\npanes tu tair pussyt gohabo dhorile…. Aidore korat mausumi uttajonat\\npallabok </span>\n",
              "<span style=\"color: #008000; text-decoration-color: #008000\">haboti dhori tak support koribo dhorile aru 2nd time pani\\nulieai dele…. Aidore kisu homoi korat pallaboru spurm </span>\n",
              "<span style=\"color: #008000; text-decoration-color: #008000\">ulai gol aru\\nmousumir panty tar spurme tiay dile….. tar pasot duyu lunch kori ghuri\\nahil……..\\nAi story huni muru </span>\n",
              "<span style=\"color: #008000; text-decoration-color: #008000\">excitement barhi goisil aru……..\\nMausumie muk hudhile kua Momi storitu huni kanakua lagil…. Moi kolu …\\nval lagil …</span>\n",
              "<span style=\"color: #008000; text-decoration-color: #008000\">tai kole okol val lagil ne aru kiba hol …. moi kolu.. mur\\nexperience nai babe moi tumar feelings pabo pora nai…. </span>\n",
              "<span style=\"color: #008000; text-decoration-color: #008000\">mur jodi kunuba\\nboyfriend thakil haten moiu tumar dore enjoy kkoribo parilu haten….\\ntai kole thik ase tumar </span>\n",
              "<span style=\"color: #008000; text-decoration-color: #008000\">boyfriend nathkileo moi tumak real sex felling\\nkanekua dibo paru….. moi hudhilu kintu atiya kanakoi muk sex </span>\n",
              "<span style=\"color: #008000; text-decoration-color: #008000\">feelings\\ndiba… tai kole first tumi rumor door khon valka lock kora jate kunu\\nahibo nuare… moi kolu tumi chinta </span>\n",
              "<span style=\"color: #008000; text-decoration-color: #008000\">nokoriba door lock ase aru atiya\\nrumoloi kunu nahe… tai kole thik ase tumi bisonat mur logot boha aru\\nchoku kaita</span>\n",
              "<span style=\"color: #008000; text-decoration-color: #008000\">mudi diya aru feel kora ja moi tumar boyfriend… moi\\nbisonat tair usorot bohi choku kaita mudi dilu aru mind tu </span>\n",
              "<span style=\"color: #008000; text-decoration-color: #008000\">concentrate\\nkori bhabibo lolu ja mur boyfriend mur kakhot bohi ase… aibar tai muk\\nlahikoi kokalot hat thoi </span>\n",
              "<span style=\"color: #008000; text-decoration-color: #008000\">muharibo dhorile aru mur lipsot kiss koribo\\ndhorile… prothombar karubar kiss pai mur ata ojan feelings </span>\n",
              "<span style=\"color: #008000; text-decoration-color: #008000\">ahibo\\ndhorile aru moyu taik lips kiss koribo dhorilu… tai kiss kori kori\\ntair hatkhon lahekoi mur boobs kaita </span>\n",
              "<span style=\"color: #008000; text-decoration-color: #008000\">muharibo dhorile…. Boobsot tair\\nhat porar loge loge moi pagolor dore hobo dhorilu aru taik haboti\\ndhori kiss </span>\n",
              "<span style=\"color: #008000; text-decoration-color: #008000\">koribo dhorilu… aibar tai kurtistur vitoriloi hat vorai\\nbratu uporoloi dangi mur boobs kaita muharibo dhorile… mur</span>\n",
              "<span style=\"color: #008000; text-decoration-color: #008000\">excitement\\naru barhi gol… tai boobs kaita tapi tapi mur nipple kaita muhari diat\\nmoi uttajonat 1st time pussyre </span>\n",
              "<span style=\"color: #008000; text-decoration-color: #008000\">pani uleai dilu……. aibar tai toptu\\nboobsor uporoloika uthai tair mukhon boobsoloi ni nipple kaita suck\\nkoribo </span>\n",
              "<span style=\"color: #008000; text-decoration-color: #008000\">dhorile… moi uttajonat tair murot hat thoi murtu jurke chapi\\ndhorilu… aibar tai muk bisonat huai di boobs kaita </span>\n",
              "<span style=\"color: #008000; text-decoration-color: #008000\">suck kori tair\\nhatkhon mur Thaisor uporot thoi kapuror uporote muharibo dhorile…\\naidore kori tair hatkhon lahekoi</span>\n",
              "<span style=\"color: #008000; text-decoration-color: #008000\">mur kapuror uporote mur pussy\\nmuharibo dhorile aru angulire mur pussy fakot press dibo dhorile….\\nUttajonat moi </span>\n",
              "<span style=\"color: #008000; text-decoration-color: #008000\">dui vorire tair hatkhon chapa mari dhorilu… aibar tair\\nhatkhon mur salwar pantor rosidalot gol…. Laheka tai pantor</span>\n",
              "<span style=\"color: #008000; text-decoration-color: #008000\">rosidal\\nkhuli pantu tololoi nomabo dhorile…. Moi taik pantu khulat help kori\\ndilu.. pantu khuli tai mur vori </span>\n",
              "<span style=\"color: #008000; text-decoration-color: #008000\">kaita fak kori panty tur uporote\\nhatere muhari angulire pussy hole tu press kori muharibo dhorile…\\nhosakoi… </span>\n",
              "<span style=\"color: #008000; text-decoration-color: #008000\">jibonot eman hukh moi katiyau pua nasilu… aibar tai muk\\nbisonar pora uthibo kole … moi bisonar pora uthat tai mur </span>\n",
              "<span style=\"color: #008000; text-decoration-color: #008000\">toptu khuli\\nbra aru panty khuli muk naked kori dile…. Mousumiru sex fellings\\nhoisil.. muk naked kori tai nijor </span>\n",
              "<span style=\"color: #008000; text-decoration-color: #008000\">t-shirt tu muror uporere khuli loi\\nbra tur huk khuli bratu khuli palala tar pasot tai jeans tu khulibo\\ndhorile.. </span>\n",
              "<span style=\"color: #008000; text-decoration-color: #008000\">jeans tu khulat tai pindhi thoka light pink color panty tu\\nmur chokut poril.. tair panty tu titi asil.. aibar tai </span>\n",
              "<span style=\"color: #008000; text-decoration-color: #008000\">panty tu khuli\\npalai complete naked hoi gol…… tar pasot tai muk bisonat huai di mur\\nvori kaita fak kori mur </span>\n",
              "<span style=\"color: #008000; text-decoration-color: #008000\">pussyt tair mukhon ni mur pussy suck koribo\\ndhorile.. aibar uttajonat mur mukhere aahhhh… aahhhh…moaning </span>\n",
              "<span style=\"color: #008000; text-decoration-color: #008000\">ulabo\\ndhorile.. tai suck kori kori tair jivakhon mur pussy fakot vorai diat\\nmur uttajona barhi gol aru 2nd time </span>\n",
              "<span style=\"color: #008000; text-decoration-color: #008000\">pani ulai tair mukh tiaye dile…\\ntai aidore kisu homoi korar pasot muk kole … momi moi aibar tumak\\ncomplete </span>\n",
              "<span style=\"color: #008000; text-decoration-color: #008000\">satisfaction dim… tumar eat candle ase niki..? moi kolu\\ntableor drawerot ase tai draweror pora adal candal ani mur</span>\n",
              "<span style=\"color: #008000; text-decoration-color: #008000\">pussyt\\nlaheke logai press dibo dhorile… aru vitoriloi press koribo dhorile…\\nhosai mur ane lagisil jan kunuba </span>\n",
              "<span style=\"color: #008000; text-decoration-color: #008000\">loraya muk fuck korise… first tai\\nlahekoi candledal vitoroloi ni pasot jure ulua humua koribo dhorat moi\\nrobo </span>\n",
              "<span style=\"color: #008000; text-decoration-color: #008000\">nuari 3rd time… pani uleai dilu…… already tairu uttajona barhi\\ngoisil… aru tai robo nuari candle dal mur pussyr </span>\n",
              "<span style=\"color: #008000; text-decoration-color: #008000\">pora uleai tair nijor\\npussyt vorai in-out kori pani uleai dile… ami duyu bahut tired hoi\\ngoisilu, ami duyu bohu </span>\n",
              "<span style=\"color: #008000; text-decoration-color: #008000\">homoi naked hoi bisonat pori thokar pasot dress\\nkori lolu…..\\nAidore ji dhorone tai muk sex satisfaction dile… moi</span>\n",
              "<span style=\"color: #008000; text-decoration-color: #008000\">jibonot pahoribo\\nnuaru…..\\napunalukor hohari pale pasot aru potham..\\nLast edited by sourav002 : 8th June 2013 at </span>\n",
              "<span style=\"color: #008000; text-decoration-color: #008000\">02:15 PM.\\n|Thread Tools||Search this Thread|\\n\\n'</span>\n",
              "<span style=\"font-weight: bold\">]</span>\n",
              "</pre>\n"
            ],
            "text/plain": [
              "\u001b[1m[\u001b[0m\n",
              "    \u001b[32m'eitu ajir pora 2 bosor agor kotha moi NIT r pora pass out hoisu just. Vaal job nopowa baabe moi keidinmaanor \u001b[0m\n",
              "\u001b[32mbabe temporary hisape eta national company t humai asilu. Tate moi taniya k log palu , tai tate as aadvise r hisape\u001b[0m\n",
              "\u001b[32mhumaise.Prothom dekhate taik kiba vaal lagi gol. Dekha t tai bor dhuniya, mihi gulopia gaal, dudu keita niomia \u001b[0m\n",
              "\u001b[32makaror, khali olop sapor. jetiya tai r logot kotha pati thaku, tetiya moi issa koi pen tu tolot palai dio, aru tai \u001b[0m\n",
              "\u001b[32mjetiya pen tu uthaboloi hauli diye moi tair dudu keitar dorshon koru aru gharat jai tair kotha vabi pura haat \u001b[0m\n",
              "\u001b[32mmaaru. Eitu mur kiba eta routine r dore hoi goisil .\\nEdin moi duporia duty t kaam koi vagor logat olop rest lobor \u001b[0m\n",
              "\u001b[32mbabe kahote thoka rest roomot goi bohilu, ami praye kaam koi koi boar hole rest roomot goi olop hui ahi fresh hoi \u001b[0m\n",
              "\u001b[32mkamot lagi jau. Restroom mane eta medium size r room aru ekhon soki aru bisona. Hadharonote ejon rest koi thoka \u001b[0m\n",
              "\u001b[32mhomoyot oin manuh restroomoloi nahe. Heidinau moi tenekoi ahi restroomor bisonat bagor dilu, hui thakute ketiya \u001b[0m\n",
              "\u001b[32mtuponi ahi gol gomei napalu. Hothate kiba eta gaat loga jen pai soku khul khale, dekhilu taniyai mur pantor uporote\u001b[0m\n",
              "\u001b[32mtika khon sui ase, tai gomei pua nasil moi har pua buli, lahe lahe tai haat khon mur jounangor uporot muharibo \u001b[0m\n",
              "\u001b[32mdhorile, tai pura habodhane moi jate haar napau tenekoi sui asil, mur bor moja lagil, vabilu aji hopun pura \u001b[0m\n",
              "\u001b[32mhobo.Moi suddenly huar pora uthi bohi golu, tai sok khai uthil aru lajot ronga poi gol, tai haat khon mur baridalor\u001b[0m\n",
              "\u001b[32muporor pora putkoi atorai dile aru muk sorry sorry buli kobo dhorile. Moi kolu sorry kole ki hobo tumi mur tika aru\u001b[0m\n",
              "\u001b[32mlingo duita sula dekhun moiu tumar bostu bilaak soom.Tai sage bhobai nasil enekua situation ahi jabo pare buli , \u001b[0m\n",
              "\u001b[32mheye tai thor lagi mur pine saie thakil.Moi bisonat bohiye bhori duta bisonar pora nomai dilu aru dui hatere dhori \u001b[0m\n",
              "\u001b[32mtaik mur usorot loi ahilu, tai kole ki koribo khujisa rubul. Moi kolu moi just badla lom tumi mur ji ji suisa moiu \u001b[0m\n",
              "\u001b[32mtumaar soom buli koi haat duta tair pithir pora nomai thoi dui tika r uporot tholu aru jure jure tika khon tipibo \u001b[0m\n",
              "\u001b[32mdhorilu, ki mast gand asil tair mur bari dall pantor vitorot ei for forai asil.Lahe lahe moi hat dukhonere tair \u001b[0m\n",
              "\u001b[32mtika r major angso tu anguli etare subo dhorilu aru anguli tu aru honmukhor fale koi diyat moi tair boos khon feel \u001b[0m\n",
              "\u001b[32mkoibo dhoilu . Mor tair boos khon suar bohut mon hobo dhorile aru tair salwaror pant tu tolfale tanibo dhorilu \u001b[0m\n",
              "\u001b[32mkintu kokalot rosire gathi thua babe tolfale nahil. Moi eibaar tair kurta tu uporoloi uthai dilu aru tair salwaror \u001b[0m\n",
              "\u001b[32mrosi dal khuli dilu ,nije nije eibaar pant tu tololoi naami ahil. moi tair boga vorikhon sai aru thakibo nuarilu , \u001b[0m\n",
              "\u001b[32mbisonar pora nami tair thigh khonot pura suma khabo dhorilu, aru maje maje kamuribo dhorilu, laheke aru olop \u001b[0m\n",
              "\u001b[32muporoloi juat tair heujiya rongor panty tu dekha palu , panty r uporote moi tair boos khonot suma khabo dhorilu, \u001b[0m\n",
              "\u001b[32molop homoi teneke thokar pisot moi tair panty tu tolfale nomai dilu aru taniya r mukholoi salu , tai mur kando \u001b[0m\n",
              "\u001b[32mkarkhana bilakor pora moja pai ase buli gam palu. Tair booskhon gulopia boosor uporor sulikhini shave kora kintu \u001b[0m\n",
              "\u001b[32mkahe kahe thoka suli khini thaki goisil. Bor moja gundho eta ahisil booskhonor pora, moi tairboos khon dui hatere \u001b[0m\n",
              "\u001b[32mmeli dhori boosor uporor angso tu jivare subo dhorilu, tair gaat current loga r nisinake jopiai uthil , tair val \u001b[0m\n",
              "\u001b[32mloga buli gam pai moi aru jure jure boos khon supibo dhorilu, taik moi bisonar uporot uthai dilu, salwaror pant \u001b[0m\n",
              "\u001b[32mkorobat poi rol , aru tair kurta tu petoloike uthai akou moi tair boos khonot mukh maribo dhorilu, jivare boos khon\u001b[0m\n",
              "\u001b[32mseleki seleki , right handor anguli eta tair pokoror futat humai dilu, ki masti lagisil kintu tai bohut dukh pale \u001b[0m\n",
              "\u001b[32mkarone moi pokoror pora anguli tu ulai dibo loga hol.\\nEibaar moi mur pantu khuli bari dal ulai hatere sui sui \u001b[0m\n",
              "\u001b[32mboosot humuar babe ready koibo dhorilu. Moi tair kurta tu ekebare khuli dilu, aru boga bra tu tololoi tani dilu, \u001b[0m\n",
              "\u001b[32mtair dudu duta moi bhobatkoi olop horu, holeo moi dui hater pura tipibo dhorilu, aru nipple tu maje maje suhibo \u001b[0m\n",
              "\u001b[32mdhorilu. Hothate mur eta B.F t dekha pose monot poile aru moi tair bukut bohi lolu aru mur 7 inchi r bari daal tair\u001b[0m\n",
              "\u001b[32mdudu dutar majot rakhi dui hatere dudu keitare sepi dhorilu, dudu dutar majot ji olop thai baki rol heikonokei boos\u001b[0m\n",
              "\u001b[32mmorar nisinake kokal maribo dhorilu , eibar aru olop uporoloi uthi bari daal taniya r mukhor vitorot humuai dilu, \u001b[0m\n",
              "\u001b[32mtai ready hua nasil jodiyo jur jobordosti humuai dilu mukhot, olop apsot tai adjust hol aru mur lund daal bor \u001b[0m\n",
              "\u001b[32mmoromere ice cream khuar nisinake suhibo dhorile, tai mur guti duta eta hatere sui, eta hater bari dal muthi mari \u001b[0m\n",
              "\u001b[32mpura jure jure suhi asil.\\nMur ulabo hua jen logat tair mukhor pora bari daal ulialu aru eibaar tair boosor kahot \u001b[0m\n",
              "\u001b[32mgoi boosot baari daal thoi thela marilu. kintu tair boos khon pura tight thoka babe moi bohut sesta koiu humaabo \u001b[0m\n",
              "\u001b[32mnuarilu, Tetiya mur monot poril uth fota babe maie muk vaseline r tema eta disil. ajihe vaseline tur asol upojug \u001b[0m\n",
              "\u001b[32mhobo buli moi poketor pora vaseline tema tu uliyai olop maan vaseline mur baari dalor agtut aru tair boosot hani \u001b[0m\n",
              "\u001b[32mdilu, eibar eke thelate fir firkoi baari daal humai gol, taar pasot aru kune pai pura tika dangi dangi taik sudibo \u001b[0m\n",
              "\u001b[32mdhorilu. Dui hater bike r handle dhorar dore tair dudu keita dhori taik sudilu. 45 min maan sudar pasot maalpani \u001b[0m\n",
              "\u001b[32mulai gol, boosor vitorote uliai dilu, vabilu ji hoi hobo sala imaan controll koibo nuari. Olop homoy teneke hui \u001b[0m\n",
              "\u001b[32mthaki dui jone dress thik koi rest room r pora ulai duty korat lagilu.\\nEtiya ami prai hodayei restroomot sex koru,\u001b[0m\n",
              "\u001b[32mami duijone rest room tur naam sex room thoisu. Taniya mur girlfriend nohol jodiyo, mur best friend hoi thakil, \u001b[0m\n",
              "\u001b[32metiya ami prayei kotha patu aru phonote bea bea kotha pati thaku.'\u001b[0m,\n",
              "    \u001b[32m\"Front Page\\nHome\\nChat\\nEntertainment Page\\nAssamese Music\\nAssamese Lyrics\\nBest viewed @ 1024x768 \u001b[0m\n",
              "\u001b[32mresolution\\nXoixobote Dhemalite - Lyrics of Assamese Songs\\nSinger : Dr. Bhupen Hazarika\\nMusic Director : Dr. \u001b[0m\n",
              "\u001b[32mBhupen Hazarika\\nLyricist : Dr. Bhupen Hazarika\\nXoixobote\u001b[0m\u001b[32m(\u001b[0m\u001b[32mShoishobot\u001b[0m\u001b[32m)\u001b[0m\u001b[32m Dhemalite tumaare umola monot aase..\\nBohag \u001b[0m\n",
              "\u001b[32mmaahor luit khonot duyu xaature monot aase\\nJowbonote duyure dehaar laajuki porox monot aase\\nMur abihone sip jori \u001b[0m\n",
              "\u001b[32mloba buli kuwa mur monot aase..\\nBohag maahor logote edin aahil bordoisila\\nXei dhumuhat kaarubar xote tumi dekhu \u001b[0m\n",
              "\u001b[32mgusi gola\\nMonor goraaki eri tumi Dhonor goraaki bolila\\nDhon Dhon buli dhonor premere swarup prakax korila\\nBohu \u001b[0m\n",
              "\u001b[32mdin gol hothaate xidina tumak dekh monot aase..\\naatoror pora dekhilu tumar swarna gohona jilikise\\nTumar abihone \u001b[0m\n",
              "\u001b[32msip jori lom buli tumi bhaabisa\\nBhul korisa xunjoni mur\\nAleek xapun dekhisa\\nJiyaai thaakim..\\nJiyaai thaaki \u001b[0m\n",
              "\u001b[32mekhon xomaj gorhibor mur mon aase\\nJot xunot koiu manuhor damm olop holeu besi aase!!\\n*** 'X' stands for assamese \u001b[0m\n",
              "\u001b[32mphonetic letter whose pronounciation is in between 'H' and 'KH'.\\nYou can listen to this song in the\\nAssamese \u001b[0m\n",
              "\u001b[32mSongs Playlist\\nDiscuss, query and comments on Assamese songs and music in this\\nforum\\n.\\nCopyright © 2007-2008 \u001b[0m\n",
              "\u001b[32monlinesivasagar.com\u001b[0m\u001b[32m(\u001b[0m\u001b[32mAbhijit Borah\u001b[0m\u001b[32m)\u001b[0m\u001b[32m\"\u001b[0m,\n",
              "    \u001b[32m'\\n\\n#1\\n\\n\\nAssamese Sex Stories\\nMOI ARU MAUSUMI \u001b[0m\u001b[32m(\u001b[0m\u001b[32mAssamese Sex Stories\u001b[0m\u001b[32m)\u001b[0m\u001b[32m\\nHi friends aitu mur first post, akha\u001b[0m\n",
              "\u001b[32mkoru apunalukor val lagibo... mur nam Momi moi aji apunalukok mur nijor first sex\\nexperienceor bikhoya jonabo \u001b[0m\n",
              "\u001b[32mbisarisu. Moi akhon grils collegeot TDC\\n2nd year scienceot porhi asu. Ghorot khub strict babe muk porhat \u001b[0m\n",
              "\u001b[32mbhal\\nholeo muk bahirot porhibo jabo nidile. Ghorot muk okole kotu jabo\\nnidea, korbat gole maa nohole papa nohole \u001b[0m\n",
              "\u001b[32mdada logot jai, kintu mur\\nchildhood friend Mausumi,k amar ghorot khub trust kore babe tair logot\\nkorbat gole \u001b[0m\n",
              "\u001b[32mbadha nidiya. Mausumi mur akai batchor kintu tai artsot\\nakai collegeot porha. ami duyu khub bhal friend, ami duyu \u001b[0m\n",
              "\u001b[32mhokolu kotha\\nshare koru, even tair boyfriendor logot kora romanceor bikhoye hokolu\\nkotha. Tair boyfriend notunke \u001b[0m\n",
              "\u001b[32mBankot join korise, tar nam Pallab.mur\\nhihotor romanceor kotha huni khub bhal lage. Katiyaba bhabu muru \u001b[0m\n",
              "\u001b[32mjodi\\nkunuba boyfriend thakil haten moyu sage tair nisina romance koribo\\nparilu haten, kintu mur ja ulai juar \u001b[0m\n",
              "\u001b[32mchance nai. Mausumir kintu ghorot\\nkunu restriction nai tai bindas ghuribo pare. Tai bohudin amar\\nghororloi oha \u001b[0m\n",
              "\u001b[32mnasil haibabe adin collegot taik ghoroloi ahibo kolu\\n\u001b[0m\u001b[32m(\u001b[0m\u001b[32mactually tair romanceor kotha hunibole bor mon goisil\u001b[0m\u001b[32m)\u001b[0m\u001b[32m. Tai \u001b[0m\n",
              "\u001b[32mata\\nSunday ahibo buli kole. Mur montu bhal lagi gol, moi bor akhare Sunday\\nloi wait koribo dhorilu..\\nSunday \u001b[0m\n",
              "\u001b[32mhunkale uthi moi hokolu kam hekh kori tair babe wait koribo\\ndhorilu tair dari hua babe abar taik fon kori hunkale \u001b[0m\n",
              "\u001b[32mmatilu, tai ahi\\nthoka buli kole aru thik 15 minitor pasot tai amar ghorot palehi, amar\\nghorot coffee khai \u001b[0m\n",
              "\u001b[32mhokolure logot kotha pati ami mur roomot humalu…\\nkisu homoi kotha potar pasot moi tair boyfriendor logot hua \u001b[0m\n",
              "\u001b[32mromanceor\\nkotha hudhilu.. tai koi jabo dhorile… hihotor first sex lifeor kotha….\\nLove huar pasot hihot priya \u001b[0m\n",
              "\u001b[32mouting jai jodeo hihotor majot sex hua\\nnasil… last month first weekor kotha hihote outing plan korisil.\\nPallabe \u001b[0m\n",
              "\u001b[32mtaik collegor pora pickup kori lunchor babe resturentor\\ncabinot loi gol, waiterok lunch order kori pallabe bahiror\u001b[0m\n",
              "\u001b[32mpora\\nnadekhakoi cabinor porda tani dile, tar pasot hi tair usorot bohi tair\\nhatkhon nijor hatot loi kotha patibo \u001b[0m\n",
              "\u001b[32mdhorile… Pallabe tair hatkhon\\nmuhari taik koisil – tumak aji bor dhunia lagise mousumi….. tumak pai\\nmoi bohut \u001b[0m\n",
              "\u001b[32mlucky…. Moi tumak bohut bhal pao…. Aibuli pallabe tar akhon\\nhat tair galot moromera muharibo dhorile.. mausumie \u001b[0m\n",
              "\u001b[32mmathu tar kotha\\nhuni tak support kori asil…. Aibar hi mousumik kobo dhorile mousumi\\ntumar gal dukhon gulopia hoi \u001b[0m\n",
              "\u001b[32mgoise, voi lagise niki ? voi koribo\\nnalage moi tumak bhal pao…. Mousumie kole … nai voi loga nai tumak\\nkiyo voi \u001b[0m\n",
              "\u001b[32mkorim?... moiu tumak bahut val pao…. Pallabe kole… mausumi\\ntumar gulopia galkhonot ata kiss korile beya paba niki?\u001b[0m\n",
              "\u001b[32mMousumia kole\\nnai kintu kunuba ahibo para… pallabe kole… kunu nahe, order ahibo dari\\nase…. Aibuli koi pallabe tar\u001b[0m\n",
              "\u001b[32mmukhon mousumir galot logai kiss koribo\\ndhorile.. mousumir tar hator touch pai aru tar moromor kiss pai\\nuttejona \u001b[0m\n",
              "\u001b[32mbarhibo dhorile… taiu pallabok support kori tair duyukhon\\nhat tar chulit khamus mari dhori tair lips kait pallabor\u001b[0m\n",
              "\u001b[32mlipsor fale\\naag borhai dile… pallabe chance api tair lipsot kiss kori tair lips\\nduta chupibo dhorile… aidore kisu\u001b[0m\n",
              "\u001b[32mhomoi kiss kori thakute hothat\\ncabinor doorot knock poril. Hunkale duyu easy hoi waitarok vitoroloi\\nahibo kole, \u001b[0m\n",
              "\u001b[32mwaiter ahi lunch di gol.. waiter juar pasot aibar bipllobe\\ncabinor door khon bandh kori di tair usorot bohi loi \u001b[0m\n",
              "\u001b[32mtaik haboti loi\\npunor lipsot koribo dhrile aru aibar olop aag barhi goi akhon hatare\\ntair boobs ata laheka \u001b[0m\n",
              "\u001b[32mkapuror uporote laheka muharibo dhorile mousumir\\nprotest korar sťance nasil.. tairu bhal lagi tak support \u001b[0m\n",
              "\u001b[32mkoribo\\ndhorile… pallabe gom pale ja mousumie tar pora aru bisarise … aibar hi\\nakhon hat tair thaisot thoi \u001b[0m\n",
              "\u001b[32mmousumir laggingor uporedi laheka muharibo\\ndhorile…. Mousumi uttajonat aku kobo pora nasil mathu choku kaita \u001b[0m\n",
              "\u001b[32mmudi\\npleasure loi asil…. Pallabe chance pai tair dangor dangor thais kaita\\nmuhari muhari hat khon duyu thaisor \u001b[0m\n",
              "\u001b[32mmajor pussy area loi nibor babe\\nthais kaita fak koribo dhorile… mousumie kunu protest nokori vori\\nkaita fak kori \u001b[0m\n",
              "\u001b[32mdile… pallabe hubidha pai tar hatkhon tair pussy loi ni\\nkapuror uporote pussy muharibo dhorile…. Pussyt hat porar \u001b[0m\n",
              "\u001b[32mloge loge\\nmousumir mukhera aahhh… aaahhhh… ulai gol , tai uttajonat robo pora\\nnasil tai tak support kori tar \u001b[0m\n",
              "\u001b[32mhatkhon khamusi dhori aru jure pussy\\nhasi dile…. Pallabe tair condition buji tair kane kane kole mousumi\\nplease \u001b[0m\n",
              "\u001b[32mtumar legging tu khuli diyana… mousumie kole nai pallab ai\\nresturent amar babe safe nohoi… pallabe kole….. aku \u001b[0m\n",
              "\u001b[32mnohoi cabinor\\ndorja lock ase… kunu nahe .. aibuli koi hi mousumir legging or\\nelastic dalot anguli duta vorai \u001b[0m\n",
              "\u001b[32mlegging tu knee level loika tani nomai\\ndile…. Mousumieu badha nidi tak legging tu toloi nomuat hohai kori\\ndile… \u001b[0m\n",
              "\u001b[32mtai ata off white color panty pindhi asil … tair panty tu dekhi\\nhi robo nuari tair pantyr uporote pussy khon \u001b[0m\n",
              "\u001b[32mkhumusi dhori muharibo\\ndhorile… aidore kori abar pallabe tar hatkhon tair pantyr vitoroloi ni\\ntair pussy fakot \u001b[0m\n",
              "\u001b[32mata anguli thoi lahekoi pussyr vitoroloi vorai de\\nangulitu ulua humua koribo dhorile… aidore korat mousumi robo \u001b[0m\n",
              "\u001b[32mnuari\\ntai pussyra pani uliai panty aru pallabor hat tiyai dile… aibar\\npallabe robo nuari mausumik kole … mousumi \u001b[0m\n",
              "\u001b[32mtumar pantytu khuli\\ndibaniki? Mausumie kole … etiya nalage eaat ami safe nohoi… balag adin\\nkorim.. pallab manti \u001b[0m\n",
              "\u001b[32mhoi kole… thik ase mousumi tumak aru alop basi\\nmorom koribo mon goise, please tumi olop uthi diyana tumak valke \u001b[0m\n",
              "\u001b[32mmorom\\nkoru…. mausumia chairor pora uthi dile.. loge loge pallabe taik\\nhoabti dhori kiss kori kori akhon hatare \u001b[0m\n",
              "\u001b[32mtar pantor chain dal khuli\\ntar erect pains tu uliai mausumir hatot dhorai dile…. Aru mausumir\\nkanot kole… please \u001b[0m\n",
              "\u001b[32mmausomi tumar pussyt logai diyana…. Mousumie kole\\nnalage pallab please aibur nokoriba…. Pallabe kole … nohoi \u001b[0m\n",
              "\u001b[32mmousumi\\nnakoru nohoi tumar pantyr uporot pussyt logoi diya… Mausumie manti\\nhol… tar panes tu tair pantyr uporedi \u001b[0m\n",
              "\u001b[32mpussyt logai dile…. Pallabe tar\\npanes tu tair pussyt gohabo dhorile…. Aidore korat mausumi uttajonat\\npallabok \u001b[0m\n",
              "\u001b[32mhaboti dhori tak support koribo dhorile aru 2nd time pani\\nulieai dele…. Aidore kisu homoi korat pallaboru spurm \u001b[0m\n",
              "\u001b[32mulai gol aru\\nmousumir panty tar spurme tiay dile….. tar pasot duyu lunch kori ghuri\\nahil……..\\nAi story huni muru \u001b[0m\n",
              "\u001b[32mexcitement barhi goisil aru……..\\nMausumie muk hudhile kua Momi storitu huni kanakua lagil…. Moi kolu …\\nval lagil …\u001b[0m\n",
              "\u001b[32mtai kole okol val lagil ne aru kiba hol …. moi kolu.. mur\\nexperience nai babe moi tumar feelings pabo pora nai…. \u001b[0m\n",
              "\u001b[32mmur jodi kunuba\\nboyfriend thakil haten moiu tumar dore enjoy kkoribo parilu haten….\\ntai kole thik ase tumar \u001b[0m\n",
              "\u001b[32mboyfriend nathkileo moi tumak real sex felling\\nkanekua dibo paru….. moi hudhilu kintu atiya kanakoi muk sex \u001b[0m\n",
              "\u001b[32mfeelings\\ndiba… tai kole first tumi rumor door khon valka lock kora jate kunu\\nahibo nuare… moi kolu tumi chinta \u001b[0m\n",
              "\u001b[32mnokoriba door lock ase aru atiya\\nrumoloi kunu nahe… tai kole thik ase tumi bisonat mur logot boha aru\\nchoku kaita\u001b[0m\n",
              "\u001b[32mmudi diya aru feel kora ja moi tumar boyfriend… moi\\nbisonat tair usorot bohi choku kaita mudi dilu aru mind tu \u001b[0m\n",
              "\u001b[32mconcentrate\\nkori bhabibo lolu ja mur boyfriend mur kakhot bohi ase… aibar tai muk\\nlahikoi kokalot hat thoi \u001b[0m\n",
              "\u001b[32mmuharibo dhorile aru mur lipsot kiss koribo\\ndhorile… prothombar karubar kiss pai mur ata ojan feelings \u001b[0m\n",
              "\u001b[32mahibo\\ndhorile aru moyu taik lips kiss koribo dhorilu… tai kiss kori kori\\ntair hatkhon lahekoi mur boobs kaita \u001b[0m\n",
              "\u001b[32mmuharibo dhorile…. Boobsot tair\\nhat porar loge loge moi pagolor dore hobo dhorilu aru taik haboti\\ndhori kiss \u001b[0m\n",
              "\u001b[32mkoribo dhorilu… aibar tai kurtistur vitoriloi hat vorai\\nbratu uporoloi dangi mur boobs kaita muharibo dhorile… mur\u001b[0m\n",
              "\u001b[32mexcitement\\naru barhi gol… tai boobs kaita tapi tapi mur nipple kaita muhari diat\\nmoi uttajonat 1st time pussyre \u001b[0m\n",
              "\u001b[32mpani uleai dilu……. aibar tai toptu\\nboobsor uporoloika uthai tair mukhon boobsoloi ni nipple kaita suck\\nkoribo \u001b[0m\n",
              "\u001b[32mdhorile… moi uttajonat tair murot hat thoi murtu jurke chapi\\ndhorilu… aibar tai muk bisonat huai di boobs kaita \u001b[0m\n",
              "\u001b[32msuck kori tair\\nhatkhon mur Thaisor uporot thoi kapuror uporote muharibo dhorile…\\naidore kori tair hatkhon lahekoi\u001b[0m\n",
              "\u001b[32mmur kapuror uporote mur pussy\\nmuharibo dhorile aru angulire mur pussy fakot press dibo dhorile….\\nUttajonat moi \u001b[0m\n",
              "\u001b[32mdui vorire tair hatkhon chapa mari dhorilu… aibar tair\\nhatkhon mur salwar pantor rosidalot gol…. Laheka tai pantor\u001b[0m\n",
              "\u001b[32mrosidal\\nkhuli pantu tololoi nomabo dhorile…. Moi taik pantu khulat help kori\\ndilu.. pantu khuli tai mur vori \u001b[0m\n",
              "\u001b[32mkaita fak kori panty tur uporote\\nhatere muhari angulire pussy hole tu press kori muharibo dhorile…\\nhosakoi… \u001b[0m\n",
              "\u001b[32mjibonot eman hukh moi katiyau pua nasilu… aibar tai muk\\nbisonar pora uthibo kole … moi bisonar pora uthat tai mur \u001b[0m\n",
              "\u001b[32mtoptu khuli\\nbra aru panty khuli muk naked kori dile…. Mousumiru sex fellings\\nhoisil.. muk naked kori tai nijor \u001b[0m\n",
              "\u001b[32mt-shirt tu muror uporere khuli loi\\nbra tur huk khuli bratu khuli palala tar pasot tai jeans tu khulibo\\ndhorile.. \u001b[0m\n",
              "\u001b[32mjeans tu khulat tai pindhi thoka light pink color panty tu\\nmur chokut poril.. tair panty tu titi asil.. aibar tai \u001b[0m\n",
              "\u001b[32mpanty tu khuli\\npalai complete naked hoi gol…… tar pasot tai muk bisonat huai di mur\\nvori kaita fak kori mur \u001b[0m\n",
              "\u001b[32mpussyt tair mukhon ni mur pussy suck koribo\\ndhorile.. aibar uttajonat mur mukhere aahhhh… aahhhh…moaning \u001b[0m\n",
              "\u001b[32mulabo\\ndhorile.. tai suck kori kori tair jivakhon mur pussy fakot vorai diat\\nmur uttajona barhi gol aru 2nd time \u001b[0m\n",
              "\u001b[32mpani ulai tair mukh tiaye dile…\\ntai aidore kisu homoi korar pasot muk kole … momi moi aibar tumak\\ncomplete \u001b[0m\n",
              "\u001b[32msatisfaction dim… tumar eat candle ase niki..? moi kolu\\ntableor drawerot ase tai draweror pora adal candal ani mur\u001b[0m\n",
              "\u001b[32mpussyt\\nlaheke logai press dibo dhorile… aru vitoriloi press koribo dhorile…\\nhosai mur ane lagisil jan kunuba \u001b[0m\n",
              "\u001b[32mloraya muk fuck korise… first tai\\nlahekoi candledal vitoroloi ni pasot jure ulua humua koribo dhorat moi\\nrobo \u001b[0m\n",
              "\u001b[32mnuari 3rd time… pani uleai dilu…… already tairu uttajona barhi\\ngoisil… aru tai robo nuari candle dal mur pussyr \u001b[0m\n",
              "\u001b[32mpora uleai tair nijor\\npussyt vorai in-out kori pani uleai dile… ami duyu bahut tired hoi\\ngoisilu, ami duyu bohu \u001b[0m\n",
              "\u001b[32mhomoi naked hoi bisonat pori thokar pasot dress\\nkori lolu…..\\nAidore ji dhorone tai muk sex satisfaction dile… moi\u001b[0m\n",
              "\u001b[32mjibonot pahoribo\\nnuaru…..\\napunalukor hohari pale pasot aru potham..\\nLast edited by sourav002 : 8th June 2013 at \u001b[0m\n",
              "\u001b[32m02:15 PM.\\n|Thread Tools||Search this Thread|\\n\\n'\u001b[0m\n",
              "\u001b[1m]\u001b[0m\n"
            ]
          },
          "metadata": {},
          "output_type": "display_data"
        }
      ],
      "source": [
        "from rich import print as rprint\n",
        "\n",
        "examples_to_show = 3\n",
        "\n",
        "rprint(\n",
        "    df.filter(pl.col(\"language_score\") > 0.9)\n",
        "    .head(examples_to_show)\n",
        "    .select(\"text\")\n",
        "    .to_series()\n",
        "    .to_list()\n",
        ")\n"
      ]
    },
    {
      "cell_type": "markdown",
      "metadata": {},
      "source": [
        "If we find a better language score we can filter for this. For example, we can filter for the language score to be greater than 0.95.\n",
        "\n"
      ]
    },
    {
      "cell_type": "code",
      "execution_count": 35,
      "metadata": {},
      "outputs": [
        {
          "data": {
            "text/plain": [
              "(697, 11)"
            ]
          },
          "execution_count": 35,
          "metadata": {},
          "output_type": "execute_result"
        }
      ],
      "source": [
        "df_filtered = df.filter(pl.col(\"language_score\") > 0.95)\n"
      ]
    },
    {
      "cell_type": "code",
      "execution_count": 36,
      "metadata": {},
      "outputs": [],
      "source": [
        "with open(\"good_ids\", \"w\") as f:\n",
        "    for id in df_filtered.select(\"id\").to_series().to_list():\n",
        "        f.write(f\"{id}\\n\")\n"
      ]
    },
    {
      "cell_type": "markdown",
      "metadata": {},
      "source": [
        "## Filtering bigger languages\n",
        "\n",
        "Some languages have a lot of data and so we can use the `scan_parquet` function to create a `LazyFrame`. Let's see how we can do this for the Japanese language."
      ]
    },
    {
      "cell_type": "code",
      "execution_count": 54,
      "metadata": {},
      "outputs": [
        {
          "data": {
            "text/plain": [
              "148"
            ]
          },
          "execution_count": 54,
          "metadata": {},
          "output_type": "execute_result"
        }
      ],
      "source": [
        "paths = get_paths_for_language(\"jpn\")\n",
        "len(paths)"
      ]
    },
    {
      "cell_type": "markdown",
      "metadata": {},
      "source": [
        "You can see here we have many more files. If you have a lot of memory, you could use the standard `read_parquet` function. However, if you don't have a lot of memory, you could use the `scan_parquet` function. This will read the data in chunks and is more memory efficient. Even with this we might want to start with a subset of the data to experiment with and then work with the full dataset once we're confident in our filtering.\n"
      ]
    },
    {
      "cell_type": "code",
      "execution_count": 38,
      "metadata": {},
      "outputs": [],
      "source": [
        "import random\n",
        "\n",
        "random.seed(42)\n",
        "\n",
        "sample_paths = random.choices(paths, k=2)"
      ]
    },
    {
      "cell_type": "code",
      "execution_count": 39,
      "metadata": {},
      "outputs": [
        {
          "name": "stderr",
          "output_type": "stream",
          "text": [
            "  0%|          | 0/2 [00:00<?, ?it/s]"
          ]
        },
        {
          "name": "stderr",
          "output_type": "stream",
          "text": [
            "100%|██████████| 2/2 [00:00<00:00,  5.87it/s]\n"
          ]
        }
      ],
      "source": [
        "os.environ[\"HF_HUB_ENABLE_HF_TRANSFER\"] = \"1\"\n",
        "\n",
        "Path(\"temp_data\").mkdir(exist_ok=True)\n",
        "\n",
        "for path in tqdm(sample_paths):\n",
        "    hf_hub_download(\n",
        "        repo_id=\"HuggingFaceFW/fineweb-2\",\n",
        "        repo_type=\"dataset\",\n",
        "        filename=path,\n",
        "        local_dir=\"temp_data\",\n",
        "    )\n"
      ]
    },
    {
      "cell_type": "code",
      "execution_count": 26,
      "metadata": {},
      "outputs": [
        {
          "data": {
            "text/html": [
              "<div><style>\n",
              ".dataframe > thead > tr,\n",
              ".dataframe > tbody > tr {\n",
              "  text-align: right;\n",
              "  white-space: pre-wrap;\n",
              "}\n",
              "</style>\n",
              "<small>shape: (5, 11)</small><table border=\"1\" class=\"dataframe\"><thead><tr><th>text</th><th>id</th><th>dump</th><th>url</th><th>date</th><th>file_path</th><th>language</th><th>language_score</th><th>language_script</th><th>minhash_cluster_size</th><th>top_langs</th></tr><tr><td>str</td><td>str</td><td>str</td><td>str</td><td>str</td><td>str</td><td>str</td><td>f64</td><td>str</td><td>i64</td><td>str</td></tr></thead><tbody><tr><td>&quot;欲しかった車を探せるサイト\n",
              "独身時代は、ただ乗れればいいと思…</td><td>&quot;&lt;urn:uuid:9221bbac-4ab3-4d7b-9…</td><td>&quot;CC-MAIN-2013-20&quot;</td><td>&quot;http://careerspaceezine.com/&quot;</td><td>&quot;2013-05-20T01:19:20Z&quot;</td><td>&quot;s3://commoncrawl/crawl-data/CC…</td><td>&quot;jpn&quot;</td><td>1.000009</td><td>&quot;Jpan&quot;</td><td>1</td><td>&quot;{&quot;jpn_Jpan_score&quot;: 1.000009059…</td></tr><tr><td>&quot;\n",
              "\n",
              "ふくむすめどうわしゅう(Hukumusume fairy…</td><td>&quot;&lt;urn:uuid:d03fc65f-99bb-4095-b…</td><td>&quot;CC-MAIN-2013-20&quot;</td><td>&quot;http://hukumusume.com/douwa/En…</td><td>&quot;2013-05-20T01:18:14Z&quot;</td><td>&quot;s3://commoncrawl/crawl-data/CC…</td><td>&quot;jpn&quot;</td><td>0.992212</td><td>&quot;Jpan&quot;</td><td>2</td><td>&quot;{&quot;jpn_Jpan_score&quot;: 0.992212295…</td></tr><tr><td>&quot;家電通信をお届けします\n",
              "家電は一度購入したら、何年も使い続け…</td><td>&quot;&lt;urn:uuid:89b3dae5-8a49-4d51-a…</td><td>&quot;CC-MAIN-2013-20&quot;</td><td>&quot;http://wnclivehosting.com/inde…</td><td>&quot;2013-05-20T01:57:39Z&quot;</td><td>&quot;s3://commoncrawl/crawl-data/CC…</td><td>&quot;jpn&quot;</td><td>1.00001</td><td>&quot;Jpan&quot;</td><td>1</td><td>&quot;{&quot;jpn_Jpan_score&quot;: 1.000010013…</td></tr><tr><td>&quot;出版社からのコメント\n",
              "MovableTypeの特徴のひとつと…</td><td>&quot;&lt;urn:uuid:84019b07-0424-4d79-b…</td><td>&quot;CC-MAIN-2013-20&quot;</td><td>&quot;http://www.amazon.co.jp/MOVABL…</td><td>&quot;2013-05-20T01:50:55Z&quot;</td><td>&quot;s3://commoncrawl/crawl-data/CC…</td><td>&quot;jpn&quot;</td><td>1.000009</td><td>&quot;Jpan&quot;</td><td>2</td><td>&quot;{&quot;jpn_Jpan_score&quot;: 1.000008940…</td></tr><tr><td>&quot;FrontPage\n",
              "私も結婚することで、今の保険に入ろうか考…</td><td>&quot;&lt;urn:uuid:3fc5c2a5-c3a7-409c-b…</td><td>&quot;CC-MAIN-2013-20&quot;</td><td>&quot;http://www.christian-louboutin…</td><td>&quot;2013-05-20T01:59:19Z&quot;</td><td>&quot;s3://commoncrawl/crawl-data/CC…</td><td>&quot;jpn&quot;</td><td>1.00001</td><td>&quot;Jpan&quot;</td><td>15</td><td>&quot;{&quot;jpn_Jpan_score&quot;: 1.000009894…</td></tr></tbody></table></div>"
            ],
            "text/plain": [
              "shape: (5, 11)\n",
              "┌───────────┬───────────┬───────────┬───────────┬───┬───────────┬───────────┬───────────┬──────────┐\n",
              "│ text      ┆ id        ┆ dump      ┆ url       ┆ … ┆ language_ ┆ language_ ┆ minhash_c ┆ top_lang │\n",
              "│ ---       ┆ ---       ┆ ---       ┆ ---       ┆   ┆ score     ┆ script    ┆ luster_si ┆ s        │\n",
              "│ str       ┆ str       ┆ str       ┆ str       ┆   ┆ ---       ┆ ---       ┆ ze        ┆ ---      │\n",
              "│           ┆           ┆           ┆           ┆   ┆ f64       ┆ str       ┆ ---       ┆ str      │\n",
              "│           ┆           ┆           ┆           ┆   ┆           ┆           ┆ i64       ┆          │\n",
              "╞═══════════╪═══════════╪═══════════╪═══════════╪═══╪═══════════╪═══════════╪═══════════╪══════════╡\n",
              "│ 欲しかっ  ┆ <urn:uuid ┆ CC-MAIN-2 ┆ http://ca ┆ … ┆ 1.000009  ┆ Jpan      ┆ 1         ┆ {\"jpn_Jp │\n",
              "│ た車を探  ┆ :9221bbac ┆ 013-20    ┆ reerspace ┆   ┆           ┆           ┆           ┆ an_score │\n",
              "│ せるサイ  ┆ -4ab3-4d7 ┆           ┆ ezine.com ┆   ┆           ┆           ┆           ┆ \": 1.000 │\n",
              "│ ト        ┆ b-9…      ┆           ┆ /         ┆   ┆           ┆           ┆           ┆ 009059…  │\n",
              "│ 独身時代  ┆           ┆           ┆           ┆   ┆           ┆           ┆           ┆          │\n",
              "│ は、ただ  ┆           ┆           ┆           ┆   ┆           ┆           ┆           ┆          │\n",
              "│ 乗れれば  ┆           ┆           ┆           ┆   ┆           ┆           ┆           ┆          │\n",
              "│ いいと思… ┆           ┆           ┆           ┆   ┆           ┆           ┆           ┆          │\n",
              "│           ┆ <urn:uuid ┆ CC-MAIN-2 ┆ http://hu ┆ … ┆ 0.992212  ┆ Jpan      ┆ 2         ┆ {\"jpn_Jp │\n",
              "│           ┆ :d03fc65f ┆ 013-20    ┆ kumusume. ┆   ┆           ┆           ┆           ┆ an_score │\n",
              "│ ふくむす  ┆ -99bb-409 ┆           ┆ com/douwa ┆   ┆           ┆           ┆           ┆ \": 0.992 │\n",
              "│ めどうわ  ┆ 5-b…      ┆           ┆ /En…      ┆   ┆           ┆           ┆           ┆ 212295…  │\n",
              "│ しゅう(Hu ┆           ┆           ┆           ┆   ┆           ┆           ┆           ┆          │\n",
              "│ kumusume  ┆           ┆           ┆           ┆   ┆           ┆           ┆           ┆          │\n",
              "│ fairy…    ┆           ┆           ┆           ┆   ┆           ┆           ┆           ┆          │\n",
              "│ 家電通信  ┆ <urn:uuid ┆ CC-MAIN-2 ┆ http://wn ┆ … ┆ 1.00001   ┆ Jpan      ┆ 1         ┆ {\"jpn_Jp │\n",
              "│ をお届け  ┆ :89b3dae5 ┆ 013-20    ┆ clivehost ┆   ┆           ┆           ┆           ┆ an_score │\n",
              "│ します    ┆ -8a49-4d5 ┆           ┆ ing.com/i ┆   ┆           ┆           ┆           ┆ \": 1.000 │\n",
              "│ 家電は一  ┆ 1-a…      ┆           ┆ nde…      ┆   ┆           ┆           ┆           ┆ 010013…  │\n",
              "│ 度購入し  ┆           ┆           ┆           ┆   ┆           ┆           ┆           ┆          │\n",
              "│ たら、何  ┆           ┆           ┆           ┆   ┆           ┆           ┆           ┆          │\n",
              "│ 年も使い  ┆           ┆           ┆           ┆   ┆           ┆           ┆           ┆          │\n",
              "│ 続け…     ┆           ┆           ┆           ┆   ┆           ┆           ┆           ┆          │\n",
              "│ 出版社か  ┆ <urn:uuid ┆ CC-MAIN-2 ┆ http://ww ┆ … ┆ 1.000009  ┆ Jpan      ┆ 2         ┆ {\"jpn_Jp │\n",
              "│ らのコメ  ┆ :84019b07 ┆ 013-20    ┆ w.amazon. ┆   ┆           ┆           ┆           ┆ an_score │\n",
              "│ ント      ┆ -0424-4d7 ┆           ┆ co.jp/MOV ┆   ┆           ┆           ┆           ┆ \": 1.000 │\n",
              "│ MovableTy ┆ 9-b…      ┆           ┆ ABL…      ┆   ┆           ┆           ┆           ┆ 008940…  │\n",
              "│ peの特徴  ┆           ┆           ┆           ┆   ┆           ┆           ┆           ┆          │\n",
              "│ のひとつ  ┆           ┆           ┆           ┆   ┆           ┆           ┆           ┆          │\n",
              "│ と…       ┆           ┆           ┆           ┆   ┆           ┆           ┆           ┆          │\n",
              "│ FrontPage ┆ <urn:uuid ┆ CC-MAIN-2 ┆ http://ww ┆ … ┆ 1.00001   ┆ Jpan      ┆ 15        ┆ {\"jpn_Jp │\n",
              "│ 私も結婚  ┆ :3fc5c2a5 ┆ 013-20    ┆ w.christi ┆   ┆           ┆           ┆           ┆ an_score │\n",
              "│ すること  ┆ -c3a7-409 ┆           ┆ an-loubou ┆   ┆           ┆           ┆           ┆ \": 1.000 │\n",
              "│ で、今の  ┆ c-b…      ┆           ┆ tin…      ┆   ┆           ┆           ┆           ┆ 009894…  │\n",
              "│ 保険に入  ┆           ┆           ┆           ┆   ┆           ┆           ┆           ┆          │\n",
              "│ ろうか考… ┆           ┆           ┆           ┆   ┆           ┆           ┆           ┆          │\n",
              "└───────────┴───────────┴───────────┴───────────┴───┴───────────┴───────────┴───────────┴──────────┘"
            ]
          },
          "execution_count": 26,
          "metadata": {},
          "output_type": "execute_result"
        }
      ],
      "source": [
        "df = pl.scan_parquet(\"temp_data/**/*.parquet\")\n",
        "df.head(5).collect()"
      ]
    },
    {
      "cell_type": "code",
      "execution_count": 27,
      "metadata": {},
      "outputs": [
        {
          "data": {
            "text/html": [
              "<div><style>\n",
              ".dataframe > thead > tr,\n",
              ".dataframe > tbody > tr {\n",
              "  text-align: right;\n",
              "  white-space: pre-wrap;\n",
              "}\n",
              "</style>\n",
              "<small>shape: (9, 2)</small><table border=\"1\" class=\"dataframe\"><thead><tr><th>statistic</th><th>language_score</th></tr><tr><td>str</td><td>f64</td></tr></thead><tbody><tr><td>&quot;count&quot;</td><td>3.3735e7</td></tr><tr><td>&quot;null_count&quot;</td><td>0.0</td></tr><tr><td>&quot;mean&quot;</td><td>0.999791</td></tr><tr><td>&quot;std&quot;</td><td>0.002776</td></tr><tr><td>&quot;min&quot;</td><td>0.886358</td></tr><tr><td>&quot;25%&quot;</td><td>0.999996</td></tr><tr><td>&quot;50%&quot;</td><td>1.000007</td></tr><tr><td>&quot;75%&quot;</td><td>1.000009</td></tr><tr><td>&quot;max&quot;</td><td>1.00001</td></tr></tbody></table></div>"
            ],
            "text/plain": [
              "shape: (9, 2)\n",
              "┌────────────┬────────────────┐\n",
              "│ statistic  ┆ language_score │\n",
              "│ ---        ┆ ---            │\n",
              "│ str        ┆ f64            │\n",
              "╞════════════╪════════════════╡\n",
              "│ count      ┆ 3.3735e7       │\n",
              "│ null_count ┆ 0.0            │\n",
              "│ mean       ┆ 0.999791       │\n",
              "│ std        ┆ 0.002776       │\n",
              "│ min        ┆ 0.886358       │\n",
              "│ 25%        ┆ 0.999996       │\n",
              "│ 50%        ┆ 1.000007       │\n",
              "│ 75%        ┆ 1.000009       │\n",
              "│ max        ┆ 1.00001        │\n",
              "└────────────┴────────────────┘"
            ]
          },
          "execution_count": 27,
          "metadata": {},
          "output_type": "execute_result"
        }
      ],
      "source": [
        "df.select(\"language_score\").describe()"
      ]
    },
    {
      "cell_type": "code",
      "execution_count": 28,
      "metadata": {},
      "outputs": [
        {
          "data": {
            "text/html": [
              "<div><style>\n",
              ".dataframe > thead > tr,\n",
              ".dataframe > tbody > tr {\n",
              "  text-align: right;\n",
              "  white-space: pre-wrap;\n",
              "}\n",
              "</style>\n",
              "<small>shape: (1, 11)</small><table border=\"1\" class=\"dataframe\"><thead><tr><th>text</th><th>id</th><th>dump</th><th>url</th><th>date</th><th>file_path</th><th>language</th><th>language_score</th><th>language_script</th><th>minhash_cluster_size</th><th>top_langs</th></tr><tr><td>u32</td><td>u32</td><td>u32</td><td>u32</td><td>u32</td><td>u32</td><td>u32</td><td>u32</td><td>u32</td><td>u32</td><td>u32</td></tr></thead><tbody><tr><td>55053</td><td>55053</td><td>55053</td><td>55053</td><td>55053</td><td>55053</td><td>55053</td><td>55053</td><td>55053</td><td>55053</td><td>55053</td></tr></tbody></table></div>"
            ],
            "text/plain": [
              "shape: (1, 11)\n",
              "┌───────┬───────┬───────┬───────┬───┬────────────────┬────────────────┬────────────────┬───────────┐\n",
              "│ text  ┆ id    ┆ dump  ┆ url   ┆ … ┆ language_score ┆ language_scrip ┆ minhash_cluste ┆ top_langs │\n",
              "│ ---   ┆ ---   ┆ ---   ┆ ---   ┆   ┆ ---            ┆ t              ┆ r_size         ┆ ---       │\n",
              "│ u32   ┆ u32   ┆ u32   ┆ u32   ┆   ┆ u32            ┆ ---            ┆ ---            ┆ u32       │\n",
              "│       ┆       ┆       ┆       ┆   ┆                ┆ u32            ┆ u32            ┆           │\n",
              "╞═══════╪═══════╪═══════╪═══════╪═══╪════════════════╪════════════════╪════════════════╪═══════════╡\n",
              "│ 55053 ┆ 55053 ┆ 55053 ┆ 55053 ┆ … ┆ 55053          ┆ 55053          ┆ 55053          ┆ 55053     │\n",
              "└───────┴───────┴───────┴───────┴───┴────────────────┴────────────────┴────────────────┴───────────┘"
            ]
          },
          "execution_count": 28,
          "metadata": {},
          "output_type": "execute_result"
        }
      ],
      "source": [
        "df.filter(pl.col(\"url\").str.contains(\"wikipedia\")).count().collect(streaming=True)"
      ]
    },
    {
      "cell_type": "code",
      "execution_count": 29,
      "metadata": {},
      "outputs": [],
      "source": [
        "japanese_edu_domains = [\n",
        "    \"http://www.asagaku.com/\",\n",
        "    \"www3.nhk.or.jp/news/easy/\",\n",
        "    \"http://kids.yahoo.co.jp/\",\n",
        "]"
      ]
    },
    {
      "cell_type": "code",
      "execution_count": 30,
      "metadata": {},
      "outputs": [
        {
          "data": {
            "text/html": [
              "<div><style>\n",
              ".dataframe > thead > tr,\n",
              ".dataframe > tbody > tr {\n",
              "  text-align: right;\n",
              "  white-space: pre-wrap;\n",
              "}\n",
              "</style>\n",
              "<small>shape: (1, 11)</small><table border=\"1\" class=\"dataframe\"><thead><tr><th>text</th><th>id</th><th>dump</th><th>url</th><th>date</th><th>file_path</th><th>language</th><th>language_score</th><th>language_script</th><th>minhash_cluster_size</th><th>top_langs</th></tr><tr><td>u32</td><td>u32</td><td>u32</td><td>u32</td><td>u32</td><td>u32</td><td>u32</td><td>u32</td><td>u32</td><td>u32</td><td>u32</td></tr></thead><tbody><tr><td>3</td><td>3</td><td>3</td><td>3</td><td>3</td><td>3</td><td>3</td><td>3</td><td>3</td><td>3</td><td>3</td></tr></tbody></table></div>"
            ],
            "text/plain": [
              "shape: (1, 11)\n",
              "┌──────┬─────┬──────┬─────┬───┬────────────────┬─────────────────┬─────────────────────┬───────────┐\n",
              "│ text ┆ id  ┆ dump ┆ url ┆ … ┆ language_score ┆ language_script ┆ minhash_cluster_siz ┆ top_langs │\n",
              "│ ---  ┆ --- ┆ ---  ┆ --- ┆   ┆ ---            ┆ ---             ┆ e                   ┆ ---       │\n",
              "│ u32  ┆ u32 ┆ u32  ┆ u32 ┆   ┆ u32            ┆ u32             ┆ ---                 ┆ u32       │\n",
              "│      ┆     ┆      ┆     ┆   ┆                ┆                 ┆ u32                 ┆           │\n",
              "╞══════╪═════╪══════╪═════╪═══╪════════════════╪═════════════════╪═════════════════════╪═══════════╡\n",
              "│ 3    ┆ 3   ┆ 3    ┆ 3   ┆ … ┆ 3              ┆ 3               ┆ 3                   ┆ 3         │\n",
              "└──────┴─────┴──────┴─────┴───┴────────────────┴─────────────────┴─────────────────────┴───────────┘"
            ]
          },
          "execution_count": 30,
          "metadata": {},
          "output_type": "execute_result"
        }
      ],
      "source": [
        "df.filter(pl.col(\"url\").is_in(japanese_edu_domains)).count().collect(streaming=True)"
      ]
    },
    {
      "cell_type": "markdown",
      "metadata": {},
      "source": [
        "We'd obviously want to expand this list to include more domains but you can see how we can still use the same techniques to filter very large datasets without running out of memory."
      ]
    }
  ],
  "metadata": {
    "colab": {
      "provenance": []
    },
    "kernelspec": {
      "display_name": "Python 3",
      "name": "python3"
    },
    "language_info": {
      "codemirror_mode": {
        "name": "ipython",
        "version": 3
      },
      "file_extension": ".py",
      "mimetype": "text/x-python",
      "name": "python",
      "nbconvert_exporter": "python",
      "pygments_lexer": "ipython3",
      "version": "3.11.1"
    }
  },
  "nbformat": 4,
  "nbformat_minor": 0
}
