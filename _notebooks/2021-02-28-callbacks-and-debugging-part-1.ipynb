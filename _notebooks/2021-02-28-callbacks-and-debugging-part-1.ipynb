{
 "cells": [
  {
   "cell_type": "markdown",
   "id": "divine-banks",
   "metadata": {},
   "source": [
    "# Writing a fastai callback \n",
    "> Maybe the real implementation was the implementation details learned along the way...\n",
    "\n",
    "- toc: true \n",
    "- badges: true\n",
    "- comments: true\n",
    "- categories: [fastai, callbacks, learning]\n",
    "- search_exclude: false"
   ]
  },
  {
   "cell_type": "markdown",
   "id": "sharp-shirt",
   "metadata": {},
   "source": [
    "## Intro \n",
    "\n",
    "I sometimes feel like the process of me writing working code is analogous to the thing about monkeys writing [Shakespeare](https://en.wikipedia.org/wiki/Infinite_monkey_theorem), although in my case the end result of probably more like a Donald Trump tweet. My process for debugging or trying to work out how to implement something I'm not completely familiar with seems to not always be efficient. This is something I'm keen to work on. \n",
    "\n",
    "This blog post is an attempt to try and do this 'in public'. What I've tried to do here is to use this blog post [(which is also a notebook)](https://fastpages.fast.ai/) as a place to record the steps I tried on the process of trying to implement a new callback in fastai. In particular I try and record my though process and the steps I took. This probably makes for an unreadable mess but I thought it might be useful as a record for myself. \n",
    "\n",
    "This blog post isn't intended to be a guide on how to best solve a problem. It's more a cry for help 😂\n",
    "\n",
    "If anyone does read this, I would be really grateful to get any suggestions on:\n",
    "- whether you have suggestions to tackling a problem like this\n",
    "- if you think the 'come back to it later' approach is sensible or not \n",
    "\n"
   ]
  },
  {
   "cell_type": "markdown",
   "id": "human-glasgow",
   "metadata": {},
   "source": [
    "## A callback to generate a rule of thumb about how much more data will help\n",
    "I've recently been doing a lot more annotation of data for various computer vision projects. Since I'm doing all of the annotating myself I often want to have some sense of whether it is worth trying to get some more data. \n",
    "\n",
    "Prodigy/Prodigy has a 'recipe' for doing something that tries to answer this question. `train_curve` trains:\n",
    "> a model component with different portions of the training examples and print the accuracy figures and accuracy improvements with more data. This recipe takes pretty much the same arguments as train. --n-samples sets the number of sample models to train at different stages. For instance, 10 will train models for 10% of the examples, 20%, 30% and so on. This recipe is useful to determine the quality of the collected annotations, and whether more training examples will improve the accuracy. As a rule of thumb, if accuracy improves within the last 25%, training with more examples will likely result in better accuracy. [Source](https://prodi.gy/docs/recipes#train-curve) \n",
    "\n",
    "There is also a nice example of this in action in this youtube video"
   ]
  },
  {
   "cell_type": "markdown",
   "id": "desirable-overhead",
   "metadata": {},
   "source": [
    "> youtube: https://youtu.be/59BKHO_xBPA?t=1370"
   ]
  },
  {
   "cell_type": "markdown",
   "id": "rapid-gothic",
   "metadata": {},
   "source": [
    "I wanted to implement something similar in fastai. My stretch goal was to make something that would be useful enough and be implemented cleanly enough that I could make a pull request to fastai proposing this. I am not sure if this will actually get there but I wanted to have this in mind as an end goal so that I:\n",
    "\n",
    "- force myself to not take hacky shortcuts\n",
    "- force myself to be exposed to more of the inner functionality of fastai\n",
    "- learn about the callbacks system in a lot more detail\n",
    "\n",
    "Regarding the second point, I am particularly keen to do this 'inside' fastai rather than 'wrapping' something around fastai. If you are familiar with callbacks already this distinction will probably be clear already. If not, hopefully it will make sense later. "
   ]
  },
  {
   "cell_type": "markdown",
   "id": "joint-charter",
   "metadata": {},
   "source": [
    "## Part 1...\n",
    "\n",
    "This part goes through most of the steps I took, some of the notebook has been tidied so it's not even longer than this will already be..."
   ]
  },
  {
   "cell_type": "code",
   "execution_count": 1,
   "id": "external-classroom",
   "metadata": {},
   "outputs": [],
   "source": [
    "from fastai.vision.all import *\n",
    "from fastai.callback import *\n",
    "from fastai.test_utils import *\n",
    "import pandas as pd"
   ]
  },
  {
   "cell_type": "markdown",
   "id": "textile-lewis",
   "metadata": {},
   "source": [
    "## Dynamically altering the training data size\n",
    "What I want to be able to do is to dynamically alter the training data. i.e. modify the data attached to a learner dynamically rather than recreating the dataloaders outside of the training loop. Try to do this with example data "
   ]
  },
  {
   "cell_type": "code",
   "execution_count": 3,
   "id": "moral-singer",
   "metadata": {},
   "outputs": [],
   "source": [
    "#hide_show\n",
    "data = untar_data(URLs.IMAGEWANG_160)\n",
    "dls = ImageDataLoaders.from_folder(data/'train', valid_pct=0.7, item_tfms=[Resize(64)])\n",
    "len(dls.dataset)"
   ]
  },
  {
   "cell_type": "markdown",
   "id": "unnecessary-jerusalem",
   "metadata": {},
   "source": [
    "I think `train_ds` is probably the the thing I want to modify "
   ]
  },
  {
   "cell_type": "code",
   "execution_count": 4,
   "id": "parallel-morocco",
   "metadata": {},
   "outputs": [
    {
     "data": {
      "text/plain": [
       "(#4401) [(PILImage mode=RGB size=213x160, TensorCategory(8)),(PILImage mode=RGB size=213x160, TensorCategory(16)),(PILImage mode=RGB size=213x160, TensorCategory(6)),(PILImage mode=RGB size=213x160, TensorCategory(15)),(PILImage mode=RGB size=202x160, TensorCategory(14)),(PILImage mode=RGB size=240x160, TensorCategory(18)),(PILImage mode=RGB size=213x160, TensorCategory(15)),(PILImage mode=RGB size=160x457, TensorCategory(17)),(PILImage mode=RGB size=240x160, TensorCategory(19)),(PILImage mode=RGB size=160x240, TensorCategory(8))...]"
      ]
     },
     "execution_count": 4,
     "metadata": {},
     "output_type": "execute_result"
    }
   ],
   "source": [
    "dls.train_ds"
   ]
  },
  {
   "cell_type": "code",
   "execution_count": 5,
   "id": "tender-breeding",
   "metadata": {},
   "outputs": [
    {
     "data": {
      "text/html": [
       "<table border=\"1\" class=\"dataframe\">\n",
       "  <thead>\n",
       "    <tr style=\"text-align: left;\">\n",
       "      <th>epoch</th>\n",
       "      <th>train_loss</th>\n",
       "      <th>valid_loss</th>\n",
       "      <th>accuracy</th>\n",
       "      <th>time</th>\n",
       "    </tr>\n",
       "  </thead>\n",
       "  <tbody>\n",
       "    <tr>\n",
       "      <td>0</td>\n",
       "      <td>3.584931</td>\n",
       "      <td>3.637918</td>\n",
       "      <td>0.131671</td>\n",
       "      <td>01:05</td>\n",
       "    </tr>\n",
       "  </tbody>\n",
       "</table>"
      ],
      "text/plain": [
       "<IPython.core.display.HTML object>"
      ]
     },
     "metadata": {},
     "output_type": "display_data"
    }
   ],
   "source": [
    "learn = cnn_learner(dls, squeezenet1_0, metrics=accuracy, pretrained=False)\n",
    "learn.fit(1)"
   ]
  },
  {
   "cell_type": "markdown",
   "id": "enabling-aluminum",
   "metadata": {},
   "source": [
    "I think it will probably be safer to make a `deepcopy` of things. "
   ]
  },
  {
   "cell_type": "code",
   "execution_count": 6,
   "id": "measured-wrestling",
   "metadata": {},
   "outputs": [],
   "source": [
    "import copy"
   ]
  },
  {
   "cell_type": "markdown",
   "id": "decreased-arrow",
   "metadata": {},
   "source": [
    "> Note: I'm not quite sure whether this is the best way of handling this, it seems to be very hacky.\n"
   ]
  },
  {
   "cell_type": "code",
   "execution_count": 7,
   "id": "scientific-cursor",
   "metadata": {},
   "outputs": [
    {
     "data": {
      "text/plain": [
       "(#4401) [(PILImage mode=RGB size=213x160, TensorCategory(8)),(PILImage mode=RGB size=213x160, TensorCategory(16)),(PILImage mode=RGB size=213x160, TensorCategory(6)),(PILImage mode=RGB size=213x160, TensorCategory(15)),(PILImage mode=RGB size=202x160, TensorCategory(14)),(PILImage mode=RGB size=240x160, TensorCategory(18)),(PILImage mode=RGB size=213x160, TensorCategory(15)),(PILImage mode=RGB size=160x457, TensorCategory(17)),(PILImage mode=RGB size=240x160, TensorCategory(19)),(PILImage mode=RGB size=160x240, TensorCategory(8))...]"
      ]
     },
     "execution_count": 7,
     "metadata": {},
     "output_type": "execute_result"
    }
   ],
   "source": [
    "d_original = copy.deepcopy(learn.dls.dataset)\n",
    "d_original"
   ]
  },
  {
   "cell_type": "markdown",
   "id": "controlled-challenge",
   "metadata": {},
   "source": [
    "Grab a smaller part of the dataset"
   ]
  },
  {
   "cell_type": "code",
   "execution_count": 8,
   "id": "emerging-nutrition",
   "metadata": {},
   "outputs": [
    {
     "data": {
      "text/plain": [
       "2200.5"
      ]
     },
     "execution_count": 8,
     "metadata": {},
     "output_type": "execute_result"
    }
   ],
   "source": [
    "len(dls.dataset) * 0.5"
   ]
  },
  {
   "cell_type": "markdown",
   "id": "seven-execution",
   "metadata": {},
   "source": [
    "Pass this back in. "
   ]
  },
  {
   "cell_type": "code",
   "execution_count": 9,
   "id": "geographic-taxation",
   "metadata": {},
   "outputs": [],
   "source": [
    "learn.dls.dataset = L(dls.dataset[:100])"
   ]
  },
  {
   "cell_type": "code",
   "execution_count": 10,
   "id": "derived-commissioner",
   "metadata": {},
   "outputs": [
    {
     "data": {
      "text/plain": [
       "(#100) [(PILImage mode=RGB size=213x160, TensorCategory(8)),(PILImage mode=RGB size=213x160, TensorCategory(16)),(PILImage mode=RGB size=213x160, TensorCategory(6)),(PILImage mode=RGB size=213x160, TensorCategory(15)),(PILImage mode=RGB size=202x160, TensorCategory(14)),(PILImage mode=RGB size=240x160, TensorCategory(18)),(PILImage mode=RGB size=213x160, TensorCategory(15)),(PILImage mode=RGB size=160x457, TensorCategory(17)),(PILImage mode=RGB size=240x160, TensorCategory(19)),(PILImage mode=RGB size=160x240, TensorCategory(8))...]"
      ]
     },
     "execution_count": 10,
     "metadata": {},
     "output_type": "execute_result"
    }
   ],
   "source": [
    "learn.dls.dataset"
   ]
  },
  {
   "cell_type": "code",
   "execution_count": 11,
   "id": "ultimate-liberty",
   "metadata": {},
   "outputs": [
    {
     "data": {
      "text/html": [
       "<table border=\"1\" class=\"dataframe\">\n",
       "  <thead>\n",
       "    <tr style=\"text-align: left;\">\n",
       "      <th>epoch</th>\n",
       "      <th>train_loss</th>\n",
       "      <th>valid_loss</th>\n",
       "      <th>accuracy</th>\n",
       "      <th>time</th>\n",
       "    </tr>\n",
       "  </thead>\n",
       "  <tbody>\n",
       "    <tr>\n",
       "      <td>0</td>\n",
       "      <td>3.035343</td>\n",
       "      <td>2.480581</td>\n",
       "      <td>0.215037</td>\n",
       "      <td>01:04</td>\n",
       "    </tr>\n",
       "    <tr>\n",
       "      <td>1</td>\n",
       "      <td>2.913207</td>\n",
       "      <td>2.479565</td>\n",
       "      <td>0.212115</td>\n",
       "      <td>01:01</td>\n",
       "    </tr>\n",
       "    <tr>\n",
       "      <td>2</td>\n",
       "      <td>2.817269</td>\n",
       "      <td>2.409176</td>\n",
       "      <td>0.240066</td>\n",
       "      <td>01:05</td>\n",
       "    </tr>\n",
       "    <tr>\n",
       "      <td>3</td>\n",
       "      <td>2.696751</td>\n",
       "      <td>2.442177</td>\n",
       "      <td>0.211044</td>\n",
       "      <td>01:02</td>\n",
       "    </tr>\n",
       "    <tr>\n",
       "      <td>4</td>\n",
       "      <td>2.664056</td>\n",
       "      <td>3.162136</td>\n",
       "      <td>0.254967</td>\n",
       "      <td>01:04</td>\n",
       "    </tr>\n",
       "  </tbody>\n",
       "</table>"
      ],
      "text/plain": [
       "<IPython.core.display.HTML object>"
      ]
     },
     "metadata": {},
     "output_type": "display_data"
    }
   ],
   "source": [
    "learn.fit(5)"
   ]
  },
  {
   "cell_type": "markdown",
   "id": "potential-cache",
   "metadata": {},
   "source": [
    "check our data again, (I'm paranoid)"
   ]
  },
  {
   "cell_type": "code",
   "execution_count": 12,
   "id": "arctic-ground",
   "metadata": {},
   "outputs": [
    {
     "data": {
      "text/plain": [
       "(#100) [(PILImage mode=RGB size=213x160, TensorCategory(8)),(PILImage mode=RGB size=213x160, TensorCategory(16)),(PILImage mode=RGB size=213x160, TensorCategory(6)),(PILImage mode=RGB size=213x160, TensorCategory(15)),(PILImage mode=RGB size=202x160, TensorCategory(14)),(PILImage mode=RGB size=240x160, TensorCategory(18)),(PILImage mode=RGB size=213x160, TensorCategory(15)),(PILImage mode=RGB size=160x457, TensorCategory(17)),(PILImage mode=RGB size=240x160, TensorCategory(19)),(PILImage mode=RGB size=160x240, TensorCategory(8))...]"
      ]
     },
     "execution_count": 12,
     "metadata": {},
     "output_type": "execute_result"
    }
   ],
   "source": [
    "learn.dls.dataset"
   ]
  },
  {
   "cell_type": "markdown",
   "id": "distant-relay",
   "metadata": {},
   "source": [
    "Now try and shove in the original data. "
   ]
  },
  {
   "cell_type": "code",
   "execution_count": 13,
   "id": "painful-experiment",
   "metadata": {},
   "outputs": [],
   "source": [
    "learn.dls.dataset = d_original"
   ]
  },
  {
   "cell_type": "code",
   "execution_count": 14,
   "id": "dutch-olympus",
   "metadata": {},
   "outputs": [
    {
     "data": {
      "text/plain": [
       "(#4401) [(PILImage mode=RGB size=213x160, TensorCategory(8)),(PILImage mode=RGB size=213x160, TensorCategory(16)),(PILImage mode=RGB size=213x160, TensorCategory(6)),(PILImage mode=RGB size=213x160, TensorCategory(15)),(PILImage mode=RGB size=202x160, TensorCategory(14)),(PILImage mode=RGB size=240x160, TensorCategory(18)),(PILImage mode=RGB size=213x160, TensorCategory(15)),(PILImage mode=RGB size=160x457, TensorCategory(17)),(PILImage mode=RGB size=240x160, TensorCategory(19)),(PILImage mode=RGB size=160x240, TensorCategory(8))...]"
      ]
     },
     "execution_count": 14,
     "metadata": {},
     "output_type": "execute_result"
    }
   ],
   "source": [
    "learn.dls.dataset"
   ]
  },
  {
   "cell_type": "markdown",
   "id": "clinical-sharing",
   "metadata": {},
   "source": [
    "check that this fit still"
   ]
  },
  {
   "cell_type": "code",
   "execution_count": 15,
   "id": "optimum-afternoon",
   "metadata": {},
   "outputs": [
    {
     "data": {
      "text/html": [
       "<table border=\"1\" class=\"dataframe\">\n",
       "  <thead>\n",
       "    <tr style=\"text-align: left;\">\n",
       "      <th>epoch</th>\n",
       "      <th>train_loss</th>\n",
       "      <th>valid_loss</th>\n",
       "      <th>accuracy</th>\n",
       "      <th>time</th>\n",
       "    </tr>\n",
       "  </thead>\n",
       "  <tbody>\n",
       "    <tr>\n",
       "      <td>0</td>\n",
       "      <td>2.512241</td>\n",
       "      <td>2.247095</td>\n",
       "      <td>0.284184</td>\n",
       "      <td>01:02</td>\n",
       "    </tr>\n",
       "  </tbody>\n",
       "</table>"
      ],
      "text/plain": [
       "<IPython.core.display.HTML object>"
      ]
     },
     "metadata": {},
     "output_type": "display_data"
    }
   ],
   "source": [
    "learn.fit(1)"
   ]
  },
  {
   "cell_type": "code",
   "execution_count": 16,
   "id": "regulation-spoke",
   "metadata": {},
   "outputs": [
    {
     "data": {
      "text/plain": [
       "(#4401) [(PILImage mode=RGB size=213x160, TensorCategory(8)),(PILImage mode=RGB size=213x160, TensorCategory(16)),(PILImage mode=RGB size=213x160, TensorCategory(6)),(PILImage mode=RGB size=213x160, TensorCategory(15)),(PILImage mode=RGB size=202x160, TensorCategory(14)),(PILImage mode=RGB size=240x160, TensorCategory(18)),(PILImage mode=RGB size=213x160, TensorCategory(15)),(PILImage mode=RGB size=160x457, TensorCategory(17)),(PILImage mode=RGB size=240x160, TensorCategory(19)),(PILImage mode=RGB size=160x240, TensorCategory(8))...]"
      ]
     },
     "execution_count": 16,
     "metadata": {},
     "output_type": "execute_result"
    }
   ],
   "source": [
    "learn.dls.dataset"
   ]
  },
  {
   "cell_type": "markdown",
   "id": "southeast-semiconductor",
   "metadata": {},
   "source": [
    "This seemed to work with a few attempts but it seemed like a bad idea. I asked if anyone could see if this was an issue in the fastai discord \n",
    "![](../images/discord1.png)\n"
   ]
  },
  {
   "cell_type": "markdown",
   "id": "alpine-mileage",
   "metadata": {},
   "source": [
    "I kind of felt unsure about how best to approach the data issue so for now I'll move on to playing around with the callbacks. "
   ]
  },
  {
   "cell_type": "markdown",
   "id": "military-charlotte",
   "metadata": {},
   "source": [
    "> warning: this seemed like a bad idea (spoiler alert it was. I'll come back to this later..."
   ]
  },
  {
   "cell_type": "markdown",
   "id": "handmade-queen",
   "metadata": {},
   "source": [
    "## Using callbacks\n",
    "\n",
    "Since I'm not completely sure about how to approach the dynamic resizing of data I'll move on to getting stuck into the callbacks and coming back to this issue later. \n",
    "\n",
    "I'm not sure if moving on when I get stuck is the best approach. I feel like I sometimes end up trying to 'brute force' a solution at some point rather thanking thinking it through carefully. I feel like coming back to it later sometimes helps but it could also be kicking the can down the road... "
   ]
  },
  {
   "cell_type": "markdown",
   "id": "bulgarian-nancy",
   "metadata": {},
   "source": [
    "### How to use callbacks basics"
   ]
  },
  {
   "cell_type": "markdown",
   "id": "realistic-teens",
   "metadata": {},
   "source": [
    "First when can where can a call back be used? The docs for the callbacks gave me a good starting point. One of the things I need to work out is where callbacks can be called, the second where I would want to use callbacks in this example. \n",
    "\n",
    "The callbacks can helpfully be found under `event`"
   ]
  },
  {
   "cell_type": "code",
   "execution_count": 17,
   "id": "human-bikini",
   "metadata": {},
   "outputs": [
    {
     "data": {
      "text/plain": [
       "['after_backward',\n",
       " 'after_batch',\n",
       " 'after_cancel_batch',\n",
       " 'after_cancel_epoch',\n",
       " 'after_cancel_fit',\n",
       " 'after_cancel_train',\n",
       " 'after_cancel_validate',\n",
       " 'after_create',\n",
       " 'after_epoch',\n",
       " 'after_fit',\n",
       " 'after_loss',\n",
       " 'after_pred',\n",
       " 'after_step',\n",
       " 'after_train',\n",
       " 'after_validate',\n",
       " 'before_backward',\n",
       " 'before_batch',\n",
       " 'before_epoch',\n",
       " 'before_fit',\n",
       " 'before_train',\n",
       " 'before_validate']"
      ]
     },
     "execution_count": 17,
     "metadata": {},
     "output_type": "execute_result"
    }
   ],
   "source": [
    "[e for e in dir(event) if not e.startswith('__')]"
   ]
  },
  {
   "cell_type": "markdown",
   "id": "varied-venice",
   "metadata": {},
   "source": [
    "## Maybe we want to do our setup before fit?\n",
    "\n",
    "My first though is that it was likely that I would want to do some stuff before fitting so I wanted to start here. The other things which the docs page helped is in understanding the attributes [available](https://docs.fast.ai/callback.core.html#Attributes-available-to-callbacks) using callbacks. To get more familiar I'll try printing out some of these attributes. This will hopefully also clarify they are what they think I are. "
   ]
  },
  {
   "cell_type": "code",
   "execution_count": 18,
   "id": "golden-static",
   "metadata": {},
   "outputs": [],
   "source": [
    "class ShowTrainInfo(Callback):\n",
    "    def before_fit(self): \n",
    "        print(f\"Number of Epochs:{self.n_epoch}\")"
   ]
  },
  {
   "cell_type": "markdown",
   "id": "silver-acting",
   "metadata": {},
   "source": [
    "This (hopefully) will print out the number of epochs before the model fit"
   ]
  },
  {
   "cell_type": "code",
   "execution_count": 19,
   "id": "naked-storm",
   "metadata": {},
   "outputs": [
    {
     "name": "stdout",
     "output_type": "stream",
     "text": [
      "Number of Epochs:1\n"
     ]
    },
    {
     "data": {
      "text/html": [
       "<table border=\"1\" class=\"dataframe\">\n",
       "  <thead>\n",
       "    <tr style=\"text-align: left;\">\n",
       "      <th>epoch</th>\n",
       "      <th>train_loss</th>\n",
       "      <th>valid_loss</th>\n",
       "      <th>accuracy</th>\n",
       "      <th>time</th>\n",
       "    </tr>\n",
       "  </thead>\n",
       "  <tbody>\n",
       "    <tr>\n",
       "      <td>0</td>\n",
       "      <td>2.478273</td>\n",
       "      <td>2.763863</td>\n",
       "      <td>0.145014</td>\n",
       "      <td>01:04</td>\n",
       "    </tr>\n",
       "  </tbody>\n",
       "</table>"
      ],
      "text/plain": [
       "<IPython.core.display.HTML object>"
      ]
     },
     "metadata": {},
     "output_type": "display_data"
    }
   ],
   "source": [
    "learn.fit(1, cbs=ShowTrainInfo())"
   ]
  },
  {
   "cell_type": "markdown",
   "id": "southeast-interval",
   "metadata": {},
   "source": [
    "This seems to work! Try to do something a bit closer to what I want to achieve... \n",
    "\n",
    "One thing that I need to be able to do is manipulate the number of epochs. I want to basically run the epochs passed by the user multiple times with different subsets of the data. This will simulate running the training loop multiple times inside the training loop. "
   ]
  },
  {
   "cell_type": "markdown",
   "id": "black-funeral",
   "metadata": {},
   "source": [
    "Maybe it's easier to call `after_create` so that instead of having to try and capture all of the info about the learner and recreating it we do the following:\n",
    "\n",
    "\n",
    "after create:\n",
    "- multiply the number of epochs by the number of 'trials' (maybe with some added options later e.g. early stopping, terminate on NaN)\n",
    "- create first trial using (len(fulldata))/number of trials i.e. for 4 trials get 25% of data\n",
    "- pass first trial data to model\n",
    "- train model\n",
    "- if epoch number % epochs per trial==0:\n",
    "    - record the information about best result, last result etc. \n",
    "    - reset the model weights \n",
    "    - create new updated size of training data i.e. next step for 4 trials = 50%\n",
    "    - ? not sure how to best record that this is a different trial and record other info -> maybe store in an attribute of the callback?\n",
    "    - ? not sure about what the log/print at the end, will do some baby print statements for now, this is obviously where I want to sink loads of time into choosing emojis to print...\n"
   ]
  },
  {
   "cell_type": "markdown",
   "id": "allied-minute",
   "metadata": {},
   "source": [
    "Try out the manipulation of the number of epochs. I think it should be possible to just update this value. I'll do it in `before_fit` for now. "
   ]
  },
  {
   "cell_type": "code",
   "execution_count": 20,
   "id": "descending-institution",
   "metadata": {},
   "outputs": [],
   "source": [
    "class ShowTrainInfo(Callback):\n",
    "    def before_fit(self): \n",
    "        print(self.n_epoch)\n",
    "        self.learn.n_epoch *=4"
   ]
  },
  {
   "cell_type": "code",
   "execution_count": 21,
   "id": "instant-horizon",
   "metadata": {},
   "outputs": [
    {
     "name": "stdout",
     "output_type": "stream",
     "text": [
      "1\n"
     ]
    },
    {
     "data": {
      "text/html": [
       "\n",
       "    <div>\n",
       "        <style>\n",
       "            /* Turns off some styling */\n",
       "            progress {\n",
       "                /* gets rid of default border in Firefox and Opera. */\n",
       "                border: none;\n",
       "                /* Needs to be in here for Safari polyfill so background images work as expected. */\n",
       "                background-size: auto;\n",
       "            }\n",
       "            .progress-bar-interrupted, .progress-bar-interrupted::-webkit-progress-bar {\n",
       "                background: #F44336;\n",
       "            }\n",
       "        </style>\n",
       "      <progress value='1' class='' max='1' style='width:300px; height:20px; vertical-align: middle;'></progress>\n",
       "      100.00% [1/1 01:01<00:00]\n",
       "    </div>\n",
       "    \n",
       "<table border=\"1\" class=\"dataframe\">\n",
       "  <thead>\n",
       "    <tr style=\"text-align: left;\">\n",
       "      <th>epoch</th>\n",
       "      <th>train_loss</th>\n",
       "      <th>valid_loss</th>\n",
       "      <th>accuracy</th>\n",
       "      <th>time</th>\n",
       "    </tr>\n",
       "  </thead>\n",
       "  <tbody>\n",
       "    <tr>\n",
       "      <td>0</td>\n",
       "      <td>2.445697</td>\n",
       "      <td>2.376423</td>\n",
       "      <td>0.281457</td>\n",
       "      <td>01:01</td>\n",
       "    </tr>\n",
       "  </tbody>\n",
       "</table>\n",
       "\n",
       "    <div>\n",
       "        <style>\n",
       "            /* Turns off some styling */\n",
       "            progress {\n",
       "                /* gets rid of default border in Firefox and Opera. */\n",
       "                border: none;\n",
       "                /* Needs to be in here for Safari polyfill so background images work as expected. */\n",
       "                background-size: auto;\n",
       "            }\n",
       "            .progress-bar-interrupted, .progress-bar-interrupted::-webkit-progress-bar {\n",
       "                background: #F44336;\n",
       "            }\n",
       "        </style>\n",
       "      <progress value='161' class='' max='161' style='width:300px; height:20px; vertical-align: middle;'></progress>\n",
       "      100.00% [161/161 00:27<00:00 2.3999]\n",
       "    </div>\n",
       "    "
      ],
      "text/plain": [
       "<IPython.core.display.HTML object>"
      ]
     },
     "metadata": {},
     "output_type": "display_data"
    },
    {
     "data": {
      "text/html": [
       "\n",
       "    <div>\n",
       "        <style>\n",
       "            /* Turns off some styling */\n",
       "            progress {\n",
       "                /* gets rid of default border in Firefox and Opera. */\n",
       "                border: none;\n",
       "                /* Needs to be in here for Safari polyfill so background images work as expected. */\n",
       "                background-size: auto;\n",
       "            }\n",
       "            .progress-bar-interrupted, .progress-bar-interrupted::-webkit-progress-bar {\n",
       "                background: #F44336;\n",
       "            }\n",
       "        </style>\n",
       "      <progress value='2' class='' max='1' style='width:300px; height:20px; vertical-align: middle;'></progress>\n",
       "      200.00% [2/1 02:06<-1:58:57]\n",
       "    </div>\n",
       "    \n",
       "<table border=\"1\" class=\"dataframe\">\n",
       "  <thead>\n",
       "    <tr style=\"text-align: left;\">\n",
       "      <th>epoch</th>\n",
       "      <th>train_loss</th>\n",
       "      <th>valid_loss</th>\n",
       "      <th>accuracy</th>\n",
       "      <th>time</th>\n",
       "    </tr>\n",
       "  </thead>\n",
       "  <tbody>\n",
       "    <tr>\n",
       "      <td>0</td>\n",
       "      <td>2.445697</td>\n",
       "      <td>2.376423</td>\n",
       "      <td>0.281457</td>\n",
       "      <td>01:01</td>\n",
       "    </tr>\n",
       "    <tr>\n",
       "      <td>1</td>\n",
       "      <td>2.399856</td>\n",
       "      <td>2.251869</td>\n",
       "      <td>0.281457</td>\n",
       "      <td>01:04</td>\n",
       "    </tr>\n",
       "  </tbody>\n",
       "</table>\n",
       "\n",
       "    <div>\n",
       "        <style>\n",
       "            /* Turns off some styling */\n",
       "            progress {\n",
       "                /* gets rid of default border in Firefox and Opera. */\n",
       "                border: none;\n",
       "                /* Needs to be in here for Safari polyfill so background images work as expected. */\n",
       "                background-size: auto;\n",
       "            }\n",
       "            .progress-bar-interrupted, .progress-bar-interrupted::-webkit-progress-bar {\n",
       "                background: #F44336;\n",
       "            }\n",
       "        </style>\n",
       "      <progress value='161' class='' max='161' style='width:300px; height:20px; vertical-align: middle;'></progress>\n",
       "      100.00% [161/161 00:27<00:00 2.3335]\n",
       "    </div>\n",
       "    "
      ],
      "text/plain": [
       "<IPython.core.display.HTML object>"
      ]
     },
     "metadata": {},
     "output_type": "display_data"
    },
    {
     "data": {
      "text/html": [
       "<table border=\"1\" class=\"dataframe\">\n",
       "  <thead>\n",
       "    <tr style=\"text-align: left;\">\n",
       "      <th>epoch</th>\n",
       "      <th>train_loss</th>\n",
       "      <th>valid_loss</th>\n",
       "      <th>accuracy</th>\n",
       "      <th>time</th>\n",
       "    </tr>\n",
       "  </thead>\n",
       "  <tbody>\n",
       "    <tr>\n",
       "      <td>0</td>\n",
       "      <td>2.445697</td>\n",
       "      <td>2.376423</td>\n",
       "      <td>0.281457</td>\n",
       "      <td>01:01</td>\n",
       "    </tr>\n",
       "    <tr>\n",
       "      <td>1</td>\n",
       "      <td>2.399856</td>\n",
       "      <td>2.251869</td>\n",
       "      <td>0.281457</td>\n",
       "      <td>01:04</td>\n",
       "    </tr>\n",
       "    <tr>\n",
       "      <td>2</td>\n",
       "      <td>2.333455</td>\n",
       "      <td>2.175574</td>\n",
       "      <td>0.308142</td>\n",
       "      <td>01:01</td>\n",
       "    </tr>\n",
       "    <tr>\n",
       "      <td>3</td>\n",
       "      <td>2.291610</td>\n",
       "      <td>2.286107</td>\n",
       "      <td>0.277854</td>\n",
       "      <td>01:04</td>\n",
       "    </tr>\n",
       "  </tbody>\n",
       "</table>"
      ],
      "text/plain": [
       "<IPython.core.display.HTML object>"
      ]
     },
     "metadata": {},
     "output_type": "display_data"
    }
   ],
   "source": [
    "learn.fit(1, cbs=ShowTrainInfo())"
   ]
  },
  {
   "cell_type": "markdown",
   "id": "sharing-assumption",
   "metadata": {},
   "source": [
    "Is this actually training four times? The progress bar makes things a little tricky to read. Let's print out the epochs to check, and get rid of the progress bar for now so it's easier to see what's going on"
   ]
  },
  {
   "cell_type": "code",
   "execution_count": 22,
   "id": "appointed-billy",
   "metadata": {},
   "outputs": [],
   "source": [
    "class ShowTrainInfo(Callback):\n",
    "    def before_fit(self): \n",
    "        print(f\"number epochs passed by user:{self.n_epoch}\")\n",
    "        self.learn.n_epoch *=4\n",
    "    def after_epoch(self):\n",
    "        print(f\"just finished epoch:{self.epoch}\")"
   ]
  },
  {
   "cell_type": "code",
   "execution_count": 23,
   "id": "incoming-plaza",
   "metadata": {},
   "outputs": [
    {
     "name": "stdout",
     "output_type": "stream",
     "text": [
      "number epochs passed by user:1\n",
      "[0, 2.2561960220336914, 2.186687469482422, 0.31038177013397217, '01:02']\n",
      "just finished epoch:0\n",
      "[1, 2.263982057571411, 3.9907848834991455, 0.2859368920326233, '01:03']\n",
      "just finished epoch:1\n",
      "[2, 2.234278917312622, 2.299966812133789, 0.3186599016189575, '01:04']\n",
      "just finished epoch:2\n",
      "[3, 2.1652183532714844, 2.047651529312134, 0.36112192273139954, '01:26']\n",
      "just finished epoch:3\n"
     ]
    }
   ],
   "source": [
    "with learn.no_bar():\n",
    "    learn.fit(1, cbs=ShowTrainInfo())"
   ]
  },
  {
   "cell_type": "markdown",
   "id": "negative-framework",
   "metadata": {},
   "source": [
    "That seems to be okay, we have 4 total epochs. I'll get back to the logging issue later...\n",
    "\n",
    "Let's try the idea of breaking for each point in the trial i.e in this case after each epoch. Maybe should also add an init to the callback and give it a more sensible name. I will also now add something that will 'reset' the model after each trial. i.e. after the original epochs passed by the user. For now, I'll just add some print statements to see where things are being called. I'm hoping this will let me confirm I'm planning to execute callbacks in the right place. "
   ]
  },
  {
   "cell_type": "code",
   "execution_count": 24,
   "id": "outdoor-surrey",
   "metadata": {},
   "outputs": [],
   "source": [
    "class DSetSizeTrials(Callback):\n",
    "    def __init__(self, n_trials=4): self.n_trials = n_trials\n",
    "    def before_fit(self):\n",
    "        self.epoch_per_trial = self.n_epoch\n",
    "        print(f\"number epochs passed by user:{self.n_epoch}\")\n",
    "        self.learn.n_epoch *=self.n_trials\n",
    "    def after_epoch(self):\n",
    "        print(f\"just finished epoch:{self.epoch}\")\n",
    "        if (self.epoch+1) % self.epoch_per_trial==0:\n",
    "            print('reset model')"
   ]
  },
  {
   "cell_type": "code",
   "execution_count": 25,
   "id": "temporal-president",
   "metadata": {},
   "outputs": [
    {
     "name": "stdout",
     "output_type": "stream",
     "text": [
      "number epochs passed by user:3\n",
      "[0, 2.108391761779785, 3.002286672592163, 0.30103233456611633, '01:22']\n",
      "just finished epoch:0\n",
      "[1, 2.0375003814697266, 2.582606792449951, 0.2694779932498932, '01:09']\n",
      "just finished epoch:1\n",
      "[2, 2.0219476222991943, 2.2244386672973633, 0.3190494775772095, '01:15']\n",
      "just finished epoch:2\n",
      "reset model\n",
      "[3, 1.9379000663757324, 2.5143325328826904, 0.37748345732688904, '01:04']\n",
      "just finished epoch:3\n",
      "[4, 1.939262866973877, 2.207705020904541, 0.33180755376815796, '01:07']\n",
      "just finished epoch:4\n",
      "[5, 1.894189715385437, 10.37093448638916, 0.3005453944206238, '01:04']\n",
      "just finished epoch:5\n",
      "reset model\n"
     ]
    }
   ],
   "source": [
    "with learn.no_bar():\n",
    "    learn.fit(3, cbs=DSetSizeTrials(2))"
   ]
  },
  {
   "cell_type": "markdown",
   "id": "irish-update",
   "metadata": {},
   "source": [
    "## I'm not limited by my own brain...\n",
    "\n",
    "Getting back to the issue of whether passing in a new subset of data by doing `learn.dls.dataset = L(dls.dataset[:100])` was a bad idea. It turns out it was. Although this worked without issue for the first dataset I worked with when I tried with data loaded via a DataFrame I got errors even at the indexing stage. Since I had asked the question in the discord I thought it was worth responding:"
   ]
  },
  {
   "cell_type": "markdown",
   "id": "applied-influence",
   "metadata": {},
   "source": [
    "![](../images/discord2.png)"
   ]
  },
  {
   "cell_type": "markdown",
   "id": "dramatic-photograph",
   "metadata": {},
   "source": [
    "My initial response wasn't super helpful in hindsight. Saying something is a bad idea isn't very useful for anyone else. This is often super obvious when you see someone else do it but I think it's easy to forget. One of the things I love about fastai is the community around it which is super focused on helping people out. I'm glad Zach asked followed up here since this exchange also ended up being super useful. My follow up reply: "
   ]
  },
  {
   "cell_type": "markdown",
   "id": "bright-visit",
   "metadata": {},
   "source": [
    "> For context, what I am trying to work out is how to dynamically change my training data size during training, i.e. first use 25%, then 50% of the training data. I thought this might be possible by indexing the dls.dataset attribute and updating it to a slice of that. This worked out when the original dataloaders was defined via a from_folder. When I just tried the same thing using a dls originally created via a DataFrame I get a FileNotFoundError. I'm still trying to wrap my head around exactly why one works but not the other, but I'm assuming that the dataset attribute doesn't contain all the information that is needed to get to an item in all cases?"
   ]
  },
  {
   "cell_type": "markdown",
   "id": "japanese-client",
   "metadata": {},
   "source": [
    "> tip: Say both what you are trying to do and **why** you are trying to do something. This gives a much better insight for people who might want to help. "
   ]
  },
  {
   "cell_type": "markdown",
   "id": "postal-flood",
   "metadata": {},
   "source": [
    "Although my response doesn't say exactly what is going wrong it offer my best guess and also gives some insight into my motivations. In this case since it seems like a slightly weird thing without the wider context/motivations outlined above. "
   ]
  },
  {
   "cell_type": "markdown",
   "id": "revised-trail",
   "metadata": {},
   "source": [
    "![](../images/discord3.png)"
   ]
  },
  {
   "cell_type": "markdown",
   "id": "toxic-applicant",
   "metadata": {},
   "source": [
    "This led to a super helpful exchange with a few people in the discord which honed in on a few possible solutions to this problem.  "
   ]
  },
  {
   "cell_type": "markdown",
   "id": "german-tender",
   "metadata": {},
   "source": [
    "![](../images/discord4.png)\n",
    "![](../images/discord5.png)"
   ]
  },
  {
   "cell_type": "markdown",
   "id": "abstract-alcohol",
   "metadata": {},
   "source": [
    "I don't want to reproduce the whole exchange but what was super nice is that:\n",
    "\n",
    "- a bunch of people tried to help. Even if nothing else it gives you warm fuzzies that people are happy to help you with this kind of thing\n",
    "- people offered a bunch of different approaches all of which offered potential things for me to follow up \n",
    "- this fast tracked my progress, particularly since it might have got super annoying to be stuck on this problem on my own for ages. "
   ]
  },
  {
   "cell_type": "markdown",
   "id": "useful-frank",
   "metadata": {},
   "source": [
    "> tip: other people are happy to help but you should try and make it easy for them to help you (and I should reciprocate where I can) "
   ]
  },
  {
   "cell_type": "markdown",
   "id": "attractive-change",
   "metadata": {},
   "source": [
    "Following this input from  other people I followed up on `shuffle_fn` as a way to achieve what I'm trying to do (inside of a callback). Again, I'll try modifying this outside of a callback to see how it works"
   ]
  },
  {
   "cell_type": "code",
   "execution_count": 26,
   "id": "spare-contractor",
   "metadata": {},
   "outputs": [],
   "source": [
    "dls = ImageDataLoaders.from_folder(data/'train', valid_pct=0.3, item_tfms=[Resize(64)])"
   ]
  },
  {
   "cell_type": "code",
   "execution_count": 27,
   "id": "hourly-aaron",
   "metadata": {},
   "outputs": [
    {
     "data": {
      "text/plain": [
       "(#10269) [(PILImage mode=RGB size=239x160, TensorCategory(19)),(PILImage mode=RGB size=160x240, TensorCategory(19)),(PILImage mode=RGB size=160x357, TensorCategory(17)),(PILImage mode=RGB size=213x160, TensorCategory(19)),(PILImage mode=RGB size=290x160, TensorCategory(0)),(PILImage mode=RGB size=213x160, TensorCategory(17)),(PILImage mode=RGB size=160x213, TensorCategory(17)),(PILImage mode=RGB size=160x263, TensorCategory(9)),(PILImage mode=RGB size=213x160, TensorCategory(14)),(PILImage mode=RGB size=213x160, TensorCategory(18))...]"
      ]
     },
     "execution_count": 27,
     "metadata": {},
     "output_type": "execute_result"
    }
   ],
   "source": [
    "dls.train_ds"
   ]
  },
  {
   "cell_type": "markdown",
   "id": "lined-mercury",
   "metadata": {},
   "source": [
    "Looking at what it does at the moment"
   ]
  },
  {
   "cell_type": "code",
   "execution_count": 28,
   "id": "primary-chorus",
   "metadata": {},
   "outputs": [
    {
     "data": {
      "text/plain": [
       "\u001b[0;31mSignature:\u001b[0m \u001b[0mdls\u001b[0m\u001b[0;34m.\u001b[0m\u001b[0mtrain\u001b[0m\u001b[0;34m.\u001b[0m\u001b[0mshuffle_fn\u001b[0m\u001b[0;34m(\u001b[0m\u001b[0midxs\u001b[0m\u001b[0;34m)\u001b[0m\u001b[0;34m\u001b[0m\u001b[0;34m\u001b[0m\u001b[0m\n",
       "\u001b[0;31mDocstring:\u001b[0m Returns a random permutation of `idxs`.\n",
       "\u001b[0;31mSource:\u001b[0m        \u001b[0;32mdef\u001b[0m \u001b[0mshuffle_fn\u001b[0m\u001b[0;34m(\u001b[0m\u001b[0mself\u001b[0m\u001b[0;34m,\u001b[0m \u001b[0midxs\u001b[0m\u001b[0;34m)\u001b[0m\u001b[0;34m:\u001b[0m \u001b[0;32mreturn\u001b[0m \u001b[0mself\u001b[0m\u001b[0;34m.\u001b[0m\u001b[0mrng\u001b[0m\u001b[0;34m.\u001b[0m\u001b[0msample\u001b[0m\u001b[0;34m(\u001b[0m\u001b[0midxs\u001b[0m\u001b[0;34m,\u001b[0m \u001b[0mlen\u001b[0m\u001b[0;34m(\u001b[0m\u001b[0midxs\u001b[0m\u001b[0;34m)\u001b[0m\u001b[0;34m)\u001b[0m\u001b[0;34m\u001b[0m\u001b[0;34m\u001b[0m\u001b[0m\n",
       "\u001b[0;31mFile:\u001b[0m      /usr/local/anaconda3/envs/blog/lib/python3.8/site-packages/fastai/data/load.py\n",
       "\u001b[0;31mType:\u001b[0m      method\n"
      ]
     },
     "metadata": {},
     "output_type": "display_data"
    }
   ],
   "source": [
    "??dls.train.shuffle_fn"
   ]
  },
  {
   "cell_type": "markdown",
   "id": "editorial-switzerland",
   "metadata": {},
   "source": [
    "We can easily patch the functionality, in this case we'll just return 128 items"
   ]
  },
  {
   "cell_type": "code",
   "execution_count": 29,
   "id": "configured-affiliation",
   "metadata": {},
   "outputs": [],
   "source": [
    "@patch_to(DataLoader)\n",
    "def shuffle_fn(self, idxs): return self.rng.sample(idxs, 128)"
   ]
  },
  {
   "cell_type": "markdown",
   "id": "available-intellectual",
   "metadata": {},
   "source": [
    "Check this has changes as expected"
   ]
  },
  {
   "cell_type": "code",
   "execution_count": 30,
   "id": "colored-shadow",
   "metadata": {},
   "outputs": [
    {
     "data": {
      "text/plain": [
       "\u001b[0;31mSignature:\u001b[0m \u001b[0mdls\u001b[0m\u001b[0;34m.\u001b[0m\u001b[0mtrain\u001b[0m\u001b[0;34m.\u001b[0m\u001b[0mshuffle_fn\u001b[0m\u001b[0;34m(\u001b[0m\u001b[0midxs\u001b[0m\u001b[0;34m)\u001b[0m\u001b[0;34m\u001b[0m\u001b[0;34m\u001b[0m\u001b[0m\n",
       "\u001b[0;31mDocstring:\u001b[0m <no docstring>\n",
       "\u001b[0;31mSource:\u001b[0m   \n",
       "\u001b[0;34m@\u001b[0m\u001b[0mpatch_to\u001b[0m\u001b[0;34m(\u001b[0m\u001b[0mDataLoader\u001b[0m\u001b[0;34m)\u001b[0m\u001b[0;34m\u001b[0m\n",
       "\u001b[0;34m\u001b[0m\u001b[0;32mdef\u001b[0m \u001b[0mshuffle_fn\u001b[0m\u001b[0;34m(\u001b[0m\u001b[0mself\u001b[0m\u001b[0;34m,\u001b[0m \u001b[0midxs\u001b[0m\u001b[0;34m)\u001b[0m\u001b[0;34m:\u001b[0m \u001b[0;32mreturn\u001b[0m \u001b[0mself\u001b[0m\u001b[0;34m.\u001b[0m\u001b[0mrng\u001b[0m\u001b[0;34m.\u001b[0m\u001b[0msample\u001b[0m\u001b[0;34m(\u001b[0m\u001b[0midxs\u001b[0m\u001b[0;34m,\u001b[0m \u001b[0;36m128\u001b[0m\u001b[0;34m)\u001b[0m\u001b[0;34m\u001b[0m\u001b[0;34m\u001b[0m\u001b[0m\n",
       "\u001b[0;31mFile:\u001b[0m      ~/Documents/daniel/blog/_notebooks/<ipython-input-29-99a68b7fe249>\n",
       "\u001b[0;31mType:\u001b[0m      method\n"
      ]
     },
     "metadata": {},
     "output_type": "display_data"
    }
   ],
   "source": [
    "??dls.train.shuffle_fn"
   ]
  },
  {
   "cell_type": "markdown",
   "id": "economic-rogers",
   "metadata": {},
   "source": [
    "Now try training..."
   ]
  },
  {
   "cell_type": "code",
   "execution_count": 31,
   "id": "stainless-science",
   "metadata": {},
   "outputs": [
    {
     "data": {
      "text/html": [
       "<table border=\"1\" class=\"dataframe\">\n",
       "  <thead>\n",
       "    <tr style=\"text-align: left;\">\n",
       "      <th>epoch</th>\n",
       "      <th>train_loss</th>\n",
       "      <th>valid_loss</th>\n",
       "      <th>time</th>\n",
       "    </tr>\n",
       "  </thead>\n",
       "  <tbody>\n",
       "    <tr>\n",
       "      <td>0</td>\n",
       "      <td>4.615644</td>\n",
       "      <td>6.038196</td>\n",
       "      <td>00:17</td>\n",
       "    </tr>\n",
       "  </tbody>\n",
       "</table>"
      ],
      "text/plain": [
       "<IPython.core.display.HTML object>"
      ]
     },
     "metadata": {},
     "output_type": "display_data"
    }
   ],
   "source": [
    "learn = cnn_learner(dls, squeezenet1_0)\n",
    "learn.fit(1)"
   ]
  },
  {
   "cell_type": "markdown",
   "id": "monetary-ballet",
   "metadata": {},
   "source": [
    "This seemed to do the training step very quickly so it's probably only getting 128 items but I don't know that for sure. If only there was some way of getting access to the training loop in fastai 😜"
   ]
  },
  {
   "cell_type": "code",
   "execution_count": 32,
   "id": "advisory-chapter",
   "metadata": {},
   "outputs": [],
   "source": [
    "class PrintItems(Callback):\n",
    "    def __init__(self):\n",
    "        self.items_done = 0\n",
    "    def after_batch(self):\n",
    "        print(self.iter)\n",
    "        self.items_done += (max(self.iter,1)* self.learn.dls.bs)\n",
    "    def before_validate(self):\n",
    "        print(self.items_done)\n",
    "        raise CancelFitException('stopped before valid')"
   ]
  },
  {
   "cell_type": "code",
   "execution_count": 33,
   "id": "surgical-ultimate",
   "metadata": {},
   "outputs": [
    {
     "data": {
      "text/html": [
       "<table border=\"1\" class=\"dataframe\">\n",
       "  <thead>\n",
       "    <tr style=\"text-align: left;\">\n",
       "      <th>epoch</th>\n",
       "      <th>train_loss</th>\n",
       "      <th>valid_loss</th>\n",
       "      <th>time</th>\n",
       "    </tr>\n",
       "  </thead>\n",
       "  <tbody>\n",
       "    <tr>\n",
       "      <td>0</td>\n",
       "      <td>4.113161</td>\n",
       "      <td>None</td>\n",
       "      <td>00:00</td>\n",
       "    </tr>\n",
       "  </tbody>\n",
       "</table>"
      ],
      "text/plain": [
       "<IPython.core.display.HTML object>"
      ]
     },
     "metadata": {},
     "output_type": "display_data"
    },
    {
     "name": "stdout",
     "output_type": "stream",
     "text": [
      "0\n",
      "1\n",
      "128\n"
     ]
    }
   ],
   "source": [
    "learn.fit(1, cbs=PrintItems())"
   ]
  },
  {
   "cell_type": "markdown",
   "id": "collaborative-observer",
   "metadata": {},
   "source": [
    "With some more guidance I update this function to accept an input parameter that we can then easily update during training. "
   ]
  },
  {
   "cell_type": "code",
   "execution_count": 49,
   "id": "accomplished-associate",
   "metadata": {},
   "outputs": [],
   "source": [
    "@patch\n",
    "def my_shuffle_fn(self:DataLoader, idxs, size=128):\n",
    "    return self.rng.sample(idxs, size)"
   ]
  },
  {
   "cell_type": "code",
   "execution_count": 50,
   "id": "burning-satellite",
   "metadata": {},
   "outputs": [],
   "source": [
    "from functools import partial"
   ]
  },
  {
   "cell_type": "code",
   "execution_count": 51,
   "id": "soviet-valuable",
   "metadata": {},
   "outputs": [],
   "source": [
    "dls.train.shuffle_fn = dls.train.my_shuffle_fn"
   ]
  },
  {
   "cell_type": "code",
   "execution_count": 37,
   "id": "compatible-style",
   "metadata": {},
   "outputs": [
    {
     "data": {
      "text/plain": [
       "\u001b[0;31mSignature:\u001b[0m \u001b[0mdls\u001b[0m\u001b[0;34m.\u001b[0m\u001b[0mtrain\u001b[0m\u001b[0;34m.\u001b[0m\u001b[0mshuffle_fn\u001b[0m\u001b[0;34m(\u001b[0m\u001b[0midxs\u001b[0m\u001b[0;34m,\u001b[0m \u001b[0msize\u001b[0m\u001b[0;34m=\u001b[0m\u001b[0;36m128\u001b[0m\u001b[0;34m)\u001b[0m\u001b[0;34m\u001b[0m\u001b[0;34m\u001b[0m\u001b[0m\n",
       "\u001b[0;31mDocstring:\u001b[0m <no docstring>\n",
       "\u001b[0;31mSource:\u001b[0m   \n",
       "\u001b[0;34m@\u001b[0m\u001b[0mpatch\u001b[0m\u001b[0;34m\u001b[0m\n",
       "\u001b[0;34m\u001b[0m\u001b[0;32mdef\u001b[0m \u001b[0mmy_shuffle_fn\u001b[0m\u001b[0;34m(\u001b[0m\u001b[0mself\u001b[0m\u001b[0;34m:\u001b[0m\u001b[0mDataLoader\u001b[0m\u001b[0;34m,\u001b[0m \u001b[0midxs\u001b[0m\u001b[0;34m,\u001b[0m \u001b[0msize\u001b[0m\u001b[0;34m=\u001b[0m\u001b[0;36m128\u001b[0m\u001b[0;34m)\u001b[0m\u001b[0;34m:\u001b[0m\u001b[0;34m\u001b[0m\n",
       "\u001b[0;34m\u001b[0m    \u001b[0;32mreturn\u001b[0m \u001b[0mself\u001b[0m\u001b[0;34m.\u001b[0m\u001b[0mrng\u001b[0m\u001b[0;34m.\u001b[0m\u001b[0msample\u001b[0m\u001b[0;34m(\u001b[0m\u001b[0midxs\u001b[0m\u001b[0;34m,\u001b[0m \u001b[0msize\u001b[0m\u001b[0;34m)\u001b[0m\u001b[0;34m\u001b[0m\u001b[0;34m\u001b[0m\u001b[0m\n",
       "\u001b[0;31mFile:\u001b[0m      ~/Documents/daniel/blog/_notebooks/<ipython-input-34-95358dde961e>\n",
       "\u001b[0;31mType:\u001b[0m      method\n"
      ]
     },
     "metadata": {},
     "output_type": "display_data"
    }
   ],
   "source": [
    "??dls.train.shuffle_fn"
   ]
  },
  {
   "cell_type": "markdown",
   "id": "medical-survey",
   "metadata": {},
   "source": [
    "Defining roughly what I want to do with some print statements again..."
   ]
  },
  {
   "cell_type": "code",
   "execution_count": 52,
   "id": "otherwise-great",
   "metadata": {},
   "outputs": [],
   "source": [
    "class PrintItems(Callback):\n",
    "    def __init__(self):\n",
    "        self.items_done = 0\n",
    "    def before_train(self): \n",
    "        print('calculating partial data sizes...')\n",
    "        print('updating shuffle_fn....')\n",
    "        self.learn.dls.train.shuffle_fn = partial(self.learn.dls.train.my_shuffle_fn, size=128)\n",
    "    def after_batch(self):\n",
    "        print(self.iter)\n",
    "        self.items_done += (max(self.iter,1)* self.learn.dls.bs)\n",
    "\n",
    "    def before_validate(self):\n",
    "        print(self.items_done)\n",
    "        raise CancelFitException('stopped before valid')  "
   ]
  },
  {
   "cell_type": "code",
   "execution_count": 53,
   "id": "sweet-determination",
   "metadata": {},
   "outputs": [
    {
     "data": {
      "text/html": [
       "<table border=\"1\" class=\"dataframe\">\n",
       "  <thead>\n",
       "    <tr style=\"text-align: left;\">\n",
       "      <th>epoch</th>\n",
       "      <th>train_loss</th>\n",
       "      <th>valid_loss</th>\n",
       "      <th>time</th>\n",
       "    </tr>\n",
       "  </thead>\n",
       "  <tbody>\n",
       "    <tr>\n",
       "      <td>0</td>\n",
       "      <td>2.966318</td>\n",
       "      <td>None</td>\n",
       "      <td>00:00</td>\n",
       "    </tr>\n",
       "  </tbody>\n",
       "</table>"
      ],
      "text/plain": [
       "<IPython.core.display.HTML object>"
      ]
     },
     "metadata": {},
     "output_type": "display_data"
    },
    {
     "name": "stdout",
     "output_type": "stream",
     "text": [
      "calculating partial data sizes...\n",
      "updating shuffle_fn....\n",
      "0\n",
      "1\n",
      "128\n"
     ]
    }
   ],
   "source": [
    "learn.fit(1, cbs=PrintItems())"
   ]
  },
  {
   "cell_type": "markdown",
   "id": "gross-holocaust",
   "metadata": {},
   "source": [
    "### To be continued...\n",
    "To avoid this becoming even longer I'll pick up the next steps of trying to get this callback working in another blog post. \n",
    "\n",
    "### Summary so far\n",
    "How this doing this help with my original goals.\n",
    "\n",
    "- I've definitely got a much better grasp on the callback system in fastai. Even though the specific callback I'm working on is still a work in progress, I now know much better where the entry points for callbacks are and what can be accessed/modified. I would feel more confident implementing callbacks than before. \n",
    "\n",
    "- my 'process' is still a work in progress but having in mind that I should try and record the steps was actually super helpful and something I'll try and do better next time. \n",
    "\n",
    "- Asking other people for help can move progress forward quickly. I think there is a skill in asking questions in the best way possible and this is something I'll continue to work on... \n"
   ]
  }
 ],
 "metadata": {
  "kernelspec": {
   "display_name": "blog",
   "language": "python",
   "name": "blog"
  },
  "language_info": {
   "codemirror_mode": {
    "name": "ipython",
    "version": 3
   },
   "file_extension": ".py",
   "mimetype": "text/x-python",
   "name": "python",
   "nbconvert_exporter": "python",
   "pygments_lexer": "ipython3",
   "version": "3.8.5"
  }
 },
 "nbformat": 4,
 "nbformat_minor": 5
}
