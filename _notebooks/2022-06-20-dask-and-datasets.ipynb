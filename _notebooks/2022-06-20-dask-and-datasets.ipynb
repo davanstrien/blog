{
 "cells": [
  {
   "cell_type": "markdown",
   "metadata": {},
   "source": [
    "# Combining Hugging Face datasets with dask\n",
    "\n",
    "> Using 🤗 datasets in combination with dask \n",
    "\n",
    "- toc: true \n",
    "- badges: false\n",
    "- comments: true\n",
    "- categories: [huggingface, huggingface-datasets, dask]\n",
    "- search_exclude: false\n",
    "- badges: true"
   ]
  },
  {
   "cell_type": "markdown",
   "metadata": {},
   "source": [
    "Hugging Face datasets is a super useful library for loading, processing and sharing datasets with other people. \n",
    "\n",
    "For many pre-processing steps it works beautifully. The one area where it can be a bit trickier to use is for EDA style analysis. This column-wise EDA is often important as an early step in working with some data or for preparing a data card. \n",
    "\n",
    "Fortunately combining datasets and another data library, [dask](https://www.dask.org/) works pretty smoothly. This isn't intended to be a full intro to either datasets or dask but hopefully gives you a sense of how both libaries work and how they can complement each other. "
   ]
  },
  {
   "cell_type": "markdown",
   "metadata": {},
   "source": [
    "First, make sure we have the required libraries. [Rich](https://rich.readthedocs.io/en/stable/) is there for a little added visual flair ✨ "
   ]
  },
  {
   "cell_type": "code",
   "execution_count": 53,
   "metadata": {
    "id": "lIYdn1woOS1n"
   },
   "outputs": [],
   "source": [
    "%%capture\n",
    "!pip install datasets toolz rich[jupyter] dask"
   ]
  },
  {
   "cell_type": "code",
   "execution_count": 1,
   "metadata": {
    "id": "gKumkrtPnvdg"
   },
   "outputs": [],
   "source": [
    "%load_ext rich"
   ]
  },
  {
   "cell_type": "markdown",
   "metadata": {},
   "source": [
    "## Load some data"
   ]
  },
  {
   "cell_type": "markdown",
   "metadata": {},
   "source": [
    "For this example we will use a the [blbooksgenre dataset](https://huggingface.co/datasets/blbooksgenre) that contains metadata about some digitised books from the British Library. This collection also includes some annotations for the genre of the book which we could use to train a machine learning model. \n",
    "\n",
    "We can load a dataset hosted on the Hugging Face hub by using the `load_dataset` function."
   ]
  },
  {
   "cell_type": "code",
   "execution_count": 2,
   "metadata": {
    "id": "21uMQyUFhryg"
   },
   "outputs": [],
   "source": [
    "from datasets import load_dataset"
   ]
  },
  {
   "cell_type": "code",
   "execution_count": 3,
   "metadata": {
    "colab": {
     "base_uri": "https://localhost:8080/",
     "height": 87,
     "referenced_widgets": [
      "408dd31921ee40bb9c9fc8995d4b8577",
      "5e1150b6dfb8494195191efaeb5b7feb",
      "6edda0b1149541499ab485df06711944",
      "45fcaeca1a184768a624607172ab7d72",
      "ea28bfd1711148c29b494a0194d2ffbf",
      "b3eaa93967914d7f8977d736611b845f",
      "5d3ee4cdf67e44878bac361e143b828a",
      "bff82a2eab2a4f7d87f8037e30839050",
      "0c0752e8e9024977979562531ad5a4b7",
      "4ccb508cf3ab4001a30cea47d2448e23",
      "88809da60e3846dc886cd2545edbc5c3"
     ]
    },
    "id": "P8C8Ljd1i1zj",
    "outputId": "1b619316-4f2d-4f07-862b-08747f6a715e"
   },
   "outputs": [
    {
     "name": "stderr",
     "output_type": "stream",
     "text": [
      "Reusing dataset bl_books_genre (/Users/dvanstrien/.cache/huggingface/datasets/bl_books_genre/annotated_raw/1.1.0/1e01f82403b3d9344121c3b81e5ad7c130338b250bf95dad4c6ab342c642dbe8)\n"
     ]
    }
   ],
   "source": [
    "ds = load_dataset(\"blbooksgenre\", \"annotated_raw\", split=\"train\")"
   ]
  },
  {
   "cell_type": "markdown",
   "metadata": {},
   "source": [
    "Since we requested only the train split we get back a `Dataset`"
   ]
  },
  {
   "cell_type": "code",
   "execution_count": 57,
   "metadata": {
    "colab": {
     "base_uri": "https://localhost:8080/",
     "height": 131
    },
    "id": "Wx9ZlPhhjAiC",
    "outputId": "d7e74115-796c-4acd-9f15-aae838cffdee"
   },
   "outputs": [
    {
     "data": {
      "text/html": [
       "<pre style=\"white-space:pre;overflow-x:auto;line-height:normal;font-family:Menlo,'DejaVu Sans Mono',consolas,'Courier New',monospace\">\n",
       "<span style=\"color: #800080; text-decoration-color: #800080; font-weight: bold\">Dataset</span><span style=\"font-weight: bold\">({</span>\n",
       "    features: <span style=\"font-weight: bold\">[</span><span style=\"color: #008000; text-decoration-color: #008000\">'BL record ID'</span>, <span style=\"color: #008000; text-decoration-color: #008000\">'Name'</span>, <span style=\"color: #008000; text-decoration-color: #008000\">'Dates associated with name'</span>, <span style=\"color: #008000; text-decoration-color: #008000\">'Type of name'</span>, <span style=\"color: #008000; text-decoration-color: #008000\">'Role'</span>, <span style=\"color: #008000; text-decoration-color: #008000\">'All names'</span>, <span style=\"color: #008000; text-decoration-color: #008000\">'Title'</span>, <span style=\"color: #008000; text-decoration-color: #008000\">'Variant titles'</span>, <span style=\"color: #008000; text-decoration-color: #008000\">'Series title'</span>, <span style=\"color: #008000; text-decoration-color: #008000\">'Number within series'</span>, <span style=\"color: #008000; text-decoration-color: #008000\">'Country of publication'</span>, <span style=\"color: #008000; text-decoration-color: #008000\">'Place of publication'</span>, <span style=\"color: #008000; text-decoration-color: #008000\">'Publisher'</span>, <span style=\"color: #008000; text-decoration-color: #008000\">'Date of publication'</span>, <span style=\"color: #008000; text-decoration-color: #008000\">'Edition'</span>, <span style=\"color: #008000; text-decoration-color: #008000\">'Physical description'</span>, <span style=\"color: #008000; text-decoration-color: #008000\">'Dewey classification'</span>, <span style=\"color: #008000; text-decoration-color: #008000\">'BL shelfmark'</span>, <span style=\"color: #008000; text-decoration-color: #008000\">'Topics'</span>, <span style=\"color: #008000; text-decoration-color: #008000\">'Genre'</span>, <span style=\"color: #008000; text-decoration-color: #008000\">'Languages'</span>, <span style=\"color: #008000; text-decoration-color: #008000\">'Notes'</span>, <span style=\"color: #008000; text-decoration-color: #008000\">'BL record ID for physical resource'</span>, <span style=\"color: #008000; text-decoration-color: #008000\">'classification_id'</span>, <span style=\"color: #008000; text-decoration-color: #008000\">'user_id'</span>, <span style=\"color: #008000; text-decoration-color: #008000\">'subject_ids'</span>, <span style=\"color: #008000; text-decoration-color: #008000\">'annotator_date_pub'</span>, <span style=\"color: #008000; text-decoration-color: #008000\">'annotator_normalised_date_pub'</span>, <span style=\"color: #008000; text-decoration-color: #008000\">'annotator_edition_statement'</span>, <span style=\"color: #008000; text-decoration-color: #008000\">'annotator_FAST_genre_terms'</span>, <span style=\"color: #008000; text-decoration-color: #008000\">'annotator_FAST_subject_terms'</span>, <span style=\"color: #008000; text-decoration-color: #008000\">'annotator_comments'</span>, <span style=\"color: #008000; text-decoration-color: #008000\">'annotator_main_language'</span>, <span style=\"color: #008000; text-decoration-color: #008000\">'annotator_other_languages_summaries'</span>, <span style=\"color: #008000; text-decoration-color: #008000\">'annotator_summaries_language'</span>, <span style=\"color: #008000; text-decoration-color: #008000\">'annotator_translation'</span>, <span style=\"color: #008000; text-decoration-color: #008000\">'annotator_original_language'</span>, <span style=\"color: #008000; text-decoration-color: #008000\">'annotator_publisher'</span>, <span style=\"color: #008000; text-decoration-color: #008000\">'annotator_place_pub'</span>, <span style=\"color: #008000; text-decoration-color: #008000\">'annotator_country'</span>, <span style=\"color: #008000; text-decoration-color: #008000\">'annotator_title'</span>, <span style=\"color: #008000; text-decoration-color: #008000\">'Link to digitised book'</span>, <span style=\"color: #008000; text-decoration-color: #008000\">'annotated'</span>, <span style=\"color: #008000; text-decoration-color: #008000\">'Type of resource'</span>, <span style=\"color: #008000; text-decoration-color: #008000\">'created_at'</span>, <span style=\"color: #008000; text-decoration-color: #008000\">'annotator_genre'</span><span style=\"font-weight: bold\">]</span>,\n",
       "    num_rows: <span style=\"color: #008080; text-decoration-color: #008080; font-weight: bold\">4398</span>\n",
       "<span style=\"font-weight: bold\">})</span>\n",
       "</pre>\n"
      ],
      "text/plain": [
       "\n",
       "\u001b[1;35mDataset\u001b[0m\u001b[1m(\u001b[0m\u001b[1m{\u001b[0m\n",
       "    features: \u001b[1m[\u001b[0m\u001b[32m'BL record ID'\u001b[0m, \u001b[32m'Name'\u001b[0m, \u001b[32m'Dates associated with name'\u001b[0m, \u001b[32m'Type of name'\u001b[0m, \u001b[32m'Role'\u001b[0m, \u001b[32m'All names'\u001b[0m, \u001b[32m'Title'\u001b[0m, \u001b[32m'Variant titles'\u001b[0m, \u001b[32m'Series title'\u001b[0m, \u001b[32m'Number within series'\u001b[0m, \u001b[32m'Country of publication'\u001b[0m, \u001b[32m'Place of publication'\u001b[0m, \u001b[32m'Publisher'\u001b[0m, \u001b[32m'Date of publication'\u001b[0m, \u001b[32m'Edition'\u001b[0m, \u001b[32m'Physical description'\u001b[0m, \u001b[32m'Dewey classification'\u001b[0m, \u001b[32m'BL shelfmark'\u001b[0m, \u001b[32m'Topics'\u001b[0m, \u001b[32m'Genre'\u001b[0m, \u001b[32m'Languages'\u001b[0m, \u001b[32m'Notes'\u001b[0m, \u001b[32m'BL record ID for physical resource'\u001b[0m, \u001b[32m'classification_id'\u001b[0m, \u001b[32m'user_id'\u001b[0m, \u001b[32m'subject_ids'\u001b[0m, \u001b[32m'annotator_date_pub'\u001b[0m, \u001b[32m'annotator_normalised_date_pub'\u001b[0m, \u001b[32m'annotator_edition_statement'\u001b[0m, \u001b[32m'annotator_FAST_genre_terms'\u001b[0m, \u001b[32m'annotator_FAST_subject_terms'\u001b[0m, \u001b[32m'annotator_comments'\u001b[0m, \u001b[32m'annotator_main_language'\u001b[0m, \u001b[32m'annotator_other_languages_summaries'\u001b[0m, \u001b[32m'annotator_summaries_language'\u001b[0m, \u001b[32m'annotator_translation'\u001b[0m, \u001b[32m'annotator_original_language'\u001b[0m, \u001b[32m'annotator_publisher'\u001b[0m, \u001b[32m'annotator_place_pub'\u001b[0m, \u001b[32m'annotator_country'\u001b[0m, \u001b[32m'annotator_title'\u001b[0m, \u001b[32m'Link to digitised book'\u001b[0m, \u001b[32m'annotated'\u001b[0m, \u001b[32m'Type of resource'\u001b[0m, \u001b[32m'created_at'\u001b[0m, \u001b[32m'annotator_genre'\u001b[0m\u001b[1m]\u001b[0m,\n",
       "    num_rows: \u001b[1;36m4398\u001b[0m\n",
       "\u001b[1m}\u001b[0m\u001b[1m)\u001b[0m\n"
      ]
     },
     "metadata": {},
     "output_type": "display_data"
    }
   ],
   "source": [
    "ds"
   ]
  },
  {
   "cell_type": "markdown",
   "metadata": {},
   "source": [
    "We can see this has a bunch of columns. One that is of interest is the `Data of publication` column. Since we could use this dataset to train some type of classifier we may want to check whether we have enough examples across different time periods in the dataset. "
   ]
  },
  {
   "cell_type": "code",
   "execution_count": 58,
   "metadata": {
    "colab": {
     "base_uri": "https://localhost:8080/",
     "height": 34
    },
    "id": "Iz1qpri2jA7F",
    "outputId": "6927a531-4649-4ec8-b40e-0d467f735a8d"
   },
   "outputs": [
    {
     "data": {
      "text/html": [
       "<pre style=\"white-space:pre;overflow-x:auto;line-height:normal;font-family:Menlo,'DejaVu Sans Mono',consolas,'Courier New',monospace\"><span style=\"color: #008000; text-decoration-color: #008000\">'1879'</span>\n",
       "</pre>\n"
      ],
      "text/plain": [
       "\u001b[32m'1879'\u001b[0m\n"
      ]
     },
     "metadata": {},
     "output_type": "display_data"
    }
   ],
   "source": [
    "ds[0][\"Date of publication\"]"
   ]
  },
  {
   "cell_type": "markdown",
   "metadata": {},
   "source": [
    "### Using toolz to calculate frequencies for a column"
   ]
  },
  {
   "cell_type": "markdown",
   "metadata": {},
   "source": [
    "One quick way we can get the frequency count for a column is using the wonderful [toolz](https://toolz.readthedocs.io/en/latest/index.html) library \n",
    "\n",
    "If our data fits in memory, we can simply pass in a column containing a categorical value to a frequency function to get a frequency count. "
   ]
  },
  {
   "cell_type": "code",
   "execution_count": 60,
   "metadata": {
    "id": "wipOCP-wjB3Y"
   },
   "outputs": [],
   "source": [
    "from toolz import frequencies, topk"
   ]
  },
  {
   "cell_type": "code",
   "execution_count": 7,
   "metadata": {
    "id": "iy8JiqQNjFUw"
   },
   "outputs": [],
   "source": [
    "dates = ds[\"Date of publication\"]"
   ]
  },
  {
   "cell_type": "code",
   "execution_count": 97,
   "metadata": {
    "colab": {
     "base_uri": "https://localhost:8080/",
     "height": 1000
    },
    "id": "s1WXFnFljx5B",
    "outputId": "9d4e5792-30e1-4279-9534-4574a39d321b"
   },
   "outputs": [
    {
     "data": {
      "text/html": [
       "<pre style=\"white-space:pre;overflow-x:auto;line-height:normal;font-family:Menlo,'DejaVu Sans Mono',consolas,'Courier New',monospace\">\n",
       "<span style=\"font-weight: bold\">{</span>\n",
       "    <span style=\"color: #008000; text-decoration-color: #008000\">'1879'</span>: <span style=\"color: #008080; text-decoration-color: #008080; font-weight: bold\">99</span>,\n",
       "    <span style=\"color: #008000; text-decoration-color: #008000\">'1774'</span>: <span style=\"color: #008080; text-decoration-color: #008080; font-weight: bold\">5</span>,\n",
       "    <span style=\"color: #008000; text-decoration-color: #008000\">'1765'</span>: <span style=\"color: #008080; text-decoration-color: #008080; font-weight: bold\">5</span>,\n",
       "    <span style=\"color: #008000; text-decoration-color: #008000\">'1877'</span>: <span style=\"color: #008080; text-decoration-color: #008080; font-weight: bold\">69</span>,\n",
       "    <span style=\"color: #008000; text-decoration-color: #008000\">'1893'</span>: <span style=\"color: #008080; text-decoration-color: #008080; font-weight: bold\">222</span>,\n",
       "    <span style=\"color: #008000; text-decoration-color: #008000\">'1891'</span>: <span style=\"color: #008080; text-decoration-color: #008080; font-weight: bold\">148</span>,\n",
       "    <span style=\"color: #008000; text-decoration-color: #008000\">'1827'</span>: <span style=\"color: #008080; text-decoration-color: #008080; font-weight: bold\">29</span>,\n",
       "    <span style=\"color: #008000; text-decoration-color: #008000\">'1868'</span>: <span style=\"color: #008080; text-decoration-color: #008080; font-weight: bold\">42</span>,\n",
       "    <span style=\"color: #008000; text-decoration-color: #008000\">'1878'</span>: <span style=\"color: #008080; text-decoration-color: #008080; font-weight: bold\">72</span>,\n",
       "    <span style=\"color: #008000; text-decoration-color: #008000\">'1895'</span>: <span style=\"color: #008080; text-decoration-color: #008080; font-weight: bold\">189</span>,\n",
       "    <span style=\"color: #008000; text-decoration-color: #008000\">'1897'</span>: <span style=\"color: #008080; text-decoration-color: #008080; font-weight: bold\">120</span>,\n",
       "    <span style=\"color: #008000; text-decoration-color: #008000\">'1899'</span>: <span style=\"color: #008080; text-decoration-color: #008080; font-weight: bold\">104</span>,\n",
       "    <span style=\"color: #008000; text-decoration-color: #008000\">'1896'</span>: <span style=\"color: #008080; text-decoration-color: #008080; font-weight: bold\">174</span>,\n",
       "    <span style=\"color: #008000; text-decoration-color: #008000\">'1876'</span>: <span style=\"color: #008080; text-decoration-color: #008080; font-weight: bold\">48</span>,\n",
       "    <span style=\"color: #008000; text-decoration-color: #008000\">'1812'</span>: <span style=\"color: #008080; text-decoration-color: #008080; font-weight: bold\">13</span>,\n",
       "    <span style=\"color: #008000; text-decoration-color: #008000\">'1799'</span>: <span style=\"color: #008080; text-decoration-color: #008080; font-weight: bold\">8</span>,\n",
       "    <span style=\"color: #008000; text-decoration-color: #008000\">'1830'</span>: <span style=\"color: #008080; text-decoration-color: #008080; font-weight: bold\">32</span>,\n",
       "    <span style=\"color: #008000; text-decoration-color: #008000\">'1870'</span>: <span style=\"color: #008080; text-decoration-color: #008080; font-weight: bold\">42</span>,\n",
       "    <span style=\"color: #008000; text-decoration-color: #008000\">'1894'</span>: <span style=\"color: #008080; text-decoration-color: #008080; font-weight: bold\">155</span>,\n",
       "    <span style=\"color: #008000; text-decoration-color: #008000\">'1864'</span>: <span style=\"color: #008080; text-decoration-color: #008080; font-weight: bold\">28</span>,\n",
       "    <span style=\"color: #008000; text-decoration-color: #008000\">'1855'</span>: <span style=\"color: #008080; text-decoration-color: #008080; font-weight: bold\">42</span>,\n",
       "    <span style=\"color: #008000; text-decoration-color: #008000\">'1871'</span>: <span style=\"color: #008080; text-decoration-color: #008080; font-weight: bold\">42</span>,\n",
       "    <span style=\"color: #008000; text-decoration-color: #008000\">'1836'</span>: <span style=\"color: #008080; text-decoration-color: #008080; font-weight: bold\">37</span>,\n",
       "    <span style=\"color: #008000; text-decoration-color: #008000\">'1883'</span>: <span style=\"color: #008080; text-decoration-color: #008080; font-weight: bold\">51</span>,\n",
       "    <span style=\"color: #008000; text-decoration-color: #008000\">'1880'</span>: <span style=\"color: #008080; text-decoration-color: #008080; font-weight: bold\">111</span>,\n",
       "    <span style=\"color: #008000; text-decoration-color: #008000\">'1884'</span>: <span style=\"color: #008080; text-decoration-color: #008080; font-weight: bold\">69</span>,\n",
       "    <span style=\"color: #008000; text-decoration-color: #008000\">'1822'</span>: <span style=\"color: #008080; text-decoration-color: #008080; font-weight: bold\">16</span>,\n",
       "    <span style=\"color: #008000; text-decoration-color: #008000\">'1856'</span>: <span style=\"color: #008080; text-decoration-color: #008080; font-weight: bold\">38</span>,\n",
       "    <span style=\"color: #008000; text-decoration-color: #008000\">'1872'</span>: <span style=\"color: #008080; text-decoration-color: #008080; font-weight: bold\">42</span>,\n",
       "    <span style=\"color: #008000; text-decoration-color: #008000\">'1875'</span>: <span style=\"color: #008080; text-decoration-color: #008080; font-weight: bold\">57</span>,\n",
       "    <span style=\"color: #008000; text-decoration-color: #008000\">'1844'</span>: <span style=\"color: #008080; text-decoration-color: #008080; font-weight: bold\">35</span>,\n",
       "    <span style=\"color: #008000; text-decoration-color: #008000\">'1890'</span>: <span style=\"color: #008080; text-decoration-color: #008080; font-weight: bold\">134</span>,\n",
       "    <span style=\"color: #008000; text-decoration-color: #008000\">'1886'</span>: <span style=\"color: #008080; text-decoration-color: #008080; font-weight: bold\">43</span>,\n",
       "    <span style=\"color: #008000; text-decoration-color: #008000\">'1840'</span>: <span style=\"color: #008080; text-decoration-color: #008080; font-weight: bold\">15</span>,\n",
       "    <span style=\"color: #008000; text-decoration-color: #008000\">'1888'</span>: <span style=\"color: #008080; text-decoration-color: #008080; font-weight: bold\">109</span>,\n",
       "    <span style=\"color: #008000; text-decoration-color: #008000\">'1858'</span>: <span style=\"color: #008080; text-decoration-color: #008080; font-weight: bold\">43</span>,\n",
       "    <span style=\"color: #008000; text-decoration-color: #008000\">'1867'</span>: <span style=\"color: #008080; text-decoration-color: #008080; font-weight: bold\">53</span>,\n",
       "    <span style=\"color: #008000; text-decoration-color: #008000\">'1826'</span>: <span style=\"color: #008080; text-decoration-color: #008080; font-weight: bold\">24</span>,\n",
       "    <span style=\"color: #008000; text-decoration-color: #008000\">'1800'</span>: <span style=\"color: #008080; text-decoration-color: #008080; font-weight: bold\">3</span>,\n",
       "    <span style=\"color: #008000; text-decoration-color: #008000\">'1851'</span>: <span style=\"color: #008080; text-decoration-color: #008080; font-weight: bold\">43</span>,\n",
       "    <span style=\"color: #008000; text-decoration-color: #008000\">'1838'</span>: <span style=\"color: #008080; text-decoration-color: #008080; font-weight: bold\">14</span>,\n",
       "    <span style=\"color: #008000; text-decoration-color: #008000\">'1824'</span>: <span style=\"color: #008080; text-decoration-color: #008080; font-weight: bold\">20</span>,\n",
       "    <span style=\"color: #008000; text-decoration-color: #008000\">'1887'</span>: <span style=\"color: #008080; text-decoration-color: #008080; font-weight: bold\">58</span>,\n",
       "    <span style=\"color: #008000; text-decoration-color: #008000\">'1874'</span>: <span style=\"color: #008080; text-decoration-color: #008080; font-weight: bold\">42</span>,\n",
       "    <span style=\"color: #008000; text-decoration-color: #008000\">'1857'</span>: <span style=\"color: #008080; text-decoration-color: #008080; font-weight: bold\">44</span>,\n",
       "    <span style=\"color: #008000; text-decoration-color: #008000\">'1873'</span>: <span style=\"color: #008080; text-decoration-color: #008080; font-weight: bold\">34</span>,\n",
       "    <span style=\"color: #008000; text-decoration-color: #008000\">'1837'</span>: <span style=\"color: #008080; text-decoration-color: #008080; font-weight: bold\">16</span>,\n",
       "    <span style=\"color: #008000; text-decoration-color: #008000\">'1846'</span>: <span style=\"color: #008080; text-decoration-color: #008080; font-weight: bold\">32</span>,\n",
       "    <span style=\"color: #008000; text-decoration-color: #008000\">'1881'</span>: <span style=\"color: #008080; text-decoration-color: #008080; font-weight: bold\">55</span>,\n",
       "    <span style=\"color: #008000; text-decoration-color: #008000\">'1898'</span>: <span style=\"color: #008080; text-decoration-color: #008080; font-weight: bold\">104</span>,\n",
       "    <span style=\"color: #008000; text-decoration-color: #008000\">'1906'</span>: <span style=\"color: #008080; text-decoration-color: #008080; font-weight: bold\">4</span>,\n",
       "    <span style=\"color: #008000; text-decoration-color: #008000\">'1892'</span>: <span style=\"color: #008080; text-decoration-color: #008080; font-weight: bold\">134</span>,\n",
       "    <span style=\"color: #008000; text-decoration-color: #008000\">'1869'</span>: <span style=\"color: #008080; text-decoration-color: #008080; font-weight: bold\">25</span>,\n",
       "    <span style=\"color: #008000; text-decoration-color: #008000\">'1885'</span>: <span style=\"color: #008080; text-decoration-color: #008080; font-weight: bold\">69</span>,\n",
       "    <span style=\"color: #008000; text-decoration-color: #008000\">'1882'</span>: <span style=\"color: #008080; text-decoration-color: #008080; font-weight: bold\">71</span>,\n",
       "    <span style=\"color: #008000; text-decoration-color: #008000\">'1863'</span>: <span style=\"color: #008080; text-decoration-color: #008080; font-weight: bold\">55</span>,\n",
       "    <span style=\"color: #008000; text-decoration-color: #008000\">'1865'</span>: <span style=\"color: #008080; text-decoration-color: #008080; font-weight: bold\">53</span>,\n",
       "    <span style=\"color: #008000; text-decoration-color: #008000\">'1635'</span>: <span style=\"color: #008080; text-decoration-color: #008080; font-weight: bold\">3</span>,\n",
       "    <span style=\"color: #008000; text-decoration-color: #008000\">'1859'</span>: <span style=\"color: #008080; text-decoration-color: #008080; font-weight: bold\">39</span>,\n",
       "    <span style=\"color: #008000; text-decoration-color: #008000\">'1818'</span>: <span style=\"color: #008080; text-decoration-color: #008080; font-weight: bold\">17</span>,\n",
       "    <span style=\"color: #008000; text-decoration-color: #008000\">'1845'</span>: <span style=\"color: #008080; text-decoration-color: #008080; font-weight: bold\">28</span>,\n",
       "    <span style=\"color: #008000; text-decoration-color: #008000\">'1852'</span>: <span style=\"color: #008080; text-decoration-color: #008080; font-weight: bold\">43</span>,\n",
       "    <span style=\"color: #008000; text-decoration-color: #008000\">'1841'</span>: <span style=\"color: #008080; text-decoration-color: #008080; font-weight: bold\">23</span>,\n",
       "    <span style=\"color: #008000; text-decoration-color: #008000\">'1842'</span>: <span style=\"color: #008080; text-decoration-color: #008080; font-weight: bold\">29</span>,\n",
       "    <span style=\"color: #008000; text-decoration-color: #008000\">'1848'</span>: <span style=\"color: #008080; text-decoration-color: #008080; font-weight: bold\">28</span>,\n",
       "    <span style=\"color: #008000; text-decoration-color: #008000\">'1828'</span>: <span style=\"color: #008080; text-decoration-color: #008080; font-weight: bold\">23</span>,\n",
       "    <span style=\"color: #008000; text-decoration-color: #008000\">'1850'</span>: <span style=\"color: #008080; text-decoration-color: #008080; font-weight: bold\">38</span>,\n",
       "    <span style=\"color: #008000; text-decoration-color: #008000\">'1860'</span>: <span style=\"color: #008080; text-decoration-color: #008080; font-weight: bold\">45</span>,\n",
       "    <span style=\"color: #008000; text-decoration-color: #008000\">'1889'</span>: <span style=\"color: #008080; text-decoration-color: #008080; font-weight: bold\">140</span>,\n",
       "    <span style=\"color: #008000; text-decoration-color: #008000\">'1815'</span>: <span style=\"color: #008080; text-decoration-color: #008080; font-weight: bold\">5</span>,\n",
       "    <span style=\"color: #008000; text-decoration-color: #008000\">'1861'</span>: <span style=\"color: #008080; text-decoration-color: #008080; font-weight: bold\">28</span>,\n",
       "    <span style=\"color: #008000; text-decoration-color: #008000\">'1814'</span>: <span style=\"color: #008080; text-decoration-color: #008080; font-weight: bold\">13</span>,\n",
       "    <span style=\"color: #008000; text-decoration-color: #008000\">'1843'</span>: <span style=\"color: #008080; text-decoration-color: #008080; font-weight: bold\">28</span>,\n",
       "    <span style=\"color: #008000; text-decoration-color: #008000\">'1817'</span>: <span style=\"color: #008080; text-decoration-color: #008080; font-weight: bold\">12</span>,\n",
       "    <span style=\"color: #008000; text-decoration-color: #008000\">'1819'</span>: <span style=\"color: #008080; text-decoration-color: #008080; font-weight: bold\">16</span>,\n",
       "    <span style=\"color: #008000; text-decoration-color: #008000\">'1853'</span>: <span style=\"color: #008080; text-decoration-color: #008080; font-weight: bold\">34</span>,\n",
       "    <span style=\"color: #008000; text-decoration-color: #008000\">'1833'</span>: <span style=\"color: #008080; text-decoration-color: #008080; font-weight: bold\">5</span>,\n",
       "    <span style=\"color: #008000; text-decoration-color: #008000\">'1854'</span>: <span style=\"color: #008080; text-decoration-color: #008080; font-weight: bold\">36</span>,\n",
       "    <span style=\"color: #008000; text-decoration-color: #008000\">'1839'</span>: <span style=\"color: #008080; text-decoration-color: #008080; font-weight: bold\">33</span>,\n",
       "    <span style=\"color: #008000; text-decoration-color: #008000\">'1803'</span>: <span style=\"color: #008080; text-decoration-color: #008080; font-weight: bold\">7</span>,\n",
       "    <span style=\"color: #008000; text-decoration-color: #008000\">'1835'</span>: <span style=\"color: #008080; text-decoration-color: #008080; font-weight: bold\">14</span>,\n",
       "    <span style=\"color: #008000; text-decoration-color: #008000\">'1813'</span>: <span style=\"color: #008080; text-decoration-color: #008080; font-weight: bold\">8</span>,\n",
       "    <span style=\"color: #008000; text-decoration-color: #008000\">'1695'</span>: <span style=\"color: #008080; text-decoration-color: #008080; font-weight: bold\">4</span>,\n",
       "    <span style=\"color: #008000; text-decoration-color: #008000\">'1809-1811'</span>: <span style=\"color: #008080; text-decoration-color: #008080; font-weight: bold\">5</span>,\n",
       "    <span style=\"color: #008000; text-decoration-color: #008000\">'1832'</span>: <span style=\"color: #008080; text-decoration-color: #008080; font-weight: bold\">9</span>,\n",
       "    <span style=\"color: #008000; text-decoration-color: #008000\">'1823'</span>: <span style=\"color: #008080; text-decoration-color: #008080; font-weight: bold\">17</span>,\n",
       "    <span style=\"color: #008000; text-decoration-color: #008000\">'1847'</span>: <span style=\"color: #008080; text-decoration-color: #008080; font-weight: bold\">28</span>,\n",
       "    <span style=\"color: #008000; text-decoration-color: #008000\">'1816'</span>: <span style=\"color: #008080; text-decoration-color: #008080; font-weight: bold\">8</span>,\n",
       "    <span style=\"color: #008000; text-decoration-color: #008000\">'1806'</span>: <span style=\"color: #008080; text-decoration-color: #008080; font-weight: bold\">5</span>,\n",
       "    <span style=\"color: #008000; text-decoration-color: #008000\">'1866'</span>: <span style=\"color: #008080; text-decoration-color: #008080; font-weight: bold\">26</span>,\n",
       "    <span style=\"color: #008000; text-decoration-color: #008000\">'1829'</span>: <span style=\"color: #008080; text-decoration-color: #008080; font-weight: bold\">13</span>,\n",
       "    <span style=\"color: #008000; text-decoration-color: #008000\">'1791'</span>: <span style=\"color: #008080; text-decoration-color: #008080; font-weight: bold\">5</span>,\n",
       "    <span style=\"color: #008000; text-decoration-color: #008000\">'1637'</span>: <span style=\"color: #008080; text-decoration-color: #008080; font-weight: bold\">5</span>,\n",
       "    <span style=\"color: #008000; text-decoration-color: #008000\">'1821'</span>: <span style=\"color: #008080; text-decoration-color: #008080; font-weight: bold\">4</span>,\n",
       "    <span style=\"color: #008000; text-decoration-color: #008000\">'1807'</span>: <span style=\"color: #008080; text-decoration-color: #008080; font-weight: bold\">14</span>,\n",
       "    <span style=\"color: #008000; text-decoration-color: #008000\">'1862'</span>: <span style=\"color: #008080; text-decoration-color: #008080; font-weight: bold\">22</span>,\n",
       "    <span style=\"color: #008000; text-decoration-color: #008000\">'1795'</span>: <span style=\"color: #008080; text-decoration-color: #008080; font-weight: bold\">5</span>,\n",
       "    <span style=\"color: #008000; text-decoration-color: #008000\">'1834'</span>: <span style=\"color: #008080; text-decoration-color: #008080; font-weight: bold\">12</span>,\n",
       "    <span style=\"color: #008000; text-decoration-color: #008000\">'1831'</span>: <span style=\"color: #008080; text-decoration-color: #008080; font-weight: bold\">10</span>,\n",
       "    <span style=\"color: #008000; text-decoration-color: #008000\">'1849'</span>: <span style=\"color: #008080; text-decoration-color: #008080; font-weight: bold\">13</span>,\n",
       "    <span style=\"color: #008000; text-decoration-color: #008000\">'1811'</span>: <span style=\"color: #008080; text-decoration-color: #008080; font-weight: bold\">1</span>,\n",
       "    <span style=\"color: #008000; text-decoration-color: #008000\">'1825'</span>: <span style=\"color: #008080; text-decoration-color: #008080; font-weight: bold\">1</span>,\n",
       "    <span style=\"color: #008000; text-decoration-color: #008000\">'1809'</span>: <span style=\"color: #008080; text-decoration-color: #008080; font-weight: bold\">3</span>,\n",
       "    <span style=\"color: #008000; text-decoration-color: #008000\">'1905'</span>: <span style=\"color: #008080; text-decoration-color: #008080; font-weight: bold\">1</span>,\n",
       "    <span style=\"color: #008000; text-decoration-color: #008000\">'1808'</span>: <span style=\"color: #008080; text-decoration-color: #008080; font-weight: bold\">1</span>,\n",
       "    <span style=\"color: #008000; text-decoration-color: #008000\">'1900'</span>: <span style=\"color: #008080; text-decoration-color: #008080; font-weight: bold\">5</span>,\n",
       "    <span style=\"color: #008000; text-decoration-color: #008000\">'1892-1912'</span>: <span style=\"color: #008080; text-decoration-color: #008080; font-weight: bold\">1</span>,\n",
       "    <span style=\"color: #008000; text-decoration-color: #008000\">'1804'</span>: <span style=\"color: #008080; text-decoration-color: #008080; font-weight: bold\">4</span>,\n",
       "    <span style=\"color: #008000; text-decoration-color: #008000\">'1769'</span>: <span style=\"color: #008080; text-decoration-color: #008080; font-weight: bold\">5</span>,\n",
       "    <span style=\"color: #008000; text-decoration-color: #008000\">'1910'</span>: <span style=\"color: #008080; text-decoration-color: #008080; font-weight: bold\">1</span>,\n",
       "    <span style=\"color: #008000; text-decoration-color: #008000\">'1805'</span>: <span style=\"color: #008080; text-decoration-color: #008080; font-weight: bold\">5</span>,\n",
       "    <span style=\"color: #008000; text-decoration-color: #008000\">'1802'</span>: <span style=\"color: #008080; text-decoration-color: #008080; font-weight: bold\">3</span>,\n",
       "    <span style=\"color: #008000; text-decoration-color: #008000\">'1871-'</span>: <span style=\"color: #008080; text-decoration-color: #008080; font-weight: bold\">1</span>,\n",
       "    <span style=\"color: #008000; text-decoration-color: #008000\">'1901'</span>: <span style=\"color: #008080; text-decoration-color: #008080; font-weight: bold\">5</span>,\n",
       "    <span style=\"color: #008000; text-decoration-color: #008000\">'1884-1909'</span>: <span style=\"color: #008080; text-decoration-color: #008080; font-weight: bold\">1</span>,\n",
       "    <span style=\"color: #008000; text-decoration-color: #008000\">'1873-1887'</span>: <span style=\"color: #008080; text-decoration-color: #008080; font-weight: bold\">1</span>,\n",
       "    <span style=\"color: #008000; text-decoration-color: #008000\">'1979'</span>: <span style=\"color: #008080; text-decoration-color: #008080; font-weight: bold\">1</span>,\n",
       "    <span style=\"color: #008000; text-decoration-color: #008000\">'1852-1941'</span>: <span style=\"color: #008080; text-decoration-color: #008080; font-weight: bold\">1</span>,\n",
       "    <span style=\"color: #008000; text-decoration-color: #008000\">'1903'</span>: <span style=\"color: #008080; text-decoration-color: #008080; font-weight: bold\">1</span>,\n",
       "    <span style=\"color: #008000; text-decoration-color: #008000\">'1871-1873'</span>: <span style=\"color: #008080; text-decoration-color: #008080; font-weight: bold\">1</span>,\n",
       "    <span style=\"color: #008000; text-decoration-color: #008000\">'1810'</span>: <span style=\"color: #008080; text-decoration-color: #008080; font-weight: bold\">3</span>,\n",
       "    <span style=\"color: #008000; text-decoration-color: #008000\">'1907'</span>: <span style=\"color: #008080; text-decoration-color: #008080; font-weight: bold\">1</span>,\n",
       "    <span style=\"color: #008000; text-decoration-color: #008000\">'1820'</span>: <span style=\"color: #008080; text-decoration-color: #008080; font-weight: bold\">5</span>,\n",
       "    <span style=\"color: #008000; text-decoration-color: #008000\">'1789'</span>: <span style=\"color: #008080; text-decoration-color: #008080; font-weight: bold\">5</span>\n",
       "<span style=\"font-weight: bold\">}</span>\n",
       "</pre>\n"
      ],
      "text/plain": [
       "\n",
       "\u001b[1m{\u001b[0m\n",
       "    \u001b[32m'1879'\u001b[0m: \u001b[1;36m99\u001b[0m,\n",
       "    \u001b[32m'1774'\u001b[0m: \u001b[1;36m5\u001b[0m,\n",
       "    \u001b[32m'1765'\u001b[0m: \u001b[1;36m5\u001b[0m,\n",
       "    \u001b[32m'1877'\u001b[0m: \u001b[1;36m69\u001b[0m,\n",
       "    \u001b[32m'1893'\u001b[0m: \u001b[1;36m222\u001b[0m,\n",
       "    \u001b[32m'1891'\u001b[0m: \u001b[1;36m148\u001b[0m,\n",
       "    \u001b[32m'1827'\u001b[0m: \u001b[1;36m29\u001b[0m,\n",
       "    \u001b[32m'1868'\u001b[0m: \u001b[1;36m42\u001b[0m,\n",
       "    \u001b[32m'1878'\u001b[0m: \u001b[1;36m72\u001b[0m,\n",
       "    \u001b[32m'1895'\u001b[0m: \u001b[1;36m189\u001b[0m,\n",
       "    \u001b[32m'1897'\u001b[0m: \u001b[1;36m120\u001b[0m,\n",
       "    \u001b[32m'1899'\u001b[0m: \u001b[1;36m104\u001b[0m,\n",
       "    \u001b[32m'1896'\u001b[0m: \u001b[1;36m174\u001b[0m,\n",
       "    \u001b[32m'1876'\u001b[0m: \u001b[1;36m48\u001b[0m,\n",
       "    \u001b[32m'1812'\u001b[0m: \u001b[1;36m13\u001b[0m,\n",
       "    \u001b[32m'1799'\u001b[0m: \u001b[1;36m8\u001b[0m,\n",
       "    \u001b[32m'1830'\u001b[0m: \u001b[1;36m32\u001b[0m,\n",
       "    \u001b[32m'1870'\u001b[0m: \u001b[1;36m42\u001b[0m,\n",
       "    \u001b[32m'1894'\u001b[0m: \u001b[1;36m155\u001b[0m,\n",
       "    \u001b[32m'1864'\u001b[0m: \u001b[1;36m28\u001b[0m,\n",
       "    \u001b[32m'1855'\u001b[0m: \u001b[1;36m42\u001b[0m,\n",
       "    \u001b[32m'1871'\u001b[0m: \u001b[1;36m42\u001b[0m,\n",
       "    \u001b[32m'1836'\u001b[0m: \u001b[1;36m37\u001b[0m,\n",
       "    \u001b[32m'1883'\u001b[0m: \u001b[1;36m51\u001b[0m,\n",
       "    \u001b[32m'1880'\u001b[0m: \u001b[1;36m111\u001b[0m,\n",
       "    \u001b[32m'1884'\u001b[0m: \u001b[1;36m69\u001b[0m,\n",
       "    \u001b[32m'1822'\u001b[0m: \u001b[1;36m16\u001b[0m,\n",
       "    \u001b[32m'1856'\u001b[0m: \u001b[1;36m38\u001b[0m,\n",
       "    \u001b[32m'1872'\u001b[0m: \u001b[1;36m42\u001b[0m,\n",
       "    \u001b[32m'1875'\u001b[0m: \u001b[1;36m57\u001b[0m,\n",
       "    \u001b[32m'1844'\u001b[0m: \u001b[1;36m35\u001b[0m,\n",
       "    \u001b[32m'1890'\u001b[0m: \u001b[1;36m134\u001b[0m,\n",
       "    \u001b[32m'1886'\u001b[0m: \u001b[1;36m43\u001b[0m,\n",
       "    \u001b[32m'1840'\u001b[0m: \u001b[1;36m15\u001b[0m,\n",
       "    \u001b[32m'1888'\u001b[0m: \u001b[1;36m109\u001b[0m,\n",
       "    \u001b[32m'1858'\u001b[0m: \u001b[1;36m43\u001b[0m,\n",
       "    \u001b[32m'1867'\u001b[0m: \u001b[1;36m53\u001b[0m,\n",
       "    \u001b[32m'1826'\u001b[0m: \u001b[1;36m24\u001b[0m,\n",
       "    \u001b[32m'1800'\u001b[0m: \u001b[1;36m3\u001b[0m,\n",
       "    \u001b[32m'1851'\u001b[0m: \u001b[1;36m43\u001b[0m,\n",
       "    \u001b[32m'1838'\u001b[0m: \u001b[1;36m14\u001b[0m,\n",
       "    \u001b[32m'1824'\u001b[0m: \u001b[1;36m20\u001b[0m,\n",
       "    \u001b[32m'1887'\u001b[0m: \u001b[1;36m58\u001b[0m,\n",
       "    \u001b[32m'1874'\u001b[0m: \u001b[1;36m42\u001b[0m,\n",
       "    \u001b[32m'1857'\u001b[0m: \u001b[1;36m44\u001b[0m,\n",
       "    \u001b[32m'1873'\u001b[0m: \u001b[1;36m34\u001b[0m,\n",
       "    \u001b[32m'1837'\u001b[0m: \u001b[1;36m16\u001b[0m,\n",
       "    \u001b[32m'1846'\u001b[0m: \u001b[1;36m32\u001b[0m,\n",
       "    \u001b[32m'1881'\u001b[0m: \u001b[1;36m55\u001b[0m,\n",
       "    \u001b[32m'1898'\u001b[0m: \u001b[1;36m104\u001b[0m,\n",
       "    \u001b[32m'1906'\u001b[0m: \u001b[1;36m4\u001b[0m,\n",
       "    \u001b[32m'1892'\u001b[0m: \u001b[1;36m134\u001b[0m,\n",
       "    \u001b[32m'1869'\u001b[0m: \u001b[1;36m25\u001b[0m,\n",
       "    \u001b[32m'1885'\u001b[0m: \u001b[1;36m69\u001b[0m,\n",
       "    \u001b[32m'1882'\u001b[0m: \u001b[1;36m71\u001b[0m,\n",
       "    \u001b[32m'1863'\u001b[0m: \u001b[1;36m55\u001b[0m,\n",
       "    \u001b[32m'1865'\u001b[0m: \u001b[1;36m53\u001b[0m,\n",
       "    \u001b[32m'1635'\u001b[0m: \u001b[1;36m3\u001b[0m,\n",
       "    \u001b[32m'1859'\u001b[0m: \u001b[1;36m39\u001b[0m,\n",
       "    \u001b[32m'1818'\u001b[0m: \u001b[1;36m17\u001b[0m,\n",
       "    \u001b[32m'1845'\u001b[0m: \u001b[1;36m28\u001b[0m,\n",
       "    \u001b[32m'1852'\u001b[0m: \u001b[1;36m43\u001b[0m,\n",
       "    \u001b[32m'1841'\u001b[0m: \u001b[1;36m23\u001b[0m,\n",
       "    \u001b[32m'1842'\u001b[0m: \u001b[1;36m29\u001b[0m,\n",
       "    \u001b[32m'1848'\u001b[0m: \u001b[1;36m28\u001b[0m,\n",
       "    \u001b[32m'1828'\u001b[0m: \u001b[1;36m23\u001b[0m,\n",
       "    \u001b[32m'1850'\u001b[0m: \u001b[1;36m38\u001b[0m,\n",
       "    \u001b[32m'1860'\u001b[0m: \u001b[1;36m45\u001b[0m,\n",
       "    \u001b[32m'1889'\u001b[0m: \u001b[1;36m140\u001b[0m,\n",
       "    \u001b[32m'1815'\u001b[0m: \u001b[1;36m5\u001b[0m,\n",
       "    \u001b[32m'1861'\u001b[0m: \u001b[1;36m28\u001b[0m,\n",
       "    \u001b[32m'1814'\u001b[0m: \u001b[1;36m13\u001b[0m,\n",
       "    \u001b[32m'1843'\u001b[0m: \u001b[1;36m28\u001b[0m,\n",
       "    \u001b[32m'1817'\u001b[0m: \u001b[1;36m12\u001b[0m,\n",
       "    \u001b[32m'1819'\u001b[0m: \u001b[1;36m16\u001b[0m,\n",
       "    \u001b[32m'1853'\u001b[0m: \u001b[1;36m34\u001b[0m,\n",
       "    \u001b[32m'1833'\u001b[0m: \u001b[1;36m5\u001b[0m,\n",
       "    \u001b[32m'1854'\u001b[0m: \u001b[1;36m36\u001b[0m,\n",
       "    \u001b[32m'1839'\u001b[0m: \u001b[1;36m33\u001b[0m,\n",
       "    \u001b[32m'1803'\u001b[0m: \u001b[1;36m7\u001b[0m,\n",
       "    \u001b[32m'1835'\u001b[0m: \u001b[1;36m14\u001b[0m,\n",
       "    \u001b[32m'1813'\u001b[0m: \u001b[1;36m8\u001b[0m,\n",
       "    \u001b[32m'1695'\u001b[0m: \u001b[1;36m4\u001b[0m,\n",
       "    \u001b[32m'1809-1811'\u001b[0m: \u001b[1;36m5\u001b[0m,\n",
       "    \u001b[32m'1832'\u001b[0m: \u001b[1;36m9\u001b[0m,\n",
       "    \u001b[32m'1823'\u001b[0m: \u001b[1;36m17\u001b[0m,\n",
       "    \u001b[32m'1847'\u001b[0m: \u001b[1;36m28\u001b[0m,\n",
       "    \u001b[32m'1816'\u001b[0m: \u001b[1;36m8\u001b[0m,\n",
       "    \u001b[32m'1806'\u001b[0m: \u001b[1;36m5\u001b[0m,\n",
       "    \u001b[32m'1866'\u001b[0m: \u001b[1;36m26\u001b[0m,\n",
       "    \u001b[32m'1829'\u001b[0m: \u001b[1;36m13\u001b[0m,\n",
       "    \u001b[32m'1791'\u001b[0m: \u001b[1;36m5\u001b[0m,\n",
       "    \u001b[32m'1637'\u001b[0m: \u001b[1;36m5\u001b[0m,\n",
       "    \u001b[32m'1821'\u001b[0m: \u001b[1;36m4\u001b[0m,\n",
       "    \u001b[32m'1807'\u001b[0m: \u001b[1;36m14\u001b[0m,\n",
       "    \u001b[32m'1862'\u001b[0m: \u001b[1;36m22\u001b[0m,\n",
       "    \u001b[32m'1795'\u001b[0m: \u001b[1;36m5\u001b[0m,\n",
       "    \u001b[32m'1834'\u001b[0m: \u001b[1;36m12\u001b[0m,\n",
       "    \u001b[32m'1831'\u001b[0m: \u001b[1;36m10\u001b[0m,\n",
       "    \u001b[32m'1849'\u001b[0m: \u001b[1;36m13\u001b[0m,\n",
       "    \u001b[32m'1811'\u001b[0m: \u001b[1;36m1\u001b[0m,\n",
       "    \u001b[32m'1825'\u001b[0m: \u001b[1;36m1\u001b[0m,\n",
       "    \u001b[32m'1809'\u001b[0m: \u001b[1;36m3\u001b[0m,\n",
       "    \u001b[32m'1905'\u001b[0m: \u001b[1;36m1\u001b[0m,\n",
       "    \u001b[32m'1808'\u001b[0m: \u001b[1;36m1\u001b[0m,\n",
       "    \u001b[32m'1900'\u001b[0m: \u001b[1;36m5\u001b[0m,\n",
       "    \u001b[32m'1892-1912'\u001b[0m: \u001b[1;36m1\u001b[0m,\n",
       "    \u001b[32m'1804'\u001b[0m: \u001b[1;36m4\u001b[0m,\n",
       "    \u001b[32m'1769'\u001b[0m: \u001b[1;36m5\u001b[0m,\n",
       "    \u001b[32m'1910'\u001b[0m: \u001b[1;36m1\u001b[0m,\n",
       "    \u001b[32m'1805'\u001b[0m: \u001b[1;36m5\u001b[0m,\n",
       "    \u001b[32m'1802'\u001b[0m: \u001b[1;36m3\u001b[0m,\n",
       "    \u001b[32m'1871-'\u001b[0m: \u001b[1;36m1\u001b[0m,\n",
       "    \u001b[32m'1901'\u001b[0m: \u001b[1;36m5\u001b[0m,\n",
       "    \u001b[32m'1884-1909'\u001b[0m: \u001b[1;36m1\u001b[0m,\n",
       "    \u001b[32m'1873-1887'\u001b[0m: \u001b[1;36m1\u001b[0m,\n",
       "    \u001b[32m'1979'\u001b[0m: \u001b[1;36m1\u001b[0m,\n",
       "    \u001b[32m'1852-1941'\u001b[0m: \u001b[1;36m1\u001b[0m,\n",
       "    \u001b[32m'1903'\u001b[0m: \u001b[1;36m1\u001b[0m,\n",
       "    \u001b[32m'1871-1873'\u001b[0m: \u001b[1;36m1\u001b[0m,\n",
       "    \u001b[32m'1810'\u001b[0m: \u001b[1;36m3\u001b[0m,\n",
       "    \u001b[32m'1907'\u001b[0m: \u001b[1;36m1\u001b[0m,\n",
       "    \u001b[32m'1820'\u001b[0m: \u001b[1;36m5\u001b[0m,\n",
       "    \u001b[32m'1789'\u001b[0m: \u001b[1;36m5\u001b[0m\n",
       "\u001b[1m}\u001b[0m\n"
      ]
     },
     "metadata": {},
     "output_type": "display_data"
    }
   ],
   "source": [
    "# collapse_hide\n",
    "\n",
    "frequencies(dates)"
   ]
  },
  {
   "cell_type": "markdown",
   "metadata": {
    "id": "ko_frygKn1go"
   },
   "source": [
    "## Make it parallel!\n",
    "\n",
    "If our data doesn't fit in memory or we want to do things in parallel we might want to use a slightly different approach. This is where dask can play a role. \n",
    "\n",
    "Dask offers a number of different collection abstractions that make it easier to do things in parallel. This includes dask bag.\n",
    "\n",
    "First we'll create a dask client here, I won't dig into the details of this here but you can get a good overview in the [getting started](https://www.dask.org/get-started) pages. "
   ]
  },
  {
   "cell_type": "code",
   "execution_count": 9,
   "metadata": {},
   "outputs": [],
   "source": [
    "from distributed import Client"
   ]
  },
  {
   "cell_type": "code",
   "execution_count": 10,
   "metadata": {},
   "outputs": [],
   "source": [
    "client = Client()"
   ]
  },
  {
   "cell_type": "markdown",
   "metadata": {},
   "source": [
    "Since we don't want to load all of our data into memory we can great a generator that will yield one row at a time. In this case we'll start by exploring the `Title` column "
   ]
  },
  {
   "cell_type": "code",
   "execution_count": 63,
   "metadata": {
    "id": "modIC-hIj0Vs"
   },
   "outputs": [],
   "source": [
    "def yield_titles():\n",
    "    for row in ds:\n",
    "        yield row[\"Title\"]"
   ]
  },
  {
   "cell_type": "markdown",
   "metadata": {},
   "source": [
    "We can see that this returns a generator "
   ]
  },
  {
   "cell_type": "code",
   "execution_count": 64,
   "metadata": {
    "colab": {
     "base_uri": "https://localhost:8080/"
    },
    "id": "qDFTGtUuj6xk",
    "outputId": "0fe3d283-19ec-4c47-e851-dca5292759c5"
   },
   "outputs": [
    {
     "data": {
      "text/html": [
       "<pre style=\"white-space:pre;overflow-x:auto;line-height:normal;font-family:Menlo,'DejaVu Sans Mono',consolas,'Courier New',monospace\"><span style=\"font-weight: bold\">&lt;</span><span style=\"color: #ff00ff; text-decoration-color: #ff00ff; font-weight: bold\">generator</span><span style=\"color: #000000; text-decoration-color: #000000\"> object yield_titles at </span><span style=\"color: #008080; text-decoration-color: #008080; font-weight: bold\">0x7ffc28fdc040</span><span style=\"font-weight: bold\">&gt;</span>\n",
       "</pre>\n"
      ],
      "text/plain": [
       "\u001b[1m<\u001b[0m\u001b[1;95mgenerator\u001b[0m\u001b[39m object yield_titles at \u001b[0m\u001b[1;36m0x7ffc28fdc040\u001b[0m\u001b[1m>\u001b[0m\n"
      ]
     },
     "metadata": {},
     "output_type": "display_data"
    }
   ],
   "source": [
    "yield_titles()"
   ]
  },
  {
   "cell_type": "code",
   "execution_count": 65,
   "metadata": {
    "colab": {
     "base_uri": "https://localhost:8080/",
     "height": 36
    },
    "id": "y3R8YVXykUQX",
    "outputId": "91bdfcae-1b6e-4c6b-a586-7375b00ee9bc"
   },
   "outputs": [
    {
     "data": {
      "text/html": [
       "<pre style=\"white-space:pre;overflow-x:auto;line-height:normal;font-family:Menlo,'DejaVu Sans Mono',consolas,'Courier New',monospace\"><span style=\"color: #008000; text-decoration-color: #008000\">'The Canadian farmer. A missionary incident [Signed: W. J. H. Y, i.e. William J. H. Yates.]'</span>\n",
       "</pre>\n"
      ],
      "text/plain": [
       "\u001b[32m'The Canadian farmer. A missionary incident \u001b[0m\u001b[32m[\u001b[0m\u001b[32mSigned: W. J. H. Y, i.e. William J. H. Yates.\u001b[0m\u001b[32m]\u001b[0m\u001b[32m'\u001b[0m\n"
      ]
     },
     "metadata": {},
     "output_type": "display_data"
    }
   ],
   "source": [
    "next(iter(yield_titles()))"
   ]
  },
  {
   "cell_type": "markdown",
   "metadata": {},
   "source": [
    "We can store this in a titles variable. "
   ]
  },
  {
   "cell_type": "code",
   "execution_count": 21,
   "metadata": {
    "id": "HVbIYOEwkVt-"
   },
   "outputs": [],
   "source": [
    "titles = yield_titles()"
   ]
  },
  {
   "cell_type": "markdown",
   "metadata": {},
   "source": [
    "We'll now import dask bag. "
   ]
  },
  {
   "cell_type": "markdown",
   "metadata": {
    "id": "d44WSkiDkhEo"
   },
   "source": [
    "import dask.bag as db"
   ]
  },
  {
   "cell_type": "markdown",
   "metadata": {},
   "source": [
    "We can create a dask bag object using the `from_sequence` method. "
   ]
  },
  {
   "cell_type": "code",
   "execution_count": 69,
   "metadata": {
    "id": "UPKp665fkjmn"
   },
   "outputs": [],
   "source": [
    "bag = db.from_sequence(titles)"
   ]
  },
  {
   "cell_type": "code",
   "execution_count": 70,
   "metadata": {},
   "outputs": [
    {
     "data": {
      "text/html": [
       "<pre style=\"white-space:pre;overflow-x:auto;line-height:normal;font-family:Menlo,'DejaVu Sans Mono',consolas,'Courier New',monospace\">dask.bag<span style=\"font-weight: bold\">&lt;</span><span style=\"color: #ff00ff; text-decoration-color: #ff00ff; font-weight: bold\">from_sequence</span><span style=\"color: #000000; text-decoration-color: #000000\">, </span><span style=\"color: #808000; text-decoration-color: #808000\">npartitions</span><span style=\"color: #000000; text-decoration-color: #000000\">=</span><span style=\"color: #008080; text-decoration-color: #008080; font-weight: bold\">1</span><span style=\"font-weight: bold\">&gt;</span>\n",
       "</pre>\n"
      ],
      "text/plain": [
       "dask.bag\u001b[1m<\u001b[0m\u001b[1;95mfrom_sequence\u001b[0m\u001b[39m, \u001b[0m\u001b[33mnpartitions\u001b[0m\u001b[39m=\u001b[0m\u001b[1;36m1\u001b[0m\u001b[1m>\u001b[0m\n"
      ]
     },
     "metadata": {},
     "output_type": "display_data"
    }
   ],
   "source": [
    "bag"
   ]
  },
  {
   "cell_type": "markdown",
   "metadata": {},
   "source": [
    "We can look at an example using the `take` method"
   ]
  },
  {
   "cell_type": "code",
   "execution_count": 68,
   "metadata": {
    "colab": {
     "base_uri": "https://localhost:8080/"
    },
    "id": "uSL2Den-kl8O",
    "outputId": "dacee933-d4c0-4fc1-b7ce-2d4b8ce800b7"
   },
   "outputs": [
    {
     "data": {
      "text/html": [
       "<pre style=\"white-space:pre;overflow-x:auto;line-height:normal;font-family:Menlo,'DejaVu Sans Mono',consolas,'Courier New',monospace\">\n",
       "<span style=\"font-weight: bold\">(</span>\n",
       "    <span style=\"font-weight: bold\">[</span>\n",
       "        <span style=\"color: #008000; text-decoration-color: #008000\">'The'</span>,\n",
       "        <span style=\"color: #008000; text-decoration-color: #008000\">'Canadian'</span>,\n",
       "        <span style=\"color: #008000; text-decoration-color: #008000\">'farmer.'</span>,\n",
       "        <span style=\"color: #008000; text-decoration-color: #008000\">'A'</span>,\n",
       "        <span style=\"color: #008000; text-decoration-color: #008000\">'missionary'</span>,\n",
       "        <span style=\"color: #008000; text-decoration-color: #008000\">'incident'</span>,\n",
       "        <span style=\"color: #008000; text-decoration-color: #008000\">'[Signed:'</span>,\n",
       "        <span style=\"color: #008000; text-decoration-color: #008000\">'W.'</span>,\n",
       "        <span style=\"color: #008000; text-decoration-color: #008000\">'J.'</span>,\n",
       "        <span style=\"color: #008000; text-decoration-color: #008000\">'H.'</span>,\n",
       "        <span style=\"color: #008000; text-decoration-color: #008000\">'Y,'</span>,\n",
       "        <span style=\"color: #008000; text-decoration-color: #008000\">'i.e.'</span>,\n",
       "        <span style=\"color: #008000; text-decoration-color: #008000\">'William'</span>,\n",
       "        <span style=\"color: #008000; text-decoration-color: #008000\">'J.'</span>,\n",
       "        <span style=\"color: #008000; text-decoration-color: #008000\">'H.'</span>,\n",
       "        <span style=\"color: #008000; text-decoration-color: #008000\">'Yates.]'</span>\n",
       "    <span style=\"font-weight: bold\">]</span>,\n",
       "<span style=\"font-weight: bold\">)</span>\n",
       "</pre>\n"
      ],
      "text/plain": [
       "\n",
       "\u001b[1m(\u001b[0m\n",
       "    \u001b[1m[\u001b[0m\n",
       "        \u001b[32m'The'\u001b[0m,\n",
       "        \u001b[32m'Canadian'\u001b[0m,\n",
       "        \u001b[32m'farmer.'\u001b[0m,\n",
       "        \u001b[32m'A'\u001b[0m,\n",
       "        \u001b[32m'missionary'\u001b[0m,\n",
       "        \u001b[32m'incident'\u001b[0m,\n",
       "        \u001b[32m'\u001b[0m\u001b[32m[\u001b[0m\u001b[32mSigned:'\u001b[0m,\n",
       "        \u001b[32m'W.'\u001b[0m,\n",
       "        \u001b[32m'J.'\u001b[0m,\n",
       "        \u001b[32m'H.'\u001b[0m,\n",
       "        \u001b[32m'Y,'\u001b[0m,\n",
       "        \u001b[32m'i.e.'\u001b[0m,\n",
       "        \u001b[32m'William'\u001b[0m,\n",
       "        \u001b[32m'J.'\u001b[0m,\n",
       "        \u001b[32m'H.'\u001b[0m,\n",
       "        \u001b[32m'Yates.\u001b[0m\u001b[32m]\u001b[0m\u001b[32m'\u001b[0m\n",
       "    \u001b[1m]\u001b[0m,\n",
       "\u001b[1m)\u001b[0m\n"
      ]
     },
     "metadata": {},
     "output_type": "display_data"
    }
   ],
   "source": [
    "bag.take(1)"
   ]
  },
  {
   "cell_type": "markdown",
   "metadata": {},
   "source": [
    "dask bag has a bunch of handy methods for processing data (some of these we could also do in 🤗 datasets but others are not available as specific methods in datasets). \n",
    "\n",
    "For example we can make sure we only have unique titles using the `distinct` method. "
   ]
  },
  {
   "cell_type": "code",
   "execution_count": 26,
   "metadata": {
    "id": "afOe5tr7kowe"
   },
   "outputs": [],
   "source": [
    "unique_titles = bag.distinct()"
   ]
  },
  {
   "cell_type": "code",
   "execution_count": 27,
   "metadata": {
    "colab": {
     "base_uri": "https://localhost:8080/"
    },
    "id": "hWVI4HZykxuy",
    "outputId": "4392f098-1f1d-4950-daeb-679de217d111"
   },
   "outputs": [
    {
     "data": {
      "text/html": [
       "<pre style=\"white-space:pre;overflow-x:auto;line-height:normal;font-family:Menlo,'DejaVu Sans Mono',consolas,'Courier New',monospace\">\n",
       "<span style=\"font-weight: bold\">(</span>\n",
       "    <span style=\"color: #008000; text-decoration-color: #008000\">'The Canadian farmer. A missionary incident [Signed: W. J. H. Y, i.e. William J. H. Yates.]'</span>,\n",
       "    <span style=\"color: #008000; text-decoration-color: #008000\">'A new musical Interlude, called the Election [By M. P. Andrews.]'</span>,\n",
       "    <span style=\"color: #008000; text-decoration-color: #008000\">'An Elegy written among the ruins of an Abbey. By the author of the Nun [E. Jerningham]'</span>,\n",
       "    <span style=\"color: #008000; text-decoration-color: #008000\">\"The Baron's Daughter. A ballad by the author of Poetical Recreations [i.e. William C. Hazlitt] . F.P\"</span>\n",
       "<span style=\"font-weight: bold\">)</span>\n",
       "</pre>\n"
      ],
      "text/plain": [
       "\n",
       "\u001b[1m(\u001b[0m\n",
       "    \u001b[32m'The Canadian farmer. A missionary incident \u001b[0m\u001b[32m[\u001b[0m\u001b[32mSigned: W. J. H. Y, i.e. William J. H. Yates.\u001b[0m\u001b[32m]\u001b[0m\u001b[32m'\u001b[0m,\n",
       "    \u001b[32m'A new musical Interlude, called the Election \u001b[0m\u001b[32m[\u001b[0m\u001b[32mBy M. P. Andrews.\u001b[0m\u001b[32m]\u001b[0m\u001b[32m'\u001b[0m,\n",
       "    \u001b[32m'An Elegy written among the ruins of an Abbey. By the author of the Nun \u001b[0m\u001b[32m[\u001b[0m\u001b[32mE. Jerningham\u001b[0m\u001b[32m]\u001b[0m\u001b[32m'\u001b[0m,\n",
       "    \u001b[32m\"The Baron's Daughter. A ballad by the author of Poetical Recreations \u001b[0m\u001b[32m[\u001b[0m\u001b[32mi.e. William C. Hazlitt\u001b[0m\u001b[32m]\u001b[0m\u001b[32m . F.P\"\u001b[0m\n",
       "\u001b[1m)\u001b[0m\n"
      ]
     },
     "metadata": {},
     "output_type": "display_data"
    }
   ],
   "source": [
    "unique_titles.take(4)"
   ]
  },
  {
   "cell_type": "markdown",
   "metadata": {
    "id": "YCZP1Zh2kzGB"
   },
   "source": [
    "Similar to 🤗 datasets we have a map method that we can use to apply a function to all of our examples. In this case we split the title text into individual words. \n"
   ]
  },
  {
   "cell_type": "code",
   "execution_count": 39,
   "metadata": {
    "id": "1vrcwsMXlAi6"
   },
   "outputs": [],
   "source": [
    "title_words_split = unique_titles.map(lambda x: x.split(\" \"))"
   ]
  },
  {
   "cell_type": "code",
   "execution_count": 71,
   "metadata": {
    "colab": {
     "base_uri": "https://localhost:8080/"
    },
    "id": "CIrlsZonlEmu",
    "outputId": "51037d54-2f8c-4f67-903c-9408c7fc5b4c"
   },
   "outputs": [
    {
     "data": {
      "text/html": [
       "<pre style=\"white-space:pre;overflow-x:auto;line-height:normal;font-family:Menlo,'DejaVu Sans Mono',consolas,'Courier New',monospace\">\n",
       "<span style=\"font-weight: bold\">(</span>\n",
       "    <span style=\"font-weight: bold\">[</span>\n",
       "        <span style=\"color: #008000; text-decoration-color: #008000\">'The'</span>,\n",
       "        <span style=\"color: #008000; text-decoration-color: #008000\">'Canadian'</span>,\n",
       "        <span style=\"color: #008000; text-decoration-color: #008000\">'farmer.'</span>,\n",
       "        <span style=\"color: #008000; text-decoration-color: #008000\">'A'</span>,\n",
       "        <span style=\"color: #008000; text-decoration-color: #008000\">'missionary'</span>,\n",
       "        <span style=\"color: #008000; text-decoration-color: #008000\">'incident'</span>,\n",
       "        <span style=\"color: #008000; text-decoration-color: #008000\">'[Signed:'</span>,\n",
       "        <span style=\"color: #008000; text-decoration-color: #008000\">'W.'</span>,\n",
       "        <span style=\"color: #008000; text-decoration-color: #008000\">'J.'</span>,\n",
       "        <span style=\"color: #008000; text-decoration-color: #008000\">'H.'</span>,\n",
       "        <span style=\"color: #008000; text-decoration-color: #008000\">'Y,'</span>,\n",
       "        <span style=\"color: #008000; text-decoration-color: #008000\">'i.e.'</span>,\n",
       "        <span style=\"color: #008000; text-decoration-color: #008000\">'William'</span>,\n",
       "        <span style=\"color: #008000; text-decoration-color: #008000\">'J.'</span>,\n",
       "        <span style=\"color: #008000; text-decoration-color: #008000\">'H.'</span>,\n",
       "        <span style=\"color: #008000; text-decoration-color: #008000\">'Yates.]'</span>\n",
       "    <span style=\"font-weight: bold\">]</span>,\n",
       "    <span style=\"font-weight: bold\">[</span>\n",
       "        <span style=\"color: #008000; text-decoration-color: #008000\">'A'</span>,\n",
       "        <span style=\"color: #008000; text-decoration-color: #008000\">'new'</span>,\n",
       "        <span style=\"color: #008000; text-decoration-color: #008000\">'musical'</span>,\n",
       "        <span style=\"color: #008000; text-decoration-color: #008000\">'Interlude,'</span>,\n",
       "        <span style=\"color: #008000; text-decoration-color: #008000\">'called'</span>,\n",
       "        <span style=\"color: #008000; text-decoration-color: #008000\">'the'</span>,\n",
       "        <span style=\"color: #008000; text-decoration-color: #008000\">'Election'</span>,\n",
       "        <span style=\"color: #008000; text-decoration-color: #008000\">'[By'</span>,\n",
       "        <span style=\"color: #008000; text-decoration-color: #008000\">'M.'</span>,\n",
       "        <span style=\"color: #008000; text-decoration-color: #008000\">'P.'</span>,\n",
       "        <span style=\"color: #008000; text-decoration-color: #008000\">'Andrews.]'</span>\n",
       "    <span style=\"font-weight: bold\">]</span>\n",
       "<span style=\"font-weight: bold\">)</span>\n",
       "</pre>\n"
      ],
      "text/plain": [
       "\n",
       "\u001b[1m(\u001b[0m\n",
       "    \u001b[1m[\u001b[0m\n",
       "        \u001b[32m'The'\u001b[0m,\n",
       "        \u001b[32m'Canadian'\u001b[0m,\n",
       "        \u001b[32m'farmer.'\u001b[0m,\n",
       "        \u001b[32m'A'\u001b[0m,\n",
       "        \u001b[32m'missionary'\u001b[0m,\n",
       "        \u001b[32m'incident'\u001b[0m,\n",
       "        \u001b[32m'\u001b[0m\u001b[32m[\u001b[0m\u001b[32mSigned:'\u001b[0m,\n",
       "        \u001b[32m'W.'\u001b[0m,\n",
       "        \u001b[32m'J.'\u001b[0m,\n",
       "        \u001b[32m'H.'\u001b[0m,\n",
       "        \u001b[32m'Y,'\u001b[0m,\n",
       "        \u001b[32m'i.e.'\u001b[0m,\n",
       "        \u001b[32m'William'\u001b[0m,\n",
       "        \u001b[32m'J.'\u001b[0m,\n",
       "        \u001b[32m'H.'\u001b[0m,\n",
       "        \u001b[32m'Yates.\u001b[0m\u001b[32m]\u001b[0m\u001b[32m'\u001b[0m\n",
       "    \u001b[1m]\u001b[0m,\n",
       "    \u001b[1m[\u001b[0m\n",
       "        \u001b[32m'A'\u001b[0m,\n",
       "        \u001b[32m'new'\u001b[0m,\n",
       "        \u001b[32m'musical'\u001b[0m,\n",
       "        \u001b[32m'Interlude,'\u001b[0m,\n",
       "        \u001b[32m'called'\u001b[0m,\n",
       "        \u001b[32m'the'\u001b[0m,\n",
       "        \u001b[32m'Election'\u001b[0m,\n",
       "        \u001b[32m'\u001b[0m\u001b[32m[\u001b[0m\u001b[32mBy'\u001b[0m,\n",
       "        \u001b[32m'M.'\u001b[0m,\n",
       "        \u001b[32m'P.'\u001b[0m,\n",
       "        \u001b[32m'Andrews.\u001b[0m\u001b[32m]\u001b[0m\u001b[32m'\u001b[0m\n",
       "    \u001b[1m]\u001b[0m\n",
       "\u001b[1m)\u001b[0m\n"
      ]
     },
     "metadata": {},
     "output_type": "display_data"
    }
   ],
   "source": [
    "title_words_split.take(2)"
   ]
  },
  {
   "cell_type": "markdown",
   "metadata": {
    "id": "D0LQxfYEk9id"
   },
   "source": [
    "We can see we now have all our words in a list. Helpfully dask bag has a `flatten` method. This will consume our lists and put all the words in a single sequence. "
   ]
  },
  {
   "cell_type": "code",
   "execution_count": 73,
   "metadata": {
    "id": "JDBCPDP2lFd2"
   },
   "outputs": [],
   "source": [
    "flattend_title_words = title_words_split.flatten()"
   ]
  },
  {
   "cell_type": "code",
   "execution_count": 74,
   "metadata": {
    "colab": {
     "base_uri": "https://localhost:8080/"
    },
    "id": "UMiAV4sjlKz4",
    "outputId": "9c473358-4520-42f0-cb0e-3e6696e86283"
   },
   "outputs": [
    {
     "data": {
      "text/html": [
       "<pre style=\"white-space:pre;overflow-x:auto;line-height:normal;font-family:Menlo,'DejaVu Sans Mono',consolas,'Courier New',monospace\"><span style=\"font-weight: bold\">(</span><span style=\"color: #008000; text-decoration-color: #008000\">'The'</span>, <span style=\"color: #008000; text-decoration-color: #008000\">'Canadian'</span><span style=\"font-weight: bold\">)</span>\n",
       "</pre>\n"
      ],
      "text/plain": [
       "\u001b[1m(\u001b[0m\u001b[32m'The'\u001b[0m, \u001b[32m'Canadian'\u001b[0m\u001b[1m)\u001b[0m\n"
      ]
     },
     "metadata": {},
     "output_type": "display_data"
    }
   ],
   "source": [
    "flattend_title_words.take(2)"
   ]
  },
  {
   "cell_type": "markdown",
   "metadata": {},
   "source": [
    "We could now use the `frequencies` method to get the top words. "
   ]
  },
  {
   "cell_type": "code",
   "execution_count": 75,
   "metadata": {
    "colab": {
     "base_uri": "https://localhost:8080/"
    },
    "id": "4NIeaL0klZhI",
    "outputId": "7d7a32e3-6a82-4437-996d-ba325dc18758"
   },
   "outputs": [],
   "source": [
    "freqs = flattend_title_words.frequencies(sort=True)"
   ]
  },
  {
   "cell_type": "code",
   "execution_count": 76,
   "metadata": {},
   "outputs": [
    {
     "data": {
      "text/html": [
       "<pre style=\"white-space:pre;overflow-x:auto;line-height:normal;font-family:Menlo,'DejaVu Sans Mono',consolas,'Courier New',monospace\">dask.bag<span style=\"font-weight: bold\">&lt;</span><span style=\"color: #ff00ff; text-decoration-color: #ff00ff; font-weight: bold\">sorted</span><span style=\"color: #000000; text-decoration-color: #000000\">, </span><span style=\"color: #808000; text-decoration-color: #808000\">npartitions</span><span style=\"color: #000000; text-decoration-color: #000000\">=</span><span style=\"color: #008080; text-decoration-color: #008080; font-weight: bold\">1</span><span style=\"font-weight: bold\">&gt;</span>\n",
       "</pre>\n"
      ],
      "text/plain": [
       "dask.bag\u001b[1m<\u001b[0m\u001b[1;95msorted\u001b[0m\u001b[39m, \u001b[0m\u001b[33mnpartitions\u001b[0m\u001b[39m=\u001b[0m\u001b[1;36m1\u001b[0m\u001b[1m>\u001b[0m\n"
      ]
     },
     "metadata": {},
     "output_type": "display_data"
    }
   ],
   "source": [
    "freqs"
   ]
  },
  {
   "cell_type": "markdown",
   "metadata": {},
   "source": [
    "Since dask bag methods are lazy by default nothing has actually been calculated yet. We could just grab the top 10 words. "
   ]
  },
  {
   "cell_type": "code",
   "execution_count": 77,
   "metadata": {},
   "outputs": [],
   "source": [
    "top_10_words = freqs.topk(10, key=1)"
   ]
  },
  {
   "cell_type": "markdown",
   "metadata": {},
   "source": [
    "If we want the results of something we call `compute` which will call all of the chained methods on our bag. \n"
   ]
  },
  {
   "cell_type": "code",
   "execution_count": 78,
   "metadata": {},
   "outputs": [
    {
     "data": {
      "text/html": [
       "<pre style=\"white-space:pre;overflow-x:auto;line-height:normal;font-family:Menlo,'DejaVu Sans Mono',consolas,'Courier New',monospace\">\n",
       "<span style=\"font-weight: bold\">[</span>\n",
       "    <span style=\"font-weight: bold\">(</span><span style=\"color: #008000; text-decoration-color: #008000\">'of'</span>, <span style=\"color: #008080; text-decoration-color: #008080; font-weight: bold\">808</span><span style=\"font-weight: bold\">)</span>,\n",
       "    <span style=\"font-weight: bold\">(</span><span style=\"color: #008000; text-decoration-color: #008000\">'the'</span>, <span style=\"color: #008080; text-decoration-color: #008080; font-weight: bold\">674</span><span style=\"font-weight: bold\">)</span>,\n",
       "    <span style=\"font-weight: bold\">(</span><span style=\"color: #008000; text-decoration-color: #008000\">'and'</span>, <span style=\"color: #008080; text-decoration-color: #008080; font-weight: bold\">550</span><span style=\"font-weight: bold\">)</span>,\n",
       "    <span style=\"font-weight: bold\">(</span><span style=\"color: #008000; text-decoration-color: #008000\">'...'</span>, <span style=\"color: #008080; text-decoration-color: #008080; font-weight: bold\">518</span><span style=\"font-weight: bold\">)</span>,\n",
       "    <span style=\"font-weight: bold\">(</span><span style=\"color: #008000; text-decoration-color: #008000\">'in'</span>, <span style=\"color: #008080; text-decoration-color: #008080; font-weight: bold\">402</span><span style=\"font-weight: bold\">)</span>,\n",
       "    <span style=\"font-weight: bold\">(</span><span style=\"color: #008000; text-decoration-color: #008000\">'van'</span>, <span style=\"color: #008080; text-decoration-color: #008080; font-weight: bold\">306</span><span style=\"font-weight: bold\">)</span>,\n",
       "    <span style=\"font-weight: bold\">(</span><span style=\"color: #008000; text-decoration-color: #008000\">'etc'</span>, <span style=\"color: #008080; text-decoration-color: #008080; font-weight: bold\">301</span><span style=\"font-weight: bold\">)</span>,\n",
       "    <span style=\"font-weight: bold\">(</span><span style=\"color: #008000; text-decoration-color: #008000\">'de'</span>, <span style=\"color: #008080; text-decoration-color: #008080; font-weight: bold\">258</span><span style=\"font-weight: bold\">)</span>,\n",
       "    <span style=\"font-weight: bold\">(</span><span style=\"color: #008000; text-decoration-color: #008000\">'en'</span>, <span style=\"color: #008080; text-decoration-color: #008080; font-weight: bold\">258</span><span style=\"font-weight: bold\">)</span>,\n",
       "    <span style=\"font-weight: bold\">(</span><span style=\"color: #008000; text-decoration-color: #008000\">'a'</span>, <span style=\"color: #008080; text-decoration-color: #008080; font-weight: bold\">231</span><span style=\"font-weight: bold\">)</span>\n",
       "<span style=\"font-weight: bold\">]</span>\n",
       "</pre>\n"
      ],
      "text/plain": [
       "\n",
       "\u001b[1m[\u001b[0m\n",
       "    \u001b[1m(\u001b[0m\u001b[32m'of'\u001b[0m, \u001b[1;36m808\u001b[0m\u001b[1m)\u001b[0m,\n",
       "    \u001b[1m(\u001b[0m\u001b[32m'the'\u001b[0m, \u001b[1;36m674\u001b[0m\u001b[1m)\u001b[0m,\n",
       "    \u001b[1m(\u001b[0m\u001b[32m'and'\u001b[0m, \u001b[1;36m550\u001b[0m\u001b[1m)\u001b[0m,\n",
       "    \u001b[1m(\u001b[0m\u001b[32m'...'\u001b[0m, \u001b[1;36m518\u001b[0m\u001b[1m)\u001b[0m,\n",
       "    \u001b[1m(\u001b[0m\u001b[32m'in'\u001b[0m, \u001b[1;36m402\u001b[0m\u001b[1m)\u001b[0m,\n",
       "    \u001b[1m(\u001b[0m\u001b[32m'van'\u001b[0m, \u001b[1;36m306\u001b[0m\u001b[1m)\u001b[0m,\n",
       "    \u001b[1m(\u001b[0m\u001b[32m'etc'\u001b[0m, \u001b[1;36m301\u001b[0m\u001b[1m)\u001b[0m,\n",
       "    \u001b[1m(\u001b[0m\u001b[32m'de'\u001b[0m, \u001b[1;36m258\u001b[0m\u001b[1m)\u001b[0m,\n",
       "    \u001b[1m(\u001b[0m\u001b[32m'en'\u001b[0m, \u001b[1;36m258\u001b[0m\u001b[1m)\u001b[0m,\n",
       "    \u001b[1m(\u001b[0m\u001b[32m'a'\u001b[0m, \u001b[1;36m231\u001b[0m\u001b[1m)\u001b[0m\n",
       "\u001b[1m]\u001b[0m\n"
      ]
     },
     "metadata": {},
     "output_type": "display_data"
    }
   ],
   "source": [
    "top_10_words.compute()"
   ]
  },
  {
   "cell_type": "markdown",
   "metadata": {},
   "source": [
    "We could also do the same with lowered version "
   ]
  },
  {
   "cell_type": "code",
   "execution_count": 79,
   "metadata": {},
   "outputs": [],
   "source": [
    "lowered_title_words = flattend_title_words.map(lambda x: x.lower())"
   ]
  },
  {
   "cell_type": "code",
   "execution_count": 80,
   "metadata": {},
   "outputs": [],
   "source": [
    "freqs = lowered_title_words.frequencies(sort=True)"
   ]
  },
  {
   "cell_type": "markdown",
   "metadata": {},
   "source": [
    "The visualize method gives you some insights into how the computation is managed by dask. "
   ]
  },
  {
   "cell_type": "code",
   "execution_count": 81,
   "metadata": {},
   "outputs": [
    {
     "data": {
      "application/vnd.jupyter.widget-view+json": {
       "model_id": "d985cef20e334ec49f640e264f51b494",
       "version_major": 2,
       "version_minor": 0
      },
      "text/plain": [
       "CytoscapeWidget(cytoscape_layout={'name': 'dagre', 'rankDir': 'BT', 'nodeSep': 10, 'edgeSep': 10, 'spacingFact…"
      ]
     },
     "metadata": {},
     "output_type": "display_data"
    }
   ],
   "source": [
    "freqs.visualize(engine=\"cytoscape\", optimize_graph=True)"
   ]
  },
  {
   "cell_type": "markdown",
   "metadata": {},
   "source": [
    "## Moving from datasets to a dask dataframe \n",
    "\n",
    "For some operations, dask bag is super easy to use. Sometimes though you will hurt your brain trying to crow bar your problem into the dask bag API 😵‍💫 This is where dask dataframes come in! Using parquet, we can easily save our 🤗 dataset as a parquet file. "
   ]
  },
  {
   "cell_type": "code",
   "execution_count": 44,
   "metadata": {},
   "outputs": [
    {
     "data": {
      "text/plain": [
       "3583138"
      ]
     },
     "execution_count": 44,
     "metadata": {},
     "output_type": "execute_result"
    }
   ],
   "source": [
    "ds.to_parquet(\"genre.parquet\")"
   ]
  },
  {
   "cell_type": "code",
   "execution_count": 84,
   "metadata": {},
   "outputs": [],
   "source": [
    "import dask.dataframe as dd"
   ]
  },
  {
   "cell_type": "markdown",
   "metadata": {},
   "source": [
    "and load from this file"
   ]
  },
  {
   "cell_type": "code",
   "execution_count": 85,
   "metadata": {},
   "outputs": [],
   "source": [
    "ddf = dd.read_parquet(\"genre.parquet\")"
   ]
  },
  {
   "cell_type": "markdown",
   "metadata": {},
   "source": [
    "As dask dataframe works quite similar to a pandas dataframe. It is lazy by default so if we just print it out"
   ]
  },
  {
   "cell_type": "code",
   "execution_count": 86,
   "metadata": {},
   "outputs": [
    {
     "data": {
      "text/html": [
       "<div><strong>Dask DataFrame Structure:</strong></div>\n",
       "<div>\n",
       "<style scoped>\n",
       "    .dataframe tbody tr th:only-of-type {\n",
       "        vertical-align: middle;\n",
       "    }\n",
       "\n",
       "    .dataframe tbody tr th {\n",
       "        vertical-align: top;\n",
       "    }\n",
       "\n",
       "    .dataframe thead th {\n",
       "        text-align: right;\n",
       "    }\n",
       "</style>\n",
       "<table border=\"1\" class=\"dataframe\">\n",
       "  <thead>\n",
       "    <tr style=\"text-align: right;\">\n",
       "      <th></th>\n",
       "      <th>BL record ID</th>\n",
       "      <th>Name</th>\n",
       "      <th>Dates associated with name</th>\n",
       "      <th>Type of name</th>\n",
       "      <th>Role</th>\n",
       "      <th>All names</th>\n",
       "      <th>Title</th>\n",
       "      <th>Variant titles</th>\n",
       "      <th>Series title</th>\n",
       "      <th>Number within series</th>\n",
       "      <th>Country of publication</th>\n",
       "      <th>Place of publication</th>\n",
       "      <th>Publisher</th>\n",
       "      <th>Date of publication</th>\n",
       "      <th>Edition</th>\n",
       "      <th>Physical description</th>\n",
       "      <th>Dewey classification</th>\n",
       "      <th>BL shelfmark</th>\n",
       "      <th>Topics</th>\n",
       "      <th>Genre</th>\n",
       "      <th>Languages</th>\n",
       "      <th>Notes</th>\n",
       "      <th>BL record ID for physical resource</th>\n",
       "      <th>classification_id</th>\n",
       "      <th>user_id</th>\n",
       "      <th>subject_ids</th>\n",
       "      <th>annotator_date_pub</th>\n",
       "      <th>annotator_normalised_date_pub</th>\n",
       "      <th>annotator_edition_statement</th>\n",
       "      <th>annotator_FAST_genre_terms</th>\n",
       "      <th>annotator_FAST_subject_terms</th>\n",
       "      <th>annotator_comments</th>\n",
       "      <th>annotator_main_language</th>\n",
       "      <th>annotator_other_languages_summaries</th>\n",
       "      <th>annotator_summaries_language</th>\n",
       "      <th>annotator_translation</th>\n",
       "      <th>annotator_original_language</th>\n",
       "      <th>annotator_publisher</th>\n",
       "      <th>annotator_place_pub</th>\n",
       "      <th>annotator_country</th>\n",
       "      <th>annotator_title</th>\n",
       "      <th>Link to digitised book</th>\n",
       "      <th>annotated</th>\n",
       "      <th>Type of resource</th>\n",
       "      <th>created_at</th>\n",
       "      <th>annotator_genre</th>\n",
       "    </tr>\n",
       "    <tr>\n",
       "      <th>npartitions=1</th>\n",
       "      <th></th>\n",
       "      <th></th>\n",
       "      <th></th>\n",
       "      <th></th>\n",
       "      <th></th>\n",
       "      <th></th>\n",
       "      <th></th>\n",
       "      <th></th>\n",
       "      <th></th>\n",
       "      <th></th>\n",
       "      <th></th>\n",
       "      <th></th>\n",
       "      <th></th>\n",
       "      <th></th>\n",
       "      <th></th>\n",
       "      <th></th>\n",
       "      <th></th>\n",
       "      <th></th>\n",
       "      <th></th>\n",
       "      <th></th>\n",
       "      <th></th>\n",
       "      <th></th>\n",
       "      <th></th>\n",
       "      <th></th>\n",
       "      <th></th>\n",
       "      <th></th>\n",
       "      <th></th>\n",
       "      <th></th>\n",
       "      <th></th>\n",
       "      <th></th>\n",
       "      <th></th>\n",
       "      <th></th>\n",
       "      <th></th>\n",
       "      <th></th>\n",
       "      <th></th>\n",
       "      <th></th>\n",
       "      <th></th>\n",
       "      <th></th>\n",
       "      <th></th>\n",
       "      <th></th>\n",
       "      <th></th>\n",
       "      <th></th>\n",
       "      <th></th>\n",
       "      <th></th>\n",
       "      <th></th>\n",
       "      <th></th>\n",
       "    </tr>\n",
       "  </thead>\n",
       "  <tbody>\n",
       "    <tr>\n",
       "      <th></th>\n",
       "      <td>object</td>\n",
       "      <td>object</td>\n",
       "      <td>object</td>\n",
       "      <td>object</td>\n",
       "      <td>object</td>\n",
       "      <td>object</td>\n",
       "      <td>object</td>\n",
       "      <td>object</td>\n",
       "      <td>object</td>\n",
       "      <td>object</td>\n",
       "      <td>object</td>\n",
       "      <td>object</td>\n",
       "      <td>object</td>\n",
       "      <td>object</td>\n",
       "      <td>object</td>\n",
       "      <td>object</td>\n",
       "      <td>object</td>\n",
       "      <td>object</td>\n",
       "      <td>object</td>\n",
       "      <td>object</td>\n",
       "      <td>object</td>\n",
       "      <td>object</td>\n",
       "      <td>object</td>\n",
       "      <td>object</td>\n",
       "      <td>object</td>\n",
       "      <td>object</td>\n",
       "      <td>object</td>\n",
       "      <td>object</td>\n",
       "      <td>object</td>\n",
       "      <td>object</td>\n",
       "      <td>object</td>\n",
       "      <td>object</td>\n",
       "      <td>object</td>\n",
       "      <td>object</td>\n",
       "      <td>object</td>\n",
       "      <td>object</td>\n",
       "      <td>object</td>\n",
       "      <td>object</td>\n",
       "      <td>object</td>\n",
       "      <td>object</td>\n",
       "      <td>object</td>\n",
       "      <td>object</td>\n",
       "      <td>bool</td>\n",
       "      <td>int64</td>\n",
       "      <td>datetime64[ns]</td>\n",
       "      <td>int64</td>\n",
       "    </tr>\n",
       "    <tr>\n",
       "      <th></th>\n",
       "      <td>...</td>\n",
       "      <td>...</td>\n",
       "      <td>...</td>\n",
       "      <td>...</td>\n",
       "      <td>...</td>\n",
       "      <td>...</td>\n",
       "      <td>...</td>\n",
       "      <td>...</td>\n",
       "      <td>...</td>\n",
       "      <td>...</td>\n",
       "      <td>...</td>\n",
       "      <td>...</td>\n",
       "      <td>...</td>\n",
       "      <td>...</td>\n",
       "      <td>...</td>\n",
       "      <td>...</td>\n",
       "      <td>...</td>\n",
       "      <td>...</td>\n",
       "      <td>...</td>\n",
       "      <td>...</td>\n",
       "      <td>...</td>\n",
       "      <td>...</td>\n",
       "      <td>...</td>\n",
       "      <td>...</td>\n",
       "      <td>...</td>\n",
       "      <td>...</td>\n",
       "      <td>...</td>\n",
       "      <td>...</td>\n",
       "      <td>...</td>\n",
       "      <td>...</td>\n",
       "      <td>...</td>\n",
       "      <td>...</td>\n",
       "      <td>...</td>\n",
       "      <td>...</td>\n",
       "      <td>...</td>\n",
       "      <td>...</td>\n",
       "      <td>...</td>\n",
       "      <td>...</td>\n",
       "      <td>...</td>\n",
       "      <td>...</td>\n",
       "      <td>...</td>\n",
       "      <td>...</td>\n",
       "      <td>...</td>\n",
       "      <td>...</td>\n",
       "      <td>...</td>\n",
       "      <td>...</td>\n",
       "    </tr>\n",
       "  </tbody>\n",
       "</table>\n",
       "</div>\n",
       "<div>Dask Name: read-parquet, 1 tasks</div>"
      ]
     },
     "execution_count": 86,
     "metadata": {},
     "output_type": "execute_result"
    }
   ],
   "source": [
    "ddf"
   ]
  },
  {
   "cell_type": "markdown",
   "metadata": {},
   "source": [
    "You'll see we don't actually get back any data. If we use head we get the number of examples we ask for. "
   ]
  },
  {
   "cell_type": "code",
   "execution_count": 87,
   "metadata": {},
   "outputs": [
    {
     "data": {
      "text/html": [
       "<div>\n",
       "<style scoped>\n",
       "    .dataframe tbody tr th:only-of-type {\n",
       "        vertical-align: middle;\n",
       "    }\n",
       "\n",
       "    .dataframe tbody tr th {\n",
       "        vertical-align: top;\n",
       "    }\n",
       "\n",
       "    .dataframe thead th {\n",
       "        text-align: right;\n",
       "    }\n",
       "</style>\n",
       "<table border=\"1\" class=\"dataframe\">\n",
       "  <thead>\n",
       "    <tr style=\"text-align: right;\">\n",
       "      <th></th>\n",
       "      <th>BL record ID</th>\n",
       "      <th>Name</th>\n",
       "      <th>Dates associated with name</th>\n",
       "      <th>Type of name</th>\n",
       "      <th>Role</th>\n",
       "      <th>All names</th>\n",
       "      <th>Title</th>\n",
       "      <th>Variant titles</th>\n",
       "      <th>Series title</th>\n",
       "      <th>Number within series</th>\n",
       "      <th>...</th>\n",
       "      <th>annotator_original_language</th>\n",
       "      <th>annotator_publisher</th>\n",
       "      <th>annotator_place_pub</th>\n",
       "      <th>annotator_country</th>\n",
       "      <th>annotator_title</th>\n",
       "      <th>Link to digitised book</th>\n",
       "      <th>annotated</th>\n",
       "      <th>Type of resource</th>\n",
       "      <th>created_at</th>\n",
       "      <th>annotator_genre</th>\n",
       "    </tr>\n",
       "  </thead>\n",
       "  <tbody>\n",
       "    <tr>\n",
       "      <th>0</th>\n",
       "      <td>014603046</td>\n",
       "      <td>Yates, William Joseph H.</td>\n",
       "      <td></td>\n",
       "      <td>person</td>\n",
       "      <td></td>\n",
       "      <td>[Yates, William Joseph H. [person] ,  Y, W. J....</td>\n",
       "      <td>The Canadian farmer. A missionary incident [Si...</td>\n",
       "      <td></td>\n",
       "      <td></td>\n",
       "      <td></td>\n",
       "      <td>...</td>\n",
       "      <td></td>\n",
       "      <td>NONE</td>\n",
       "      <td>London</td>\n",
       "      <td>enk</td>\n",
       "      <td>The Canadian farmer. A missionary incident [Si...</td>\n",
       "      <td>http://access.bl.uk/item/viewer/ark:/81055/vdc...</td>\n",
       "      <td>True</td>\n",
       "      <td>0</td>\n",
       "      <td>2020-08-11 14:30:33</td>\n",
       "      <td>0</td>\n",
       "    </tr>\n",
       "    <tr>\n",
       "      <th>1</th>\n",
       "      <td>014603046</td>\n",
       "      <td>Yates, William Joseph H.</td>\n",
       "      <td></td>\n",
       "      <td>person</td>\n",
       "      <td></td>\n",
       "      <td>[Yates, William Joseph H. [person] ,  Y, W. J....</td>\n",
       "      <td>The Canadian farmer. A missionary incident [Si...</td>\n",
       "      <td></td>\n",
       "      <td></td>\n",
       "      <td></td>\n",
       "      <td>...</td>\n",
       "      <td></td>\n",
       "      <td>NONE</td>\n",
       "      <td>London</td>\n",
       "      <td>enk</td>\n",
       "      <td>The Canadian farmer. A missionary incident [Si...</td>\n",
       "      <td>http://access.bl.uk/item/viewer/ark:/81055/vdc...</td>\n",
       "      <td>True</td>\n",
       "      <td>0</td>\n",
       "      <td>2021-04-15 09:53:23</td>\n",
       "      <td>0</td>\n",
       "    </tr>\n",
       "    <tr>\n",
       "      <th>2</th>\n",
       "      <td>014603046</td>\n",
       "      <td>Yates, William Joseph H.</td>\n",
       "      <td></td>\n",
       "      <td>person</td>\n",
       "      <td></td>\n",
       "      <td>[Yates, William Joseph H. [person] ,  Y, W. J....</td>\n",
       "      <td>The Canadian farmer. A missionary incident [Si...</td>\n",
       "      <td></td>\n",
       "      <td></td>\n",
       "      <td></td>\n",
       "      <td>...</td>\n",
       "      <td></td>\n",
       "      <td>NONE</td>\n",
       "      <td>London</td>\n",
       "      <td>enk</td>\n",
       "      <td>The Canadian farmer. A missionary incident [Si...</td>\n",
       "      <td>http://access.bl.uk/item/viewer/ark:/81055/vdc...</td>\n",
       "      <td>True</td>\n",
       "      <td>0</td>\n",
       "      <td>2020-09-24 14:27:54</td>\n",
       "      <td>0</td>\n",
       "    </tr>\n",
       "  </tbody>\n",
       "</table>\n",
       "<p>3 rows × 46 columns</p>\n",
       "</div>"
      ]
     },
     "execution_count": 87,
     "metadata": {},
     "output_type": "execute_result"
    }
   ],
   "source": [
    "ddf.head(3)"
   ]
  },
  {
   "cell_type": "markdown",
   "metadata": {},
   "source": [
    "We have some familiar methods from pandas available to us"
   ]
  },
  {
   "cell_type": "code",
   "execution_count": 49,
   "metadata": {},
   "outputs": [],
   "source": [
    "ddf = ddf.drop_duplicates(subset=\"Title\")"
   ]
  },
  {
   "cell_type": "markdown",
   "metadata": {},
   "source": [
    "As an example of something that would be a bit tricky in datasets, we can see how to groupby the mean title length by year of publication. First we create a new column for title length"
   ]
  },
  {
   "cell_type": "code",
   "execution_count": 89,
   "metadata": {},
   "outputs": [],
   "source": [
    "ddf[\"title_len\"] = ddf[\"Title\"].map(lambda x: len(x))"
   ]
  },
  {
   "cell_type": "markdown",
   "metadata": {},
   "source": [
    "We can then groupby the date of publication "
   ]
  },
  {
   "cell_type": "code",
   "execution_count": 90,
   "metadata": {},
   "outputs": [],
   "source": [
    "grouped = ddf.groupby(\"Date of publication\")"
   ]
  },
  {
   "cell_type": "markdown",
   "metadata": {},
   "source": [
    "and then calculate the mean `title_len` "
   ]
  },
  {
   "cell_type": "code",
   "execution_count": 91,
   "metadata": {},
   "outputs": [],
   "source": [
    "mean_title_len = grouped[\"title_len\"].mean()"
   ]
  },
  {
   "cell_type": "markdown",
   "metadata": {},
   "source": [
    "To actually compute this value we call the `compute` method "
   ]
  },
  {
   "cell_type": "code",
   "execution_count": 92,
   "metadata": {},
   "outputs": [
    {
     "data": {
      "text/html": [
       "<pre style=\"white-space:pre;overflow-x:auto;line-height:normal;font-family:Menlo,'DejaVu Sans Mono',consolas,'Courier New',monospace\">\n",
       "Date of publication\n",
       "<span style=\"color: #008080; text-decoration-color: #008080; font-weight: bold\">1635</span>    <span style=\"color: #008080; text-decoration-color: #008080; font-weight: bold\">248.0</span>\n",
       "<span style=\"color: #008080; text-decoration-color: #008080; font-weight: bold\">1637</span>     <span style=\"color: #008080; text-decoration-color: #008080; font-weight: bold\">67.0</span>\n",
       "<span style=\"color: #008080; text-decoration-color: #008080; font-weight: bold\">1695</span>     <span style=\"color: #008080; text-decoration-color: #008080; font-weight: bold\">63.0</span>\n",
       "<span style=\"color: #008080; text-decoration-color: #008080; font-weight: bold\">1765</span>     <span style=\"color: #008080; text-decoration-color: #008080; font-weight: bold\">86.0</span>\n",
       "<span style=\"color: #008080; text-decoration-color: #008080; font-weight: bold\">1769</span>     <span style=\"color: #008080; text-decoration-color: #008080; font-weight: bold\">20.0</span>\n",
       "        <span style=\"color: #808000; text-decoration-color: #808000\">...</span>  \n",
       "<span style=\"color: #008080; text-decoration-color: #008080; font-weight: bold\">1905</span>    <span style=\"color: #008080; text-decoration-color: #008080; font-weight: bold\">141.0</span>\n",
       "<span style=\"color: #008080; text-decoration-color: #008080; font-weight: bold\">1906</span>    <span style=\"color: #008080; text-decoration-color: #008080; font-weight: bold\">225.0</span>\n",
       "<span style=\"color: #008080; text-decoration-color: #008080; font-weight: bold\">1907</span>    <span style=\"color: #008080; text-decoration-color: #008080; font-weight: bold\">142.0</span>\n",
       "<span style=\"color: #008080; text-decoration-color: #008080; font-weight: bold\">1910</span>     <span style=\"color: #008080; text-decoration-color: #008080; font-weight: bold\">65.0</span>\n",
       "<span style=\"color: #008080; text-decoration-color: #008080; font-weight: bold\">1979</span>     <span style=\"color: #008080; text-decoration-color: #008080; font-weight: bold\">43.0</span>\n",
       "Name: title_len, Length: <span style=\"color: #008080; text-decoration-color: #008080; font-weight: bold\">124</span>, dtype: float64\n",
       "</pre>\n"
      ],
      "text/plain": [
       "\n",
       "Date of publication\n",
       "\u001b[1;36m1635\u001b[0m    \u001b[1;36m248.0\u001b[0m\n",
       "\u001b[1;36m1637\u001b[0m     \u001b[1;36m67.0\u001b[0m\n",
       "\u001b[1;36m1695\u001b[0m     \u001b[1;36m63.0\u001b[0m\n",
       "\u001b[1;36m1765\u001b[0m     \u001b[1;36m86.0\u001b[0m\n",
       "\u001b[1;36m1769\u001b[0m     \u001b[1;36m20.0\u001b[0m\n",
       "        \u001b[33m...\u001b[0m  \n",
       "\u001b[1;36m1905\u001b[0m    \u001b[1;36m141.0\u001b[0m\n",
       "\u001b[1;36m1906\u001b[0m    \u001b[1;36m225.0\u001b[0m\n",
       "\u001b[1;36m1907\u001b[0m    \u001b[1;36m142.0\u001b[0m\n",
       "\u001b[1;36m1910\u001b[0m     \u001b[1;36m65.0\u001b[0m\n",
       "\u001b[1;36m1979\u001b[0m     \u001b[1;36m43.0\u001b[0m\n",
       "Name: title_len, Length: \u001b[1;36m124\u001b[0m, dtype: float64\n"
      ]
     },
     "metadata": {},
     "output_type": "display_data"
    }
   ],
   "source": [
    "mean_title_len.compute()"
   ]
  },
  {
   "cell_type": "markdown",
   "metadata": {},
   "source": [
    "We can also create a plot in the usual way "
   ]
  },
  {
   "cell_type": "code",
   "execution_count": 93,
   "metadata": {},
   "outputs": [
    {
     "data": {
      "text/html": [
       "<pre style=\"white-space:pre;overflow-x:auto;line-height:normal;font-family:Menlo,'DejaVu Sans Mono',consolas,'Courier New',monospace\"><span style=\"font-weight: bold\">&lt;</span><span style=\"color: #ff00ff; text-decoration-color: #ff00ff; font-weight: bold\">AxesSubplot:</span><span style=\"color: #808000; text-decoration-color: #808000; font-weight: bold\">xlabel</span><span style=\"color: #000000; text-decoration-color: #000000\">=</span><span style=\"color: #008000; text-decoration-color: #008000\">'Date of publication'</span><span style=\"font-weight: bold\">&gt;</span>\n",
       "</pre>\n"
      ],
      "text/plain": [
       "\u001b[1m<\u001b[0m\u001b[1;95mAxesSubplot:\u001b[0m\u001b[1;33mxlabel\u001b[0m\u001b[39m=\u001b[0m\u001b[32m'Date of publication'\u001b[0m\u001b[1m>\u001b[0m\n"
      ]
     },
     "metadata": {},
     "output_type": "display_data"
    },
    {
     "data": {
      "text/html": [
       "<pre style=\"white-space:pre;overflow-x:auto;line-height:normal;font-family:Menlo,'DejaVu Sans Mono',consolas,'Courier New',monospace\"><span style=\"font-weight: bold\">&lt;</span><span style=\"color: #ff00ff; text-decoration-color: #ff00ff; font-weight: bold\">Figure</span><span style=\"color: #000000; text-decoration-color: #000000\"> size 432x288 with </span><span style=\"color: #008080; text-decoration-color: #008080; font-weight: bold\">1</span><span style=\"color: #000000; text-decoration-color: #000000\"> Axes</span><span style=\"font-weight: bold\">&gt;</span>\n",
       "</pre>\n"
      ],
      "text/plain": [
       "\u001b[1m<\u001b[0m\u001b[1;95mFigure\u001b[0m\u001b[39m size 432x288 with \u001b[0m\u001b[1;36m1\u001b[0m\u001b[39m Axes\u001b[0m\u001b[1m>\u001b[0m\n"
      ]
     },
     "metadata": {},
     "output_type": "display_data"
    },
    {
     "data": {
      "image/png": "[encoded data removed]"
     },
     "metadata": {
      "needs_background": "light"
     },
     "output_type": "display_data"
    }
   ],
   "source": [
    "mean_title_len.compute().plot()"
   ]
  },
  {
   "cell_type": "markdown",
   "metadata": {},
   "source": [
    "This was a very quick overview. The [dask docs](https://www.dask.org/get-started) go into much more detail as do the Hugging Face [datasets docs](https://huggingface.co/docs/datasets/). \n"
   ]
  }
 ],
 "metadata": {
  "colab": {
   "name": "scratchpad",
   "provenance": []
  },
  "kernelspec": {
   "display_name": "Python 3 (ipykernel)",
   "language": "python",
   "name": "python3"
  },
  "language_info": {
   "codemirror_mode": {
    "name": "ipython",
    "version": 3
   },
   "file_extension": ".py",
   "mimetype": "text/x-python",
   "name": "python",
   "nbconvert_exporter": "python",
   "pygments_lexer": "ipython3",
   "version": "3.8.2"
  },
  "widgets": {
   "application/vnd.jupyter.widget-state+json": {
    "0c0752e8e9024977979562531ad5a4b7": {
     "model_module": "@jupyter-widgets/controls",
     "model_module_version": "1.5.0",
     "model_name": "ProgressStyleModel",
     "state": {
      "_model_module": "@jupyter-widgets/controls",
      "_model_module_version": "1.5.0",
      "_model_name": "ProgressStyleModel",
      "_view_count": null,
      "_view_module": "@jupyter-widgets/base",
      "_view_module_version": "1.2.0",
      "_view_name": "StyleView",
      "bar_color": null,
      "description_width": ""
     }
    },
    "408dd31921ee40bb9c9fc8995d4b8577": {
     "model_module": "@jupyter-widgets/controls",
     "model_module_version": "1.5.0",
     "model_name": "HBoxModel",
     "state": {
      "_dom_classes": [],
      "_model_module": "@jupyter-widgets/controls",
      "_model_module_version": "1.5.0",
      "_model_name": "HBoxModel",
      "_view_count": null,
      "_view_module": "@jupyter-widgets/controls",
      "_view_module_version": "1.5.0",
      "_view_name": "HBoxView",
      "box_style": "",
      "children": [
       "IPY_MODEL_5e1150b6dfb8494195191efaeb5b7feb",
       "IPY_MODEL_6edda0b1149541499ab485df06711944",
       "IPY_MODEL_45fcaeca1a184768a624607172ab7d72"
      ],
      "layout": "IPY_MODEL_ea28bfd1711148c29b494a0194d2ffbf"
     }
    },
    "45fcaeca1a184768a624607172ab7d72": {
     "model_module": "@jupyter-widgets/controls",
     "model_module_version": "1.5.0",
     "model_name": "HTMLModel",
     "state": {
      "_dom_classes": [],
      "_model_module": "@jupyter-widgets/controls",
      "_model_module_version": "1.5.0",
      "_model_name": "HTMLModel",
      "_view_count": null,
      "_view_module": "@jupyter-widgets/controls",
      "_view_module_version": "1.5.0",
      "_view_name": "HTMLView",
      "description": "",
      "description_tooltip": null,
      "layout": "IPY_MODEL_4ccb508cf3ab4001a30cea47d2448e23",
      "placeholder": "​",
      "style": "IPY_MODEL_88809da60e3846dc886cd2545edbc5c3",
      "value": " 1/1 [00:00&lt;00:00, 21.14it/s]"
     }
    },
    "4ccb508cf3ab4001a30cea47d2448e23": {
     "model_module": "@jupyter-widgets/base",
     "model_module_version": "1.2.0",
     "model_name": "LayoutModel",
     "state": {
      "_model_module": "@jupyter-widgets/base",
      "_model_module_version": "1.2.0",
      "_model_name": "LayoutModel",
      "_view_count": null,
      "_view_module": "@jupyter-widgets/base",
      "_view_module_version": "1.2.0",
      "_view_name": "LayoutView",
      "align_content": null,
      "align_items": null,
      "align_self": null,
      "border": null,
      "bottom": null,
      "display": null,
      "flex": null,
      "flex_flow": null,
      "grid_area": null,
      "grid_auto_columns": null,
      "grid_auto_flow": null,
      "grid_auto_rows": null,
      "grid_column": null,
      "grid_gap": null,
      "grid_row": null,
      "grid_template_areas": null,
      "grid_template_columns": null,
      "grid_template_rows": null,
      "height": null,
      "justify_content": null,
      "justify_items": null,
      "left": null,
      "margin": null,
      "max_height": null,
      "max_width": null,
      "min_height": null,
      "min_width": null,
      "object_fit": null,
      "object_position": null,
      "order": null,
      "overflow": null,
      "overflow_x": null,
      "overflow_y": null,
      "padding": null,
      "right": null,
      "top": null,
      "visibility": null,
      "width": null
     }
    },
    "5d3ee4cdf67e44878bac361e143b828a": {
     "model_module": "@jupyter-widgets/controls",
     "model_module_version": "1.5.0",
     "model_name": "DescriptionStyleModel",
     "state": {
      "_model_module": "@jupyter-widgets/controls",
      "_model_module_version": "1.5.0",
      "_model_name": "DescriptionStyleModel",
      "_view_count": null,
      "_view_module": "@jupyter-widgets/base",
      "_view_module_version": "1.2.0",
      "_view_name": "StyleView",
      "description_width": ""
     }
    },
    "5e1150b6dfb8494195191efaeb5b7feb": {
     "model_module": "@jupyter-widgets/controls",
     "model_module_version": "1.5.0",
     "model_name": "HTMLModel",
     "state": {
      "_dom_classes": [],
      "_model_module": "@jupyter-widgets/controls",
      "_model_module_version": "1.5.0",
      "_model_name": "HTMLModel",
      "_view_count": null,
      "_view_module": "@jupyter-widgets/controls",
      "_view_module_version": "1.5.0",
      "_view_name": "HTMLView",
      "description": "",
      "description_tooltip": null,
      "layout": "IPY_MODEL_b3eaa93967914d7f8977d736611b845f",
      "placeholder": "​",
      "style": "IPY_MODEL_5d3ee4cdf67e44878bac361e143b828a",
      "value": "100%"
     }
    },
    "6edda0b1149541499ab485df06711944": {
     "model_module": "@jupyter-widgets/controls",
     "model_module_version": "1.5.0",
     "model_name": "FloatProgressModel",
     "state": {
      "_dom_classes": [],
      "_model_module": "@jupyter-widgets/controls",
      "_model_module_version": "1.5.0",
      "_model_name": "FloatProgressModel",
      "_view_count": null,
      "_view_module": "@jupyter-widgets/controls",
      "_view_module_version": "1.5.0",
      "_view_name": "ProgressView",
      "bar_style": "success",
      "description": "",
      "description_tooltip": null,
      "layout": "IPY_MODEL_bff82a2eab2a4f7d87f8037e30839050",
      "max": 1,
      "min": 0,
      "orientation": "horizontal",
      "style": "IPY_MODEL_0c0752e8e9024977979562531ad5a4b7",
      "value": 1
     }
    },
    "88809da60e3846dc886cd2545edbc5c3": {
     "model_module": "@jupyter-widgets/controls",
     "model_module_version": "1.5.0",
     "model_name": "DescriptionStyleModel",
     "state": {
      "_model_module": "@jupyter-widgets/controls",
      "_model_module_version": "1.5.0",
      "_model_name": "DescriptionStyleModel",
      "_view_count": null,
      "_view_module": "@jupyter-widgets/base",
      "_view_module_version": "1.2.0",
      "_view_name": "StyleView",
      "description_width": ""
     }
    },
    "b3eaa93967914d7f8977d736611b845f": {
     "model_module": "@jupyter-widgets/base",
     "model_module_version": "1.2.0",
     "model_name": "LayoutModel",
     "state": {
      "_model_module": "@jupyter-widgets/base",
      "_model_module_version": "1.2.0",
      "_model_name": "LayoutModel",
      "_view_count": null,
      "_view_module": "@jupyter-widgets/base",
      "_view_module_version": "1.2.0",
      "_view_name": "LayoutView",
      "align_content": null,
      "align_items": null,
      "align_self": null,
      "border": null,
      "bottom": null,
      "display": null,
      "flex": null,
      "flex_flow": null,
      "grid_area": null,
      "grid_auto_columns": null,
      "grid_auto_flow": null,
      "grid_auto_rows": null,
      "grid_column": null,
      "grid_gap": null,
      "grid_row": null,
      "grid_template_areas": null,
      "grid_template_columns": null,
      "grid_template_rows": null,
      "height": null,
      "justify_content": null,
      "justify_items": null,
      "left": null,
      "margin": null,
      "max_height": null,
      "max_width": null,
      "min_height": null,
      "min_width": null,
      "object_fit": null,
      "object_position": null,
      "order": null,
      "overflow": null,
      "overflow_x": null,
      "overflow_y": null,
      "padding": null,
      "right": null,
      "top": null,
      "visibility": null,
      "width": null
     }
    },
    "bff82a2eab2a4f7d87f8037e30839050": {
     "model_module": "@jupyter-widgets/base",
     "model_module_version": "1.2.0",
     "model_name": "LayoutModel",
     "state": {
      "_model_module": "@jupyter-widgets/base",
      "_model_module_version": "1.2.0",
      "_model_name": "LayoutModel",
      "_view_count": null,
      "_view_module": "@jupyter-widgets/base",
      "_view_module_version": "1.2.0",
      "_view_name": "LayoutView",
      "align_content": null,
      "align_items": null,
      "align_self": null,
      "border": null,
      "bottom": null,
      "display": null,
      "flex": null,
      "flex_flow": null,
      "grid_area": null,
      "grid_auto_columns": null,
      "grid_auto_flow": null,
      "grid_auto_rows": null,
      "grid_column": null,
      "grid_gap": null,
      "grid_row": null,
      "grid_template_areas": null,
      "grid_template_columns": null,
      "grid_template_rows": null,
      "height": null,
      "justify_content": null,
      "justify_items": null,
      "left": null,
      "margin": null,
      "max_height": null,
      "max_width": null,
      "min_height": null,
      "min_width": null,
      "object_fit": null,
      "object_position": null,
      "order": null,
      "overflow": null,
      "overflow_x": null,
      "overflow_y": null,
      "padding": null,
      "right": null,
      "top": null,
      "visibility": null,
      "width": null
     }
    },
    "ea28bfd1711148c29b494a0194d2ffbf": {
     "model_module": "@jupyter-widgets/base",
     "model_module_version": "1.2.0",
     "model_name": "LayoutModel",
     "state": {
      "_model_module": "@jupyter-widgets/base",
      "_model_module_version": "1.2.0",
      "_model_name": "LayoutModel",
      "_view_count": null,
      "_view_module": "@jupyter-widgets/base",
      "_view_module_version": "1.2.0",
      "_view_name": "LayoutView",
      "align_content": null,
      "align_items": null,
      "align_self": null,
      "border": null,
      "bottom": null,
      "display": null,
      "flex": null,
      "flex_flow": null,
      "grid_area": null,
      "grid_auto_columns": null,
      "grid_auto_flow": null,
      "grid_auto_rows": null,
      "grid_column": null,
      "grid_gap": null,
      "grid_row": null,
      "grid_template_areas": null,
      "grid_template_columns": null,
      "grid_template_rows": null,
      "height": null,
      "justify_content": null,
      "justify_items": null,
      "left": null,
      "margin": null,
      "max_height": null,
      "max_width": null,
      "min_height": null,
      "min_width": null,
      "object_fit": null,
      "object_position": null,
      "order": null,
      "overflow": null,
      "overflow_x": null,
      "overflow_y": null,
      "padding": null,
      "right": null,
      "top": null,
      "visibility": null,
      "width": null
     }
    }
   }
  }
 },
 "nbformat": 4,
 "nbformat_minor": 4
}
