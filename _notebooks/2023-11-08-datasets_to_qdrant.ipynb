{
  "cells": [
    {
      "cell_type": "markdown",
      "metadata": {},
      "source": [
        "# How to load a Hugging Face dataset into Qdrant?\n",
        "\n",
        "> Loading a Hugging Face dataset into Qdrant is easy. This post shows how to do it.\n",
        "\n",
        "- toc: true\n",
        "- badges: false\n",
        "- comments: true\n",
        "- categories: [huggingface, datasets, qdrant, vector-search]\n",
        "- search_exclude: false"
      ]
    },
    {
      "cell_type": "code",
      "execution_count": 39,
      "metadata": {
        "colab": {
          "base_uri": "https://localhost:8080/"
        },
        "id": "o3GT2ks7309M",
        "outputId": "a6cd4388-15c3-4259-f684-d0398e3d6d9c"
      },
      "outputs": [
        {
          "name": "stdout",
          "output_type": "stream",
          "text": [
            "\n",
            "\u001b[1m[\u001b[0m\u001b[34;49mnotice\u001b[0m\u001b[1;39;49m]\u001b[0m\u001b[39;49m A new release of pip available: \u001b[0m\u001b[31;49m22.3.1\u001b[0m\u001b[39;49m -> \u001b[0m\u001b[32;49m23.3.1\u001b[0m\n",
            "\u001b[1m[\u001b[0m\u001b[34;49mnotice\u001b[0m\u001b[1;39;49m]\u001b[0m\u001b[39;49m To update, run: \u001b[0m\u001b[32;49mpip install --upgrade pip\u001b[0m\n",
            "Note: you may need to restart the kernel to use updated packages.\n"
          ]
        }
      ],
      "source": [
        "%pip install datasets qdrant-client --q"
      ]
    },
    {
      "cell_type": "markdown",
      "metadata": {},
      "source": [
        "## Loading our dataset\n",
        "\n",
        "For this post we'll use the [Cohere/wikipedia-22-12-simple-embeddings](https://huggingface.co/datasets/Cohere/wikipedia-22-12-simple-embeddings) dataset which has already had embeddings generated for it. This dataset was created by Cohere and creates embeddings for millions of Wikipedia articles. See this [post](https://txt.cohere.com/embedding-archives-wikipedia/) for more details.\n",
        "\n",
        " We'll use the [Hugging Face datasets library](https://huggingface.co/docs/datasets/index.html) to load the dataset."
      ]
    },
    {
      "cell_type": "code",
      "execution_count": 2,
      "metadata": {
        "colab": {
          "base_uri": "https://localhost:8080/",
          "height": 305,
          "referenced_widgets": [
            "0dbc012176d44ac1b74618000894e8c6",
            "028322b5459449dbafdf1264fb88f1aa",
            "d67b2509c1634a49b4a8379b192ad04f",
            "71fc71370a2c49e69b5648f337adfbc3",
            "f5a1806f4d1e4e92af4a3d738f3b2529",
            "f71cc59d82b84d04b9ea2f37b6ac92ff",
            "60286be44210442c83ae8885a47ce2c6",
            "fae0d069a1fb47da95fc19741f592b26",
            "47b608e15e8148a9a2f010f16d6669ee",
            "b4a4a7c662f84f9f905d8911f59b6e1d",
            "f7c424dfb68b425e884e0d5788704650",
            "40a7a24950674e5fb3fc8668eeaff979",
            "df39f22fbedb4cf9aac55e0ee354dc8d",
            "4aae991e5c3046919f457eac0c34ac15",
            "21ad01c7cde446b58529ccc035488028",
            "f5e9de2756874ce0b3f344aa154a6b77",
            "a2b3b4b0bdc346378f56e68061573ae8",
            "23be92bc7844447d8ec0344084353fff",
            "dc7d98d4a41b489cab20dba7a859d166",
            "46d8a0aa069e46b0a1bfdf4db72b5f2a",
            "198cd222f15d46b8bf077ceaac041f38",
            "f02c1def7cb748369d7bdaa8c94531bd",
            "597f476397cc4a3da3021d3bc6c9eeaf",
            "c4e1891621bf40e7b93c5058da4ab498",
            "e03d83bf8d874a12a234833e0b439fb4",
            "022e28389ca248bb80728612c9f9e7b4",
            "acd584f830434f73b5123cdf52da67cc",
            "994517b12c7641da9d58d3c455617eb7",
            "ca434c3c126f4065923536c7ade4c922",
            "e4a827dbcb4349b48a931a78ab8261c0",
            "daf32a760459437485a30a9c458f355a",
            "40f153539b93411baab0aeb5912a7e3d",
            "2965bafa018945aebfd586a7106ce7c2",
            "5638b459463e471c9a10ab0fe11ebe42",
            "bff2838766b14b0eb53cdc9841856c26",
            "66ecf1c9872946f3982829869e14b1b9",
            "2140ff54a5d744fcb7450fbf6908adf3",
            "6bb68e7deeeb42dfbecbecaf9c9b8bd5",
            "ff695842786c456a91c69f845bf47aca",
            "79dab906cb2a4e07a0a42deba8b50ab0",
            "0fee8de08cad4d1ba5f98b4d8dd59e62",
            "2f2332d0e1134d138e2ad3472c1d014e",
            "0d18b63d7e0a4e8299b6300aff28019c",
            "09504a9ac63e4a4cb9922207af84dc5f",
            "9e22dfbebc5e42708f0c0a0cbcf51e7e",
            "bf0600f1c82443b1bd97b5e9c08c788a",
            "beb0de4f452542bdb8b78bf476aac0ec",
            "9c02534d7ab141daab25832ff3af957c",
            "ad3a9c722a4045c49bb3fc45c5206c43",
            "a8d419fd9b12487ba2d60339ce0dbe97",
            "e8ce4f9cd5094318af280f1c90932d41",
            "5e8023234a48407b98afa4e776ba3c3b",
            "f3d52ffe58604e23b362b9a101207fe0",
            "ab954b1af2054051a1ec5d5303b0eb20",
            "40b7298ff3f54019a75f5c9df35c1c0a",
            "9a0f8733a2584fb0a6fbaa489871d417",
            "813f4e8085f3420ca1385301c6186eaa",
            "73a2170024cf4565bba5942c579309e6",
            "d8f193300b7443c2b6bda1e1fb71b270",
            "a7b948b268c44388946c8fdc7e87e203",
            "12e115b503e74c298e5236dff07af01c",
            "120ffdbd0d494892a5c52583101e74ff",
            "32e6b9fb6a7a432ca640609a52f96ca5",
            "51f8ec5d34f34dce8ed9d5b57845b65b",
            "489e7c855a8f4d4580851745584113be",
            "b752e710b430479facd0143c9d82aab4",
            "724eb8e0c1b04395a81a6c711c26c847",
            "37aa27c4e400488493018ad293c8ed28",
            "ddf512fa0261429390d22a589f149b8c",
            "31ad145ddbf048f188119bc45b8ef004",
            "32b5f514b2194452a5f659da1040fba9",
            "44fbd0bb2dcd4018a546c05f04e22268",
            "5b1d209aae3d4f87a75fbff4b886d536",
            "e4892990b1ef458997f20bdd27d51d1d",
            "f45fbe222b11479194564413670983cc",
            "24a549ca39464731b2608e2ea76f47a0",
            "234e6735caba416fbc0a25d8e24bc864",
            "2d633478b58444c78888c868afe5e924",
            "3b5ca456956843409fc1bc70b5c467ca",
            "540553240c544f539c1fbb72ade89fc1",
            "3a85f60be0a74654bc5e0f3096a56721",
            "e4571a2e5f2e473dbf3873aee7a50c50",
            "752133ab861540d3a0aeea3647cf2d56",
            "132e812bf7104ed785569558ec2e186e",
            "32392b493a1f43eaae030298f2d12aaa",
            "13095ed7ca7e4aeea9c63c99d82be139",
            "503da3629d704704a890aa6427f41a96",
            "8ebb3b6f705a48778da957939b0e3613",
            "734f5043722c4a0083587b4ec8e7372d",
            "39e421c3a18843498d1de716b47e9fb7",
            "70f046932449487aa935d1dfd12bdcda",
            "4f61c368d32841af9b414d59288a229a",
            "bc54e9fbe0714cd5b81535e22e29e8b6",
            "713aa0d036324a8cba16ad20262781be",
            "6a90d995045a4bf48d8c0d2b4665ee6c",
            "47e126a69f8e4bd39a79bfbfd444fc38",
            "3f4e39ac5abf4361b651efdf9ae7d478",
            "e0430aab26614e9dbba0a99993374eb9",
            "efac14007add4f7d89ac3b8ff20f034d"
          ]
        },
        "id": "t1LNev7U32yK",
        "outputId": "076ed6bd-993c-4c69-8da0-42ffd58f1c62"
      },
      "outputs": [
        {
          "data": {
            "application/vnd.jupyter.widget-view+json": {
              "model_id": "65e2f3d81ae24802b571d4da05859b4f",
              "version_major": 2,
              "version_minor": 0
            },
            "text/plain": [
              "Downloading readme:   0%|          | 0.00/3.84k [00:00<?, ?B/s]"
            ]
          },
          "metadata": {},
          "output_type": "display_data"
        },
        {
          "data": {
            "application/vnd.jupyter.widget-view+json": {
              "model_id": "d9a4387393924e94b48caf9be271ab3e",
              "version_major": 2,
              "version_minor": 0
            },
            "text/plain": [
              "Downloading metadata:   0%|          | 0.00/1.29k [00:00<?, ?B/s]"
            ]
          },
          "metadata": {},
          "output_type": "display_data"
        },
        {
          "data": {
            "application/vnd.jupyter.widget-view+json": {
              "model_id": "e370b35057004af0b603b53bf525bd5d",
              "version_major": 2,
              "version_minor": 0
            },
            "text/plain": [
              "Downloading data files:   0%|          | 0/1 [00:00<?, ?it/s]"
            ]
          },
          "metadata": {},
          "output_type": "display_data"
        },
        {
          "data": {
            "application/vnd.jupyter.widget-view+json": {
              "model_id": "bf4026c42e0c4667b962369f5ca871a3",
              "version_major": 2,
              "version_minor": 0
            },
            "text/plain": [
              "Downloading data:   0%|          | 0.00/409M [00:00<?, ?B/s]"
            ]
          },
          "metadata": {},
          "output_type": "display_data"
        },
        {
          "data": {
            "application/vnd.jupyter.widget-view+json": {
              "model_id": "730bb61ab2794bd59db3ade71462aa64",
              "version_major": 2,
              "version_minor": 0
            },
            "text/plain": [
              "Downloading data:   0%|          | 0.00/408M [00:00<?, ?B/s]"
            ]
          },
          "metadata": {},
          "output_type": "display_data"
        },
        {
          "data": {
            "application/vnd.jupyter.widget-view+json": {
              "model_id": "644e1e53113348e297f49425f5792e98",
              "version_major": 2,
              "version_minor": 0
            },
            "text/plain": [
              "Downloading data:   0%|          | 0.00/407M [00:00<?, ?B/s]"
            ]
          },
          "metadata": {},
          "output_type": "display_data"
        },
        {
          "data": {
            "application/vnd.jupyter.widget-view+json": {
              "model_id": "98c7e6c85ef841dc8a9b9e1f0496d210",
              "version_major": 2,
              "version_minor": 0
            },
            "text/plain": [
              "Downloading data:   0%|          | 0.00/404M [00:00<?, ?B/s]"
            ]
          },
          "metadata": {},
          "output_type": "display_data"
        },
        {
          "data": {
            "application/vnd.jupyter.widget-view+json": {
              "model_id": "c077d4786b134470808f0a37b2301e45",
              "version_major": 2,
              "version_minor": 0
            },
            "text/plain": [
              "Extracting data files:   0%|          | 0/1 [00:00<?, ?it/s]"
            ]
          },
          "metadata": {},
          "output_type": "display_data"
        },
        {
          "data": {
            "application/vnd.jupyter.widget-view+json": {
              "model_id": "4e51e5bf21664f0f962f57dcb8f731e0",
              "version_major": 2,
              "version_minor": 0
            },
            "text/plain": [
              "Generating train split:   0%|          | 0/485859 [00:00<?, ? examples/s]"
            ]
          },
          "metadata": {},
          "output_type": "display_data"
        },
        {
          "name": "stderr",
          "output_type": "stream",
          "text": [
            "/Users/davanstrien/Documents/daniel/blog/venv/lib/python3.10/site-packages/datasets/table.py:1421: FutureWarning: promote has been superseded by mode='default'.\n",
            "  table = cls._concat_blocks(blocks, axis=0)\n"
          ]
        }
      ],
      "source": [
        "from datasets import load_dataset\n",
        "\n",
        "dataset = load_dataset(\"Cohere/wikipedia-22-12-simple-embeddings\", split=\"train\")"
      ]
    },
    {
      "cell_type": "markdown",
      "metadata": {},
      "source": [
        "Let's take a quick look at the dataset."
      ]
    },
    {
      "cell_type": "code",
      "execution_count": 3,
      "metadata": {
        "colab": {
          "base_uri": "https://localhost:8080/"
        },
        "id": "2NJzpCn7382f",
        "outputId": "55153ba5-3e76-4bf0-a864-925cc00b012d"
      },
      "outputs": [
        {
          "data": {
            "text/plain": [
              "Dataset({\n",
              "    features: ['id', 'title', 'text', 'url', 'wiki_id', 'views', 'paragraph_id', 'langs', 'emb'],\n",
              "    num_rows: 485859\n",
              "})"
            ]
          },
          "execution_count": 3,
          "metadata": {},
          "output_type": "execute_result"
        }
      ],
      "source": [
        "dataset"
      ]
    },
    {
      "cell_type": "markdown",
      "metadata": {},
      "source": [
        "We can see the dataset has a `emb` column which contains the embeddings for each article. Alongside this we see the `title` and `text` for the articles alongside some other metadata. Let's also take a look at the features of the dataset.\n",
        "\n",
        "Let's also take a quick look at the features of the dataset. Hugging Face Dataset objects have a `features` attribute which contains the features of the dataset. We can see that the `emb` column is a `Sequence` of `float32` values. We also have some other columns with `string` values, `int32` and `float32` values. \n"
      ]
    },
    {
      "cell_type": "code",
      "execution_count": 6,
      "metadata": {},
      "outputs": [
        {
          "data": {
            "text/plain": [
              "{'id': Value(dtype='int32', id=None),\n",
              " 'title': Value(dtype='string', id=None),\n",
              " 'text': Value(dtype='string', id=None),\n",
              " 'url': Value(dtype='string', id=None),\n",
              " 'wiki_id': Value(dtype='int32', id=None),\n",
              " 'views': Value(dtype='float32', id=None),\n",
              " 'paragraph_id': Value(dtype='int32', id=None),\n",
              " 'langs': Value(dtype='int32', id=None),\n",
              " 'emb': Sequence(feature=Value(dtype='float32', id=None), length=-1, id=None)}"
            ]
          },
          "execution_count": 6,
          "metadata": {},
          "output_type": "execute_result"
        }
      ],
      "source": [
        "dataset.features"
      ]
    },
    {
      "cell_type": "markdown",
      "metadata": {},
      "source": [
        "Qdrant has [support](https://qdrant.tech/documentation/concepts/payload/) for a pretty varied range of types. All of these types in our dataset are supported by Qdrant so we don't need to do any conversion. "
      ]
    },
    {
      "cell_type": "markdown",
      "metadata": {},
      "source": [
        "\n",
        "\n",
        "### Creating a Qdrant collection\n",
        "\n",
        "We'll use the [Qdrant Python client](https://github.com/qdrant/qdrant-client) for this post. This client is really nice since it allows you to create a local collection using pure Python i.e. no need to run a Qdrant server. This is great for testing and development. Once you're ready to deploy your collection you can use the same client to connect to a remote Qdrant server."
      ]
    },
    {
      "cell_type": "code",
      "execution_count": 7,
      "metadata": {
        "id": "J2SwI55o70E2"
      },
      "outputs": [],
      "source": [
        "from qdrant_client import QdrantClient"
      ]
    },
    {
      "cell_type": "markdown",
      "metadata": {},
      "source": [
        "We first create a client, in this case using a local path for our DB. "
      ]
    },
    {
      "cell_type": "code",
      "execution_count": 8,
      "metadata": {
        "id": "Je1wJboN39ow"
      },
      "outputs": [],
      "source": [
        "client = QdrantClient(path=\"db\")  # Persists changes to disk"
      ]
    },
    {
      "cell_type": "markdown",
      "metadata": {},
      "source": [
        "### Configuring our Qdrant collection\n",
        "\n",
        "Qdrant is very flexible but we need to let Qdrant now a few things about our collection. These include the name, and a config for the vectors we want to store. This config includes the dimensionality of the vectors and the distance metric we want to use. Let's first check out the dimensionality of our vectors."
      ]
    },
    {
      "cell_type": "code",
      "execution_count": 10,
      "metadata": {
        "colab": {
          "base_uri": "https://localhost:8080/"
        },
        "id": "XRgdkNsQ_bBP",
        "outputId": "3887e08c-a035-4fd6-cdce-436d0f16634a"
      },
      "outputs": [],
      "source": [
        "vector_size = len(dataset[0]['emb'])"
      ]
    },
    {
      "cell_type": "markdown",
      "metadata": {},
      "source": [
        "We'll also store our collection in a variable so we can use it later."
      ]
    },
    {
      "cell_type": "code",
      "execution_count": 11,
      "metadata": {},
      "outputs": [],
      "source": [
        "collection_name = \"cohere_wikipedia\""
      ]
    },
    {
      "cell_type": "code",
      "execution_count": 14,
      "metadata": {
        "colab": {
          "base_uri": "https://localhost:8080/"
        },
        "id": "to7PsunI4MFT",
        "outputId": "9b187f76-97ee-4685-ac67-2026f5c8dede"
      },
      "outputs": [
        {
          "data": {
            "text/plain": [
              "True"
            ]
          },
          "execution_count": 14,
          "metadata": {},
          "output_type": "execute_result"
        }
      ],
      "source": [
        "from qdrant_client.models import Distance, VectorParams\n",
        "\n",
        "client.recreate_collection(\n",
        "    collection_name=collection_name,\n",
        "    vectors_config=VectorParams(size=vector_size, distance=Distance.COSINE),\n",
        ")"
      ]
    },
    {
      "cell_type": "markdown",
      "metadata": {},
      "source": [
        "## Adding our data to Qdrant\n",
        "\n",
        "**Note** this code can be heavily optimized but gives an idea of how easy adding data to Qdrant can be. For many datasets this naive approach will work fine.\n",
        "\n",
        "The approach we'll take below is to loop through our dataset and yield each row as a `PointStruct`. This is a Qdrant object that contains the vector and any other data, referred to as the payload, that we want to store. "
      ]
    },
    {
      "cell_type": "code",
      "execution_count": 16,
      "metadata": {
        "id": "7LHFTfqr_syp"
      },
      "outputs": [],
      "source": [
        "from qdrant_client.models import PointStruct"
      ]
    },
    {
      "cell_type": "code",
      "execution_count": 17,
      "metadata": {
        "id": "T_9W7miJ_mDZ"
      },
      "outputs": [],
      "source": [
        "def yield_rows(dataset):\n",
        "    for idx, row in enumerate(dataset, start=1):\n",
        "        vector = row[\"emb\"] # grab the vector\n",
        "        payload = {k: v for k, v in row.items() if k != \"emb\"} # grab the rest of the fields without the vector\n",
        "        yield PointStruct(id=idx, vector=vector, payload=payload)"
      ]
    },
    {
      "cell_type": "markdown",
      "metadata": {},
      "source": [
        "For this post we'll use a smallish subset of the dataset. We'll use the first 100_000 rows. Big enough to be interesting but small enough to play around with quickly. "
      ]
    },
    {
      "cell_type": "code",
      "execution_count": 22,
      "metadata": {
        "id": "R0rGhAI7Dv9o"
      },
      "outputs": [],
      "source": [
        "sample = dataset.select(range(100_000))"
      ]
    },
    {
      "cell_type": "markdown",
      "metadata": {},
      "source": [
        "We'll use the `toolz` libraries `partition_all` function to get batches from our yield_rows function. We'll use `tqdm` to show a progress bar."
      ]
    },
    {
      "cell_type": "code",
      "execution_count": 19,
      "metadata": {
        "id": "RyW2BadyHYJG"
      },
      "outputs": [],
      "source": [
        "from toolz import partition_all\n",
        "from tqdm.auto import tqdm"
      ]
    },
    {
      "cell_type": "code",
      "execution_count": 23,
      "metadata": {
        "id": "eL86El6e8ZoL"
      },
      "outputs": [
        {
          "data": {
            "application/vnd.jupyter.widget-view+json": {
              "model_id": "c4dd51c24caf4f92a394ece9ce360c25",
              "version_major": 2,
              "version_minor": 0
            },
            "text/plain": [
              "  0%|          | 0/1000 [00:00<?, ?it/s]"
            ]
          },
          "metadata": {},
          "output_type": "display_data"
        },
        {
          "name": "stdout",
          "output_type": "stream",
          "text": [
            "CPU times: user 30.9 s, sys: 35.7 s, total: 1min 6s\n",
            "Wall time: 1min 19s\n"
          ]
        }
      ],
      "source": [
        "%%time\n",
        "bs = 100\n",
        "for batch in tqdm(partition_all(bs, yield_rows(sample)), total=len(sample) // bs):\n",
        "    client.upsert(collection_name=collection_name, points=list(batch), wait=False)"
      ]
    },
    {
      "cell_type": "markdown",
      "metadata": {},
      "source": [
        "On my 2021 MacBook Pro with an M1 chip this takes about 90 seconds to run. As mentioned above this can be heavily optimized but this gives an idea of how easy it is to add data to Qdrant from a Hugging Face dataset."
      ]
    },
    {
      "cell_type": "markdown",
      "metadata": {},
      "source": [
        "## Searching our Qdrant collection\n",
        "\n",
        "What can we do with our Qdrant collection? We can use our embeddings to find similar wikipedia articles. Let's see how we can do that.\n",
        "\n",
        "First we'll use the `get_collection` method to see some information about our collection."
      ]
    },
    {
      "cell_type": "code",
      "execution_count": 26,
      "metadata": {
        "id": "CMmL57ozBDjo"
      },
      "outputs": [
        {
          "data": {
            "text/html": [
              "<pre style=\"white-space:pre;overflow-x:auto;line-height:normal;font-family:Menlo,'DejaVu Sans Mono',consolas,'Courier New',monospace\"><span style=\"color: #800080; text-decoration-color: #800080; font-weight: bold\">CollectionInfo</span><span style=\"font-weight: bold\">(</span>\n",
              "    <span style=\"color: #808000; text-decoration-color: #808000\">status</span>=<span style=\"font-weight: bold\">&lt;</span><span style=\"color: #ff00ff; text-decoration-color: #ff00ff; font-weight: bold\">CollectionStatus.GREEN:</span><span style=\"color: #000000; text-decoration-color: #000000\"> </span><span style=\"color: #008000; text-decoration-color: #008000\">'green'</span><span style=\"color: #000000; text-decoration-color: #000000\">&gt;,</span>\n",
              "<span style=\"color: #000000; text-decoration-color: #000000\">    </span><span style=\"color: #808000; text-decoration-color: #808000\">optimizer_status</span><span style=\"color: #000000; text-decoration-color: #000000\">=&lt;OptimizersStatusOneOf.OK: </span><span style=\"color: #008000; text-decoration-color: #008000\">'ok'</span><span style=\"color: #000000; text-decoration-color: #000000\">&gt;,</span>\n",
              "<span style=\"color: #000000; text-decoration-color: #000000\">    </span><span style=\"color: #808000; text-decoration-color: #808000\">vectors_count</span><span style=\"color: #000000; text-decoration-color: #000000\">=</span><span style=\"color: #008080; text-decoration-color: #008080; font-weight: bold\">100000</span><span style=\"color: #000000; text-decoration-color: #000000\">,</span>\n",
              "<span style=\"color: #000000; text-decoration-color: #000000\">    </span><span style=\"color: #808000; text-decoration-color: #808000\">indexed_vectors_count</span><span style=\"color: #000000; text-decoration-color: #000000\">=</span><span style=\"color: #008080; text-decoration-color: #008080; font-weight: bold\">0</span><span style=\"color: #000000; text-decoration-color: #000000\">,</span>\n",
              "<span style=\"color: #000000; text-decoration-color: #000000\">    </span><span style=\"color: #808000; text-decoration-color: #808000\">points_count</span><span style=\"color: #000000; text-decoration-color: #000000\">=</span><span style=\"color: #008080; text-decoration-color: #008080; font-weight: bold\">100000</span><span style=\"color: #000000; text-decoration-color: #000000\">,</span>\n",
              "<span style=\"color: #000000; text-decoration-color: #000000\">    </span><span style=\"color: #808000; text-decoration-color: #808000\">segments_count</span><span style=\"color: #000000; text-decoration-color: #000000\">=</span><span style=\"color: #008080; text-decoration-color: #008080; font-weight: bold\">1</span><span style=\"color: #000000; text-decoration-color: #000000\">,</span>\n",
              "<span style=\"color: #000000; text-decoration-color: #000000\">    </span><span style=\"color: #808000; text-decoration-color: #808000\">config</span><span style=\"color: #000000; text-decoration-color: #000000\">=</span><span style=\"color: #800080; text-decoration-color: #800080; font-weight: bold\">CollectionConfig</span><span style=\"color: #000000; text-decoration-color: #000000; font-weight: bold\">(</span>\n",
              "<span style=\"color: #000000; text-decoration-color: #000000\">        </span><span style=\"color: #808000; text-decoration-color: #808000\">params</span><span style=\"color: #000000; text-decoration-color: #000000\">=</span><span style=\"color: #800080; text-decoration-color: #800080; font-weight: bold\">CollectionParams</span><span style=\"color: #000000; text-decoration-color: #000000; font-weight: bold\">(</span>\n",
              "<span style=\"color: #000000; text-decoration-color: #000000\">            </span><span style=\"color: #808000; text-decoration-color: #808000\">vectors</span><span style=\"color: #000000; text-decoration-color: #000000\">=</span><span style=\"color: #800080; text-decoration-color: #800080; font-weight: bold\">VectorParams</span><span style=\"color: #000000; text-decoration-color: #000000; font-weight: bold\">(</span>\n",
              "<span style=\"color: #000000; text-decoration-color: #000000\">                </span><span style=\"color: #808000; text-decoration-color: #808000\">size</span><span style=\"color: #000000; text-decoration-color: #000000\">=</span><span style=\"color: #008080; text-decoration-color: #008080; font-weight: bold\">768</span><span style=\"color: #000000; text-decoration-color: #000000\">,</span>\n",
              "<span style=\"color: #000000; text-decoration-color: #000000\">                </span><span style=\"color: #808000; text-decoration-color: #808000\">distance</span><span style=\"color: #000000; text-decoration-color: #000000\">=&lt;Distance.COSINE: </span><span style=\"color: #008000; text-decoration-color: #008000\">'Cosine'</span><span style=\"font-weight: bold\">&gt;</span>,\n",
              "                <span style=\"color: #808000; text-decoration-color: #808000\">hnsw_config</span>=<span style=\"color: #800080; text-decoration-color: #800080; font-style: italic\">None</span>,\n",
              "                <span style=\"color: #808000; text-decoration-color: #808000\">quantization_config</span>=<span style=\"color: #800080; text-decoration-color: #800080; font-style: italic\">None</span>,\n",
              "                <span style=\"color: #808000; text-decoration-color: #808000\">on_disk</span>=<span style=\"color: #800080; text-decoration-color: #800080; font-style: italic\">None</span>\n",
              "            <span style=\"font-weight: bold\">)</span>,\n",
              "            <span style=\"color: #808000; text-decoration-color: #808000\">shard_number</span>=<span style=\"color: #800080; text-decoration-color: #800080; font-style: italic\">None</span>,\n",
              "            <span style=\"color: #808000; text-decoration-color: #808000\">replication_factor</span>=<span style=\"color: #800080; text-decoration-color: #800080; font-style: italic\">None</span>,\n",
              "            <span style=\"color: #808000; text-decoration-color: #808000\">write_consistency_factor</span>=<span style=\"color: #800080; text-decoration-color: #800080; font-style: italic\">None</span>,\n",
              "            <span style=\"color: #808000; text-decoration-color: #808000\">read_fan_out_factor</span>=<span style=\"color: #800080; text-decoration-color: #800080; font-style: italic\">None</span>,\n",
              "            <span style=\"color: #808000; text-decoration-color: #808000\">on_disk_payload</span>=<span style=\"color: #800080; text-decoration-color: #800080; font-style: italic\">None</span>\n",
              "        <span style=\"font-weight: bold\">)</span>,\n",
              "        <span style=\"color: #808000; text-decoration-color: #808000\">hnsw_config</span>=<span style=\"color: #800080; text-decoration-color: #800080; font-weight: bold\">HnswConfig</span><span style=\"font-weight: bold\">(</span>\n",
              "            <span style=\"color: #808000; text-decoration-color: #808000\">m</span>=<span style=\"color: #008080; text-decoration-color: #008080; font-weight: bold\">16</span>,\n",
              "            <span style=\"color: #808000; text-decoration-color: #808000\">ef_construct</span>=<span style=\"color: #008080; text-decoration-color: #008080; font-weight: bold\">100</span>,\n",
              "            <span style=\"color: #808000; text-decoration-color: #808000\">full_scan_threshold</span>=<span style=\"color: #008080; text-decoration-color: #008080; font-weight: bold\">10000</span>,\n",
              "            <span style=\"color: #808000; text-decoration-color: #808000\">max_indexing_threads</span>=<span style=\"color: #008080; text-decoration-color: #008080; font-weight: bold\">0</span>,\n",
              "            <span style=\"color: #808000; text-decoration-color: #808000\">on_disk</span>=<span style=\"color: #800080; text-decoration-color: #800080; font-style: italic\">None</span>,\n",
              "            <span style=\"color: #808000; text-decoration-color: #808000\">payload_m</span>=<span style=\"color: #800080; text-decoration-color: #800080; font-style: italic\">None</span>\n",
              "        <span style=\"font-weight: bold\">)</span>,\n",
              "        <span style=\"color: #808000; text-decoration-color: #808000\">optimizer_config</span>=<span style=\"color: #800080; text-decoration-color: #800080; font-weight: bold\">OptimizersConfig</span><span style=\"font-weight: bold\">(</span>\n",
              "            <span style=\"color: #808000; text-decoration-color: #808000\">deleted_threshold</span>=<span style=\"color: #008080; text-decoration-color: #008080; font-weight: bold\">0.2</span>,\n",
              "            <span style=\"color: #808000; text-decoration-color: #808000\">vacuum_min_vector_number</span>=<span style=\"color: #008080; text-decoration-color: #008080; font-weight: bold\">1000</span>,\n",
              "            <span style=\"color: #808000; text-decoration-color: #808000\">default_segment_number</span>=<span style=\"color: #008080; text-decoration-color: #008080; font-weight: bold\">0</span>,\n",
              "            <span style=\"color: #808000; text-decoration-color: #808000\">max_segment_size</span>=<span style=\"color: #800080; text-decoration-color: #800080; font-style: italic\">None</span>,\n",
              "            <span style=\"color: #808000; text-decoration-color: #808000\">memmap_threshold</span>=<span style=\"color: #800080; text-decoration-color: #800080; font-style: italic\">None</span>,\n",
              "            <span style=\"color: #808000; text-decoration-color: #808000\">indexing_threshold</span>=<span style=\"color: #008080; text-decoration-color: #008080; font-weight: bold\">20000</span>,\n",
              "            <span style=\"color: #808000; text-decoration-color: #808000\">flush_interval_sec</span>=<span style=\"color: #008080; text-decoration-color: #008080; font-weight: bold\">5</span>,\n",
              "            <span style=\"color: #808000; text-decoration-color: #808000\">max_optimization_threads</span>=<span style=\"color: #008080; text-decoration-color: #008080; font-weight: bold\">1</span>\n",
              "        <span style=\"font-weight: bold\">)</span>,\n",
              "        <span style=\"color: #808000; text-decoration-color: #808000\">wal_config</span>=<span style=\"color: #800080; text-decoration-color: #800080; font-weight: bold\">WalConfig</span><span style=\"font-weight: bold\">(</span><span style=\"color: #808000; text-decoration-color: #808000\">wal_capacity_mb</span>=<span style=\"color: #008080; text-decoration-color: #008080; font-weight: bold\">32</span>, <span style=\"color: #808000; text-decoration-color: #808000\">wal_segments_ahead</span>=<span style=\"color: #008080; text-decoration-color: #008080; font-weight: bold\">0</span><span style=\"font-weight: bold\">)</span>,\n",
              "        <span style=\"color: #808000; text-decoration-color: #808000\">quantization_config</span>=<span style=\"color: #800080; text-decoration-color: #800080; font-style: italic\">None</span>\n",
              "    <span style=\"font-weight: bold\">)</span>,\n",
              "    <span style=\"color: #808000; text-decoration-color: #808000\">payload_schema</span>=<span style=\"font-weight: bold\">{}</span>\n",
              "<span style=\"font-weight: bold\">)</span>\n",
              "</pre>\n"
            ],
            "text/plain": [
              "\u001b[1;35mCollectionInfo\u001b[0m\u001b[1m(\u001b[0m\n",
              "    \u001b[33mstatus\u001b[0m=\u001b[1m<\u001b[0m\u001b[1;95mCollectionStatus.GREEN:\u001b[0m\u001b[39m \u001b[0m\u001b[32m'green'\u001b[0m\u001b[39m>,\u001b[0m\n",
              "\u001b[39m    \u001b[0m\u001b[33moptimizer_status\u001b[0m\u001b[39m=<OptimizersStatusOneOf.OK: \u001b[0m\u001b[32m'ok'\u001b[0m\u001b[39m>,\u001b[0m\n",
              "\u001b[39m    \u001b[0m\u001b[33mvectors_count\u001b[0m\u001b[39m=\u001b[0m\u001b[1;36m100000\u001b[0m\u001b[39m,\u001b[0m\n",
              "\u001b[39m    \u001b[0m\u001b[33mindexed_vectors_count\u001b[0m\u001b[39m=\u001b[0m\u001b[1;36m0\u001b[0m\u001b[39m,\u001b[0m\n",
              "\u001b[39m    \u001b[0m\u001b[33mpoints_count\u001b[0m\u001b[39m=\u001b[0m\u001b[1;36m100000\u001b[0m\u001b[39m,\u001b[0m\n",
              "\u001b[39m    \u001b[0m\u001b[33msegments_count\u001b[0m\u001b[39m=\u001b[0m\u001b[1;36m1\u001b[0m\u001b[39m,\u001b[0m\n",
              "\u001b[39m    \u001b[0m\u001b[33mconfig\u001b[0m\u001b[39m=\u001b[0m\u001b[1;35mCollectionConfig\u001b[0m\u001b[1;39m(\u001b[0m\n",
              "\u001b[39m        \u001b[0m\u001b[33mparams\u001b[0m\u001b[39m=\u001b[0m\u001b[1;35mCollectionParams\u001b[0m\u001b[1;39m(\u001b[0m\n",
              "\u001b[39m            \u001b[0m\u001b[33mvectors\u001b[0m\u001b[39m=\u001b[0m\u001b[1;35mVectorParams\u001b[0m\u001b[1;39m(\u001b[0m\n",
              "\u001b[39m                \u001b[0m\u001b[33msize\u001b[0m\u001b[39m=\u001b[0m\u001b[1;36m768\u001b[0m\u001b[39m,\u001b[0m\n",
              "\u001b[39m                \u001b[0m\u001b[33mdistance\u001b[0m\u001b[39m=<Distance.COSINE: \u001b[0m\u001b[32m'Cosine'\u001b[0m\u001b[1m>\u001b[0m,\n",
              "                \u001b[33mhnsw_config\u001b[0m=\u001b[3;35mNone\u001b[0m,\n",
              "                \u001b[33mquantization_config\u001b[0m=\u001b[3;35mNone\u001b[0m,\n",
              "                \u001b[33mon_disk\u001b[0m=\u001b[3;35mNone\u001b[0m\n",
              "            \u001b[1m)\u001b[0m,\n",
              "            \u001b[33mshard_number\u001b[0m=\u001b[3;35mNone\u001b[0m,\n",
              "            \u001b[33mreplication_factor\u001b[0m=\u001b[3;35mNone\u001b[0m,\n",
              "            \u001b[33mwrite_consistency_factor\u001b[0m=\u001b[3;35mNone\u001b[0m,\n",
              "            \u001b[33mread_fan_out_factor\u001b[0m=\u001b[3;35mNone\u001b[0m,\n",
              "            \u001b[33mon_disk_payload\u001b[0m=\u001b[3;35mNone\u001b[0m\n",
              "        \u001b[1m)\u001b[0m,\n",
              "        \u001b[33mhnsw_config\u001b[0m=\u001b[1;35mHnswConfig\u001b[0m\u001b[1m(\u001b[0m\n",
              "            \u001b[33mm\u001b[0m=\u001b[1;36m16\u001b[0m,\n",
              "            \u001b[33mef_construct\u001b[0m=\u001b[1;36m100\u001b[0m,\n",
              "            \u001b[33mfull_scan_threshold\u001b[0m=\u001b[1;36m10000\u001b[0m,\n",
              "            \u001b[33mmax_indexing_threads\u001b[0m=\u001b[1;36m0\u001b[0m,\n",
              "            \u001b[33mon_disk\u001b[0m=\u001b[3;35mNone\u001b[0m,\n",
              "            \u001b[33mpayload_m\u001b[0m=\u001b[3;35mNone\u001b[0m\n",
              "        \u001b[1m)\u001b[0m,\n",
              "        \u001b[33moptimizer_config\u001b[0m=\u001b[1;35mOptimizersConfig\u001b[0m\u001b[1m(\u001b[0m\n",
              "            \u001b[33mdeleted_threshold\u001b[0m=\u001b[1;36m0\u001b[0m\u001b[1;36m.2\u001b[0m,\n",
              "            \u001b[33mvacuum_min_vector_number\u001b[0m=\u001b[1;36m1000\u001b[0m,\n",
              "            \u001b[33mdefault_segment_number\u001b[0m=\u001b[1;36m0\u001b[0m,\n",
              "            \u001b[33mmax_segment_size\u001b[0m=\u001b[3;35mNone\u001b[0m,\n",
              "            \u001b[33mmemmap_threshold\u001b[0m=\u001b[3;35mNone\u001b[0m,\n",
              "            \u001b[33mindexing_threshold\u001b[0m=\u001b[1;36m20000\u001b[0m,\n",
              "            \u001b[33mflush_interval_sec\u001b[0m=\u001b[1;36m5\u001b[0m,\n",
              "            \u001b[33mmax_optimization_threads\u001b[0m=\u001b[1;36m1\u001b[0m\n",
              "        \u001b[1m)\u001b[0m,\n",
              "        \u001b[33mwal_config\u001b[0m=\u001b[1;35mWalConfig\u001b[0m\u001b[1m(\u001b[0m\u001b[33mwal_capacity_mb\u001b[0m=\u001b[1;36m32\u001b[0m, \u001b[33mwal_segments_ahead\u001b[0m=\u001b[1;36m0\u001b[0m\u001b[1m)\u001b[0m,\n",
              "        \u001b[33mquantization_config\u001b[0m=\u001b[3;35mNone\u001b[0m\n",
              "    \u001b[1m)\u001b[0m,\n",
              "    \u001b[33mpayload_schema\u001b[0m=\u001b[1m{\u001b[0m\u001b[1m}\u001b[0m\n",
              "\u001b[1m)\u001b[0m\n"
            ]
          },
          "metadata": {},
          "output_type": "display_data"
        }
      ],
      "source": [
        "from rich import print\n",
        "\n",
        "print(client.get_collection(collection_name))"
      ]
    },
    {
      "cell_type": "markdown",
      "metadata": {},
      "source": [
        "We can see a bunch of information about our collection. Including the vector count, the dimensionality of the vectors and the distance metric we're using. You'll see that there are plenty of knobs to turn here to optimize your collection but that's for another post.\n",
        "\n",
        "We can use the `scroll` method to get the first vector from our collection"
      ]
    },
    {
      "cell_type": "code",
      "execution_count": 29,
      "metadata": {
        "id": "ROGP9ACjIJGe"
      },
      "outputs": [
        {
          "data": {
            "text/html": [
              "<pre style=\"white-space:pre;overflow-x:auto;line-height:normal;font-family:Menlo,'DejaVu Sans Mono',consolas,'Courier New',monospace\"><span style=\"color: #800080; text-decoration-color: #800080; font-weight: bold\">Record</span><span style=\"font-weight: bold\">(</span>\n",
              "    <span style=\"color: #808000; text-decoration-color: #808000\">id</span>=<span style=\"color: #008080; text-decoration-color: #008080; font-weight: bold\">1</span>,\n",
              "    <span style=\"color: #808000; text-decoration-color: #808000\">payload</span>=<span style=\"font-weight: bold\">{</span>\n",
              "        <span style=\"color: #008000; text-decoration-color: #008000\">'id'</span>: <span style=\"color: #008080; text-decoration-color: #008080; font-weight: bold\">0</span>,\n",
              "        <span style=\"color: #008000; text-decoration-color: #008000\">'title'</span>: <span style=\"color: #008000; text-decoration-color: #008000\">'24-hour clock'</span>,\n",
              "        <span style=\"color: #008000; text-decoration-color: #008000\">'text'</span>: <span style=\"color: #008000; text-decoration-color: #008000\">'The 24-hour clock is a way of telling the time in which the day runs from midnight to midnight and</span>\n",
              "<span style=\"color: #008000; text-decoration-color: #008000\">is divided into 24 hours, numbered from 0 to 23. It does not use a.m. or p.m. This system is also referred to (only</span>\n",
              "<span style=\"color: #008000; text-decoration-color: #008000\">in the US and the English speaking parts of Canada) as military time or (only in the United Kingdom and now very </span>\n",
              "<span style=\"color: #008000; text-decoration-color: #008000\">rarely) as continental time. In some parts of the world, it is called railway time. Also, the international </span>\n",
              "<span style=\"color: #008000; text-decoration-color: #008000\">standard notation of time (ISO 8601) is based on this format.'</span>,\n",
              "        <span style=\"color: #008000; text-decoration-color: #008000\">'url'</span>: <span style=\"color: #008000; text-decoration-color: #008000\">'https://simple.wikipedia.org/wiki?curid=9985'</span>,\n",
              "        <span style=\"color: #008000; text-decoration-color: #008000\">'wiki_id'</span>: <span style=\"color: #008080; text-decoration-color: #008080; font-weight: bold\">9985</span>,\n",
              "        <span style=\"color: #008000; text-decoration-color: #008000\">'views'</span>: <span style=\"color: #008080; text-decoration-color: #008080; font-weight: bold\">2450.62548828125</span>,\n",
              "        <span style=\"color: #008000; text-decoration-color: #008000\">'paragraph_id'</span>: <span style=\"color: #008080; text-decoration-color: #008080; font-weight: bold\">0</span>,\n",
              "        <span style=\"color: #008000; text-decoration-color: #008000\">'langs'</span>: <span style=\"color: #008080; text-decoration-color: #008080; font-weight: bold\">30</span>\n",
              "    <span style=\"font-weight: bold\">}</span>,\n",
              "    <span style=\"color: #808000; text-decoration-color: #808000\">vector</span>=<span style=\"color: #800080; text-decoration-color: #800080; font-style: italic\">None</span>\n",
              "<span style=\"font-weight: bold\">)</span>\n",
              "</pre>\n"
            ],
            "text/plain": [
              "\u001b[1;35mRecord\u001b[0m\u001b[1m(\u001b[0m\n",
              "    \u001b[33mid\u001b[0m=\u001b[1;36m1\u001b[0m,\n",
              "    \u001b[33mpayload\u001b[0m=\u001b[1m{\u001b[0m\n",
              "        \u001b[32m'id'\u001b[0m: \u001b[1;36m0\u001b[0m,\n",
              "        \u001b[32m'title'\u001b[0m: \u001b[32m'24-hour clock'\u001b[0m,\n",
              "        \u001b[32m'text'\u001b[0m: \u001b[32m'The 24-hour clock is a way of telling the time in which the day runs from midnight to midnight and\u001b[0m\n",
              "\u001b[32mis divided into 24 hours, numbered from 0 to 23. It does not use a.m. or p.m. This system is also referred to \u001b[0m\u001b[32m(\u001b[0m\u001b[32monly\u001b[0m\n",
              "\u001b[32min the US and the English speaking parts of Canada\u001b[0m\u001b[32m)\u001b[0m\u001b[32m as military time or \u001b[0m\u001b[32m(\u001b[0m\u001b[32monly in the United Kingdom and now very \u001b[0m\n",
              "\u001b[32mrarely\u001b[0m\u001b[32m)\u001b[0m\u001b[32m as continental time. In some parts of the world, it is called railway time. Also, the international \u001b[0m\n",
              "\u001b[32mstandard notation of time \u001b[0m\u001b[32m(\u001b[0m\u001b[32mISO 8601\u001b[0m\u001b[32m)\u001b[0m\u001b[32m is based on this format.'\u001b[0m,\n",
              "        \u001b[32m'url'\u001b[0m: \u001b[32m'https://simple.wikipedia.org/wiki?\u001b[0m\u001b[32mcurid\u001b[0m\u001b[32m=\u001b[0m\u001b[32m9985\u001b[0m\u001b[32m'\u001b[0m,\n",
              "        \u001b[32m'wiki_id'\u001b[0m: \u001b[1;36m9985\u001b[0m,\n",
              "        \u001b[32m'views'\u001b[0m: \u001b[1;36m2450.62548828125\u001b[0m,\n",
              "        \u001b[32m'paragraph_id'\u001b[0m: \u001b[1;36m0\u001b[0m,\n",
              "        \u001b[32m'langs'\u001b[0m: \u001b[1;36m30\u001b[0m\n",
              "    \u001b[1m}\u001b[0m,\n",
              "    \u001b[33mvector\u001b[0m=\u001b[3;35mNone\u001b[0m\n",
              "\u001b[1m)\u001b[0m\n"
            ]
          },
          "metadata": {},
          "output_type": "display_data"
        }
      ],
      "source": [
        "print(client.scroll(collection_name,limit=1)[0][0])"
      ]
    },
    {
      "cell_type": "markdown",
      "metadata": {},
      "source": [
        "We can also grab items from the payload for each point. "
      ]
    },
    {
      "cell_type": "code",
      "execution_count": 31,
      "metadata": {
        "id": "Z0-KxK7OHwZT"
      },
      "outputs": [
        {
          "data": {
            "text/html": [
              "<pre style=\"white-space:pre;overflow-x:auto;line-height:normal;font-family:Menlo,'DejaVu Sans Mono',consolas,'Courier New',monospace\">The <span style=\"color: #008080; text-decoration-color: #008080; font-weight: bold\">24</span>-hour clock is a way of telling the time in which the day runs from midnight to midnight and is divided into \n",
              "<span style=\"color: #008080; text-decoration-color: #008080; font-weight: bold\">24</span> hours, numbered from <span style=\"color: #008080; text-decoration-color: #008080; font-weight: bold\">0</span> to <span style=\"color: #008080; text-decoration-color: #008080; font-weight: bold\">23</span>. It does not use a.m. or p.m. This system is also referred to <span style=\"font-weight: bold\">(</span>only in the US and \n",
              "the English speaking parts of Canada<span style=\"font-weight: bold\">)</span> as military time or <span style=\"font-weight: bold\">(</span>only in the United Kingdom and now very rarely<span style=\"font-weight: bold\">)</span> as \n",
              "continental time. In some parts of the world, it is called railway time. Also, the international standard notation \n",
              "of time <span style=\"font-weight: bold\">(</span>ISO <span style=\"color: #008080; text-decoration-color: #008080; font-weight: bold\">8601</span><span style=\"font-weight: bold\">)</span> is based on this format.\n",
              "</pre>\n"
            ],
            "text/plain": [
              "The \u001b[1;36m24\u001b[0m-hour clock is a way of telling the time in which the day runs from midnight to midnight and is divided into \n",
              "\u001b[1;36m24\u001b[0m hours, numbered from \u001b[1;36m0\u001b[0m to \u001b[1;36m23\u001b[0m. It does not use a.m. or p.m. This system is also referred to \u001b[1m(\u001b[0monly in the US and \n",
              "the English speaking parts of Canada\u001b[1m)\u001b[0m as military time or \u001b[1m(\u001b[0monly in the United Kingdom and now very rarely\u001b[1m)\u001b[0m as \n",
              "continental time. In some parts of the world, it is called railway time. Also, the international standard notation \n",
              "of time \u001b[1m(\u001b[0mISO \u001b[1;36m8601\u001b[0m\u001b[1m)\u001b[0m is based on this format.\n"
            ]
          },
          "metadata": {},
          "output_type": "display_data"
        }
      ],
      "source": [
        "print(client.scroll('cohere_wikipedia',limit=1)[0][0].payload['text'])"
      ]
    },
    {
      "cell_type": "markdown",
      "metadata": {},
      "source": [
        "We can see this article is about the 24-hour clock system. Let's see what other pages are similar to this one. We can optionally get the vector for the query point."
      ]
    },
    {
      "cell_type": "code",
      "execution_count": 32,
      "metadata": {
        "id": "E7I-mD5LIHbg"
      },
      "outputs": [],
      "source": [
        "vector = client.scroll('cohere_wikipedia',limit=1,with_vectors=True)[0][0].vector"
      ]
    },
    {
      "cell_type": "markdown",
      "metadata": {},
      "source": [
        "We can use our vector as a query to find similar vectors in our collection. We'll use the `search` method to do this. "
      ]
    },
    {
      "cell_type": "code",
      "execution_count": 34,
      "metadata": {
        "id": "EleMCTD7H8a6"
      },
      "outputs": [],
      "source": [
        "query_vector = client.scroll(collection_name, limit=1, with_vectors=True)[0][0].vector\n",
        "hits = client.search(\n",
        "    collection_name=collection_name,\n",
        "    query_vector=query_vector,\n",
        "    limit=15,  # Return 5 closest points\n",
        ")"
      ]
    },
    {
      "cell_type": "markdown",
      "metadata": {},
      "source": [
        "Let's look at some of the results. We can see that the first result is the same article. The rest also seem to be about time/24 hour clock systems!"
      ]
    },
    {
      "cell_type": "code",
      "execution_count": 36,
      "metadata": {
        "id": "nDI3LJstWFZf"
      },
      "outputs": [
        {
          "data": {
            "text/html": [
              "<pre style=\"white-space:pre;overflow-x:auto;line-height:normal;font-family:Menlo,'DejaVu Sans Mono',consolas,'Courier New',monospace\"><span style=\"color: #008080; text-decoration-color: #008080; font-weight: bold\">24</span>-hour clock | The <span style=\"color: #008080; text-decoration-color: #008080; font-weight: bold\">24</span>-hour clock is a way of telling the time in which the day runs from midnight to midnight and \n",
              "is divided into <span style=\"color: #008080; text-decoration-color: #008080; font-weight: bold\">24</span> hours, numbered from <span style=\"color: #008080; text-decoration-color: #008080; font-weight: bold\">0</span> to <span style=\"color: #008080; text-decoration-color: #008080; font-weight: bold\">23</span>. It does not use a.m. or p.m. This system is also referred to <span style=\"font-weight: bold\">(</span>only\n",
              "in the US and the English speaking parts of Canada<span style=\"font-weight: bold\">)</span> as military time or <span style=\"font-weight: bold\">(</span>only in the United Kingdom and now very \n",
              "rarely<span style=\"font-weight: bold\">)</span> as continental time. In some parts of the world, it is called railway time. Also, the international \n",
              "standard notation of time <span style=\"font-weight: bold\">(</span>ISO <span style=\"color: #008080; text-decoration-color: #008080; font-weight: bold\">8601</span><span style=\"font-weight: bold\">)</span> is based on this format.\n",
              "</pre>\n"
            ],
            "text/plain": [
              "\u001b[1;36m24\u001b[0m-hour clock | The \u001b[1;36m24\u001b[0m-hour clock is a way of telling the time in which the day runs from midnight to midnight and \n",
              "is divided into \u001b[1;36m24\u001b[0m hours, numbered from \u001b[1;36m0\u001b[0m to \u001b[1;36m23\u001b[0m. It does not use a.m. or p.m. This system is also referred to \u001b[1m(\u001b[0monly\n",
              "in the US and the English speaking parts of Canada\u001b[1m)\u001b[0m as military time or \u001b[1m(\u001b[0monly in the United Kingdom and now very \n",
              "rarely\u001b[1m)\u001b[0m as continental time. In some parts of the world, it is called railway time. Also, the international \n",
              "standard notation of time \u001b[1m(\u001b[0mISO \u001b[1;36m8601\u001b[0m\u001b[1m)\u001b[0m is based on this format.\n"
            ]
          },
          "metadata": {},
          "output_type": "display_data"
        },
        {
          "data": {
            "text/html": [
              "<pre style=\"white-space:pre;overflow-x:auto;line-height:normal;font-family:Menlo,'DejaVu Sans Mono',consolas,'Courier New',monospace\">---\n",
              "</pre>\n"
            ],
            "text/plain": [
              "---\n"
            ]
          },
          "metadata": {},
          "output_type": "display_data"
        },
        {
          "data": {
            "text/html": [
              "<pre style=\"white-space:pre;overflow-x:auto;line-height:normal;font-family:Menlo,'DejaVu Sans Mono',consolas,'Courier New',monospace\"><span style=\"color: #008080; text-decoration-color: #008080; font-weight: bold\">24</span>-hour clock | However, the US military prefers not to say <span style=\"color: #00ff00; text-decoration-color: #00ff00; font-weight: bold\">24:00</span> - they do not like to have two names for the same\n",
              "thing, so they always say <span style=\"color: #008000; text-decoration-color: #008000\">\"23:59\"</span>, which is one minute before midnight.\n",
              "</pre>\n"
            ],
            "text/plain": [
              "\u001b[1;36m24\u001b[0m-hour clock | However, the US military prefers not to say \u001b[1;92m24:00\u001b[0m - they do not like to have two names for the same\n",
              "thing, so they always say \u001b[32m\"23:59\"\u001b[0m, which is one minute before midnight.\n"
            ]
          },
          "metadata": {},
          "output_type": "display_data"
        },
        {
          "data": {
            "text/html": [
              "<pre style=\"white-space:pre;overflow-x:auto;line-height:normal;font-family:Menlo,'DejaVu Sans Mono',consolas,'Courier New',monospace\">---\n",
              "</pre>\n"
            ],
            "text/plain": [
              "---\n"
            ]
          },
          "metadata": {},
          "output_type": "display_data"
        },
        {
          "data": {
            "text/html": [
              "<pre style=\"white-space:pre;overflow-x:auto;line-height:normal;font-family:Menlo,'DejaVu Sans Mono',consolas,'Courier New',monospace\"><span style=\"color: #008080; text-decoration-color: #008080; font-weight: bold\">24</span>-hour clock | <span style=\"color: #008080; text-decoration-color: #008080; font-weight: bold\">24</span>-hour clock time is used in computers, military, public safety, and transport. In many Asian, \n",
              "European and Latin American countries people use it to write the time. Many European people use it in speaking.\n",
              "</pre>\n"
            ],
            "text/plain": [
              "\u001b[1;36m24\u001b[0m-hour clock | \u001b[1;36m24\u001b[0m-hour clock time is used in computers, military, public safety, and transport. In many Asian, \n",
              "European and Latin American countries people use it to write the time. Many European people use it in speaking.\n"
            ]
          },
          "metadata": {},
          "output_type": "display_data"
        },
        {
          "data": {
            "text/html": [
              "<pre style=\"white-space:pre;overflow-x:auto;line-height:normal;font-family:Menlo,'DejaVu Sans Mono',consolas,'Courier New',monospace\">---\n",
              "</pre>\n"
            ],
            "text/plain": [
              "---\n"
            ]
          },
          "metadata": {},
          "output_type": "display_data"
        },
        {
          "data": {
            "text/html": [
              "<pre style=\"white-space:pre;overflow-x:auto;line-height:normal;font-family:Menlo,'DejaVu Sans Mono',consolas,'Courier New',monospace\"><span style=\"color: #008080; text-decoration-color: #008080; font-weight: bold\">24</span>-hour clock | In railway timetables <span style=\"color: #00ff00; text-decoration-color: #00ff00; font-weight: bold\">24:00</span> means the <span style=\"color: #008000; text-decoration-color: #008000\">\"end\"</span> of the day. For example, a train due to arrive at a \n",
              "station during the last minute of a day arrives at <span style=\"color: #00ff00; text-decoration-color: #00ff00; font-weight: bold\">24:00</span>; but trains which depart during the first minute of the \n",
              "day go at <span style=\"color: #00ff00; text-decoration-color: #00ff00; font-weight: bold\">00:00</span>.\n",
              "</pre>\n"
            ],
            "text/plain": [
              "\u001b[1;36m24\u001b[0m-hour clock | In railway timetables \u001b[1;92m24:00\u001b[0m means the \u001b[32m\"end\"\u001b[0m of the day. For example, a train due to arrive at a \n",
              "station during the last minute of a day arrives at \u001b[1;92m24:00\u001b[0m; but trains which depart during the first minute of the \n",
              "day go at \u001b[1;92m00:00\u001b[0m.\n"
            ]
          },
          "metadata": {},
          "output_type": "display_data"
        },
        {
          "data": {
            "text/html": [
              "<pre style=\"white-space:pre;overflow-x:auto;line-height:normal;font-family:Menlo,'DejaVu Sans Mono',consolas,'Courier New',monospace\">---\n",
              "</pre>\n"
            ],
            "text/plain": [
              "---\n"
            ]
          },
          "metadata": {},
          "output_type": "display_data"
        },
        {
          "data": {
            "text/html": [
              "<pre style=\"white-space:pre;overflow-x:auto;line-height:normal;font-family:Menlo,'DejaVu Sans Mono',consolas,'Courier New',monospace\"><span style=\"color: #008080; text-decoration-color: #008080; font-weight: bold\">24</span>-hour clock | A time in the <span style=\"color: #008080; text-decoration-color: #008080; font-weight: bold\">24</span>-hour clock is written in the form hours:minutes <span style=\"font-weight: bold\">(</span>for example, <span style=\"color: #00ff00; text-decoration-color: #00ff00; font-weight: bold\">01:23</span><span style=\"font-weight: bold\">)</span>, or \n",
              "hours:minutes:seconds <span style=\"font-weight: bold\">(</span><span style=\"color: #00ff00; text-decoration-color: #00ff00; font-weight: bold\">01:23:45</span><span style=\"font-weight: bold\">)</span>. Numbers under <span style=\"color: #008080; text-decoration-color: #008080; font-weight: bold\">10</span> have a zero in front <span style=\"font-weight: bold\">(</span>called a leading zero<span style=\"font-weight: bold\">)</span>; e.g. <span style=\"color: #00ff00; text-decoration-color: #00ff00; font-weight: bold\">09:07</span>. Under \n",
              "the <span style=\"color: #008080; text-decoration-color: #008080; font-weight: bold\">24</span>-hour clock system, the day begins at midnight, <span style=\"color: #00ff00; text-decoration-color: #00ff00; font-weight: bold\">00:00</span>, and the last minute of the day begins at <span style=\"color: #00ff00; text-decoration-color: #00ff00; font-weight: bold\">23:59</span> and \n",
              "ends at <span style=\"color: #00ff00; text-decoration-color: #00ff00; font-weight: bold\">24:00</span>, which is identical to <span style=\"color: #00ff00; text-decoration-color: #00ff00; font-weight: bold\">00:00</span> of the following day. <span style=\"color: #00ff00; text-decoration-color: #00ff00; font-weight: bold\">12:00</span> can only be mid-day. Midnight is called \n",
              "<span style=\"color: #00ff00; text-decoration-color: #00ff00; font-weight: bold\">24:00</span> and is used to mean the end of the day and <span style=\"color: #00ff00; text-decoration-color: #00ff00; font-weight: bold\">00:00</span> is used to mean the beginning of the day. For example, you \n",
              "would say <span style=\"color: #008000; text-decoration-color: #008000\">\"Tuesday at 24:00\"</span> and <span style=\"color: #008000; text-decoration-color: #008000\">\"Wednesday at 00:00\"</span> to mean exactly the same time.\n",
              "</pre>\n"
            ],
            "text/plain": [
              "\u001b[1;36m24\u001b[0m-hour clock | A time in the \u001b[1;36m24\u001b[0m-hour clock is written in the form hours:minutes \u001b[1m(\u001b[0mfor example, \u001b[1;92m01:23\u001b[0m\u001b[1m)\u001b[0m, or \n",
              "hours:minutes:seconds \u001b[1m(\u001b[0m\u001b[1;92m01:23:45\u001b[0m\u001b[1m)\u001b[0m. Numbers under \u001b[1;36m10\u001b[0m have a zero in front \u001b[1m(\u001b[0mcalled a leading zero\u001b[1m)\u001b[0m; e.g. \u001b[1;92m09:07\u001b[0m. Under \n",
              "the \u001b[1;36m24\u001b[0m-hour clock system, the day begins at midnight, \u001b[1;92m00:00\u001b[0m, and the last minute of the day begins at \u001b[1;92m23:59\u001b[0m and \n",
              "ends at \u001b[1;92m24:00\u001b[0m, which is identical to \u001b[1;92m00:00\u001b[0m of the following day. \u001b[1;92m12:00\u001b[0m can only be mid-day. Midnight is called \n",
              "\u001b[1;92m24:00\u001b[0m and is used to mean the end of the day and \u001b[1;92m00:00\u001b[0m is used to mean the beginning of the day. For example, you \n",
              "would say \u001b[32m\"Tuesday at 24:00\"\u001b[0m and \u001b[32m\"Wednesday at 00:00\"\u001b[0m to mean exactly the same time.\n"
            ]
          },
          "metadata": {},
          "output_type": "display_data"
        },
        {
          "data": {
            "text/html": [
              "<pre style=\"white-space:pre;overflow-x:auto;line-height:normal;font-family:Menlo,'DejaVu Sans Mono',consolas,'Courier New',monospace\">---\n",
              "</pre>\n"
            ],
            "text/plain": [
              "---\n"
            ]
          },
          "metadata": {},
          "output_type": "display_data"
        },
        {
          "data": {
            "text/html": [
              "<pre style=\"white-space:pre;overflow-x:auto;line-height:normal;font-family:Menlo,'DejaVu Sans Mono',consolas,'Courier New',monospace\"><span style=\"color: #008080; text-decoration-color: #008080; font-weight: bold\">12</span>-hour clock | The <span style=\"color: #008080; text-decoration-color: #008080; font-weight: bold\">12</span>-hour clock is a way of dividing the <span style=\"color: #008080; text-decoration-color: #008080; font-weight: bold\">24</span> hours of the day into two sections. The two halves \n",
              "are called ante meridiem <span style=\"font-weight: bold\">(</span>a.m.<span style=\"font-weight: bold\">)</span> and post meridiem <span style=\"font-weight: bold\">(</span>p.m.<span style=\"font-weight: bold\">)</span>.\n",
              "</pre>\n"
            ],
            "text/plain": [
              "\u001b[1;36m12\u001b[0m-hour clock | The \u001b[1;36m12\u001b[0m-hour clock is a way of dividing the \u001b[1;36m24\u001b[0m hours of the day into two sections. The two halves \n",
              "are called ante meridiem \u001b[1m(\u001b[0ma.m.\u001b[1m)\u001b[0m and post meridiem \u001b[1m(\u001b[0mp.m.\u001b[1m)\u001b[0m.\n"
            ]
          },
          "metadata": {},
          "output_type": "display_data"
        },
        {
          "data": {
            "text/html": [
              "<pre style=\"white-space:pre;overflow-x:auto;line-height:normal;font-family:Menlo,'DejaVu Sans Mono',consolas,'Courier New',monospace\">---\n",
              "</pre>\n"
            ],
            "text/plain": [
              "---\n"
            ]
          },
          "metadata": {},
          "output_type": "display_data"
        },
        {
          "data": {
            "text/html": [
              "<pre style=\"white-space:pre;overflow-x:auto;line-height:normal;font-family:Menlo,'DejaVu Sans Mono',consolas,'Courier New',monospace\"><span style=\"color: #008080; text-decoration-color: #008080; font-weight: bold\">12</span>-hour clock | Both names are from Latin, and numbered from <span style=\"color: #008080; text-decoration-color: #008080; font-weight: bold\">1</span>, <span style=\"color: #008080; text-decoration-color: #008080; font-weight: bold\">2</span>, <span style=\"color: #008080; text-decoration-color: #008080; font-weight: bold\">3</span>, <span style=\"color: #008080; text-decoration-color: #008080; font-weight: bold\">4</span>, <span style=\"color: #008080; text-decoration-color: #008080; font-weight: bold\">5</span>, <span style=\"color: #008080; text-decoration-color: #008080; font-weight: bold\">6</span>, <span style=\"color: #008080; text-decoration-color: #008080; font-weight: bold\">7</span>, <span style=\"color: #008080; text-decoration-color: #008080; font-weight: bold\">8</span>, <span style=\"color: #008080; text-decoration-color: #008080; font-weight: bold\">9</span>, <span style=\"color: #008080; text-decoration-color: #008080; font-weight: bold\">10</span>, <span style=\"color: #008080; text-decoration-color: #008080; font-weight: bold\">11</span> and <span style=\"color: #008080; text-decoration-color: #008080; font-weight: bold\">12</span>. Time from \n",
              "midnight to noon is a.m. and from noon to midnight p.m. The table at right shows how it relates to the <span style=\"color: #008080; text-decoration-color: #008080; font-weight: bold\">24</span>-hour \n",
              "clock.\n",
              "</pre>\n"
            ],
            "text/plain": [
              "\u001b[1;36m12\u001b[0m-hour clock | Both names are from Latin, and numbered from \u001b[1;36m1\u001b[0m, \u001b[1;36m2\u001b[0m, \u001b[1;36m3\u001b[0m, \u001b[1;36m4\u001b[0m, \u001b[1;36m5\u001b[0m, \u001b[1;36m6\u001b[0m, \u001b[1;36m7\u001b[0m, \u001b[1;36m8\u001b[0m, \u001b[1;36m9\u001b[0m, \u001b[1;36m10\u001b[0m, \u001b[1;36m11\u001b[0m and \u001b[1;36m12\u001b[0m. Time from \n",
              "midnight to noon is a.m. and from noon to midnight p.m. The table at right shows how it relates to the \u001b[1;36m24\u001b[0m-hour \n",
              "clock.\n"
            ]
          },
          "metadata": {},
          "output_type": "display_data"
        },
        {
          "data": {
            "text/html": [
              "<pre style=\"white-space:pre;overflow-x:auto;line-height:normal;font-family:Menlo,'DejaVu Sans Mono',consolas,'Courier New',monospace\">---\n",
              "</pre>\n"
            ],
            "text/plain": [
              "---\n"
            ]
          },
          "metadata": {},
          "output_type": "display_data"
        },
        {
          "data": {
            "text/html": [
              "<pre style=\"white-space:pre;overflow-x:auto;line-height:normal;font-family:Menlo,'DejaVu Sans Mono',consolas,'Courier New',monospace\">Hour | An hour <span style=\"font-weight: bold\">(</span>abbreviation: h or hr<span style=\"font-weight: bold\">)</span> is a unit of measurement used to measure time. An hour is equal to <span style=\"color: #008080; text-decoration-color: #008080; font-weight: bold\">60</span> \n",
              "minutes. <span style=\"color: #008080; text-decoration-color: #008080; font-weight: bold\">24</span> hours are equal to one day. Unlike the second, the hour is not a base SI unit.\n",
              "</pre>\n"
            ],
            "text/plain": [
              "Hour | An hour \u001b[1m(\u001b[0mabbreviation: h or hr\u001b[1m)\u001b[0m is a unit of measurement used to measure time. An hour is equal to \u001b[1;36m60\u001b[0m \n",
              "minutes. \u001b[1;36m24\u001b[0m hours are equal to one day. Unlike the second, the hour is not a base SI unit.\n"
            ]
          },
          "metadata": {},
          "output_type": "display_data"
        },
        {
          "data": {
            "text/html": [
              "<pre style=\"white-space:pre;overflow-x:auto;line-height:normal;font-family:Menlo,'DejaVu Sans Mono',consolas,'Courier New',monospace\">---\n",
              "</pre>\n"
            ],
            "text/plain": [
              "---\n"
            ]
          },
          "metadata": {},
          "output_type": "display_data"
        },
        {
          "data": {
            "text/html": [
              "<pre style=\"white-space:pre;overflow-x:auto;line-height:normal;font-family:Menlo,'DejaVu Sans Mono',consolas,'Courier New',monospace\">Midnight | The time period <span style=\"color: #008000; text-decoration-color: #008000\">\"00:00 - 00:01\"</span> is midnight. On computer clocks, the day changes to the next day the \n",
              "<span style=\"color: #800080; text-decoration-color: #800080; font-weight: bold\">minute</span><span style=\"font-weight: bold\">(</span>s<span style=\"font-weight: bold\">)</span> after midnight.\n",
              "</pre>\n"
            ],
            "text/plain": [
              "Midnight | The time period \u001b[32m\"00:00 - 00:01\"\u001b[0m is midnight. On computer clocks, the day changes to the next day the \n",
              "\u001b[1;35mminute\u001b[0m\u001b[1m(\u001b[0ms\u001b[1m)\u001b[0m after midnight.\n"
            ]
          },
          "metadata": {},
          "output_type": "display_data"
        },
        {
          "data": {
            "text/html": [
              "<pre style=\"white-space:pre;overflow-x:auto;line-height:normal;font-family:Menlo,'DejaVu Sans Mono',consolas,'Courier New',monospace\">---\n",
              "</pre>\n"
            ],
            "text/plain": [
              "---\n"
            ]
          },
          "metadata": {},
          "output_type": "display_data"
        },
        {
          "data": {
            "text/html": [
              "<pre style=\"white-space:pre;overflow-x:auto;line-height:normal;font-family:Menlo,'DejaVu Sans Mono',consolas,'Courier New',monospace\">Chinese zodiac | In the old days, China and Japan used a <span style=\"color: #008080; text-decoration-color: #008080; font-weight: bold\">12</span>-hour system to tell the time of day and night <span style=\"font-weight: bold\">(</span>unlike \n",
              "the <span style=\"color: #008080; text-decoration-color: #008080; font-weight: bold\">24</span> hour system used today<span style=\"font-weight: bold\">)</span>. The <span style=\"color: #008080; text-decoration-color: #008080; font-weight: bold\">12</span> hour system divides the day of <span style=\"color: #008080; text-decoration-color: #008080; font-weight: bold\">24</span> hours into <span style=\"color: #008080; text-decoration-color: #008080; font-weight: bold\">12</span> hours, each of which has a \n",
              "sign of the zodiac:\n",
              "</pre>\n"
            ],
            "text/plain": [
              "Chinese zodiac | In the old days, China and Japan used a \u001b[1;36m12\u001b[0m-hour system to tell the time of day and night \u001b[1m(\u001b[0munlike \n",
              "the \u001b[1;36m24\u001b[0m hour system used today\u001b[1m)\u001b[0m. The \u001b[1;36m12\u001b[0m hour system divides the day of \u001b[1;36m24\u001b[0m hours into \u001b[1;36m12\u001b[0m hours, each of which has a \n",
              "sign of the zodiac:\n"
            ]
          },
          "metadata": {},
          "output_type": "display_data"
        },
        {
          "data": {
            "text/html": [
              "<pre style=\"white-space:pre;overflow-x:auto;line-height:normal;font-family:Menlo,'DejaVu Sans Mono',consolas,'Courier New',monospace\">---\n",
              "</pre>\n"
            ],
            "text/plain": [
              "---\n"
            ]
          },
          "metadata": {},
          "output_type": "display_data"
        },
        {
          "data": {
            "text/html": [
              "<pre style=\"white-space:pre;overflow-x:auto;line-height:normal;font-family:Menlo,'DejaVu Sans Mono',consolas,'Courier New',monospace\">Coordinated Universal Time | Note that UTC uses the <span style=\"color: #008080; text-decoration-color: #008080; font-weight: bold\">24</span>-hour clock. That means there is no <span style=\"color: #008000; text-decoration-color: #008000\">'AM'</span> or <span style=\"color: #008000; text-decoration-color: #008000\">'PM'</span>. For \n",
              "example, <span style=\"color: #00ff00; text-decoration-color: #00ff00; font-weight: bold\">4:00</span>PM would be <span style=\"color: #00ff00; text-decoration-color: #00ff00; font-weight: bold\">16:00</span> or <span style=\"color: #008080; text-decoration-color: #008080; font-weight: bold\">1600</span>. UTC also does not use daylight savings time - that way the time stays \n",
              "consistent the entire year.\n",
              "</pre>\n"
            ],
            "text/plain": [
              "Coordinated Universal Time | Note that UTC uses the \u001b[1;36m24\u001b[0m-hour clock. That means there is no \u001b[32m'AM'\u001b[0m or \u001b[32m'PM'\u001b[0m. For \n",
              "example, \u001b[1;92m4:00\u001b[0mPM would be \u001b[1;92m16:00\u001b[0m or \u001b[1;36m1600\u001b[0m. UTC also does not use daylight savings time - that way the time stays \n",
              "consistent the entire year.\n"
            ]
          },
          "metadata": {},
          "output_type": "display_data"
        },
        {
          "data": {
            "text/html": [
              "<pre style=\"white-space:pre;overflow-x:auto;line-height:normal;font-family:Menlo,'DejaVu Sans Mono',consolas,'Courier New',monospace\">---\n",
              "</pre>\n"
            ],
            "text/plain": [
              "---\n"
            ]
          },
          "metadata": {},
          "output_type": "display_data"
        },
        {
          "data": {
            "text/html": [
              "<pre style=\"white-space:pre;overflow-x:auto;line-height:normal;font-family:Menlo,'DejaVu Sans Mono',consolas,'Courier New',monospace\">Midnight | In the world, midnight is the start of one day and the end of the last day. It's the dividing point \n",
              "between two days.\n",
              "</pre>\n"
            ],
            "text/plain": [
              "Midnight | In the world, midnight is the start of one day and the end of the last day. It's the dividing point \n",
              "between two days.\n"
            ]
          },
          "metadata": {},
          "output_type": "display_data"
        },
        {
          "data": {
            "text/html": [
              "<pre style=\"white-space:pre;overflow-x:auto;line-height:normal;font-family:Menlo,'DejaVu Sans Mono',consolas,'Courier New',monospace\">---\n",
              "</pre>\n"
            ],
            "text/plain": [
              "---\n"
            ]
          },
          "metadata": {},
          "output_type": "display_data"
        },
        {
          "data": {
            "text/html": [
              "<pre style=\"white-space:pre;overflow-x:auto;line-height:normal;font-family:Menlo,'DejaVu Sans Mono',consolas,'Courier New',monospace\">Noon | Noon is the time exactly halfway through the day <span style=\"font-weight: bold\">(</span><span style=\"color: #008080; text-decoration-color: #008080; font-weight: bold\">12.00</span>-<span style=\"color: #00ff00; text-decoration-color: #00ff00; font-weight: bold\">12:00</span> in the <span style=\"color: #008080; text-decoration-color: #008080; font-weight: bold\">24</span>-hour clock and <span style=\"color: #00ff00; text-decoration-color: #00ff00; font-weight: bold\">12:00</span> PM-<span style=\"color: #00ff00; text-decoration-color: #00ff00; font-weight: bold\">12:00</span> PM in \n",
              "the <span style=\"color: #008080; text-decoration-color: #008080; font-weight: bold\">12</span>-hour clock<span style=\"font-weight: bold\">)</span>. Midday also means noon, although this also means <span style=\"color: #008000; text-decoration-color: #008000\">\"around\"</span> noon, or very early afternoon.\n",
              "</pre>\n"
            ],
            "text/plain": [
              "Noon | Noon is the time exactly halfway through the day \u001b[1m(\u001b[0m\u001b[1;36m12.00\u001b[0m-\u001b[1;92m12:00\u001b[0m in the \u001b[1;36m24\u001b[0m-hour clock and \u001b[1;92m12:00\u001b[0m PM-\u001b[1;92m12:00\u001b[0m PM in \n",
              "the \u001b[1;36m12\u001b[0m-hour clock\u001b[1m)\u001b[0m. Midday also means noon, although this also means \u001b[32m\"around\"\u001b[0m noon, or very early afternoon.\n"
            ]
          },
          "metadata": {},
          "output_type": "display_data"
        },
        {
          "data": {
            "text/html": [
              "<pre style=\"white-space:pre;overflow-x:auto;line-height:normal;font-family:Menlo,'DejaVu Sans Mono',consolas,'Courier New',monospace\">---\n",
              "</pre>\n"
            ],
            "text/plain": [
              "---\n"
            ]
          },
          "metadata": {},
          "output_type": "display_data"
        },
        {
          "data": {
            "text/html": [
              "<pre style=\"white-space:pre;overflow-x:auto;line-height:normal;font-family:Menlo,'DejaVu Sans Mono',consolas,'Courier New',monospace\">Coordinated Universal Time | The standard before was Greenwich Mean Time <span style=\"font-weight: bold\">(</span>GMT<span style=\"font-weight: bold\">)</span>. UTC and GMT are almost the same. In\n",
              "fact, there is no practical difference which would be noticed by ordinary people.\n",
              "</pre>\n"
            ],
            "text/plain": [
              "Coordinated Universal Time | The standard before was Greenwich Mean Time \u001b[1m(\u001b[0mGMT\u001b[1m)\u001b[0m. UTC and GMT are almost the same. In\n",
              "fact, there is no practical difference which would be noticed by ordinary people.\n"
            ]
          },
          "metadata": {},
          "output_type": "display_data"
        },
        {
          "data": {
            "text/html": [
              "<pre style=\"white-space:pre;overflow-x:auto;line-height:normal;font-family:Menlo,'DejaVu Sans Mono',consolas,'Courier New',monospace\">---\n",
              "</pre>\n"
            ],
            "text/plain": [
              "---\n"
            ]
          },
          "metadata": {},
          "output_type": "display_data"
        },
        {
          "data": {
            "text/html": [
              "<pre style=\"white-space:pre;overflow-x:auto;line-height:normal;font-family:Menlo,'DejaVu Sans Mono',consolas,'Courier New',monospace\">Midnight | In the United States and Canada, digital clocks and computers usually show <span style=\"color: #008080; text-decoration-color: #008080; font-weight: bold\">12</span> a.m. right at midnight. \n",
              "However, people have to remember that any time is actually an instant. The <span style=\"color: #008000; text-decoration-color: #008000\">\"a.m.\"</span> shown on clock displays means the\n",
              "<span style=\"color: #008080; text-decoration-color: #008080; font-weight: bold\">12</span>-hour period after the instant of midnight. So when a clock says <span style=\"color: #008000; text-decoration-color: #008000\">\"12:00 a.m.\"</span>, midnight has already passed and a \n",
              "new day has started. In other words, <span style=\"color: #00ff00; text-decoration-color: #00ff00; font-weight: bold\">11:59</span> p.m. shows until midnight; at the instant of midnight, it changes to \n",
              "<span style=\"color: #00ff00; text-decoration-color: #00ff00; font-weight: bold\">12:00</span>. At the same time, the p.m. changes to a.m., but a.m. does not mean the instant of midnight which separates \n",
              "p.m. and a.m.\n",
              "</pre>\n"
            ],
            "text/plain": [
              "Midnight | In the United States and Canada, digital clocks and computers usually show \u001b[1;36m12\u001b[0m a.m. right at midnight. \n",
              "However, people have to remember that any time is actually an instant. The \u001b[32m\"a.m.\"\u001b[0m shown on clock displays means the\n",
              "\u001b[1;36m12\u001b[0m-hour period after the instant of midnight. So when a clock says \u001b[32m\"12:00 a.m.\"\u001b[0m, midnight has already passed and a \n",
              "new day has started. In other words, \u001b[1;92m11:59\u001b[0m p.m. shows until midnight; at the instant of midnight, it changes to \n",
              "\u001b[1;92m12:00\u001b[0m. At the same time, the p.m. changes to a.m., but a.m. does not mean the instant of midnight which separates \n",
              "p.m. and a.m.\n"
            ]
          },
          "metadata": {},
          "output_type": "display_data"
        },
        {
          "data": {
            "text/html": [
              "<pre style=\"white-space:pre;overflow-x:auto;line-height:normal;font-family:Menlo,'DejaVu Sans Mono',consolas,'Courier New',monospace\">---\n",
              "</pre>\n"
            ],
            "text/plain": [
              "---\n"
            ]
          },
          "metadata": {},
          "output_type": "display_data"
        }
      ],
      "source": [
        "for hit in hits:\n",
        "    print(f\"{hit.payload['title']} | {hit.payload['text']}\")\n",
        "    print(\"---\")"
      ]
    },
    {
      "cell_type": "markdown",
      "metadata": {},
      "source": [
        "## Conclusion\n",
        "\n",
        "This post showed how it's possible to easily convert a Hugging Face dataset into a Qdrant collection. We then showed how we can use this collection to find similar articles.\n",
        "\n",
        "There is a lot of scope for optimization here. For example, we could use a more efficient way to add data to Qdrant. We could also use a more efficient way to search our collection. It would be very cool to directly have a `from_hf_datasets` method in the Qdrant Python client that would do all of this for us and include some optimizations! \n",
        "\n",
        "I hope this post has shown how easy it is to use Qdrant with Hugging Face datasets. If you have any questions or comments please let me know on [Twitter](https://twitter.com/vanstriendaniel)."
      ]
    }
  ],
  "metadata": {
    "colab": {
      "provenance": []
    },
    "kernelspec": {
      "display_name": "Python 3",
      "name": "python3"
    },
    "language_info": {
      "codemirror_mode": {
        "name": "ipython",
        "version": 3
      },
      "file_extension": ".py",
      "mimetype": "text/x-python",
      "name": "python",
      "nbconvert_exporter": "python",
      "pygments_lexer": "ipython3",
      "version": "3.10.9"
    },
    "widgets": {
      "application/vnd.jupyter.widget-state+json": {
        "022e28389ca248bb80728612c9f9e7b4": {
          "model_module": "@jupyter-widgets/controls",
          "model_module_version": "1.5.0",
          "model_name": "HTMLModel",
          "state": {
            "_dom_classes": [],
            "_model_module": "@jupyter-widgets/controls",
            "_model_module_version": "1.5.0",
            "_model_name": "HTMLModel",
            "_view_count": null,
            "_view_module": "@jupyter-widgets/controls",
            "_view_module_version": "1.5.0",
            "_view_name": "HTMLView",
            "description": "",
            "description_tooltip": null,
            "layout": "IPY_MODEL_40f153539b93411baab0aeb5912a7e3d",
            "placeholder": "​",
            "style": "IPY_MODEL_2965bafa018945aebfd586a7106ce7c2",
            "value": " 1/1 [00:40&lt;00:00, 40.44s/it]"
          }
        },
        "028322b5459449dbafdf1264fb88f1aa": {
          "model_module": "@jupyter-widgets/controls",
          "model_module_version": "1.5.0",
          "model_name": "HTMLModel",
          "state": {
            "_dom_classes": [],
            "_model_module": "@jupyter-widgets/controls",
            "_model_module_version": "1.5.0",
            "_model_name": "HTMLModel",
            "_view_count": null,
            "_view_module": "@jupyter-widgets/controls",
            "_view_module_version": "1.5.0",
            "_view_name": "HTMLView",
            "description": "",
            "description_tooltip": null,
            "layout": "IPY_MODEL_f71cc59d82b84d04b9ea2f37b6ac92ff",
            "placeholder": "​",
            "style": "IPY_MODEL_60286be44210442c83ae8885a47ce2c6",
            "value": "Downloading readme: 100%"
          }
        },
        "09504a9ac63e4a4cb9922207af84dc5f": {
          "model_module": "@jupyter-widgets/controls",
          "model_module_version": "1.5.0",
          "model_name": "DescriptionStyleModel",
          "state": {
            "_model_module": "@jupyter-widgets/controls",
            "_model_module_version": "1.5.0",
            "_model_name": "DescriptionStyleModel",
            "_view_count": null,
            "_view_module": "@jupyter-widgets/base",
            "_view_module_version": "1.2.0",
            "_view_name": "StyleView",
            "description_width": ""
          }
        },
        "0d18b63d7e0a4e8299b6300aff28019c": {
          "model_module": "@jupyter-widgets/base",
          "model_module_version": "1.2.0",
          "model_name": "LayoutModel",
          "state": {
            "_model_module": "@jupyter-widgets/base",
            "_model_module_version": "1.2.0",
            "_model_name": "LayoutModel",
            "_view_count": null,
            "_view_module": "@jupyter-widgets/base",
            "_view_module_version": "1.2.0",
            "_view_name": "LayoutView",
            "align_content": null,
            "align_items": null,
            "align_self": null,
            "border": null,
            "bottom": null,
            "display": null,
            "flex": null,
            "flex_flow": null,
            "grid_area": null,
            "grid_auto_columns": null,
            "grid_auto_flow": null,
            "grid_auto_rows": null,
            "grid_column": null,
            "grid_gap": null,
            "grid_row": null,
            "grid_template_areas": null,
            "grid_template_columns": null,
            "grid_template_rows": null,
            "height": null,
            "justify_content": null,
            "justify_items": null,
            "left": null,
            "margin": null,
            "max_height": null,
            "max_width": null,
            "min_height": null,
            "min_width": null,
            "object_fit": null,
            "object_position": null,
            "order": null,
            "overflow": null,
            "overflow_x": null,
            "overflow_y": null,
            "padding": null,
            "right": null,
            "top": null,
            "visibility": null,
            "width": null
          }
        },
        "0dbc012176d44ac1b74618000894e8c6": {
          "model_module": "@jupyter-widgets/controls",
          "model_module_version": "1.5.0",
          "model_name": "HBoxModel",
          "state": {
            "_dom_classes": [],
            "_model_module": "@jupyter-widgets/controls",
            "_model_module_version": "1.5.0",
            "_model_name": "HBoxModel",
            "_view_count": null,
            "_view_module": "@jupyter-widgets/controls",
            "_view_module_version": "1.5.0",
            "_view_name": "HBoxView",
            "box_style": "",
            "children": [
              "IPY_MODEL_028322b5459449dbafdf1264fb88f1aa",
              "IPY_MODEL_d67b2509c1634a49b4a8379b192ad04f",
              "IPY_MODEL_71fc71370a2c49e69b5648f337adfbc3"
            ],
            "layout": "IPY_MODEL_f5a1806f4d1e4e92af4a3d738f3b2529"
          }
        },
        "0fee8de08cad4d1ba5f98b4d8dd59e62": {
          "model_module": "@jupyter-widgets/base",
          "model_module_version": "1.2.0",
          "model_name": "LayoutModel",
          "state": {
            "_model_module": "@jupyter-widgets/base",
            "_model_module_version": "1.2.0",
            "_model_name": "LayoutModel",
            "_view_count": null,
            "_view_module": "@jupyter-widgets/base",
            "_view_module_version": "1.2.0",
            "_view_name": "LayoutView",
            "align_content": null,
            "align_items": null,
            "align_self": null,
            "border": null,
            "bottom": null,
            "display": null,
            "flex": null,
            "flex_flow": null,
            "grid_area": null,
            "grid_auto_columns": null,
            "grid_auto_flow": null,
            "grid_auto_rows": null,
            "grid_column": null,
            "grid_gap": null,
            "grid_row": null,
            "grid_template_areas": null,
            "grid_template_columns": null,
            "grid_template_rows": null,
            "height": null,
            "justify_content": null,
            "justify_items": null,
            "left": null,
            "margin": null,
            "max_height": null,
            "max_width": null,
            "min_height": null,
            "min_width": null,
            "object_fit": null,
            "object_position": null,
            "order": null,
            "overflow": null,
            "overflow_x": null,
            "overflow_y": null,
            "padding": null,
            "right": null,
            "top": null,
            "visibility": null,
            "width": null
          }
        },
        "120ffdbd0d494892a5c52583101e74ff": {
          "model_module": "@jupyter-widgets/controls",
          "model_module_version": "1.5.0",
          "model_name": "DescriptionStyleModel",
          "state": {
            "_model_module": "@jupyter-widgets/controls",
            "_model_module_version": "1.5.0",
            "_model_name": "DescriptionStyleModel",
            "_view_count": null,
            "_view_module": "@jupyter-widgets/base",
            "_view_module_version": "1.2.0",
            "_view_name": "StyleView",
            "description_width": ""
          }
        },
        "12e115b503e74c298e5236dff07af01c": {
          "model_module": "@jupyter-widgets/base",
          "model_module_version": "1.2.0",
          "model_name": "LayoutModel",
          "state": {
            "_model_module": "@jupyter-widgets/base",
            "_model_module_version": "1.2.0",
            "_model_name": "LayoutModel",
            "_view_count": null,
            "_view_module": "@jupyter-widgets/base",
            "_view_module_version": "1.2.0",
            "_view_name": "LayoutView",
            "align_content": null,
            "align_items": null,
            "align_self": null,
            "border": null,
            "bottom": null,
            "display": null,
            "flex": null,
            "flex_flow": null,
            "grid_area": null,
            "grid_auto_columns": null,
            "grid_auto_flow": null,
            "grid_auto_rows": null,
            "grid_column": null,
            "grid_gap": null,
            "grid_row": null,
            "grid_template_areas": null,
            "grid_template_columns": null,
            "grid_template_rows": null,
            "height": null,
            "justify_content": null,
            "justify_items": null,
            "left": null,
            "margin": null,
            "max_height": null,
            "max_width": null,
            "min_height": null,
            "min_width": null,
            "object_fit": null,
            "object_position": null,
            "order": null,
            "overflow": null,
            "overflow_x": null,
            "overflow_y": null,
            "padding": null,
            "right": null,
            "top": null,
            "visibility": null,
            "width": null
          }
        },
        "13095ed7ca7e4aeea9c63c99d82be139": {
          "model_module": "@jupyter-widgets/controls",
          "model_module_version": "1.5.0",
          "model_name": "ProgressStyleModel",
          "state": {
            "_model_module": "@jupyter-widgets/controls",
            "_model_module_version": "1.5.0",
            "_model_name": "ProgressStyleModel",
            "_view_count": null,
            "_view_module": "@jupyter-widgets/base",
            "_view_module_version": "1.2.0",
            "_view_name": "StyleView",
            "bar_color": null,
            "description_width": ""
          }
        },
        "132e812bf7104ed785569558ec2e186e": {
          "model_module": "@jupyter-widgets/controls",
          "model_module_version": "1.5.0",
          "model_name": "DescriptionStyleModel",
          "state": {
            "_model_module": "@jupyter-widgets/controls",
            "_model_module_version": "1.5.0",
            "_model_name": "DescriptionStyleModel",
            "_view_count": null,
            "_view_module": "@jupyter-widgets/base",
            "_view_module_version": "1.2.0",
            "_view_name": "StyleView",
            "description_width": ""
          }
        },
        "198cd222f15d46b8bf077ceaac041f38": {
          "model_module": "@jupyter-widgets/base",
          "model_module_version": "1.2.0",
          "model_name": "LayoutModel",
          "state": {
            "_model_module": "@jupyter-widgets/base",
            "_model_module_version": "1.2.0",
            "_model_name": "LayoutModel",
            "_view_count": null,
            "_view_module": "@jupyter-widgets/base",
            "_view_module_version": "1.2.0",
            "_view_name": "LayoutView",
            "align_content": null,
            "align_items": null,
            "align_self": null,
            "border": null,
            "bottom": null,
            "display": null,
            "flex": null,
            "flex_flow": null,
            "grid_area": null,
            "grid_auto_columns": null,
            "grid_auto_flow": null,
            "grid_auto_rows": null,
            "grid_column": null,
            "grid_gap": null,
            "grid_row": null,
            "grid_template_areas": null,
            "grid_template_columns": null,
            "grid_template_rows": null,
            "height": null,
            "justify_content": null,
            "justify_items": null,
            "left": null,
            "margin": null,
            "max_height": null,
            "max_width": null,
            "min_height": null,
            "min_width": null,
            "object_fit": null,
            "object_position": null,
            "order": null,
            "overflow": null,
            "overflow_x": null,
            "overflow_y": null,
            "padding": null,
            "right": null,
            "top": null,
            "visibility": null,
            "width": null
          }
        },
        "2140ff54a5d744fcb7450fbf6908adf3": {
          "model_module": "@jupyter-widgets/controls",
          "model_module_version": "1.5.0",
          "model_name": "HTMLModel",
          "state": {
            "_dom_classes": [],
            "_model_module": "@jupyter-widgets/controls",
            "_model_module_version": "1.5.0",
            "_model_name": "HTMLModel",
            "_view_count": null,
            "_view_module": "@jupyter-widgets/controls",
            "_view_module_version": "1.5.0",
            "_view_name": "HTMLView",
            "description": "",
            "description_tooltip": null,
            "layout": "IPY_MODEL_0d18b63d7e0a4e8299b6300aff28019c",
            "placeholder": "​",
            "style": "IPY_MODEL_09504a9ac63e4a4cb9922207af84dc5f",
            "value": " 409M/409M [00:21&lt;00:00, 16.3MB/s]"
          }
        },
        "21ad01c7cde446b58529ccc035488028": {
          "model_module": "@jupyter-widgets/controls",
          "model_module_version": "1.5.0",
          "model_name": "HTMLModel",
          "state": {
            "_dom_classes": [],
            "_model_module": "@jupyter-widgets/controls",
            "_model_module_version": "1.5.0",
            "_model_name": "HTMLModel",
            "_view_count": null,
            "_view_module": "@jupyter-widgets/controls",
            "_view_module_version": "1.5.0",
            "_view_name": "HTMLView",
            "description": "",
            "description_tooltip": null,
            "layout": "IPY_MODEL_198cd222f15d46b8bf077ceaac041f38",
            "placeholder": "​",
            "style": "IPY_MODEL_f02c1def7cb748369d7bdaa8c94531bd",
            "value": " 1.29k/1.29k [00:00&lt;00:00, 14.4kB/s]"
          }
        },
        "234e6735caba416fbc0a25d8e24bc864": {
          "model_module": "@jupyter-widgets/controls",
          "model_module_version": "1.5.0",
          "model_name": "DescriptionStyleModel",
          "state": {
            "_model_module": "@jupyter-widgets/controls",
            "_model_module_version": "1.5.0",
            "_model_name": "DescriptionStyleModel",
            "_view_count": null,
            "_view_module": "@jupyter-widgets/base",
            "_view_module_version": "1.2.0",
            "_view_name": "StyleView",
            "description_width": ""
          }
        },
        "23be92bc7844447d8ec0344084353fff": {
          "model_module": "@jupyter-widgets/controls",
          "model_module_version": "1.5.0",
          "model_name": "DescriptionStyleModel",
          "state": {
            "_model_module": "@jupyter-widgets/controls",
            "_model_module_version": "1.5.0",
            "_model_name": "DescriptionStyleModel",
            "_view_count": null,
            "_view_module": "@jupyter-widgets/base",
            "_view_module_version": "1.2.0",
            "_view_name": "StyleView",
            "description_width": ""
          }
        },
        "24a549ca39464731b2608e2ea76f47a0": {
          "model_module": "@jupyter-widgets/base",
          "model_module_version": "1.2.0",
          "model_name": "LayoutModel",
          "state": {
            "_model_module": "@jupyter-widgets/base",
            "_model_module_version": "1.2.0",
            "_model_name": "LayoutModel",
            "_view_count": null,
            "_view_module": "@jupyter-widgets/base",
            "_view_module_version": "1.2.0",
            "_view_name": "LayoutView",
            "align_content": null,
            "align_items": null,
            "align_self": null,
            "border": null,
            "bottom": null,
            "display": null,
            "flex": null,
            "flex_flow": null,
            "grid_area": null,
            "grid_auto_columns": null,
            "grid_auto_flow": null,
            "grid_auto_rows": null,
            "grid_column": null,
            "grid_gap": null,
            "grid_row": null,
            "grid_template_areas": null,
            "grid_template_columns": null,
            "grid_template_rows": null,
            "height": null,
            "justify_content": null,
            "justify_items": null,
            "left": null,
            "margin": null,
            "max_height": null,
            "max_width": null,
            "min_height": null,
            "min_width": null,
            "object_fit": null,
            "object_position": null,
            "order": null,
            "overflow": null,
            "overflow_x": null,
            "overflow_y": null,
            "padding": null,
            "right": null,
            "top": null,
            "visibility": null,
            "width": null
          }
        },
        "2965bafa018945aebfd586a7106ce7c2": {
          "model_module": "@jupyter-widgets/controls",
          "model_module_version": "1.5.0",
          "model_name": "DescriptionStyleModel",
          "state": {
            "_model_module": "@jupyter-widgets/controls",
            "_model_module_version": "1.5.0",
            "_model_name": "DescriptionStyleModel",
            "_view_count": null,
            "_view_module": "@jupyter-widgets/base",
            "_view_module_version": "1.2.0",
            "_view_name": "StyleView",
            "description_width": ""
          }
        },
        "2d633478b58444c78888c868afe5e924": {
          "model_module": "@jupyter-widgets/controls",
          "model_module_version": "1.5.0",
          "model_name": "HBoxModel",
          "state": {
            "_dom_classes": [],
            "_model_module": "@jupyter-widgets/controls",
            "_model_module_version": "1.5.0",
            "_model_name": "HBoxModel",
            "_view_count": null,
            "_view_module": "@jupyter-widgets/controls",
            "_view_module_version": "1.5.0",
            "_view_name": "HBoxView",
            "box_style": "",
            "children": [
              "IPY_MODEL_3b5ca456956843409fc1bc70b5c467ca",
              "IPY_MODEL_540553240c544f539c1fbb72ade89fc1",
              "IPY_MODEL_3a85f60be0a74654bc5e0f3096a56721"
            ],
            "layout": "IPY_MODEL_e4571a2e5f2e473dbf3873aee7a50c50"
          }
        },
        "2f2332d0e1134d138e2ad3472c1d014e": {
          "model_module": "@jupyter-widgets/controls",
          "model_module_version": "1.5.0",
          "model_name": "ProgressStyleModel",
          "state": {
            "_model_module": "@jupyter-widgets/controls",
            "_model_module_version": "1.5.0",
            "_model_name": "ProgressStyleModel",
            "_view_count": null,
            "_view_module": "@jupyter-widgets/base",
            "_view_module_version": "1.2.0",
            "_view_name": "StyleView",
            "bar_color": null,
            "description_width": ""
          }
        },
        "31ad145ddbf048f188119bc45b8ef004": {
          "model_module": "@jupyter-widgets/controls",
          "model_module_version": "1.5.0",
          "model_name": "HTMLModel",
          "state": {
            "_dom_classes": [],
            "_model_module": "@jupyter-widgets/controls",
            "_model_module_version": "1.5.0",
            "_model_name": "HTMLModel",
            "_view_count": null,
            "_view_module": "@jupyter-widgets/controls",
            "_view_module_version": "1.5.0",
            "_view_name": "HTMLView",
            "description": "",
            "description_tooltip": null,
            "layout": "IPY_MODEL_24a549ca39464731b2608e2ea76f47a0",
            "placeholder": "​",
            "style": "IPY_MODEL_234e6735caba416fbc0a25d8e24bc864",
            "value": " 404M/404M [00:07&lt;00:00, 44.0MB/s]"
          }
        },
        "32392b493a1f43eaae030298f2d12aaa": {
          "model_module": "@jupyter-widgets/base",
          "model_module_version": "1.2.0",
          "model_name": "LayoutModel",
          "state": {
            "_model_module": "@jupyter-widgets/base",
            "_model_module_version": "1.2.0",
            "_model_name": "LayoutModel",
            "_view_count": null,
            "_view_module": "@jupyter-widgets/base",
            "_view_module_version": "1.2.0",
            "_view_name": "LayoutView",
            "align_content": null,
            "align_items": null,
            "align_self": null,
            "border": null,
            "bottom": null,
            "display": null,
            "flex": null,
            "flex_flow": null,
            "grid_area": null,
            "grid_auto_columns": null,
            "grid_auto_flow": null,
            "grid_auto_rows": null,
            "grid_column": null,
            "grid_gap": null,
            "grid_row": null,
            "grid_template_areas": null,
            "grid_template_columns": null,
            "grid_template_rows": null,
            "height": null,
            "justify_content": null,
            "justify_items": null,
            "left": null,
            "margin": null,
            "max_height": null,
            "max_width": null,
            "min_height": null,
            "min_width": null,
            "object_fit": null,
            "object_position": null,
            "order": null,
            "overflow": null,
            "overflow_x": null,
            "overflow_y": null,
            "padding": null,
            "right": null,
            "top": null,
            "visibility": null,
            "width": null
          }
        },
        "32b5f514b2194452a5f659da1040fba9": {
          "model_module": "@jupyter-widgets/base",
          "model_module_version": "1.2.0",
          "model_name": "LayoutModel",
          "state": {
            "_model_module": "@jupyter-widgets/base",
            "_model_module_version": "1.2.0",
            "_model_name": "LayoutModel",
            "_view_count": null,
            "_view_module": "@jupyter-widgets/base",
            "_view_module_version": "1.2.0",
            "_view_name": "LayoutView",
            "align_content": null,
            "align_items": null,
            "align_self": null,
            "border": null,
            "bottom": null,
            "display": null,
            "flex": null,
            "flex_flow": null,
            "grid_area": null,
            "grid_auto_columns": null,
            "grid_auto_flow": null,
            "grid_auto_rows": null,
            "grid_column": null,
            "grid_gap": null,
            "grid_row": null,
            "grid_template_areas": null,
            "grid_template_columns": null,
            "grid_template_rows": null,
            "height": null,
            "justify_content": null,
            "justify_items": null,
            "left": null,
            "margin": null,
            "max_height": null,
            "max_width": null,
            "min_height": null,
            "min_width": null,
            "object_fit": null,
            "object_position": null,
            "order": null,
            "overflow": null,
            "overflow_x": null,
            "overflow_y": null,
            "padding": null,
            "right": null,
            "top": null,
            "visibility": null,
            "width": null
          }
        },
        "32e6b9fb6a7a432ca640609a52f96ca5": {
          "model_module": "@jupyter-widgets/base",
          "model_module_version": "1.2.0",
          "model_name": "LayoutModel",
          "state": {
            "_model_module": "@jupyter-widgets/base",
            "_model_module_version": "1.2.0",
            "_model_name": "LayoutModel",
            "_view_count": null,
            "_view_module": "@jupyter-widgets/base",
            "_view_module_version": "1.2.0",
            "_view_name": "LayoutView",
            "align_content": null,
            "align_items": null,
            "align_self": null,
            "border": null,
            "bottom": null,
            "display": null,
            "flex": null,
            "flex_flow": null,
            "grid_area": null,
            "grid_auto_columns": null,
            "grid_auto_flow": null,
            "grid_auto_rows": null,
            "grid_column": null,
            "grid_gap": null,
            "grid_row": null,
            "grid_template_areas": null,
            "grid_template_columns": null,
            "grid_template_rows": null,
            "height": null,
            "justify_content": null,
            "justify_items": null,
            "left": null,
            "margin": null,
            "max_height": null,
            "max_width": null,
            "min_height": null,
            "min_width": null,
            "object_fit": null,
            "object_position": null,
            "order": null,
            "overflow": null,
            "overflow_x": null,
            "overflow_y": null,
            "padding": null,
            "right": null,
            "top": null,
            "visibility": null,
            "width": null
          }
        },
        "37aa27c4e400488493018ad293c8ed28": {
          "model_module": "@jupyter-widgets/controls",
          "model_module_version": "1.5.0",
          "model_name": "HTMLModel",
          "state": {
            "_dom_classes": [],
            "_model_module": "@jupyter-widgets/controls",
            "_model_module_version": "1.5.0",
            "_model_name": "HTMLModel",
            "_view_count": null,
            "_view_module": "@jupyter-widgets/controls",
            "_view_module_version": "1.5.0",
            "_view_name": "HTMLView",
            "description": "",
            "description_tooltip": null,
            "layout": "IPY_MODEL_44fbd0bb2dcd4018a546c05f04e22268",
            "placeholder": "​",
            "style": "IPY_MODEL_5b1d209aae3d4f87a75fbff4b886d536",
            "value": "Downloading data: 100%"
          }
        },
        "39e421c3a18843498d1de716b47e9fb7": {
          "model_module": "@jupyter-widgets/controls",
          "model_module_version": "1.5.0",
          "model_name": "HTMLModel",
          "state": {
            "_dom_classes": [],
            "_model_module": "@jupyter-widgets/controls",
            "_model_module_version": "1.5.0",
            "_model_name": "HTMLModel",
            "_view_count": null,
            "_view_module": "@jupyter-widgets/controls",
            "_view_module_version": "1.5.0",
            "_view_name": "HTMLView",
            "description": "",
            "description_tooltip": null,
            "layout": "IPY_MODEL_713aa0d036324a8cba16ad20262781be",
            "placeholder": "​",
            "style": "IPY_MODEL_6a90d995045a4bf48d8c0d2b4665ee6c",
            "value": "Generating train split: 100%"
          }
        },
        "3a85f60be0a74654bc5e0f3096a56721": {
          "model_module": "@jupyter-widgets/controls",
          "model_module_version": "1.5.0",
          "model_name": "HTMLModel",
          "state": {
            "_dom_classes": [],
            "_model_module": "@jupyter-widgets/controls",
            "_model_module_version": "1.5.0",
            "_model_name": "HTMLModel",
            "_view_count": null,
            "_view_module": "@jupyter-widgets/controls",
            "_view_module_version": "1.5.0",
            "_view_name": "HTMLView",
            "description": "",
            "description_tooltip": null,
            "layout": "IPY_MODEL_503da3629d704704a890aa6427f41a96",
            "placeholder": "​",
            "style": "IPY_MODEL_8ebb3b6f705a48778da957939b0e3613",
            "value": " 1/1 [00:00&lt;00:00, 15.98it/s]"
          }
        },
        "3b5ca456956843409fc1bc70b5c467ca": {
          "model_module": "@jupyter-widgets/controls",
          "model_module_version": "1.5.0",
          "model_name": "HTMLModel",
          "state": {
            "_dom_classes": [],
            "_model_module": "@jupyter-widgets/controls",
            "_model_module_version": "1.5.0",
            "_model_name": "HTMLModel",
            "_view_count": null,
            "_view_module": "@jupyter-widgets/controls",
            "_view_module_version": "1.5.0",
            "_view_name": "HTMLView",
            "description": "",
            "description_tooltip": null,
            "layout": "IPY_MODEL_752133ab861540d3a0aeea3647cf2d56",
            "placeholder": "​",
            "style": "IPY_MODEL_132e812bf7104ed785569558ec2e186e",
            "value": "Extracting data files: 100%"
          }
        },
        "3f4e39ac5abf4361b651efdf9ae7d478": {
          "model_module": "@jupyter-widgets/controls",
          "model_module_version": "1.5.0",
          "model_name": "ProgressStyleModel",
          "state": {
            "_model_module": "@jupyter-widgets/controls",
            "_model_module_version": "1.5.0",
            "_model_name": "ProgressStyleModel",
            "_view_count": null,
            "_view_module": "@jupyter-widgets/base",
            "_view_module_version": "1.2.0",
            "_view_name": "StyleView",
            "bar_color": null,
            "description_width": ""
          }
        },
        "40a7a24950674e5fb3fc8668eeaff979": {
          "model_module": "@jupyter-widgets/controls",
          "model_module_version": "1.5.0",
          "model_name": "HBoxModel",
          "state": {
            "_dom_classes": [],
            "_model_module": "@jupyter-widgets/controls",
            "_model_module_version": "1.5.0",
            "_model_name": "HBoxModel",
            "_view_count": null,
            "_view_module": "@jupyter-widgets/controls",
            "_view_module_version": "1.5.0",
            "_view_name": "HBoxView",
            "box_style": "",
            "children": [
              "IPY_MODEL_df39f22fbedb4cf9aac55e0ee354dc8d",
              "IPY_MODEL_4aae991e5c3046919f457eac0c34ac15",
              "IPY_MODEL_21ad01c7cde446b58529ccc035488028"
            ],
            "layout": "IPY_MODEL_f5e9de2756874ce0b3f344aa154a6b77"
          }
        },
        "40b7298ff3f54019a75f5c9df35c1c0a": {
          "model_module": "@jupyter-widgets/controls",
          "model_module_version": "1.5.0",
          "model_name": "DescriptionStyleModel",
          "state": {
            "_model_module": "@jupyter-widgets/controls",
            "_model_module_version": "1.5.0",
            "_model_name": "DescriptionStyleModel",
            "_view_count": null,
            "_view_module": "@jupyter-widgets/base",
            "_view_module_version": "1.2.0",
            "_view_name": "StyleView",
            "description_width": ""
          }
        },
        "40f153539b93411baab0aeb5912a7e3d": {
          "model_module": "@jupyter-widgets/base",
          "model_module_version": "1.2.0",
          "model_name": "LayoutModel",
          "state": {
            "_model_module": "@jupyter-widgets/base",
            "_model_module_version": "1.2.0",
            "_model_name": "LayoutModel",
            "_view_count": null,
            "_view_module": "@jupyter-widgets/base",
            "_view_module_version": "1.2.0",
            "_view_name": "LayoutView",
            "align_content": null,
            "align_items": null,
            "align_self": null,
            "border": null,
            "bottom": null,
            "display": null,
            "flex": null,
            "flex_flow": null,
            "grid_area": null,
            "grid_auto_columns": null,
            "grid_auto_flow": null,
            "grid_auto_rows": null,
            "grid_column": null,
            "grid_gap": null,
            "grid_row": null,
            "grid_template_areas": null,
            "grid_template_columns": null,
            "grid_template_rows": null,
            "height": null,
            "justify_content": null,
            "justify_items": null,
            "left": null,
            "margin": null,
            "max_height": null,
            "max_width": null,
            "min_height": null,
            "min_width": null,
            "object_fit": null,
            "object_position": null,
            "order": null,
            "overflow": null,
            "overflow_x": null,
            "overflow_y": null,
            "padding": null,
            "right": null,
            "top": null,
            "visibility": null,
            "width": null
          }
        },
        "44fbd0bb2dcd4018a546c05f04e22268": {
          "model_module": "@jupyter-widgets/base",
          "model_module_version": "1.2.0",
          "model_name": "LayoutModel",
          "state": {
            "_model_module": "@jupyter-widgets/base",
            "_model_module_version": "1.2.0",
            "_model_name": "LayoutModel",
            "_view_count": null,
            "_view_module": "@jupyter-widgets/base",
            "_view_module_version": "1.2.0",
            "_view_name": "LayoutView",
            "align_content": null,
            "align_items": null,
            "align_self": null,
            "border": null,
            "bottom": null,
            "display": null,
            "flex": null,
            "flex_flow": null,
            "grid_area": null,
            "grid_auto_columns": null,
            "grid_auto_flow": null,
            "grid_auto_rows": null,
            "grid_column": null,
            "grid_gap": null,
            "grid_row": null,
            "grid_template_areas": null,
            "grid_template_columns": null,
            "grid_template_rows": null,
            "height": null,
            "justify_content": null,
            "justify_items": null,
            "left": null,
            "margin": null,
            "max_height": null,
            "max_width": null,
            "min_height": null,
            "min_width": null,
            "object_fit": null,
            "object_position": null,
            "order": null,
            "overflow": null,
            "overflow_x": null,
            "overflow_y": null,
            "padding": null,
            "right": null,
            "top": null,
            "visibility": null,
            "width": null
          }
        },
        "46d8a0aa069e46b0a1bfdf4db72b5f2a": {
          "model_module": "@jupyter-widgets/controls",
          "model_module_version": "1.5.0",
          "model_name": "ProgressStyleModel",
          "state": {
            "_model_module": "@jupyter-widgets/controls",
            "_model_module_version": "1.5.0",
            "_model_name": "ProgressStyleModel",
            "_view_count": null,
            "_view_module": "@jupyter-widgets/base",
            "_view_module_version": "1.2.0",
            "_view_name": "StyleView",
            "bar_color": null,
            "description_width": ""
          }
        },
        "47b608e15e8148a9a2f010f16d6669ee": {
          "model_module": "@jupyter-widgets/controls",
          "model_module_version": "1.5.0",
          "model_name": "ProgressStyleModel",
          "state": {
            "_model_module": "@jupyter-widgets/controls",
            "_model_module_version": "1.5.0",
            "_model_name": "ProgressStyleModel",
            "_view_count": null,
            "_view_module": "@jupyter-widgets/base",
            "_view_module_version": "1.2.0",
            "_view_name": "StyleView",
            "bar_color": null,
            "description_width": ""
          }
        },
        "47e126a69f8e4bd39a79bfbfd444fc38": {
          "model_module": "@jupyter-widgets/base",
          "model_module_version": "1.2.0",
          "model_name": "LayoutModel",
          "state": {
            "_model_module": "@jupyter-widgets/base",
            "_model_module_version": "1.2.0",
            "_model_name": "LayoutModel",
            "_view_count": null,
            "_view_module": "@jupyter-widgets/base",
            "_view_module_version": "1.2.0",
            "_view_name": "LayoutView",
            "align_content": null,
            "align_items": null,
            "align_self": null,
            "border": null,
            "bottom": null,
            "display": null,
            "flex": null,
            "flex_flow": null,
            "grid_area": null,
            "grid_auto_columns": null,
            "grid_auto_flow": null,
            "grid_auto_rows": null,
            "grid_column": null,
            "grid_gap": null,
            "grid_row": null,
            "grid_template_areas": null,
            "grid_template_columns": null,
            "grid_template_rows": null,
            "height": null,
            "justify_content": null,
            "justify_items": null,
            "left": null,
            "margin": null,
            "max_height": null,
            "max_width": null,
            "min_height": null,
            "min_width": null,
            "object_fit": null,
            "object_position": null,
            "order": null,
            "overflow": null,
            "overflow_x": null,
            "overflow_y": null,
            "padding": null,
            "right": null,
            "top": null,
            "visibility": null,
            "width": null
          }
        },
        "489e7c855a8f4d4580851745584113be": {
          "model_module": "@jupyter-widgets/base",
          "model_module_version": "1.2.0",
          "model_name": "LayoutModel",
          "state": {
            "_model_module": "@jupyter-widgets/base",
            "_model_module_version": "1.2.0",
            "_model_name": "LayoutModel",
            "_view_count": null,
            "_view_module": "@jupyter-widgets/base",
            "_view_module_version": "1.2.0",
            "_view_name": "LayoutView",
            "align_content": null,
            "align_items": null,
            "align_self": null,
            "border": null,
            "bottom": null,
            "display": null,
            "flex": null,
            "flex_flow": null,
            "grid_area": null,
            "grid_auto_columns": null,
            "grid_auto_flow": null,
            "grid_auto_rows": null,
            "grid_column": null,
            "grid_gap": null,
            "grid_row": null,
            "grid_template_areas": null,
            "grid_template_columns": null,
            "grid_template_rows": null,
            "height": null,
            "justify_content": null,
            "justify_items": null,
            "left": null,
            "margin": null,
            "max_height": null,
            "max_width": null,
            "min_height": null,
            "min_width": null,
            "object_fit": null,
            "object_position": null,
            "order": null,
            "overflow": null,
            "overflow_x": null,
            "overflow_y": null,
            "padding": null,
            "right": null,
            "top": null,
            "visibility": null,
            "width": null
          }
        },
        "4aae991e5c3046919f457eac0c34ac15": {
          "model_module": "@jupyter-widgets/controls",
          "model_module_version": "1.5.0",
          "model_name": "FloatProgressModel",
          "state": {
            "_dom_classes": [],
            "_model_module": "@jupyter-widgets/controls",
            "_model_module_version": "1.5.0",
            "_model_name": "FloatProgressModel",
            "_view_count": null,
            "_view_module": "@jupyter-widgets/controls",
            "_view_module_version": "1.5.0",
            "_view_name": "ProgressView",
            "bar_style": "success",
            "description": "",
            "description_tooltip": null,
            "layout": "IPY_MODEL_dc7d98d4a41b489cab20dba7a859d166",
            "max": 1292,
            "min": 0,
            "orientation": "horizontal",
            "style": "IPY_MODEL_46d8a0aa069e46b0a1bfdf4db72b5f2a",
            "value": 1292
          }
        },
        "4f61c368d32841af9b414d59288a229a": {
          "model_module": "@jupyter-widgets/controls",
          "model_module_version": "1.5.0",
          "model_name": "HTMLModel",
          "state": {
            "_dom_classes": [],
            "_model_module": "@jupyter-widgets/controls",
            "_model_module_version": "1.5.0",
            "_model_name": "HTMLModel",
            "_view_count": null,
            "_view_module": "@jupyter-widgets/controls",
            "_view_module_version": "1.5.0",
            "_view_name": "HTMLView",
            "description": "",
            "description_tooltip": null,
            "layout": "IPY_MODEL_e0430aab26614e9dbba0a99993374eb9",
            "placeholder": "​",
            "style": "IPY_MODEL_efac14007add4f7d89ac3b8ff20f034d",
            "value": " 485859/485859 [00:23&lt;00:00, 30843.31 examples/s]"
          }
        },
        "503da3629d704704a890aa6427f41a96": {
          "model_module": "@jupyter-widgets/base",
          "model_module_version": "1.2.0",
          "model_name": "LayoutModel",
          "state": {
            "_model_module": "@jupyter-widgets/base",
            "_model_module_version": "1.2.0",
            "_model_name": "LayoutModel",
            "_view_count": null,
            "_view_module": "@jupyter-widgets/base",
            "_view_module_version": "1.2.0",
            "_view_name": "LayoutView",
            "align_content": null,
            "align_items": null,
            "align_self": null,
            "border": null,
            "bottom": null,
            "display": null,
            "flex": null,
            "flex_flow": null,
            "grid_area": null,
            "grid_auto_columns": null,
            "grid_auto_flow": null,
            "grid_auto_rows": null,
            "grid_column": null,
            "grid_gap": null,
            "grid_row": null,
            "grid_template_areas": null,
            "grid_template_columns": null,
            "grid_template_rows": null,
            "height": null,
            "justify_content": null,
            "justify_items": null,
            "left": null,
            "margin": null,
            "max_height": null,
            "max_width": null,
            "min_height": null,
            "min_width": null,
            "object_fit": null,
            "object_position": null,
            "order": null,
            "overflow": null,
            "overflow_x": null,
            "overflow_y": null,
            "padding": null,
            "right": null,
            "top": null,
            "visibility": null,
            "width": null
          }
        },
        "51f8ec5d34f34dce8ed9d5b57845b65b": {
          "model_module": "@jupyter-widgets/controls",
          "model_module_version": "1.5.0",
          "model_name": "ProgressStyleModel",
          "state": {
            "_model_module": "@jupyter-widgets/controls",
            "_model_module_version": "1.5.0",
            "_model_name": "ProgressStyleModel",
            "_view_count": null,
            "_view_module": "@jupyter-widgets/base",
            "_view_module_version": "1.2.0",
            "_view_name": "StyleView",
            "bar_color": null,
            "description_width": ""
          }
        },
        "540553240c544f539c1fbb72ade89fc1": {
          "model_module": "@jupyter-widgets/controls",
          "model_module_version": "1.5.0",
          "model_name": "FloatProgressModel",
          "state": {
            "_dom_classes": [],
            "_model_module": "@jupyter-widgets/controls",
            "_model_module_version": "1.5.0",
            "_model_name": "FloatProgressModel",
            "_view_count": null,
            "_view_module": "@jupyter-widgets/controls",
            "_view_module_version": "1.5.0",
            "_view_name": "ProgressView",
            "bar_style": "success",
            "description": "",
            "description_tooltip": null,
            "layout": "IPY_MODEL_32392b493a1f43eaae030298f2d12aaa",
            "max": 1,
            "min": 0,
            "orientation": "horizontal",
            "style": "IPY_MODEL_13095ed7ca7e4aeea9c63c99d82be139",
            "value": 1
          }
        },
        "5638b459463e471c9a10ab0fe11ebe42": {
          "model_module": "@jupyter-widgets/controls",
          "model_module_version": "1.5.0",
          "model_name": "HBoxModel",
          "state": {
            "_dom_classes": [],
            "_model_module": "@jupyter-widgets/controls",
            "_model_module_version": "1.5.0",
            "_model_name": "HBoxModel",
            "_view_count": null,
            "_view_module": "@jupyter-widgets/controls",
            "_view_module_version": "1.5.0",
            "_view_name": "HBoxView",
            "box_style": "",
            "children": [
              "IPY_MODEL_bff2838766b14b0eb53cdc9841856c26",
              "IPY_MODEL_66ecf1c9872946f3982829869e14b1b9",
              "IPY_MODEL_2140ff54a5d744fcb7450fbf6908adf3"
            ],
            "layout": "IPY_MODEL_6bb68e7deeeb42dfbecbecaf9c9b8bd5"
          }
        },
        "597f476397cc4a3da3021d3bc6c9eeaf": {
          "model_module": "@jupyter-widgets/controls",
          "model_module_version": "1.5.0",
          "model_name": "HBoxModel",
          "state": {
            "_dom_classes": [],
            "_model_module": "@jupyter-widgets/controls",
            "_model_module_version": "1.5.0",
            "_model_name": "HBoxModel",
            "_view_count": null,
            "_view_module": "@jupyter-widgets/controls",
            "_view_module_version": "1.5.0",
            "_view_name": "HBoxView",
            "box_style": "",
            "children": [
              "IPY_MODEL_c4e1891621bf40e7b93c5058da4ab498",
              "IPY_MODEL_e03d83bf8d874a12a234833e0b439fb4",
              "IPY_MODEL_022e28389ca248bb80728612c9f9e7b4"
            ],
            "layout": "IPY_MODEL_acd584f830434f73b5123cdf52da67cc"
          }
        },
        "5b1d209aae3d4f87a75fbff4b886d536": {
          "model_module": "@jupyter-widgets/controls",
          "model_module_version": "1.5.0",
          "model_name": "DescriptionStyleModel",
          "state": {
            "_model_module": "@jupyter-widgets/controls",
            "_model_module_version": "1.5.0",
            "_model_name": "DescriptionStyleModel",
            "_view_count": null,
            "_view_module": "@jupyter-widgets/base",
            "_view_module_version": "1.2.0",
            "_view_name": "StyleView",
            "description_width": ""
          }
        },
        "5e8023234a48407b98afa4e776ba3c3b": {
          "model_module": "@jupyter-widgets/base",
          "model_module_version": "1.2.0",
          "model_name": "LayoutModel",
          "state": {
            "_model_module": "@jupyter-widgets/base",
            "_model_module_version": "1.2.0",
            "_model_name": "LayoutModel",
            "_view_count": null,
            "_view_module": "@jupyter-widgets/base",
            "_view_module_version": "1.2.0",
            "_view_name": "LayoutView",
            "align_content": null,
            "align_items": null,
            "align_self": null,
            "border": null,
            "bottom": null,
            "display": null,
            "flex": null,
            "flex_flow": null,
            "grid_area": null,
            "grid_auto_columns": null,
            "grid_auto_flow": null,
            "grid_auto_rows": null,
            "grid_column": null,
            "grid_gap": null,
            "grid_row": null,
            "grid_template_areas": null,
            "grid_template_columns": null,
            "grid_template_rows": null,
            "height": null,
            "justify_content": null,
            "justify_items": null,
            "left": null,
            "margin": null,
            "max_height": null,
            "max_width": null,
            "min_height": null,
            "min_width": null,
            "object_fit": null,
            "object_position": null,
            "order": null,
            "overflow": null,
            "overflow_x": null,
            "overflow_y": null,
            "padding": null,
            "right": null,
            "top": null,
            "visibility": null,
            "width": null
          }
        },
        "60286be44210442c83ae8885a47ce2c6": {
          "model_module": "@jupyter-widgets/controls",
          "model_module_version": "1.5.0",
          "model_name": "DescriptionStyleModel",
          "state": {
            "_model_module": "@jupyter-widgets/controls",
            "_model_module_version": "1.5.0",
            "_model_name": "DescriptionStyleModel",
            "_view_count": null,
            "_view_module": "@jupyter-widgets/base",
            "_view_module_version": "1.2.0",
            "_view_name": "StyleView",
            "description_width": ""
          }
        },
        "66ecf1c9872946f3982829869e14b1b9": {
          "model_module": "@jupyter-widgets/controls",
          "model_module_version": "1.5.0",
          "model_name": "FloatProgressModel",
          "state": {
            "_dom_classes": [],
            "_model_module": "@jupyter-widgets/controls",
            "_model_module_version": "1.5.0",
            "_model_name": "FloatProgressModel",
            "_view_count": null,
            "_view_module": "@jupyter-widgets/controls",
            "_view_module_version": "1.5.0",
            "_view_name": "ProgressView",
            "bar_style": "success",
            "description": "",
            "description_tooltip": null,
            "layout": "IPY_MODEL_0fee8de08cad4d1ba5f98b4d8dd59e62",
            "max": 409096973,
            "min": 0,
            "orientation": "horizontal",
            "style": "IPY_MODEL_2f2332d0e1134d138e2ad3472c1d014e",
            "value": 409096973
          }
        },
        "6a90d995045a4bf48d8c0d2b4665ee6c": {
          "model_module": "@jupyter-widgets/controls",
          "model_module_version": "1.5.0",
          "model_name": "DescriptionStyleModel",
          "state": {
            "_model_module": "@jupyter-widgets/controls",
            "_model_module_version": "1.5.0",
            "_model_name": "DescriptionStyleModel",
            "_view_count": null,
            "_view_module": "@jupyter-widgets/base",
            "_view_module_version": "1.2.0",
            "_view_name": "StyleView",
            "description_width": ""
          }
        },
        "6bb68e7deeeb42dfbecbecaf9c9b8bd5": {
          "model_module": "@jupyter-widgets/base",
          "model_module_version": "1.2.0",
          "model_name": "LayoutModel",
          "state": {
            "_model_module": "@jupyter-widgets/base",
            "_model_module_version": "1.2.0",
            "_model_name": "LayoutModel",
            "_view_count": null,
            "_view_module": "@jupyter-widgets/base",
            "_view_module_version": "1.2.0",
            "_view_name": "LayoutView",
            "align_content": null,
            "align_items": null,
            "align_self": null,
            "border": null,
            "bottom": null,
            "display": null,
            "flex": null,
            "flex_flow": null,
            "grid_area": null,
            "grid_auto_columns": null,
            "grid_auto_flow": null,
            "grid_auto_rows": null,
            "grid_column": null,
            "grid_gap": null,
            "grid_row": null,
            "grid_template_areas": null,
            "grid_template_columns": null,
            "grid_template_rows": null,
            "height": null,
            "justify_content": null,
            "justify_items": null,
            "left": null,
            "margin": null,
            "max_height": null,
            "max_width": null,
            "min_height": null,
            "min_width": null,
            "object_fit": null,
            "object_position": null,
            "order": null,
            "overflow": null,
            "overflow_x": null,
            "overflow_y": null,
            "padding": null,
            "right": null,
            "top": null,
            "visibility": null,
            "width": null
          }
        },
        "70f046932449487aa935d1dfd12bdcda": {
          "model_module": "@jupyter-widgets/controls",
          "model_module_version": "1.5.0",
          "model_name": "FloatProgressModel",
          "state": {
            "_dom_classes": [],
            "_model_module": "@jupyter-widgets/controls",
            "_model_module_version": "1.5.0",
            "_model_name": "FloatProgressModel",
            "_view_count": null,
            "_view_module": "@jupyter-widgets/controls",
            "_view_module_version": "1.5.0",
            "_view_name": "ProgressView",
            "bar_style": "success",
            "description": "",
            "description_tooltip": null,
            "layout": "IPY_MODEL_47e126a69f8e4bd39a79bfbfd444fc38",
            "max": 485859,
            "min": 0,
            "orientation": "horizontal",
            "style": "IPY_MODEL_3f4e39ac5abf4361b651efdf9ae7d478",
            "value": 485859
          }
        },
        "713aa0d036324a8cba16ad20262781be": {
          "model_module": "@jupyter-widgets/base",
          "model_module_version": "1.2.0",
          "model_name": "LayoutModel",
          "state": {
            "_model_module": "@jupyter-widgets/base",
            "_model_module_version": "1.2.0",
            "_model_name": "LayoutModel",
            "_view_count": null,
            "_view_module": "@jupyter-widgets/base",
            "_view_module_version": "1.2.0",
            "_view_name": "LayoutView",
            "align_content": null,
            "align_items": null,
            "align_self": null,
            "border": null,
            "bottom": null,
            "display": null,
            "flex": null,
            "flex_flow": null,
            "grid_area": null,
            "grid_auto_columns": null,
            "grid_auto_flow": null,
            "grid_auto_rows": null,
            "grid_column": null,
            "grid_gap": null,
            "grid_row": null,
            "grid_template_areas": null,
            "grid_template_columns": null,
            "grid_template_rows": null,
            "height": null,
            "justify_content": null,
            "justify_items": null,
            "left": null,
            "margin": null,
            "max_height": null,
            "max_width": null,
            "min_height": null,
            "min_width": null,
            "object_fit": null,
            "object_position": null,
            "order": null,
            "overflow": null,
            "overflow_x": null,
            "overflow_y": null,
            "padding": null,
            "right": null,
            "top": null,
            "visibility": null,
            "width": null
          }
        },
        "71fc71370a2c49e69b5648f337adfbc3": {
          "model_module": "@jupyter-widgets/controls",
          "model_module_version": "1.5.0",
          "model_name": "HTMLModel",
          "state": {
            "_dom_classes": [],
            "_model_module": "@jupyter-widgets/controls",
            "_model_module_version": "1.5.0",
            "_model_name": "HTMLModel",
            "_view_count": null,
            "_view_module": "@jupyter-widgets/controls",
            "_view_module_version": "1.5.0",
            "_view_name": "HTMLView",
            "description": "",
            "description_tooltip": null,
            "layout": "IPY_MODEL_b4a4a7c662f84f9f905d8911f59b6e1d",
            "placeholder": "​",
            "style": "IPY_MODEL_f7c424dfb68b425e884e0d5788704650",
            "value": " 3.84k/3.84k [00:00&lt;00:00, 56.9kB/s]"
          }
        },
        "724eb8e0c1b04395a81a6c711c26c847": {
          "model_module": "@jupyter-widgets/controls",
          "model_module_version": "1.5.0",
          "model_name": "HBoxModel",
          "state": {
            "_dom_classes": [],
            "_model_module": "@jupyter-widgets/controls",
            "_model_module_version": "1.5.0",
            "_model_name": "HBoxModel",
            "_view_count": null,
            "_view_module": "@jupyter-widgets/controls",
            "_view_module_version": "1.5.0",
            "_view_name": "HBoxView",
            "box_style": "",
            "children": [
              "IPY_MODEL_37aa27c4e400488493018ad293c8ed28",
              "IPY_MODEL_ddf512fa0261429390d22a589f149b8c",
              "IPY_MODEL_31ad145ddbf048f188119bc45b8ef004"
            ],
            "layout": "IPY_MODEL_32b5f514b2194452a5f659da1040fba9"
          }
        },
        "734f5043722c4a0083587b4ec8e7372d": {
          "model_module": "@jupyter-widgets/controls",
          "model_module_version": "1.5.0",
          "model_name": "HBoxModel",
          "state": {
            "_dom_classes": [],
            "_model_module": "@jupyter-widgets/controls",
            "_model_module_version": "1.5.0",
            "_model_name": "HBoxModel",
            "_view_count": null,
            "_view_module": "@jupyter-widgets/controls",
            "_view_module_version": "1.5.0",
            "_view_name": "HBoxView",
            "box_style": "",
            "children": [
              "IPY_MODEL_39e421c3a18843498d1de716b47e9fb7",
              "IPY_MODEL_70f046932449487aa935d1dfd12bdcda",
              "IPY_MODEL_4f61c368d32841af9b414d59288a229a"
            ],
            "layout": "IPY_MODEL_bc54e9fbe0714cd5b81535e22e29e8b6"
          }
        },
        "73a2170024cf4565bba5942c579309e6": {
          "model_module": "@jupyter-widgets/controls",
          "model_module_version": "1.5.0",
          "model_name": "FloatProgressModel",
          "state": {
            "_dom_classes": [],
            "_model_module": "@jupyter-widgets/controls",
            "_model_module_version": "1.5.0",
            "_model_name": "FloatProgressModel",
            "_view_count": null,
            "_view_module": "@jupyter-widgets/controls",
            "_view_module_version": "1.5.0",
            "_view_name": "ProgressView",
            "bar_style": "success",
            "description": "",
            "description_tooltip": null,
            "layout": "IPY_MODEL_32e6b9fb6a7a432ca640609a52f96ca5",
            "max": 406572970,
            "min": 0,
            "orientation": "horizontal",
            "style": "IPY_MODEL_51f8ec5d34f34dce8ed9d5b57845b65b",
            "value": 406572970
          }
        },
        "752133ab861540d3a0aeea3647cf2d56": {
          "model_module": "@jupyter-widgets/base",
          "model_module_version": "1.2.0",
          "model_name": "LayoutModel",
          "state": {
            "_model_module": "@jupyter-widgets/base",
            "_model_module_version": "1.2.0",
            "_model_name": "LayoutModel",
            "_view_count": null,
            "_view_module": "@jupyter-widgets/base",
            "_view_module_version": "1.2.0",
            "_view_name": "LayoutView",
            "align_content": null,
            "align_items": null,
            "align_self": null,
            "border": null,
            "bottom": null,
            "display": null,
            "flex": null,
            "flex_flow": null,
            "grid_area": null,
            "grid_auto_columns": null,
            "grid_auto_flow": null,
            "grid_auto_rows": null,
            "grid_column": null,
            "grid_gap": null,
            "grid_row": null,
            "grid_template_areas": null,
            "grid_template_columns": null,
            "grid_template_rows": null,
            "height": null,
            "justify_content": null,
            "justify_items": null,
            "left": null,
            "margin": null,
            "max_height": null,
            "max_width": null,
            "min_height": null,
            "min_width": null,
            "object_fit": null,
            "object_position": null,
            "order": null,
            "overflow": null,
            "overflow_x": null,
            "overflow_y": null,
            "padding": null,
            "right": null,
            "top": null,
            "visibility": null,
            "width": null
          }
        },
        "79dab906cb2a4e07a0a42deba8b50ab0": {
          "model_module": "@jupyter-widgets/controls",
          "model_module_version": "1.5.0",
          "model_name": "DescriptionStyleModel",
          "state": {
            "_model_module": "@jupyter-widgets/controls",
            "_model_module_version": "1.5.0",
            "_model_name": "DescriptionStyleModel",
            "_view_count": null,
            "_view_module": "@jupyter-widgets/base",
            "_view_module_version": "1.2.0",
            "_view_name": "StyleView",
            "description_width": ""
          }
        },
        "813f4e8085f3420ca1385301c6186eaa": {
          "model_module": "@jupyter-widgets/controls",
          "model_module_version": "1.5.0",
          "model_name": "HTMLModel",
          "state": {
            "_dom_classes": [],
            "_model_module": "@jupyter-widgets/controls",
            "_model_module_version": "1.5.0",
            "_model_name": "HTMLModel",
            "_view_count": null,
            "_view_module": "@jupyter-widgets/controls",
            "_view_module_version": "1.5.0",
            "_view_name": "HTMLView",
            "description": "",
            "description_tooltip": null,
            "layout": "IPY_MODEL_12e115b503e74c298e5236dff07af01c",
            "placeholder": "​",
            "style": "IPY_MODEL_120ffdbd0d494892a5c52583101e74ff",
            "value": "Downloading data: 100%"
          }
        },
        "8ebb3b6f705a48778da957939b0e3613": {
          "model_module": "@jupyter-widgets/controls",
          "model_module_version": "1.5.0",
          "model_name": "DescriptionStyleModel",
          "state": {
            "_model_module": "@jupyter-widgets/controls",
            "_model_module_version": "1.5.0",
            "_model_name": "DescriptionStyleModel",
            "_view_count": null,
            "_view_module": "@jupyter-widgets/base",
            "_view_module_version": "1.2.0",
            "_view_name": "StyleView",
            "description_width": ""
          }
        },
        "994517b12c7641da9d58d3c455617eb7": {
          "model_module": "@jupyter-widgets/base",
          "model_module_version": "1.2.0",
          "model_name": "LayoutModel",
          "state": {
            "_model_module": "@jupyter-widgets/base",
            "_model_module_version": "1.2.0",
            "_model_name": "LayoutModel",
            "_view_count": null,
            "_view_module": "@jupyter-widgets/base",
            "_view_module_version": "1.2.0",
            "_view_name": "LayoutView",
            "align_content": null,
            "align_items": null,
            "align_self": null,
            "border": null,
            "bottom": null,
            "display": null,
            "flex": null,
            "flex_flow": null,
            "grid_area": null,
            "grid_auto_columns": null,
            "grid_auto_flow": null,
            "grid_auto_rows": null,
            "grid_column": null,
            "grid_gap": null,
            "grid_row": null,
            "grid_template_areas": null,
            "grid_template_columns": null,
            "grid_template_rows": null,
            "height": null,
            "justify_content": null,
            "justify_items": null,
            "left": null,
            "margin": null,
            "max_height": null,
            "max_width": null,
            "min_height": null,
            "min_width": null,
            "object_fit": null,
            "object_position": null,
            "order": null,
            "overflow": null,
            "overflow_x": null,
            "overflow_y": null,
            "padding": null,
            "right": null,
            "top": null,
            "visibility": null,
            "width": null
          }
        },
        "9a0f8733a2584fb0a6fbaa489871d417": {
          "model_module": "@jupyter-widgets/controls",
          "model_module_version": "1.5.0",
          "model_name": "HBoxModel",
          "state": {
            "_dom_classes": [],
            "_model_module": "@jupyter-widgets/controls",
            "_model_module_version": "1.5.0",
            "_model_name": "HBoxModel",
            "_view_count": null,
            "_view_module": "@jupyter-widgets/controls",
            "_view_module_version": "1.5.0",
            "_view_name": "HBoxView",
            "box_style": "",
            "children": [
              "IPY_MODEL_813f4e8085f3420ca1385301c6186eaa",
              "IPY_MODEL_73a2170024cf4565bba5942c579309e6",
              "IPY_MODEL_d8f193300b7443c2b6bda1e1fb71b270"
            ],
            "layout": "IPY_MODEL_a7b948b268c44388946c8fdc7e87e203"
          }
        },
        "9c02534d7ab141daab25832ff3af957c": {
          "model_module": "@jupyter-widgets/controls",
          "model_module_version": "1.5.0",
          "model_name": "HTMLModel",
          "state": {
            "_dom_classes": [],
            "_model_module": "@jupyter-widgets/controls",
            "_model_module_version": "1.5.0",
            "_model_name": "HTMLModel",
            "_view_count": null,
            "_view_module": "@jupyter-widgets/controls",
            "_view_module_version": "1.5.0",
            "_view_name": "HTMLView",
            "description": "",
            "description_tooltip": null,
            "layout": "IPY_MODEL_ab954b1af2054051a1ec5d5303b0eb20",
            "placeholder": "​",
            "style": "IPY_MODEL_40b7298ff3f54019a75f5c9df35c1c0a",
            "value": " 408M/408M [00:05&lt;00:00, 95.2MB/s]"
          }
        },
        "9e22dfbebc5e42708f0c0a0cbcf51e7e": {
          "model_module": "@jupyter-widgets/controls",
          "model_module_version": "1.5.0",
          "model_name": "HBoxModel",
          "state": {
            "_dom_classes": [],
            "_model_module": "@jupyter-widgets/controls",
            "_model_module_version": "1.5.0",
            "_model_name": "HBoxModel",
            "_view_count": null,
            "_view_module": "@jupyter-widgets/controls",
            "_view_module_version": "1.5.0",
            "_view_name": "HBoxView",
            "box_style": "",
            "children": [
              "IPY_MODEL_bf0600f1c82443b1bd97b5e9c08c788a",
              "IPY_MODEL_beb0de4f452542bdb8b78bf476aac0ec",
              "IPY_MODEL_9c02534d7ab141daab25832ff3af957c"
            ],
            "layout": "IPY_MODEL_ad3a9c722a4045c49bb3fc45c5206c43"
          }
        },
        "a2b3b4b0bdc346378f56e68061573ae8": {
          "model_module": "@jupyter-widgets/base",
          "model_module_version": "1.2.0",
          "model_name": "LayoutModel",
          "state": {
            "_model_module": "@jupyter-widgets/base",
            "_model_module_version": "1.2.0",
            "_model_name": "LayoutModel",
            "_view_count": null,
            "_view_module": "@jupyter-widgets/base",
            "_view_module_version": "1.2.0",
            "_view_name": "LayoutView",
            "align_content": null,
            "align_items": null,
            "align_self": null,
            "border": null,
            "bottom": null,
            "display": null,
            "flex": null,
            "flex_flow": null,
            "grid_area": null,
            "grid_auto_columns": null,
            "grid_auto_flow": null,
            "grid_auto_rows": null,
            "grid_column": null,
            "grid_gap": null,
            "grid_row": null,
            "grid_template_areas": null,
            "grid_template_columns": null,
            "grid_template_rows": null,
            "height": null,
            "justify_content": null,
            "justify_items": null,
            "left": null,
            "margin": null,
            "max_height": null,
            "max_width": null,
            "min_height": null,
            "min_width": null,
            "object_fit": null,
            "object_position": null,
            "order": null,
            "overflow": null,
            "overflow_x": null,
            "overflow_y": null,
            "padding": null,
            "right": null,
            "top": null,
            "visibility": null,
            "width": null
          }
        },
        "a7b948b268c44388946c8fdc7e87e203": {
          "model_module": "@jupyter-widgets/base",
          "model_module_version": "1.2.0",
          "model_name": "LayoutModel",
          "state": {
            "_model_module": "@jupyter-widgets/base",
            "_model_module_version": "1.2.0",
            "_model_name": "LayoutModel",
            "_view_count": null,
            "_view_module": "@jupyter-widgets/base",
            "_view_module_version": "1.2.0",
            "_view_name": "LayoutView",
            "align_content": null,
            "align_items": null,
            "align_self": null,
            "border": null,
            "bottom": null,
            "display": null,
            "flex": null,
            "flex_flow": null,
            "grid_area": null,
            "grid_auto_columns": null,
            "grid_auto_flow": null,
            "grid_auto_rows": null,
            "grid_column": null,
            "grid_gap": null,
            "grid_row": null,
            "grid_template_areas": null,
            "grid_template_columns": null,
            "grid_template_rows": null,
            "height": null,
            "justify_content": null,
            "justify_items": null,
            "left": null,
            "margin": null,
            "max_height": null,
            "max_width": null,
            "min_height": null,
            "min_width": null,
            "object_fit": null,
            "object_position": null,
            "order": null,
            "overflow": null,
            "overflow_x": null,
            "overflow_y": null,
            "padding": null,
            "right": null,
            "top": null,
            "visibility": null,
            "width": null
          }
        },
        "a8d419fd9b12487ba2d60339ce0dbe97": {
          "model_module": "@jupyter-widgets/base",
          "model_module_version": "1.2.0",
          "model_name": "LayoutModel",
          "state": {
            "_model_module": "@jupyter-widgets/base",
            "_model_module_version": "1.2.0",
            "_model_name": "LayoutModel",
            "_view_count": null,
            "_view_module": "@jupyter-widgets/base",
            "_view_module_version": "1.2.0",
            "_view_name": "LayoutView",
            "align_content": null,
            "align_items": null,
            "align_self": null,
            "border": null,
            "bottom": null,
            "display": null,
            "flex": null,
            "flex_flow": null,
            "grid_area": null,
            "grid_auto_columns": null,
            "grid_auto_flow": null,
            "grid_auto_rows": null,
            "grid_column": null,
            "grid_gap": null,
            "grid_row": null,
            "grid_template_areas": null,
            "grid_template_columns": null,
            "grid_template_rows": null,
            "height": null,
            "justify_content": null,
            "justify_items": null,
            "left": null,
            "margin": null,
            "max_height": null,
            "max_width": null,
            "min_height": null,
            "min_width": null,
            "object_fit": null,
            "object_position": null,
            "order": null,
            "overflow": null,
            "overflow_x": null,
            "overflow_y": null,
            "padding": null,
            "right": null,
            "top": null,
            "visibility": null,
            "width": null
          }
        },
        "ab954b1af2054051a1ec5d5303b0eb20": {
          "model_module": "@jupyter-widgets/base",
          "model_module_version": "1.2.0",
          "model_name": "LayoutModel",
          "state": {
            "_model_module": "@jupyter-widgets/base",
            "_model_module_version": "1.2.0",
            "_model_name": "LayoutModel",
            "_view_count": null,
            "_view_module": "@jupyter-widgets/base",
            "_view_module_version": "1.2.0",
            "_view_name": "LayoutView",
            "align_content": null,
            "align_items": null,
            "align_self": null,
            "border": null,
            "bottom": null,
            "display": null,
            "flex": null,
            "flex_flow": null,
            "grid_area": null,
            "grid_auto_columns": null,
            "grid_auto_flow": null,
            "grid_auto_rows": null,
            "grid_column": null,
            "grid_gap": null,
            "grid_row": null,
            "grid_template_areas": null,
            "grid_template_columns": null,
            "grid_template_rows": null,
            "height": null,
            "justify_content": null,
            "justify_items": null,
            "left": null,
            "margin": null,
            "max_height": null,
            "max_width": null,
            "min_height": null,
            "min_width": null,
            "object_fit": null,
            "object_position": null,
            "order": null,
            "overflow": null,
            "overflow_x": null,
            "overflow_y": null,
            "padding": null,
            "right": null,
            "top": null,
            "visibility": null,
            "width": null
          }
        },
        "acd584f830434f73b5123cdf52da67cc": {
          "model_module": "@jupyter-widgets/base",
          "model_module_version": "1.2.0",
          "model_name": "LayoutModel",
          "state": {
            "_model_module": "@jupyter-widgets/base",
            "_model_module_version": "1.2.0",
            "_model_name": "LayoutModel",
            "_view_count": null,
            "_view_module": "@jupyter-widgets/base",
            "_view_module_version": "1.2.0",
            "_view_name": "LayoutView",
            "align_content": null,
            "align_items": null,
            "align_self": null,
            "border": null,
            "bottom": null,
            "display": null,
            "flex": null,
            "flex_flow": null,
            "grid_area": null,
            "grid_auto_columns": null,
            "grid_auto_flow": null,
            "grid_auto_rows": null,
            "grid_column": null,
            "grid_gap": null,
            "grid_row": null,
            "grid_template_areas": null,
            "grid_template_columns": null,
            "grid_template_rows": null,
            "height": null,
            "justify_content": null,
            "justify_items": null,
            "left": null,
            "margin": null,
            "max_height": null,
            "max_width": null,
            "min_height": null,
            "min_width": null,
            "object_fit": null,
            "object_position": null,
            "order": null,
            "overflow": null,
            "overflow_x": null,
            "overflow_y": null,
            "padding": null,
            "right": null,
            "top": null,
            "visibility": null,
            "width": null
          }
        },
        "ad3a9c722a4045c49bb3fc45c5206c43": {
          "model_module": "@jupyter-widgets/base",
          "model_module_version": "1.2.0",
          "model_name": "LayoutModel",
          "state": {
            "_model_module": "@jupyter-widgets/base",
            "_model_module_version": "1.2.0",
            "_model_name": "LayoutModel",
            "_view_count": null,
            "_view_module": "@jupyter-widgets/base",
            "_view_module_version": "1.2.0",
            "_view_name": "LayoutView",
            "align_content": null,
            "align_items": null,
            "align_self": null,
            "border": null,
            "bottom": null,
            "display": null,
            "flex": null,
            "flex_flow": null,
            "grid_area": null,
            "grid_auto_columns": null,
            "grid_auto_flow": null,
            "grid_auto_rows": null,
            "grid_column": null,
            "grid_gap": null,
            "grid_row": null,
            "grid_template_areas": null,
            "grid_template_columns": null,
            "grid_template_rows": null,
            "height": null,
            "justify_content": null,
            "justify_items": null,
            "left": null,
            "margin": null,
            "max_height": null,
            "max_width": null,
            "min_height": null,
            "min_width": null,
            "object_fit": null,
            "object_position": null,
            "order": null,
            "overflow": null,
            "overflow_x": null,
            "overflow_y": null,
            "padding": null,
            "right": null,
            "top": null,
            "visibility": null,
            "width": null
          }
        },
        "b4a4a7c662f84f9f905d8911f59b6e1d": {
          "model_module": "@jupyter-widgets/base",
          "model_module_version": "1.2.0",
          "model_name": "LayoutModel",
          "state": {
            "_model_module": "@jupyter-widgets/base",
            "_model_module_version": "1.2.0",
            "_model_name": "LayoutModel",
            "_view_count": null,
            "_view_module": "@jupyter-widgets/base",
            "_view_module_version": "1.2.0",
            "_view_name": "LayoutView",
            "align_content": null,
            "align_items": null,
            "align_self": null,
            "border": null,
            "bottom": null,
            "display": null,
            "flex": null,
            "flex_flow": null,
            "grid_area": null,
            "grid_auto_columns": null,
            "grid_auto_flow": null,
            "grid_auto_rows": null,
            "grid_column": null,
            "grid_gap": null,
            "grid_row": null,
            "grid_template_areas": null,
            "grid_template_columns": null,
            "grid_template_rows": null,
            "height": null,
            "justify_content": null,
            "justify_items": null,
            "left": null,
            "margin": null,
            "max_height": null,
            "max_width": null,
            "min_height": null,
            "min_width": null,
            "object_fit": null,
            "object_position": null,
            "order": null,
            "overflow": null,
            "overflow_x": null,
            "overflow_y": null,
            "padding": null,
            "right": null,
            "top": null,
            "visibility": null,
            "width": null
          }
        },
        "b752e710b430479facd0143c9d82aab4": {
          "model_module": "@jupyter-widgets/controls",
          "model_module_version": "1.5.0",
          "model_name": "DescriptionStyleModel",
          "state": {
            "_model_module": "@jupyter-widgets/controls",
            "_model_module_version": "1.5.0",
            "_model_name": "DescriptionStyleModel",
            "_view_count": null,
            "_view_module": "@jupyter-widgets/base",
            "_view_module_version": "1.2.0",
            "_view_name": "StyleView",
            "description_width": ""
          }
        },
        "bc54e9fbe0714cd5b81535e22e29e8b6": {
          "model_module": "@jupyter-widgets/base",
          "model_module_version": "1.2.0",
          "model_name": "LayoutModel",
          "state": {
            "_model_module": "@jupyter-widgets/base",
            "_model_module_version": "1.2.0",
            "_model_name": "LayoutModel",
            "_view_count": null,
            "_view_module": "@jupyter-widgets/base",
            "_view_module_version": "1.2.0",
            "_view_name": "LayoutView",
            "align_content": null,
            "align_items": null,
            "align_self": null,
            "border": null,
            "bottom": null,
            "display": null,
            "flex": null,
            "flex_flow": null,
            "grid_area": null,
            "grid_auto_columns": null,
            "grid_auto_flow": null,
            "grid_auto_rows": null,
            "grid_column": null,
            "grid_gap": null,
            "grid_row": null,
            "grid_template_areas": null,
            "grid_template_columns": null,
            "grid_template_rows": null,
            "height": null,
            "justify_content": null,
            "justify_items": null,
            "left": null,
            "margin": null,
            "max_height": null,
            "max_width": null,
            "min_height": null,
            "min_width": null,
            "object_fit": null,
            "object_position": null,
            "order": null,
            "overflow": null,
            "overflow_x": null,
            "overflow_y": null,
            "padding": null,
            "right": null,
            "top": null,
            "visibility": null,
            "width": null
          }
        },
        "beb0de4f452542bdb8b78bf476aac0ec": {
          "model_module": "@jupyter-widgets/controls",
          "model_module_version": "1.5.0",
          "model_name": "FloatProgressModel",
          "state": {
            "_dom_classes": [],
            "_model_module": "@jupyter-widgets/controls",
            "_model_module_version": "1.5.0",
            "_model_name": "FloatProgressModel",
            "_view_count": null,
            "_view_module": "@jupyter-widgets/controls",
            "_view_module_version": "1.5.0",
            "_view_name": "ProgressView",
            "bar_style": "success",
            "description": "",
            "description_tooltip": null,
            "layout": "IPY_MODEL_5e8023234a48407b98afa4e776ba3c3b",
            "max": 408301957,
            "min": 0,
            "orientation": "horizontal",
            "style": "IPY_MODEL_f3d52ffe58604e23b362b9a101207fe0",
            "value": 408301957
          }
        },
        "bf0600f1c82443b1bd97b5e9c08c788a": {
          "model_module": "@jupyter-widgets/controls",
          "model_module_version": "1.5.0",
          "model_name": "HTMLModel",
          "state": {
            "_dom_classes": [],
            "_model_module": "@jupyter-widgets/controls",
            "_model_module_version": "1.5.0",
            "_model_name": "HTMLModel",
            "_view_count": null,
            "_view_module": "@jupyter-widgets/controls",
            "_view_module_version": "1.5.0",
            "_view_name": "HTMLView",
            "description": "",
            "description_tooltip": null,
            "layout": "IPY_MODEL_a8d419fd9b12487ba2d60339ce0dbe97",
            "placeholder": "​",
            "style": "IPY_MODEL_e8ce4f9cd5094318af280f1c90932d41",
            "value": "Downloading data: 100%"
          }
        },
        "bff2838766b14b0eb53cdc9841856c26": {
          "model_module": "@jupyter-widgets/controls",
          "model_module_version": "1.5.0",
          "model_name": "HTMLModel",
          "state": {
            "_dom_classes": [],
            "_model_module": "@jupyter-widgets/controls",
            "_model_module_version": "1.5.0",
            "_model_name": "HTMLModel",
            "_view_count": null,
            "_view_module": "@jupyter-widgets/controls",
            "_view_module_version": "1.5.0",
            "_view_name": "HTMLView",
            "description": "",
            "description_tooltip": null,
            "layout": "IPY_MODEL_ff695842786c456a91c69f845bf47aca",
            "placeholder": "​",
            "style": "IPY_MODEL_79dab906cb2a4e07a0a42deba8b50ab0",
            "value": "Downloading data: 100%"
          }
        },
        "c4e1891621bf40e7b93c5058da4ab498": {
          "model_module": "@jupyter-widgets/controls",
          "model_module_version": "1.5.0",
          "model_name": "HTMLModel",
          "state": {
            "_dom_classes": [],
            "_model_module": "@jupyter-widgets/controls",
            "_model_module_version": "1.5.0",
            "_model_name": "HTMLModel",
            "_view_count": null,
            "_view_module": "@jupyter-widgets/controls",
            "_view_module_version": "1.5.0",
            "_view_name": "HTMLView",
            "description": "",
            "description_tooltip": null,
            "layout": "IPY_MODEL_994517b12c7641da9d58d3c455617eb7",
            "placeholder": "​",
            "style": "IPY_MODEL_ca434c3c126f4065923536c7ade4c922",
            "value": "Downloading data files: 100%"
          }
        },
        "ca434c3c126f4065923536c7ade4c922": {
          "model_module": "@jupyter-widgets/controls",
          "model_module_version": "1.5.0",
          "model_name": "DescriptionStyleModel",
          "state": {
            "_model_module": "@jupyter-widgets/controls",
            "_model_module_version": "1.5.0",
            "_model_name": "DescriptionStyleModel",
            "_view_count": null,
            "_view_module": "@jupyter-widgets/base",
            "_view_module_version": "1.2.0",
            "_view_name": "StyleView",
            "description_width": ""
          }
        },
        "d67b2509c1634a49b4a8379b192ad04f": {
          "model_module": "@jupyter-widgets/controls",
          "model_module_version": "1.5.0",
          "model_name": "FloatProgressModel",
          "state": {
            "_dom_classes": [],
            "_model_module": "@jupyter-widgets/controls",
            "_model_module_version": "1.5.0",
            "_model_name": "FloatProgressModel",
            "_view_count": null,
            "_view_module": "@jupyter-widgets/controls",
            "_view_module_version": "1.5.0",
            "_view_name": "ProgressView",
            "bar_style": "success",
            "description": "",
            "description_tooltip": null,
            "layout": "IPY_MODEL_fae0d069a1fb47da95fc19741f592b26",
            "max": 3843,
            "min": 0,
            "orientation": "horizontal",
            "style": "IPY_MODEL_47b608e15e8148a9a2f010f16d6669ee",
            "value": 3843
          }
        },
        "d8f193300b7443c2b6bda1e1fb71b270": {
          "model_module": "@jupyter-widgets/controls",
          "model_module_version": "1.5.0",
          "model_name": "HTMLModel",
          "state": {
            "_dom_classes": [],
            "_model_module": "@jupyter-widgets/controls",
            "_model_module_version": "1.5.0",
            "_model_name": "HTMLModel",
            "_view_count": null,
            "_view_module": "@jupyter-widgets/controls",
            "_view_module_version": "1.5.0",
            "_view_name": "HTMLView",
            "description": "",
            "description_tooltip": null,
            "layout": "IPY_MODEL_489e7c855a8f4d4580851745584113be",
            "placeholder": "​",
            "style": "IPY_MODEL_b752e710b430479facd0143c9d82aab4",
            "value": " 407M/407M [00:05&lt;00:00, 88.8MB/s]"
          }
        },
        "daf32a760459437485a30a9c458f355a": {
          "model_module": "@jupyter-widgets/controls",
          "model_module_version": "1.5.0",
          "model_name": "ProgressStyleModel",
          "state": {
            "_model_module": "@jupyter-widgets/controls",
            "_model_module_version": "1.5.0",
            "_model_name": "ProgressStyleModel",
            "_view_count": null,
            "_view_module": "@jupyter-widgets/base",
            "_view_module_version": "1.2.0",
            "_view_name": "StyleView",
            "bar_color": null,
            "description_width": ""
          }
        },
        "dc7d98d4a41b489cab20dba7a859d166": {
          "model_module": "@jupyter-widgets/base",
          "model_module_version": "1.2.0",
          "model_name": "LayoutModel",
          "state": {
            "_model_module": "@jupyter-widgets/base",
            "_model_module_version": "1.2.0",
            "_model_name": "LayoutModel",
            "_view_count": null,
            "_view_module": "@jupyter-widgets/base",
            "_view_module_version": "1.2.0",
            "_view_name": "LayoutView",
            "align_content": null,
            "align_items": null,
            "align_self": null,
            "border": null,
            "bottom": null,
            "display": null,
            "flex": null,
            "flex_flow": null,
            "grid_area": null,
            "grid_auto_columns": null,
            "grid_auto_flow": null,
            "grid_auto_rows": null,
            "grid_column": null,
            "grid_gap": null,
            "grid_row": null,
            "grid_template_areas": null,
            "grid_template_columns": null,
            "grid_template_rows": null,
            "height": null,
            "justify_content": null,
            "justify_items": null,
            "left": null,
            "margin": null,
            "max_height": null,
            "max_width": null,
            "min_height": null,
            "min_width": null,
            "object_fit": null,
            "object_position": null,
            "order": null,
            "overflow": null,
            "overflow_x": null,
            "overflow_y": null,
            "padding": null,
            "right": null,
            "top": null,
            "visibility": null,
            "width": null
          }
        },
        "ddf512fa0261429390d22a589f149b8c": {
          "model_module": "@jupyter-widgets/controls",
          "model_module_version": "1.5.0",
          "model_name": "FloatProgressModel",
          "state": {
            "_dom_classes": [],
            "_model_module": "@jupyter-widgets/controls",
            "_model_module_version": "1.5.0",
            "_model_name": "FloatProgressModel",
            "_view_count": null,
            "_view_module": "@jupyter-widgets/controls",
            "_view_module_version": "1.5.0",
            "_view_name": "ProgressView",
            "bar_style": "success",
            "description": "",
            "description_tooltip": null,
            "layout": "IPY_MODEL_e4892990b1ef458997f20bdd27d51d1d",
            "max": 403669320,
            "min": 0,
            "orientation": "horizontal",
            "style": "IPY_MODEL_f45fbe222b11479194564413670983cc",
            "value": 403669320
          }
        },
        "df39f22fbedb4cf9aac55e0ee354dc8d": {
          "model_module": "@jupyter-widgets/controls",
          "model_module_version": "1.5.0",
          "model_name": "HTMLModel",
          "state": {
            "_dom_classes": [],
            "_model_module": "@jupyter-widgets/controls",
            "_model_module_version": "1.5.0",
            "_model_name": "HTMLModel",
            "_view_count": null,
            "_view_module": "@jupyter-widgets/controls",
            "_view_module_version": "1.5.0",
            "_view_name": "HTMLView",
            "description": "",
            "description_tooltip": null,
            "layout": "IPY_MODEL_a2b3b4b0bdc346378f56e68061573ae8",
            "placeholder": "​",
            "style": "IPY_MODEL_23be92bc7844447d8ec0344084353fff",
            "value": "Downloading metadata: 100%"
          }
        },
        "e03d83bf8d874a12a234833e0b439fb4": {
          "model_module": "@jupyter-widgets/controls",
          "model_module_version": "1.5.0",
          "model_name": "FloatProgressModel",
          "state": {
            "_dom_classes": [],
            "_model_module": "@jupyter-widgets/controls",
            "_model_module_version": "1.5.0",
            "_model_name": "FloatProgressModel",
            "_view_count": null,
            "_view_module": "@jupyter-widgets/controls",
            "_view_module_version": "1.5.0",
            "_view_name": "ProgressView",
            "bar_style": "success",
            "description": "",
            "description_tooltip": null,
            "layout": "IPY_MODEL_e4a827dbcb4349b48a931a78ab8261c0",
            "max": 1,
            "min": 0,
            "orientation": "horizontal",
            "style": "IPY_MODEL_daf32a760459437485a30a9c458f355a",
            "value": 1
          }
        },
        "e0430aab26614e9dbba0a99993374eb9": {
          "model_module": "@jupyter-widgets/base",
          "model_module_version": "1.2.0",
          "model_name": "LayoutModel",
          "state": {
            "_model_module": "@jupyter-widgets/base",
            "_model_module_version": "1.2.0",
            "_model_name": "LayoutModel",
            "_view_count": null,
            "_view_module": "@jupyter-widgets/base",
            "_view_module_version": "1.2.0",
            "_view_name": "LayoutView",
            "align_content": null,
            "align_items": null,
            "align_self": null,
            "border": null,
            "bottom": null,
            "display": null,
            "flex": null,
            "flex_flow": null,
            "grid_area": null,
            "grid_auto_columns": null,
            "grid_auto_flow": null,
            "grid_auto_rows": null,
            "grid_column": null,
            "grid_gap": null,
            "grid_row": null,
            "grid_template_areas": null,
            "grid_template_columns": null,
            "grid_template_rows": null,
            "height": null,
            "justify_content": null,
            "justify_items": null,
            "left": null,
            "margin": null,
            "max_height": null,
            "max_width": null,
            "min_height": null,
            "min_width": null,
            "object_fit": null,
            "object_position": null,
            "order": null,
            "overflow": null,
            "overflow_x": null,
            "overflow_y": null,
            "padding": null,
            "right": null,
            "top": null,
            "visibility": null,
            "width": null
          }
        },
        "e4571a2e5f2e473dbf3873aee7a50c50": {
          "model_module": "@jupyter-widgets/base",
          "model_module_version": "1.2.0",
          "model_name": "LayoutModel",
          "state": {
            "_model_module": "@jupyter-widgets/base",
            "_model_module_version": "1.2.0",
            "_model_name": "LayoutModel",
            "_view_count": null,
            "_view_module": "@jupyter-widgets/base",
            "_view_module_version": "1.2.0",
            "_view_name": "LayoutView",
            "align_content": null,
            "align_items": null,
            "align_self": null,
            "border": null,
            "bottom": null,
            "display": null,
            "flex": null,
            "flex_flow": null,
            "grid_area": null,
            "grid_auto_columns": null,
            "grid_auto_flow": null,
            "grid_auto_rows": null,
            "grid_column": null,
            "grid_gap": null,
            "grid_row": null,
            "grid_template_areas": null,
            "grid_template_columns": null,
            "grid_template_rows": null,
            "height": null,
            "justify_content": null,
            "justify_items": null,
            "left": null,
            "margin": null,
            "max_height": null,
            "max_width": null,
            "min_height": null,
            "min_width": null,
            "object_fit": null,
            "object_position": null,
            "order": null,
            "overflow": null,
            "overflow_x": null,
            "overflow_y": null,
            "padding": null,
            "right": null,
            "top": null,
            "visibility": null,
            "width": null
          }
        },
        "e4892990b1ef458997f20bdd27d51d1d": {
          "model_module": "@jupyter-widgets/base",
          "model_module_version": "1.2.0",
          "model_name": "LayoutModel",
          "state": {
            "_model_module": "@jupyter-widgets/base",
            "_model_module_version": "1.2.0",
            "_model_name": "LayoutModel",
            "_view_count": null,
            "_view_module": "@jupyter-widgets/base",
            "_view_module_version": "1.2.0",
            "_view_name": "LayoutView",
            "align_content": null,
            "align_items": null,
            "align_self": null,
            "border": null,
            "bottom": null,
            "display": null,
            "flex": null,
            "flex_flow": null,
            "grid_area": null,
            "grid_auto_columns": null,
            "grid_auto_flow": null,
            "grid_auto_rows": null,
            "grid_column": null,
            "grid_gap": null,
            "grid_row": null,
            "grid_template_areas": null,
            "grid_template_columns": null,
            "grid_template_rows": null,
            "height": null,
            "justify_content": null,
            "justify_items": null,
            "left": null,
            "margin": null,
            "max_height": null,
            "max_width": null,
            "min_height": null,
            "min_width": null,
            "object_fit": null,
            "object_position": null,
            "order": null,
            "overflow": null,
            "overflow_x": null,
            "overflow_y": null,
            "padding": null,
            "right": null,
            "top": null,
            "visibility": null,
            "width": null
          }
        },
        "e4a827dbcb4349b48a931a78ab8261c0": {
          "model_module": "@jupyter-widgets/base",
          "model_module_version": "1.2.0",
          "model_name": "LayoutModel",
          "state": {
            "_model_module": "@jupyter-widgets/base",
            "_model_module_version": "1.2.0",
            "_model_name": "LayoutModel",
            "_view_count": null,
            "_view_module": "@jupyter-widgets/base",
            "_view_module_version": "1.2.0",
            "_view_name": "LayoutView",
            "align_content": null,
            "align_items": null,
            "align_self": null,
            "border": null,
            "bottom": null,
            "display": null,
            "flex": null,
            "flex_flow": null,
            "grid_area": null,
            "grid_auto_columns": null,
            "grid_auto_flow": null,
            "grid_auto_rows": null,
            "grid_column": null,
            "grid_gap": null,
            "grid_row": null,
            "grid_template_areas": null,
            "grid_template_columns": null,
            "grid_template_rows": null,
            "height": null,
            "justify_content": null,
            "justify_items": null,
            "left": null,
            "margin": null,
            "max_height": null,
            "max_width": null,
            "min_height": null,
            "min_width": null,
            "object_fit": null,
            "object_position": null,
            "order": null,
            "overflow": null,
            "overflow_x": null,
            "overflow_y": null,
            "padding": null,
            "right": null,
            "top": null,
            "visibility": null,
            "width": null
          }
        },
        "e8ce4f9cd5094318af280f1c90932d41": {
          "model_module": "@jupyter-widgets/controls",
          "model_module_version": "1.5.0",
          "model_name": "DescriptionStyleModel",
          "state": {
            "_model_module": "@jupyter-widgets/controls",
            "_model_module_version": "1.5.0",
            "_model_name": "DescriptionStyleModel",
            "_view_count": null,
            "_view_module": "@jupyter-widgets/base",
            "_view_module_version": "1.2.0",
            "_view_name": "StyleView",
            "description_width": ""
          }
        },
        "efac14007add4f7d89ac3b8ff20f034d": {
          "model_module": "@jupyter-widgets/controls",
          "model_module_version": "1.5.0",
          "model_name": "DescriptionStyleModel",
          "state": {
            "_model_module": "@jupyter-widgets/controls",
            "_model_module_version": "1.5.0",
            "_model_name": "DescriptionStyleModel",
            "_view_count": null,
            "_view_module": "@jupyter-widgets/base",
            "_view_module_version": "1.2.0",
            "_view_name": "StyleView",
            "description_width": ""
          }
        },
        "f02c1def7cb748369d7bdaa8c94531bd": {
          "model_module": "@jupyter-widgets/controls",
          "model_module_version": "1.5.0",
          "model_name": "DescriptionStyleModel",
          "state": {
            "_model_module": "@jupyter-widgets/controls",
            "_model_module_version": "1.5.0",
            "_model_name": "DescriptionStyleModel",
            "_view_count": null,
            "_view_module": "@jupyter-widgets/base",
            "_view_module_version": "1.2.0",
            "_view_name": "StyleView",
            "description_width": ""
          }
        },
        "f3d52ffe58604e23b362b9a101207fe0": {
          "model_module": "@jupyter-widgets/controls",
          "model_module_version": "1.5.0",
          "model_name": "ProgressStyleModel",
          "state": {
            "_model_module": "@jupyter-widgets/controls",
            "_model_module_version": "1.5.0",
            "_model_name": "ProgressStyleModel",
            "_view_count": null,
            "_view_module": "@jupyter-widgets/base",
            "_view_module_version": "1.2.0",
            "_view_name": "StyleView",
            "bar_color": null,
            "description_width": ""
          }
        },
        "f45fbe222b11479194564413670983cc": {
          "model_module": "@jupyter-widgets/controls",
          "model_module_version": "1.5.0",
          "model_name": "ProgressStyleModel",
          "state": {
            "_model_module": "@jupyter-widgets/controls",
            "_model_module_version": "1.5.0",
            "_model_name": "ProgressStyleModel",
            "_view_count": null,
            "_view_module": "@jupyter-widgets/base",
            "_view_module_version": "1.2.0",
            "_view_name": "StyleView",
            "bar_color": null,
            "description_width": ""
          }
        },
        "f5a1806f4d1e4e92af4a3d738f3b2529": {
          "model_module": "@jupyter-widgets/base",
          "model_module_version": "1.2.0",
          "model_name": "LayoutModel",
          "state": {
            "_model_module": "@jupyter-widgets/base",
            "_model_module_version": "1.2.0",
            "_model_name": "LayoutModel",
            "_view_count": null,
            "_view_module": "@jupyter-widgets/base",
            "_view_module_version": "1.2.0",
            "_view_name": "LayoutView",
            "align_content": null,
            "align_items": null,
            "align_self": null,
            "border": null,
            "bottom": null,
            "display": null,
            "flex": null,
            "flex_flow": null,
            "grid_area": null,
            "grid_auto_columns": null,
            "grid_auto_flow": null,
            "grid_auto_rows": null,
            "grid_column": null,
            "grid_gap": null,
            "grid_row": null,
            "grid_template_areas": null,
            "grid_template_columns": null,
            "grid_template_rows": null,
            "height": null,
            "justify_content": null,
            "justify_items": null,
            "left": null,
            "margin": null,
            "max_height": null,
            "max_width": null,
            "min_height": null,
            "min_width": null,
            "object_fit": null,
            "object_position": null,
            "order": null,
            "overflow": null,
            "overflow_x": null,
            "overflow_y": null,
            "padding": null,
            "right": null,
            "top": null,
            "visibility": null,
            "width": null
          }
        },
        "f5e9de2756874ce0b3f344aa154a6b77": {
          "model_module": "@jupyter-widgets/base",
          "model_module_version": "1.2.0",
          "model_name": "LayoutModel",
          "state": {
            "_model_module": "@jupyter-widgets/base",
            "_model_module_version": "1.2.0",
            "_model_name": "LayoutModel",
            "_view_count": null,
            "_view_module": "@jupyter-widgets/base",
            "_view_module_version": "1.2.0",
            "_view_name": "LayoutView",
            "align_content": null,
            "align_items": null,
            "align_self": null,
            "border": null,
            "bottom": null,
            "display": null,
            "flex": null,
            "flex_flow": null,
            "grid_area": null,
            "grid_auto_columns": null,
            "grid_auto_flow": null,
            "grid_auto_rows": null,
            "grid_column": null,
            "grid_gap": null,
            "grid_row": null,
            "grid_template_areas": null,
            "grid_template_columns": null,
            "grid_template_rows": null,
            "height": null,
            "justify_content": null,
            "justify_items": null,
            "left": null,
            "margin": null,
            "max_height": null,
            "max_width": null,
            "min_height": null,
            "min_width": null,
            "object_fit": null,
            "object_position": null,
            "order": null,
            "overflow": null,
            "overflow_x": null,
            "overflow_y": null,
            "padding": null,
            "right": null,
            "top": null,
            "visibility": null,
            "width": null
          }
        },
        "f71cc59d82b84d04b9ea2f37b6ac92ff": {
          "model_module": "@jupyter-widgets/base",
          "model_module_version": "1.2.0",
          "model_name": "LayoutModel",
          "state": {
            "_model_module": "@jupyter-widgets/base",
            "_model_module_version": "1.2.0",
            "_model_name": "LayoutModel",
            "_view_count": null,
            "_view_module": "@jupyter-widgets/base",
            "_view_module_version": "1.2.0",
            "_view_name": "LayoutView",
            "align_content": null,
            "align_items": null,
            "align_self": null,
            "border": null,
            "bottom": null,
            "display": null,
            "flex": null,
            "flex_flow": null,
            "grid_area": null,
            "grid_auto_columns": null,
            "grid_auto_flow": null,
            "grid_auto_rows": null,
            "grid_column": null,
            "grid_gap": null,
            "grid_row": null,
            "grid_template_areas": null,
            "grid_template_columns": null,
            "grid_template_rows": null,
            "height": null,
            "justify_content": null,
            "justify_items": null,
            "left": null,
            "margin": null,
            "max_height": null,
            "max_width": null,
            "min_height": null,
            "min_width": null,
            "object_fit": null,
            "object_position": null,
            "order": null,
            "overflow": null,
            "overflow_x": null,
            "overflow_y": null,
            "padding": null,
            "right": null,
            "top": null,
            "visibility": null,
            "width": null
          }
        },
        "f7c424dfb68b425e884e0d5788704650": {
          "model_module": "@jupyter-widgets/controls",
          "model_module_version": "1.5.0",
          "model_name": "DescriptionStyleModel",
          "state": {
            "_model_module": "@jupyter-widgets/controls",
            "_model_module_version": "1.5.0",
            "_model_name": "DescriptionStyleModel",
            "_view_count": null,
            "_view_module": "@jupyter-widgets/base",
            "_view_module_version": "1.2.0",
            "_view_name": "StyleView",
            "description_width": ""
          }
        },
        "fae0d069a1fb47da95fc19741f592b26": {
          "model_module": "@jupyter-widgets/base",
          "model_module_version": "1.2.0",
          "model_name": "LayoutModel",
          "state": {
            "_model_module": "@jupyter-widgets/base",
            "_model_module_version": "1.2.0",
            "_model_name": "LayoutModel",
            "_view_count": null,
            "_view_module": "@jupyter-widgets/base",
            "_view_module_version": "1.2.0",
            "_view_name": "LayoutView",
            "align_content": null,
            "align_items": null,
            "align_self": null,
            "border": null,
            "bottom": null,
            "display": null,
            "flex": null,
            "flex_flow": null,
            "grid_area": null,
            "grid_auto_columns": null,
            "grid_auto_flow": null,
            "grid_auto_rows": null,
            "grid_column": null,
            "grid_gap": null,
            "grid_row": null,
            "grid_template_areas": null,
            "grid_template_columns": null,
            "grid_template_rows": null,
            "height": null,
            "justify_content": null,
            "justify_items": null,
            "left": null,
            "margin": null,
            "max_height": null,
            "max_width": null,
            "min_height": null,
            "min_width": null,
            "object_fit": null,
            "object_position": null,
            "order": null,
            "overflow": null,
            "overflow_x": null,
            "overflow_y": null,
            "padding": null,
            "right": null,
            "top": null,
            "visibility": null,
            "width": null
          }
        },
        "ff695842786c456a91c69f845bf47aca": {
          "model_module": "@jupyter-widgets/base",
          "model_module_version": "1.2.0",
          "model_name": "LayoutModel",
          "state": {
            "_model_module": "@jupyter-widgets/base",
            "_model_module_version": "1.2.0",
            "_model_name": "LayoutModel",
            "_view_count": null,
            "_view_module": "@jupyter-widgets/base",
            "_view_module_version": "1.2.0",
            "_view_name": "LayoutView",
            "align_content": null,
            "align_items": null,
            "align_self": null,
            "border": null,
            "bottom": null,
            "display": null,
            "flex": null,
            "flex_flow": null,
            "grid_area": null,
            "grid_auto_columns": null,
            "grid_auto_flow": null,
            "grid_auto_rows": null,
            "grid_column": null,
            "grid_gap": null,
            "grid_row": null,
            "grid_template_areas": null,
            "grid_template_columns": null,
            "grid_template_rows": null,
            "height": null,
            "justify_content": null,
            "justify_items": null,
            "left": null,
            "margin": null,
            "max_height": null,
            "max_width": null,
            "min_height": null,
            "min_width": null,
            "object_fit": null,
            "object_position": null,
            "order": null,
            "overflow": null,
            "overflow_x": null,
            "overflow_y": null,
            "padding": null,
            "right": null,
            "top": null,
            "visibility": null,
            "width": null
          }
        }
      }
    }
  },
  "nbformat": 4,
  "nbformat_minor": 0
}
